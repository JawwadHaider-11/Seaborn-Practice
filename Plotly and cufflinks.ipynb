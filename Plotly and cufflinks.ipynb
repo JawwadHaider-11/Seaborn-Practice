{
 "cells": [
  {
   "cell_type": "markdown",
   "metadata": {},
   "source": [
    "# Plotly and Cufflinks"
   ]
  },
  {
   "cell_type": "code",
   "execution_count": 15,
   "metadata": {},
   "outputs": [],
   "source": [
    "import pandas as pd\n",
    "import numpy as np\n",
    "%matplotlib inline"
   ]
  },
  {
   "cell_type": "code",
   "execution_count": 3,
   "metadata": {},
   "outputs": [],
   "source": [
    "from plotly import __version__"
   ]
  },
  {
   "cell_type": "code",
   "execution_count": 4,
   "metadata": {},
   "outputs": [
    {
     "name": "stdout",
     "output_type": "stream",
     "text": [
      "4.5.3\n"
     ]
    }
   ],
   "source": [
    "print(__version__)"
   ]
  },
  {
   "cell_type": "code",
   "execution_count": 5,
   "metadata": {},
   "outputs": [],
   "source": [
    "import cufflinks as cf"
   ]
  },
  {
   "cell_type": "code",
   "execution_count": 6,
   "metadata": {},
   "outputs": [],
   "source": [
    "from plotly.offline import download_plotlyjs,init_notebook_mode,plot,iplot"
   ]
  },
  {
   "cell_type": "code",
   "execution_count": 7,
   "metadata": {},
   "outputs": [
    {
     "data": {
      "text/html": [
       "        <script type=\"text/javascript\">\n",
       "        window.PlotlyConfig = {MathJaxConfig: 'local'};\n",
       "        if (window.MathJax) {MathJax.Hub.Config({SVG: {font: \"STIX-Web\"}});}\n",
       "        if (typeof require !== 'undefined') {\n",
       "        require.undef(\"plotly\");\n",
       "        requirejs.config({\n",
       "            paths: {\n",
       "                'plotly': ['https://cdn.plot.ly/plotly-latest.min']\n",
       "            }\n",
       "        });\n",
       "        require(['plotly'], function(Plotly) {\n",
       "            window._Plotly = Plotly;\n",
       "        });\n",
       "        }\n",
       "        </script>\n",
       "        "
      ]
     },
     "metadata": {},
     "output_type": "display_data"
    }
   ],
   "source": [
    "init_notebook_mode(connected=True)"
   ]
  },
  {
   "cell_type": "code",
   "execution_count": 8,
   "metadata": {},
   "outputs": [
    {
     "data": {
      "text/html": [
       "        <script type=\"text/javascript\">\n",
       "        window.PlotlyConfig = {MathJaxConfig: 'local'};\n",
       "        if (window.MathJax) {MathJax.Hub.Config({SVG: {font: \"STIX-Web\"}});}\n",
       "        if (typeof require !== 'undefined') {\n",
       "        require.undef(\"plotly\");\n",
       "        requirejs.config({\n",
       "            paths: {\n",
       "                'plotly': ['https://cdn.plot.ly/plotly-latest.min']\n",
       "            }\n",
       "        });\n",
       "        require(['plotly'], function(Plotly) {\n",
       "            window._Plotly = Plotly;\n",
       "        });\n",
       "        }\n",
       "        </script>\n",
       "        "
      ]
     },
     "metadata": {},
     "output_type": "display_data"
    }
   ],
   "source": [
    "cf.go_offline()"
   ]
  },
  {
   "cell_type": "code",
   "execution_count": 10,
   "metadata": {},
   "outputs": [],
   "source": [
    "df = pd.DataFrame(np.random.randn(100,4),columns='A B C D'.split())"
   ]
  },
  {
   "cell_type": "code",
   "execution_count": 11,
   "metadata": {},
   "outputs": [
    {
     "data": {
      "text/html": [
       "<div>\n",
       "<style scoped>\n",
       "    .dataframe tbody tr th:only-of-type {\n",
       "        vertical-align: middle;\n",
       "    }\n",
       "\n",
       "    .dataframe tbody tr th {\n",
       "        vertical-align: top;\n",
       "    }\n",
       "\n",
       "    .dataframe thead th {\n",
       "        text-align: right;\n",
       "    }\n",
       "</style>\n",
       "<table border=\"1\" class=\"dataframe\">\n",
       "  <thead>\n",
       "    <tr style=\"text-align: right;\">\n",
       "      <th></th>\n",
       "      <th>A</th>\n",
       "      <th>B</th>\n",
       "      <th>C</th>\n",
       "      <th>D</th>\n",
       "    </tr>\n",
       "  </thead>\n",
       "  <tbody>\n",
       "    <tr>\n",
       "      <th>0</th>\n",
       "      <td>0.058230</td>\n",
       "      <td>-0.815911</td>\n",
       "      <td>0.438716</td>\n",
       "      <td>2.201871</td>\n",
       "    </tr>\n",
       "    <tr>\n",
       "      <th>1</th>\n",
       "      <td>-0.025845</td>\n",
       "      <td>-1.929941</td>\n",
       "      <td>1.447333</td>\n",
       "      <td>-0.119192</td>\n",
       "    </tr>\n",
       "    <tr>\n",
       "      <th>2</th>\n",
       "      <td>0.002333</td>\n",
       "      <td>-0.036574</td>\n",
       "      <td>0.687411</td>\n",
       "      <td>-0.649115</td>\n",
       "    </tr>\n",
       "    <tr>\n",
       "      <th>3</th>\n",
       "      <td>1.148175</td>\n",
       "      <td>-1.097421</td>\n",
       "      <td>-0.318304</td>\n",
       "      <td>-1.094032</td>\n",
       "    </tr>\n",
       "    <tr>\n",
       "      <th>4</th>\n",
       "      <td>0.246137</td>\n",
       "      <td>1.052197</td>\n",
       "      <td>-0.538838</td>\n",
       "      <td>1.306481</td>\n",
       "    </tr>\n",
       "  </tbody>\n",
       "</table>\n",
       "</div>"
      ],
      "text/plain": [
       "          A         B         C         D\n",
       "0  0.058230 -0.815911  0.438716  2.201871\n",
       "1 -0.025845 -1.929941  1.447333 -0.119192\n",
       "2  0.002333 -0.036574  0.687411 -0.649115\n",
       "3  1.148175 -1.097421 -0.318304 -1.094032\n",
       "4  0.246137  1.052197 -0.538838  1.306481"
      ]
     },
     "execution_count": 11,
     "metadata": {},
     "output_type": "execute_result"
    }
   ],
   "source": [
    "df.head()"
   ]
  },
  {
   "cell_type": "code",
   "execution_count": 12,
   "metadata": {},
   "outputs": [],
   "source": [
    "df2 = pd.DataFrame({'Category':['a','b','c'],'Values':[42,35,54]})"
   ]
  },
  {
   "cell_type": "code",
   "execution_count": 14,
   "metadata": {},
   "outputs": [
    {
     "data": {
      "text/html": [
       "<div>\n",
       "<style scoped>\n",
       "    .dataframe tbody tr th:only-of-type {\n",
       "        vertical-align: middle;\n",
       "    }\n",
       "\n",
       "    .dataframe tbody tr th {\n",
       "        vertical-align: top;\n",
       "    }\n",
       "\n",
       "    .dataframe thead th {\n",
       "        text-align: right;\n",
       "    }\n",
       "</style>\n",
       "<table border=\"1\" class=\"dataframe\">\n",
       "  <thead>\n",
       "    <tr style=\"text-align: right;\">\n",
       "      <th></th>\n",
       "      <th>Category</th>\n",
       "      <th>Values</th>\n",
       "    </tr>\n",
       "  </thead>\n",
       "  <tbody>\n",
       "    <tr>\n",
       "      <th>0</th>\n",
       "      <td>a</td>\n",
       "      <td>42</td>\n",
       "    </tr>\n",
       "    <tr>\n",
       "      <th>1</th>\n",
       "      <td>b</td>\n",
       "      <td>35</td>\n",
       "    </tr>\n",
       "    <tr>\n",
       "      <th>2</th>\n",
       "      <td>c</td>\n",
       "      <td>54</td>\n",
       "    </tr>\n",
       "  </tbody>\n",
       "</table>\n",
       "</div>"
      ],
      "text/plain": [
       "  Category  Values\n",
       "0        a      42\n",
       "1        b      35\n",
       "2        c      54"
      ]
     },
     "execution_count": 14,
     "metadata": {},
     "output_type": "execute_result"
    }
   ],
   "source": [
    "df2.head()"
   ]
  },
  {
   "cell_type": "code",
   "execution_count": 16,
   "metadata": {},
   "outputs": [
    {
     "data": {
      "text/plain": [
       "<matplotlib.axes._subplots.AxesSubplot at 0x2cd7056cc88>"
      ]
     },
     "execution_count": 16,
     "metadata": {},
     "output_type": "execute_result"
    },
    {
     "data": {
      "image/png": "[encoded data removed]",
      "text/plain": [
       "<Figure size 432x288 with 1 Axes>"
      ]
     },
     "metadata": {},
     "output_type": "display_data"
    }
   ],
   "source": [
    "df.plot()"
   ]
  },
  {
   "cell_type": "code",
   "execution_count": 17,
   "metadata": {},
   "outputs": [
    {
     "data": {
      "application/vnd.plotly.v1+json": {
       "config": {
        "linkText": "Export to plot.ly",
        "plotlyServerURL": "https://plot.ly",
        "showLink": true
       },
       "data": [
        {
         "line": {
          "color": "rgba(255, 153, 51, 1.0)",
          "dash": "solid",
          "shape": "linear",
          "width": 1.3
         },
         "mode": "lines",
         "name": "A",
         "text": "",
         "type": "scatter",
         "x": [
          0,
          1,
          2,
          3,
          4,
          5,
          6,
          7,
          8,
          9,
          10,
          11,
          12,
          13,
          14,
          15,
          16,
          17,
          18,
          19,
          20,
          21,
          22,
          23,
          24,
          25,
          26,
          27,
          28,
          29,
          30,
          31,
          32,
          33,
          34,
          35,
          36,
          37,
          38,
          39,
          40,
          41,
          42,
          43,
          44,
          45,
          46,
          47,
          48,
          49,
          50,
          51,
          52,
          53,
          54,
          55,
          56,
          57,
          58,
          59,
          60,
          61,
          62,
          63,
          64,
          65,
          66,
          67,
          68,
          69,
          70,
          71,
          72,
          73,
          74,
          75,
          76,
          77,
          78,
          79,
          80,
          81,
          82,
          83,
          84,
          85,
          86,
          87,
          88,
          89,
          90,
          91,
          92,
          93,
          94,
          95,
          96,
          97,
          98,
          99
         ],
         "y": [
          0.0582296909058791,
          -0.02584525376380703,
          0.00233282809989629,
          1.1481746239450044,
          0.24613651723675956,
          -1.0638018398599103,
          -0.21304176589290522,
          -0.8877953781238356,
          0.2408920641467541,
          -0.8396975894960268,
          2.0132202407596353,
          -1.8360206750556003,
          -0.2517700023746602,
          -1.4502799812552967,
          0.4152057826772664,
          -0.8998644155235899,
          0.5982440600673362,
          -0.9759069692250059,
          -1.1973876247754691,
          0.5577122833829123,
          2.310315783202372,
          -1.7961940534317489,
          -0.6572397260969888,
          -1.3376421186203706,
          1.0608517587708919,
          -2.259894369695355,
          1.4606925940258704,
          1.8907728427394275,
          -0.3043119428357968,
          1.9881857367303992,
          0.3901698887479151,
          1.3241022911963933,
          1.0959833079431376,
          -1.2734420037321217,
          -1.3216363381573888,
          0.834565478861918,
          0.6299828498049981,
          2.0786395666444015,
          -1.0791936006443799,
          -1.3790272078160453,
          -1.178945530656404,
          0.22964243572651152,
          -0.029963990967407286,
          -0.43786137324103674,
          0.6356308238712179,
          0.14810106273265564,
          0.5227969542030575,
          1.0543535418382617,
          0.02211756534029964,
          -0.13560799701465331,
          -0.5525218983218556,
          -1.0196807962712457,
          -0.2607666151406072,
          -0.5602173304664195,
          -0.6492750894074405,
          -0.2556935165453845,
          -1.0771115992625304,
          -0.135328085335629,
          -0.04464422947027891,
          -1.161005405176078,
          0.3122523074359768,
          -1.6625191089294775,
          0.34194335491409344,
          0.16470959404488125,
          1.2878181748305546,
          0.5610471493377563,
          -1.444406167736111,
          0.61479147005293,
          2.7365467524952916,
          -0.6323625965306128,
          1.276169138221677,
          -0.048793811614966896,
          -0.6086730440924935,
          0.14012253128489457,
          -0.8621572953507786,
          -1.7685450434583079,
          0.45581637692557153,
          0.7050466998267874,
          0.2814153735282505,
          0.19735245724273506,
          -1.1781923319235064,
          0.38757667877441015,
          0.2906922661543077,
          -1.0313059627582548,
          0.43284154174190126,
          -0.9379419695402221,
          -0.5102362125240482,
          -0.20895028756198047,
          1.4035565803611778,
          -1.0519821869520587,
          0.11992036334528934,
          -1.2473763817788441,
          -0.9440623587862923,
          0.4649388980972195,
          0.8891091225455513,
          -0.05281339848006934,
          1.1826926725138664,
          -0.6496100176207341,
          0.3463146074175848,
          1.245054214730473
         ]
        },
        {
         "line": {
          "color": "rgba(55, 128, 191, 1.0)",
          "dash": "solid",
          "shape": "linear",
          "width": 1.3
         },
         "mode": "lines",
         "name": "B",
         "text": "",
         "type": "scatter",
         "x": [
          0,
          1,
          2,
          3,
          4,
          5,
          6,
          7,
          8,
          9,
          10,
          11,
          12,
          13,
          14,
          15,
          16,
          17,
          18,
          19,
          20,
          21,
          22,
          23,
          24,
          25,
          26,
          27,
          28,
          29,
          30,
          31,
          32,
          33,
          34,
          35,
          36,
          37,
          38,
          39,
          40,
          41,
          42,
          43,
          44,
          45,
          46,
          47,
          48,
          49,
          50,
          51,
          52,
          53,
          54,
          55,
          56,
          57,
          58,
          59,
          60,
          61,
          62,
          63,
          64,
          65,
          66,
          67,
          68,
          69,
          70,
          71,
          72,
          73,
          74,
          75,
          76,
          77,
          78,
          79,
          80,
          81,
          82,
          83,
          84,
          85,
          86,
          87,
          88,
          89,
          90,
          91,
          92,
          93,
          94,
          95,
          96,
          97,
          98,
          99
         ],
         "y": [
          -0.8159108900054555,
          -1.929941219688791,
          -0.03657417027881783,
          -1.0974209539855215,
          1.052196520858351,
          0.033822329120052425,
          1.8176801096555568,
          -0.8520932618888648,
          0.1782263123008412,
          0.6516149971522324,
          -0.1914194854642487,
          0.008657291528901528,
          -0.8148758043003251,
          -0.9471398783497236,
          -0.6061811239096245,
          1.4415241885529897,
          0.8851494166861117,
          0.20512285715425654,
          -0.7302217226826899,
          -0.31951913686424854,
          0.27231889777693935,
          -0.09697422065665619,
          -0.6649205861559219,
          0.5620367857612353,
          1.7533700715066436,
          0.6286472913776453,
          -0.7855956286751903,
          -0.15994050635267051,
          1.3518808645637923,
          -1.0154365693968737,
          -0.18050820646100885,
          0.10834646519885681,
          0.7096009539601019,
          -1.6023624543290134,
          1.9871052880616062,
          0.13645875362141854,
          -0.14633701649722333,
          0.38661791094502607,
          -0.5619435011719726,
          -0.20251346230180112,
          0.6479159809236236,
          -0.7526340518086364,
          -0.21918777663590203,
          1.0416872919367612,
          -0.6468863728671859,
          -0.44682241371939924,
          0.5847470571104231,
          1.525293780434978,
          1.6806985956288825,
          -0.40897115263895845,
          0.4807243711627144,
          0.4261709336642487,
          -0.2587232083938359,
          0.4457411507797482,
          -0.2780131113425037,
          0.6771683729554895,
          -0.49326884312164854,
          0.378732594771927,
          0.7495296141469234,
          -0.16621758439843407,
          -0.23419012280575963,
          -0.8429186547805513,
          -1.4561552722178908,
          -0.2133350041936494,
          -0.2006493898869039,
          -0.6181873825812856,
          -1.6980110048485777,
          -0.7626793020761945,
          0.3885269527655976,
          -0.46412751801116825,
          -1.0763819235680343,
          -0.502238030495814,
          -0.28576562016979584,
          0.21551527887273858,
          1.8833906902942927,
          -0.24381875320711635,
          -2.0108817352692587,
          -1.1983839198702526,
          1.4254320467638015,
          0.8872957071538016,
          0.2680860134619889,
          -0.14122802360169043,
          0.17462228023424262,
          0.47283501980558207,
          -1.5376258685767012,
          -0.9705267350254004,
          0.26336399264955324,
          -0.2400452642080898,
          1.3197311512694645,
          -0.49995857976244107,
          1.1159025551961577,
          0.3216947684974362,
          -0.06706027728631916,
          -0.5875192402723305,
          0.2673311445431004,
          1.2846262456076551,
          -0.25339170680358225,
          -0.6085930939009376,
          -1.3442330241206317,
          0.2245819379710808
         ]
        },
        {
         "line": {
          "color": "rgba(50, 171, 96, 1.0)",
          "dash": "solid",
          "shape": "linear",
          "width": 1.3
         },
         "mode": "lines",
         "name": "C",
         "text": "",
         "type": "scatter",
         "x": [
          0,
          1,
          2,
          3,
          4,
          5,
          6,
          7,
          8,
          9,
          10,
          11,
          12,
          13,
          14,
          15,
          16,
          17,
          18,
          19,
          20,
          21,
          22,
          23,
          24,
          25,
          26,
          27,
          28,
          29,
          30,
          31,
          32,
          33,
          34,
          35,
          36,
          37,
          38,
          39,
          40,
          41,
          42,
          43,
          44,
          45,
          46,
          47,
          48,
          49,
          50,
          51,
          52,
          53,
          54,
          55,
          56,
          57,
          58,
          59,
          60,
          61,
          62,
          63,
          64,
          65,
          66,
          67,
          68,
          69,
          70,
          71,
          72,
          73,
          74,
          75,
          76,
          77,
          78,
          79,
          80,
          81,
          82,
          83,
          84,
          85,
          86,
          87,
          88,
          89,
          90,
          91,
          92,
          93,
          94,
          95,
          96,
          97,
          98,
          99
         ],
         "y": [
          0.43871609511090787,
          1.4473330691369668,
          0.6874111683344055,
          -0.31830361917415323,
          -0.5388382120744102,
          1.1472562118002556,
          0.3108509723492838,
          -1.3504297177585811,
          -0.14717944001590125,
          -1.0161980003072821,
          1.3184133201786352,
          -0.8948859154766784,
          0.8063427125028101,
          0.9860023990235437,
          0.43278295758782576,
          -0.3383168473212901,
          0.7828525506565561,
          0.32430811014547267,
          -0.18366489259377278,
          -1.332807951441942,
          0.5855231884301786,
          -1.49399951258357,
          1.2729131978144108,
          0.4707613042946522,
          -0.15732217966894335,
          -0.17112350219909944,
          0.5150453019363858,
          -0.09683419800777998,
          -1.15464030183148,
          -0.7066758730513744,
          -2.043606659974553,
          -1.1509322374051534,
          0.025658807784838335,
          1.4898157970226003,
          -0.0694685513661873,
          -0.49791651474279414,
          -0.2308514320585353,
          -0.6633259576742246,
          -0.9314528895000233,
          0.09268399022199766,
          1.0546179913330427,
          0.3788253128204955,
          -0.45268150440564836,
          1.0874294053375568,
          -0.34893154879565674,
          1.8290703884373203,
          1.5101181036839537,
          1.037309456079722,
          0.3829273390259377,
          -0.8115479160466885,
          0.2280149619931508,
          -0.07314365291412171,
          1.5185510594580172,
          0.38025651373434205,
          -0.31398670655601696,
          0.23485782245543066,
          1.1932516814328331,
          0.7988138783475844,
          1.66087199827985,
          -0.6170009187598181,
          -0.7119327765997175,
          -0.11955345486924777,
          -0.1193429287162214,
          -0.12603845313457776,
          0.39552766114983606,
          -2.444805418961324,
          -1.8397723832514499,
          0.4039665619307871,
          -0.06783876623717149,
          -1.2309948870786396,
          0.5080633094564294,
          0.42442792825012743,
          -0.7768402727229322,
          -0.4146941899464075,
          -0.2628708720580322,
          1.4093531835016053,
          -0.4842787587197417,
          -0.3086872018435643,
          0.5792988275599643,
          0.0558835015664736,
          -0.12724666807294763,
          -1.1301366568389613,
          -0.4086617935908518,
          -1.1272226118648105,
          0.7706661363871762,
          -0.9247291559968152,
          -1.0955838666800826,
          2.8036692006315556,
          -0.9094835797650551,
          1.5471447420104867,
          0.38896465749503334,
          -1.0990917939504126,
          0.7516162725463826,
          0.5370950423084296,
          0.304979022360758,
          -0.13901930820177436,
          1.0047496987928615,
          -1.5709449363201675,
          0.42863972150130747,
          -0.33579753215298636
         ]
        },
        {
         "line": {
          "color": "rgba(128, 0, 128, 1.0)",
          "dash": "solid",
          "shape": "linear",
          "width": 1.3
         },
         "mode": "lines",
         "name": "D",
         "text": "",
         "type": "scatter",
         "x": [
          0,
          1,
          2,
          3,
          4,
          5,
          6,
          7,
          8,
          9,
          10,
          11,
          12,
          13,
          14,
          15,
          16,
          17,
          18,
          19,
          20,
          21,
          22,
          23,
          24,
          25,
          26,
          27,
          28,
          29,
          30,
          31,
          32,
          33,
          34,
          35,
          36,
          37,
          38,
          39,
          40,
          41,
          42,
          43,
          44,
          45,
          46,
          47,
          48,
          49,
          50,
          51,
          52,
          53,
          54,
          55,
          56,
          57,
          58,
          59,
          60,
          61,
          62,
          63,
          64,
          65,
          66,
          67,
          68,
          69,
          70,
          71,
          72,
          73,
          74,
          75,
          76,
          77,
          78,
          79,
          80,
          81,
          82,
          83,
          84,
          85,
          86,
          87,
          88,
          89,
          90,
          91,
          92,
          93,
          94,
          95,
          96,
          97,
          98,
          99
         ],
         "y": [
          2.201870845090954,
          -0.11919198952453913,
          -0.6491147989395194,
          -1.0940323419087372,
          1.3064805387565284,
          1.0053933644146675,
          -1.1468493721755817,
          0.43702934200597154,
          -1.5708817313388244,
          -0.30228893508853805,
          -0.5452580360626557,
          -0.6639695116112655,
          -0.7955940426938466,
          -1.6467518219836184,
          0.2809329436516192,
          0.14816821598707555,
          -0.4569463150690023,
          0.04102322118889885,
          -0.7803672256411665,
          -1.697062848956333,
          1.3222147203484962,
          -0.6493948068909241,
          0.020214620878222216,
          -0.9785074303145862,
          0.24463538527559575,
          0.21899280568001356,
          0.8289256885409623,
          -0.9661404506426933,
          1.0709167568846587,
          -2.1446864458641937,
          0.7126038142063271,
          0.8037657660529335,
          -1.0438570754660648,
          -2.1764801619754595,
          1.0065744258730616,
          -1.7085546146187438,
          1.6157853000776756,
          -0.24005886773007004,
          0.06041741995551127,
          -1.9754554368134523,
          -0.130103722338268,
          -1.9289900950205006,
          -0.20432004986579816,
          0.7844358300465218,
          -0.01648696797537042,
          -1.0990716369251219,
          -1.1203384263813874,
          -0.5298781553667351,
          -0.25166010107420206,
          -0.10803187499062224,
          0.9720371690989861,
          0.14084278106626988,
          0.958340609712445,
          1.139130689135666,
          0.6121010152679732,
          1.1702006779163139,
          3.438950303702981,
          -0.014582542305240784,
          0.8969948486842586,
          -0.2847005272765262,
          -1.294676153711721,
          0.1659703625257675,
          -1.4039308452256145,
          -0.8682886248582745,
          1.2273913987468628,
          -0.21245180779807538,
          -0.5573543417006175,
          -0.04325035409627915,
          -0.3782549331129301,
          -0.8676228692532127,
          -0.8943592217689184,
          -1.0963084188028802,
          -0.19948952305435813,
          0.04615393001258242,
          0.3963388838875445,
          -1.1901818013837535,
          -0.42342500377745523,
          1.6854298977467543,
          1.5202474035952782,
          1.5642876877114285,
          2.783931915616514,
          -1.0969162983690433,
          -0.10200943946234767,
          0.7458397850902051,
          -1.0361207524087017,
          2.2613414374373075,
          -0.9658009592653757,
          1.1048347049010612,
          -0.5491332908200294,
          -0.03513322127822818,
          0.8502999061377614,
          -0.11253047805429914,
          0.888899794382401,
          -0.39557630308169334,
          1.8346182851644055,
          0.4963586915785833,
          -0.8857741719895674,
          1.6585853035436051,
          -0.018411933912376614,
          -1.080819440204162
         ]
        }
       ],
       "layout": {
        "legend": {
         "bgcolor": "#F5F6F9",
         "font": {
          "color": "#4D5663"
         }
        },
        "paper_bgcolor": "#F5F6F9",
        "plot_bgcolor": "#F5F6F9",
        "template": {
         "data": {
          "bar": [
           {
            "error_x": {
             "color": "#2a3f5f"
            },
            "error_y": {
             "color": "#2a3f5f"
            },
            "marker": {
             "line": {
              "color": "#E5ECF6",
              "width": 0.5
             }
            },
            "type": "bar"
           }
          ],
          "barpolar": [
           {
            "marker": {
             "line": {
              "color": "#E5ECF6",
              "width": 0.5
             }
            },
            "type": "barpolar"
           }
          ],
          "carpet": [
           {
            "aaxis": {
             "endlinecolor": "#2a3f5f",
             "gridcolor": "white",
             "linecolor": "white",
             "minorgridcolor": "white",
             "startlinecolor": "#2a3f5f"
            },
            "baxis": {
             "endlinecolor": "#2a3f5f",
             "gridcolor": "white",
             "linecolor": "white",
             "minorgridcolor": "white",
             "startlinecolor": "#2a3f5f"
            },
            "type": "carpet"
           }
          ],
          "choropleth": [
           {
            "colorbar": {
             "outlinewidth": 0,
             "ticks": ""
            },
            "type": "choropleth"
           }
          ],
          "contour": [
           {
            "colorbar": {
             "outlinewidth": 0,
             "ticks": ""
            },
            "colorscale": [
             [
              0,
              "#0d0887"
             ],
             [
              0.1111111111111111,
              "#46039f"
             ],
             [
              0.2222222222222222,
              "#7201a8"
             ],
             [
              0.3333333333333333,
              "#9c179e"
             ],
             [
              0.4444444444444444,
              "#bd3786"
             ],
             [
              0.5555555555555556,
              "#d8576b"
             ],
             [
              0.6666666666666666,
              "#ed7953"
             ],
             [
              0.7777777777777778,
              "#fb9f3a"
             ],
             [
              0.8888888888888888,
              "#fdca26"
             ],
             [
              1,
              "#f0f921"
             ]
            ],
            "type": "contour"
           }
          ],
          "contourcarpet": [
           {
            "colorbar": {
             "outlinewidth": 0,
             "ticks": ""
            },
            "type": "contourcarpet"
           }
          ],
          "heatmap": [
           {
            "colorbar": {
             "outlinewidth": 0,
             "ticks": ""
            },
            "colorscale": [
             [
              0,
              "#0d0887"
             ],
             [
              0.1111111111111111,
              "#46039f"
             ],
             [
              0.2222222222222222,
              "#7201a8"
             ],
             [
              0.3333333333333333,
              "#9c179e"
             ],
             [
              0.4444444444444444,
              "#bd3786"
             ],
             [
              0.5555555555555556,
              "#d8576b"
             ],
             [
              0.6666666666666666,
              "#ed7953"
             ],
             [
              0.7777777777777778,
              "#fb9f3a"
             ],
             [
              0.8888888888888888,
              "#fdca26"
             ],
             [
              1,
              "#f0f921"
             ]
            ],
            "type": "heatmap"
           }
          ],
          "heatmapgl": [
           {
            "colorbar": {
             "outlinewidth": 0,
             "ticks": ""
            },
            "colorscale": [
             [
              0,
              "#0d0887"
             ],
             [
              0.1111111111111111,
              "#46039f"
             ],
             [
              0.2222222222222222,
              "#7201a8"
             ],
             [
              0.3333333333333333,
              "#9c179e"
             ],
             [
              0.4444444444444444,
              "#bd3786"
             ],
             [
              0.5555555555555556,
              "#d8576b"
             ],
             [
              0.6666666666666666,
              "#ed7953"
             ],
             [
              0.7777777777777778,
              "#fb9f3a"
             ],
             [
              0.8888888888888888,
              "#fdca26"
             ],
             [
              1,
              "#f0f921"
             ]
            ],
            "type": "heatmapgl"
           }
          ],
          "histogram": [
           {
            "marker": {
             "colorbar": {
              "outlinewidth": 0,
              "ticks": ""
             }
            },
            "type": "histogram"
           }
          ],
          "histogram2d": [
           {
            "colorbar": {
             "outlinewidth": 0,
             "ticks": ""
            },
            "colorscale": [
             [
              0,
              "#0d0887"
             ],
             [
              0.1111111111111111,
              "#46039f"
             ],
             [
              0.2222222222222222,
              "#7201a8"
             ],
             [
              0.3333333333333333,
              "#9c179e"
             ],
             [
              0.4444444444444444,
              "#bd3786"
             ],
             [
              0.5555555555555556,
              "#d8576b"
             ],
             [
              0.6666666666666666,
              "#ed7953"
             ],
             [
              0.7777777777777778,
              "#fb9f3a"
             ],
             [
              0.8888888888888888,
              "#fdca26"
             ],
             [
              1,
              "#f0f921"
             ]
            ],
            "type": "histogram2d"
           }
          ],
          "histogram2dcontour": [
           {
            "colorbar": {
             "outlinewidth": 0,
             "ticks": ""
            },
            "colorscale": [
             [
              0,
              "#0d0887"
             ],
             [
              0.1111111111111111,
              "#46039f"
             ],
             [
              0.2222222222222222,
              "#7201a8"
             ],
             [
              0.3333333333333333,
              "#9c179e"
             ],
             [
              0.4444444444444444,
              "#bd3786"
             ],
             [
              0.5555555555555556,
              "#d8576b"
             ],
             [
              0.6666666666666666,
              "#ed7953"
             ],
             [
              0.7777777777777778,
              "#fb9f3a"
             ],
             [
              0.8888888888888888,
              "#fdca26"
             ],
             [
              1,
              "#f0f921"
             ]
            ],
            "type": "histogram2dcontour"
           }
          ],
          "mesh3d": [
           {
            "colorbar": {
             "outlinewidth": 0,
             "ticks": ""
            },
            "type": "mesh3d"
           }
          ],
          "parcoords": [
           {
            "line": {
             "colorbar": {
              "outlinewidth": 0,
              "ticks": ""
             }
            },
            "type": "parcoords"
           }
          ],
          "pie": [
           {
            "automargin": true,
            "type": "pie"
           }
          ],
          "scatter": [
           {
            "marker": {
             "colorbar": {
              "outlinewidth": 0,
              "ticks": ""
             }
            },
            "type": "scatter"
           }
          ],
          "scatter3d": [
           {
            "line": {
             "colorbar": {
              "outlinewidth": 0,
              "ticks": ""
             }
            },
            "marker": {
             "colorbar": {
              "outlinewidth": 0,
              "ticks": ""
             }
            },
            "type": "scatter3d"
           }
          ],
          "scattercarpet": [
           {
            "marker": {
             "colorbar": {
              "outlinewidth": 0,
              "ticks": ""
             }
            },
            "type": "scattercarpet"
           }
          ],
          "scattergeo": [
           {
            "marker": {
             "colorbar": {
              "outlinewidth": 0,
              "ticks": ""
             }
            },
            "type": "scattergeo"
           }
          ],
          "scattergl": [
           {
            "marker": {
             "colorbar": {
              "outlinewidth": 0,
              "ticks": ""
             }
            },
            "type": "scattergl"
           }
          ],
          "scattermapbox": [
           {
            "marker": {
             "colorbar": {
              "outlinewidth": 0,
              "ticks": ""
             }
            },
            "type": "scattermapbox"
           }
          ],
          "scatterpolar": [
           {
            "marker": {
             "colorbar": {
              "outlinewidth": 0,
              "ticks": ""
             }
            },
            "type": "scatterpolar"
           }
          ],
          "scatterpolargl": [
           {
            "marker": {
             "colorbar": {
              "outlinewidth": 0,
              "ticks": ""
             }
            },
            "type": "scatterpolargl"
           }
          ],
          "scatterternary": [
           {
            "marker": {
             "colorbar": {
              "outlinewidth": 0,
              "ticks": ""
             }
            },
            "type": "scatterternary"
           }
          ],
          "surface": [
           {
            "colorbar": {
             "outlinewidth": 0,
             "ticks": ""
            },
            "colorscale": [
             [
              0,
              "#0d0887"
             ],
             [
              0.1111111111111111,
              "#46039f"
             ],
             [
              0.2222222222222222,
              "#7201a8"
             ],
             [
              0.3333333333333333,
              "#9c179e"
             ],
             [
              0.4444444444444444,
              "#bd3786"
             ],
             [
              0.5555555555555556,
              "#d8576b"
             ],
             [
              0.6666666666666666,
              "#ed7953"
             ],
             [
              0.7777777777777778,
              "#fb9f3a"
             ],
             [
              0.8888888888888888,
              "#fdca26"
             ],
             [
              1,
              "#f0f921"
             ]
            ],
            "type": "surface"
           }
          ],
          "table": [
           {
            "cells": {
             "fill": {
              "color": "#EBF0F8"
             },
             "line": {
              "color": "white"
             }
            },
            "header": {
             "fill": {
              "color": "#C8D4E3"
             },
             "line": {
              "color": "white"
             }
            },
            "type": "table"
           }
          ]
         },
         "layout": {
          "annotationdefaults": {
           "arrowcolor": "#2a3f5f",
           "arrowhead": 0,
           "arrowwidth": 1
          },
          "coloraxis": {
           "colorbar": {
            "outlinewidth": 0,
            "ticks": ""
           }
          },
          "colorscale": {
           "diverging": [
            [
             0,
             "#8e0152"
            ],
            [
             0.1,
             "#c51b7d"
            ],
            [
             0.2,
             "#de77ae"
            ],
            [
             0.3,
             "#f1b6da"
            ],
            [
             0.4,
             "#fde0ef"
            ],
            [
             0.5,
             "#f7f7f7"
            ],
            [
             0.6,
             "#e6f5d0"
            ],
            [
             0.7,
             "#b8e186"
            ],
            [
             0.8,
             "#7fbc41"
            ],
            [
             0.9,
             "#4d9221"
            ],
            [
             1,
             "#276419"
            ]
           ],
           "sequential": [
            [
             0,
             "#0d0887"
            ],
            [
             0.1111111111111111,
             "#46039f"
            ],
            [
             0.2222222222222222,
             "#7201a8"
            ],
            [
             0.3333333333333333,
             "#9c179e"
            ],
            [
             0.4444444444444444,
             "#bd3786"
            ],
            [
             0.5555555555555556,
             "#d8576b"
            ],
            [
             0.6666666666666666,
             "#ed7953"
            ],
            [
             0.7777777777777778,
             "#fb9f3a"
            ],
            [
             0.8888888888888888,
             "#fdca26"
            ],
            [
             1,
             "#f0f921"
            ]
           ],
           "sequentialminus": [
            [
             0,
             "#0d0887"
            ],
            [
             0.1111111111111111,
             "#46039f"
            ],
            [
             0.2222222222222222,
             "#7201a8"
            ],
            [
             0.3333333333333333,
             "#9c179e"
            ],
            [
             0.4444444444444444,
             "#bd3786"
            ],
            [
             0.5555555555555556,
             "#d8576b"
            ],
            [
             0.6666666666666666,
             "#ed7953"
            ],
            [
             0.7777777777777778,
             "#fb9f3a"
            ],
            [
             0.8888888888888888,
             "#fdca26"
            ],
            [
             1,
             "#f0f921"
            ]
           ]
          },
          "colorway": [
           "#636efa",
           "#EF553B",
           "#00cc96",
           "#ab63fa",
           "#FFA15A",
           "#19d3f3",
           "#FF6692",
           "#B6E880",
           "#FF97FF",
           "#FECB52"
          ],
          "font": {
           "color": "#2a3f5f"
          },
          "geo": {
           "bgcolor": "white",
           "lakecolor": "white",
           "landcolor": "#E5ECF6",
           "showlakes": true,
           "showland": true,
           "subunitcolor": "white"
          },
          "hoverlabel": {
           "align": "left"
          },
          "hovermode": "closest",
          "mapbox": {
           "style": "light"
          },
          "paper_bgcolor": "white",
          "plot_bgcolor": "#E5ECF6",
          "polar": {
           "angularaxis": {
            "gridcolor": "white",
            "linecolor": "white",
            "ticks": ""
           },
           "bgcolor": "#E5ECF6",
           "radialaxis": {
            "gridcolor": "white",
            "linecolor": "white",
            "ticks": ""
           }
          },
          "scene": {
           "xaxis": {
            "backgroundcolor": "#E5ECF6",
            "gridcolor": "white",
            "gridwidth": 2,
            "linecolor": "white",
            "showbackground": true,
            "ticks": "",
            "zerolinecolor": "white"
           },
           "yaxis": {
            "backgroundcolor": "#E5ECF6",
            "gridcolor": "white",
            "gridwidth": 2,
            "linecolor": "white",
            "showbackground": true,
            "ticks": "",
            "zerolinecolor": "white"
           },
           "zaxis": {
            "backgroundcolor": "#E5ECF6",
            "gridcolor": "white",
            "gridwidth": 2,
            "linecolor": "white",
            "showbackground": true,
            "ticks": "",
            "zerolinecolor": "white"
           }
          },
          "shapedefaults": {
           "line": {
            "color": "#2a3f5f"
           }
          },
          "ternary": {
           "aaxis": {
            "gridcolor": "white",
            "linecolor": "white",
            "ticks": ""
           },
           "baxis": {
            "gridcolor": "white",
            "linecolor": "white",
            "ticks": ""
           },
           "bgcolor": "#E5ECF6",
           "caxis": {
            "gridcolor": "white",
            "linecolor": "white",
            "ticks": ""
           }
          },
          "title": {
           "x": 0.05
          },
          "xaxis": {
           "automargin": true,
           "gridcolor": "white",
           "linecolor": "white",
           "ticks": "",
           "title": {
            "standoff": 15
           },
           "zerolinecolor": "white",
           "zerolinewidth": 2
          },
          "yaxis": {
           "automargin": true,
           "gridcolor": "white",
           "linecolor": "white",
           "ticks": "",
           "title": {
            "standoff": 15
           },
           "zerolinecolor": "white",
           "zerolinewidth": 2
          }
         }
        },
        "title": {
         "font": {
          "color": "#4D5663"
         }
        },
        "xaxis": {
         "gridcolor": "#E1E5ED",
         "showgrid": true,
         "tickfont": {
          "color": "#4D5663"
         },
         "title": {
          "font": {
           "color": "#4D5663"
          },
          "text": ""
         },
         "zerolinecolor": "#E1E5ED"
        },
        "yaxis": {
         "gridcolor": "#E1E5ED",
         "showgrid": true,
         "tickfont": {
          "color": "#4D5663"
         },
         "title": {
          "font": {
           "color": "#4D5663"
          },
          "text": ""
         },
         "zerolinecolor": "#E1E5ED"
        }
       }
      },
      "text/html": [
       "<div>\n",
       "        \n",
       "        \n",
       "            <div id=\"50bd181e-c755-4cb8-abca-e73d83791408\" class=\"plotly-graph-div\" style=\"height:525px; width:100%;\"></div>\n",
       "            <script type=\"text/javascript\">\n",
       "                require([\"plotly\"], function(Plotly) {\n",
       "                    window.PLOTLYENV=window.PLOTLYENV || {};\n",
       "                    window.PLOTLYENV.BASE_URL='https://plot.ly';\n",
       "                    \n",
       "                if (document.getElementById(\"50bd181e-c755-4cb8-abca-e73d83791408\")) {\n",
       "                    Plotly.newPlot(\n",
       "                        '50bd181e-c755-4cb8-abca-e73d83791408',\n",
       "                        [{\"line\": {\"color\": \"rgba(255, 153, 51, 1.0)\", \"dash\": \"solid\", \"shape\": \"linear\", \"width\": 1.3}, \"mode\": \"lines\", \"name\": \"A\", \"text\": \"\", \"type\": \"scatter\", \"x\": [0, 1, 2, 3, 4, 5, 6, 7, 8, 9, 10, 11, 12, 13, 14, 15, 16, 17, 18, 19, 20, 21, 22, 23, 24, 25, 26, 27, 28, 29, 30, 31, 32, 33, 34, 35, 36, 37, 38, 39, 40, 41, 42, 43, 44, 45, 46, 47, 48, 49, 50, 51, 52, 53, 54, 55, 56, 57, 58, 59, 60, 61, 62, 63, 64, 65, 66, 67, 68, 69, 70, 71, 72, 73, 74, 75, 76, 77, 78, 79, 80, 81, 82, 83, 84, 85, 86, 87, 88, 89, 90, 91, 92, 93, 94, 95, 96, 97, 98, 99], \"y\": [0.0582296909058791, -0.02584525376380703, 0.00233282809989629, 1.1481746239450044, 0.24613651723675956, -1.0638018398599103, -0.21304176589290522, -0.8877953781238356, 0.2408920641467541, -0.8396975894960268, 2.0132202407596353, -1.8360206750556003, -0.2517700023746602, -1.4502799812552967, 0.4152057826772664, -0.8998644155235899, 0.5982440600673362, -0.9759069692250059, -1.1973876247754691, 0.5577122833829123, 2.310315783202372, -1.7961940534317489, -0.6572397260969888, -1.3376421186203706, 1.0608517587708919, -2.259894369695355, 1.4606925940258704, 1.8907728427394275, -0.3043119428357968, 1.9881857367303992, 0.3901698887479151, 1.3241022911963933, 1.0959833079431376, -1.2734420037321217, -1.3216363381573888, 0.834565478861918, 0.6299828498049981, 2.0786395666444015, -1.0791936006443799, -1.3790272078160453, -1.178945530656404, 0.22964243572651152, -0.029963990967407286, -0.43786137324103674, 0.6356308238712179, 0.14810106273265564, 0.5227969542030575, 1.0543535418382617, 0.02211756534029964, -0.13560799701465331, -0.5525218983218556, -1.0196807962712457, -0.2607666151406072, -0.5602173304664195, -0.6492750894074405, -0.2556935165453845, -1.0771115992625304, -0.135328085335629, -0.04464422947027891, -1.161005405176078, 0.3122523074359768, -1.6625191089294775, 0.34194335491409344, 0.16470959404488125, 1.2878181748305546, 0.5610471493377563, -1.444406167736111, 0.61479147005293, 2.7365467524952916, -0.6323625965306128, 1.276169138221677, -0.048793811614966896, -0.6086730440924935, 0.14012253128489457, -0.8621572953507786, -1.7685450434583079, 0.45581637692557153, 0.7050466998267874, 0.2814153735282505, 0.19735245724273506, -1.1781923319235064, 0.38757667877441015, 0.2906922661543077, -1.0313059627582548, 0.43284154174190126, -0.9379419695402221, -0.5102362125240482, -0.20895028756198047, 1.4035565803611778, -1.0519821869520587, 0.11992036334528934, -1.2473763817788441, -0.9440623587862923, 0.4649388980972195, 0.8891091225455513, -0.05281339848006934, 1.1826926725138664, -0.6496100176207341, 0.3463146074175848, 1.245054214730473]}, {\"line\": {\"color\": \"rgba(55, 128, 191, 1.0)\", \"dash\": \"solid\", \"shape\": \"linear\", \"width\": 1.3}, \"mode\": \"lines\", \"name\": \"B\", \"text\": \"\", \"type\": \"scatter\", \"x\": [0, 1, 2, 3, 4, 5, 6, 7, 8, 9, 10, 11, 12, 13, 14, 15, 16, 17, 18, 19, 20, 21, 22, 23, 24, 25, 26, 27, 28, 29, 30, 31, 32, 33, 34, 35, 36, 37, 38, 39, 40, 41, 42, 43, 44, 45, 46, 47, 48, 49, 50, 51, 52, 53, 54, 55, 56, 57, 58, 59, 60, 61, 62, 63, 64, 65, 66, 67, 68, 69, 70, 71, 72, 73, 74, 75, 76, 77, 78, 79, 80, 81, 82, 83, 84, 85, 86, 87, 88, 89, 90, 91, 92, 93, 94, 95, 96, 97, 98, 99], \"y\": [-0.8159108900054555, -1.929941219688791, -0.03657417027881783, -1.0974209539855215, 1.052196520858351, 0.033822329120052425, 1.8176801096555568, -0.8520932618888648, 0.1782263123008412, 0.6516149971522324, -0.1914194854642487, 0.008657291528901528, -0.8148758043003251, -0.9471398783497236, -0.6061811239096245, 1.4415241885529897, 0.8851494166861117, 0.20512285715425654, -0.7302217226826899, -0.31951913686424854, 0.27231889777693935, -0.09697422065665619, -0.6649205861559219, 0.5620367857612353, 1.7533700715066436, 0.6286472913776453, -0.7855956286751903, -0.15994050635267051, 1.3518808645637923, -1.0154365693968737, -0.18050820646100885, 0.10834646519885681, 0.7096009539601019, -1.6023624543290134, 1.9871052880616062, 0.13645875362141854, -0.14633701649722333, 0.38661791094502607, -0.5619435011719726, -0.20251346230180112, 0.6479159809236236, -0.7526340518086364, -0.21918777663590203, 1.0416872919367612, -0.6468863728671859, -0.44682241371939924, 0.5847470571104231, 1.525293780434978, 1.6806985956288825, -0.40897115263895845, 0.4807243711627144, 0.4261709336642487, -0.2587232083938359, 0.4457411507797482, -0.2780131113425037, 0.6771683729554895, -0.49326884312164854, 0.378732594771927, 0.7495296141469234, -0.16621758439843407, -0.23419012280575963, -0.8429186547805513, -1.4561552722178908, -0.2133350041936494, -0.2006493898869039, -0.6181873825812856, -1.6980110048485777, -0.7626793020761945, 0.3885269527655976, -0.46412751801116825, -1.0763819235680343, -0.502238030495814, -0.28576562016979584, 0.21551527887273858, 1.8833906902942927, -0.24381875320711635, -2.0108817352692587, -1.1983839198702526, 1.4254320467638015, 0.8872957071538016, 0.2680860134619889, -0.14122802360169043, 0.17462228023424262, 0.47283501980558207, -1.5376258685767012, -0.9705267350254004, 0.26336399264955324, -0.2400452642080898, 1.3197311512694645, -0.49995857976244107, 1.1159025551961577, 0.3216947684974362, -0.06706027728631916, -0.5875192402723305, 0.2673311445431004, 1.2846262456076551, -0.25339170680358225, -0.6085930939009376, -1.3442330241206317, 0.2245819379710808]}, {\"line\": {\"color\": \"rgba(50, 171, 96, 1.0)\", \"dash\": \"solid\", \"shape\": \"linear\", \"width\": 1.3}, \"mode\": \"lines\", \"name\": \"C\", \"text\": \"\", \"type\": \"scatter\", \"x\": [0, 1, 2, 3, 4, 5, 6, 7, 8, 9, 10, 11, 12, 13, 14, 15, 16, 17, 18, 19, 20, 21, 22, 23, 24, 25, 26, 27, 28, 29, 30, 31, 32, 33, 34, 35, 36, 37, 38, 39, 40, 41, 42, 43, 44, 45, 46, 47, 48, 49, 50, 51, 52, 53, 54, 55, 56, 57, 58, 59, 60, 61, 62, 63, 64, 65, 66, 67, 68, 69, 70, 71, 72, 73, 74, 75, 76, 77, 78, 79, 80, 81, 82, 83, 84, 85, 86, 87, 88, 89, 90, 91, 92, 93, 94, 95, 96, 97, 98, 99], \"y\": [0.43871609511090787, 1.4473330691369668, 0.6874111683344055, -0.31830361917415323, -0.5388382120744102, 1.1472562118002556, 0.3108509723492838, -1.3504297177585811, -0.14717944001590125, -1.0161980003072821, 1.3184133201786352, -0.8948859154766784, 0.8063427125028101, 0.9860023990235437, 0.43278295758782576, -0.3383168473212901, 0.7828525506565561, 0.32430811014547267, -0.18366489259377278, -1.332807951441942, 0.5855231884301786, -1.49399951258357, 1.2729131978144108, 0.4707613042946522, -0.15732217966894335, -0.17112350219909944, 0.5150453019363858, -0.09683419800777998, -1.15464030183148, -0.7066758730513744, -2.043606659974553, -1.1509322374051534, 0.025658807784838335, 1.4898157970226003, -0.0694685513661873, -0.49791651474279414, -0.2308514320585353, -0.6633259576742246, -0.9314528895000233, 0.09268399022199766, 1.0546179913330427, 0.3788253128204955, -0.45268150440564836, 1.0874294053375568, -0.34893154879565674, 1.8290703884373203, 1.5101181036839537, 1.037309456079722, 0.3829273390259377, -0.8115479160466885, 0.2280149619931508, -0.07314365291412171, 1.5185510594580172, 0.38025651373434205, -0.31398670655601696, 0.23485782245543066, 1.1932516814328331, 0.7988138783475844, 1.66087199827985, -0.6170009187598181, -0.7119327765997175, -0.11955345486924777, -0.1193429287162214, -0.12603845313457776, 0.39552766114983606, -2.444805418961324, -1.8397723832514499, 0.4039665619307871, -0.06783876623717149, -1.2309948870786396, 0.5080633094564294, 0.42442792825012743, -0.7768402727229322, -0.4146941899464075, -0.2628708720580322, 1.4093531835016053, -0.4842787587197417, -0.3086872018435643, 0.5792988275599643, 0.0558835015664736, -0.12724666807294763, -1.1301366568389613, -0.4086617935908518, -1.1272226118648105, 0.7706661363871762, -0.9247291559968152, -1.0955838666800826, 2.8036692006315556, -0.9094835797650551, 1.5471447420104867, 0.38896465749503334, -1.0990917939504126, 0.7516162725463826, 0.5370950423084296, 0.304979022360758, -0.13901930820177436, 1.0047496987928615, -1.5709449363201675, 0.42863972150130747, -0.33579753215298636]}, {\"line\": {\"color\": \"rgba(128, 0, 128, 1.0)\", \"dash\": \"solid\", \"shape\": \"linear\", \"width\": 1.3}, \"mode\": \"lines\", \"name\": \"D\", \"text\": \"\", \"type\": \"scatter\", \"x\": [0, 1, 2, 3, 4, 5, 6, 7, 8, 9, 10, 11, 12, 13, 14, 15, 16, 17, 18, 19, 20, 21, 22, 23, 24, 25, 26, 27, 28, 29, 30, 31, 32, 33, 34, 35, 36, 37, 38, 39, 40, 41, 42, 43, 44, 45, 46, 47, 48, 49, 50, 51, 52, 53, 54, 55, 56, 57, 58, 59, 60, 61, 62, 63, 64, 65, 66, 67, 68, 69, 70, 71, 72, 73, 74, 75, 76, 77, 78, 79, 80, 81, 82, 83, 84, 85, 86, 87, 88, 89, 90, 91, 92, 93, 94, 95, 96, 97, 98, 99], \"y\": [2.201870845090954, -0.11919198952453913, -0.6491147989395194, -1.0940323419087372, 1.3064805387565284, 1.0053933644146675, -1.1468493721755817, 0.43702934200597154, -1.5708817313388244, -0.30228893508853805, -0.5452580360626557, -0.6639695116112655, -0.7955940426938466, -1.6467518219836184, 0.2809329436516192, 0.14816821598707555, -0.4569463150690023, 0.04102322118889885, -0.7803672256411665, -1.697062848956333, 1.3222147203484962, -0.6493948068909241, 0.020214620878222216, -0.9785074303145862, 0.24463538527559575, 0.21899280568001356, 0.8289256885409623, -0.9661404506426933, 1.0709167568846587, -2.1446864458641937, 0.7126038142063271, 0.8037657660529335, -1.0438570754660648, -2.1764801619754595, 1.0065744258730616, -1.7085546146187438, 1.6157853000776756, -0.24005886773007004, 0.06041741995551127, -1.9754554368134523, -0.130103722338268, -1.9289900950205006, -0.20432004986579816, 0.7844358300465218, -0.01648696797537042, -1.0990716369251219, -1.1203384263813874, -0.5298781553667351, -0.25166010107420206, -0.10803187499062224, 0.9720371690989861, 0.14084278106626988, 0.958340609712445, 1.139130689135666, 0.6121010152679732, 1.1702006779163139, 3.438950303702981, -0.014582542305240784, 0.8969948486842586, -0.2847005272765262, -1.294676153711721, 0.1659703625257675, -1.4039308452256145, -0.8682886248582745, 1.2273913987468628, -0.21245180779807538, -0.5573543417006175, -0.04325035409627915, -0.3782549331129301, -0.8676228692532127, -0.8943592217689184, -1.0963084188028802, -0.19948952305435813, 0.04615393001258242, 0.3963388838875445, -1.1901818013837535, -0.42342500377745523, 1.6854298977467543, 1.5202474035952782, 1.5642876877114285, 2.783931915616514, -1.0969162983690433, -0.10200943946234767, 0.7458397850902051, -1.0361207524087017, 2.2613414374373075, -0.9658009592653757, 1.1048347049010612, -0.5491332908200294, -0.03513322127822818, 0.8502999061377614, -0.11253047805429914, 0.888899794382401, -0.39557630308169334, 1.8346182851644055, 0.4963586915785833, -0.8857741719895674, 1.6585853035436051, -0.018411933912376614, -1.080819440204162]}],\n",
       "                        {\"legend\": {\"bgcolor\": \"#F5F6F9\", \"font\": {\"color\": \"#4D5663\"}}, \"paper_bgcolor\": \"#F5F6F9\", \"plot_bgcolor\": \"#F5F6F9\", \"template\": {\"data\": {\"bar\": [{\"error_x\": {\"color\": \"#2a3f5f\"}, \"error_y\": {\"color\": \"#2a3f5f\"}, \"marker\": {\"line\": {\"color\": \"#E5ECF6\", \"width\": 0.5}}, \"type\": \"bar\"}], \"barpolar\": [{\"marker\": {\"line\": {\"color\": \"#E5ECF6\", \"width\": 0.5}}, \"type\": \"barpolar\"}], \"carpet\": [{\"aaxis\": {\"endlinecolor\": \"#2a3f5f\", \"gridcolor\": \"white\", \"linecolor\": \"white\", \"minorgridcolor\": \"white\", \"startlinecolor\": \"#2a3f5f\"}, \"baxis\": {\"endlinecolor\": \"#2a3f5f\", \"gridcolor\": \"white\", \"linecolor\": \"white\", \"minorgridcolor\": \"white\", \"startlinecolor\": \"#2a3f5f\"}, \"type\": \"carpet\"}], \"choropleth\": [{\"colorbar\": {\"outlinewidth\": 0, \"ticks\": \"\"}, \"type\": \"choropleth\"}], \"contour\": [{\"colorbar\": {\"outlinewidth\": 0, \"ticks\": \"\"}, \"colorscale\": [[0.0, \"#0d0887\"], [0.1111111111111111, \"#46039f\"], [0.2222222222222222, \"#7201a8\"], [0.3333333333333333, \"#9c179e\"], [0.4444444444444444, \"#bd3786\"], [0.5555555555555556, \"#d8576b\"], [0.6666666666666666, \"#ed7953\"], [0.7777777777777778, \"#fb9f3a\"], [0.8888888888888888, \"#fdca26\"], [1.0, \"#f0f921\"]], \"type\": \"contour\"}], \"contourcarpet\": [{\"colorbar\": {\"outlinewidth\": 0, \"ticks\": \"\"}, \"type\": \"contourcarpet\"}], \"heatmap\": [{\"colorbar\": {\"outlinewidth\": 0, \"ticks\": \"\"}, \"colorscale\": [[0.0, \"#0d0887\"], [0.1111111111111111, \"#46039f\"], [0.2222222222222222, \"#7201a8\"], [0.3333333333333333, \"#9c179e\"], [0.4444444444444444, \"#bd3786\"], [0.5555555555555556, \"#d8576b\"], [0.6666666666666666, \"#ed7953\"], [0.7777777777777778, \"#fb9f3a\"], [0.8888888888888888, \"#fdca26\"], [1.0, \"#f0f921\"]], \"type\": \"heatmap\"}], \"heatmapgl\": [{\"colorbar\": {\"outlinewidth\": 0, \"ticks\": \"\"}, \"colorscale\": [[0.0, \"#0d0887\"], [0.1111111111111111, \"#46039f\"], [0.2222222222222222, \"#7201a8\"], [0.3333333333333333, \"#9c179e\"], [0.4444444444444444, \"#bd3786\"], [0.5555555555555556, \"#d8576b\"], [0.6666666666666666, \"#ed7953\"], [0.7777777777777778, \"#fb9f3a\"], [0.8888888888888888, \"#fdca26\"], [1.0, \"#f0f921\"]], \"type\": \"heatmapgl\"}], \"histogram\": [{\"marker\": {\"colorbar\": {\"outlinewidth\": 0, \"ticks\": \"\"}}, \"type\": \"histogram\"}], \"histogram2d\": [{\"colorbar\": {\"outlinewidth\": 0, \"ticks\": \"\"}, \"colorscale\": [[0.0, \"#0d0887\"], [0.1111111111111111, \"#46039f\"], [0.2222222222222222, \"#7201a8\"], [0.3333333333333333, \"#9c179e\"], [0.4444444444444444, \"#bd3786\"], [0.5555555555555556, \"#d8576b\"], [0.6666666666666666, \"#ed7953\"], [0.7777777777777778, \"#fb9f3a\"], [0.8888888888888888, \"#fdca26\"], [1.0, \"#f0f921\"]], \"type\": \"histogram2d\"}], \"histogram2dcontour\": [{\"colorbar\": {\"outlinewidth\": 0, \"ticks\": \"\"}, \"colorscale\": [[0.0, \"#0d0887\"], [0.1111111111111111, \"#46039f\"], [0.2222222222222222, \"#7201a8\"], [0.3333333333333333, \"#9c179e\"], [0.4444444444444444, \"#bd3786\"], [0.5555555555555556, \"#d8576b\"], [0.6666666666666666, \"#ed7953\"], [0.7777777777777778, \"#fb9f3a\"], [0.8888888888888888, \"#fdca26\"], [1.0, \"#f0f921\"]], \"type\": \"histogram2dcontour\"}], \"mesh3d\": [{\"colorbar\": {\"outlinewidth\": 0, \"ticks\": \"\"}, \"type\": \"mesh3d\"}], \"parcoords\": [{\"line\": {\"colorbar\": {\"outlinewidth\": 0, \"ticks\": \"\"}}, \"type\": \"parcoords\"}], \"pie\": [{\"automargin\": true, \"type\": \"pie\"}], \"scatter\": [{\"marker\": {\"colorbar\": {\"outlinewidth\": 0, \"ticks\": \"\"}}, \"type\": \"scatter\"}], \"scatter3d\": [{\"line\": {\"colorbar\": {\"outlinewidth\": 0, \"ticks\": \"\"}}, \"marker\": {\"colorbar\": {\"outlinewidth\": 0, \"ticks\": \"\"}}, \"type\": \"scatter3d\"}], \"scattercarpet\": [{\"marker\": {\"colorbar\": {\"outlinewidth\": 0, \"ticks\": \"\"}}, \"type\": \"scattercarpet\"}], \"scattergeo\": [{\"marker\": {\"colorbar\": {\"outlinewidth\": 0, \"ticks\": \"\"}}, \"type\": \"scattergeo\"}], \"scattergl\": [{\"marker\": {\"colorbar\": {\"outlinewidth\": 0, \"ticks\": \"\"}}, \"type\": \"scattergl\"}], \"scattermapbox\": [{\"marker\": {\"colorbar\": {\"outlinewidth\": 0, \"ticks\": \"\"}}, \"type\": \"scattermapbox\"}], \"scatterpolar\": [{\"marker\": {\"colorbar\": {\"outlinewidth\": 0, \"ticks\": \"\"}}, \"type\": \"scatterpolar\"}], \"scatterpolargl\": [{\"marker\": {\"colorbar\": {\"outlinewidth\": 0, \"ticks\": \"\"}}, \"type\": \"scatterpolargl\"}], \"scatterternary\": [{\"marker\": {\"colorbar\": {\"outlinewidth\": 0, \"ticks\": \"\"}}, \"type\": \"scatterternary\"}], \"surface\": [{\"colorbar\": {\"outlinewidth\": 0, \"ticks\": \"\"}, \"colorscale\": [[0.0, \"#0d0887\"], [0.1111111111111111, \"#46039f\"], [0.2222222222222222, \"#7201a8\"], [0.3333333333333333, \"#9c179e\"], [0.4444444444444444, \"#bd3786\"], [0.5555555555555556, \"#d8576b\"], [0.6666666666666666, \"#ed7953\"], [0.7777777777777778, \"#fb9f3a\"], [0.8888888888888888, \"#fdca26\"], [1.0, \"#f0f921\"]], \"type\": \"surface\"}], \"table\": [{\"cells\": {\"fill\": {\"color\": \"#EBF0F8\"}, \"line\": {\"color\": \"white\"}}, \"header\": {\"fill\": {\"color\": \"#C8D4E3\"}, \"line\": {\"color\": \"white\"}}, \"type\": \"table\"}]}, \"layout\": {\"annotationdefaults\": {\"arrowcolor\": \"#2a3f5f\", \"arrowhead\": 0, \"arrowwidth\": 1}, \"coloraxis\": {\"colorbar\": {\"outlinewidth\": 0, \"ticks\": \"\"}}, \"colorscale\": {\"diverging\": [[0, \"#8e0152\"], [0.1, \"#c51b7d\"], [0.2, \"#de77ae\"], [0.3, \"#f1b6da\"], [0.4, \"#fde0ef\"], [0.5, \"#f7f7f7\"], [0.6, \"#e6f5d0\"], [0.7, \"#b8e186\"], [0.8, \"#7fbc41\"], [0.9, \"#4d9221\"], [1, \"#276419\"]], \"sequential\": [[0.0, \"#0d0887\"], [0.1111111111111111, \"#46039f\"], [0.2222222222222222, \"#7201a8\"], [0.3333333333333333, \"#9c179e\"], [0.4444444444444444, \"#bd3786\"], [0.5555555555555556, \"#d8576b\"], [0.6666666666666666, \"#ed7953\"], [0.7777777777777778, \"#fb9f3a\"], [0.8888888888888888, \"#fdca26\"], [1.0, \"#f0f921\"]], \"sequentialminus\": [[0.0, \"#0d0887\"], [0.1111111111111111, \"#46039f\"], [0.2222222222222222, \"#7201a8\"], [0.3333333333333333, \"#9c179e\"], [0.4444444444444444, \"#bd3786\"], [0.5555555555555556, \"#d8576b\"], [0.6666666666666666, \"#ed7953\"], [0.7777777777777778, \"#fb9f3a\"], [0.8888888888888888, \"#fdca26\"], [1.0, \"#f0f921\"]]}, \"colorway\": [\"#636efa\", \"#EF553B\", \"#00cc96\", \"#ab63fa\", \"#FFA15A\", \"#19d3f3\", \"#FF6692\", \"#B6E880\", \"#FF97FF\", \"#FECB52\"], \"font\": {\"color\": \"#2a3f5f\"}, \"geo\": {\"bgcolor\": \"white\", \"lakecolor\": \"white\", \"landcolor\": \"#E5ECF6\", \"showlakes\": true, \"showland\": true, \"subunitcolor\": \"white\"}, \"hoverlabel\": {\"align\": \"left\"}, \"hovermode\": \"closest\", \"mapbox\": {\"style\": \"light\"}, \"paper_bgcolor\": \"white\", \"plot_bgcolor\": \"#E5ECF6\", \"polar\": {\"angularaxis\": {\"gridcolor\": \"white\", \"linecolor\": \"white\", \"ticks\": \"\"}, \"bgcolor\": \"#E5ECF6\", \"radialaxis\": {\"gridcolor\": \"white\", \"linecolor\": \"white\", \"ticks\": \"\"}}, \"scene\": {\"xaxis\": {\"backgroundcolor\": \"#E5ECF6\", \"gridcolor\": \"white\", \"gridwidth\": 2, \"linecolor\": \"white\", \"showbackground\": true, \"ticks\": \"\", \"zerolinecolor\": \"white\"}, \"yaxis\": {\"backgroundcolor\": \"#E5ECF6\", \"gridcolor\": \"white\", \"gridwidth\": 2, \"linecolor\": \"white\", \"showbackground\": true, \"ticks\": \"\", \"zerolinecolor\": \"white\"}, \"zaxis\": {\"backgroundcolor\": \"#E5ECF6\", \"gridcolor\": \"white\", \"gridwidth\": 2, \"linecolor\": \"white\", \"showbackground\": true, \"ticks\": \"\", \"zerolinecolor\": \"white\"}}, \"shapedefaults\": {\"line\": {\"color\": \"#2a3f5f\"}}, \"ternary\": {\"aaxis\": {\"gridcolor\": \"white\", \"linecolor\": \"white\", \"ticks\": \"\"}, \"baxis\": {\"gridcolor\": \"white\", \"linecolor\": \"white\", \"ticks\": \"\"}, \"bgcolor\": \"#E5ECF6\", \"caxis\": {\"gridcolor\": \"white\", \"linecolor\": \"white\", \"ticks\": \"\"}}, \"title\": {\"x\": 0.05}, \"xaxis\": {\"automargin\": true, \"gridcolor\": \"white\", \"linecolor\": \"white\", \"ticks\": \"\", \"title\": {\"standoff\": 15}, \"zerolinecolor\": \"white\", \"zerolinewidth\": 2}, \"yaxis\": {\"automargin\": true, \"gridcolor\": \"white\", \"linecolor\": \"white\", \"ticks\": \"\", \"title\": {\"standoff\": 15}, \"zerolinecolor\": \"white\", \"zerolinewidth\": 2}}}, \"title\": {\"font\": {\"color\": \"#4D5663\"}}, \"xaxis\": {\"gridcolor\": \"#E1E5ED\", \"showgrid\": true, \"tickfont\": {\"color\": \"#4D5663\"}, \"title\": {\"font\": {\"color\": \"#4D5663\"}, \"text\": \"\"}, \"zerolinecolor\": \"#E1E5ED\"}, \"yaxis\": {\"gridcolor\": \"#E1E5ED\", \"showgrid\": true, \"tickfont\": {\"color\": \"#4D5663\"}, \"title\": {\"font\": {\"color\": \"#4D5663\"}, \"text\": \"\"}, \"zerolinecolor\": \"#E1E5ED\"}},\n",
       "                        {\"showLink\": true, \"linkText\": \"Export to plot.ly\", \"plotlyServerURL\": \"https://plot.ly\", \"responsive\": true}\n",
       "                    ).then(function(){\n",
       "                            \n",
       "var gd = document.getElementById('50bd181e-c755-4cb8-abca-e73d83791408');\n",
       "var x = new MutationObserver(function (mutations, observer) {{\n",
       "        var display = window.getComputedStyle(gd).display;\n",
       "        if (!display || display === 'none') {{\n",
       "            console.log([gd, 'removed!']);\n",
       "            Plotly.purge(gd);\n",
       "            observer.disconnect();\n",
       "        }}\n",
       "}});\n",
       "\n",
       "// Listen for the removal of the full notebook cells\n",
       "var notebookContainer = gd.closest('#notebook-container');\n",
       "if (notebookContainer) {{\n",
       "    x.observe(notebookContainer, {childList: true});\n",
       "}}\n",
       "\n",
       "// Listen for the clearing of the current output cell\n",
       "var outputEl = gd.closest('.output');\n",
       "if (outputEl) {{\n",
       "    x.observe(outputEl, {childList: true});\n",
       "}}\n",
       "\n",
       "                        })\n",
       "                };\n",
       "                });\n",
       "            </script>\n",
       "        </div>"
      ]
     },
     "metadata": {},
     "output_type": "display_data"
    }
   ],
   "source": [
    "df.iplot()"
   ]
  },
  {
   "cell_type": "code",
   "execution_count": 18,
   "metadata": {},
   "outputs": [
    {
     "data": {
      "application/vnd.plotly.v1+json": {
       "config": {
        "linkText": "Export to plot.ly",
        "plotlyServerURL": "https://plot.ly",
        "showLink": true
       },
       "data": [
        {
         "line": {
          "color": "rgba(255, 153, 51, 1.0)",
          "dash": "solid",
          "shape": "linear",
          "width": 1.3
         },
         "mode": "lines",
         "name": "B",
         "text": "",
         "type": "scatter",
         "x": [
          0.0582296909058791,
          -0.02584525376380703,
          0.00233282809989629,
          1.1481746239450044,
          0.24613651723675956,
          -1.0638018398599103,
          -0.21304176589290522,
          -0.8877953781238356,
          0.2408920641467541,
          -0.8396975894960268,
          2.0132202407596353,
          -1.8360206750556003,
          -0.2517700023746602,
          -1.4502799812552967,
          0.4152057826772664,
          -0.8998644155235899,
          0.5982440600673362,
          -0.9759069692250059,
          -1.1973876247754691,
          0.5577122833829123,
          2.310315783202372,
          -1.7961940534317489,
          -0.6572397260969888,
          -1.3376421186203706,
          1.0608517587708919,
          -2.259894369695355,
          1.4606925940258704,
          1.8907728427394275,
          -0.3043119428357968,
          1.9881857367303992,
          0.3901698887479151,
          1.3241022911963933,
          1.0959833079431376,
          -1.2734420037321217,
          -1.3216363381573888,
          0.834565478861918,
          0.6299828498049981,
          2.0786395666444015,
          -1.0791936006443799,
          -1.3790272078160453,
          -1.178945530656404,
          0.22964243572651152,
          -0.029963990967407286,
          -0.43786137324103674,
          0.6356308238712179,
          0.14810106273265564,
          0.5227969542030575,
          1.0543535418382617,
          0.02211756534029964,
          -0.13560799701465331,
          -0.5525218983218556,
          -1.0196807962712457,
          -0.2607666151406072,
          -0.5602173304664195,
          -0.6492750894074405,
          -0.2556935165453845,
          -1.0771115992625304,
          -0.135328085335629,
          -0.04464422947027891,
          -1.161005405176078,
          0.3122523074359768,
          -1.6625191089294775,
          0.34194335491409344,
          0.16470959404488125,
          1.2878181748305546,
          0.5610471493377563,
          -1.444406167736111,
          0.61479147005293,
          2.7365467524952916,
          -0.6323625965306128,
          1.276169138221677,
          -0.048793811614966896,
          -0.6086730440924935,
          0.14012253128489457,
          -0.8621572953507786,
          -1.7685450434583079,
          0.45581637692557153,
          0.7050466998267874,
          0.2814153735282505,
          0.19735245724273506,
          -1.1781923319235064,
          0.38757667877441015,
          0.2906922661543077,
          -1.0313059627582548,
          0.43284154174190126,
          -0.9379419695402221,
          -0.5102362125240482,
          -0.20895028756198047,
          1.4035565803611778,
          -1.0519821869520587,
          0.11992036334528934,
          -1.2473763817788441,
          -0.9440623587862923,
          0.4649388980972195,
          0.8891091225455513,
          -0.05281339848006934,
          1.1826926725138664,
          -0.6496100176207341,
          0.3463146074175848,
          1.245054214730473
         ],
         "y": [
          -0.8159108900054555,
          -1.929941219688791,
          -0.03657417027881783,
          -1.0974209539855215,
          1.052196520858351,
          0.033822329120052425,
          1.8176801096555568,
          -0.8520932618888648,
          0.1782263123008412,
          0.6516149971522324,
          -0.1914194854642487,
          0.008657291528901528,
          -0.8148758043003251,
          -0.9471398783497236,
          -0.6061811239096245,
          1.4415241885529897,
          0.8851494166861117,
          0.20512285715425654,
          -0.7302217226826899,
          -0.31951913686424854,
          0.27231889777693935,
          -0.09697422065665619,
          -0.6649205861559219,
          0.5620367857612353,
          1.7533700715066436,
          0.6286472913776453,
          -0.7855956286751903,
          -0.15994050635267051,
          1.3518808645637923,
          -1.0154365693968737,
          -0.18050820646100885,
          0.10834646519885681,
          0.7096009539601019,
          -1.6023624543290134,
          1.9871052880616062,
          0.13645875362141854,
          -0.14633701649722333,
          0.38661791094502607,
          -0.5619435011719726,
          -0.20251346230180112,
          0.6479159809236236,
          -0.7526340518086364,
          -0.21918777663590203,
          1.0416872919367612,
          -0.6468863728671859,
          -0.44682241371939924,
          0.5847470571104231,
          1.525293780434978,
          1.6806985956288825,
          -0.40897115263895845,
          0.4807243711627144,
          0.4261709336642487,
          -0.2587232083938359,
          0.4457411507797482,
          -0.2780131113425037,
          0.6771683729554895,
          -0.49326884312164854,
          0.378732594771927,
          0.7495296141469234,
          -0.16621758439843407,
          -0.23419012280575963,
          -0.8429186547805513,
          -1.4561552722178908,
          -0.2133350041936494,
          -0.2006493898869039,
          -0.6181873825812856,
          -1.6980110048485777,
          -0.7626793020761945,
          0.3885269527655976,
          -0.46412751801116825,
          -1.0763819235680343,
          -0.502238030495814,
          -0.28576562016979584,
          0.21551527887273858,
          1.8833906902942927,
          -0.24381875320711635,
          -2.0108817352692587,
          -1.1983839198702526,
          1.4254320467638015,
          0.8872957071538016,
          0.2680860134619889,
          -0.14122802360169043,
          0.17462228023424262,
          0.47283501980558207,
          -1.5376258685767012,
          -0.9705267350254004,
          0.26336399264955324,
          -0.2400452642080898,
          1.3197311512694645,
          -0.49995857976244107,
          1.1159025551961577,
          0.3216947684974362,
          -0.06706027728631916,
          -0.5875192402723305,
          0.2673311445431004,
          1.2846262456076551,
          -0.25339170680358225,
          -0.6085930939009376,
          -1.3442330241206317,
          0.2245819379710808
         ]
        }
       ],
       "layout": {
        "legend": {
         "bgcolor": "#F5F6F9",
         "font": {
          "color": "#4D5663"
         }
        },
        "paper_bgcolor": "#F5F6F9",
        "plot_bgcolor": "#F5F6F9",
        "template": {
         "data": {
          "bar": [
           {
            "error_x": {
             "color": "#2a3f5f"
            },
            "error_y": {
             "color": "#2a3f5f"
            },
            "marker": {
             "line": {
              "color": "#E5ECF6",
              "width": 0.5
             }
            },
            "type": "bar"
           }
          ],
          "barpolar": [
           {
            "marker": {
             "line": {
              "color": "#E5ECF6",
              "width": 0.5
             }
            },
            "type": "barpolar"
           }
          ],
          "carpet": [
           {
            "aaxis": {
             "endlinecolor": "#2a3f5f",
             "gridcolor": "white",
             "linecolor": "white",
             "minorgridcolor": "white",
             "startlinecolor": "#2a3f5f"
            },
            "baxis": {
             "endlinecolor": "#2a3f5f",
             "gridcolor": "white",
             "linecolor": "white",
             "minorgridcolor": "white",
             "startlinecolor": "#2a3f5f"
            },
            "type": "carpet"
           }
          ],
          "choropleth": [
           {
            "colorbar": {
             "outlinewidth": 0,
             "ticks": ""
            },
            "type": "choropleth"
           }
          ],
          "contour": [
           {
            "colorbar": {
             "outlinewidth": 0,
             "ticks": ""
            },
            "colorscale": [
             [
              0,
              "#0d0887"
             ],
             [
              0.1111111111111111,
              "#46039f"
             ],
             [
              0.2222222222222222,
              "#7201a8"
             ],
             [
              0.3333333333333333,
              "#9c179e"
             ],
             [
              0.4444444444444444,
              "#bd3786"
             ],
             [
              0.5555555555555556,
              "#d8576b"
             ],
             [
              0.6666666666666666,
              "#ed7953"
             ],
             [
              0.7777777777777778,
              "#fb9f3a"
             ],
             [
              0.8888888888888888,
              "#fdca26"
             ],
             [
              1,
              "#f0f921"
             ]
            ],
            "type": "contour"
           }
          ],
          "contourcarpet": [
           {
            "colorbar": {
             "outlinewidth": 0,
             "ticks": ""
            },
            "type": "contourcarpet"
           }
          ],
          "heatmap": [
           {
            "colorbar": {
             "outlinewidth": 0,
             "ticks": ""
            },
            "colorscale": [
             [
              0,
              "#0d0887"
             ],
             [
              0.1111111111111111,
              "#46039f"
             ],
             [
              0.2222222222222222,
              "#7201a8"
             ],
             [
              0.3333333333333333,
              "#9c179e"
             ],
             [
              0.4444444444444444,
              "#bd3786"
             ],
             [
              0.5555555555555556,
              "#d8576b"
             ],
             [
              0.6666666666666666,
              "#ed7953"
             ],
             [
              0.7777777777777778,
              "#fb9f3a"
             ],
             [
              0.8888888888888888,
              "#fdca26"
             ],
             [
              1,
              "#f0f921"
             ]
            ],
            "type": "heatmap"
           }
          ],
          "heatmapgl": [
           {
            "colorbar": {
             "outlinewidth": 0,
             "ticks": ""
            },
            "colorscale": [
             [
              0,
              "#0d0887"
             ],
             [
              0.1111111111111111,
              "#46039f"
             ],
             [
              0.2222222222222222,
              "#7201a8"
             ],
             [
              0.3333333333333333,
              "#9c179e"
             ],
             [
              0.4444444444444444,
              "#bd3786"
             ],
             [
              0.5555555555555556,
              "#d8576b"
             ],
             [
              0.6666666666666666,
              "#ed7953"
             ],
             [
              0.7777777777777778,
              "#fb9f3a"
             ],
             [
              0.8888888888888888,
              "#fdca26"
             ],
             [
              1,
              "#f0f921"
             ]
            ],
            "type": "heatmapgl"
           }
          ],
          "histogram": [
           {
            "marker": {
             "colorbar": {
              "outlinewidth": 0,
              "ticks": ""
             }
            },
            "type": "histogram"
           }
          ],
          "histogram2d": [
           {
            "colorbar": {
             "outlinewidth": 0,
             "ticks": ""
            },
            "colorscale": [
             [
              0,
              "#0d0887"
             ],
             [
              0.1111111111111111,
              "#46039f"
             ],
             [
              0.2222222222222222,
              "#7201a8"
             ],
             [
              0.3333333333333333,
              "#9c179e"
             ],
             [
              0.4444444444444444,
              "#bd3786"
             ],
             [
              0.5555555555555556,
              "#d8576b"
             ],
             [
              0.6666666666666666,
              "#ed7953"
             ],
             [
              0.7777777777777778,
              "#fb9f3a"
             ],
             [
              0.8888888888888888,
              "#fdca26"
             ],
             [
              1,
              "#f0f921"
             ]
            ],
            "type": "histogram2d"
           }
          ],
          "histogram2dcontour": [
           {
            "colorbar": {
             "outlinewidth": 0,
             "ticks": ""
            },
            "colorscale": [
             [
              0,
              "#0d0887"
             ],
             [
              0.1111111111111111,
              "#46039f"
             ],
             [
              0.2222222222222222,
              "#7201a8"
             ],
             [
              0.3333333333333333,
              "#9c179e"
             ],
             [
              0.4444444444444444,
              "#bd3786"
             ],
             [
              0.5555555555555556,
              "#d8576b"
             ],
             [
              0.6666666666666666,
              "#ed7953"
             ],
             [
              0.7777777777777778,
              "#fb9f3a"
             ],
             [
              0.8888888888888888,
              "#fdca26"
             ],
             [
              1,
              "#f0f921"
             ]
            ],
            "type": "histogram2dcontour"
           }
          ],
          "mesh3d": [
           {
            "colorbar": {
             "outlinewidth": 0,
             "ticks": ""
            },
            "type": "mesh3d"
           }
          ],
          "parcoords": [
           {
            "line": {
             "colorbar": {
              "outlinewidth": 0,
              "ticks": ""
             }
            },
            "type": "parcoords"
           }
          ],
          "pie": [
           {
            "automargin": true,
            "type": "pie"
           }
          ],
          "scatter": [
           {
            "marker": {
             "colorbar": {
              "outlinewidth": 0,
              "ticks": ""
             }
            },
            "type": "scatter"
           }
          ],
          "scatter3d": [
           {
            "line": {
             "colorbar": {
              "outlinewidth": 0,
              "ticks": ""
             }
            },
            "marker": {
             "colorbar": {
              "outlinewidth": 0,
              "ticks": ""
             }
            },
            "type": "scatter3d"
           }
          ],
          "scattercarpet": [
           {
            "marker": {
             "colorbar": {
              "outlinewidth": 0,
              "ticks": ""
             }
            },
            "type": "scattercarpet"
           }
          ],
          "scattergeo": [
           {
            "marker": {
             "colorbar": {
              "outlinewidth": 0,
              "ticks": ""
             }
            },
            "type": "scattergeo"
           }
          ],
          "scattergl": [
           {
            "marker": {
             "colorbar": {
              "outlinewidth": 0,
              "ticks": ""
             }
            },
            "type": "scattergl"
           }
          ],
          "scattermapbox": [
           {
            "marker": {
             "colorbar": {
              "outlinewidth": 0,
              "ticks": ""
             }
            },
            "type": "scattermapbox"
           }
          ],
          "scatterpolar": [
           {
            "marker": {
             "colorbar": {
              "outlinewidth": 0,
              "ticks": ""
             }
            },
            "type": "scatterpolar"
           }
          ],
          "scatterpolargl": [
           {
            "marker": {
             "colorbar": {
              "outlinewidth": 0,
              "ticks": ""
             }
            },
            "type": "scatterpolargl"
           }
          ],
          "scatterternary": [
           {
            "marker": {
             "colorbar": {
              "outlinewidth": 0,
              "ticks": ""
             }
            },
            "type": "scatterternary"
           }
          ],
          "surface": [
           {
            "colorbar": {
             "outlinewidth": 0,
             "ticks": ""
            },
            "colorscale": [
             [
              0,
              "#0d0887"
             ],
             [
              0.1111111111111111,
              "#46039f"
             ],
             [
              0.2222222222222222,
              "#7201a8"
             ],
             [
              0.3333333333333333,
              "#9c179e"
             ],
             [
              0.4444444444444444,
              "#bd3786"
             ],
             [
              0.5555555555555556,
              "#d8576b"
             ],
             [
              0.6666666666666666,
              "#ed7953"
             ],
             [
              0.7777777777777778,
              "#fb9f3a"
             ],
             [
              0.8888888888888888,
              "#fdca26"
             ],
             [
              1,
              "#f0f921"
             ]
            ],
            "type": "surface"
           }
          ],
          "table": [
           {
            "cells": {
             "fill": {
              "color": "#EBF0F8"
             },
             "line": {
              "color": "white"
             }
            },
            "header": {
             "fill": {
              "color": "#C8D4E3"
             },
             "line": {
              "color": "white"
             }
            },
            "type": "table"
           }
          ]
         },
         "layout": {
          "annotationdefaults": {
           "arrowcolor": "#2a3f5f",
           "arrowhead": 0,
           "arrowwidth": 1
          },
          "coloraxis": {
           "colorbar": {
            "outlinewidth": 0,
            "ticks": ""
           }
          },
          "colorscale": {
           "diverging": [
            [
             0,
             "#8e0152"
            ],
            [
             0.1,
             "#c51b7d"
            ],
            [
             0.2,
             "#de77ae"
            ],
            [
             0.3,
             "#f1b6da"
            ],
            [
             0.4,
             "#fde0ef"
            ],
            [
             0.5,
             "#f7f7f7"
            ],
            [
             0.6,
             "#e6f5d0"
            ],
            [
             0.7,
             "#b8e186"
            ],
            [
             0.8,
             "#7fbc41"
            ],
            [
             0.9,
             "#4d9221"
            ],
            [
             1,
             "#276419"
            ]
           ],
           "sequential": [
            [
             0,
             "#0d0887"
            ],
            [
             0.1111111111111111,
             "#46039f"
            ],
            [
             0.2222222222222222,
             "#7201a8"
            ],
            [
             0.3333333333333333,
             "#9c179e"
            ],
            [
             0.4444444444444444,
             "#bd3786"
            ],
            [
             0.5555555555555556,
             "#d8576b"
            ],
            [
             0.6666666666666666,
             "#ed7953"
            ],
            [
             0.7777777777777778,
             "#fb9f3a"
            ],
            [
             0.8888888888888888,
             "#fdca26"
            ],
            [
             1,
             "#f0f921"
            ]
           ],
           "sequentialminus": [
            [
             0,
             "#0d0887"
            ],
            [
             0.1111111111111111,
             "#46039f"
            ],
            [
             0.2222222222222222,
             "#7201a8"
            ],
            [
             0.3333333333333333,
             "#9c179e"
            ],
            [
             0.4444444444444444,
             "#bd3786"
            ],
            [
             0.5555555555555556,
             "#d8576b"
            ],
            [
             0.6666666666666666,
             "#ed7953"
            ],
            [
             0.7777777777777778,
             "#fb9f3a"
            ],
            [
             0.8888888888888888,
             "#fdca26"
            ],
            [
             1,
             "#f0f921"
            ]
           ]
          },
          "colorway": [
           "#636efa",
           "#EF553B",
           "#00cc96",
           "#ab63fa",
           "#FFA15A",
           "#19d3f3",
           "#FF6692",
           "#B6E880",
           "#FF97FF",
           "#FECB52"
          ],
          "font": {
           "color": "#2a3f5f"
          },
          "geo": {
           "bgcolor": "white",
           "lakecolor": "white",
           "landcolor": "#E5ECF6",
           "showlakes": true,
           "showland": true,
           "subunitcolor": "white"
          },
          "hoverlabel": {
           "align": "left"
          },
          "hovermode": "closest",
          "mapbox": {
           "style": "light"
          },
          "paper_bgcolor": "white",
          "plot_bgcolor": "#E5ECF6",
          "polar": {
           "angularaxis": {
            "gridcolor": "white",
            "linecolor": "white",
            "ticks": ""
           },
           "bgcolor": "#E5ECF6",
           "radialaxis": {
            "gridcolor": "white",
            "linecolor": "white",
            "ticks": ""
           }
          },
          "scene": {
           "xaxis": {
            "backgroundcolor": "#E5ECF6",
            "gridcolor": "white",
            "gridwidth": 2,
            "linecolor": "white",
            "showbackground": true,
            "ticks": "",
            "zerolinecolor": "white"
           },
           "yaxis": {
            "backgroundcolor": "#E5ECF6",
            "gridcolor": "white",
            "gridwidth": 2,
            "linecolor": "white",
            "showbackground": true,
            "ticks": "",
            "zerolinecolor": "white"
           },
           "zaxis": {
            "backgroundcolor": "#E5ECF6",
            "gridcolor": "white",
            "gridwidth": 2,
            "linecolor": "white",
            "showbackground": true,
            "ticks": "",
            "zerolinecolor": "white"
           }
          },
          "shapedefaults": {
           "line": {
            "color": "#2a3f5f"
           }
          },
          "ternary": {
           "aaxis": {
            "gridcolor": "white",
            "linecolor": "white",
            "ticks": ""
           },
           "baxis": {
            "gridcolor": "white",
            "linecolor": "white",
            "ticks": ""
           },
           "bgcolor": "#E5ECF6",
           "caxis": {
            "gridcolor": "white",
            "linecolor": "white",
            "ticks": ""
           }
          },
          "title": {
           "x": 0.05
          },
          "xaxis": {
           "automargin": true,
           "gridcolor": "white",
           "linecolor": "white",
           "ticks": "",
           "title": {
            "standoff": 15
           },
           "zerolinecolor": "white",
           "zerolinewidth": 2
          },
          "yaxis": {
           "automargin": true,
           "gridcolor": "white",
           "linecolor": "white",
           "ticks": "",
           "title": {
            "standoff": 15
           },
           "zerolinecolor": "white",
           "zerolinewidth": 2
          }
         }
        },
        "title": {
         "font": {
          "color": "#4D5663"
         }
        },
        "xaxis": {
         "gridcolor": "#E1E5ED",
         "showgrid": true,
         "tickfont": {
          "color": "#4D5663"
         },
         "title": {
          "font": {
           "color": "#4D5663"
          },
          "text": ""
         },
         "zerolinecolor": "#E1E5ED"
        },
        "yaxis": {
         "gridcolor": "#E1E5ED",
         "showgrid": true,
         "tickfont": {
          "color": "#4D5663"
         },
         "title": {
          "font": {
           "color": "#4D5663"
          },
          "text": ""
         },
         "zerolinecolor": "#E1E5ED"
        }
       }
      },
      "text/html": [
       "<div>\n",
       "        \n",
       "        \n",
       "            <div id=\"12bcaddb-b3e9-45bd-b5cd-5f79d45a6d80\" class=\"plotly-graph-div\" style=\"height:525px; width:100%;\"></div>\n",
       "            <script type=\"text/javascript\">\n",
       "                require([\"plotly\"], function(Plotly) {\n",
       "                    window.PLOTLYENV=window.PLOTLYENV || {};\n",
       "                    window.PLOTLYENV.BASE_URL='https://plot.ly';\n",
       "                    \n",
       "                if (document.getElementById(\"12bcaddb-b3e9-45bd-b5cd-5f79d45a6d80\")) {\n",
       "                    Plotly.newPlot(\n",
       "                        '12bcaddb-b3e9-45bd-b5cd-5f79d45a6d80',\n",
       "                        [{\"line\": {\"color\": \"rgba(255, 153, 51, 1.0)\", \"dash\": \"solid\", \"shape\": \"linear\", \"width\": 1.3}, \"mode\": \"lines\", \"name\": \"B\", \"text\": \"\", \"type\": \"scatter\", \"x\": [0.0582296909058791, -0.02584525376380703, 0.00233282809989629, 1.1481746239450044, 0.24613651723675956, -1.0638018398599103, -0.21304176589290522, -0.8877953781238356, 0.2408920641467541, -0.8396975894960268, 2.0132202407596353, -1.8360206750556003, -0.2517700023746602, -1.4502799812552967, 0.4152057826772664, -0.8998644155235899, 0.5982440600673362, -0.9759069692250059, -1.1973876247754691, 0.5577122833829123, 2.310315783202372, -1.7961940534317489, -0.6572397260969888, -1.3376421186203706, 1.0608517587708919, -2.259894369695355, 1.4606925940258704, 1.8907728427394275, -0.3043119428357968, 1.9881857367303992, 0.3901698887479151, 1.3241022911963933, 1.0959833079431376, -1.2734420037321217, -1.3216363381573888, 0.834565478861918, 0.6299828498049981, 2.0786395666444015, -1.0791936006443799, -1.3790272078160453, -1.178945530656404, 0.22964243572651152, -0.029963990967407286, -0.43786137324103674, 0.6356308238712179, 0.14810106273265564, 0.5227969542030575, 1.0543535418382617, 0.02211756534029964, -0.13560799701465331, -0.5525218983218556, -1.0196807962712457, -0.2607666151406072, -0.5602173304664195, -0.6492750894074405, -0.2556935165453845, -1.0771115992625304, -0.135328085335629, -0.04464422947027891, -1.161005405176078, 0.3122523074359768, -1.6625191089294775, 0.34194335491409344, 0.16470959404488125, 1.2878181748305546, 0.5610471493377563, -1.444406167736111, 0.61479147005293, 2.7365467524952916, -0.6323625965306128, 1.276169138221677, -0.048793811614966896, -0.6086730440924935, 0.14012253128489457, -0.8621572953507786, -1.7685450434583079, 0.45581637692557153, 0.7050466998267874, 0.2814153735282505, 0.19735245724273506, -1.1781923319235064, 0.38757667877441015, 0.2906922661543077, -1.0313059627582548, 0.43284154174190126, -0.9379419695402221, -0.5102362125240482, -0.20895028756198047, 1.4035565803611778, -1.0519821869520587, 0.11992036334528934, -1.2473763817788441, -0.9440623587862923, 0.4649388980972195, 0.8891091225455513, -0.05281339848006934, 1.1826926725138664, -0.6496100176207341, 0.3463146074175848, 1.245054214730473], \"y\": [-0.8159108900054555, -1.929941219688791, -0.03657417027881783, -1.0974209539855215, 1.052196520858351, 0.033822329120052425, 1.8176801096555568, -0.8520932618888648, 0.1782263123008412, 0.6516149971522324, -0.1914194854642487, 0.008657291528901528, -0.8148758043003251, -0.9471398783497236, -0.6061811239096245, 1.4415241885529897, 0.8851494166861117, 0.20512285715425654, -0.7302217226826899, -0.31951913686424854, 0.27231889777693935, -0.09697422065665619, -0.6649205861559219, 0.5620367857612353, 1.7533700715066436, 0.6286472913776453, -0.7855956286751903, -0.15994050635267051, 1.3518808645637923, -1.0154365693968737, -0.18050820646100885, 0.10834646519885681, 0.7096009539601019, -1.6023624543290134, 1.9871052880616062, 0.13645875362141854, -0.14633701649722333, 0.38661791094502607, -0.5619435011719726, -0.20251346230180112, 0.6479159809236236, -0.7526340518086364, -0.21918777663590203, 1.0416872919367612, -0.6468863728671859, -0.44682241371939924, 0.5847470571104231, 1.525293780434978, 1.6806985956288825, -0.40897115263895845, 0.4807243711627144, 0.4261709336642487, -0.2587232083938359, 0.4457411507797482, -0.2780131113425037, 0.6771683729554895, -0.49326884312164854, 0.378732594771927, 0.7495296141469234, -0.16621758439843407, -0.23419012280575963, -0.8429186547805513, -1.4561552722178908, -0.2133350041936494, -0.2006493898869039, -0.6181873825812856, -1.6980110048485777, -0.7626793020761945, 0.3885269527655976, -0.46412751801116825, -1.0763819235680343, -0.502238030495814, -0.28576562016979584, 0.21551527887273858, 1.8833906902942927, -0.24381875320711635, -2.0108817352692587, -1.1983839198702526, 1.4254320467638015, 0.8872957071538016, 0.2680860134619889, -0.14122802360169043, 0.17462228023424262, 0.47283501980558207, -1.5376258685767012, -0.9705267350254004, 0.26336399264955324, -0.2400452642080898, 1.3197311512694645, -0.49995857976244107, 1.1159025551961577, 0.3216947684974362, -0.06706027728631916, -0.5875192402723305, 0.2673311445431004, 1.2846262456076551, -0.25339170680358225, -0.6085930939009376, -1.3442330241206317, 0.2245819379710808]}],\n",
       "                        {\"legend\": {\"bgcolor\": \"#F5F6F9\", \"font\": {\"color\": \"#4D5663\"}}, \"paper_bgcolor\": \"#F5F6F9\", \"plot_bgcolor\": \"#F5F6F9\", \"template\": {\"data\": {\"bar\": [{\"error_x\": {\"color\": \"#2a3f5f\"}, \"error_y\": {\"color\": \"#2a3f5f\"}, \"marker\": {\"line\": {\"color\": \"#E5ECF6\", \"width\": 0.5}}, \"type\": \"bar\"}], \"barpolar\": [{\"marker\": {\"line\": {\"color\": \"#E5ECF6\", \"width\": 0.5}}, \"type\": \"barpolar\"}], \"carpet\": [{\"aaxis\": {\"endlinecolor\": \"#2a3f5f\", \"gridcolor\": \"white\", \"linecolor\": \"white\", \"minorgridcolor\": \"white\", \"startlinecolor\": \"#2a3f5f\"}, \"baxis\": {\"endlinecolor\": \"#2a3f5f\", \"gridcolor\": \"white\", \"linecolor\": \"white\", \"minorgridcolor\": \"white\", \"startlinecolor\": \"#2a3f5f\"}, \"type\": \"carpet\"}], \"choropleth\": [{\"colorbar\": {\"outlinewidth\": 0, \"ticks\": \"\"}, \"type\": \"choropleth\"}], \"contour\": [{\"colorbar\": {\"outlinewidth\": 0, \"ticks\": \"\"}, \"colorscale\": [[0.0, \"#0d0887\"], [0.1111111111111111, \"#46039f\"], [0.2222222222222222, \"#7201a8\"], [0.3333333333333333, \"#9c179e\"], [0.4444444444444444, \"#bd3786\"], [0.5555555555555556, \"#d8576b\"], [0.6666666666666666, \"#ed7953\"], [0.7777777777777778, \"#fb9f3a\"], [0.8888888888888888, \"#fdca26\"], [1.0, \"#f0f921\"]], \"type\": \"contour\"}], \"contourcarpet\": [{\"colorbar\": {\"outlinewidth\": 0, \"ticks\": \"\"}, \"type\": \"contourcarpet\"}], \"heatmap\": [{\"colorbar\": {\"outlinewidth\": 0, \"ticks\": \"\"}, \"colorscale\": [[0.0, \"#0d0887\"], [0.1111111111111111, \"#46039f\"], [0.2222222222222222, \"#7201a8\"], [0.3333333333333333, \"#9c179e\"], [0.4444444444444444, \"#bd3786\"], [0.5555555555555556, \"#d8576b\"], [0.6666666666666666, \"#ed7953\"], [0.7777777777777778, \"#fb9f3a\"], [0.8888888888888888, \"#fdca26\"], [1.0, \"#f0f921\"]], \"type\": \"heatmap\"}], \"heatmapgl\": [{\"colorbar\": {\"outlinewidth\": 0, \"ticks\": \"\"}, \"colorscale\": [[0.0, \"#0d0887\"], [0.1111111111111111, \"#46039f\"], [0.2222222222222222, \"#7201a8\"], [0.3333333333333333, \"#9c179e\"], [0.4444444444444444, \"#bd3786\"], [0.5555555555555556, \"#d8576b\"], [0.6666666666666666, \"#ed7953\"], [0.7777777777777778, \"#fb9f3a\"], [0.8888888888888888, \"#fdca26\"], [1.0, \"#f0f921\"]], \"type\": \"heatmapgl\"}], \"histogram\": [{\"marker\": {\"colorbar\": {\"outlinewidth\": 0, \"ticks\": \"\"}}, \"type\": \"histogram\"}], \"histogram2d\": [{\"colorbar\": {\"outlinewidth\": 0, \"ticks\": \"\"}, \"colorscale\": [[0.0, \"#0d0887\"], [0.1111111111111111, \"#46039f\"], [0.2222222222222222, \"#7201a8\"], [0.3333333333333333, \"#9c179e\"], [0.4444444444444444, \"#bd3786\"], [0.5555555555555556, \"#d8576b\"], [0.6666666666666666, \"#ed7953\"], [0.7777777777777778, \"#fb9f3a\"], [0.8888888888888888, \"#fdca26\"], [1.0, \"#f0f921\"]], \"type\": \"histogram2d\"}], \"histogram2dcontour\": [{\"colorbar\": {\"outlinewidth\": 0, \"ticks\": \"\"}, \"colorscale\": [[0.0, \"#0d0887\"], [0.1111111111111111, \"#46039f\"], [0.2222222222222222, \"#7201a8\"], [0.3333333333333333, \"#9c179e\"], [0.4444444444444444, \"#bd3786\"], [0.5555555555555556, \"#d8576b\"], [0.6666666666666666, \"#ed7953\"], [0.7777777777777778, \"#fb9f3a\"], [0.8888888888888888, \"#fdca26\"], [1.0, \"#f0f921\"]], \"type\": \"histogram2dcontour\"}], \"mesh3d\": [{\"colorbar\": {\"outlinewidth\": 0, \"ticks\": \"\"}, \"type\": \"mesh3d\"}], \"parcoords\": [{\"line\": {\"colorbar\": {\"outlinewidth\": 0, \"ticks\": \"\"}}, \"type\": \"parcoords\"}], \"pie\": [{\"automargin\": true, \"type\": \"pie\"}], \"scatter\": [{\"marker\": {\"colorbar\": {\"outlinewidth\": 0, \"ticks\": \"\"}}, \"type\": \"scatter\"}], \"scatter3d\": [{\"line\": {\"colorbar\": {\"outlinewidth\": 0, \"ticks\": \"\"}}, \"marker\": {\"colorbar\": {\"outlinewidth\": 0, \"ticks\": \"\"}}, \"type\": \"scatter3d\"}], \"scattercarpet\": [{\"marker\": {\"colorbar\": {\"outlinewidth\": 0, \"ticks\": \"\"}}, \"type\": \"scattercarpet\"}], \"scattergeo\": [{\"marker\": {\"colorbar\": {\"outlinewidth\": 0, \"ticks\": \"\"}}, \"type\": \"scattergeo\"}], \"scattergl\": [{\"marker\": {\"colorbar\": {\"outlinewidth\": 0, \"ticks\": \"\"}}, \"type\": \"scattergl\"}], \"scattermapbox\": [{\"marker\": {\"colorbar\": {\"outlinewidth\": 0, \"ticks\": \"\"}}, \"type\": \"scattermapbox\"}], \"scatterpolar\": [{\"marker\": {\"colorbar\": {\"outlinewidth\": 0, \"ticks\": \"\"}}, \"type\": \"scatterpolar\"}], \"scatterpolargl\": [{\"marker\": {\"colorbar\": {\"outlinewidth\": 0, \"ticks\": \"\"}}, \"type\": \"scatterpolargl\"}], \"scatterternary\": [{\"marker\": {\"colorbar\": {\"outlinewidth\": 0, \"ticks\": \"\"}}, \"type\": \"scatterternary\"}], \"surface\": [{\"colorbar\": {\"outlinewidth\": 0, \"ticks\": \"\"}, \"colorscale\": [[0.0, \"#0d0887\"], [0.1111111111111111, \"#46039f\"], [0.2222222222222222, \"#7201a8\"], [0.3333333333333333, \"#9c179e\"], [0.4444444444444444, \"#bd3786\"], [0.5555555555555556, \"#d8576b\"], [0.6666666666666666, \"#ed7953\"], [0.7777777777777778, \"#fb9f3a\"], [0.8888888888888888, \"#fdca26\"], [1.0, \"#f0f921\"]], \"type\": \"surface\"}], \"table\": [{\"cells\": {\"fill\": {\"color\": \"#EBF0F8\"}, \"line\": {\"color\": \"white\"}}, \"header\": {\"fill\": {\"color\": \"#C8D4E3\"}, \"line\": {\"color\": \"white\"}}, \"type\": \"table\"}]}, \"layout\": {\"annotationdefaults\": {\"arrowcolor\": \"#2a3f5f\", \"arrowhead\": 0, \"arrowwidth\": 1}, \"coloraxis\": {\"colorbar\": {\"outlinewidth\": 0, \"ticks\": \"\"}}, \"colorscale\": {\"diverging\": [[0, \"#8e0152\"], [0.1, \"#c51b7d\"], [0.2, \"#de77ae\"], [0.3, \"#f1b6da\"], [0.4, \"#fde0ef\"], [0.5, \"#f7f7f7\"], [0.6, \"#e6f5d0\"], [0.7, \"#b8e186\"], [0.8, \"#7fbc41\"], [0.9, \"#4d9221\"], [1, \"#276419\"]], \"sequential\": [[0.0, \"#0d0887\"], [0.1111111111111111, \"#46039f\"], [0.2222222222222222, \"#7201a8\"], [0.3333333333333333, \"#9c179e\"], [0.4444444444444444, \"#bd3786\"], [0.5555555555555556, \"#d8576b\"], [0.6666666666666666, \"#ed7953\"], [0.7777777777777778, \"#fb9f3a\"], [0.8888888888888888, \"#fdca26\"], [1.0, \"#f0f921\"]], \"sequentialminus\": [[0.0, \"#0d0887\"], [0.1111111111111111, \"#46039f\"], [0.2222222222222222, \"#7201a8\"], [0.3333333333333333, \"#9c179e\"], [0.4444444444444444, \"#bd3786\"], [0.5555555555555556, \"#d8576b\"], [0.6666666666666666, \"#ed7953\"], [0.7777777777777778, \"#fb9f3a\"], [0.8888888888888888, \"#fdca26\"], [1.0, \"#f0f921\"]]}, \"colorway\": [\"#636efa\", \"#EF553B\", \"#00cc96\", \"#ab63fa\", \"#FFA15A\", \"#19d3f3\", \"#FF6692\", \"#B6E880\", \"#FF97FF\", \"#FECB52\"], \"font\": {\"color\": \"#2a3f5f\"}, \"geo\": {\"bgcolor\": \"white\", \"lakecolor\": \"white\", \"landcolor\": \"#E5ECF6\", \"showlakes\": true, \"showland\": true, \"subunitcolor\": \"white\"}, \"hoverlabel\": {\"align\": \"left\"}, \"hovermode\": \"closest\", \"mapbox\": {\"style\": \"light\"}, \"paper_bgcolor\": \"white\", \"plot_bgcolor\": \"#E5ECF6\", \"polar\": {\"angularaxis\": {\"gridcolor\": \"white\", \"linecolor\": \"white\", \"ticks\": \"\"}, \"bgcolor\": \"#E5ECF6\", \"radialaxis\": {\"gridcolor\": \"white\", \"linecolor\": \"white\", \"ticks\": \"\"}}, \"scene\": {\"xaxis\": {\"backgroundcolor\": \"#E5ECF6\", \"gridcolor\": \"white\", \"gridwidth\": 2, \"linecolor\": \"white\", \"showbackground\": true, \"ticks\": \"\", \"zerolinecolor\": \"white\"}, \"yaxis\": {\"backgroundcolor\": \"#E5ECF6\", \"gridcolor\": \"white\", \"gridwidth\": 2, \"linecolor\": \"white\", \"showbackground\": true, \"ticks\": \"\", \"zerolinecolor\": \"white\"}, \"zaxis\": {\"backgroundcolor\": \"#E5ECF6\", \"gridcolor\": \"white\", \"gridwidth\": 2, \"linecolor\": \"white\", \"showbackground\": true, \"ticks\": \"\", \"zerolinecolor\": \"white\"}}, \"shapedefaults\": {\"line\": {\"color\": \"#2a3f5f\"}}, \"ternary\": {\"aaxis\": {\"gridcolor\": \"white\", \"linecolor\": \"white\", \"ticks\": \"\"}, \"baxis\": {\"gridcolor\": \"white\", \"linecolor\": \"white\", \"ticks\": \"\"}, \"bgcolor\": \"#E5ECF6\", \"caxis\": {\"gridcolor\": \"white\", \"linecolor\": \"white\", \"ticks\": \"\"}}, \"title\": {\"x\": 0.05}, \"xaxis\": {\"automargin\": true, \"gridcolor\": \"white\", \"linecolor\": \"white\", \"ticks\": \"\", \"title\": {\"standoff\": 15}, \"zerolinecolor\": \"white\", \"zerolinewidth\": 2}, \"yaxis\": {\"automargin\": true, \"gridcolor\": \"white\", \"linecolor\": \"white\", \"ticks\": \"\", \"title\": {\"standoff\": 15}, \"zerolinecolor\": \"white\", \"zerolinewidth\": 2}}}, \"title\": {\"font\": {\"color\": \"#4D5663\"}}, \"xaxis\": {\"gridcolor\": \"#E1E5ED\", \"showgrid\": true, \"tickfont\": {\"color\": \"#4D5663\"}, \"title\": {\"font\": {\"color\": \"#4D5663\"}, \"text\": \"\"}, \"zerolinecolor\": \"#E1E5ED\"}, \"yaxis\": {\"gridcolor\": \"#E1E5ED\", \"showgrid\": true, \"tickfont\": {\"color\": \"#4D5663\"}, \"title\": {\"font\": {\"color\": \"#4D5663\"}, \"text\": \"\"}, \"zerolinecolor\": \"#E1E5ED\"}},\n",
       "                        {\"showLink\": true, \"linkText\": \"Export to plot.ly\", \"plotlyServerURL\": \"https://plot.ly\", \"responsive\": true}\n",
       "                    ).then(function(){\n",
       "                            \n",
       "var gd = document.getElementById('12bcaddb-b3e9-45bd-b5cd-5f79d45a6d80');\n",
       "var x = new MutationObserver(function (mutations, observer) {{\n",
       "        var display = window.getComputedStyle(gd).display;\n",
       "        if (!display || display === 'none') {{\n",
       "            console.log([gd, 'removed!']);\n",
       "            Plotly.purge(gd);\n",
       "            observer.disconnect();\n",
       "        }}\n",
       "}});\n",
       "\n",
       "// Listen for the removal of the full notebook cells\n",
       "var notebookContainer = gd.closest('#notebook-container');\n",
       "if (notebookContainer) {{\n",
       "    x.observe(notebookContainer, {childList: true});\n",
       "}}\n",
       "\n",
       "// Listen for the clearing of the current output cell\n",
       "var outputEl = gd.closest('.output');\n",
       "if (outputEl) {{\n",
       "    x.observe(outputEl, {childList: true});\n",
       "}}\n",
       "\n",
       "                        })\n",
       "                };\n",
       "                });\n",
       "            </script>\n",
       "        </div>"
      ]
     },
     "metadata": {},
     "output_type": "display_data"
    }
   ],
   "source": [
    "df.iplot(kind='scatter',x='A',y='B')"
   ]
  },
  {
   "cell_type": "code",
   "execution_count": 19,
   "metadata": {},
   "outputs": [
    {
     "data": {
      "application/vnd.plotly.v1+json": {
       "config": {
        "linkText": "Export to plot.ly",
        "plotlyServerURL": "https://plot.ly",
        "showLink": true
       },
       "data": [
        {
         "line": {
          "color": "rgba(255, 153, 51, 1.0)",
          "dash": "solid",
          "shape": "linear",
          "width": 1.3
         },
         "marker": {
          "size": 12,
          "symbol": "circle"
         },
         "mode": "markers",
         "name": "B",
         "text": "",
         "type": "scatter",
         "x": [
          0.0582296909058791,
          -0.02584525376380703,
          0.00233282809989629,
          1.1481746239450044,
          0.24613651723675956,
          -1.0638018398599103,
          -0.21304176589290522,
          -0.8877953781238356,
          0.2408920641467541,
          -0.8396975894960268,
          2.0132202407596353,
          -1.8360206750556003,
          -0.2517700023746602,
          -1.4502799812552967,
          0.4152057826772664,
          -0.8998644155235899,
          0.5982440600673362,
          -0.9759069692250059,
          -1.1973876247754691,
          0.5577122833829123,
          2.310315783202372,
          -1.7961940534317489,
          -0.6572397260969888,
          -1.3376421186203706,
          1.0608517587708919,
          -2.259894369695355,
          1.4606925940258704,
          1.8907728427394275,
          -0.3043119428357968,
          1.9881857367303992,
          0.3901698887479151,
          1.3241022911963933,
          1.0959833079431376,
          -1.2734420037321217,
          -1.3216363381573888,
          0.834565478861918,
          0.6299828498049981,
          2.0786395666444015,
          -1.0791936006443799,
          -1.3790272078160453,
          -1.178945530656404,
          0.22964243572651152,
          -0.029963990967407286,
          -0.43786137324103674,
          0.6356308238712179,
          0.14810106273265564,
          0.5227969542030575,
          1.0543535418382617,
          0.02211756534029964,
          -0.13560799701465331,
          -0.5525218983218556,
          -1.0196807962712457,
          -0.2607666151406072,
          -0.5602173304664195,
          -0.6492750894074405,
          -0.2556935165453845,
          -1.0771115992625304,
          -0.135328085335629,
          -0.04464422947027891,
          -1.161005405176078,
          0.3122523074359768,
          -1.6625191089294775,
          0.34194335491409344,
          0.16470959404488125,
          1.2878181748305546,
          0.5610471493377563,
          -1.444406167736111,
          0.61479147005293,
          2.7365467524952916,
          -0.6323625965306128,
          1.276169138221677,
          -0.048793811614966896,
          -0.6086730440924935,
          0.14012253128489457,
          -0.8621572953507786,
          -1.7685450434583079,
          0.45581637692557153,
          0.7050466998267874,
          0.2814153735282505,
          0.19735245724273506,
          -1.1781923319235064,
          0.38757667877441015,
          0.2906922661543077,
          -1.0313059627582548,
          0.43284154174190126,
          -0.9379419695402221,
          -0.5102362125240482,
          -0.20895028756198047,
          1.4035565803611778,
          -1.0519821869520587,
          0.11992036334528934,
          -1.2473763817788441,
          -0.9440623587862923,
          0.4649388980972195,
          0.8891091225455513,
          -0.05281339848006934,
          1.1826926725138664,
          -0.6496100176207341,
          0.3463146074175848,
          1.245054214730473
         ],
         "y": [
          -0.8159108900054555,
          -1.929941219688791,
          -0.03657417027881783,
          -1.0974209539855215,
          1.052196520858351,
          0.033822329120052425,
          1.8176801096555568,
          -0.8520932618888648,
          0.1782263123008412,
          0.6516149971522324,
          -0.1914194854642487,
          0.008657291528901528,
          -0.8148758043003251,
          -0.9471398783497236,
          -0.6061811239096245,
          1.4415241885529897,
          0.8851494166861117,
          0.20512285715425654,
          -0.7302217226826899,
          -0.31951913686424854,
          0.27231889777693935,
          -0.09697422065665619,
          -0.6649205861559219,
          0.5620367857612353,
          1.7533700715066436,
          0.6286472913776453,
          -0.7855956286751903,
          -0.15994050635267051,
          1.3518808645637923,
          -1.0154365693968737,
          -0.18050820646100885,
          0.10834646519885681,
          0.7096009539601019,
          -1.6023624543290134,
          1.9871052880616062,
          0.13645875362141854,
          -0.14633701649722333,
          0.38661791094502607,
          -0.5619435011719726,
          -0.20251346230180112,
          0.6479159809236236,
          -0.7526340518086364,
          -0.21918777663590203,
          1.0416872919367612,
          -0.6468863728671859,
          -0.44682241371939924,
          0.5847470571104231,
          1.525293780434978,
          1.6806985956288825,
          -0.40897115263895845,
          0.4807243711627144,
          0.4261709336642487,
          -0.2587232083938359,
          0.4457411507797482,
          -0.2780131113425037,
          0.6771683729554895,
          -0.49326884312164854,
          0.378732594771927,
          0.7495296141469234,
          -0.16621758439843407,
          -0.23419012280575963,
          -0.8429186547805513,
          -1.4561552722178908,
          -0.2133350041936494,
          -0.2006493898869039,
          -0.6181873825812856,
          -1.6980110048485777,
          -0.7626793020761945,
          0.3885269527655976,
          -0.46412751801116825,
          -1.0763819235680343,
          -0.502238030495814,
          -0.28576562016979584,
          0.21551527887273858,
          1.8833906902942927,
          -0.24381875320711635,
          -2.0108817352692587,
          -1.1983839198702526,
          1.4254320467638015,
          0.8872957071538016,
          0.2680860134619889,
          -0.14122802360169043,
          0.17462228023424262,
          0.47283501980558207,
          -1.5376258685767012,
          -0.9705267350254004,
          0.26336399264955324,
          -0.2400452642080898,
          1.3197311512694645,
          -0.49995857976244107,
          1.1159025551961577,
          0.3216947684974362,
          -0.06706027728631916,
          -0.5875192402723305,
          0.2673311445431004,
          1.2846262456076551,
          -0.25339170680358225,
          -0.6085930939009376,
          -1.3442330241206317,
          0.2245819379710808
         ]
        }
       ],
       "layout": {
        "legend": {
         "bgcolor": "#F5F6F9",
         "font": {
          "color": "#4D5663"
         }
        },
        "paper_bgcolor": "#F5F6F9",
        "plot_bgcolor": "#F5F6F9",
        "template": {
         "data": {
          "bar": [
           {
            "error_x": {
             "color": "#2a3f5f"
            },
            "error_y": {
             "color": "#2a3f5f"
            },
            "marker": {
             "line": {
              "color": "#E5ECF6",
              "width": 0.5
             }
            },
            "type": "bar"
           }
          ],
          "barpolar": [
           {
            "marker": {
             "line": {
              "color": "#E5ECF6",
              "width": 0.5
             }
            },
            "type": "barpolar"
           }
          ],
          "carpet": [
           {
            "aaxis": {
             "endlinecolor": "#2a3f5f",
             "gridcolor": "white",
             "linecolor": "white",
             "minorgridcolor": "white",
             "startlinecolor": "#2a3f5f"
            },
            "baxis": {
             "endlinecolor": "#2a3f5f",
             "gridcolor": "white",
             "linecolor": "white",
             "minorgridcolor": "white",
             "startlinecolor": "#2a3f5f"
            },
            "type": "carpet"
           }
          ],
          "choropleth": [
           {
            "colorbar": {
             "outlinewidth": 0,
             "ticks": ""
            },
            "type": "choropleth"
           }
          ],
          "contour": [
           {
            "colorbar": {
             "outlinewidth": 0,
             "ticks": ""
            },
            "colorscale": [
             [
              0,
              "#0d0887"
             ],
             [
              0.1111111111111111,
              "#46039f"
             ],
             [
              0.2222222222222222,
              "#7201a8"
             ],
             [
              0.3333333333333333,
              "#9c179e"
             ],
             [
              0.4444444444444444,
              "#bd3786"
             ],
             [
              0.5555555555555556,
              "#d8576b"
             ],
             [
              0.6666666666666666,
              "#ed7953"
             ],
             [
              0.7777777777777778,
              "#fb9f3a"
             ],
             [
              0.8888888888888888,
              "#fdca26"
             ],
             [
              1,
              "#f0f921"
             ]
            ],
            "type": "contour"
           }
          ],
          "contourcarpet": [
           {
            "colorbar": {
             "outlinewidth": 0,
             "ticks": ""
            },
            "type": "contourcarpet"
           }
          ],
          "heatmap": [
           {
            "colorbar": {
             "outlinewidth": 0,
             "ticks": ""
            },
            "colorscale": [
             [
              0,
              "#0d0887"
             ],
             [
              0.1111111111111111,
              "#46039f"
             ],
             [
              0.2222222222222222,
              "#7201a8"
             ],
             [
              0.3333333333333333,
              "#9c179e"
             ],
             [
              0.4444444444444444,
              "#bd3786"
             ],
             [
              0.5555555555555556,
              "#d8576b"
             ],
             [
              0.6666666666666666,
              "#ed7953"
             ],
             [
              0.7777777777777778,
              "#fb9f3a"
             ],
             [
              0.8888888888888888,
              "#fdca26"
             ],
             [
              1,
              "#f0f921"
             ]
            ],
            "type": "heatmap"
           }
          ],
          "heatmapgl": [
           {
            "colorbar": {
             "outlinewidth": 0,
             "ticks": ""
            },
            "colorscale": [
             [
              0,
              "#0d0887"
             ],
             [
              0.1111111111111111,
              "#46039f"
             ],
             [
              0.2222222222222222,
              "#7201a8"
             ],
             [
              0.3333333333333333,
              "#9c179e"
             ],
             [
              0.4444444444444444,
              "#bd3786"
             ],
             [
              0.5555555555555556,
              "#d8576b"
             ],
             [
              0.6666666666666666,
              "#ed7953"
             ],
             [
              0.7777777777777778,
              "#fb9f3a"
             ],
             [
              0.8888888888888888,
              "#fdca26"
             ],
             [
              1,
              "#f0f921"
             ]
            ],
            "type": "heatmapgl"
           }
          ],
          "histogram": [
           {
            "marker": {
             "colorbar": {
              "outlinewidth": 0,
              "ticks": ""
             }
            },
            "type": "histogram"
           }
          ],
          "histogram2d": [
           {
            "colorbar": {
             "outlinewidth": 0,
             "ticks": ""
            },
            "colorscale": [
             [
              0,
              "#0d0887"
             ],
             [
              0.1111111111111111,
              "#46039f"
             ],
             [
              0.2222222222222222,
              "#7201a8"
             ],
             [
              0.3333333333333333,
              "#9c179e"
             ],
             [
              0.4444444444444444,
              "#bd3786"
             ],
             [
              0.5555555555555556,
              "#d8576b"
             ],
             [
              0.6666666666666666,
              "#ed7953"
             ],
             [
              0.7777777777777778,
              "#fb9f3a"
             ],
             [
              0.8888888888888888,
              "#fdca26"
             ],
             [
              1,
              "#f0f921"
             ]
            ],
            "type": "histogram2d"
           }
          ],
          "histogram2dcontour": [
           {
            "colorbar": {
             "outlinewidth": 0,
             "ticks": ""
            },
            "colorscale": [
             [
              0,
              "#0d0887"
             ],
             [
              0.1111111111111111,
              "#46039f"
             ],
             [
              0.2222222222222222,
              "#7201a8"
             ],
             [
              0.3333333333333333,
              "#9c179e"
             ],
             [
              0.4444444444444444,
              "#bd3786"
             ],
             [
              0.5555555555555556,
              "#d8576b"
             ],
             [
              0.6666666666666666,
              "#ed7953"
             ],
             [
              0.7777777777777778,
              "#fb9f3a"
             ],
             [
              0.8888888888888888,
              "#fdca26"
             ],
             [
              1,
              "#f0f921"
             ]
            ],
            "type": "histogram2dcontour"
           }
          ],
          "mesh3d": [
           {
            "colorbar": {
             "outlinewidth": 0,
             "ticks": ""
            },
            "type": "mesh3d"
           }
          ],
          "parcoords": [
           {
            "line": {
             "colorbar": {
              "outlinewidth": 0,
              "ticks": ""
             }
            },
            "type": "parcoords"
           }
          ],
          "pie": [
           {
            "automargin": true,
            "type": "pie"
           }
          ],
          "scatter": [
           {
            "marker": {
             "colorbar": {
              "outlinewidth": 0,
              "ticks": ""
             }
            },
            "type": "scatter"
           }
          ],
          "scatter3d": [
           {
            "line": {
             "colorbar": {
              "outlinewidth": 0,
              "ticks": ""
             }
            },
            "marker": {
             "colorbar": {
              "outlinewidth": 0,
              "ticks": ""
             }
            },
            "type": "scatter3d"
           }
          ],
          "scattercarpet": [
           {
            "marker": {
             "colorbar": {
              "outlinewidth": 0,
              "ticks": ""
             }
            },
            "type": "scattercarpet"
           }
          ],
          "scattergeo": [
           {
            "marker": {
             "colorbar": {
              "outlinewidth": 0,
              "ticks": ""
             }
            },
            "type": "scattergeo"
           }
          ],
          "scattergl": [
           {
            "marker": {
             "colorbar": {
              "outlinewidth": 0,
              "ticks": ""
             }
            },
            "type": "scattergl"
           }
          ],
          "scattermapbox": [
           {
            "marker": {
             "colorbar": {
              "outlinewidth": 0,
              "ticks": ""
             }
            },
            "type": "scattermapbox"
           }
          ],
          "scatterpolar": [
           {
            "marker": {
             "colorbar": {
              "outlinewidth": 0,
              "ticks": ""
             }
            },
            "type": "scatterpolar"
           }
          ],
          "scatterpolargl": [
           {
            "marker": {
             "colorbar": {
              "outlinewidth": 0,
              "ticks": ""
             }
            },
            "type": "scatterpolargl"
           }
          ],
          "scatterternary": [
           {
            "marker": {
             "colorbar": {
              "outlinewidth": 0,
              "ticks": ""
             }
            },
            "type": "scatterternary"
           }
          ],
          "surface": [
           {
            "colorbar": {
             "outlinewidth": 0,
             "ticks": ""
            },
            "colorscale": [
             [
              0,
              "#0d0887"
             ],
             [
              0.1111111111111111,
              "#46039f"
             ],
             [
              0.2222222222222222,
              "#7201a8"
             ],
             [
              0.3333333333333333,
              "#9c179e"
             ],
             [
              0.4444444444444444,
              "#bd3786"
             ],
             [
              0.5555555555555556,
              "#d8576b"
             ],
             [
              0.6666666666666666,
              "#ed7953"
             ],
             [
              0.7777777777777778,
              "#fb9f3a"
             ],
             [
              0.8888888888888888,
              "#fdca26"
             ],
             [
              1,
              "#f0f921"
             ]
            ],
            "type": "surface"
           }
          ],
          "table": [
           {
            "cells": {
             "fill": {
              "color": "#EBF0F8"
             },
             "line": {
              "color": "white"
             }
            },
            "header": {
             "fill": {
              "color": "#C8D4E3"
             },
             "line": {
              "color": "white"
             }
            },
            "type": "table"
           }
          ]
         },
         "layout": {
          "annotationdefaults": {
           "arrowcolor": "#2a3f5f",
           "arrowhead": 0,
           "arrowwidth": 1
          },
          "coloraxis": {
           "colorbar": {
            "outlinewidth": 0,
            "ticks": ""
           }
          },
          "colorscale": {
           "diverging": [
            [
             0,
             "#8e0152"
            ],
            [
             0.1,
             "#c51b7d"
            ],
            [
             0.2,
             "#de77ae"
            ],
            [
             0.3,
             "#f1b6da"
            ],
            [
             0.4,
             "#fde0ef"
            ],
            [
             0.5,
             "#f7f7f7"
            ],
            [
             0.6,
             "#e6f5d0"
            ],
            [
             0.7,
             "#b8e186"
            ],
            [
             0.8,
             "#7fbc41"
            ],
            [
             0.9,
             "#4d9221"
            ],
            [
             1,
             "#276419"
            ]
           ],
           "sequential": [
            [
             0,
             "#0d0887"
            ],
            [
             0.1111111111111111,
             "#46039f"
            ],
            [
             0.2222222222222222,
             "#7201a8"
            ],
            [
             0.3333333333333333,
             "#9c179e"
            ],
            [
             0.4444444444444444,
             "#bd3786"
            ],
            [
             0.5555555555555556,
             "#d8576b"
            ],
            [
             0.6666666666666666,
             "#ed7953"
            ],
            [
             0.7777777777777778,
             "#fb9f3a"
            ],
            [
             0.8888888888888888,
             "#fdca26"
            ],
            [
             1,
             "#f0f921"
            ]
           ],
           "sequentialminus": [
            [
             0,
             "#0d0887"
            ],
            [
             0.1111111111111111,
             "#46039f"
            ],
            [
             0.2222222222222222,
             "#7201a8"
            ],
            [
             0.3333333333333333,
             "#9c179e"
            ],
            [
             0.4444444444444444,
             "#bd3786"
            ],
            [
             0.5555555555555556,
             "#d8576b"
            ],
            [
             0.6666666666666666,
             "#ed7953"
            ],
            [
             0.7777777777777778,
             "#fb9f3a"
            ],
            [
             0.8888888888888888,
             "#fdca26"
            ],
            [
             1,
             "#f0f921"
            ]
           ]
          },
          "colorway": [
           "#636efa",
           "#EF553B",
           "#00cc96",
           "#ab63fa",
           "#FFA15A",
           "#19d3f3",
           "#FF6692",
           "#B6E880",
           "#FF97FF",
           "#FECB52"
          ],
          "font": {
           "color": "#2a3f5f"
          },
          "geo": {
           "bgcolor": "white",
           "lakecolor": "white",
           "landcolor": "#E5ECF6",
           "showlakes": true,
           "showland": true,
           "subunitcolor": "white"
          },
          "hoverlabel": {
           "align": "left"
          },
          "hovermode": "closest",
          "mapbox": {
           "style": "light"
          },
          "paper_bgcolor": "white",
          "plot_bgcolor": "#E5ECF6",
          "polar": {
           "angularaxis": {
            "gridcolor": "white",
            "linecolor": "white",
            "ticks": ""
           },
           "bgcolor": "#E5ECF6",
           "radialaxis": {
            "gridcolor": "white",
            "linecolor": "white",
            "ticks": ""
           }
          },
          "scene": {
           "xaxis": {
            "backgroundcolor": "#E5ECF6",
            "gridcolor": "white",
            "gridwidth": 2,
            "linecolor": "white",
            "showbackground": true,
            "ticks": "",
            "zerolinecolor": "white"
           },
           "yaxis": {
            "backgroundcolor": "#E5ECF6",
            "gridcolor": "white",
            "gridwidth": 2,
            "linecolor": "white",
            "showbackground": true,
            "ticks": "",
            "zerolinecolor": "white"
           },
           "zaxis": {
            "backgroundcolor": "#E5ECF6",
            "gridcolor": "white",
            "gridwidth": 2,
            "linecolor": "white",
            "showbackground": true,
            "ticks": "",
            "zerolinecolor": "white"
           }
          },
          "shapedefaults": {
           "line": {
            "color": "#2a3f5f"
           }
          },
          "ternary": {
           "aaxis": {
            "gridcolor": "white",
            "linecolor": "white",
            "ticks": ""
           },
           "baxis": {
            "gridcolor": "white",
            "linecolor": "white",
            "ticks": ""
           },
           "bgcolor": "#E5ECF6",
           "caxis": {
            "gridcolor": "white",
            "linecolor": "white",
            "ticks": ""
           }
          },
          "title": {
           "x": 0.05
          },
          "xaxis": {
           "automargin": true,
           "gridcolor": "white",
           "linecolor": "white",
           "ticks": "",
           "title": {
            "standoff": 15
           },
           "zerolinecolor": "white",
           "zerolinewidth": 2
          },
          "yaxis": {
           "automargin": true,
           "gridcolor": "white",
           "linecolor": "white",
           "ticks": "",
           "title": {
            "standoff": 15
           },
           "zerolinecolor": "white",
           "zerolinewidth": 2
          }
         }
        },
        "title": {
         "font": {
          "color": "#4D5663"
         }
        },
        "xaxis": {
         "gridcolor": "#E1E5ED",
         "showgrid": true,
         "tickfont": {
          "color": "#4D5663"
         },
         "title": {
          "font": {
           "color": "#4D5663"
          },
          "text": ""
         },
         "zerolinecolor": "#E1E5ED"
        },
        "yaxis": {
         "gridcolor": "#E1E5ED",
         "showgrid": true,
         "tickfont": {
          "color": "#4D5663"
         },
         "title": {
          "font": {
           "color": "#4D5663"
          },
          "text": ""
         },
         "zerolinecolor": "#E1E5ED"
        }
       }
      },
      "text/html": [
       "<div>\n",
       "        \n",
       "        \n",
       "            <div id=\"4aa73a77-d741-4d8c-a4e1-bca132afa2ae\" class=\"plotly-graph-div\" style=\"height:525px; width:100%;\"></div>\n",
       "            <script type=\"text/javascript\">\n",
       "                require([\"plotly\"], function(Plotly) {\n",
       "                    window.PLOTLYENV=window.PLOTLYENV || {};\n",
       "                    window.PLOTLYENV.BASE_URL='https://plot.ly';\n",
       "                    \n",
       "                if (document.getElementById(\"4aa73a77-d741-4d8c-a4e1-bca132afa2ae\")) {\n",
       "                    Plotly.newPlot(\n",
       "                        '4aa73a77-d741-4d8c-a4e1-bca132afa2ae',\n",
       "                        [{\"line\": {\"color\": \"rgba(255, 153, 51, 1.0)\", \"dash\": \"solid\", \"shape\": \"linear\", \"width\": 1.3}, \"marker\": {\"size\": 12, \"symbol\": \"circle\"}, \"mode\": \"markers\", \"name\": \"B\", \"text\": \"\", \"type\": \"scatter\", \"x\": [0.0582296909058791, -0.02584525376380703, 0.00233282809989629, 1.1481746239450044, 0.24613651723675956, -1.0638018398599103, -0.21304176589290522, -0.8877953781238356, 0.2408920641467541, -0.8396975894960268, 2.0132202407596353, -1.8360206750556003, -0.2517700023746602, -1.4502799812552967, 0.4152057826772664, -0.8998644155235899, 0.5982440600673362, -0.9759069692250059, -1.1973876247754691, 0.5577122833829123, 2.310315783202372, -1.7961940534317489, -0.6572397260969888, -1.3376421186203706, 1.0608517587708919, -2.259894369695355, 1.4606925940258704, 1.8907728427394275, -0.3043119428357968, 1.9881857367303992, 0.3901698887479151, 1.3241022911963933, 1.0959833079431376, -1.2734420037321217, -1.3216363381573888, 0.834565478861918, 0.6299828498049981, 2.0786395666444015, -1.0791936006443799, -1.3790272078160453, -1.178945530656404, 0.22964243572651152, -0.029963990967407286, -0.43786137324103674, 0.6356308238712179, 0.14810106273265564, 0.5227969542030575, 1.0543535418382617, 0.02211756534029964, -0.13560799701465331, -0.5525218983218556, -1.0196807962712457, -0.2607666151406072, -0.5602173304664195, -0.6492750894074405, -0.2556935165453845, -1.0771115992625304, -0.135328085335629, -0.04464422947027891, -1.161005405176078, 0.3122523074359768, -1.6625191089294775, 0.34194335491409344, 0.16470959404488125, 1.2878181748305546, 0.5610471493377563, -1.444406167736111, 0.61479147005293, 2.7365467524952916, -0.6323625965306128, 1.276169138221677, -0.048793811614966896, -0.6086730440924935, 0.14012253128489457, -0.8621572953507786, -1.7685450434583079, 0.45581637692557153, 0.7050466998267874, 0.2814153735282505, 0.19735245724273506, -1.1781923319235064, 0.38757667877441015, 0.2906922661543077, -1.0313059627582548, 0.43284154174190126, -0.9379419695402221, -0.5102362125240482, -0.20895028756198047, 1.4035565803611778, -1.0519821869520587, 0.11992036334528934, -1.2473763817788441, -0.9440623587862923, 0.4649388980972195, 0.8891091225455513, -0.05281339848006934, 1.1826926725138664, -0.6496100176207341, 0.3463146074175848, 1.245054214730473], \"y\": [-0.8159108900054555, -1.929941219688791, -0.03657417027881783, -1.0974209539855215, 1.052196520858351, 0.033822329120052425, 1.8176801096555568, -0.8520932618888648, 0.1782263123008412, 0.6516149971522324, -0.1914194854642487, 0.008657291528901528, -0.8148758043003251, -0.9471398783497236, -0.6061811239096245, 1.4415241885529897, 0.8851494166861117, 0.20512285715425654, -0.7302217226826899, -0.31951913686424854, 0.27231889777693935, -0.09697422065665619, -0.6649205861559219, 0.5620367857612353, 1.7533700715066436, 0.6286472913776453, -0.7855956286751903, -0.15994050635267051, 1.3518808645637923, -1.0154365693968737, -0.18050820646100885, 0.10834646519885681, 0.7096009539601019, -1.6023624543290134, 1.9871052880616062, 0.13645875362141854, -0.14633701649722333, 0.38661791094502607, -0.5619435011719726, -0.20251346230180112, 0.6479159809236236, -0.7526340518086364, -0.21918777663590203, 1.0416872919367612, -0.6468863728671859, -0.44682241371939924, 0.5847470571104231, 1.525293780434978, 1.6806985956288825, -0.40897115263895845, 0.4807243711627144, 0.4261709336642487, -0.2587232083938359, 0.4457411507797482, -0.2780131113425037, 0.6771683729554895, -0.49326884312164854, 0.378732594771927, 0.7495296141469234, -0.16621758439843407, -0.23419012280575963, -0.8429186547805513, -1.4561552722178908, -0.2133350041936494, -0.2006493898869039, -0.6181873825812856, -1.6980110048485777, -0.7626793020761945, 0.3885269527655976, -0.46412751801116825, -1.0763819235680343, -0.502238030495814, -0.28576562016979584, 0.21551527887273858, 1.8833906902942927, -0.24381875320711635, -2.0108817352692587, -1.1983839198702526, 1.4254320467638015, 0.8872957071538016, 0.2680860134619889, -0.14122802360169043, 0.17462228023424262, 0.47283501980558207, -1.5376258685767012, -0.9705267350254004, 0.26336399264955324, -0.2400452642080898, 1.3197311512694645, -0.49995857976244107, 1.1159025551961577, 0.3216947684974362, -0.06706027728631916, -0.5875192402723305, 0.2673311445431004, 1.2846262456076551, -0.25339170680358225, -0.6085930939009376, -1.3442330241206317, 0.2245819379710808]}],\n",
       "                        {\"legend\": {\"bgcolor\": \"#F5F6F9\", \"font\": {\"color\": \"#4D5663\"}}, \"paper_bgcolor\": \"#F5F6F9\", \"plot_bgcolor\": \"#F5F6F9\", \"template\": {\"data\": {\"bar\": [{\"error_x\": {\"color\": \"#2a3f5f\"}, \"error_y\": {\"color\": \"#2a3f5f\"}, \"marker\": {\"line\": {\"color\": \"#E5ECF6\", \"width\": 0.5}}, \"type\": \"bar\"}], \"barpolar\": [{\"marker\": {\"line\": {\"color\": \"#E5ECF6\", \"width\": 0.5}}, \"type\": \"barpolar\"}], \"carpet\": [{\"aaxis\": {\"endlinecolor\": \"#2a3f5f\", \"gridcolor\": \"white\", \"linecolor\": \"white\", \"minorgridcolor\": \"white\", \"startlinecolor\": \"#2a3f5f\"}, \"baxis\": {\"endlinecolor\": \"#2a3f5f\", \"gridcolor\": \"white\", \"linecolor\": \"white\", \"minorgridcolor\": \"white\", \"startlinecolor\": \"#2a3f5f\"}, \"type\": \"carpet\"}], \"choropleth\": [{\"colorbar\": {\"outlinewidth\": 0, \"ticks\": \"\"}, \"type\": \"choropleth\"}], \"contour\": [{\"colorbar\": {\"outlinewidth\": 0, \"ticks\": \"\"}, \"colorscale\": [[0.0, \"#0d0887\"], [0.1111111111111111, \"#46039f\"], [0.2222222222222222, \"#7201a8\"], [0.3333333333333333, \"#9c179e\"], [0.4444444444444444, \"#bd3786\"], [0.5555555555555556, \"#d8576b\"], [0.6666666666666666, \"#ed7953\"], [0.7777777777777778, \"#fb9f3a\"], [0.8888888888888888, \"#fdca26\"], [1.0, \"#f0f921\"]], \"type\": \"contour\"}], \"contourcarpet\": [{\"colorbar\": {\"outlinewidth\": 0, \"ticks\": \"\"}, \"type\": \"contourcarpet\"}], \"heatmap\": [{\"colorbar\": {\"outlinewidth\": 0, \"ticks\": \"\"}, \"colorscale\": [[0.0, \"#0d0887\"], [0.1111111111111111, \"#46039f\"], [0.2222222222222222, \"#7201a8\"], [0.3333333333333333, \"#9c179e\"], [0.4444444444444444, \"#bd3786\"], [0.5555555555555556, \"#d8576b\"], [0.6666666666666666, \"#ed7953\"], [0.7777777777777778, \"#fb9f3a\"], [0.8888888888888888, \"#fdca26\"], [1.0, \"#f0f921\"]], \"type\": \"heatmap\"}], \"heatmapgl\": [{\"colorbar\": {\"outlinewidth\": 0, \"ticks\": \"\"}, \"colorscale\": [[0.0, \"#0d0887\"], [0.1111111111111111, \"#46039f\"], [0.2222222222222222, \"#7201a8\"], [0.3333333333333333, \"#9c179e\"], [0.4444444444444444, \"#bd3786\"], [0.5555555555555556, \"#d8576b\"], [0.6666666666666666, \"#ed7953\"], [0.7777777777777778, \"#fb9f3a\"], [0.8888888888888888, \"#fdca26\"], [1.0, \"#f0f921\"]], \"type\": \"heatmapgl\"}], \"histogram\": [{\"marker\": {\"colorbar\": {\"outlinewidth\": 0, \"ticks\": \"\"}}, \"type\": \"histogram\"}], \"histogram2d\": [{\"colorbar\": {\"outlinewidth\": 0, \"ticks\": \"\"}, \"colorscale\": [[0.0, \"#0d0887\"], [0.1111111111111111, \"#46039f\"], [0.2222222222222222, \"#7201a8\"], [0.3333333333333333, \"#9c179e\"], [0.4444444444444444, \"#bd3786\"], [0.5555555555555556, \"#d8576b\"], [0.6666666666666666, \"#ed7953\"], [0.7777777777777778, \"#fb9f3a\"], [0.8888888888888888, \"#fdca26\"], [1.0, \"#f0f921\"]], \"type\": \"histogram2d\"}], \"histogram2dcontour\": [{\"colorbar\": {\"outlinewidth\": 0, \"ticks\": \"\"}, \"colorscale\": [[0.0, \"#0d0887\"], [0.1111111111111111, \"#46039f\"], [0.2222222222222222, \"#7201a8\"], [0.3333333333333333, \"#9c179e\"], [0.4444444444444444, \"#bd3786\"], [0.5555555555555556, \"#d8576b\"], [0.6666666666666666, \"#ed7953\"], [0.7777777777777778, \"#fb9f3a\"], [0.8888888888888888, \"#fdca26\"], [1.0, \"#f0f921\"]], \"type\": \"histogram2dcontour\"}], \"mesh3d\": [{\"colorbar\": {\"outlinewidth\": 0, \"ticks\": \"\"}, \"type\": \"mesh3d\"}], \"parcoords\": [{\"line\": {\"colorbar\": {\"outlinewidth\": 0, \"ticks\": \"\"}}, \"type\": \"parcoords\"}], \"pie\": [{\"automargin\": true, \"type\": \"pie\"}], \"scatter\": [{\"marker\": {\"colorbar\": {\"outlinewidth\": 0, \"ticks\": \"\"}}, \"type\": \"scatter\"}], \"scatter3d\": [{\"line\": {\"colorbar\": {\"outlinewidth\": 0, \"ticks\": \"\"}}, \"marker\": {\"colorbar\": {\"outlinewidth\": 0, \"ticks\": \"\"}}, \"type\": \"scatter3d\"}], \"scattercarpet\": [{\"marker\": {\"colorbar\": {\"outlinewidth\": 0, \"ticks\": \"\"}}, \"type\": \"scattercarpet\"}], \"scattergeo\": [{\"marker\": {\"colorbar\": {\"outlinewidth\": 0, \"ticks\": \"\"}}, \"type\": \"scattergeo\"}], \"scattergl\": [{\"marker\": {\"colorbar\": {\"outlinewidth\": 0, \"ticks\": \"\"}}, \"type\": \"scattergl\"}], \"scattermapbox\": [{\"marker\": {\"colorbar\": {\"outlinewidth\": 0, \"ticks\": \"\"}}, \"type\": \"scattermapbox\"}], \"scatterpolar\": [{\"marker\": {\"colorbar\": {\"outlinewidth\": 0, \"ticks\": \"\"}}, \"type\": \"scatterpolar\"}], \"scatterpolargl\": [{\"marker\": {\"colorbar\": {\"outlinewidth\": 0, \"ticks\": \"\"}}, \"type\": \"scatterpolargl\"}], \"scatterternary\": [{\"marker\": {\"colorbar\": {\"outlinewidth\": 0, \"ticks\": \"\"}}, \"type\": \"scatterternary\"}], \"surface\": [{\"colorbar\": {\"outlinewidth\": 0, \"ticks\": \"\"}, \"colorscale\": [[0.0, \"#0d0887\"], [0.1111111111111111, \"#46039f\"], [0.2222222222222222, \"#7201a8\"], [0.3333333333333333, \"#9c179e\"], [0.4444444444444444, \"#bd3786\"], [0.5555555555555556, \"#d8576b\"], [0.6666666666666666, \"#ed7953\"], [0.7777777777777778, \"#fb9f3a\"], [0.8888888888888888, \"#fdca26\"], [1.0, \"#f0f921\"]], \"type\": \"surface\"}], \"table\": [{\"cells\": {\"fill\": {\"color\": \"#EBF0F8\"}, \"line\": {\"color\": \"white\"}}, \"header\": {\"fill\": {\"color\": \"#C8D4E3\"}, \"line\": {\"color\": \"white\"}}, \"type\": \"table\"}]}, \"layout\": {\"annotationdefaults\": {\"arrowcolor\": \"#2a3f5f\", \"arrowhead\": 0, \"arrowwidth\": 1}, \"coloraxis\": {\"colorbar\": {\"outlinewidth\": 0, \"ticks\": \"\"}}, \"colorscale\": {\"diverging\": [[0, \"#8e0152\"], [0.1, \"#c51b7d\"], [0.2, \"#de77ae\"], [0.3, \"#f1b6da\"], [0.4, \"#fde0ef\"], [0.5, \"#f7f7f7\"], [0.6, \"#e6f5d0\"], [0.7, \"#b8e186\"], [0.8, \"#7fbc41\"], [0.9, \"#4d9221\"], [1, \"#276419\"]], \"sequential\": [[0.0, \"#0d0887\"], [0.1111111111111111, \"#46039f\"], [0.2222222222222222, \"#7201a8\"], [0.3333333333333333, \"#9c179e\"], [0.4444444444444444, \"#bd3786\"], [0.5555555555555556, \"#d8576b\"], [0.6666666666666666, \"#ed7953\"], [0.7777777777777778, \"#fb9f3a\"], [0.8888888888888888, \"#fdca26\"], [1.0, \"#f0f921\"]], \"sequentialminus\": [[0.0, \"#0d0887\"], [0.1111111111111111, \"#46039f\"], [0.2222222222222222, \"#7201a8\"], [0.3333333333333333, \"#9c179e\"], [0.4444444444444444, \"#bd3786\"], [0.5555555555555556, \"#d8576b\"], [0.6666666666666666, \"#ed7953\"], [0.7777777777777778, \"#fb9f3a\"], [0.8888888888888888, \"#fdca26\"], [1.0, \"#f0f921\"]]}, \"colorway\": [\"#636efa\", \"#EF553B\", \"#00cc96\", \"#ab63fa\", \"#FFA15A\", \"#19d3f3\", \"#FF6692\", \"#B6E880\", \"#FF97FF\", \"#FECB52\"], \"font\": {\"color\": \"#2a3f5f\"}, \"geo\": {\"bgcolor\": \"white\", \"lakecolor\": \"white\", \"landcolor\": \"#E5ECF6\", \"showlakes\": true, \"showland\": true, \"subunitcolor\": \"white\"}, \"hoverlabel\": {\"align\": \"left\"}, \"hovermode\": \"closest\", \"mapbox\": {\"style\": \"light\"}, \"paper_bgcolor\": \"white\", \"plot_bgcolor\": \"#E5ECF6\", \"polar\": {\"angularaxis\": {\"gridcolor\": \"white\", \"linecolor\": \"white\", \"ticks\": \"\"}, \"bgcolor\": \"#E5ECF6\", \"radialaxis\": {\"gridcolor\": \"white\", \"linecolor\": \"white\", \"ticks\": \"\"}}, \"scene\": {\"xaxis\": {\"backgroundcolor\": \"#E5ECF6\", \"gridcolor\": \"white\", \"gridwidth\": 2, \"linecolor\": \"white\", \"showbackground\": true, \"ticks\": \"\", \"zerolinecolor\": \"white\"}, \"yaxis\": {\"backgroundcolor\": \"#E5ECF6\", \"gridcolor\": \"white\", \"gridwidth\": 2, \"linecolor\": \"white\", \"showbackground\": true, \"ticks\": \"\", \"zerolinecolor\": \"white\"}, \"zaxis\": {\"backgroundcolor\": \"#E5ECF6\", \"gridcolor\": \"white\", \"gridwidth\": 2, \"linecolor\": \"white\", \"showbackground\": true, \"ticks\": \"\", \"zerolinecolor\": \"white\"}}, \"shapedefaults\": {\"line\": {\"color\": \"#2a3f5f\"}}, \"ternary\": {\"aaxis\": {\"gridcolor\": \"white\", \"linecolor\": \"white\", \"ticks\": \"\"}, \"baxis\": {\"gridcolor\": \"white\", \"linecolor\": \"white\", \"ticks\": \"\"}, \"bgcolor\": \"#E5ECF6\", \"caxis\": {\"gridcolor\": \"white\", \"linecolor\": \"white\", \"ticks\": \"\"}}, \"title\": {\"x\": 0.05}, \"xaxis\": {\"automargin\": true, \"gridcolor\": \"white\", \"linecolor\": \"white\", \"ticks\": \"\", \"title\": {\"standoff\": 15}, \"zerolinecolor\": \"white\", \"zerolinewidth\": 2}, \"yaxis\": {\"automargin\": true, \"gridcolor\": \"white\", \"linecolor\": \"white\", \"ticks\": \"\", \"title\": {\"standoff\": 15}, \"zerolinecolor\": \"white\", \"zerolinewidth\": 2}}}, \"title\": {\"font\": {\"color\": \"#4D5663\"}}, \"xaxis\": {\"gridcolor\": \"#E1E5ED\", \"showgrid\": true, \"tickfont\": {\"color\": \"#4D5663\"}, \"title\": {\"font\": {\"color\": \"#4D5663\"}, \"text\": \"\"}, \"zerolinecolor\": \"#E1E5ED\"}, \"yaxis\": {\"gridcolor\": \"#E1E5ED\", \"showgrid\": true, \"tickfont\": {\"color\": \"#4D5663\"}, \"title\": {\"font\": {\"color\": \"#4D5663\"}, \"text\": \"\"}, \"zerolinecolor\": \"#E1E5ED\"}},\n",
       "                        {\"showLink\": true, \"linkText\": \"Export to plot.ly\", \"plotlyServerURL\": \"https://plot.ly\", \"responsive\": true}\n",
       "                    ).then(function(){\n",
       "                            \n",
       "var gd = document.getElementById('4aa73a77-d741-4d8c-a4e1-bca132afa2ae');\n",
       "var x = new MutationObserver(function (mutations, observer) {{\n",
       "        var display = window.getComputedStyle(gd).display;\n",
       "        if (!display || display === 'none') {{\n",
       "            console.log([gd, 'removed!']);\n",
       "            Plotly.purge(gd);\n",
       "            observer.disconnect();\n",
       "        }}\n",
       "}});\n",
       "\n",
       "// Listen for the removal of the full notebook cells\n",
       "var notebookContainer = gd.closest('#notebook-container');\n",
       "if (notebookContainer) {{\n",
       "    x.observe(notebookContainer, {childList: true});\n",
       "}}\n",
       "\n",
       "// Listen for the clearing of the current output cell\n",
       "var outputEl = gd.closest('.output');\n",
       "if (outputEl) {{\n",
       "    x.observe(outputEl, {childList: true});\n",
       "}}\n",
       "\n",
       "                        })\n",
       "                };\n",
       "                });\n",
       "            </script>\n",
       "        </div>"
      ]
     },
     "metadata": {},
     "output_type": "display_data"
    }
   ],
   "source": [
    "df.iplot(kind='scatter',x='A',y='B',mode='markers')\n",
    "#df.iplot(kind='scatter',x='A',y='B',mode='markers',size=20)"
   ]
  },
  {
   "cell_type": "code",
   "execution_count": 20,
   "metadata": {},
   "outputs": [
    {
     "data": {
      "application/vnd.plotly.v1+json": {
       "config": {
        "linkText": "Export to plot.ly",
        "plotlyServerURL": "https://plot.ly",
        "showLink": true
       },
       "data": [
        {
         "marker": {
          "color": "rgba(255, 153, 51, 0.6)",
          "line": {
           "color": "rgba(255, 153, 51, 1.0)",
           "width": 1
          }
         },
         "name": "Category",
         "orientation": "v",
         "text": "",
         "type": "bar",
         "x": [
          0,
          1,
          2
         ],
         "y": [
          "a",
          "b",
          "c"
         ]
        },
        {
         "marker": {
          "color": "rgba(55, 128, 191, 0.6)",
          "line": {
           "color": "rgba(55, 128, 191, 1.0)",
           "width": 1
          }
         },
         "name": "Values",
         "orientation": "v",
         "text": "",
         "type": "bar",
         "x": [
          0,
          1,
          2
         ],
         "y": [
          42,
          35,
          54
         ]
        }
       ],
       "layout": {
        "legend": {
         "bgcolor": "#F5F6F9",
         "font": {
          "color": "#4D5663"
         }
        },
        "paper_bgcolor": "#F5F6F9",
        "plot_bgcolor": "#F5F6F9",
        "template": {
         "data": {
          "bar": [
           {
            "error_x": {
             "color": "#2a3f5f"
            },
            "error_y": {
             "color": "#2a3f5f"
            },
            "marker": {
             "line": {
              "color": "#E5ECF6",
              "width": 0.5
             }
            },
            "type": "bar"
           }
          ],
          "barpolar": [
           {
            "marker": {
             "line": {
              "color": "#E5ECF6",
              "width": 0.5
             }
            },
            "type": "barpolar"
           }
          ],
          "carpet": [
           {
            "aaxis": {
             "endlinecolor": "#2a3f5f",
             "gridcolor": "white",
             "linecolor": "white",
             "minorgridcolor": "white",
             "startlinecolor": "#2a3f5f"
            },
            "baxis": {
             "endlinecolor": "#2a3f5f",
             "gridcolor": "white",
             "linecolor": "white",
             "minorgridcolor": "white",
             "startlinecolor": "#2a3f5f"
            },
            "type": "carpet"
           }
          ],
          "choropleth": [
           {
            "colorbar": {
             "outlinewidth": 0,
             "ticks": ""
            },
            "type": "choropleth"
           }
          ],
          "contour": [
           {
            "colorbar": {
             "outlinewidth": 0,
             "ticks": ""
            },
            "colorscale": [
             [
              0,
              "#0d0887"
             ],
             [
              0.1111111111111111,
              "#46039f"
             ],
             [
              0.2222222222222222,
              "#7201a8"
             ],
             [
              0.3333333333333333,
              "#9c179e"
             ],
             [
              0.4444444444444444,
              "#bd3786"
             ],
             [
              0.5555555555555556,
              "#d8576b"
             ],
             [
              0.6666666666666666,
              "#ed7953"
             ],
             [
              0.7777777777777778,
              "#fb9f3a"
             ],
             [
              0.8888888888888888,
              "#fdca26"
             ],
             [
              1,
              "#f0f921"
             ]
            ],
            "type": "contour"
           }
          ],
          "contourcarpet": [
           {
            "colorbar": {
             "outlinewidth": 0,
             "ticks": ""
            },
            "type": "contourcarpet"
           }
          ],
          "heatmap": [
           {
            "colorbar": {
             "outlinewidth": 0,
             "ticks": ""
            },
            "colorscale": [
             [
              0,
              "#0d0887"
             ],
             [
              0.1111111111111111,
              "#46039f"
             ],
             [
              0.2222222222222222,
              "#7201a8"
             ],
             [
              0.3333333333333333,
              "#9c179e"
             ],
             [
              0.4444444444444444,
              "#bd3786"
             ],
             [
              0.5555555555555556,
              "#d8576b"
             ],
             [
              0.6666666666666666,
              "#ed7953"
             ],
             [
              0.7777777777777778,
              "#fb9f3a"
             ],
             [
              0.8888888888888888,
              "#fdca26"
             ],
             [
              1,
              "#f0f921"
             ]
            ],
            "type": "heatmap"
           }
          ],
          "heatmapgl": [
           {
            "colorbar": {
             "outlinewidth": 0,
             "ticks": ""
            },
            "colorscale": [
             [
              0,
              "#0d0887"
             ],
             [
              0.1111111111111111,
              "#46039f"
             ],
             [
              0.2222222222222222,
              "#7201a8"
             ],
             [
              0.3333333333333333,
              "#9c179e"
             ],
             [
              0.4444444444444444,
              "#bd3786"
             ],
             [
              0.5555555555555556,
              "#d8576b"
             ],
             [
              0.6666666666666666,
              "#ed7953"
             ],
             [
              0.7777777777777778,
              "#fb9f3a"
             ],
             [
              0.8888888888888888,
              "#fdca26"
             ],
             [
              1,
              "#f0f921"
             ]
            ],
            "type": "heatmapgl"
           }
          ],
          "histogram": [
           {
            "marker": {
             "colorbar": {
              "outlinewidth": 0,
              "ticks": ""
             }
            },
            "type": "histogram"
           }
          ],
          "histogram2d": [
           {
            "colorbar": {
             "outlinewidth": 0,
             "ticks": ""
            },
            "colorscale": [
             [
              0,
              "#0d0887"
             ],
             [
              0.1111111111111111,
              "#46039f"
             ],
             [
              0.2222222222222222,
              "#7201a8"
             ],
             [
              0.3333333333333333,
              "#9c179e"
             ],
             [
              0.4444444444444444,
              "#bd3786"
             ],
             [
              0.5555555555555556,
              "#d8576b"
             ],
             [
              0.6666666666666666,
              "#ed7953"
             ],
             [
              0.7777777777777778,
              "#fb9f3a"
             ],
             [
              0.8888888888888888,
              "#fdca26"
             ],
             [
              1,
              "#f0f921"
             ]
            ],
            "type": "histogram2d"
           }
          ],
          "histogram2dcontour": [
           {
            "colorbar": {
             "outlinewidth": 0,
             "ticks": ""
            },
            "colorscale": [
             [
              0,
              "#0d0887"
             ],
             [
              0.1111111111111111,
              "#46039f"
             ],
             [
              0.2222222222222222,
              "#7201a8"
             ],
             [
              0.3333333333333333,
              "#9c179e"
             ],
             [
              0.4444444444444444,
              "#bd3786"
             ],
             [
              0.5555555555555556,
              "#d8576b"
             ],
             [
              0.6666666666666666,
              "#ed7953"
             ],
             [
              0.7777777777777778,
              "#fb9f3a"
             ],
             [
              0.8888888888888888,
              "#fdca26"
             ],
             [
              1,
              "#f0f921"
             ]
            ],
            "type": "histogram2dcontour"
           }
          ],
          "mesh3d": [
           {
            "colorbar": {
             "outlinewidth": 0,
             "ticks": ""
            },
            "type": "mesh3d"
           }
          ],
          "parcoords": [
           {
            "line": {
             "colorbar": {
              "outlinewidth": 0,
              "ticks": ""
             }
            },
            "type": "parcoords"
           }
          ],
          "pie": [
           {
            "automargin": true,
            "type": "pie"
           }
          ],
          "scatter": [
           {
            "marker": {
             "colorbar": {
              "outlinewidth": 0,
              "ticks": ""
             }
            },
            "type": "scatter"
           }
          ],
          "scatter3d": [
           {
            "line": {
             "colorbar": {
              "outlinewidth": 0,
              "ticks": ""
             }
            },
            "marker": {
             "colorbar": {
              "outlinewidth": 0,
              "ticks": ""
             }
            },
            "type": "scatter3d"
           }
          ],
          "scattercarpet": [
           {
            "marker": {
             "colorbar": {
              "outlinewidth": 0,
              "ticks": ""
             }
            },
            "type": "scattercarpet"
           }
          ],
          "scattergeo": [
           {
            "marker": {
             "colorbar": {
              "outlinewidth": 0,
              "ticks": ""
             }
            },
            "type": "scattergeo"
           }
          ],
          "scattergl": [
           {
            "marker": {
             "colorbar": {
              "outlinewidth": 0,
              "ticks": ""
             }
            },
            "type": "scattergl"
           }
          ],
          "scattermapbox": [
           {
            "marker": {
             "colorbar": {
              "outlinewidth": 0,
              "ticks": ""
             }
            },
            "type": "scattermapbox"
           }
          ],
          "scatterpolar": [
           {
            "marker": {
             "colorbar": {
              "outlinewidth": 0,
              "ticks": ""
             }
            },
            "type": "scatterpolar"
           }
          ],
          "scatterpolargl": [
           {
            "marker": {
             "colorbar": {
              "outlinewidth": 0,
              "ticks": ""
             }
            },
            "type": "scatterpolargl"
           }
          ],
          "scatterternary": [
           {
            "marker": {
             "colorbar": {
              "outlinewidth": 0,
              "ticks": ""
             }
            },
            "type": "scatterternary"
           }
          ],
          "surface": [
           {
            "colorbar": {
             "outlinewidth": 0,
             "ticks": ""
            },
            "colorscale": [
             [
              0,
              "#0d0887"
             ],
             [
              0.1111111111111111,
              "#46039f"
             ],
             [
              0.2222222222222222,
              "#7201a8"
             ],
             [
              0.3333333333333333,
              "#9c179e"
             ],
             [
              0.4444444444444444,
              "#bd3786"
             ],
             [
              0.5555555555555556,
              "#d8576b"
             ],
             [
              0.6666666666666666,
              "#ed7953"
             ],
             [
              0.7777777777777778,
              "#fb9f3a"
             ],
             [
              0.8888888888888888,
              "#fdca26"
             ],
             [
              1,
              "#f0f921"
             ]
            ],
            "type": "surface"
           }
          ],
          "table": [
           {
            "cells": {
             "fill": {
              "color": "#EBF0F8"
             },
             "line": {
              "color": "white"
             }
            },
            "header": {
             "fill": {
              "color": "#C8D4E3"
             },
             "line": {
              "color": "white"
             }
            },
            "type": "table"
           }
          ]
         },
         "layout": {
          "annotationdefaults": {
           "arrowcolor": "#2a3f5f",
           "arrowhead": 0,
           "arrowwidth": 1
          },
          "coloraxis": {
           "colorbar": {
            "outlinewidth": 0,
            "ticks": ""
           }
          },
          "colorscale": {
           "diverging": [
            [
             0,
             "#8e0152"
            ],
            [
             0.1,
             "#c51b7d"
            ],
            [
             0.2,
             "#de77ae"
            ],
            [
             0.3,
             "#f1b6da"
            ],
            [
             0.4,
             "#fde0ef"
            ],
            [
             0.5,
             "#f7f7f7"
            ],
            [
             0.6,
             "#e6f5d0"
            ],
            [
             0.7,
             "#b8e186"
            ],
            [
             0.8,
             "#7fbc41"
            ],
            [
             0.9,
             "#4d9221"
            ],
            [
             1,
             "#276419"
            ]
           ],
           "sequential": [
            [
             0,
             "#0d0887"
            ],
            [
             0.1111111111111111,
             "#46039f"
            ],
            [
             0.2222222222222222,
             "#7201a8"
            ],
            [
             0.3333333333333333,
             "#9c179e"
            ],
            [
             0.4444444444444444,
             "#bd3786"
            ],
            [
             0.5555555555555556,
             "#d8576b"
            ],
            [
             0.6666666666666666,
             "#ed7953"
            ],
            [
             0.7777777777777778,
             "#fb9f3a"
            ],
            [
             0.8888888888888888,
             "#fdca26"
            ],
            [
             1,
             "#f0f921"
            ]
           ],
           "sequentialminus": [
            [
             0,
             "#0d0887"
            ],
            [
             0.1111111111111111,
             "#46039f"
            ],
            [
             0.2222222222222222,
             "#7201a8"
            ],
            [
             0.3333333333333333,
             "#9c179e"
            ],
            [
             0.4444444444444444,
             "#bd3786"
            ],
            [
             0.5555555555555556,
             "#d8576b"
            ],
            [
             0.6666666666666666,
             "#ed7953"
            ],
            [
             0.7777777777777778,
             "#fb9f3a"
            ],
            [
             0.8888888888888888,
             "#fdca26"
            ],
            [
             1,
             "#f0f921"
            ]
           ]
          },
          "colorway": [
           "#636efa",
           "#EF553B",
           "#00cc96",
           "#ab63fa",
           "#FFA15A",
           "#19d3f3",
           "#FF6692",
           "#B6E880",
           "#FF97FF",
           "#FECB52"
          ],
          "font": {
           "color": "#2a3f5f"
          },
          "geo": {
           "bgcolor": "white",
           "lakecolor": "white",
           "landcolor": "#E5ECF6",
           "showlakes": true,
           "showland": true,
           "subunitcolor": "white"
          },
          "hoverlabel": {
           "align": "left"
          },
          "hovermode": "closest",
          "mapbox": {
           "style": "light"
          },
          "paper_bgcolor": "white",
          "plot_bgcolor": "#E5ECF6",
          "polar": {
           "angularaxis": {
            "gridcolor": "white",
            "linecolor": "white",
            "ticks": ""
           },
           "bgcolor": "#E5ECF6",
           "radialaxis": {
            "gridcolor": "white",
            "linecolor": "white",
            "ticks": ""
           }
          },
          "scene": {
           "xaxis": {
            "backgroundcolor": "#E5ECF6",
            "gridcolor": "white",
            "gridwidth": 2,
            "linecolor": "white",
            "showbackground": true,
            "ticks": "",
            "zerolinecolor": "white"
           },
           "yaxis": {
            "backgroundcolor": "#E5ECF6",
            "gridcolor": "white",
            "gridwidth": 2,
            "linecolor": "white",
            "showbackground": true,
            "ticks": "",
            "zerolinecolor": "white"
           },
           "zaxis": {
            "backgroundcolor": "#E5ECF6",
            "gridcolor": "white",
            "gridwidth": 2,
            "linecolor": "white",
            "showbackground": true,
            "ticks": "",
            "zerolinecolor": "white"
           }
          },
          "shapedefaults": {
           "line": {
            "color": "#2a3f5f"
           }
          },
          "ternary": {
           "aaxis": {
            "gridcolor": "white",
            "linecolor": "white",
            "ticks": ""
           },
           "baxis": {
            "gridcolor": "white",
            "linecolor": "white",
            "ticks": ""
           },
           "bgcolor": "#E5ECF6",
           "caxis": {
            "gridcolor": "white",
            "linecolor": "white",
            "ticks": ""
           }
          },
          "title": {
           "x": 0.05
          },
          "xaxis": {
           "automargin": true,
           "gridcolor": "white",
           "linecolor": "white",
           "ticks": "",
           "title": {
            "standoff": 15
           },
           "zerolinecolor": "white",
           "zerolinewidth": 2
          },
          "yaxis": {
           "automargin": true,
           "gridcolor": "white",
           "linecolor": "white",
           "ticks": "",
           "title": {
            "standoff": 15
           },
           "zerolinecolor": "white",
           "zerolinewidth": 2
          }
         }
        },
        "title": {
         "font": {
          "color": "#4D5663"
         }
        },
        "xaxis": {
         "gridcolor": "#E1E5ED",
         "showgrid": true,
         "tickfont": {
          "color": "#4D5663"
         },
         "title": {
          "font": {
           "color": "#4D5663"
          },
          "text": ""
         },
         "zerolinecolor": "#E1E5ED"
        },
        "yaxis": {
         "gridcolor": "#E1E5ED",
         "showgrid": true,
         "tickfont": {
          "color": "#4D5663"
         },
         "title": {
          "font": {
           "color": "#4D5663"
          },
          "text": ""
         },
         "zerolinecolor": "#E1E5ED"
        }
       }
      },
      "text/html": [
       "<div>\n",
       "        \n",
       "        \n",
       "            <div id=\"71c47bc2-f6d8-4829-8219-e76cc5596752\" class=\"plotly-graph-div\" style=\"height:525px; width:100%;\"></div>\n",
       "            <script type=\"text/javascript\">\n",
       "                require([\"plotly\"], function(Plotly) {\n",
       "                    window.PLOTLYENV=window.PLOTLYENV || {};\n",
       "                    window.PLOTLYENV.BASE_URL='https://plot.ly';\n",
       "                    \n",
       "                if (document.getElementById(\"71c47bc2-f6d8-4829-8219-e76cc5596752\")) {\n",
       "                    Plotly.newPlot(\n",
       "                        '71c47bc2-f6d8-4829-8219-e76cc5596752',\n",
       "                        [{\"marker\": {\"color\": \"rgba(255, 153, 51, 0.6)\", \"line\": {\"color\": \"rgba(255, 153, 51, 1.0)\", \"width\": 1}}, \"name\": \"Category\", \"orientation\": \"v\", \"text\": \"\", \"type\": \"bar\", \"x\": [0, 1, 2], \"y\": [\"a\", \"b\", \"c\"]}, {\"marker\": {\"color\": \"rgba(55, 128, 191, 0.6)\", \"line\": {\"color\": \"rgba(55, 128, 191, 1.0)\", \"width\": 1}}, \"name\": \"Values\", \"orientation\": \"v\", \"text\": \"\", \"type\": \"bar\", \"x\": [0, 1, 2], \"y\": [42, 35, 54]}],\n",
       "                        {\"legend\": {\"bgcolor\": \"#F5F6F9\", \"font\": {\"color\": \"#4D5663\"}}, \"paper_bgcolor\": \"#F5F6F9\", \"plot_bgcolor\": \"#F5F6F9\", \"template\": {\"data\": {\"bar\": [{\"error_x\": {\"color\": \"#2a3f5f\"}, \"error_y\": {\"color\": \"#2a3f5f\"}, \"marker\": {\"line\": {\"color\": \"#E5ECF6\", \"width\": 0.5}}, \"type\": \"bar\"}], \"barpolar\": [{\"marker\": {\"line\": {\"color\": \"#E5ECF6\", \"width\": 0.5}}, \"type\": \"barpolar\"}], \"carpet\": [{\"aaxis\": {\"endlinecolor\": \"#2a3f5f\", \"gridcolor\": \"white\", \"linecolor\": \"white\", \"minorgridcolor\": \"white\", \"startlinecolor\": \"#2a3f5f\"}, \"baxis\": {\"endlinecolor\": \"#2a3f5f\", \"gridcolor\": \"white\", \"linecolor\": \"white\", \"minorgridcolor\": \"white\", \"startlinecolor\": \"#2a3f5f\"}, \"type\": \"carpet\"}], \"choropleth\": [{\"colorbar\": {\"outlinewidth\": 0, \"ticks\": \"\"}, \"type\": \"choropleth\"}], \"contour\": [{\"colorbar\": {\"outlinewidth\": 0, \"ticks\": \"\"}, \"colorscale\": [[0.0, \"#0d0887\"], [0.1111111111111111, \"#46039f\"], [0.2222222222222222, \"#7201a8\"], [0.3333333333333333, \"#9c179e\"], [0.4444444444444444, \"#bd3786\"], [0.5555555555555556, \"#d8576b\"], [0.6666666666666666, \"#ed7953\"], [0.7777777777777778, \"#fb9f3a\"], [0.8888888888888888, \"#fdca26\"], [1.0, \"#f0f921\"]], \"type\": \"contour\"}], \"contourcarpet\": [{\"colorbar\": {\"outlinewidth\": 0, \"ticks\": \"\"}, \"type\": \"contourcarpet\"}], \"heatmap\": [{\"colorbar\": {\"outlinewidth\": 0, \"ticks\": \"\"}, \"colorscale\": [[0.0, \"#0d0887\"], [0.1111111111111111, \"#46039f\"], [0.2222222222222222, \"#7201a8\"], [0.3333333333333333, \"#9c179e\"], [0.4444444444444444, \"#bd3786\"], [0.5555555555555556, \"#d8576b\"], [0.6666666666666666, \"#ed7953\"], [0.7777777777777778, \"#fb9f3a\"], [0.8888888888888888, \"#fdca26\"], [1.0, \"#f0f921\"]], \"type\": \"heatmap\"}], \"heatmapgl\": [{\"colorbar\": {\"outlinewidth\": 0, \"ticks\": \"\"}, \"colorscale\": [[0.0, \"#0d0887\"], [0.1111111111111111, \"#46039f\"], [0.2222222222222222, \"#7201a8\"], [0.3333333333333333, \"#9c179e\"], [0.4444444444444444, \"#bd3786\"], [0.5555555555555556, \"#d8576b\"], [0.6666666666666666, \"#ed7953\"], [0.7777777777777778, \"#fb9f3a\"], [0.8888888888888888, \"#fdca26\"], [1.0, \"#f0f921\"]], \"type\": \"heatmapgl\"}], \"histogram\": [{\"marker\": {\"colorbar\": {\"outlinewidth\": 0, \"ticks\": \"\"}}, \"type\": \"histogram\"}], \"histogram2d\": [{\"colorbar\": {\"outlinewidth\": 0, \"ticks\": \"\"}, \"colorscale\": [[0.0, \"#0d0887\"], [0.1111111111111111, \"#46039f\"], [0.2222222222222222, \"#7201a8\"], [0.3333333333333333, \"#9c179e\"], [0.4444444444444444, \"#bd3786\"], [0.5555555555555556, \"#d8576b\"], [0.6666666666666666, \"#ed7953\"], [0.7777777777777778, \"#fb9f3a\"], [0.8888888888888888, \"#fdca26\"], [1.0, \"#f0f921\"]], \"type\": \"histogram2d\"}], \"histogram2dcontour\": [{\"colorbar\": {\"outlinewidth\": 0, \"ticks\": \"\"}, \"colorscale\": [[0.0, \"#0d0887\"], [0.1111111111111111, \"#46039f\"], [0.2222222222222222, \"#7201a8\"], [0.3333333333333333, \"#9c179e\"], [0.4444444444444444, \"#bd3786\"], [0.5555555555555556, \"#d8576b\"], [0.6666666666666666, \"#ed7953\"], [0.7777777777777778, \"#fb9f3a\"], [0.8888888888888888, \"#fdca26\"], [1.0, \"#f0f921\"]], \"type\": \"histogram2dcontour\"}], \"mesh3d\": [{\"colorbar\": {\"outlinewidth\": 0, \"ticks\": \"\"}, \"type\": \"mesh3d\"}], \"parcoords\": [{\"line\": {\"colorbar\": {\"outlinewidth\": 0, \"ticks\": \"\"}}, \"type\": \"parcoords\"}], \"pie\": [{\"automargin\": true, \"type\": \"pie\"}], \"scatter\": [{\"marker\": {\"colorbar\": {\"outlinewidth\": 0, \"ticks\": \"\"}}, \"type\": \"scatter\"}], \"scatter3d\": [{\"line\": {\"colorbar\": {\"outlinewidth\": 0, \"ticks\": \"\"}}, \"marker\": {\"colorbar\": {\"outlinewidth\": 0, \"ticks\": \"\"}}, \"type\": \"scatter3d\"}], \"scattercarpet\": [{\"marker\": {\"colorbar\": {\"outlinewidth\": 0, \"ticks\": \"\"}}, \"type\": \"scattercarpet\"}], \"scattergeo\": [{\"marker\": {\"colorbar\": {\"outlinewidth\": 0, \"ticks\": \"\"}}, \"type\": \"scattergeo\"}], \"scattergl\": [{\"marker\": {\"colorbar\": {\"outlinewidth\": 0, \"ticks\": \"\"}}, \"type\": \"scattergl\"}], \"scattermapbox\": [{\"marker\": {\"colorbar\": {\"outlinewidth\": 0, \"ticks\": \"\"}}, \"type\": \"scattermapbox\"}], \"scatterpolar\": [{\"marker\": {\"colorbar\": {\"outlinewidth\": 0, \"ticks\": \"\"}}, \"type\": \"scatterpolar\"}], \"scatterpolargl\": [{\"marker\": {\"colorbar\": {\"outlinewidth\": 0, \"ticks\": \"\"}}, \"type\": \"scatterpolargl\"}], \"scatterternary\": [{\"marker\": {\"colorbar\": {\"outlinewidth\": 0, \"ticks\": \"\"}}, \"type\": \"scatterternary\"}], \"surface\": [{\"colorbar\": {\"outlinewidth\": 0, \"ticks\": \"\"}, \"colorscale\": [[0.0, \"#0d0887\"], [0.1111111111111111, \"#46039f\"], [0.2222222222222222, \"#7201a8\"], [0.3333333333333333, \"#9c179e\"], [0.4444444444444444, \"#bd3786\"], [0.5555555555555556, \"#d8576b\"], [0.6666666666666666, \"#ed7953\"], [0.7777777777777778, \"#fb9f3a\"], [0.8888888888888888, \"#fdca26\"], [1.0, \"#f0f921\"]], \"type\": \"surface\"}], \"table\": [{\"cells\": {\"fill\": {\"color\": \"#EBF0F8\"}, \"line\": {\"color\": \"white\"}}, \"header\": {\"fill\": {\"color\": \"#C8D4E3\"}, \"line\": {\"color\": \"white\"}}, \"type\": \"table\"}]}, \"layout\": {\"annotationdefaults\": {\"arrowcolor\": \"#2a3f5f\", \"arrowhead\": 0, \"arrowwidth\": 1}, \"coloraxis\": {\"colorbar\": {\"outlinewidth\": 0, \"ticks\": \"\"}}, \"colorscale\": {\"diverging\": [[0, \"#8e0152\"], [0.1, \"#c51b7d\"], [0.2, \"#de77ae\"], [0.3, \"#f1b6da\"], [0.4, \"#fde0ef\"], [0.5, \"#f7f7f7\"], [0.6, \"#e6f5d0\"], [0.7, \"#b8e186\"], [0.8, \"#7fbc41\"], [0.9, \"#4d9221\"], [1, \"#276419\"]], \"sequential\": [[0.0, \"#0d0887\"], [0.1111111111111111, \"#46039f\"], [0.2222222222222222, \"#7201a8\"], [0.3333333333333333, \"#9c179e\"], [0.4444444444444444, \"#bd3786\"], [0.5555555555555556, \"#d8576b\"], [0.6666666666666666, \"#ed7953\"], [0.7777777777777778, \"#fb9f3a\"], [0.8888888888888888, \"#fdca26\"], [1.0, \"#f0f921\"]], \"sequentialminus\": [[0.0, \"#0d0887\"], [0.1111111111111111, \"#46039f\"], [0.2222222222222222, \"#7201a8\"], [0.3333333333333333, \"#9c179e\"], [0.4444444444444444, \"#bd3786\"], [0.5555555555555556, \"#d8576b\"], [0.6666666666666666, \"#ed7953\"], [0.7777777777777778, \"#fb9f3a\"], [0.8888888888888888, \"#fdca26\"], [1.0, \"#f0f921\"]]}, \"colorway\": [\"#636efa\", \"#EF553B\", \"#00cc96\", \"#ab63fa\", \"#FFA15A\", \"#19d3f3\", \"#FF6692\", \"#B6E880\", \"#FF97FF\", \"#FECB52\"], \"font\": {\"color\": \"#2a3f5f\"}, \"geo\": {\"bgcolor\": \"white\", \"lakecolor\": \"white\", \"landcolor\": \"#E5ECF6\", \"showlakes\": true, \"showland\": true, \"subunitcolor\": \"white\"}, \"hoverlabel\": {\"align\": \"left\"}, \"hovermode\": \"closest\", \"mapbox\": {\"style\": \"light\"}, \"paper_bgcolor\": \"white\", \"plot_bgcolor\": \"#E5ECF6\", \"polar\": {\"angularaxis\": {\"gridcolor\": \"white\", \"linecolor\": \"white\", \"ticks\": \"\"}, \"bgcolor\": \"#E5ECF6\", \"radialaxis\": {\"gridcolor\": \"white\", \"linecolor\": \"white\", \"ticks\": \"\"}}, \"scene\": {\"xaxis\": {\"backgroundcolor\": \"#E5ECF6\", \"gridcolor\": \"white\", \"gridwidth\": 2, \"linecolor\": \"white\", \"showbackground\": true, \"ticks\": \"\", \"zerolinecolor\": \"white\"}, \"yaxis\": {\"backgroundcolor\": \"#E5ECF6\", \"gridcolor\": \"white\", \"gridwidth\": 2, \"linecolor\": \"white\", \"showbackground\": true, \"ticks\": \"\", \"zerolinecolor\": \"white\"}, \"zaxis\": {\"backgroundcolor\": \"#E5ECF6\", \"gridcolor\": \"white\", \"gridwidth\": 2, \"linecolor\": \"white\", \"showbackground\": true, \"ticks\": \"\", \"zerolinecolor\": \"white\"}}, \"shapedefaults\": {\"line\": {\"color\": \"#2a3f5f\"}}, \"ternary\": {\"aaxis\": {\"gridcolor\": \"white\", \"linecolor\": \"white\", \"ticks\": \"\"}, \"baxis\": {\"gridcolor\": \"white\", \"linecolor\": \"white\", \"ticks\": \"\"}, \"bgcolor\": \"#E5ECF6\", \"caxis\": {\"gridcolor\": \"white\", \"linecolor\": \"white\", \"ticks\": \"\"}}, \"title\": {\"x\": 0.05}, \"xaxis\": {\"automargin\": true, \"gridcolor\": \"white\", \"linecolor\": \"white\", \"ticks\": \"\", \"title\": {\"standoff\": 15}, \"zerolinecolor\": \"white\", \"zerolinewidth\": 2}, \"yaxis\": {\"automargin\": true, \"gridcolor\": \"white\", \"linecolor\": \"white\", \"ticks\": \"\", \"title\": {\"standoff\": 15}, \"zerolinecolor\": \"white\", \"zerolinewidth\": 2}}}, \"title\": {\"font\": {\"color\": \"#4D5663\"}}, \"xaxis\": {\"gridcolor\": \"#E1E5ED\", \"showgrid\": true, \"tickfont\": {\"color\": \"#4D5663\"}, \"title\": {\"font\": {\"color\": \"#4D5663\"}, \"text\": \"\"}, \"zerolinecolor\": \"#E1E5ED\"}, \"yaxis\": {\"gridcolor\": \"#E1E5ED\", \"showgrid\": true, \"tickfont\": {\"color\": \"#4D5663\"}, \"title\": {\"font\": {\"color\": \"#4D5663\"}, \"text\": \"\"}, \"zerolinecolor\": \"#E1E5ED\"}},\n",
       "                        {\"showLink\": true, \"linkText\": \"Export to plot.ly\", \"plotlyServerURL\": \"https://plot.ly\", \"responsive\": true}\n",
       "                    ).then(function(){\n",
       "                            \n",
       "var gd = document.getElementById('71c47bc2-f6d8-4829-8219-e76cc5596752');\n",
       "var x = new MutationObserver(function (mutations, observer) {{\n",
       "        var display = window.getComputedStyle(gd).display;\n",
       "        if (!display || display === 'none') {{\n",
       "            console.log([gd, 'removed!']);\n",
       "            Plotly.purge(gd);\n",
       "            observer.disconnect();\n",
       "        }}\n",
       "}});\n",
       "\n",
       "// Listen for the removal of the full notebook cells\n",
       "var notebookContainer = gd.closest('#notebook-container');\n",
       "if (notebookContainer) {{\n",
       "    x.observe(notebookContainer, {childList: true});\n",
       "}}\n",
       "\n",
       "// Listen for the clearing of the current output cell\n",
       "var outputEl = gd.closest('.output');\n",
       "if (outputEl) {{\n",
       "    x.observe(outputEl, {childList: true});\n",
       "}}\n",
       "\n",
       "                        })\n",
       "                };\n",
       "                });\n",
       "            </script>\n",
       "        </div>"
      ]
     },
     "metadata": {},
     "output_type": "display_data"
    }
   ],
   "source": [
    "df2.iplot(kind='bar')"
   ]
  },
  {
   "cell_type": "code",
   "execution_count": 21,
   "metadata": {},
   "outputs": [
    {
     "data": {
      "application/vnd.plotly.v1+json": {
       "config": {
        "linkText": "Export to plot.ly",
        "plotlyServerURL": "https://plot.ly",
        "showLink": true
       },
       "data": [
        {
         "marker": {
          "color": "rgba(255, 153, 51, 0.6)",
          "line": {
           "color": "rgba(255, 153, 51, 1.0)",
           "width": 1
          }
         },
         "name": "Values",
         "orientation": "v",
         "text": "",
         "type": "bar",
         "x": [
          "a",
          "b",
          "c"
         ],
         "y": [
          42,
          35,
          54
         ]
        }
       ],
       "layout": {
        "legend": {
         "bgcolor": "#F5F6F9",
         "font": {
          "color": "#4D5663"
         }
        },
        "paper_bgcolor": "#F5F6F9",
        "plot_bgcolor": "#F5F6F9",
        "template": {
         "data": {
          "bar": [
           {
            "error_x": {
             "color": "#2a3f5f"
            },
            "error_y": {
             "color": "#2a3f5f"
            },
            "marker": {
             "line": {
              "color": "#E5ECF6",
              "width": 0.5
             }
            },
            "type": "bar"
           }
          ],
          "barpolar": [
           {
            "marker": {
             "line": {
              "color": "#E5ECF6",
              "width": 0.5
             }
            },
            "type": "barpolar"
           }
          ],
          "carpet": [
           {
            "aaxis": {
             "endlinecolor": "#2a3f5f",
             "gridcolor": "white",
             "linecolor": "white",
             "minorgridcolor": "white",
             "startlinecolor": "#2a3f5f"
            },
            "baxis": {
             "endlinecolor": "#2a3f5f",
             "gridcolor": "white",
             "linecolor": "white",
             "minorgridcolor": "white",
             "startlinecolor": "#2a3f5f"
            },
            "type": "carpet"
           }
          ],
          "choropleth": [
           {
            "colorbar": {
             "outlinewidth": 0,
             "ticks": ""
            },
            "type": "choropleth"
           }
          ],
          "contour": [
           {
            "colorbar": {
             "outlinewidth": 0,
             "ticks": ""
            },
            "colorscale": [
             [
              0,
              "#0d0887"
             ],
             [
              0.1111111111111111,
              "#46039f"
             ],
             [
              0.2222222222222222,
              "#7201a8"
             ],
             [
              0.3333333333333333,
              "#9c179e"
             ],
             [
              0.4444444444444444,
              "#bd3786"
             ],
             [
              0.5555555555555556,
              "#d8576b"
             ],
             [
              0.6666666666666666,
              "#ed7953"
             ],
             [
              0.7777777777777778,
              "#fb9f3a"
             ],
             [
              0.8888888888888888,
              "#fdca26"
             ],
             [
              1,
              "#f0f921"
             ]
            ],
            "type": "contour"
           }
          ],
          "contourcarpet": [
           {
            "colorbar": {
             "outlinewidth": 0,
             "ticks": ""
            },
            "type": "contourcarpet"
           }
          ],
          "heatmap": [
           {
            "colorbar": {
             "outlinewidth": 0,
             "ticks": ""
            },
            "colorscale": [
             [
              0,
              "#0d0887"
             ],
             [
              0.1111111111111111,
              "#46039f"
             ],
             [
              0.2222222222222222,
              "#7201a8"
             ],
             [
              0.3333333333333333,
              "#9c179e"
             ],
             [
              0.4444444444444444,
              "#bd3786"
             ],
             [
              0.5555555555555556,
              "#d8576b"
             ],
             [
              0.6666666666666666,
              "#ed7953"
             ],
             [
              0.7777777777777778,
              "#fb9f3a"
             ],
             [
              0.8888888888888888,
              "#fdca26"
             ],
             [
              1,
              "#f0f921"
             ]
            ],
            "type": "heatmap"
           }
          ],
          "heatmapgl": [
           {
            "colorbar": {
             "outlinewidth": 0,
             "ticks": ""
            },
            "colorscale": [
             [
              0,
              "#0d0887"
             ],
             [
              0.1111111111111111,
              "#46039f"
             ],
             [
              0.2222222222222222,
              "#7201a8"
             ],
             [
              0.3333333333333333,
              "#9c179e"
             ],
             [
              0.4444444444444444,
              "#bd3786"
             ],
             [
              0.5555555555555556,
              "#d8576b"
             ],
             [
              0.6666666666666666,
              "#ed7953"
             ],
             [
              0.7777777777777778,
              "#fb9f3a"
             ],
             [
              0.8888888888888888,
              "#fdca26"
             ],
             [
              1,
              "#f0f921"
             ]
            ],
            "type": "heatmapgl"
           }
          ],
          "histogram": [
           {
            "marker": {
             "colorbar": {
              "outlinewidth": 0,
              "ticks": ""
             }
            },
            "type": "histogram"
           }
          ],
          "histogram2d": [
           {
            "colorbar": {
             "outlinewidth": 0,
             "ticks": ""
            },
            "colorscale": [
             [
              0,
              "#0d0887"
             ],
             [
              0.1111111111111111,
              "#46039f"
             ],
             [
              0.2222222222222222,
              "#7201a8"
             ],
             [
              0.3333333333333333,
              "#9c179e"
             ],
             [
              0.4444444444444444,
              "#bd3786"
             ],
             [
              0.5555555555555556,
              "#d8576b"
             ],
             [
              0.6666666666666666,
              "#ed7953"
             ],
             [
              0.7777777777777778,
              "#fb9f3a"
             ],
             [
              0.8888888888888888,
              "#fdca26"
             ],
             [
              1,
              "#f0f921"
             ]
            ],
            "type": "histogram2d"
           }
          ],
          "histogram2dcontour": [
           {
            "colorbar": {
             "outlinewidth": 0,
             "ticks": ""
            },
            "colorscale": [
             [
              0,
              "#0d0887"
             ],
             [
              0.1111111111111111,
              "#46039f"
             ],
             [
              0.2222222222222222,
              "#7201a8"
             ],
             [
              0.3333333333333333,
              "#9c179e"
             ],
             [
              0.4444444444444444,
              "#bd3786"
             ],
             [
              0.5555555555555556,
              "#d8576b"
             ],
             [
              0.6666666666666666,
              "#ed7953"
             ],
             [
              0.7777777777777778,
              "#fb9f3a"
             ],
             [
              0.8888888888888888,
              "#fdca26"
             ],
             [
              1,
              "#f0f921"
             ]
            ],
            "type": "histogram2dcontour"
           }
          ],
          "mesh3d": [
           {
            "colorbar": {
             "outlinewidth": 0,
             "ticks": ""
            },
            "type": "mesh3d"
           }
          ],
          "parcoords": [
           {
            "line": {
             "colorbar": {
              "outlinewidth": 0,
              "ticks": ""
             }
            },
            "type": "parcoords"
           }
          ],
          "pie": [
           {
            "automargin": true,
            "type": "pie"
           }
          ],
          "scatter": [
           {
            "marker": {
             "colorbar": {
              "outlinewidth": 0,
              "ticks": ""
             }
            },
            "type": "scatter"
           }
          ],
          "scatter3d": [
           {
            "line": {
             "colorbar": {
              "outlinewidth": 0,
              "ticks": ""
             }
            },
            "marker": {
             "colorbar": {
              "outlinewidth": 0,
              "ticks": ""
             }
            },
            "type": "scatter3d"
           }
          ],
          "scattercarpet": [
           {
            "marker": {
             "colorbar": {
              "outlinewidth": 0,
              "ticks": ""
             }
            },
            "type": "scattercarpet"
           }
          ],
          "scattergeo": [
           {
            "marker": {
             "colorbar": {
              "outlinewidth": 0,
              "ticks": ""
             }
            },
            "type": "scattergeo"
           }
          ],
          "scattergl": [
           {
            "marker": {
             "colorbar": {
              "outlinewidth": 0,
              "ticks": ""
             }
            },
            "type": "scattergl"
           }
          ],
          "scattermapbox": [
           {
            "marker": {
             "colorbar": {
              "outlinewidth": 0,
              "ticks": ""
             }
            },
            "type": "scattermapbox"
           }
          ],
          "scatterpolar": [
           {
            "marker": {
             "colorbar": {
              "outlinewidth": 0,
              "ticks": ""
             }
            },
            "type": "scatterpolar"
           }
          ],
          "scatterpolargl": [
           {
            "marker": {
             "colorbar": {
              "outlinewidth": 0,
              "ticks": ""
             }
            },
            "type": "scatterpolargl"
           }
          ],
          "scatterternary": [
           {
            "marker": {
             "colorbar": {
              "outlinewidth": 0,
              "ticks": ""
             }
            },
            "type": "scatterternary"
           }
          ],
          "surface": [
           {
            "colorbar": {
             "outlinewidth": 0,
             "ticks": ""
            },
            "colorscale": [
             [
              0,
              "#0d0887"
             ],
             [
              0.1111111111111111,
              "#46039f"
             ],
             [
              0.2222222222222222,
              "#7201a8"
             ],
             [
              0.3333333333333333,
              "#9c179e"
             ],
             [
              0.4444444444444444,
              "#bd3786"
             ],
             [
              0.5555555555555556,
              "#d8576b"
             ],
             [
              0.6666666666666666,
              "#ed7953"
             ],
             [
              0.7777777777777778,
              "#fb9f3a"
             ],
             [
              0.8888888888888888,
              "#fdca26"
             ],
             [
              1,
              "#f0f921"
             ]
            ],
            "type": "surface"
           }
          ],
          "table": [
           {
            "cells": {
             "fill": {
              "color": "#EBF0F8"
             },
             "line": {
              "color": "white"
             }
            },
            "header": {
             "fill": {
              "color": "#C8D4E3"
             },
             "line": {
              "color": "white"
             }
            },
            "type": "table"
           }
          ]
         },
         "layout": {
          "annotationdefaults": {
           "arrowcolor": "#2a3f5f",
           "arrowhead": 0,
           "arrowwidth": 1
          },
          "coloraxis": {
           "colorbar": {
            "outlinewidth": 0,
            "ticks": ""
           }
          },
          "colorscale": {
           "diverging": [
            [
             0,
             "#8e0152"
            ],
            [
             0.1,
             "#c51b7d"
            ],
            [
             0.2,
             "#de77ae"
            ],
            [
             0.3,
             "#f1b6da"
            ],
            [
             0.4,
             "#fde0ef"
            ],
            [
             0.5,
             "#f7f7f7"
            ],
            [
             0.6,
             "#e6f5d0"
            ],
            [
             0.7,
             "#b8e186"
            ],
            [
             0.8,
             "#7fbc41"
            ],
            [
             0.9,
             "#4d9221"
            ],
            [
             1,
             "#276419"
            ]
           ],
           "sequential": [
            [
             0,
             "#0d0887"
            ],
            [
             0.1111111111111111,
             "#46039f"
            ],
            [
             0.2222222222222222,
             "#7201a8"
            ],
            [
             0.3333333333333333,
             "#9c179e"
            ],
            [
             0.4444444444444444,
             "#bd3786"
            ],
            [
             0.5555555555555556,
             "#d8576b"
            ],
            [
             0.6666666666666666,
             "#ed7953"
            ],
            [
             0.7777777777777778,
             "#fb9f3a"
            ],
            [
             0.8888888888888888,
             "#fdca26"
            ],
            [
             1,
             "#f0f921"
            ]
           ],
           "sequentialminus": [
            [
             0,
             "#0d0887"
            ],
            [
             0.1111111111111111,
             "#46039f"
            ],
            [
             0.2222222222222222,
             "#7201a8"
            ],
            [
             0.3333333333333333,
             "#9c179e"
            ],
            [
             0.4444444444444444,
             "#bd3786"
            ],
            [
             0.5555555555555556,
             "#d8576b"
            ],
            [
             0.6666666666666666,
             "#ed7953"
            ],
            [
             0.7777777777777778,
             "#fb9f3a"
            ],
            [
             0.8888888888888888,
             "#fdca26"
            ],
            [
             1,
             "#f0f921"
            ]
           ]
          },
          "colorway": [
           "#636efa",
           "#EF553B",
           "#00cc96",
           "#ab63fa",
           "#FFA15A",
           "#19d3f3",
           "#FF6692",
           "#B6E880",
           "#FF97FF",
           "#FECB52"
          ],
          "font": {
           "color": "#2a3f5f"
          },
          "geo": {
           "bgcolor": "white",
           "lakecolor": "white",
           "landcolor": "#E5ECF6",
           "showlakes": true,
           "showland": true,
           "subunitcolor": "white"
          },
          "hoverlabel": {
           "align": "left"
          },
          "hovermode": "closest",
          "mapbox": {
           "style": "light"
          },
          "paper_bgcolor": "white",
          "plot_bgcolor": "#E5ECF6",
          "polar": {
           "angularaxis": {
            "gridcolor": "white",
            "linecolor": "white",
            "ticks": ""
           },
           "bgcolor": "#E5ECF6",
           "radialaxis": {
            "gridcolor": "white",
            "linecolor": "white",
            "ticks": ""
           }
          },
          "scene": {
           "xaxis": {
            "backgroundcolor": "#E5ECF6",
            "gridcolor": "white",
            "gridwidth": 2,
            "linecolor": "white",
            "showbackground": true,
            "ticks": "",
            "zerolinecolor": "white"
           },
           "yaxis": {
            "backgroundcolor": "#E5ECF6",
            "gridcolor": "white",
            "gridwidth": 2,
            "linecolor": "white",
            "showbackground": true,
            "ticks": "",
            "zerolinecolor": "white"
           },
           "zaxis": {
            "backgroundcolor": "#E5ECF6",
            "gridcolor": "white",
            "gridwidth": 2,
            "linecolor": "white",
            "showbackground": true,
            "ticks": "",
            "zerolinecolor": "white"
           }
          },
          "shapedefaults": {
           "line": {
            "color": "#2a3f5f"
           }
          },
          "ternary": {
           "aaxis": {
            "gridcolor": "white",
            "linecolor": "white",
            "ticks": ""
           },
           "baxis": {
            "gridcolor": "white",
            "linecolor": "white",
            "ticks": ""
           },
           "bgcolor": "#E5ECF6",
           "caxis": {
            "gridcolor": "white",
            "linecolor": "white",
            "ticks": ""
           }
          },
          "title": {
           "x": 0.05
          },
          "xaxis": {
           "automargin": true,
           "gridcolor": "white",
           "linecolor": "white",
           "ticks": "",
           "title": {
            "standoff": 15
           },
           "zerolinecolor": "white",
           "zerolinewidth": 2
          },
          "yaxis": {
           "automargin": true,
           "gridcolor": "white",
           "linecolor": "white",
           "ticks": "",
           "title": {
            "standoff": 15
           },
           "zerolinecolor": "white",
           "zerolinewidth": 2
          }
         }
        },
        "title": {
         "font": {
          "color": "#4D5663"
         }
        },
        "xaxis": {
         "gridcolor": "#E1E5ED",
         "showgrid": true,
         "tickfont": {
          "color": "#4D5663"
         },
         "title": {
          "font": {
           "color": "#4D5663"
          },
          "text": ""
         },
         "zerolinecolor": "#E1E5ED"
        },
        "yaxis": {
         "gridcolor": "#E1E5ED",
         "showgrid": true,
         "tickfont": {
          "color": "#4D5663"
         },
         "title": {
          "font": {
           "color": "#4D5663"
          },
          "text": ""
         },
         "zerolinecolor": "#E1E5ED"
        }
       }
      },
      "text/html": [
       "<div>\n",
       "        \n",
       "        \n",
       "            <div id=\"e731f3f7-68d4-4f62-9a3b-d7825a85a670\" class=\"plotly-graph-div\" style=\"height:525px; width:100%;\"></div>\n",
       "            <script type=\"text/javascript\">\n",
       "                require([\"plotly\"], function(Plotly) {\n",
       "                    window.PLOTLYENV=window.PLOTLYENV || {};\n",
       "                    window.PLOTLYENV.BASE_URL='https://plot.ly';\n",
       "                    \n",
       "                if (document.getElementById(\"e731f3f7-68d4-4f62-9a3b-d7825a85a670\")) {\n",
       "                    Plotly.newPlot(\n",
       "                        'e731f3f7-68d4-4f62-9a3b-d7825a85a670',\n",
       "                        [{\"marker\": {\"color\": \"rgba(255, 153, 51, 0.6)\", \"line\": {\"color\": \"rgba(255, 153, 51, 1.0)\", \"width\": 1}}, \"name\": \"Values\", \"orientation\": \"v\", \"text\": \"\", \"type\": \"bar\", \"x\": [\"a\", \"b\", \"c\"], \"y\": [42, 35, 54]}],\n",
       "                        {\"legend\": {\"bgcolor\": \"#F5F6F9\", \"font\": {\"color\": \"#4D5663\"}}, \"paper_bgcolor\": \"#F5F6F9\", \"plot_bgcolor\": \"#F5F6F9\", \"template\": {\"data\": {\"bar\": [{\"error_x\": {\"color\": \"#2a3f5f\"}, \"error_y\": {\"color\": \"#2a3f5f\"}, \"marker\": {\"line\": {\"color\": \"#E5ECF6\", \"width\": 0.5}}, \"type\": \"bar\"}], \"barpolar\": [{\"marker\": {\"line\": {\"color\": \"#E5ECF6\", \"width\": 0.5}}, \"type\": \"barpolar\"}], \"carpet\": [{\"aaxis\": {\"endlinecolor\": \"#2a3f5f\", \"gridcolor\": \"white\", \"linecolor\": \"white\", \"minorgridcolor\": \"white\", \"startlinecolor\": \"#2a3f5f\"}, \"baxis\": {\"endlinecolor\": \"#2a3f5f\", \"gridcolor\": \"white\", \"linecolor\": \"white\", \"minorgridcolor\": \"white\", \"startlinecolor\": \"#2a3f5f\"}, \"type\": \"carpet\"}], \"choropleth\": [{\"colorbar\": {\"outlinewidth\": 0, \"ticks\": \"\"}, \"type\": \"choropleth\"}], \"contour\": [{\"colorbar\": {\"outlinewidth\": 0, \"ticks\": \"\"}, \"colorscale\": [[0.0, \"#0d0887\"], [0.1111111111111111, \"#46039f\"], [0.2222222222222222, \"#7201a8\"], [0.3333333333333333, \"#9c179e\"], [0.4444444444444444, \"#bd3786\"], [0.5555555555555556, \"#d8576b\"], [0.6666666666666666, \"#ed7953\"], [0.7777777777777778, \"#fb9f3a\"], [0.8888888888888888, \"#fdca26\"], [1.0, \"#f0f921\"]], \"type\": \"contour\"}], \"contourcarpet\": [{\"colorbar\": {\"outlinewidth\": 0, \"ticks\": \"\"}, \"type\": \"contourcarpet\"}], \"heatmap\": [{\"colorbar\": {\"outlinewidth\": 0, \"ticks\": \"\"}, \"colorscale\": [[0.0, \"#0d0887\"], [0.1111111111111111, \"#46039f\"], [0.2222222222222222, \"#7201a8\"], [0.3333333333333333, \"#9c179e\"], [0.4444444444444444, \"#bd3786\"], [0.5555555555555556, \"#d8576b\"], [0.6666666666666666, \"#ed7953\"], [0.7777777777777778, \"#fb9f3a\"], [0.8888888888888888, \"#fdca26\"], [1.0, \"#f0f921\"]], \"type\": \"heatmap\"}], \"heatmapgl\": [{\"colorbar\": {\"outlinewidth\": 0, \"ticks\": \"\"}, \"colorscale\": [[0.0, \"#0d0887\"], [0.1111111111111111, \"#46039f\"], [0.2222222222222222, \"#7201a8\"], [0.3333333333333333, \"#9c179e\"], [0.4444444444444444, \"#bd3786\"], [0.5555555555555556, \"#d8576b\"], [0.6666666666666666, \"#ed7953\"], [0.7777777777777778, \"#fb9f3a\"], [0.8888888888888888, \"#fdca26\"], [1.0, \"#f0f921\"]], \"type\": \"heatmapgl\"}], \"histogram\": [{\"marker\": {\"colorbar\": {\"outlinewidth\": 0, \"ticks\": \"\"}}, \"type\": \"histogram\"}], \"histogram2d\": [{\"colorbar\": {\"outlinewidth\": 0, \"ticks\": \"\"}, \"colorscale\": [[0.0, \"#0d0887\"], [0.1111111111111111, \"#46039f\"], [0.2222222222222222, \"#7201a8\"], [0.3333333333333333, \"#9c179e\"], [0.4444444444444444, \"#bd3786\"], [0.5555555555555556, \"#d8576b\"], [0.6666666666666666, \"#ed7953\"], [0.7777777777777778, \"#fb9f3a\"], [0.8888888888888888, \"#fdca26\"], [1.0, \"#f0f921\"]], \"type\": \"histogram2d\"}], \"histogram2dcontour\": [{\"colorbar\": {\"outlinewidth\": 0, \"ticks\": \"\"}, \"colorscale\": [[0.0, \"#0d0887\"], [0.1111111111111111, \"#46039f\"], [0.2222222222222222, \"#7201a8\"], [0.3333333333333333, \"#9c179e\"], [0.4444444444444444, \"#bd3786\"], [0.5555555555555556, \"#d8576b\"], [0.6666666666666666, \"#ed7953\"], [0.7777777777777778, \"#fb9f3a\"], [0.8888888888888888, \"#fdca26\"], [1.0, \"#f0f921\"]], \"type\": \"histogram2dcontour\"}], \"mesh3d\": [{\"colorbar\": {\"outlinewidth\": 0, \"ticks\": \"\"}, \"type\": \"mesh3d\"}], \"parcoords\": [{\"line\": {\"colorbar\": {\"outlinewidth\": 0, \"ticks\": \"\"}}, \"type\": \"parcoords\"}], \"pie\": [{\"automargin\": true, \"type\": \"pie\"}], \"scatter\": [{\"marker\": {\"colorbar\": {\"outlinewidth\": 0, \"ticks\": \"\"}}, \"type\": \"scatter\"}], \"scatter3d\": [{\"line\": {\"colorbar\": {\"outlinewidth\": 0, \"ticks\": \"\"}}, \"marker\": {\"colorbar\": {\"outlinewidth\": 0, \"ticks\": \"\"}}, \"type\": \"scatter3d\"}], \"scattercarpet\": [{\"marker\": {\"colorbar\": {\"outlinewidth\": 0, \"ticks\": \"\"}}, \"type\": \"scattercarpet\"}], \"scattergeo\": [{\"marker\": {\"colorbar\": {\"outlinewidth\": 0, \"ticks\": \"\"}}, \"type\": \"scattergeo\"}], \"scattergl\": [{\"marker\": {\"colorbar\": {\"outlinewidth\": 0, \"ticks\": \"\"}}, \"type\": \"scattergl\"}], \"scattermapbox\": [{\"marker\": {\"colorbar\": {\"outlinewidth\": 0, \"ticks\": \"\"}}, \"type\": \"scattermapbox\"}], \"scatterpolar\": [{\"marker\": {\"colorbar\": {\"outlinewidth\": 0, \"ticks\": \"\"}}, \"type\": \"scatterpolar\"}], \"scatterpolargl\": [{\"marker\": {\"colorbar\": {\"outlinewidth\": 0, \"ticks\": \"\"}}, \"type\": \"scatterpolargl\"}], \"scatterternary\": [{\"marker\": {\"colorbar\": {\"outlinewidth\": 0, \"ticks\": \"\"}}, \"type\": \"scatterternary\"}], \"surface\": [{\"colorbar\": {\"outlinewidth\": 0, \"ticks\": \"\"}, \"colorscale\": [[0.0, \"#0d0887\"], [0.1111111111111111, \"#46039f\"], [0.2222222222222222, \"#7201a8\"], [0.3333333333333333, \"#9c179e\"], [0.4444444444444444, \"#bd3786\"], [0.5555555555555556, \"#d8576b\"], [0.6666666666666666, \"#ed7953\"], [0.7777777777777778, \"#fb9f3a\"], [0.8888888888888888, \"#fdca26\"], [1.0, \"#f0f921\"]], \"type\": \"surface\"}], \"table\": [{\"cells\": {\"fill\": {\"color\": \"#EBF0F8\"}, \"line\": {\"color\": \"white\"}}, \"header\": {\"fill\": {\"color\": \"#C8D4E3\"}, \"line\": {\"color\": \"white\"}}, \"type\": \"table\"}]}, \"layout\": {\"annotationdefaults\": {\"arrowcolor\": \"#2a3f5f\", \"arrowhead\": 0, \"arrowwidth\": 1}, \"coloraxis\": {\"colorbar\": {\"outlinewidth\": 0, \"ticks\": \"\"}}, \"colorscale\": {\"diverging\": [[0, \"#8e0152\"], [0.1, \"#c51b7d\"], [0.2, \"#de77ae\"], [0.3, \"#f1b6da\"], [0.4, \"#fde0ef\"], [0.5, \"#f7f7f7\"], [0.6, \"#e6f5d0\"], [0.7, \"#b8e186\"], [0.8, \"#7fbc41\"], [0.9, \"#4d9221\"], [1, \"#276419\"]], \"sequential\": [[0.0, \"#0d0887\"], [0.1111111111111111, \"#46039f\"], [0.2222222222222222, \"#7201a8\"], [0.3333333333333333, \"#9c179e\"], [0.4444444444444444, \"#bd3786\"], [0.5555555555555556, \"#d8576b\"], [0.6666666666666666, \"#ed7953\"], [0.7777777777777778, \"#fb9f3a\"], [0.8888888888888888, \"#fdca26\"], [1.0, \"#f0f921\"]], \"sequentialminus\": [[0.0, \"#0d0887\"], [0.1111111111111111, \"#46039f\"], [0.2222222222222222, \"#7201a8\"], [0.3333333333333333, \"#9c179e\"], [0.4444444444444444, \"#bd3786\"], [0.5555555555555556, \"#d8576b\"], [0.6666666666666666, \"#ed7953\"], [0.7777777777777778, \"#fb9f3a\"], [0.8888888888888888, \"#fdca26\"], [1.0, \"#f0f921\"]]}, \"colorway\": [\"#636efa\", \"#EF553B\", \"#00cc96\", \"#ab63fa\", \"#FFA15A\", \"#19d3f3\", \"#FF6692\", \"#B6E880\", \"#FF97FF\", \"#FECB52\"], \"font\": {\"color\": \"#2a3f5f\"}, \"geo\": {\"bgcolor\": \"white\", \"lakecolor\": \"white\", \"landcolor\": \"#E5ECF6\", \"showlakes\": true, \"showland\": true, \"subunitcolor\": \"white\"}, \"hoverlabel\": {\"align\": \"left\"}, \"hovermode\": \"closest\", \"mapbox\": {\"style\": \"light\"}, \"paper_bgcolor\": \"white\", \"plot_bgcolor\": \"#E5ECF6\", \"polar\": {\"angularaxis\": {\"gridcolor\": \"white\", \"linecolor\": \"white\", \"ticks\": \"\"}, \"bgcolor\": \"#E5ECF6\", \"radialaxis\": {\"gridcolor\": \"white\", \"linecolor\": \"white\", \"ticks\": \"\"}}, \"scene\": {\"xaxis\": {\"backgroundcolor\": \"#E5ECF6\", \"gridcolor\": \"white\", \"gridwidth\": 2, \"linecolor\": \"white\", \"showbackground\": true, \"ticks\": \"\", \"zerolinecolor\": \"white\"}, \"yaxis\": {\"backgroundcolor\": \"#E5ECF6\", \"gridcolor\": \"white\", \"gridwidth\": 2, \"linecolor\": \"white\", \"showbackground\": true, \"ticks\": \"\", \"zerolinecolor\": \"white\"}, \"zaxis\": {\"backgroundcolor\": \"#E5ECF6\", \"gridcolor\": \"white\", \"gridwidth\": 2, \"linecolor\": \"white\", \"showbackground\": true, \"ticks\": \"\", \"zerolinecolor\": \"white\"}}, \"shapedefaults\": {\"line\": {\"color\": \"#2a3f5f\"}}, \"ternary\": {\"aaxis\": {\"gridcolor\": \"white\", \"linecolor\": \"white\", \"ticks\": \"\"}, \"baxis\": {\"gridcolor\": \"white\", \"linecolor\": \"white\", \"ticks\": \"\"}, \"bgcolor\": \"#E5ECF6\", \"caxis\": {\"gridcolor\": \"white\", \"linecolor\": \"white\", \"ticks\": \"\"}}, \"title\": {\"x\": 0.05}, \"xaxis\": {\"automargin\": true, \"gridcolor\": \"white\", \"linecolor\": \"white\", \"ticks\": \"\", \"title\": {\"standoff\": 15}, \"zerolinecolor\": \"white\", \"zerolinewidth\": 2}, \"yaxis\": {\"automargin\": true, \"gridcolor\": \"white\", \"linecolor\": \"white\", \"ticks\": \"\", \"title\": {\"standoff\": 15}, \"zerolinecolor\": \"white\", \"zerolinewidth\": 2}}}, \"title\": {\"font\": {\"color\": \"#4D5663\"}}, \"xaxis\": {\"gridcolor\": \"#E1E5ED\", \"showgrid\": true, \"tickfont\": {\"color\": \"#4D5663\"}, \"title\": {\"font\": {\"color\": \"#4D5663\"}, \"text\": \"\"}, \"zerolinecolor\": \"#E1E5ED\"}, \"yaxis\": {\"gridcolor\": \"#E1E5ED\", \"showgrid\": true, \"tickfont\": {\"color\": \"#4D5663\"}, \"title\": {\"font\": {\"color\": \"#4D5663\"}, \"text\": \"\"}, \"zerolinecolor\": \"#E1E5ED\"}},\n",
       "                        {\"showLink\": true, \"linkText\": \"Export to plot.ly\", \"plotlyServerURL\": \"https://plot.ly\", \"responsive\": true}\n",
       "                    ).then(function(){\n",
       "                            \n",
       "var gd = document.getElementById('e731f3f7-68d4-4f62-9a3b-d7825a85a670');\n",
       "var x = new MutationObserver(function (mutations, observer) {{\n",
       "        var display = window.getComputedStyle(gd).display;\n",
       "        if (!display || display === 'none') {{\n",
       "            console.log([gd, 'removed!']);\n",
       "            Plotly.purge(gd);\n",
       "            observer.disconnect();\n",
       "        }}\n",
       "}});\n",
       "\n",
       "// Listen for the removal of the full notebook cells\n",
       "var notebookContainer = gd.closest('#notebook-container');\n",
       "if (notebookContainer) {{\n",
       "    x.observe(notebookContainer, {childList: true});\n",
       "}}\n",
       "\n",
       "// Listen for the clearing of the current output cell\n",
       "var outputEl = gd.closest('.output');\n",
       "if (outputEl) {{\n",
       "    x.observe(outputEl, {childList: true});\n",
       "}}\n",
       "\n",
       "                        })\n",
       "                };\n",
       "                });\n",
       "            </script>\n",
       "        </div>"
      ]
     },
     "metadata": {},
     "output_type": "display_data"
    }
   ],
   "source": [
    "df2.iplot(kind='bar',x='Category',y='Values')"
   ]
  },
  {
   "cell_type": "code",
   "execution_count": 23,
   "metadata": {},
   "outputs": [
    {
     "data": {
      "application/vnd.plotly.v1+json": {
       "config": {
        "linkText": "Export to plot.ly",
        "plotlyServerURL": "https://plot.ly",
        "showLink": true
       },
       "data": [
        {
         "marker": {
          "color": "rgba(255, 153, 51, 0.6)",
          "line": {
           "color": "rgba(255, 153, 51, 1.0)",
           "width": 1
          }
         },
         "name": "A",
         "orientation": "v",
         "text": "",
         "type": "bar",
         "x": [
          0,
          1,
          2,
          3,
          4,
          5,
          6,
          7,
          8,
          9,
          10,
          11,
          12,
          13,
          14,
          15,
          16,
          17,
          18,
          19,
          20,
          21,
          22,
          23,
          24,
          25,
          26,
          27,
          28,
          29,
          30,
          31,
          32,
          33,
          34,
          35,
          36,
          37,
          38,
          39,
          40,
          41,
          42,
          43,
          44,
          45,
          46,
          47,
          48,
          49,
          50,
          51,
          52,
          53,
          54,
          55,
          56,
          57,
          58,
          59,
          60,
          61,
          62,
          63,
          64,
          65,
          66,
          67,
          68,
          69,
          70,
          71,
          72,
          73,
          74,
          75,
          76,
          77,
          78,
          79,
          80,
          81,
          82,
          83,
          84,
          85,
          86,
          87,
          88,
          89,
          90,
          91,
          92,
          93,
          94,
          95,
          96,
          97,
          98,
          99
         ],
         "y": [
          0.0582296909058791,
          -0.02584525376380703,
          0.00233282809989629,
          1.1481746239450044,
          0.24613651723675956,
          -1.0638018398599103,
          -0.21304176589290522,
          -0.8877953781238356,
          0.2408920641467541,
          -0.8396975894960268,
          2.0132202407596353,
          -1.8360206750556003,
          -0.2517700023746602,
          -1.4502799812552967,
          0.4152057826772664,
          -0.8998644155235899,
          0.5982440600673362,
          -0.9759069692250059,
          -1.1973876247754691,
          0.5577122833829123,
          2.310315783202372,
          -1.7961940534317489,
          -0.6572397260969888,
          -1.3376421186203706,
          1.0608517587708919,
          -2.259894369695355,
          1.4606925940258704,
          1.8907728427394275,
          -0.3043119428357968,
          1.9881857367303992,
          0.3901698887479151,
          1.3241022911963933,
          1.0959833079431376,
          -1.2734420037321217,
          -1.3216363381573888,
          0.834565478861918,
          0.6299828498049981,
          2.0786395666444015,
          -1.0791936006443799,
          -1.3790272078160453,
          -1.178945530656404,
          0.22964243572651152,
          -0.029963990967407286,
          -0.43786137324103674,
          0.6356308238712179,
          0.14810106273265564,
          0.5227969542030575,
          1.0543535418382617,
          0.02211756534029964,
          -0.13560799701465331,
          -0.5525218983218556,
          -1.0196807962712457,
          -0.2607666151406072,
          -0.5602173304664195,
          -0.6492750894074405,
          -0.2556935165453845,
          -1.0771115992625304,
          -0.135328085335629,
          -0.04464422947027891,
          -1.161005405176078,
          0.3122523074359768,
          -1.6625191089294775,
          0.34194335491409344,
          0.16470959404488125,
          1.2878181748305546,
          0.5610471493377563,
          -1.444406167736111,
          0.61479147005293,
          2.7365467524952916,
          -0.6323625965306128,
          1.276169138221677,
          -0.048793811614966896,
          -0.6086730440924935,
          0.14012253128489457,
          -0.8621572953507786,
          -1.7685450434583079,
          0.45581637692557153,
          0.7050466998267874,
          0.2814153735282505,
          0.19735245724273506,
          -1.1781923319235064,
          0.38757667877441015,
          0.2906922661543077,
          -1.0313059627582548,
          0.43284154174190126,
          -0.9379419695402221,
          -0.5102362125240482,
          -0.20895028756198047,
          1.4035565803611778,
          -1.0519821869520587,
          0.11992036334528934,
          -1.2473763817788441,
          -0.9440623587862923,
          0.4649388980972195,
          0.8891091225455513,
          -0.05281339848006934,
          1.1826926725138664,
          -0.6496100176207341,
          0.3463146074175848,
          1.245054214730473
         ]
        },
        {
         "marker": {
          "color": "rgba(55, 128, 191, 0.6)",
          "line": {
           "color": "rgba(55, 128, 191, 1.0)",
           "width": 1
          }
         },
         "name": "B",
         "orientation": "v",
         "text": "",
         "type": "bar",
         "x": [
          0,
          1,
          2,
          3,
          4,
          5,
          6,
          7,
          8,
          9,
          10,
          11,
          12,
          13,
          14,
          15,
          16,
          17,
          18,
          19,
          20,
          21,
          22,
          23,
          24,
          25,
          26,
          27,
          28,
          29,
          30,
          31,
          32,
          33,
          34,
          35,
          36,
          37,
          38,
          39,
          40,
          41,
          42,
          43,
          44,
          45,
          46,
          47,
          48,
          49,
          50,
          51,
          52,
          53,
          54,
          55,
          56,
          57,
          58,
          59,
          60,
          61,
          62,
          63,
          64,
          65,
          66,
          67,
          68,
          69,
          70,
          71,
          72,
          73,
          74,
          75,
          76,
          77,
          78,
          79,
          80,
          81,
          82,
          83,
          84,
          85,
          86,
          87,
          88,
          89,
          90,
          91,
          92,
          93,
          94,
          95,
          96,
          97,
          98,
          99
         ],
         "y": [
          -0.8159108900054555,
          -1.929941219688791,
          -0.03657417027881783,
          -1.0974209539855215,
          1.052196520858351,
          0.033822329120052425,
          1.8176801096555568,
          -0.8520932618888648,
          0.1782263123008412,
          0.6516149971522324,
          -0.1914194854642487,
          0.008657291528901528,
          -0.8148758043003251,
          -0.9471398783497236,
          -0.6061811239096245,
          1.4415241885529897,
          0.8851494166861117,
          0.20512285715425654,
          -0.7302217226826899,
          -0.31951913686424854,
          0.27231889777693935,
          -0.09697422065665619,
          -0.6649205861559219,
          0.5620367857612353,
          1.7533700715066436,
          0.6286472913776453,
          -0.7855956286751903,
          -0.15994050635267051,
          1.3518808645637923,
          -1.0154365693968737,
          -0.18050820646100885,
          0.10834646519885681,
          0.7096009539601019,
          -1.6023624543290134,
          1.9871052880616062,
          0.13645875362141854,
          -0.14633701649722333,
          0.38661791094502607,
          -0.5619435011719726,
          -0.20251346230180112,
          0.6479159809236236,
          -0.7526340518086364,
          -0.21918777663590203,
          1.0416872919367612,
          -0.6468863728671859,
          -0.44682241371939924,
          0.5847470571104231,
          1.525293780434978,
          1.6806985956288825,
          -0.40897115263895845,
          0.4807243711627144,
          0.4261709336642487,
          -0.2587232083938359,
          0.4457411507797482,
          -0.2780131113425037,
          0.6771683729554895,
          -0.49326884312164854,
          0.378732594771927,
          0.7495296141469234,
          -0.16621758439843407,
          -0.23419012280575963,
          -0.8429186547805513,
          -1.4561552722178908,
          -0.2133350041936494,
          -0.2006493898869039,
          -0.6181873825812856,
          -1.6980110048485777,
          -0.7626793020761945,
          0.3885269527655976,
          -0.46412751801116825,
          -1.0763819235680343,
          -0.502238030495814,
          -0.28576562016979584,
          0.21551527887273858,
          1.8833906902942927,
          -0.24381875320711635,
          -2.0108817352692587,
          -1.1983839198702526,
          1.4254320467638015,
          0.8872957071538016,
          0.2680860134619889,
          -0.14122802360169043,
          0.17462228023424262,
          0.47283501980558207,
          -1.5376258685767012,
          -0.9705267350254004,
          0.26336399264955324,
          -0.2400452642080898,
          1.3197311512694645,
          -0.49995857976244107,
          1.1159025551961577,
          0.3216947684974362,
          -0.06706027728631916,
          -0.5875192402723305,
          0.2673311445431004,
          1.2846262456076551,
          -0.25339170680358225,
          -0.6085930939009376,
          -1.3442330241206317,
          0.2245819379710808
         ]
        },
        {
         "marker": {
          "color": "rgba(50, 171, 96, 0.6)",
          "line": {
           "color": "rgba(50, 171, 96, 1.0)",
           "width": 1
          }
         },
         "name": "C",
         "orientation": "v",
         "text": "",
         "type": "bar",
         "x": [
          0,
          1,
          2,
          3,
          4,
          5,
          6,
          7,
          8,
          9,
          10,
          11,
          12,
          13,
          14,
          15,
          16,
          17,
          18,
          19,
          20,
          21,
          22,
          23,
          24,
          25,
          26,
          27,
          28,
          29,
          30,
          31,
          32,
          33,
          34,
          35,
          36,
          37,
          38,
          39,
          40,
          41,
          42,
          43,
          44,
          45,
          46,
          47,
          48,
          49,
          50,
          51,
          52,
          53,
          54,
          55,
          56,
          57,
          58,
          59,
          60,
          61,
          62,
          63,
          64,
          65,
          66,
          67,
          68,
          69,
          70,
          71,
          72,
          73,
          74,
          75,
          76,
          77,
          78,
          79,
          80,
          81,
          82,
          83,
          84,
          85,
          86,
          87,
          88,
          89,
          90,
          91,
          92,
          93,
          94,
          95,
          96,
          97,
          98,
          99
         ],
         "y": [
          0.43871609511090787,
          1.4473330691369668,
          0.6874111683344055,
          -0.31830361917415323,
          -0.5388382120744102,
          1.1472562118002556,
          0.3108509723492838,
          -1.3504297177585811,
          -0.14717944001590125,
          -1.0161980003072821,
          1.3184133201786352,
          -0.8948859154766784,
          0.8063427125028101,
          0.9860023990235437,
          0.43278295758782576,
          -0.3383168473212901,
          0.7828525506565561,
          0.32430811014547267,
          -0.18366489259377278,
          -1.332807951441942,
          0.5855231884301786,
          -1.49399951258357,
          1.2729131978144108,
          0.4707613042946522,
          -0.15732217966894335,
          -0.17112350219909944,
          0.5150453019363858,
          -0.09683419800777998,
          -1.15464030183148,
          -0.7066758730513744,
          -2.043606659974553,
          -1.1509322374051534,
          0.025658807784838335,
          1.4898157970226003,
          -0.0694685513661873,
          -0.49791651474279414,
          -0.2308514320585353,
          -0.6633259576742246,
          -0.9314528895000233,
          0.09268399022199766,
          1.0546179913330427,
          0.3788253128204955,
          -0.45268150440564836,
          1.0874294053375568,
          -0.34893154879565674,
          1.8290703884373203,
          1.5101181036839537,
          1.037309456079722,
          0.3829273390259377,
          -0.8115479160466885,
          0.2280149619931508,
          -0.07314365291412171,
          1.5185510594580172,
          0.38025651373434205,
          -0.31398670655601696,
          0.23485782245543066,
          1.1932516814328331,
          0.7988138783475844,
          1.66087199827985,
          -0.6170009187598181,
          -0.7119327765997175,
          -0.11955345486924777,
          -0.1193429287162214,
          -0.12603845313457776,
          0.39552766114983606,
          -2.444805418961324,
          -1.8397723832514499,
          0.4039665619307871,
          -0.06783876623717149,
          -1.2309948870786396,
          0.5080633094564294,
          0.42442792825012743,
          -0.7768402727229322,
          -0.4146941899464075,
          -0.2628708720580322,
          1.4093531835016053,
          -0.4842787587197417,
          -0.3086872018435643,
          0.5792988275599643,
          0.0558835015664736,
          -0.12724666807294763,
          -1.1301366568389613,
          -0.4086617935908518,
          -1.1272226118648105,
          0.7706661363871762,
          -0.9247291559968152,
          -1.0955838666800826,
          2.8036692006315556,
          -0.9094835797650551,
          1.5471447420104867,
          0.38896465749503334,
          -1.0990917939504126,
          0.7516162725463826,
          0.5370950423084296,
          0.304979022360758,
          -0.13901930820177436,
          1.0047496987928615,
          -1.5709449363201675,
          0.42863972150130747,
          -0.33579753215298636
         ]
        },
        {
         "marker": {
          "color": "rgba(128, 0, 128, 0.6)",
          "line": {
           "color": "rgba(128, 0, 128, 1.0)",
           "width": 1
          }
         },
         "name": "D",
         "orientation": "v",
         "text": "",
         "type": "bar",
         "x": [
          0,
          1,
          2,
          3,
          4,
          5,
          6,
          7,
          8,
          9,
          10,
          11,
          12,
          13,
          14,
          15,
          16,
          17,
          18,
          19,
          20,
          21,
          22,
          23,
          24,
          25,
          26,
          27,
          28,
          29,
          30,
          31,
          32,
          33,
          34,
          35,
          36,
          37,
          38,
          39,
          40,
          41,
          42,
          43,
          44,
          45,
          46,
          47,
          48,
          49,
          50,
          51,
          52,
          53,
          54,
          55,
          56,
          57,
          58,
          59,
          60,
          61,
          62,
          63,
          64,
          65,
          66,
          67,
          68,
          69,
          70,
          71,
          72,
          73,
          74,
          75,
          76,
          77,
          78,
          79,
          80,
          81,
          82,
          83,
          84,
          85,
          86,
          87,
          88,
          89,
          90,
          91,
          92,
          93,
          94,
          95,
          96,
          97,
          98,
          99
         ],
         "y": [
          2.201870845090954,
          -0.11919198952453913,
          -0.6491147989395194,
          -1.0940323419087372,
          1.3064805387565284,
          1.0053933644146675,
          -1.1468493721755817,
          0.43702934200597154,
          -1.5708817313388244,
          -0.30228893508853805,
          -0.5452580360626557,
          -0.6639695116112655,
          -0.7955940426938466,
          -1.6467518219836184,
          0.2809329436516192,
          0.14816821598707555,
          -0.4569463150690023,
          0.04102322118889885,
          -0.7803672256411665,
          -1.697062848956333,
          1.3222147203484962,
          -0.6493948068909241,
          0.020214620878222216,
          -0.9785074303145862,
          0.24463538527559575,
          0.21899280568001356,
          0.8289256885409623,
          -0.9661404506426933,
          1.0709167568846587,
          -2.1446864458641937,
          0.7126038142063271,
          0.8037657660529335,
          -1.0438570754660648,
          -2.1764801619754595,
          1.0065744258730616,
          -1.7085546146187438,
          1.6157853000776756,
          -0.24005886773007004,
          0.06041741995551127,
          -1.9754554368134523,
          -0.130103722338268,
          -1.9289900950205006,
          -0.20432004986579816,
          0.7844358300465218,
          -0.01648696797537042,
          -1.0990716369251219,
          -1.1203384263813874,
          -0.5298781553667351,
          -0.25166010107420206,
          -0.10803187499062224,
          0.9720371690989861,
          0.14084278106626988,
          0.958340609712445,
          1.139130689135666,
          0.6121010152679732,
          1.1702006779163139,
          3.438950303702981,
          -0.014582542305240784,
          0.8969948486842586,
          -0.2847005272765262,
          -1.294676153711721,
          0.1659703625257675,
          -1.4039308452256145,
          -0.8682886248582745,
          1.2273913987468628,
          -0.21245180779807538,
          -0.5573543417006175,
          -0.04325035409627915,
          -0.3782549331129301,
          -0.8676228692532127,
          -0.8943592217689184,
          -1.0963084188028802,
          -0.19948952305435813,
          0.04615393001258242,
          0.3963388838875445,
          -1.1901818013837535,
          -0.42342500377745523,
          1.6854298977467543,
          1.5202474035952782,
          1.5642876877114285,
          2.783931915616514,
          -1.0969162983690433,
          -0.10200943946234767,
          0.7458397850902051,
          -1.0361207524087017,
          2.2613414374373075,
          -0.9658009592653757,
          1.1048347049010612,
          -0.5491332908200294,
          -0.03513322127822818,
          0.8502999061377614,
          -0.11253047805429914,
          0.888899794382401,
          -0.39557630308169334,
          1.8346182851644055,
          0.4963586915785833,
          -0.8857741719895674,
          1.6585853035436051,
          -0.018411933912376614,
          -1.080819440204162
         ]
        }
       ],
       "layout": {
        "legend": {
         "bgcolor": "#F5F6F9",
         "font": {
          "color": "#4D5663"
         }
        },
        "paper_bgcolor": "#F5F6F9",
        "plot_bgcolor": "#F5F6F9",
        "template": {
         "data": {
          "bar": [
           {
            "error_x": {
             "color": "#2a3f5f"
            },
            "error_y": {
             "color": "#2a3f5f"
            },
            "marker": {
             "line": {
              "color": "#E5ECF6",
              "width": 0.5
             }
            },
            "type": "bar"
           }
          ],
          "barpolar": [
           {
            "marker": {
             "line": {
              "color": "#E5ECF6",
              "width": 0.5
             }
            },
            "type": "barpolar"
           }
          ],
          "carpet": [
           {
            "aaxis": {
             "endlinecolor": "#2a3f5f",
             "gridcolor": "white",
             "linecolor": "white",
             "minorgridcolor": "white",
             "startlinecolor": "#2a3f5f"
            },
            "baxis": {
             "endlinecolor": "#2a3f5f",
             "gridcolor": "white",
             "linecolor": "white",
             "minorgridcolor": "white",
             "startlinecolor": "#2a3f5f"
            },
            "type": "carpet"
           }
          ],
          "choropleth": [
           {
            "colorbar": {
             "outlinewidth": 0,
             "ticks": ""
            },
            "type": "choropleth"
           }
          ],
          "contour": [
           {
            "colorbar": {
             "outlinewidth": 0,
             "ticks": ""
            },
            "colorscale": [
             [
              0,
              "#0d0887"
             ],
             [
              0.1111111111111111,
              "#46039f"
             ],
             [
              0.2222222222222222,
              "#7201a8"
             ],
             [
              0.3333333333333333,
              "#9c179e"
             ],
             [
              0.4444444444444444,
              "#bd3786"
             ],
             [
              0.5555555555555556,
              "#d8576b"
             ],
             [
              0.6666666666666666,
              "#ed7953"
             ],
             [
              0.7777777777777778,
              "#fb9f3a"
             ],
             [
              0.8888888888888888,
              "#fdca26"
             ],
             [
              1,
              "#f0f921"
             ]
            ],
            "type": "contour"
           }
          ],
          "contourcarpet": [
           {
            "colorbar": {
             "outlinewidth": 0,
             "ticks": ""
            },
            "type": "contourcarpet"
           }
          ],
          "heatmap": [
           {
            "colorbar": {
             "outlinewidth": 0,
             "ticks": ""
            },
            "colorscale": [
             [
              0,
              "#0d0887"
             ],
             [
              0.1111111111111111,
              "#46039f"
             ],
             [
              0.2222222222222222,
              "#7201a8"
             ],
             [
              0.3333333333333333,
              "#9c179e"
             ],
             [
              0.4444444444444444,
              "#bd3786"
             ],
             [
              0.5555555555555556,
              "#d8576b"
             ],
             [
              0.6666666666666666,
              "#ed7953"
             ],
             [
              0.7777777777777778,
              "#fb9f3a"
             ],
             [
              0.8888888888888888,
              "#fdca26"
             ],
             [
              1,
              "#f0f921"
             ]
            ],
            "type": "heatmap"
           }
          ],
          "heatmapgl": [
           {
            "colorbar": {
             "outlinewidth": 0,
             "ticks": ""
            },
            "colorscale": [
             [
              0,
              "#0d0887"
             ],
             [
              0.1111111111111111,
              "#46039f"
             ],
             [
              0.2222222222222222,
              "#7201a8"
             ],
             [
              0.3333333333333333,
              "#9c179e"
             ],
             [
              0.4444444444444444,
              "#bd3786"
             ],
             [
              0.5555555555555556,
              "#d8576b"
             ],
             [
              0.6666666666666666,
              "#ed7953"
             ],
             [
              0.7777777777777778,
              "#fb9f3a"
             ],
             [
              0.8888888888888888,
              "#fdca26"
             ],
             [
              1,
              "#f0f921"
             ]
            ],
            "type": "heatmapgl"
           }
          ],
          "histogram": [
           {
            "marker": {
             "colorbar": {
              "outlinewidth": 0,
              "ticks": ""
             }
            },
            "type": "histogram"
           }
          ],
          "histogram2d": [
           {
            "colorbar": {
             "outlinewidth": 0,
             "ticks": ""
            },
            "colorscale": [
             [
              0,
              "#0d0887"
             ],
             [
              0.1111111111111111,
              "#46039f"
             ],
             [
              0.2222222222222222,
              "#7201a8"
             ],
             [
              0.3333333333333333,
              "#9c179e"
             ],
             [
              0.4444444444444444,
              "#bd3786"
             ],
             [
              0.5555555555555556,
              "#d8576b"
             ],
             [
              0.6666666666666666,
              "#ed7953"
             ],
             [
              0.7777777777777778,
              "#fb9f3a"
             ],
             [
              0.8888888888888888,
              "#fdca26"
             ],
             [
              1,
              "#f0f921"
             ]
            ],
            "type": "histogram2d"
           }
          ],
          "histogram2dcontour": [
           {
            "colorbar": {
             "outlinewidth": 0,
             "ticks": ""
            },
            "colorscale": [
             [
              0,
              "#0d0887"
             ],
             [
              0.1111111111111111,
              "#46039f"
             ],
             [
              0.2222222222222222,
              "#7201a8"
             ],
             [
              0.3333333333333333,
              "#9c179e"
             ],
             [
              0.4444444444444444,
              "#bd3786"
             ],
             [
              0.5555555555555556,
              "#d8576b"
             ],
             [
              0.6666666666666666,
              "#ed7953"
             ],
             [
              0.7777777777777778,
              "#fb9f3a"
             ],
             [
              0.8888888888888888,
              "#fdca26"
             ],
             [
              1,
              "#f0f921"
             ]
            ],
            "type": "histogram2dcontour"
           }
          ],
          "mesh3d": [
           {
            "colorbar": {
             "outlinewidth": 0,
             "ticks": ""
            },
            "type": "mesh3d"
           }
          ],
          "parcoords": [
           {
            "line": {
             "colorbar": {
              "outlinewidth": 0,
              "ticks": ""
             }
            },
            "type": "parcoords"
           }
          ],
          "pie": [
           {
            "automargin": true,
            "type": "pie"
           }
          ],
          "scatter": [
           {
            "marker": {
             "colorbar": {
              "outlinewidth": 0,
              "ticks": ""
             }
            },
            "type": "scatter"
           }
          ],
          "scatter3d": [
           {
            "line": {
             "colorbar": {
              "outlinewidth": 0,
              "ticks": ""
             }
            },
            "marker": {
             "colorbar": {
              "outlinewidth": 0,
              "ticks": ""
             }
            },
            "type": "scatter3d"
           }
          ],
          "scattercarpet": [
           {
            "marker": {
             "colorbar": {
              "outlinewidth": 0,
              "ticks": ""
             }
            },
            "type": "scattercarpet"
           }
          ],
          "scattergeo": [
           {
            "marker": {
             "colorbar": {
              "outlinewidth": 0,
              "ticks": ""
             }
            },
            "type": "scattergeo"
           }
          ],
          "scattergl": [
           {
            "marker": {
             "colorbar": {
              "outlinewidth": 0,
              "ticks": ""
             }
            },
            "type": "scattergl"
           }
          ],
          "scattermapbox": [
           {
            "marker": {
             "colorbar": {
              "outlinewidth": 0,
              "ticks": ""
             }
            },
            "type": "scattermapbox"
           }
          ],
          "scatterpolar": [
           {
            "marker": {
             "colorbar": {
              "outlinewidth": 0,
              "ticks": ""
             }
            },
            "type": "scatterpolar"
           }
          ],
          "scatterpolargl": [
           {
            "marker": {
             "colorbar": {
              "outlinewidth": 0,
              "ticks": ""
             }
            },
            "type": "scatterpolargl"
           }
          ],
          "scatterternary": [
           {
            "marker": {
             "colorbar": {
              "outlinewidth": 0,
              "ticks": ""
             }
            },
            "type": "scatterternary"
           }
          ],
          "surface": [
           {
            "colorbar": {
             "outlinewidth": 0,
             "ticks": ""
            },
            "colorscale": [
             [
              0,
              "#0d0887"
             ],
             [
              0.1111111111111111,
              "#46039f"
             ],
             [
              0.2222222222222222,
              "#7201a8"
             ],
             [
              0.3333333333333333,
              "#9c179e"
             ],
             [
              0.4444444444444444,
              "#bd3786"
             ],
             [
              0.5555555555555556,
              "#d8576b"
             ],
             [
              0.6666666666666666,
              "#ed7953"
             ],
             [
              0.7777777777777778,
              "#fb9f3a"
             ],
             [
              0.8888888888888888,
              "#fdca26"
             ],
             [
              1,
              "#f0f921"
             ]
            ],
            "type": "surface"
           }
          ],
          "table": [
           {
            "cells": {
             "fill": {
              "color": "#EBF0F8"
             },
             "line": {
              "color": "white"
             }
            },
            "header": {
             "fill": {
              "color": "#C8D4E3"
             },
             "line": {
              "color": "white"
             }
            },
            "type": "table"
           }
          ]
         },
         "layout": {
          "annotationdefaults": {
           "arrowcolor": "#2a3f5f",
           "arrowhead": 0,
           "arrowwidth": 1
          },
          "coloraxis": {
           "colorbar": {
            "outlinewidth": 0,
            "ticks": ""
           }
          },
          "colorscale": {
           "diverging": [
            [
             0,
             "#8e0152"
            ],
            [
             0.1,
             "#c51b7d"
            ],
            [
             0.2,
             "#de77ae"
            ],
            [
             0.3,
             "#f1b6da"
            ],
            [
             0.4,
             "#fde0ef"
            ],
            [
             0.5,
             "#f7f7f7"
            ],
            [
             0.6,
             "#e6f5d0"
            ],
            [
             0.7,
             "#b8e186"
            ],
            [
             0.8,
             "#7fbc41"
            ],
            [
             0.9,
             "#4d9221"
            ],
            [
             1,
             "#276419"
            ]
           ],
           "sequential": [
            [
             0,
             "#0d0887"
            ],
            [
             0.1111111111111111,
             "#46039f"
            ],
            [
             0.2222222222222222,
             "#7201a8"
            ],
            [
             0.3333333333333333,
             "#9c179e"
            ],
            [
             0.4444444444444444,
             "#bd3786"
            ],
            [
             0.5555555555555556,
             "#d8576b"
            ],
            [
             0.6666666666666666,
             "#ed7953"
            ],
            [
             0.7777777777777778,
             "#fb9f3a"
            ],
            [
             0.8888888888888888,
             "#fdca26"
            ],
            [
             1,
             "#f0f921"
            ]
           ],
           "sequentialminus": [
            [
             0,
             "#0d0887"
            ],
            [
             0.1111111111111111,
             "#46039f"
            ],
            [
             0.2222222222222222,
             "#7201a8"
            ],
            [
             0.3333333333333333,
             "#9c179e"
            ],
            [
             0.4444444444444444,
             "#bd3786"
            ],
            [
             0.5555555555555556,
             "#d8576b"
            ],
            [
             0.6666666666666666,
             "#ed7953"
            ],
            [
             0.7777777777777778,
             "#fb9f3a"
            ],
            [
             0.8888888888888888,
             "#fdca26"
            ],
            [
             1,
             "#f0f921"
            ]
           ]
          },
          "colorway": [
           "#636efa",
           "#EF553B",
           "#00cc96",
           "#ab63fa",
           "#FFA15A",
           "#19d3f3",
           "#FF6692",
           "#B6E880",
           "#FF97FF",
           "#FECB52"
          ],
          "font": {
           "color": "#2a3f5f"
          },
          "geo": {
           "bgcolor": "white",
           "lakecolor": "white",
           "landcolor": "#E5ECF6",
           "showlakes": true,
           "showland": true,
           "subunitcolor": "white"
          },
          "hoverlabel": {
           "align": "left"
          },
          "hovermode": "closest",
          "mapbox": {
           "style": "light"
          },
          "paper_bgcolor": "white",
          "plot_bgcolor": "#E5ECF6",
          "polar": {
           "angularaxis": {
            "gridcolor": "white",
            "linecolor": "white",
            "ticks": ""
           },
           "bgcolor": "#E5ECF6",
           "radialaxis": {
            "gridcolor": "white",
            "linecolor": "white",
            "ticks": ""
           }
          },
          "scene": {
           "xaxis": {
            "backgroundcolor": "#E5ECF6",
            "gridcolor": "white",
            "gridwidth": 2,
            "linecolor": "white",
            "showbackground": true,
            "ticks": "",
            "zerolinecolor": "white"
           },
           "yaxis": {
            "backgroundcolor": "#E5ECF6",
            "gridcolor": "white",
            "gridwidth": 2,
            "linecolor": "white",
            "showbackground": true,
            "ticks": "",
            "zerolinecolor": "white"
           },
           "zaxis": {
            "backgroundcolor": "#E5ECF6",
            "gridcolor": "white",
            "gridwidth": 2,
            "linecolor": "white",
            "showbackground": true,
            "ticks": "",
            "zerolinecolor": "white"
           }
          },
          "shapedefaults": {
           "line": {
            "color": "#2a3f5f"
           }
          },
          "ternary": {
           "aaxis": {
            "gridcolor": "white",
            "linecolor": "white",
            "ticks": ""
           },
           "baxis": {
            "gridcolor": "white",
            "linecolor": "white",
            "ticks": ""
           },
           "bgcolor": "#E5ECF6",
           "caxis": {
            "gridcolor": "white",
            "linecolor": "white",
            "ticks": ""
           }
          },
          "title": {
           "x": 0.05
          },
          "xaxis": {
           "automargin": true,
           "gridcolor": "white",
           "linecolor": "white",
           "ticks": "",
           "title": {
            "standoff": 15
           },
           "zerolinecolor": "white",
           "zerolinewidth": 2
          },
          "yaxis": {
           "automargin": true,
           "gridcolor": "white",
           "linecolor": "white",
           "ticks": "",
           "title": {
            "standoff": 15
           },
           "zerolinecolor": "white",
           "zerolinewidth": 2
          }
         }
        },
        "title": {
         "font": {
          "color": "#4D5663"
         }
        },
        "xaxis": {
         "gridcolor": "#E1E5ED",
         "showgrid": true,
         "tickfont": {
          "color": "#4D5663"
         },
         "title": {
          "font": {
           "color": "#4D5663"
          },
          "text": ""
         },
         "zerolinecolor": "#E1E5ED"
        },
        "yaxis": {
         "gridcolor": "#E1E5ED",
         "showgrid": true,
         "tickfont": {
          "color": "#4D5663"
         },
         "title": {
          "font": {
           "color": "#4D5663"
          },
          "text": ""
         },
         "zerolinecolor": "#E1E5ED"
        }
       }
      },
      "text/html": [
       "<div>\n",
       "        \n",
       "        \n",
       "            <div id=\"d7ff6d32-a9be-41f6-8e69-8219d0598c4b\" class=\"plotly-graph-div\" style=\"height:525px; width:100%;\"></div>\n",
       "            <script type=\"text/javascript\">\n",
       "                require([\"plotly\"], function(Plotly) {\n",
       "                    window.PLOTLYENV=window.PLOTLYENV || {};\n",
       "                    window.PLOTLYENV.BASE_URL='https://plot.ly';\n",
       "                    \n",
       "                if (document.getElementById(\"d7ff6d32-a9be-41f6-8e69-8219d0598c4b\")) {\n",
       "                    Plotly.newPlot(\n",
       "                        'd7ff6d32-a9be-41f6-8e69-8219d0598c4b',\n",
       "                        [{\"marker\": {\"color\": \"rgba(255, 153, 51, 0.6)\", \"line\": {\"color\": \"rgba(255, 153, 51, 1.0)\", \"width\": 1}}, \"name\": \"A\", \"orientation\": \"v\", \"text\": \"\", \"type\": \"bar\", \"x\": [0, 1, 2, 3, 4, 5, 6, 7, 8, 9, 10, 11, 12, 13, 14, 15, 16, 17, 18, 19, 20, 21, 22, 23, 24, 25, 26, 27, 28, 29, 30, 31, 32, 33, 34, 35, 36, 37, 38, 39, 40, 41, 42, 43, 44, 45, 46, 47, 48, 49, 50, 51, 52, 53, 54, 55, 56, 57, 58, 59, 60, 61, 62, 63, 64, 65, 66, 67, 68, 69, 70, 71, 72, 73, 74, 75, 76, 77, 78, 79, 80, 81, 82, 83, 84, 85, 86, 87, 88, 89, 90, 91, 92, 93, 94, 95, 96, 97, 98, 99], \"y\": [0.0582296909058791, -0.02584525376380703, 0.00233282809989629, 1.1481746239450044, 0.24613651723675956, -1.0638018398599103, -0.21304176589290522, -0.8877953781238356, 0.2408920641467541, -0.8396975894960268, 2.0132202407596353, -1.8360206750556003, -0.2517700023746602, -1.4502799812552967, 0.4152057826772664, -0.8998644155235899, 0.5982440600673362, -0.9759069692250059, -1.1973876247754691, 0.5577122833829123, 2.310315783202372, -1.7961940534317489, -0.6572397260969888, -1.3376421186203706, 1.0608517587708919, -2.259894369695355, 1.4606925940258704, 1.8907728427394275, -0.3043119428357968, 1.9881857367303992, 0.3901698887479151, 1.3241022911963933, 1.0959833079431376, -1.2734420037321217, -1.3216363381573888, 0.834565478861918, 0.6299828498049981, 2.0786395666444015, -1.0791936006443799, -1.3790272078160453, -1.178945530656404, 0.22964243572651152, -0.029963990967407286, -0.43786137324103674, 0.6356308238712179, 0.14810106273265564, 0.5227969542030575, 1.0543535418382617, 0.02211756534029964, -0.13560799701465331, -0.5525218983218556, -1.0196807962712457, -0.2607666151406072, -0.5602173304664195, -0.6492750894074405, -0.2556935165453845, -1.0771115992625304, -0.135328085335629, -0.04464422947027891, -1.161005405176078, 0.3122523074359768, -1.6625191089294775, 0.34194335491409344, 0.16470959404488125, 1.2878181748305546, 0.5610471493377563, -1.444406167736111, 0.61479147005293, 2.7365467524952916, -0.6323625965306128, 1.276169138221677, -0.048793811614966896, -0.6086730440924935, 0.14012253128489457, -0.8621572953507786, -1.7685450434583079, 0.45581637692557153, 0.7050466998267874, 0.2814153735282505, 0.19735245724273506, -1.1781923319235064, 0.38757667877441015, 0.2906922661543077, -1.0313059627582548, 0.43284154174190126, -0.9379419695402221, -0.5102362125240482, -0.20895028756198047, 1.4035565803611778, -1.0519821869520587, 0.11992036334528934, -1.2473763817788441, -0.9440623587862923, 0.4649388980972195, 0.8891091225455513, -0.05281339848006934, 1.1826926725138664, -0.6496100176207341, 0.3463146074175848, 1.245054214730473]}, {\"marker\": {\"color\": \"rgba(55, 128, 191, 0.6)\", \"line\": {\"color\": \"rgba(55, 128, 191, 1.0)\", \"width\": 1}}, \"name\": \"B\", \"orientation\": \"v\", \"text\": \"\", \"type\": \"bar\", \"x\": [0, 1, 2, 3, 4, 5, 6, 7, 8, 9, 10, 11, 12, 13, 14, 15, 16, 17, 18, 19, 20, 21, 22, 23, 24, 25, 26, 27, 28, 29, 30, 31, 32, 33, 34, 35, 36, 37, 38, 39, 40, 41, 42, 43, 44, 45, 46, 47, 48, 49, 50, 51, 52, 53, 54, 55, 56, 57, 58, 59, 60, 61, 62, 63, 64, 65, 66, 67, 68, 69, 70, 71, 72, 73, 74, 75, 76, 77, 78, 79, 80, 81, 82, 83, 84, 85, 86, 87, 88, 89, 90, 91, 92, 93, 94, 95, 96, 97, 98, 99], \"y\": [-0.8159108900054555, -1.929941219688791, -0.03657417027881783, -1.0974209539855215, 1.052196520858351, 0.033822329120052425, 1.8176801096555568, -0.8520932618888648, 0.1782263123008412, 0.6516149971522324, -0.1914194854642487, 0.008657291528901528, -0.8148758043003251, -0.9471398783497236, -0.6061811239096245, 1.4415241885529897, 0.8851494166861117, 0.20512285715425654, -0.7302217226826899, -0.31951913686424854, 0.27231889777693935, -0.09697422065665619, -0.6649205861559219, 0.5620367857612353, 1.7533700715066436, 0.6286472913776453, -0.7855956286751903, -0.15994050635267051, 1.3518808645637923, -1.0154365693968737, -0.18050820646100885, 0.10834646519885681, 0.7096009539601019, -1.6023624543290134, 1.9871052880616062, 0.13645875362141854, -0.14633701649722333, 0.38661791094502607, -0.5619435011719726, -0.20251346230180112, 0.6479159809236236, -0.7526340518086364, -0.21918777663590203, 1.0416872919367612, -0.6468863728671859, -0.44682241371939924, 0.5847470571104231, 1.525293780434978, 1.6806985956288825, -0.40897115263895845, 0.4807243711627144, 0.4261709336642487, -0.2587232083938359, 0.4457411507797482, -0.2780131113425037, 0.6771683729554895, -0.49326884312164854, 0.378732594771927, 0.7495296141469234, -0.16621758439843407, -0.23419012280575963, -0.8429186547805513, -1.4561552722178908, -0.2133350041936494, -0.2006493898869039, -0.6181873825812856, -1.6980110048485777, -0.7626793020761945, 0.3885269527655976, -0.46412751801116825, -1.0763819235680343, -0.502238030495814, -0.28576562016979584, 0.21551527887273858, 1.8833906902942927, -0.24381875320711635, -2.0108817352692587, -1.1983839198702526, 1.4254320467638015, 0.8872957071538016, 0.2680860134619889, -0.14122802360169043, 0.17462228023424262, 0.47283501980558207, -1.5376258685767012, -0.9705267350254004, 0.26336399264955324, -0.2400452642080898, 1.3197311512694645, -0.49995857976244107, 1.1159025551961577, 0.3216947684974362, -0.06706027728631916, -0.5875192402723305, 0.2673311445431004, 1.2846262456076551, -0.25339170680358225, -0.6085930939009376, -1.3442330241206317, 0.2245819379710808]}, {\"marker\": {\"color\": \"rgba(50, 171, 96, 0.6)\", \"line\": {\"color\": \"rgba(50, 171, 96, 1.0)\", \"width\": 1}}, \"name\": \"C\", \"orientation\": \"v\", \"text\": \"\", \"type\": \"bar\", \"x\": [0, 1, 2, 3, 4, 5, 6, 7, 8, 9, 10, 11, 12, 13, 14, 15, 16, 17, 18, 19, 20, 21, 22, 23, 24, 25, 26, 27, 28, 29, 30, 31, 32, 33, 34, 35, 36, 37, 38, 39, 40, 41, 42, 43, 44, 45, 46, 47, 48, 49, 50, 51, 52, 53, 54, 55, 56, 57, 58, 59, 60, 61, 62, 63, 64, 65, 66, 67, 68, 69, 70, 71, 72, 73, 74, 75, 76, 77, 78, 79, 80, 81, 82, 83, 84, 85, 86, 87, 88, 89, 90, 91, 92, 93, 94, 95, 96, 97, 98, 99], \"y\": [0.43871609511090787, 1.4473330691369668, 0.6874111683344055, -0.31830361917415323, -0.5388382120744102, 1.1472562118002556, 0.3108509723492838, -1.3504297177585811, -0.14717944001590125, -1.0161980003072821, 1.3184133201786352, -0.8948859154766784, 0.8063427125028101, 0.9860023990235437, 0.43278295758782576, -0.3383168473212901, 0.7828525506565561, 0.32430811014547267, -0.18366489259377278, -1.332807951441942, 0.5855231884301786, -1.49399951258357, 1.2729131978144108, 0.4707613042946522, -0.15732217966894335, -0.17112350219909944, 0.5150453019363858, -0.09683419800777998, -1.15464030183148, -0.7066758730513744, -2.043606659974553, -1.1509322374051534, 0.025658807784838335, 1.4898157970226003, -0.0694685513661873, -0.49791651474279414, -0.2308514320585353, -0.6633259576742246, -0.9314528895000233, 0.09268399022199766, 1.0546179913330427, 0.3788253128204955, -0.45268150440564836, 1.0874294053375568, -0.34893154879565674, 1.8290703884373203, 1.5101181036839537, 1.037309456079722, 0.3829273390259377, -0.8115479160466885, 0.2280149619931508, -0.07314365291412171, 1.5185510594580172, 0.38025651373434205, -0.31398670655601696, 0.23485782245543066, 1.1932516814328331, 0.7988138783475844, 1.66087199827985, -0.6170009187598181, -0.7119327765997175, -0.11955345486924777, -0.1193429287162214, -0.12603845313457776, 0.39552766114983606, -2.444805418961324, -1.8397723832514499, 0.4039665619307871, -0.06783876623717149, -1.2309948870786396, 0.5080633094564294, 0.42442792825012743, -0.7768402727229322, -0.4146941899464075, -0.2628708720580322, 1.4093531835016053, -0.4842787587197417, -0.3086872018435643, 0.5792988275599643, 0.0558835015664736, -0.12724666807294763, -1.1301366568389613, -0.4086617935908518, -1.1272226118648105, 0.7706661363871762, -0.9247291559968152, -1.0955838666800826, 2.8036692006315556, -0.9094835797650551, 1.5471447420104867, 0.38896465749503334, -1.0990917939504126, 0.7516162725463826, 0.5370950423084296, 0.304979022360758, -0.13901930820177436, 1.0047496987928615, -1.5709449363201675, 0.42863972150130747, -0.33579753215298636]}, {\"marker\": {\"color\": \"rgba(128, 0, 128, 0.6)\", \"line\": {\"color\": \"rgba(128, 0, 128, 1.0)\", \"width\": 1}}, \"name\": \"D\", \"orientation\": \"v\", \"text\": \"\", \"type\": \"bar\", \"x\": [0, 1, 2, 3, 4, 5, 6, 7, 8, 9, 10, 11, 12, 13, 14, 15, 16, 17, 18, 19, 20, 21, 22, 23, 24, 25, 26, 27, 28, 29, 30, 31, 32, 33, 34, 35, 36, 37, 38, 39, 40, 41, 42, 43, 44, 45, 46, 47, 48, 49, 50, 51, 52, 53, 54, 55, 56, 57, 58, 59, 60, 61, 62, 63, 64, 65, 66, 67, 68, 69, 70, 71, 72, 73, 74, 75, 76, 77, 78, 79, 80, 81, 82, 83, 84, 85, 86, 87, 88, 89, 90, 91, 92, 93, 94, 95, 96, 97, 98, 99], \"y\": [2.201870845090954, -0.11919198952453913, -0.6491147989395194, -1.0940323419087372, 1.3064805387565284, 1.0053933644146675, -1.1468493721755817, 0.43702934200597154, -1.5708817313388244, -0.30228893508853805, -0.5452580360626557, -0.6639695116112655, -0.7955940426938466, -1.6467518219836184, 0.2809329436516192, 0.14816821598707555, -0.4569463150690023, 0.04102322118889885, -0.7803672256411665, -1.697062848956333, 1.3222147203484962, -0.6493948068909241, 0.020214620878222216, -0.9785074303145862, 0.24463538527559575, 0.21899280568001356, 0.8289256885409623, -0.9661404506426933, 1.0709167568846587, -2.1446864458641937, 0.7126038142063271, 0.8037657660529335, -1.0438570754660648, -2.1764801619754595, 1.0065744258730616, -1.7085546146187438, 1.6157853000776756, -0.24005886773007004, 0.06041741995551127, -1.9754554368134523, -0.130103722338268, -1.9289900950205006, -0.20432004986579816, 0.7844358300465218, -0.01648696797537042, -1.0990716369251219, -1.1203384263813874, -0.5298781553667351, -0.25166010107420206, -0.10803187499062224, 0.9720371690989861, 0.14084278106626988, 0.958340609712445, 1.139130689135666, 0.6121010152679732, 1.1702006779163139, 3.438950303702981, -0.014582542305240784, 0.8969948486842586, -0.2847005272765262, -1.294676153711721, 0.1659703625257675, -1.4039308452256145, -0.8682886248582745, 1.2273913987468628, -0.21245180779807538, -0.5573543417006175, -0.04325035409627915, -0.3782549331129301, -0.8676228692532127, -0.8943592217689184, -1.0963084188028802, -0.19948952305435813, 0.04615393001258242, 0.3963388838875445, -1.1901818013837535, -0.42342500377745523, 1.6854298977467543, 1.5202474035952782, 1.5642876877114285, 2.783931915616514, -1.0969162983690433, -0.10200943946234767, 0.7458397850902051, -1.0361207524087017, 2.2613414374373075, -0.9658009592653757, 1.1048347049010612, -0.5491332908200294, -0.03513322127822818, 0.8502999061377614, -0.11253047805429914, 0.888899794382401, -0.39557630308169334, 1.8346182851644055, 0.4963586915785833, -0.8857741719895674, 1.6585853035436051, -0.018411933912376614, -1.080819440204162]}],\n",
       "                        {\"legend\": {\"bgcolor\": \"#F5F6F9\", \"font\": {\"color\": \"#4D5663\"}}, \"paper_bgcolor\": \"#F5F6F9\", \"plot_bgcolor\": \"#F5F6F9\", \"template\": {\"data\": {\"bar\": [{\"error_x\": {\"color\": \"#2a3f5f\"}, \"error_y\": {\"color\": \"#2a3f5f\"}, \"marker\": {\"line\": {\"color\": \"#E5ECF6\", \"width\": 0.5}}, \"type\": \"bar\"}], \"barpolar\": [{\"marker\": {\"line\": {\"color\": \"#E5ECF6\", \"width\": 0.5}}, \"type\": \"barpolar\"}], \"carpet\": [{\"aaxis\": {\"endlinecolor\": \"#2a3f5f\", \"gridcolor\": \"white\", \"linecolor\": \"white\", \"minorgridcolor\": \"white\", \"startlinecolor\": \"#2a3f5f\"}, \"baxis\": {\"endlinecolor\": \"#2a3f5f\", \"gridcolor\": \"white\", \"linecolor\": \"white\", \"minorgridcolor\": \"white\", \"startlinecolor\": \"#2a3f5f\"}, \"type\": \"carpet\"}], \"choropleth\": [{\"colorbar\": {\"outlinewidth\": 0, \"ticks\": \"\"}, \"type\": \"choropleth\"}], \"contour\": [{\"colorbar\": {\"outlinewidth\": 0, \"ticks\": \"\"}, \"colorscale\": [[0.0, \"#0d0887\"], [0.1111111111111111, \"#46039f\"], [0.2222222222222222, \"#7201a8\"], [0.3333333333333333, \"#9c179e\"], [0.4444444444444444, \"#bd3786\"], [0.5555555555555556, \"#d8576b\"], [0.6666666666666666, \"#ed7953\"], [0.7777777777777778, \"#fb9f3a\"], [0.8888888888888888, \"#fdca26\"], [1.0, \"#f0f921\"]], \"type\": \"contour\"}], \"contourcarpet\": [{\"colorbar\": {\"outlinewidth\": 0, \"ticks\": \"\"}, \"type\": \"contourcarpet\"}], \"heatmap\": [{\"colorbar\": {\"outlinewidth\": 0, \"ticks\": \"\"}, \"colorscale\": [[0.0, \"#0d0887\"], [0.1111111111111111, \"#46039f\"], [0.2222222222222222, \"#7201a8\"], [0.3333333333333333, \"#9c179e\"], [0.4444444444444444, \"#bd3786\"], [0.5555555555555556, \"#d8576b\"], [0.6666666666666666, \"#ed7953\"], [0.7777777777777778, \"#fb9f3a\"], [0.8888888888888888, \"#fdca26\"], [1.0, \"#f0f921\"]], \"type\": \"heatmap\"}], \"heatmapgl\": [{\"colorbar\": {\"outlinewidth\": 0, \"ticks\": \"\"}, \"colorscale\": [[0.0, \"#0d0887\"], [0.1111111111111111, \"#46039f\"], [0.2222222222222222, \"#7201a8\"], [0.3333333333333333, \"#9c179e\"], [0.4444444444444444, \"#bd3786\"], [0.5555555555555556, \"#d8576b\"], [0.6666666666666666, \"#ed7953\"], [0.7777777777777778, \"#fb9f3a\"], [0.8888888888888888, \"#fdca26\"], [1.0, \"#f0f921\"]], \"type\": \"heatmapgl\"}], \"histogram\": [{\"marker\": {\"colorbar\": {\"outlinewidth\": 0, \"ticks\": \"\"}}, \"type\": \"histogram\"}], \"histogram2d\": [{\"colorbar\": {\"outlinewidth\": 0, \"ticks\": \"\"}, \"colorscale\": [[0.0, \"#0d0887\"], [0.1111111111111111, \"#46039f\"], [0.2222222222222222, \"#7201a8\"], [0.3333333333333333, \"#9c179e\"], [0.4444444444444444, \"#bd3786\"], [0.5555555555555556, \"#d8576b\"], [0.6666666666666666, \"#ed7953\"], [0.7777777777777778, \"#fb9f3a\"], [0.8888888888888888, \"#fdca26\"], [1.0, \"#f0f921\"]], \"type\": \"histogram2d\"}], \"histogram2dcontour\": [{\"colorbar\": {\"outlinewidth\": 0, \"ticks\": \"\"}, \"colorscale\": [[0.0, \"#0d0887\"], [0.1111111111111111, \"#46039f\"], [0.2222222222222222, \"#7201a8\"], [0.3333333333333333, \"#9c179e\"], [0.4444444444444444, \"#bd3786\"], [0.5555555555555556, \"#d8576b\"], [0.6666666666666666, \"#ed7953\"], [0.7777777777777778, \"#fb9f3a\"], [0.8888888888888888, \"#fdca26\"], [1.0, \"#f0f921\"]], \"type\": \"histogram2dcontour\"}], \"mesh3d\": [{\"colorbar\": {\"outlinewidth\": 0, \"ticks\": \"\"}, \"type\": \"mesh3d\"}], \"parcoords\": [{\"line\": {\"colorbar\": {\"outlinewidth\": 0, \"ticks\": \"\"}}, \"type\": \"parcoords\"}], \"pie\": [{\"automargin\": true, \"type\": \"pie\"}], \"scatter\": [{\"marker\": {\"colorbar\": {\"outlinewidth\": 0, \"ticks\": \"\"}}, \"type\": \"scatter\"}], \"scatter3d\": [{\"line\": {\"colorbar\": {\"outlinewidth\": 0, \"ticks\": \"\"}}, \"marker\": {\"colorbar\": {\"outlinewidth\": 0, \"ticks\": \"\"}}, \"type\": \"scatter3d\"}], \"scattercarpet\": [{\"marker\": {\"colorbar\": {\"outlinewidth\": 0, \"ticks\": \"\"}}, \"type\": \"scattercarpet\"}], \"scattergeo\": [{\"marker\": {\"colorbar\": {\"outlinewidth\": 0, \"ticks\": \"\"}}, \"type\": \"scattergeo\"}], \"scattergl\": [{\"marker\": {\"colorbar\": {\"outlinewidth\": 0, \"ticks\": \"\"}}, \"type\": \"scattergl\"}], \"scattermapbox\": [{\"marker\": {\"colorbar\": {\"outlinewidth\": 0, \"ticks\": \"\"}}, \"type\": \"scattermapbox\"}], \"scatterpolar\": [{\"marker\": {\"colorbar\": {\"outlinewidth\": 0, \"ticks\": \"\"}}, \"type\": \"scatterpolar\"}], \"scatterpolargl\": [{\"marker\": {\"colorbar\": {\"outlinewidth\": 0, \"ticks\": \"\"}}, \"type\": \"scatterpolargl\"}], \"scatterternary\": [{\"marker\": {\"colorbar\": {\"outlinewidth\": 0, \"ticks\": \"\"}}, \"type\": \"scatterternary\"}], \"surface\": [{\"colorbar\": {\"outlinewidth\": 0, \"ticks\": \"\"}, \"colorscale\": [[0.0, \"#0d0887\"], [0.1111111111111111, \"#46039f\"], [0.2222222222222222, \"#7201a8\"], [0.3333333333333333, \"#9c179e\"], [0.4444444444444444, \"#bd3786\"], [0.5555555555555556, \"#d8576b\"], [0.6666666666666666, \"#ed7953\"], [0.7777777777777778, \"#fb9f3a\"], [0.8888888888888888, \"#fdca26\"], [1.0, \"#f0f921\"]], \"type\": \"surface\"}], \"table\": [{\"cells\": {\"fill\": {\"color\": \"#EBF0F8\"}, \"line\": {\"color\": \"white\"}}, \"header\": {\"fill\": {\"color\": \"#C8D4E3\"}, \"line\": {\"color\": \"white\"}}, \"type\": \"table\"}]}, \"layout\": {\"annotationdefaults\": {\"arrowcolor\": \"#2a3f5f\", \"arrowhead\": 0, \"arrowwidth\": 1}, \"coloraxis\": {\"colorbar\": {\"outlinewidth\": 0, \"ticks\": \"\"}}, \"colorscale\": {\"diverging\": [[0, \"#8e0152\"], [0.1, \"#c51b7d\"], [0.2, \"#de77ae\"], [0.3, \"#f1b6da\"], [0.4, \"#fde0ef\"], [0.5, \"#f7f7f7\"], [0.6, \"#e6f5d0\"], [0.7, \"#b8e186\"], [0.8, \"#7fbc41\"], [0.9, \"#4d9221\"], [1, \"#276419\"]], \"sequential\": [[0.0, \"#0d0887\"], [0.1111111111111111, \"#46039f\"], [0.2222222222222222, \"#7201a8\"], [0.3333333333333333, \"#9c179e\"], [0.4444444444444444, \"#bd3786\"], [0.5555555555555556, \"#d8576b\"], [0.6666666666666666, \"#ed7953\"], [0.7777777777777778, \"#fb9f3a\"], [0.8888888888888888, \"#fdca26\"], [1.0, \"#f0f921\"]], \"sequentialminus\": [[0.0, \"#0d0887\"], [0.1111111111111111, \"#46039f\"], [0.2222222222222222, \"#7201a8\"], [0.3333333333333333, \"#9c179e\"], [0.4444444444444444, \"#bd3786\"], [0.5555555555555556, \"#d8576b\"], [0.6666666666666666, \"#ed7953\"], [0.7777777777777778, \"#fb9f3a\"], [0.8888888888888888, \"#fdca26\"], [1.0, \"#f0f921\"]]}, \"colorway\": [\"#636efa\", \"#EF553B\", \"#00cc96\", \"#ab63fa\", \"#FFA15A\", \"#19d3f3\", \"#FF6692\", \"#B6E880\", \"#FF97FF\", \"#FECB52\"], \"font\": {\"color\": \"#2a3f5f\"}, \"geo\": {\"bgcolor\": \"white\", \"lakecolor\": \"white\", \"landcolor\": \"#E5ECF6\", \"showlakes\": true, \"showland\": true, \"subunitcolor\": \"white\"}, \"hoverlabel\": {\"align\": \"left\"}, \"hovermode\": \"closest\", \"mapbox\": {\"style\": \"light\"}, \"paper_bgcolor\": \"white\", \"plot_bgcolor\": \"#E5ECF6\", \"polar\": {\"angularaxis\": {\"gridcolor\": \"white\", \"linecolor\": \"white\", \"ticks\": \"\"}, \"bgcolor\": \"#E5ECF6\", \"radialaxis\": {\"gridcolor\": \"white\", \"linecolor\": \"white\", \"ticks\": \"\"}}, \"scene\": {\"xaxis\": {\"backgroundcolor\": \"#E5ECF6\", \"gridcolor\": \"white\", \"gridwidth\": 2, \"linecolor\": \"white\", \"showbackground\": true, \"ticks\": \"\", \"zerolinecolor\": \"white\"}, \"yaxis\": {\"backgroundcolor\": \"#E5ECF6\", \"gridcolor\": \"white\", \"gridwidth\": 2, \"linecolor\": \"white\", \"showbackground\": true, \"ticks\": \"\", \"zerolinecolor\": \"white\"}, \"zaxis\": {\"backgroundcolor\": \"#E5ECF6\", \"gridcolor\": \"white\", \"gridwidth\": 2, \"linecolor\": \"white\", \"showbackground\": true, \"ticks\": \"\", \"zerolinecolor\": \"white\"}}, \"shapedefaults\": {\"line\": {\"color\": \"#2a3f5f\"}}, \"ternary\": {\"aaxis\": {\"gridcolor\": \"white\", \"linecolor\": \"white\", \"ticks\": \"\"}, \"baxis\": {\"gridcolor\": \"white\", \"linecolor\": \"white\", \"ticks\": \"\"}, \"bgcolor\": \"#E5ECF6\", \"caxis\": {\"gridcolor\": \"white\", \"linecolor\": \"white\", \"ticks\": \"\"}}, \"title\": {\"x\": 0.05}, \"xaxis\": {\"automargin\": true, \"gridcolor\": \"white\", \"linecolor\": \"white\", \"ticks\": \"\", \"title\": {\"standoff\": 15}, \"zerolinecolor\": \"white\", \"zerolinewidth\": 2}, \"yaxis\": {\"automargin\": true, \"gridcolor\": \"white\", \"linecolor\": \"white\", \"ticks\": \"\", \"title\": {\"standoff\": 15}, \"zerolinecolor\": \"white\", \"zerolinewidth\": 2}}}, \"title\": {\"font\": {\"color\": \"#4D5663\"}}, \"xaxis\": {\"gridcolor\": \"#E1E5ED\", \"showgrid\": true, \"tickfont\": {\"color\": \"#4D5663\"}, \"title\": {\"font\": {\"color\": \"#4D5663\"}, \"text\": \"\"}, \"zerolinecolor\": \"#E1E5ED\"}, \"yaxis\": {\"gridcolor\": \"#E1E5ED\", \"showgrid\": true, \"tickfont\": {\"color\": \"#4D5663\"}, \"title\": {\"font\": {\"color\": \"#4D5663\"}, \"text\": \"\"}, \"zerolinecolor\": \"#E1E5ED\"}},\n",
       "                        {\"showLink\": true, \"linkText\": \"Export to plot.ly\", \"plotlyServerURL\": \"https://plot.ly\", \"responsive\": true}\n",
       "                    ).then(function(){\n",
       "                            \n",
       "var gd = document.getElementById('d7ff6d32-a9be-41f6-8e69-8219d0598c4b');\n",
       "var x = new MutationObserver(function (mutations, observer) {{\n",
       "        var display = window.getComputedStyle(gd).display;\n",
       "        if (!display || display === 'none') {{\n",
       "            console.log([gd, 'removed!']);\n",
       "            Plotly.purge(gd);\n",
       "            observer.disconnect();\n",
       "        }}\n",
       "}});\n",
       "\n",
       "// Listen for the removal of the full notebook cells\n",
       "var notebookContainer = gd.closest('#notebook-container');\n",
       "if (notebookContainer) {{\n",
       "    x.observe(notebookContainer, {childList: true});\n",
       "}}\n",
       "\n",
       "// Listen for the clearing of the current output cell\n",
       "var outputEl = gd.closest('.output');\n",
       "if (outputEl) {{\n",
       "    x.observe(outputEl, {childList: true});\n",
       "}}\n",
       "\n",
       "                        })\n",
       "                };\n",
       "                });\n",
       "            </script>\n",
       "        </div>"
      ]
     },
     "metadata": {},
     "output_type": "display_data"
    }
   ],
   "source": [
    "df.iplot(kind='bar')"
   ]
  },
  {
   "cell_type": "code",
   "execution_count": 26,
   "metadata": {},
   "outputs": [
    {
     "data": {
      "application/vnd.plotly.v1+json": {
       "config": {
        "linkText": "Export to plot.ly",
        "plotlyServerURL": "https://plot.ly",
        "showLink": true
       },
       "data": [
        {
         "marker": {
          "color": "rgba(255, 153, 51, 0.6)",
          "line": {
           "color": "rgba(255, 153, 51, 1.0)",
           "width": 1
          }
         },
         "name": "None",
         "orientation": "v",
         "text": "",
         "type": "bar",
         "x": [
          "A",
          "B",
          "C",
          "D"
         ],
         "y": [
          100,
          100,
          100,
          100
         ]
        }
       ],
       "layout": {
        "legend": {
         "bgcolor": "#F5F6F9",
         "font": {
          "color": "#4D5663"
         }
        },
        "paper_bgcolor": "#F5F6F9",
        "plot_bgcolor": "#F5F6F9",
        "template": {
         "data": {
          "bar": [
           {
            "error_x": {
             "color": "#2a3f5f"
            },
            "error_y": {
             "color": "#2a3f5f"
            },
            "marker": {
             "line": {
              "color": "#E5ECF6",
              "width": 0.5
             }
            },
            "type": "bar"
           }
          ],
          "barpolar": [
           {
            "marker": {
             "line": {
              "color": "#E5ECF6",
              "width": 0.5
             }
            },
            "type": "barpolar"
           }
          ],
          "carpet": [
           {
            "aaxis": {
             "endlinecolor": "#2a3f5f",
             "gridcolor": "white",
             "linecolor": "white",
             "minorgridcolor": "white",
             "startlinecolor": "#2a3f5f"
            },
            "baxis": {
             "endlinecolor": "#2a3f5f",
             "gridcolor": "white",
             "linecolor": "white",
             "minorgridcolor": "white",
             "startlinecolor": "#2a3f5f"
            },
            "type": "carpet"
           }
          ],
          "choropleth": [
           {
            "colorbar": {
             "outlinewidth": 0,
             "ticks": ""
            },
            "type": "choropleth"
           }
          ],
          "contour": [
           {
            "colorbar": {
             "outlinewidth": 0,
             "ticks": ""
            },
            "colorscale": [
             [
              0,
              "#0d0887"
             ],
             [
              0.1111111111111111,
              "#46039f"
             ],
             [
              0.2222222222222222,
              "#7201a8"
             ],
             [
              0.3333333333333333,
              "#9c179e"
             ],
             [
              0.4444444444444444,
              "#bd3786"
             ],
             [
              0.5555555555555556,
              "#d8576b"
             ],
             [
              0.6666666666666666,
              "#ed7953"
             ],
             [
              0.7777777777777778,
              "#fb9f3a"
             ],
             [
              0.8888888888888888,
              "#fdca26"
             ],
             [
              1,
              "#f0f921"
             ]
            ],
            "type": "contour"
           }
          ],
          "contourcarpet": [
           {
            "colorbar": {
             "outlinewidth": 0,
             "ticks": ""
            },
            "type": "contourcarpet"
           }
          ],
          "heatmap": [
           {
            "colorbar": {
             "outlinewidth": 0,
             "ticks": ""
            },
            "colorscale": [
             [
              0,
              "#0d0887"
             ],
             [
              0.1111111111111111,
              "#46039f"
             ],
             [
              0.2222222222222222,
              "#7201a8"
             ],
             [
              0.3333333333333333,
              "#9c179e"
             ],
             [
              0.4444444444444444,
              "#bd3786"
             ],
             [
              0.5555555555555556,
              "#d8576b"
             ],
             [
              0.6666666666666666,
              "#ed7953"
             ],
             [
              0.7777777777777778,
              "#fb9f3a"
             ],
             [
              0.8888888888888888,
              "#fdca26"
             ],
             [
              1,
              "#f0f921"
             ]
            ],
            "type": "heatmap"
           }
          ],
          "heatmapgl": [
           {
            "colorbar": {
             "outlinewidth": 0,
             "ticks": ""
            },
            "colorscale": [
             [
              0,
              "#0d0887"
             ],
             [
              0.1111111111111111,
              "#46039f"
             ],
             [
              0.2222222222222222,
              "#7201a8"
             ],
             [
              0.3333333333333333,
              "#9c179e"
             ],
             [
              0.4444444444444444,
              "#bd3786"
             ],
             [
              0.5555555555555556,
              "#d8576b"
             ],
             [
              0.6666666666666666,
              "#ed7953"
             ],
             [
              0.7777777777777778,
              "#fb9f3a"
             ],
             [
              0.8888888888888888,
              "#fdca26"
             ],
             [
              1,
              "#f0f921"
             ]
            ],
            "type": "heatmapgl"
           }
          ],
          "histogram": [
           {
            "marker": {
             "colorbar": {
              "outlinewidth": 0,
              "ticks": ""
             }
            },
            "type": "histogram"
           }
          ],
          "histogram2d": [
           {
            "colorbar": {
             "outlinewidth": 0,
             "ticks": ""
            },
            "colorscale": [
             [
              0,
              "#0d0887"
             ],
             [
              0.1111111111111111,
              "#46039f"
             ],
             [
              0.2222222222222222,
              "#7201a8"
             ],
             [
              0.3333333333333333,
              "#9c179e"
             ],
             [
              0.4444444444444444,
              "#bd3786"
             ],
             [
              0.5555555555555556,
              "#d8576b"
             ],
             [
              0.6666666666666666,
              "#ed7953"
             ],
             [
              0.7777777777777778,
              "#fb9f3a"
             ],
             [
              0.8888888888888888,
              "#fdca26"
             ],
             [
              1,
              "#f0f921"
             ]
            ],
            "type": "histogram2d"
           }
          ],
          "histogram2dcontour": [
           {
            "colorbar": {
             "outlinewidth": 0,
             "ticks": ""
            },
            "colorscale": [
             [
              0,
              "#0d0887"
             ],
             [
              0.1111111111111111,
              "#46039f"
             ],
             [
              0.2222222222222222,
              "#7201a8"
             ],
             [
              0.3333333333333333,
              "#9c179e"
             ],
             [
              0.4444444444444444,
              "#bd3786"
             ],
             [
              0.5555555555555556,
              "#d8576b"
             ],
             [
              0.6666666666666666,
              "#ed7953"
             ],
             [
              0.7777777777777778,
              "#fb9f3a"
             ],
             [
              0.8888888888888888,
              "#fdca26"
             ],
             [
              1,
              "#f0f921"
             ]
            ],
            "type": "histogram2dcontour"
           }
          ],
          "mesh3d": [
           {
            "colorbar": {
             "outlinewidth": 0,
             "ticks": ""
            },
            "type": "mesh3d"
           }
          ],
          "parcoords": [
           {
            "line": {
             "colorbar": {
              "outlinewidth": 0,
              "ticks": ""
             }
            },
            "type": "parcoords"
           }
          ],
          "pie": [
           {
            "automargin": true,
            "type": "pie"
           }
          ],
          "scatter": [
           {
            "marker": {
             "colorbar": {
              "outlinewidth": 0,
              "ticks": ""
             }
            },
            "type": "scatter"
           }
          ],
          "scatter3d": [
           {
            "line": {
             "colorbar": {
              "outlinewidth": 0,
              "ticks": ""
             }
            },
            "marker": {
             "colorbar": {
              "outlinewidth": 0,
              "ticks": ""
             }
            },
            "type": "scatter3d"
           }
          ],
          "scattercarpet": [
           {
            "marker": {
             "colorbar": {
              "outlinewidth": 0,
              "ticks": ""
             }
            },
            "type": "scattercarpet"
           }
          ],
          "scattergeo": [
           {
            "marker": {
             "colorbar": {
              "outlinewidth": 0,
              "ticks": ""
             }
            },
            "type": "scattergeo"
           }
          ],
          "scattergl": [
           {
            "marker": {
             "colorbar": {
              "outlinewidth": 0,
              "ticks": ""
             }
            },
            "type": "scattergl"
           }
          ],
          "scattermapbox": [
           {
            "marker": {
             "colorbar": {
              "outlinewidth": 0,
              "ticks": ""
             }
            },
            "type": "scattermapbox"
           }
          ],
          "scatterpolar": [
           {
            "marker": {
             "colorbar": {
              "outlinewidth": 0,
              "ticks": ""
             }
            },
            "type": "scatterpolar"
           }
          ],
          "scatterpolargl": [
           {
            "marker": {
             "colorbar": {
              "outlinewidth": 0,
              "ticks": ""
             }
            },
            "type": "scatterpolargl"
           }
          ],
          "scatterternary": [
           {
            "marker": {
             "colorbar": {
              "outlinewidth": 0,
              "ticks": ""
             }
            },
            "type": "scatterternary"
           }
          ],
          "surface": [
           {
            "colorbar": {
             "outlinewidth": 0,
             "ticks": ""
            },
            "colorscale": [
             [
              0,
              "#0d0887"
             ],
             [
              0.1111111111111111,
              "#46039f"
             ],
             [
              0.2222222222222222,
              "#7201a8"
             ],
             [
              0.3333333333333333,
              "#9c179e"
             ],
             [
              0.4444444444444444,
              "#bd3786"
             ],
             [
              0.5555555555555556,
              "#d8576b"
             ],
             [
              0.6666666666666666,
              "#ed7953"
             ],
             [
              0.7777777777777778,
              "#fb9f3a"
             ],
             [
              0.8888888888888888,
              "#fdca26"
             ],
             [
              1,
              "#f0f921"
             ]
            ],
            "type": "surface"
           }
          ],
          "table": [
           {
            "cells": {
             "fill": {
              "color": "#EBF0F8"
             },
             "line": {
              "color": "white"
             }
            },
            "header": {
             "fill": {
              "color": "#C8D4E3"
             },
             "line": {
              "color": "white"
             }
            },
            "type": "table"
           }
          ]
         },
         "layout": {
          "annotationdefaults": {
           "arrowcolor": "#2a3f5f",
           "arrowhead": 0,
           "arrowwidth": 1
          },
          "coloraxis": {
           "colorbar": {
            "outlinewidth": 0,
            "ticks": ""
           }
          },
          "colorscale": {
           "diverging": [
            [
             0,
             "#8e0152"
            ],
            [
             0.1,
             "#c51b7d"
            ],
            [
             0.2,
             "#de77ae"
            ],
            [
             0.3,
             "#f1b6da"
            ],
            [
             0.4,
             "#fde0ef"
            ],
            [
             0.5,
             "#f7f7f7"
            ],
            [
             0.6,
             "#e6f5d0"
            ],
            [
             0.7,
             "#b8e186"
            ],
            [
             0.8,
             "#7fbc41"
            ],
            [
             0.9,
             "#4d9221"
            ],
            [
             1,
             "#276419"
            ]
           ],
           "sequential": [
            [
             0,
             "#0d0887"
            ],
            [
             0.1111111111111111,
             "#46039f"
            ],
            [
             0.2222222222222222,
             "#7201a8"
            ],
            [
             0.3333333333333333,
             "#9c179e"
            ],
            [
             0.4444444444444444,
             "#bd3786"
            ],
            [
             0.5555555555555556,
             "#d8576b"
            ],
            [
             0.6666666666666666,
             "#ed7953"
            ],
            [
             0.7777777777777778,
             "#fb9f3a"
            ],
            [
             0.8888888888888888,
             "#fdca26"
            ],
            [
             1,
             "#f0f921"
            ]
           ],
           "sequentialminus": [
            [
             0,
             "#0d0887"
            ],
            [
             0.1111111111111111,
             "#46039f"
            ],
            [
             0.2222222222222222,
             "#7201a8"
            ],
            [
             0.3333333333333333,
             "#9c179e"
            ],
            [
             0.4444444444444444,
             "#bd3786"
            ],
            [
             0.5555555555555556,
             "#d8576b"
            ],
            [
             0.6666666666666666,
             "#ed7953"
            ],
            [
             0.7777777777777778,
             "#fb9f3a"
            ],
            [
             0.8888888888888888,
             "#fdca26"
            ],
            [
             1,
             "#f0f921"
            ]
           ]
          },
          "colorway": [
           "#636efa",
           "#EF553B",
           "#00cc96",
           "#ab63fa",
           "#FFA15A",
           "#19d3f3",
           "#FF6692",
           "#B6E880",
           "#FF97FF",
           "#FECB52"
          ],
          "font": {
           "color": "#2a3f5f"
          },
          "geo": {
           "bgcolor": "white",
           "lakecolor": "white",
           "landcolor": "#E5ECF6",
           "showlakes": true,
           "showland": true,
           "subunitcolor": "white"
          },
          "hoverlabel": {
           "align": "left"
          },
          "hovermode": "closest",
          "mapbox": {
           "style": "light"
          },
          "paper_bgcolor": "white",
          "plot_bgcolor": "#E5ECF6",
          "polar": {
           "angularaxis": {
            "gridcolor": "white",
            "linecolor": "white",
            "ticks": ""
           },
           "bgcolor": "#E5ECF6",
           "radialaxis": {
            "gridcolor": "white",
            "linecolor": "white",
            "ticks": ""
           }
          },
          "scene": {
           "xaxis": {
            "backgroundcolor": "#E5ECF6",
            "gridcolor": "white",
            "gridwidth": 2,
            "linecolor": "white",
            "showbackground": true,
            "ticks": "",
            "zerolinecolor": "white"
           },
           "yaxis": {
            "backgroundcolor": "#E5ECF6",
            "gridcolor": "white",
            "gridwidth": 2,
            "linecolor": "white",
            "showbackground": true,
            "ticks": "",
            "zerolinecolor": "white"
           },
           "zaxis": {
            "backgroundcolor": "#E5ECF6",
            "gridcolor": "white",
            "gridwidth": 2,
            "linecolor": "white",
            "showbackground": true,
            "ticks": "",
            "zerolinecolor": "white"
           }
          },
          "shapedefaults": {
           "line": {
            "color": "#2a3f5f"
           }
          },
          "ternary": {
           "aaxis": {
            "gridcolor": "white",
            "linecolor": "white",
            "ticks": ""
           },
           "baxis": {
            "gridcolor": "white",
            "linecolor": "white",
            "ticks": ""
           },
           "bgcolor": "#E5ECF6",
           "caxis": {
            "gridcolor": "white",
            "linecolor": "white",
            "ticks": ""
           }
          },
          "title": {
           "x": 0.05
          },
          "xaxis": {
           "automargin": true,
           "gridcolor": "white",
           "linecolor": "white",
           "ticks": "",
           "title": {
            "standoff": 15
           },
           "zerolinecolor": "white",
           "zerolinewidth": 2
          },
          "yaxis": {
           "automargin": true,
           "gridcolor": "white",
           "linecolor": "white",
           "ticks": "",
           "title": {
            "standoff": 15
           },
           "zerolinecolor": "white",
           "zerolinewidth": 2
          }
         }
        },
        "title": {
         "font": {
          "color": "#4D5663"
         }
        },
        "xaxis": {
         "gridcolor": "#E1E5ED",
         "showgrid": true,
         "tickfont": {
          "color": "#4D5663"
         },
         "title": {
          "font": {
           "color": "#4D5663"
          },
          "text": ""
         },
         "zerolinecolor": "#E1E5ED"
        },
        "yaxis": {
         "gridcolor": "#E1E5ED",
         "showgrid": true,
         "tickfont": {
          "color": "#4D5663"
         },
         "title": {
          "font": {
           "color": "#4D5663"
          },
          "text": ""
         },
         "zerolinecolor": "#E1E5ED"
        }
       }
      },
      "text/html": [
       "<div>\n",
       "        \n",
       "        \n",
       "            <div id=\"a0e11d47-51a6-46fe-9aff-cafbb80fec30\" class=\"plotly-graph-div\" style=\"height:525px; width:100%;\"></div>\n",
       "            <script type=\"text/javascript\">\n",
       "                require([\"plotly\"], function(Plotly) {\n",
       "                    window.PLOTLYENV=window.PLOTLYENV || {};\n",
       "                    window.PLOTLYENV.BASE_URL='https://plot.ly';\n",
       "                    \n",
       "                if (document.getElementById(\"a0e11d47-51a6-46fe-9aff-cafbb80fec30\")) {\n",
       "                    Plotly.newPlot(\n",
       "                        'a0e11d47-51a6-46fe-9aff-cafbb80fec30',\n",
       "                        [{\"marker\": {\"color\": \"rgba(255, 153, 51, 0.6)\", \"line\": {\"color\": \"rgba(255, 153, 51, 1.0)\", \"width\": 1}}, \"name\": \"None\", \"orientation\": \"v\", \"text\": \"\", \"type\": \"bar\", \"x\": [\"A\", \"B\", \"C\", \"D\"], \"y\": [100, 100, 100, 100]}],\n",
       "                        {\"legend\": {\"bgcolor\": \"#F5F6F9\", \"font\": {\"color\": \"#4D5663\"}}, \"paper_bgcolor\": \"#F5F6F9\", \"plot_bgcolor\": \"#F5F6F9\", \"template\": {\"data\": {\"bar\": [{\"error_x\": {\"color\": \"#2a3f5f\"}, \"error_y\": {\"color\": \"#2a3f5f\"}, \"marker\": {\"line\": {\"color\": \"#E5ECF6\", \"width\": 0.5}}, \"type\": \"bar\"}], \"barpolar\": [{\"marker\": {\"line\": {\"color\": \"#E5ECF6\", \"width\": 0.5}}, \"type\": \"barpolar\"}], \"carpet\": [{\"aaxis\": {\"endlinecolor\": \"#2a3f5f\", \"gridcolor\": \"white\", \"linecolor\": \"white\", \"minorgridcolor\": \"white\", \"startlinecolor\": \"#2a3f5f\"}, \"baxis\": {\"endlinecolor\": \"#2a3f5f\", \"gridcolor\": \"white\", \"linecolor\": \"white\", \"minorgridcolor\": \"white\", \"startlinecolor\": \"#2a3f5f\"}, \"type\": \"carpet\"}], \"choropleth\": [{\"colorbar\": {\"outlinewidth\": 0, \"ticks\": \"\"}, \"type\": \"choropleth\"}], \"contour\": [{\"colorbar\": {\"outlinewidth\": 0, \"ticks\": \"\"}, \"colorscale\": [[0.0, \"#0d0887\"], [0.1111111111111111, \"#46039f\"], [0.2222222222222222, \"#7201a8\"], [0.3333333333333333, \"#9c179e\"], [0.4444444444444444, \"#bd3786\"], [0.5555555555555556, \"#d8576b\"], [0.6666666666666666, \"#ed7953\"], [0.7777777777777778, \"#fb9f3a\"], [0.8888888888888888, \"#fdca26\"], [1.0, \"#f0f921\"]], \"type\": \"contour\"}], \"contourcarpet\": [{\"colorbar\": {\"outlinewidth\": 0, \"ticks\": \"\"}, \"type\": \"contourcarpet\"}], \"heatmap\": [{\"colorbar\": {\"outlinewidth\": 0, \"ticks\": \"\"}, \"colorscale\": [[0.0, \"#0d0887\"], [0.1111111111111111, \"#46039f\"], [0.2222222222222222, \"#7201a8\"], [0.3333333333333333, \"#9c179e\"], [0.4444444444444444, \"#bd3786\"], [0.5555555555555556, \"#d8576b\"], [0.6666666666666666, \"#ed7953\"], [0.7777777777777778, \"#fb9f3a\"], [0.8888888888888888, \"#fdca26\"], [1.0, \"#f0f921\"]], \"type\": \"heatmap\"}], \"heatmapgl\": [{\"colorbar\": {\"outlinewidth\": 0, \"ticks\": \"\"}, \"colorscale\": [[0.0, \"#0d0887\"], [0.1111111111111111, \"#46039f\"], [0.2222222222222222, \"#7201a8\"], [0.3333333333333333, \"#9c179e\"], [0.4444444444444444, \"#bd3786\"], [0.5555555555555556, \"#d8576b\"], [0.6666666666666666, \"#ed7953\"], [0.7777777777777778, \"#fb9f3a\"], [0.8888888888888888, \"#fdca26\"], [1.0, \"#f0f921\"]], \"type\": \"heatmapgl\"}], \"histogram\": [{\"marker\": {\"colorbar\": {\"outlinewidth\": 0, \"ticks\": \"\"}}, \"type\": \"histogram\"}], \"histogram2d\": [{\"colorbar\": {\"outlinewidth\": 0, \"ticks\": \"\"}, \"colorscale\": [[0.0, \"#0d0887\"], [0.1111111111111111, \"#46039f\"], [0.2222222222222222, \"#7201a8\"], [0.3333333333333333, \"#9c179e\"], [0.4444444444444444, \"#bd3786\"], [0.5555555555555556, \"#d8576b\"], [0.6666666666666666, \"#ed7953\"], [0.7777777777777778, \"#fb9f3a\"], [0.8888888888888888, \"#fdca26\"], [1.0, \"#f0f921\"]], \"type\": \"histogram2d\"}], \"histogram2dcontour\": [{\"colorbar\": {\"outlinewidth\": 0, \"ticks\": \"\"}, \"colorscale\": [[0.0, \"#0d0887\"], [0.1111111111111111, \"#46039f\"], [0.2222222222222222, \"#7201a8\"], [0.3333333333333333, \"#9c179e\"], [0.4444444444444444, \"#bd3786\"], [0.5555555555555556, \"#d8576b\"], [0.6666666666666666, \"#ed7953\"], [0.7777777777777778, \"#fb9f3a\"], [0.8888888888888888, \"#fdca26\"], [1.0, \"#f0f921\"]], \"type\": \"histogram2dcontour\"}], \"mesh3d\": [{\"colorbar\": {\"outlinewidth\": 0, \"ticks\": \"\"}, \"type\": \"mesh3d\"}], \"parcoords\": [{\"line\": {\"colorbar\": {\"outlinewidth\": 0, \"ticks\": \"\"}}, \"type\": \"parcoords\"}], \"pie\": [{\"automargin\": true, \"type\": \"pie\"}], \"scatter\": [{\"marker\": {\"colorbar\": {\"outlinewidth\": 0, \"ticks\": \"\"}}, \"type\": \"scatter\"}], \"scatter3d\": [{\"line\": {\"colorbar\": {\"outlinewidth\": 0, \"ticks\": \"\"}}, \"marker\": {\"colorbar\": {\"outlinewidth\": 0, \"ticks\": \"\"}}, \"type\": \"scatter3d\"}], \"scattercarpet\": [{\"marker\": {\"colorbar\": {\"outlinewidth\": 0, \"ticks\": \"\"}}, \"type\": \"scattercarpet\"}], \"scattergeo\": [{\"marker\": {\"colorbar\": {\"outlinewidth\": 0, \"ticks\": \"\"}}, \"type\": \"scattergeo\"}], \"scattergl\": [{\"marker\": {\"colorbar\": {\"outlinewidth\": 0, \"ticks\": \"\"}}, \"type\": \"scattergl\"}], \"scattermapbox\": [{\"marker\": {\"colorbar\": {\"outlinewidth\": 0, \"ticks\": \"\"}}, \"type\": \"scattermapbox\"}], \"scatterpolar\": [{\"marker\": {\"colorbar\": {\"outlinewidth\": 0, \"ticks\": \"\"}}, \"type\": \"scatterpolar\"}], \"scatterpolargl\": [{\"marker\": {\"colorbar\": {\"outlinewidth\": 0, \"ticks\": \"\"}}, \"type\": \"scatterpolargl\"}], \"scatterternary\": [{\"marker\": {\"colorbar\": {\"outlinewidth\": 0, \"ticks\": \"\"}}, \"type\": \"scatterternary\"}], \"surface\": [{\"colorbar\": {\"outlinewidth\": 0, \"ticks\": \"\"}, \"colorscale\": [[0.0, \"#0d0887\"], [0.1111111111111111, \"#46039f\"], [0.2222222222222222, \"#7201a8\"], [0.3333333333333333, \"#9c179e\"], [0.4444444444444444, \"#bd3786\"], [0.5555555555555556, \"#d8576b\"], [0.6666666666666666, \"#ed7953\"], [0.7777777777777778, \"#fb9f3a\"], [0.8888888888888888, \"#fdca26\"], [1.0, \"#f0f921\"]], \"type\": \"surface\"}], \"table\": [{\"cells\": {\"fill\": {\"color\": \"#EBF0F8\"}, \"line\": {\"color\": \"white\"}}, \"header\": {\"fill\": {\"color\": \"#C8D4E3\"}, \"line\": {\"color\": \"white\"}}, \"type\": \"table\"}]}, \"layout\": {\"annotationdefaults\": {\"arrowcolor\": \"#2a3f5f\", \"arrowhead\": 0, \"arrowwidth\": 1}, \"coloraxis\": {\"colorbar\": {\"outlinewidth\": 0, \"ticks\": \"\"}}, \"colorscale\": {\"diverging\": [[0, \"#8e0152\"], [0.1, \"#c51b7d\"], [0.2, \"#de77ae\"], [0.3, \"#f1b6da\"], [0.4, \"#fde0ef\"], [0.5, \"#f7f7f7\"], [0.6, \"#e6f5d0\"], [0.7, \"#b8e186\"], [0.8, \"#7fbc41\"], [0.9, \"#4d9221\"], [1, \"#276419\"]], \"sequential\": [[0.0, \"#0d0887\"], [0.1111111111111111, \"#46039f\"], [0.2222222222222222, \"#7201a8\"], [0.3333333333333333, \"#9c179e\"], [0.4444444444444444, \"#bd3786\"], [0.5555555555555556, \"#d8576b\"], [0.6666666666666666, \"#ed7953\"], [0.7777777777777778, \"#fb9f3a\"], [0.8888888888888888, \"#fdca26\"], [1.0, \"#f0f921\"]], \"sequentialminus\": [[0.0, \"#0d0887\"], [0.1111111111111111, \"#46039f\"], [0.2222222222222222, \"#7201a8\"], [0.3333333333333333, \"#9c179e\"], [0.4444444444444444, \"#bd3786\"], [0.5555555555555556, \"#d8576b\"], [0.6666666666666666, \"#ed7953\"], [0.7777777777777778, \"#fb9f3a\"], [0.8888888888888888, \"#fdca26\"], [1.0, \"#f0f921\"]]}, \"colorway\": [\"#636efa\", \"#EF553B\", \"#00cc96\", \"#ab63fa\", \"#FFA15A\", \"#19d3f3\", \"#FF6692\", \"#B6E880\", \"#FF97FF\", \"#FECB52\"], \"font\": {\"color\": \"#2a3f5f\"}, \"geo\": {\"bgcolor\": \"white\", \"lakecolor\": \"white\", \"landcolor\": \"#E5ECF6\", \"showlakes\": true, \"showland\": true, \"subunitcolor\": \"white\"}, \"hoverlabel\": {\"align\": \"left\"}, \"hovermode\": \"closest\", \"mapbox\": {\"style\": \"light\"}, \"paper_bgcolor\": \"white\", \"plot_bgcolor\": \"#E5ECF6\", \"polar\": {\"angularaxis\": {\"gridcolor\": \"white\", \"linecolor\": \"white\", \"ticks\": \"\"}, \"bgcolor\": \"#E5ECF6\", \"radialaxis\": {\"gridcolor\": \"white\", \"linecolor\": \"white\", \"ticks\": \"\"}}, \"scene\": {\"xaxis\": {\"backgroundcolor\": \"#E5ECF6\", \"gridcolor\": \"white\", \"gridwidth\": 2, \"linecolor\": \"white\", \"showbackground\": true, \"ticks\": \"\", \"zerolinecolor\": \"white\"}, \"yaxis\": {\"backgroundcolor\": \"#E5ECF6\", \"gridcolor\": \"white\", \"gridwidth\": 2, \"linecolor\": \"white\", \"showbackground\": true, \"ticks\": \"\", \"zerolinecolor\": \"white\"}, \"zaxis\": {\"backgroundcolor\": \"#E5ECF6\", \"gridcolor\": \"white\", \"gridwidth\": 2, \"linecolor\": \"white\", \"showbackground\": true, \"ticks\": \"\", \"zerolinecolor\": \"white\"}}, \"shapedefaults\": {\"line\": {\"color\": \"#2a3f5f\"}}, \"ternary\": {\"aaxis\": {\"gridcolor\": \"white\", \"linecolor\": \"white\", \"ticks\": \"\"}, \"baxis\": {\"gridcolor\": \"white\", \"linecolor\": \"white\", \"ticks\": \"\"}, \"bgcolor\": \"#E5ECF6\", \"caxis\": {\"gridcolor\": \"white\", \"linecolor\": \"white\", \"ticks\": \"\"}}, \"title\": {\"x\": 0.05}, \"xaxis\": {\"automargin\": true, \"gridcolor\": \"white\", \"linecolor\": \"white\", \"ticks\": \"\", \"title\": {\"standoff\": 15}, \"zerolinecolor\": \"white\", \"zerolinewidth\": 2}, \"yaxis\": {\"automargin\": true, \"gridcolor\": \"white\", \"linecolor\": \"white\", \"ticks\": \"\", \"title\": {\"standoff\": 15}, \"zerolinecolor\": \"white\", \"zerolinewidth\": 2}}}, \"title\": {\"font\": {\"color\": \"#4D5663\"}}, \"xaxis\": {\"gridcolor\": \"#E1E5ED\", \"showgrid\": true, \"tickfont\": {\"color\": \"#4D5663\"}, \"title\": {\"font\": {\"color\": \"#4D5663\"}, \"text\": \"\"}, \"zerolinecolor\": \"#E1E5ED\"}, \"yaxis\": {\"gridcolor\": \"#E1E5ED\", \"showgrid\": true, \"tickfont\": {\"color\": \"#4D5663\"}, \"title\": {\"font\": {\"color\": \"#4D5663\"}, \"text\": \"\"}, \"zerolinecolor\": \"#E1E5ED\"}},\n",
       "                        {\"showLink\": true, \"linkText\": \"Export to plot.ly\", \"plotlyServerURL\": \"https://plot.ly\", \"responsive\": true}\n",
       "                    ).then(function(){\n",
       "                            \n",
       "var gd = document.getElementById('a0e11d47-51a6-46fe-9aff-cafbb80fec30');\n",
       "var x = new MutationObserver(function (mutations, observer) {{\n",
       "        var display = window.getComputedStyle(gd).display;\n",
       "        if (!display || display === 'none') {{\n",
       "            console.log([gd, 'removed!']);\n",
       "            Plotly.purge(gd);\n",
       "            observer.disconnect();\n",
       "        }}\n",
       "}});\n",
       "\n",
       "// Listen for the removal of the full notebook cells\n",
       "var notebookContainer = gd.closest('#notebook-container');\n",
       "if (notebookContainer) {{\n",
       "    x.observe(notebookContainer, {childList: true});\n",
       "}}\n",
       "\n",
       "// Listen for the clearing of the current output cell\n",
       "var outputEl = gd.closest('.output');\n",
       "if (outputEl) {{\n",
       "    x.observe(outputEl, {childList: true});\n",
       "}}\n",
       "\n",
       "                        })\n",
       "                };\n",
       "                });\n",
       "            </script>\n",
       "        </div>"
      ]
     },
     "metadata": {},
     "output_type": "display_data"
    }
   ],
   "source": [
    "#bar plots using iplot becomes a more powerful tool when we call some sort of aggregate function or a groupby off of our df\n",
    "df.count().iplot(kind='bar')"
   ]
  },
  {
   "cell_type": "code",
   "execution_count": 27,
   "metadata": {},
   "outputs": [
    {
     "data": {
      "application/vnd.plotly.v1+json": {
       "config": {
        "linkText": "Export to plot.ly",
        "plotlyServerURL": "https://plot.ly",
        "showLink": true
       },
       "data": [
        {
         "marker": {
          "color": "rgba(255, 153, 51, 0.6)",
          "line": {
           "color": "rgba(255, 153, 51, 1.0)",
           "width": 1
          }
         },
         "name": "None",
         "orientation": "v",
         "text": "",
         "type": "bar",
         "x": [
          "A",
          "B",
          "C",
          "D"
         ],
         "y": [
          -4.593763589867679,
          -2.164736927498754,
          2.861997612920605,
          -2.077920060640847
         ]
        }
       ],
       "layout": {
        "legend": {
         "bgcolor": "#F5F6F9",
         "font": {
          "color": "#4D5663"
         }
        },
        "paper_bgcolor": "#F5F6F9",
        "plot_bgcolor": "#F5F6F9",
        "template": {
         "data": {
          "bar": [
           {
            "error_x": {
             "color": "#2a3f5f"
            },
            "error_y": {
             "color": "#2a3f5f"
            },
            "marker": {
             "line": {
              "color": "#E5ECF6",
              "width": 0.5
             }
            },
            "type": "bar"
           }
          ],
          "barpolar": [
           {
            "marker": {
             "line": {
              "color": "#E5ECF6",
              "width": 0.5
             }
            },
            "type": "barpolar"
           }
          ],
          "carpet": [
           {
            "aaxis": {
             "endlinecolor": "#2a3f5f",
             "gridcolor": "white",
             "linecolor": "white",
             "minorgridcolor": "white",
             "startlinecolor": "#2a3f5f"
            },
            "baxis": {
             "endlinecolor": "#2a3f5f",
             "gridcolor": "white",
             "linecolor": "white",
             "minorgridcolor": "white",
             "startlinecolor": "#2a3f5f"
            },
            "type": "carpet"
           }
          ],
          "choropleth": [
           {
            "colorbar": {
             "outlinewidth": 0,
             "ticks": ""
            },
            "type": "choropleth"
           }
          ],
          "contour": [
           {
            "colorbar": {
             "outlinewidth": 0,
             "ticks": ""
            },
            "colorscale": [
             [
              0,
              "#0d0887"
             ],
             [
              0.1111111111111111,
              "#46039f"
             ],
             [
              0.2222222222222222,
              "#7201a8"
             ],
             [
              0.3333333333333333,
              "#9c179e"
             ],
             [
              0.4444444444444444,
              "#bd3786"
             ],
             [
              0.5555555555555556,
              "#d8576b"
             ],
             [
              0.6666666666666666,
              "#ed7953"
             ],
             [
              0.7777777777777778,
              "#fb9f3a"
             ],
             [
              0.8888888888888888,
              "#fdca26"
             ],
             [
              1,
              "#f0f921"
             ]
            ],
            "type": "contour"
           }
          ],
          "contourcarpet": [
           {
            "colorbar": {
             "outlinewidth": 0,
             "ticks": ""
            },
            "type": "contourcarpet"
           }
          ],
          "heatmap": [
           {
            "colorbar": {
             "outlinewidth": 0,
             "ticks": ""
            },
            "colorscale": [
             [
              0,
              "#0d0887"
             ],
             [
              0.1111111111111111,
              "#46039f"
             ],
             [
              0.2222222222222222,
              "#7201a8"
             ],
             [
              0.3333333333333333,
              "#9c179e"
             ],
             [
              0.4444444444444444,
              "#bd3786"
             ],
             [
              0.5555555555555556,
              "#d8576b"
             ],
             [
              0.6666666666666666,
              "#ed7953"
             ],
             [
              0.7777777777777778,
              "#fb9f3a"
             ],
             [
              0.8888888888888888,
              "#fdca26"
             ],
             [
              1,
              "#f0f921"
             ]
            ],
            "type": "heatmap"
           }
          ],
          "heatmapgl": [
           {
            "colorbar": {
             "outlinewidth": 0,
             "ticks": ""
            },
            "colorscale": [
             [
              0,
              "#0d0887"
             ],
             [
              0.1111111111111111,
              "#46039f"
             ],
             [
              0.2222222222222222,
              "#7201a8"
             ],
             [
              0.3333333333333333,
              "#9c179e"
             ],
             [
              0.4444444444444444,
              "#bd3786"
             ],
             [
              0.5555555555555556,
              "#d8576b"
             ],
             [
              0.6666666666666666,
              "#ed7953"
             ],
             [
              0.7777777777777778,
              "#fb9f3a"
             ],
             [
              0.8888888888888888,
              "#fdca26"
             ],
             [
              1,
              "#f0f921"
             ]
            ],
            "type": "heatmapgl"
           }
          ],
          "histogram": [
           {
            "marker": {
             "colorbar": {
              "outlinewidth": 0,
              "ticks": ""
             }
            },
            "type": "histogram"
           }
          ],
          "histogram2d": [
           {
            "colorbar": {
             "outlinewidth": 0,
             "ticks": ""
            },
            "colorscale": [
             [
              0,
              "#0d0887"
             ],
             [
              0.1111111111111111,
              "#46039f"
             ],
             [
              0.2222222222222222,
              "#7201a8"
             ],
             [
              0.3333333333333333,
              "#9c179e"
             ],
             [
              0.4444444444444444,
              "#bd3786"
             ],
             [
              0.5555555555555556,
              "#d8576b"
             ],
             [
              0.6666666666666666,
              "#ed7953"
             ],
             [
              0.7777777777777778,
              "#fb9f3a"
             ],
             [
              0.8888888888888888,
              "#fdca26"
             ],
             [
              1,
              "#f0f921"
             ]
            ],
            "type": "histogram2d"
           }
          ],
          "histogram2dcontour": [
           {
            "colorbar": {
             "outlinewidth": 0,
             "ticks": ""
            },
            "colorscale": [
             [
              0,
              "#0d0887"
             ],
             [
              0.1111111111111111,
              "#46039f"
             ],
             [
              0.2222222222222222,
              "#7201a8"
             ],
             [
              0.3333333333333333,
              "#9c179e"
             ],
             [
              0.4444444444444444,
              "#bd3786"
             ],
             [
              0.5555555555555556,
              "#d8576b"
             ],
             [
              0.6666666666666666,
              "#ed7953"
             ],
             [
              0.7777777777777778,
              "#fb9f3a"
             ],
             [
              0.8888888888888888,
              "#fdca26"
             ],
             [
              1,
              "#f0f921"
             ]
            ],
            "type": "histogram2dcontour"
           }
          ],
          "mesh3d": [
           {
            "colorbar": {
             "outlinewidth": 0,
             "ticks": ""
            },
            "type": "mesh3d"
           }
          ],
          "parcoords": [
           {
            "line": {
             "colorbar": {
              "outlinewidth": 0,
              "ticks": ""
             }
            },
            "type": "parcoords"
           }
          ],
          "pie": [
           {
            "automargin": true,
            "type": "pie"
           }
          ],
          "scatter": [
           {
            "marker": {
             "colorbar": {
              "outlinewidth": 0,
              "ticks": ""
             }
            },
            "type": "scatter"
           }
          ],
          "scatter3d": [
           {
            "line": {
             "colorbar": {
              "outlinewidth": 0,
              "ticks": ""
             }
            },
            "marker": {
             "colorbar": {
              "outlinewidth": 0,
              "ticks": ""
             }
            },
            "type": "scatter3d"
           }
          ],
          "scattercarpet": [
           {
            "marker": {
             "colorbar": {
              "outlinewidth": 0,
              "ticks": ""
             }
            },
            "type": "scattercarpet"
           }
          ],
          "scattergeo": [
           {
            "marker": {
             "colorbar": {
              "outlinewidth": 0,
              "ticks": ""
             }
            },
            "type": "scattergeo"
           }
          ],
          "scattergl": [
           {
            "marker": {
             "colorbar": {
              "outlinewidth": 0,
              "ticks": ""
             }
            },
            "type": "scattergl"
           }
          ],
          "scattermapbox": [
           {
            "marker": {
             "colorbar": {
              "outlinewidth": 0,
              "ticks": ""
             }
            },
            "type": "scattermapbox"
           }
          ],
          "scatterpolar": [
           {
            "marker": {
             "colorbar": {
              "outlinewidth": 0,
              "ticks": ""
             }
            },
            "type": "scatterpolar"
           }
          ],
          "scatterpolargl": [
           {
            "marker": {
             "colorbar": {
              "outlinewidth": 0,
              "ticks": ""
             }
            },
            "type": "scatterpolargl"
           }
          ],
          "scatterternary": [
           {
            "marker": {
             "colorbar": {
              "outlinewidth": 0,
              "ticks": ""
             }
            },
            "type": "scatterternary"
           }
          ],
          "surface": [
           {
            "colorbar": {
             "outlinewidth": 0,
             "ticks": ""
            },
            "colorscale": [
             [
              0,
              "#0d0887"
             ],
             [
              0.1111111111111111,
              "#46039f"
             ],
             [
              0.2222222222222222,
              "#7201a8"
             ],
             [
              0.3333333333333333,
              "#9c179e"
             ],
             [
              0.4444444444444444,
              "#bd3786"
             ],
             [
              0.5555555555555556,
              "#d8576b"
             ],
             [
              0.6666666666666666,
              "#ed7953"
             ],
             [
              0.7777777777777778,
              "#fb9f3a"
             ],
             [
              0.8888888888888888,
              "#fdca26"
             ],
             [
              1,
              "#f0f921"
             ]
            ],
            "type": "surface"
           }
          ],
          "table": [
           {
            "cells": {
             "fill": {
              "color": "#EBF0F8"
             },
             "line": {
              "color": "white"
             }
            },
            "header": {
             "fill": {
              "color": "#C8D4E3"
             },
             "line": {
              "color": "white"
             }
            },
            "type": "table"
           }
          ]
         },
         "layout": {
          "annotationdefaults": {
           "arrowcolor": "#2a3f5f",
           "arrowhead": 0,
           "arrowwidth": 1
          },
          "coloraxis": {
           "colorbar": {
            "outlinewidth": 0,
            "ticks": ""
           }
          },
          "colorscale": {
           "diverging": [
            [
             0,
             "#8e0152"
            ],
            [
             0.1,
             "#c51b7d"
            ],
            [
             0.2,
             "#de77ae"
            ],
            [
             0.3,
             "#f1b6da"
            ],
            [
             0.4,
             "#fde0ef"
            ],
            [
             0.5,
             "#f7f7f7"
            ],
            [
             0.6,
             "#e6f5d0"
            ],
            [
             0.7,
             "#b8e186"
            ],
            [
             0.8,
             "#7fbc41"
            ],
            [
             0.9,
             "#4d9221"
            ],
            [
             1,
             "#276419"
            ]
           ],
           "sequential": [
            [
             0,
             "#0d0887"
            ],
            [
             0.1111111111111111,
             "#46039f"
            ],
            [
             0.2222222222222222,
             "#7201a8"
            ],
            [
             0.3333333333333333,
             "#9c179e"
            ],
            [
             0.4444444444444444,
             "#bd3786"
            ],
            [
             0.5555555555555556,
             "#d8576b"
            ],
            [
             0.6666666666666666,
             "#ed7953"
            ],
            [
             0.7777777777777778,
             "#fb9f3a"
            ],
            [
             0.8888888888888888,
             "#fdca26"
            ],
            [
             1,
             "#f0f921"
            ]
           ],
           "sequentialminus": [
            [
             0,
             "#0d0887"
            ],
            [
             0.1111111111111111,
             "#46039f"
            ],
            [
             0.2222222222222222,
             "#7201a8"
            ],
            [
             0.3333333333333333,
             "#9c179e"
            ],
            [
             0.4444444444444444,
             "#bd3786"
            ],
            [
             0.5555555555555556,
             "#d8576b"
            ],
            [
             0.6666666666666666,
             "#ed7953"
            ],
            [
             0.7777777777777778,
             "#fb9f3a"
            ],
            [
             0.8888888888888888,
             "#fdca26"
            ],
            [
             1,
             "#f0f921"
            ]
           ]
          },
          "colorway": [
           "#636efa",
           "#EF553B",
           "#00cc96",
           "#ab63fa",
           "#FFA15A",
           "#19d3f3",
           "#FF6692",
           "#B6E880",
           "#FF97FF",
           "#FECB52"
          ],
          "font": {
           "color": "#2a3f5f"
          },
          "geo": {
           "bgcolor": "white",
           "lakecolor": "white",
           "landcolor": "#E5ECF6",
           "showlakes": true,
           "showland": true,
           "subunitcolor": "white"
          },
          "hoverlabel": {
           "align": "left"
          },
          "hovermode": "closest",
          "mapbox": {
           "style": "light"
          },
          "paper_bgcolor": "white",
          "plot_bgcolor": "#E5ECF6",
          "polar": {
           "angularaxis": {
            "gridcolor": "white",
            "linecolor": "white",
            "ticks": ""
           },
           "bgcolor": "#E5ECF6",
           "radialaxis": {
            "gridcolor": "white",
            "linecolor": "white",
            "ticks": ""
           }
          },
          "scene": {
           "xaxis": {
            "backgroundcolor": "#E5ECF6",
            "gridcolor": "white",
            "gridwidth": 2,
            "linecolor": "white",
            "showbackground": true,
            "ticks": "",
            "zerolinecolor": "white"
           },
           "yaxis": {
            "backgroundcolor": "#E5ECF6",
            "gridcolor": "white",
            "gridwidth": 2,
            "linecolor": "white",
            "showbackground": true,
            "ticks": "",
            "zerolinecolor": "white"
           },
           "zaxis": {
            "backgroundcolor": "#E5ECF6",
            "gridcolor": "white",
            "gridwidth": 2,
            "linecolor": "white",
            "showbackground": true,
            "ticks": "",
            "zerolinecolor": "white"
           }
          },
          "shapedefaults": {
           "line": {
            "color": "#2a3f5f"
           }
          },
          "ternary": {
           "aaxis": {
            "gridcolor": "white",
            "linecolor": "white",
            "ticks": ""
           },
           "baxis": {
            "gridcolor": "white",
            "linecolor": "white",
            "ticks": ""
           },
           "bgcolor": "#E5ECF6",
           "caxis": {
            "gridcolor": "white",
            "linecolor": "white",
            "ticks": ""
           }
          },
          "title": {
           "x": 0.05
          },
          "xaxis": {
           "automargin": true,
           "gridcolor": "white",
           "linecolor": "white",
           "ticks": "",
           "title": {
            "standoff": 15
           },
           "zerolinecolor": "white",
           "zerolinewidth": 2
          },
          "yaxis": {
           "automargin": true,
           "gridcolor": "white",
           "linecolor": "white",
           "ticks": "",
           "title": {
            "standoff": 15
           },
           "zerolinecolor": "white",
           "zerolinewidth": 2
          }
         }
        },
        "title": {
         "font": {
          "color": "#4D5663"
         }
        },
        "xaxis": {
         "gridcolor": "#E1E5ED",
         "showgrid": true,
         "tickfont": {
          "color": "#4D5663"
         },
         "title": {
          "font": {
           "color": "#4D5663"
          },
          "text": ""
         },
         "zerolinecolor": "#E1E5ED"
        },
        "yaxis": {
         "gridcolor": "#E1E5ED",
         "showgrid": true,
         "tickfont": {
          "color": "#4D5663"
         },
         "title": {
          "font": {
           "color": "#4D5663"
          },
          "text": ""
         },
         "zerolinecolor": "#E1E5ED"
        }
       }
      },
      "text/html": [
       "<div>\n",
       "        \n",
       "        \n",
       "            <div id=\"664188ae-3b78-42ee-b143-31c70289d5f9\" class=\"plotly-graph-div\" style=\"height:525px; width:100%;\"></div>\n",
       "            <script type=\"text/javascript\">\n",
       "                require([\"plotly\"], function(Plotly) {\n",
       "                    window.PLOTLYENV=window.PLOTLYENV || {};\n",
       "                    window.PLOTLYENV.BASE_URL='https://plot.ly';\n",
       "                    \n",
       "                if (document.getElementById(\"664188ae-3b78-42ee-b143-31c70289d5f9\")) {\n",
       "                    Plotly.newPlot(\n",
       "                        '664188ae-3b78-42ee-b143-31c70289d5f9',\n",
       "                        [{\"marker\": {\"color\": \"rgba(255, 153, 51, 0.6)\", \"line\": {\"color\": \"rgba(255, 153, 51, 1.0)\", \"width\": 1}}, \"name\": \"None\", \"orientation\": \"v\", \"text\": \"\", \"type\": \"bar\", \"x\": [\"A\", \"B\", \"C\", \"D\"], \"y\": [-4.593763589867679, -2.164736927498754, 2.861997612920605, -2.077920060640847]}],\n",
       "                        {\"legend\": {\"bgcolor\": \"#F5F6F9\", \"font\": {\"color\": \"#4D5663\"}}, \"paper_bgcolor\": \"#F5F6F9\", \"plot_bgcolor\": \"#F5F6F9\", \"template\": {\"data\": {\"bar\": [{\"error_x\": {\"color\": \"#2a3f5f\"}, \"error_y\": {\"color\": \"#2a3f5f\"}, \"marker\": {\"line\": {\"color\": \"#E5ECF6\", \"width\": 0.5}}, \"type\": \"bar\"}], \"barpolar\": [{\"marker\": {\"line\": {\"color\": \"#E5ECF6\", \"width\": 0.5}}, \"type\": \"barpolar\"}], \"carpet\": [{\"aaxis\": {\"endlinecolor\": \"#2a3f5f\", \"gridcolor\": \"white\", \"linecolor\": \"white\", \"minorgridcolor\": \"white\", \"startlinecolor\": \"#2a3f5f\"}, \"baxis\": {\"endlinecolor\": \"#2a3f5f\", \"gridcolor\": \"white\", \"linecolor\": \"white\", \"minorgridcolor\": \"white\", \"startlinecolor\": \"#2a3f5f\"}, \"type\": \"carpet\"}], \"choropleth\": [{\"colorbar\": {\"outlinewidth\": 0, \"ticks\": \"\"}, \"type\": \"choropleth\"}], \"contour\": [{\"colorbar\": {\"outlinewidth\": 0, \"ticks\": \"\"}, \"colorscale\": [[0.0, \"#0d0887\"], [0.1111111111111111, \"#46039f\"], [0.2222222222222222, \"#7201a8\"], [0.3333333333333333, \"#9c179e\"], [0.4444444444444444, \"#bd3786\"], [0.5555555555555556, \"#d8576b\"], [0.6666666666666666, \"#ed7953\"], [0.7777777777777778, \"#fb9f3a\"], [0.8888888888888888, \"#fdca26\"], [1.0, \"#f0f921\"]], \"type\": \"contour\"}], \"contourcarpet\": [{\"colorbar\": {\"outlinewidth\": 0, \"ticks\": \"\"}, \"type\": \"contourcarpet\"}], \"heatmap\": [{\"colorbar\": {\"outlinewidth\": 0, \"ticks\": \"\"}, \"colorscale\": [[0.0, \"#0d0887\"], [0.1111111111111111, \"#46039f\"], [0.2222222222222222, \"#7201a8\"], [0.3333333333333333, \"#9c179e\"], [0.4444444444444444, \"#bd3786\"], [0.5555555555555556, \"#d8576b\"], [0.6666666666666666, \"#ed7953\"], [0.7777777777777778, \"#fb9f3a\"], [0.8888888888888888, \"#fdca26\"], [1.0, \"#f0f921\"]], \"type\": \"heatmap\"}], \"heatmapgl\": [{\"colorbar\": {\"outlinewidth\": 0, \"ticks\": \"\"}, \"colorscale\": [[0.0, \"#0d0887\"], [0.1111111111111111, \"#46039f\"], [0.2222222222222222, \"#7201a8\"], [0.3333333333333333, \"#9c179e\"], [0.4444444444444444, \"#bd3786\"], [0.5555555555555556, \"#d8576b\"], [0.6666666666666666, \"#ed7953\"], [0.7777777777777778, \"#fb9f3a\"], [0.8888888888888888, \"#fdca26\"], [1.0, \"#f0f921\"]], \"type\": \"heatmapgl\"}], \"histogram\": [{\"marker\": {\"colorbar\": {\"outlinewidth\": 0, \"ticks\": \"\"}}, \"type\": \"histogram\"}], \"histogram2d\": [{\"colorbar\": {\"outlinewidth\": 0, \"ticks\": \"\"}, \"colorscale\": [[0.0, \"#0d0887\"], [0.1111111111111111, \"#46039f\"], [0.2222222222222222, \"#7201a8\"], [0.3333333333333333, \"#9c179e\"], [0.4444444444444444, \"#bd3786\"], [0.5555555555555556, \"#d8576b\"], [0.6666666666666666, \"#ed7953\"], [0.7777777777777778, \"#fb9f3a\"], [0.8888888888888888, \"#fdca26\"], [1.0, \"#f0f921\"]], \"type\": \"histogram2d\"}], \"histogram2dcontour\": [{\"colorbar\": {\"outlinewidth\": 0, \"ticks\": \"\"}, \"colorscale\": [[0.0, \"#0d0887\"], [0.1111111111111111, \"#46039f\"], [0.2222222222222222, \"#7201a8\"], [0.3333333333333333, \"#9c179e\"], [0.4444444444444444, \"#bd3786\"], [0.5555555555555556, \"#d8576b\"], [0.6666666666666666, \"#ed7953\"], [0.7777777777777778, \"#fb9f3a\"], [0.8888888888888888, \"#fdca26\"], [1.0, \"#f0f921\"]], \"type\": \"histogram2dcontour\"}], \"mesh3d\": [{\"colorbar\": {\"outlinewidth\": 0, \"ticks\": \"\"}, \"type\": \"mesh3d\"}], \"parcoords\": [{\"line\": {\"colorbar\": {\"outlinewidth\": 0, \"ticks\": \"\"}}, \"type\": \"parcoords\"}], \"pie\": [{\"automargin\": true, \"type\": \"pie\"}], \"scatter\": [{\"marker\": {\"colorbar\": {\"outlinewidth\": 0, \"ticks\": \"\"}}, \"type\": \"scatter\"}], \"scatter3d\": [{\"line\": {\"colorbar\": {\"outlinewidth\": 0, \"ticks\": \"\"}}, \"marker\": {\"colorbar\": {\"outlinewidth\": 0, \"ticks\": \"\"}}, \"type\": \"scatter3d\"}], \"scattercarpet\": [{\"marker\": {\"colorbar\": {\"outlinewidth\": 0, \"ticks\": \"\"}}, \"type\": \"scattercarpet\"}], \"scattergeo\": [{\"marker\": {\"colorbar\": {\"outlinewidth\": 0, \"ticks\": \"\"}}, \"type\": \"scattergeo\"}], \"scattergl\": [{\"marker\": {\"colorbar\": {\"outlinewidth\": 0, \"ticks\": \"\"}}, \"type\": \"scattergl\"}], \"scattermapbox\": [{\"marker\": {\"colorbar\": {\"outlinewidth\": 0, \"ticks\": \"\"}}, \"type\": \"scattermapbox\"}], \"scatterpolar\": [{\"marker\": {\"colorbar\": {\"outlinewidth\": 0, \"ticks\": \"\"}}, \"type\": \"scatterpolar\"}], \"scatterpolargl\": [{\"marker\": {\"colorbar\": {\"outlinewidth\": 0, \"ticks\": \"\"}}, \"type\": \"scatterpolargl\"}], \"scatterternary\": [{\"marker\": {\"colorbar\": {\"outlinewidth\": 0, \"ticks\": \"\"}}, \"type\": \"scatterternary\"}], \"surface\": [{\"colorbar\": {\"outlinewidth\": 0, \"ticks\": \"\"}, \"colorscale\": [[0.0, \"#0d0887\"], [0.1111111111111111, \"#46039f\"], [0.2222222222222222, \"#7201a8\"], [0.3333333333333333, \"#9c179e\"], [0.4444444444444444, \"#bd3786\"], [0.5555555555555556, \"#d8576b\"], [0.6666666666666666, \"#ed7953\"], [0.7777777777777778, \"#fb9f3a\"], [0.8888888888888888, \"#fdca26\"], [1.0, \"#f0f921\"]], \"type\": \"surface\"}], \"table\": [{\"cells\": {\"fill\": {\"color\": \"#EBF0F8\"}, \"line\": {\"color\": \"white\"}}, \"header\": {\"fill\": {\"color\": \"#C8D4E3\"}, \"line\": {\"color\": \"white\"}}, \"type\": \"table\"}]}, \"layout\": {\"annotationdefaults\": {\"arrowcolor\": \"#2a3f5f\", \"arrowhead\": 0, \"arrowwidth\": 1}, \"coloraxis\": {\"colorbar\": {\"outlinewidth\": 0, \"ticks\": \"\"}}, \"colorscale\": {\"diverging\": [[0, \"#8e0152\"], [0.1, \"#c51b7d\"], [0.2, \"#de77ae\"], [0.3, \"#f1b6da\"], [0.4, \"#fde0ef\"], [0.5, \"#f7f7f7\"], [0.6, \"#e6f5d0\"], [0.7, \"#b8e186\"], [0.8, \"#7fbc41\"], [0.9, \"#4d9221\"], [1, \"#276419\"]], \"sequential\": [[0.0, \"#0d0887\"], [0.1111111111111111, \"#46039f\"], [0.2222222222222222, \"#7201a8\"], [0.3333333333333333, \"#9c179e\"], [0.4444444444444444, \"#bd3786\"], [0.5555555555555556, \"#d8576b\"], [0.6666666666666666, \"#ed7953\"], [0.7777777777777778, \"#fb9f3a\"], [0.8888888888888888, \"#fdca26\"], [1.0, \"#f0f921\"]], \"sequentialminus\": [[0.0, \"#0d0887\"], [0.1111111111111111, \"#46039f\"], [0.2222222222222222, \"#7201a8\"], [0.3333333333333333, \"#9c179e\"], [0.4444444444444444, \"#bd3786\"], [0.5555555555555556, \"#d8576b\"], [0.6666666666666666, \"#ed7953\"], [0.7777777777777778, \"#fb9f3a\"], [0.8888888888888888, \"#fdca26\"], [1.0, \"#f0f921\"]]}, \"colorway\": [\"#636efa\", \"#EF553B\", \"#00cc96\", \"#ab63fa\", \"#FFA15A\", \"#19d3f3\", \"#FF6692\", \"#B6E880\", \"#FF97FF\", \"#FECB52\"], \"font\": {\"color\": \"#2a3f5f\"}, \"geo\": {\"bgcolor\": \"white\", \"lakecolor\": \"white\", \"landcolor\": \"#E5ECF6\", \"showlakes\": true, \"showland\": true, \"subunitcolor\": \"white\"}, \"hoverlabel\": {\"align\": \"left\"}, \"hovermode\": \"closest\", \"mapbox\": {\"style\": \"light\"}, \"paper_bgcolor\": \"white\", \"plot_bgcolor\": \"#E5ECF6\", \"polar\": {\"angularaxis\": {\"gridcolor\": \"white\", \"linecolor\": \"white\", \"ticks\": \"\"}, \"bgcolor\": \"#E5ECF6\", \"radialaxis\": {\"gridcolor\": \"white\", \"linecolor\": \"white\", \"ticks\": \"\"}}, \"scene\": {\"xaxis\": {\"backgroundcolor\": \"#E5ECF6\", \"gridcolor\": \"white\", \"gridwidth\": 2, \"linecolor\": \"white\", \"showbackground\": true, \"ticks\": \"\", \"zerolinecolor\": \"white\"}, \"yaxis\": {\"backgroundcolor\": \"#E5ECF6\", \"gridcolor\": \"white\", \"gridwidth\": 2, \"linecolor\": \"white\", \"showbackground\": true, \"ticks\": \"\", \"zerolinecolor\": \"white\"}, \"zaxis\": {\"backgroundcolor\": \"#E5ECF6\", \"gridcolor\": \"white\", \"gridwidth\": 2, \"linecolor\": \"white\", \"showbackground\": true, \"ticks\": \"\", \"zerolinecolor\": \"white\"}}, \"shapedefaults\": {\"line\": {\"color\": \"#2a3f5f\"}}, \"ternary\": {\"aaxis\": {\"gridcolor\": \"white\", \"linecolor\": \"white\", \"ticks\": \"\"}, \"baxis\": {\"gridcolor\": \"white\", \"linecolor\": \"white\", \"ticks\": \"\"}, \"bgcolor\": \"#E5ECF6\", \"caxis\": {\"gridcolor\": \"white\", \"linecolor\": \"white\", \"ticks\": \"\"}}, \"title\": {\"x\": 0.05}, \"xaxis\": {\"automargin\": true, \"gridcolor\": \"white\", \"linecolor\": \"white\", \"ticks\": \"\", \"title\": {\"standoff\": 15}, \"zerolinecolor\": \"white\", \"zerolinewidth\": 2}, \"yaxis\": {\"automargin\": true, \"gridcolor\": \"white\", \"linecolor\": \"white\", \"ticks\": \"\", \"title\": {\"standoff\": 15}, \"zerolinecolor\": \"white\", \"zerolinewidth\": 2}}}, \"title\": {\"font\": {\"color\": \"#4D5663\"}}, \"xaxis\": {\"gridcolor\": \"#E1E5ED\", \"showgrid\": true, \"tickfont\": {\"color\": \"#4D5663\"}, \"title\": {\"font\": {\"color\": \"#4D5663\"}, \"text\": \"\"}, \"zerolinecolor\": \"#E1E5ED\"}, \"yaxis\": {\"gridcolor\": \"#E1E5ED\", \"showgrid\": true, \"tickfont\": {\"color\": \"#4D5663\"}, \"title\": {\"font\": {\"color\": \"#4D5663\"}, \"text\": \"\"}, \"zerolinecolor\": \"#E1E5ED\"}},\n",
       "                        {\"showLink\": true, \"linkText\": \"Export to plot.ly\", \"plotlyServerURL\": \"https://plot.ly\", \"responsive\": true}\n",
       "                    ).then(function(){\n",
       "                            \n",
       "var gd = document.getElementById('664188ae-3b78-42ee-b143-31c70289d5f9');\n",
       "var x = new MutationObserver(function (mutations, observer) {{\n",
       "        var display = window.getComputedStyle(gd).display;\n",
       "        if (!display || display === 'none') {{\n",
       "            console.log([gd, 'removed!']);\n",
       "            Plotly.purge(gd);\n",
       "            observer.disconnect();\n",
       "        }}\n",
       "}});\n",
       "\n",
       "// Listen for the removal of the full notebook cells\n",
       "var notebookContainer = gd.closest('#notebook-container');\n",
       "if (notebookContainer) {{\n",
       "    x.observe(notebookContainer, {childList: true});\n",
       "}}\n",
       "\n",
       "// Listen for the clearing of the current output cell\n",
       "var outputEl = gd.closest('.output');\n",
       "if (outputEl) {{\n",
       "    x.observe(outputEl, {childList: true});\n",
       "}}\n",
       "\n",
       "                        })\n",
       "                };\n",
       "                });\n",
       "            </script>\n",
       "        </div>"
      ]
     },
     "metadata": {},
     "output_type": "display_data"
    }
   ],
   "source": [
    "df.sum().iplot(kind='bar')"
   ]
  },
  {
   "cell_type": "code",
   "execution_count": 28,
   "metadata": {},
   "outputs": [
    {
     "data": {
      "application/vnd.plotly.v1+json": {
       "config": {
        "linkText": "Export to plot.ly",
        "plotlyServerURL": "https://plot.ly",
        "showLink": true
       },
       "data": [
        {
         "boxpoints": false,
         "line": {
          "width": 1.3
         },
         "marker": {
          "color": "rgba(255, 153, 51, 1.0)"
         },
         "name": "A",
         "orientation": "v",
         "type": "box",
         "y": [
          0.0582296909058791,
          -0.02584525376380703,
          0.00233282809989629,
          1.1481746239450044,
          0.24613651723675956,
          -1.0638018398599103,
          -0.21304176589290522,
          -0.8877953781238356,
          0.2408920641467541,
          -0.8396975894960268,
          2.0132202407596353,
          -1.8360206750556003,
          -0.2517700023746602,
          -1.4502799812552967,
          0.4152057826772664,
          -0.8998644155235899,
          0.5982440600673362,
          -0.9759069692250059,
          -1.1973876247754691,
          0.5577122833829123,
          2.310315783202372,
          -1.7961940534317489,
          -0.6572397260969888,
          -1.3376421186203706,
          1.0608517587708919,
          -2.259894369695355,
          1.4606925940258704,
          1.8907728427394275,
          -0.3043119428357968,
          1.9881857367303992,
          0.3901698887479151,
          1.3241022911963933,
          1.0959833079431376,
          -1.2734420037321217,
          -1.3216363381573888,
          0.834565478861918,
          0.6299828498049981,
          2.0786395666444015,
          -1.0791936006443799,
          -1.3790272078160453,
          -1.178945530656404,
          0.22964243572651152,
          -0.029963990967407286,
          -0.43786137324103674,
          0.6356308238712179,
          0.14810106273265564,
          0.5227969542030575,
          1.0543535418382617,
          0.02211756534029964,
          -0.13560799701465331,
          -0.5525218983218556,
          -1.0196807962712457,
          -0.2607666151406072,
          -0.5602173304664195,
          -0.6492750894074405,
          -0.2556935165453845,
          -1.0771115992625304,
          -0.135328085335629,
          -0.04464422947027891,
          -1.161005405176078,
          0.3122523074359768,
          -1.6625191089294775,
          0.34194335491409344,
          0.16470959404488125,
          1.2878181748305546,
          0.5610471493377563,
          -1.444406167736111,
          0.61479147005293,
          2.7365467524952916,
          -0.6323625965306128,
          1.276169138221677,
          -0.048793811614966896,
          -0.6086730440924935,
          0.14012253128489457,
          -0.8621572953507786,
          -1.7685450434583079,
          0.45581637692557153,
          0.7050466998267874,
          0.2814153735282505,
          0.19735245724273506,
          -1.1781923319235064,
          0.38757667877441015,
          0.2906922661543077,
          -1.0313059627582548,
          0.43284154174190126,
          -0.9379419695402221,
          -0.5102362125240482,
          -0.20895028756198047,
          1.4035565803611778,
          -1.0519821869520587,
          0.11992036334528934,
          -1.2473763817788441,
          -0.9440623587862923,
          0.4649388980972195,
          0.8891091225455513,
          -0.05281339848006934,
          1.1826926725138664,
          -0.6496100176207341,
          0.3463146074175848,
          1.245054214730473
         ]
        },
        {
         "boxpoints": false,
         "line": {
          "width": 1.3
         },
         "marker": {
          "color": "rgba(55, 128, 191, 1.0)"
         },
         "name": "B",
         "orientation": "v",
         "type": "box",
         "y": [
          -0.8159108900054555,
          -1.929941219688791,
          -0.03657417027881783,
          -1.0974209539855215,
          1.052196520858351,
          0.033822329120052425,
          1.8176801096555568,
          -0.8520932618888648,
          0.1782263123008412,
          0.6516149971522324,
          -0.1914194854642487,
          0.008657291528901528,
          -0.8148758043003251,
          -0.9471398783497236,
          -0.6061811239096245,
          1.4415241885529897,
          0.8851494166861117,
          0.20512285715425654,
          -0.7302217226826899,
          -0.31951913686424854,
          0.27231889777693935,
          -0.09697422065665619,
          -0.6649205861559219,
          0.5620367857612353,
          1.7533700715066436,
          0.6286472913776453,
          -0.7855956286751903,
          -0.15994050635267051,
          1.3518808645637923,
          -1.0154365693968737,
          -0.18050820646100885,
          0.10834646519885681,
          0.7096009539601019,
          -1.6023624543290134,
          1.9871052880616062,
          0.13645875362141854,
          -0.14633701649722333,
          0.38661791094502607,
          -0.5619435011719726,
          -0.20251346230180112,
          0.6479159809236236,
          -0.7526340518086364,
          -0.21918777663590203,
          1.0416872919367612,
          -0.6468863728671859,
          -0.44682241371939924,
          0.5847470571104231,
          1.525293780434978,
          1.6806985956288825,
          -0.40897115263895845,
          0.4807243711627144,
          0.4261709336642487,
          -0.2587232083938359,
          0.4457411507797482,
          -0.2780131113425037,
          0.6771683729554895,
          -0.49326884312164854,
          0.378732594771927,
          0.7495296141469234,
          -0.16621758439843407,
          -0.23419012280575963,
          -0.8429186547805513,
          -1.4561552722178908,
          -0.2133350041936494,
          -0.2006493898869039,
          -0.6181873825812856,
          -1.6980110048485777,
          -0.7626793020761945,
          0.3885269527655976,
          -0.46412751801116825,
          -1.0763819235680343,
          -0.502238030495814,
          -0.28576562016979584,
          0.21551527887273858,
          1.8833906902942927,
          -0.24381875320711635,
          -2.0108817352692587,
          -1.1983839198702526,
          1.4254320467638015,
          0.8872957071538016,
          0.2680860134619889,
          -0.14122802360169043,
          0.17462228023424262,
          0.47283501980558207,
          -1.5376258685767012,
          -0.9705267350254004,
          0.26336399264955324,
          -0.2400452642080898,
          1.3197311512694645,
          -0.49995857976244107,
          1.1159025551961577,
          0.3216947684974362,
          -0.06706027728631916,
          -0.5875192402723305,
          0.2673311445431004,
          1.2846262456076551,
          -0.25339170680358225,
          -0.6085930939009376,
          -1.3442330241206317,
          0.2245819379710808
         ]
        },
        {
         "boxpoints": false,
         "line": {
          "width": 1.3
         },
         "marker": {
          "color": "rgba(50, 171, 96, 1.0)"
         },
         "name": "C",
         "orientation": "v",
         "type": "box",
         "y": [
          0.43871609511090787,
          1.4473330691369668,
          0.6874111683344055,
          -0.31830361917415323,
          -0.5388382120744102,
          1.1472562118002556,
          0.3108509723492838,
          -1.3504297177585811,
          -0.14717944001590125,
          -1.0161980003072821,
          1.3184133201786352,
          -0.8948859154766784,
          0.8063427125028101,
          0.9860023990235437,
          0.43278295758782576,
          -0.3383168473212901,
          0.7828525506565561,
          0.32430811014547267,
          -0.18366489259377278,
          -1.332807951441942,
          0.5855231884301786,
          -1.49399951258357,
          1.2729131978144108,
          0.4707613042946522,
          -0.15732217966894335,
          -0.17112350219909944,
          0.5150453019363858,
          -0.09683419800777998,
          -1.15464030183148,
          -0.7066758730513744,
          -2.043606659974553,
          -1.1509322374051534,
          0.025658807784838335,
          1.4898157970226003,
          -0.0694685513661873,
          -0.49791651474279414,
          -0.2308514320585353,
          -0.6633259576742246,
          -0.9314528895000233,
          0.09268399022199766,
          1.0546179913330427,
          0.3788253128204955,
          -0.45268150440564836,
          1.0874294053375568,
          -0.34893154879565674,
          1.8290703884373203,
          1.5101181036839537,
          1.037309456079722,
          0.3829273390259377,
          -0.8115479160466885,
          0.2280149619931508,
          -0.07314365291412171,
          1.5185510594580172,
          0.38025651373434205,
          -0.31398670655601696,
          0.23485782245543066,
          1.1932516814328331,
          0.7988138783475844,
          1.66087199827985,
          -0.6170009187598181,
          -0.7119327765997175,
          -0.11955345486924777,
          -0.1193429287162214,
          -0.12603845313457776,
          0.39552766114983606,
          -2.444805418961324,
          -1.8397723832514499,
          0.4039665619307871,
          -0.06783876623717149,
          -1.2309948870786396,
          0.5080633094564294,
          0.42442792825012743,
          -0.7768402727229322,
          -0.4146941899464075,
          -0.2628708720580322,
          1.4093531835016053,
          -0.4842787587197417,
          -0.3086872018435643,
          0.5792988275599643,
          0.0558835015664736,
          -0.12724666807294763,
          -1.1301366568389613,
          -0.4086617935908518,
          -1.1272226118648105,
          0.7706661363871762,
          -0.9247291559968152,
          -1.0955838666800826,
          2.8036692006315556,
          -0.9094835797650551,
          1.5471447420104867,
          0.38896465749503334,
          -1.0990917939504126,
          0.7516162725463826,
          0.5370950423084296,
          0.304979022360758,
          -0.13901930820177436,
          1.0047496987928615,
          -1.5709449363201675,
          0.42863972150130747,
          -0.33579753215298636
         ]
        },
        {
         "boxpoints": false,
         "line": {
          "width": 1.3
         },
         "marker": {
          "color": "rgba(128, 0, 128, 1.0)"
         },
         "name": "D",
         "orientation": "v",
         "type": "box",
         "y": [
          2.201870845090954,
          -0.11919198952453913,
          -0.6491147989395194,
          -1.0940323419087372,
          1.3064805387565284,
          1.0053933644146675,
          -1.1468493721755817,
          0.43702934200597154,
          -1.5708817313388244,
          -0.30228893508853805,
          -0.5452580360626557,
          -0.6639695116112655,
          -0.7955940426938466,
          -1.6467518219836184,
          0.2809329436516192,
          0.14816821598707555,
          -0.4569463150690023,
          0.04102322118889885,
          -0.7803672256411665,
          -1.697062848956333,
          1.3222147203484962,
          -0.6493948068909241,
          0.020214620878222216,
          -0.9785074303145862,
          0.24463538527559575,
          0.21899280568001356,
          0.8289256885409623,
          -0.9661404506426933,
          1.0709167568846587,
          -2.1446864458641937,
          0.7126038142063271,
          0.8037657660529335,
          -1.0438570754660648,
          -2.1764801619754595,
          1.0065744258730616,
          -1.7085546146187438,
          1.6157853000776756,
          -0.24005886773007004,
          0.06041741995551127,
          -1.9754554368134523,
          -0.130103722338268,
          -1.9289900950205006,
          -0.20432004986579816,
          0.7844358300465218,
          -0.01648696797537042,
          -1.0990716369251219,
          -1.1203384263813874,
          -0.5298781553667351,
          -0.25166010107420206,
          -0.10803187499062224,
          0.9720371690989861,
          0.14084278106626988,
          0.958340609712445,
          1.139130689135666,
          0.6121010152679732,
          1.1702006779163139,
          3.438950303702981,
          -0.014582542305240784,
          0.8969948486842586,
          -0.2847005272765262,
          -1.294676153711721,
          0.1659703625257675,
          -1.4039308452256145,
          -0.8682886248582745,
          1.2273913987468628,
          -0.21245180779807538,
          -0.5573543417006175,
          -0.04325035409627915,
          -0.3782549331129301,
          -0.8676228692532127,
          -0.8943592217689184,
          -1.0963084188028802,
          -0.19948952305435813,
          0.04615393001258242,
          0.3963388838875445,
          -1.1901818013837535,
          -0.42342500377745523,
          1.6854298977467543,
          1.5202474035952782,
          1.5642876877114285,
          2.783931915616514,
          -1.0969162983690433,
          -0.10200943946234767,
          0.7458397850902051,
          -1.0361207524087017,
          2.2613414374373075,
          -0.9658009592653757,
          1.1048347049010612,
          -0.5491332908200294,
          -0.03513322127822818,
          0.8502999061377614,
          -0.11253047805429914,
          0.888899794382401,
          -0.39557630308169334,
          1.8346182851644055,
          0.4963586915785833,
          -0.8857741719895674,
          1.6585853035436051,
          -0.018411933912376614,
          -1.080819440204162
         ]
        }
       ],
       "layout": {
        "legend": {
         "bgcolor": "#F5F6F9",
         "font": {
          "color": "#4D5663"
         }
        },
        "paper_bgcolor": "#F5F6F9",
        "plot_bgcolor": "#F5F6F9",
        "template": {
         "data": {
          "bar": [
           {
            "error_x": {
             "color": "#2a3f5f"
            },
            "error_y": {
             "color": "#2a3f5f"
            },
            "marker": {
             "line": {
              "color": "#E5ECF6",
              "width": 0.5
             }
            },
            "type": "bar"
           }
          ],
          "barpolar": [
           {
            "marker": {
             "line": {
              "color": "#E5ECF6",
              "width": 0.5
             }
            },
            "type": "barpolar"
           }
          ],
          "carpet": [
           {
            "aaxis": {
             "endlinecolor": "#2a3f5f",
             "gridcolor": "white",
             "linecolor": "white",
             "minorgridcolor": "white",
             "startlinecolor": "#2a3f5f"
            },
            "baxis": {
             "endlinecolor": "#2a3f5f",
             "gridcolor": "white",
             "linecolor": "white",
             "minorgridcolor": "white",
             "startlinecolor": "#2a3f5f"
            },
            "type": "carpet"
           }
          ],
          "choropleth": [
           {
            "colorbar": {
             "outlinewidth": 0,
             "ticks": ""
            },
            "type": "choropleth"
           }
          ],
          "contour": [
           {
            "colorbar": {
             "outlinewidth": 0,
             "ticks": ""
            },
            "colorscale": [
             [
              0,
              "#0d0887"
             ],
             [
              0.1111111111111111,
              "#46039f"
             ],
             [
              0.2222222222222222,
              "#7201a8"
             ],
             [
              0.3333333333333333,
              "#9c179e"
             ],
             [
              0.4444444444444444,
              "#bd3786"
             ],
             [
              0.5555555555555556,
              "#d8576b"
             ],
             [
              0.6666666666666666,
              "#ed7953"
             ],
             [
              0.7777777777777778,
              "#fb9f3a"
             ],
             [
              0.8888888888888888,
              "#fdca26"
             ],
             [
              1,
              "#f0f921"
             ]
            ],
            "type": "contour"
           }
          ],
          "contourcarpet": [
           {
            "colorbar": {
             "outlinewidth": 0,
             "ticks": ""
            },
            "type": "contourcarpet"
           }
          ],
          "heatmap": [
           {
            "colorbar": {
             "outlinewidth": 0,
             "ticks": ""
            },
            "colorscale": [
             [
              0,
              "#0d0887"
             ],
             [
              0.1111111111111111,
              "#46039f"
             ],
             [
              0.2222222222222222,
              "#7201a8"
             ],
             [
              0.3333333333333333,
              "#9c179e"
             ],
             [
              0.4444444444444444,
              "#bd3786"
             ],
             [
              0.5555555555555556,
              "#d8576b"
             ],
             [
              0.6666666666666666,
              "#ed7953"
             ],
             [
              0.7777777777777778,
              "#fb9f3a"
             ],
             [
              0.8888888888888888,
              "#fdca26"
             ],
             [
              1,
              "#f0f921"
             ]
            ],
            "type": "heatmap"
           }
          ],
          "heatmapgl": [
           {
            "colorbar": {
             "outlinewidth": 0,
             "ticks": ""
            },
            "colorscale": [
             [
              0,
              "#0d0887"
             ],
             [
              0.1111111111111111,
              "#46039f"
             ],
             [
              0.2222222222222222,
              "#7201a8"
             ],
             [
              0.3333333333333333,
              "#9c179e"
             ],
             [
              0.4444444444444444,
              "#bd3786"
             ],
             [
              0.5555555555555556,
              "#d8576b"
             ],
             [
              0.6666666666666666,
              "#ed7953"
             ],
             [
              0.7777777777777778,
              "#fb9f3a"
             ],
             [
              0.8888888888888888,
              "#fdca26"
             ],
             [
              1,
              "#f0f921"
             ]
            ],
            "type": "heatmapgl"
           }
          ],
          "histogram": [
           {
            "marker": {
             "colorbar": {
              "outlinewidth": 0,
              "ticks": ""
             }
            },
            "type": "histogram"
           }
          ],
          "histogram2d": [
           {
            "colorbar": {
             "outlinewidth": 0,
             "ticks": ""
            },
            "colorscale": [
             [
              0,
              "#0d0887"
             ],
             [
              0.1111111111111111,
              "#46039f"
             ],
             [
              0.2222222222222222,
              "#7201a8"
             ],
             [
              0.3333333333333333,
              "#9c179e"
             ],
             [
              0.4444444444444444,
              "#bd3786"
             ],
             [
              0.5555555555555556,
              "#d8576b"
             ],
             [
              0.6666666666666666,
              "#ed7953"
             ],
             [
              0.7777777777777778,
              "#fb9f3a"
             ],
             [
              0.8888888888888888,
              "#fdca26"
             ],
             [
              1,
              "#f0f921"
             ]
            ],
            "type": "histogram2d"
           }
          ],
          "histogram2dcontour": [
           {
            "colorbar": {
             "outlinewidth": 0,
             "ticks": ""
            },
            "colorscale": [
             [
              0,
              "#0d0887"
             ],
             [
              0.1111111111111111,
              "#46039f"
             ],
             [
              0.2222222222222222,
              "#7201a8"
             ],
             [
              0.3333333333333333,
              "#9c179e"
             ],
             [
              0.4444444444444444,
              "#bd3786"
             ],
             [
              0.5555555555555556,
              "#d8576b"
             ],
             [
              0.6666666666666666,
              "#ed7953"
             ],
             [
              0.7777777777777778,
              "#fb9f3a"
             ],
             [
              0.8888888888888888,
              "#fdca26"
             ],
             [
              1,
              "#f0f921"
             ]
            ],
            "type": "histogram2dcontour"
           }
          ],
          "mesh3d": [
           {
            "colorbar": {
             "outlinewidth": 0,
             "ticks": ""
            },
            "type": "mesh3d"
           }
          ],
          "parcoords": [
           {
            "line": {
             "colorbar": {
              "outlinewidth": 0,
              "ticks": ""
             }
            },
            "type": "parcoords"
           }
          ],
          "pie": [
           {
            "automargin": true,
            "type": "pie"
           }
          ],
          "scatter": [
           {
            "marker": {
             "colorbar": {
              "outlinewidth": 0,
              "ticks": ""
             }
            },
            "type": "scatter"
           }
          ],
          "scatter3d": [
           {
            "line": {
             "colorbar": {
              "outlinewidth": 0,
              "ticks": ""
             }
            },
            "marker": {
             "colorbar": {
              "outlinewidth": 0,
              "ticks": ""
             }
            },
            "type": "scatter3d"
           }
          ],
          "scattercarpet": [
           {
            "marker": {
             "colorbar": {
              "outlinewidth": 0,
              "ticks": ""
             }
            },
            "type": "scattercarpet"
           }
          ],
          "scattergeo": [
           {
            "marker": {
             "colorbar": {
              "outlinewidth": 0,
              "ticks": ""
             }
            },
            "type": "scattergeo"
           }
          ],
          "scattergl": [
           {
            "marker": {
             "colorbar": {
              "outlinewidth": 0,
              "ticks": ""
             }
            },
            "type": "scattergl"
           }
          ],
          "scattermapbox": [
           {
            "marker": {
             "colorbar": {
              "outlinewidth": 0,
              "ticks": ""
             }
            },
            "type": "scattermapbox"
           }
          ],
          "scatterpolar": [
           {
            "marker": {
             "colorbar": {
              "outlinewidth": 0,
              "ticks": ""
             }
            },
            "type": "scatterpolar"
           }
          ],
          "scatterpolargl": [
           {
            "marker": {
             "colorbar": {
              "outlinewidth": 0,
              "ticks": ""
             }
            },
            "type": "scatterpolargl"
           }
          ],
          "scatterternary": [
           {
            "marker": {
             "colorbar": {
              "outlinewidth": 0,
              "ticks": ""
             }
            },
            "type": "scatterternary"
           }
          ],
          "surface": [
           {
            "colorbar": {
             "outlinewidth": 0,
             "ticks": ""
            },
            "colorscale": [
             [
              0,
              "#0d0887"
             ],
             [
              0.1111111111111111,
              "#46039f"
             ],
             [
              0.2222222222222222,
              "#7201a8"
             ],
             [
              0.3333333333333333,
              "#9c179e"
             ],
             [
              0.4444444444444444,
              "#bd3786"
             ],
             [
              0.5555555555555556,
              "#d8576b"
             ],
             [
              0.6666666666666666,
              "#ed7953"
             ],
             [
              0.7777777777777778,
              "#fb9f3a"
             ],
             [
              0.8888888888888888,
              "#fdca26"
             ],
             [
              1,
              "#f0f921"
             ]
            ],
            "type": "surface"
           }
          ],
          "table": [
           {
            "cells": {
             "fill": {
              "color": "#EBF0F8"
             },
             "line": {
              "color": "white"
             }
            },
            "header": {
             "fill": {
              "color": "#C8D4E3"
             },
             "line": {
              "color": "white"
             }
            },
            "type": "table"
           }
          ]
         },
         "layout": {
          "annotationdefaults": {
           "arrowcolor": "#2a3f5f",
           "arrowhead": 0,
           "arrowwidth": 1
          },
          "coloraxis": {
           "colorbar": {
            "outlinewidth": 0,
            "ticks": ""
           }
          },
          "colorscale": {
           "diverging": [
            [
             0,
             "#8e0152"
            ],
            [
             0.1,
             "#c51b7d"
            ],
            [
             0.2,
             "#de77ae"
            ],
            [
             0.3,
             "#f1b6da"
            ],
            [
             0.4,
             "#fde0ef"
            ],
            [
             0.5,
             "#f7f7f7"
            ],
            [
             0.6,
             "#e6f5d0"
            ],
            [
             0.7,
             "#b8e186"
            ],
            [
             0.8,
             "#7fbc41"
            ],
            [
             0.9,
             "#4d9221"
            ],
            [
             1,
             "#276419"
            ]
           ],
           "sequential": [
            [
             0,
             "#0d0887"
            ],
            [
             0.1111111111111111,
             "#46039f"
            ],
            [
             0.2222222222222222,
             "#7201a8"
            ],
            [
             0.3333333333333333,
             "#9c179e"
            ],
            [
             0.4444444444444444,
             "#bd3786"
            ],
            [
             0.5555555555555556,
             "#d8576b"
            ],
            [
             0.6666666666666666,
             "#ed7953"
            ],
            [
             0.7777777777777778,
             "#fb9f3a"
            ],
            [
             0.8888888888888888,
             "#fdca26"
            ],
            [
             1,
             "#f0f921"
            ]
           ],
           "sequentialminus": [
            [
             0,
             "#0d0887"
            ],
            [
             0.1111111111111111,
             "#46039f"
            ],
            [
             0.2222222222222222,
             "#7201a8"
            ],
            [
             0.3333333333333333,
             "#9c179e"
            ],
            [
             0.4444444444444444,
             "#bd3786"
            ],
            [
             0.5555555555555556,
             "#d8576b"
            ],
            [
             0.6666666666666666,
             "#ed7953"
            ],
            [
             0.7777777777777778,
             "#fb9f3a"
            ],
            [
             0.8888888888888888,
             "#fdca26"
            ],
            [
             1,
             "#f0f921"
            ]
           ]
          },
          "colorway": [
           "#636efa",
           "#EF553B",
           "#00cc96",
           "#ab63fa",
           "#FFA15A",
           "#19d3f3",
           "#FF6692",
           "#B6E880",
           "#FF97FF",
           "#FECB52"
          ],
          "font": {
           "color": "#2a3f5f"
          },
          "geo": {
           "bgcolor": "white",
           "lakecolor": "white",
           "landcolor": "#E5ECF6",
           "showlakes": true,
           "showland": true,
           "subunitcolor": "white"
          },
          "hoverlabel": {
           "align": "left"
          },
          "hovermode": "closest",
          "mapbox": {
           "style": "light"
          },
          "paper_bgcolor": "white",
          "plot_bgcolor": "#E5ECF6",
          "polar": {
           "angularaxis": {
            "gridcolor": "white",
            "linecolor": "white",
            "ticks": ""
           },
           "bgcolor": "#E5ECF6",
           "radialaxis": {
            "gridcolor": "white",
            "linecolor": "white",
            "ticks": ""
           }
          },
          "scene": {
           "xaxis": {
            "backgroundcolor": "#E5ECF6",
            "gridcolor": "white",
            "gridwidth": 2,
            "linecolor": "white",
            "showbackground": true,
            "ticks": "",
            "zerolinecolor": "white"
           },
           "yaxis": {
            "backgroundcolor": "#E5ECF6",
            "gridcolor": "white",
            "gridwidth": 2,
            "linecolor": "white",
            "showbackground": true,
            "ticks": "",
            "zerolinecolor": "white"
           },
           "zaxis": {
            "backgroundcolor": "#E5ECF6",
            "gridcolor": "white",
            "gridwidth": 2,
            "linecolor": "white",
            "showbackground": true,
            "ticks": "",
            "zerolinecolor": "white"
           }
          },
          "shapedefaults": {
           "line": {
            "color": "#2a3f5f"
           }
          },
          "ternary": {
           "aaxis": {
            "gridcolor": "white",
            "linecolor": "white",
            "ticks": ""
           },
           "baxis": {
            "gridcolor": "white",
            "linecolor": "white",
            "ticks": ""
           },
           "bgcolor": "#E5ECF6",
           "caxis": {
            "gridcolor": "white",
            "linecolor": "white",
            "ticks": ""
           }
          },
          "title": {
           "x": 0.05
          },
          "xaxis": {
           "automargin": true,
           "gridcolor": "white",
           "linecolor": "white",
           "ticks": "",
           "title": {
            "standoff": 15
           },
           "zerolinecolor": "white",
           "zerolinewidth": 2
          },
          "yaxis": {
           "automargin": true,
           "gridcolor": "white",
           "linecolor": "white",
           "ticks": "",
           "title": {
            "standoff": 15
           },
           "zerolinecolor": "white",
           "zerolinewidth": 2
          }
         }
        },
        "title": {
         "font": {
          "color": "#4D5663"
         }
        },
        "xaxis": {
         "gridcolor": "#E1E5ED",
         "showgrid": true,
         "tickfont": {
          "color": "#4D5663"
         },
         "title": {
          "font": {
           "color": "#4D5663"
          },
          "text": ""
         },
         "zerolinecolor": "#E1E5ED"
        },
        "yaxis": {
         "gridcolor": "#E1E5ED",
         "showgrid": true,
         "tickfont": {
          "color": "#4D5663"
         },
         "title": {
          "font": {
           "color": "#4D5663"
          },
          "text": ""
         },
         "zerolinecolor": "#E1E5ED"
        }
       }
      },
      "text/html": [
       "<div>\n",
       "        \n",
       "        \n",
       "            <div id=\"c51064e5-59af-4593-968b-c3a016bd6fca\" class=\"plotly-graph-div\" style=\"height:525px; width:100%;\"></div>\n",
       "            <script type=\"text/javascript\">\n",
       "                require([\"plotly\"], function(Plotly) {\n",
       "                    window.PLOTLYENV=window.PLOTLYENV || {};\n",
       "                    window.PLOTLYENV.BASE_URL='https://plot.ly';\n",
       "                    \n",
       "                if (document.getElementById(\"c51064e5-59af-4593-968b-c3a016bd6fca\")) {\n",
       "                    Plotly.newPlot(\n",
       "                        'c51064e5-59af-4593-968b-c3a016bd6fca',\n",
       "                        [{\"boxpoints\": false, \"line\": {\"width\": 1.3}, \"marker\": {\"color\": \"rgba(255, 153, 51, 1.0)\"}, \"name\": \"A\", \"orientation\": \"v\", \"type\": \"box\", \"y\": [0.0582296909058791, -0.02584525376380703, 0.00233282809989629, 1.1481746239450044, 0.24613651723675956, -1.0638018398599103, -0.21304176589290522, -0.8877953781238356, 0.2408920641467541, -0.8396975894960268, 2.0132202407596353, -1.8360206750556003, -0.2517700023746602, -1.4502799812552967, 0.4152057826772664, -0.8998644155235899, 0.5982440600673362, -0.9759069692250059, -1.1973876247754691, 0.5577122833829123, 2.310315783202372, -1.7961940534317489, -0.6572397260969888, -1.3376421186203706, 1.0608517587708919, -2.259894369695355, 1.4606925940258704, 1.8907728427394275, -0.3043119428357968, 1.9881857367303992, 0.3901698887479151, 1.3241022911963933, 1.0959833079431376, -1.2734420037321217, -1.3216363381573888, 0.834565478861918, 0.6299828498049981, 2.0786395666444015, -1.0791936006443799, -1.3790272078160453, -1.178945530656404, 0.22964243572651152, -0.029963990967407286, -0.43786137324103674, 0.6356308238712179, 0.14810106273265564, 0.5227969542030575, 1.0543535418382617, 0.02211756534029964, -0.13560799701465331, -0.5525218983218556, -1.0196807962712457, -0.2607666151406072, -0.5602173304664195, -0.6492750894074405, -0.2556935165453845, -1.0771115992625304, -0.135328085335629, -0.04464422947027891, -1.161005405176078, 0.3122523074359768, -1.6625191089294775, 0.34194335491409344, 0.16470959404488125, 1.2878181748305546, 0.5610471493377563, -1.444406167736111, 0.61479147005293, 2.7365467524952916, -0.6323625965306128, 1.276169138221677, -0.048793811614966896, -0.6086730440924935, 0.14012253128489457, -0.8621572953507786, -1.7685450434583079, 0.45581637692557153, 0.7050466998267874, 0.2814153735282505, 0.19735245724273506, -1.1781923319235064, 0.38757667877441015, 0.2906922661543077, -1.0313059627582548, 0.43284154174190126, -0.9379419695402221, -0.5102362125240482, -0.20895028756198047, 1.4035565803611778, -1.0519821869520587, 0.11992036334528934, -1.2473763817788441, -0.9440623587862923, 0.4649388980972195, 0.8891091225455513, -0.05281339848006934, 1.1826926725138664, -0.6496100176207341, 0.3463146074175848, 1.245054214730473]}, {\"boxpoints\": false, \"line\": {\"width\": 1.3}, \"marker\": {\"color\": \"rgba(55, 128, 191, 1.0)\"}, \"name\": \"B\", \"orientation\": \"v\", \"type\": \"box\", \"y\": [-0.8159108900054555, -1.929941219688791, -0.03657417027881783, -1.0974209539855215, 1.052196520858351, 0.033822329120052425, 1.8176801096555568, -0.8520932618888648, 0.1782263123008412, 0.6516149971522324, -0.1914194854642487, 0.008657291528901528, -0.8148758043003251, -0.9471398783497236, -0.6061811239096245, 1.4415241885529897, 0.8851494166861117, 0.20512285715425654, -0.7302217226826899, -0.31951913686424854, 0.27231889777693935, -0.09697422065665619, -0.6649205861559219, 0.5620367857612353, 1.7533700715066436, 0.6286472913776453, -0.7855956286751903, -0.15994050635267051, 1.3518808645637923, -1.0154365693968737, -0.18050820646100885, 0.10834646519885681, 0.7096009539601019, -1.6023624543290134, 1.9871052880616062, 0.13645875362141854, -0.14633701649722333, 0.38661791094502607, -0.5619435011719726, -0.20251346230180112, 0.6479159809236236, -0.7526340518086364, -0.21918777663590203, 1.0416872919367612, -0.6468863728671859, -0.44682241371939924, 0.5847470571104231, 1.525293780434978, 1.6806985956288825, -0.40897115263895845, 0.4807243711627144, 0.4261709336642487, -0.2587232083938359, 0.4457411507797482, -0.2780131113425037, 0.6771683729554895, -0.49326884312164854, 0.378732594771927, 0.7495296141469234, -0.16621758439843407, -0.23419012280575963, -0.8429186547805513, -1.4561552722178908, -0.2133350041936494, -0.2006493898869039, -0.6181873825812856, -1.6980110048485777, -0.7626793020761945, 0.3885269527655976, -0.46412751801116825, -1.0763819235680343, -0.502238030495814, -0.28576562016979584, 0.21551527887273858, 1.8833906902942927, -0.24381875320711635, -2.0108817352692587, -1.1983839198702526, 1.4254320467638015, 0.8872957071538016, 0.2680860134619889, -0.14122802360169043, 0.17462228023424262, 0.47283501980558207, -1.5376258685767012, -0.9705267350254004, 0.26336399264955324, -0.2400452642080898, 1.3197311512694645, -0.49995857976244107, 1.1159025551961577, 0.3216947684974362, -0.06706027728631916, -0.5875192402723305, 0.2673311445431004, 1.2846262456076551, -0.25339170680358225, -0.6085930939009376, -1.3442330241206317, 0.2245819379710808]}, {\"boxpoints\": false, \"line\": {\"width\": 1.3}, \"marker\": {\"color\": \"rgba(50, 171, 96, 1.0)\"}, \"name\": \"C\", \"orientation\": \"v\", \"type\": \"box\", \"y\": [0.43871609511090787, 1.4473330691369668, 0.6874111683344055, -0.31830361917415323, -0.5388382120744102, 1.1472562118002556, 0.3108509723492838, -1.3504297177585811, -0.14717944001590125, -1.0161980003072821, 1.3184133201786352, -0.8948859154766784, 0.8063427125028101, 0.9860023990235437, 0.43278295758782576, -0.3383168473212901, 0.7828525506565561, 0.32430811014547267, -0.18366489259377278, -1.332807951441942, 0.5855231884301786, -1.49399951258357, 1.2729131978144108, 0.4707613042946522, -0.15732217966894335, -0.17112350219909944, 0.5150453019363858, -0.09683419800777998, -1.15464030183148, -0.7066758730513744, -2.043606659974553, -1.1509322374051534, 0.025658807784838335, 1.4898157970226003, -0.0694685513661873, -0.49791651474279414, -0.2308514320585353, -0.6633259576742246, -0.9314528895000233, 0.09268399022199766, 1.0546179913330427, 0.3788253128204955, -0.45268150440564836, 1.0874294053375568, -0.34893154879565674, 1.8290703884373203, 1.5101181036839537, 1.037309456079722, 0.3829273390259377, -0.8115479160466885, 0.2280149619931508, -0.07314365291412171, 1.5185510594580172, 0.38025651373434205, -0.31398670655601696, 0.23485782245543066, 1.1932516814328331, 0.7988138783475844, 1.66087199827985, -0.6170009187598181, -0.7119327765997175, -0.11955345486924777, -0.1193429287162214, -0.12603845313457776, 0.39552766114983606, -2.444805418961324, -1.8397723832514499, 0.4039665619307871, -0.06783876623717149, -1.2309948870786396, 0.5080633094564294, 0.42442792825012743, -0.7768402727229322, -0.4146941899464075, -0.2628708720580322, 1.4093531835016053, -0.4842787587197417, -0.3086872018435643, 0.5792988275599643, 0.0558835015664736, -0.12724666807294763, -1.1301366568389613, -0.4086617935908518, -1.1272226118648105, 0.7706661363871762, -0.9247291559968152, -1.0955838666800826, 2.8036692006315556, -0.9094835797650551, 1.5471447420104867, 0.38896465749503334, -1.0990917939504126, 0.7516162725463826, 0.5370950423084296, 0.304979022360758, -0.13901930820177436, 1.0047496987928615, -1.5709449363201675, 0.42863972150130747, -0.33579753215298636]}, {\"boxpoints\": false, \"line\": {\"width\": 1.3}, \"marker\": {\"color\": \"rgba(128, 0, 128, 1.0)\"}, \"name\": \"D\", \"orientation\": \"v\", \"type\": \"box\", \"y\": [2.201870845090954, -0.11919198952453913, -0.6491147989395194, -1.0940323419087372, 1.3064805387565284, 1.0053933644146675, -1.1468493721755817, 0.43702934200597154, -1.5708817313388244, -0.30228893508853805, -0.5452580360626557, -0.6639695116112655, -0.7955940426938466, -1.6467518219836184, 0.2809329436516192, 0.14816821598707555, -0.4569463150690023, 0.04102322118889885, -0.7803672256411665, -1.697062848956333, 1.3222147203484962, -0.6493948068909241, 0.020214620878222216, -0.9785074303145862, 0.24463538527559575, 0.21899280568001356, 0.8289256885409623, -0.9661404506426933, 1.0709167568846587, -2.1446864458641937, 0.7126038142063271, 0.8037657660529335, -1.0438570754660648, -2.1764801619754595, 1.0065744258730616, -1.7085546146187438, 1.6157853000776756, -0.24005886773007004, 0.06041741995551127, -1.9754554368134523, -0.130103722338268, -1.9289900950205006, -0.20432004986579816, 0.7844358300465218, -0.01648696797537042, -1.0990716369251219, -1.1203384263813874, -0.5298781553667351, -0.25166010107420206, -0.10803187499062224, 0.9720371690989861, 0.14084278106626988, 0.958340609712445, 1.139130689135666, 0.6121010152679732, 1.1702006779163139, 3.438950303702981, -0.014582542305240784, 0.8969948486842586, -0.2847005272765262, -1.294676153711721, 0.1659703625257675, -1.4039308452256145, -0.8682886248582745, 1.2273913987468628, -0.21245180779807538, -0.5573543417006175, -0.04325035409627915, -0.3782549331129301, -0.8676228692532127, -0.8943592217689184, -1.0963084188028802, -0.19948952305435813, 0.04615393001258242, 0.3963388838875445, -1.1901818013837535, -0.42342500377745523, 1.6854298977467543, 1.5202474035952782, 1.5642876877114285, 2.783931915616514, -1.0969162983690433, -0.10200943946234767, 0.7458397850902051, -1.0361207524087017, 2.2613414374373075, -0.9658009592653757, 1.1048347049010612, -0.5491332908200294, -0.03513322127822818, 0.8502999061377614, -0.11253047805429914, 0.888899794382401, -0.39557630308169334, 1.8346182851644055, 0.4963586915785833, -0.8857741719895674, 1.6585853035436051, -0.018411933912376614, -1.080819440204162]}],\n",
       "                        {\"legend\": {\"bgcolor\": \"#F5F6F9\", \"font\": {\"color\": \"#4D5663\"}}, \"paper_bgcolor\": \"#F5F6F9\", \"plot_bgcolor\": \"#F5F6F9\", \"template\": {\"data\": {\"bar\": [{\"error_x\": {\"color\": \"#2a3f5f\"}, \"error_y\": {\"color\": \"#2a3f5f\"}, \"marker\": {\"line\": {\"color\": \"#E5ECF6\", \"width\": 0.5}}, \"type\": \"bar\"}], \"barpolar\": [{\"marker\": {\"line\": {\"color\": \"#E5ECF6\", \"width\": 0.5}}, \"type\": \"barpolar\"}], \"carpet\": [{\"aaxis\": {\"endlinecolor\": \"#2a3f5f\", \"gridcolor\": \"white\", \"linecolor\": \"white\", \"minorgridcolor\": \"white\", \"startlinecolor\": \"#2a3f5f\"}, \"baxis\": {\"endlinecolor\": \"#2a3f5f\", \"gridcolor\": \"white\", \"linecolor\": \"white\", \"minorgridcolor\": \"white\", \"startlinecolor\": \"#2a3f5f\"}, \"type\": \"carpet\"}], \"choropleth\": [{\"colorbar\": {\"outlinewidth\": 0, \"ticks\": \"\"}, \"type\": \"choropleth\"}], \"contour\": [{\"colorbar\": {\"outlinewidth\": 0, \"ticks\": \"\"}, \"colorscale\": [[0.0, \"#0d0887\"], [0.1111111111111111, \"#46039f\"], [0.2222222222222222, \"#7201a8\"], [0.3333333333333333, \"#9c179e\"], [0.4444444444444444, \"#bd3786\"], [0.5555555555555556, \"#d8576b\"], [0.6666666666666666, \"#ed7953\"], [0.7777777777777778, \"#fb9f3a\"], [0.8888888888888888, \"#fdca26\"], [1.0, \"#f0f921\"]], \"type\": \"contour\"}], \"contourcarpet\": [{\"colorbar\": {\"outlinewidth\": 0, \"ticks\": \"\"}, \"type\": \"contourcarpet\"}], \"heatmap\": [{\"colorbar\": {\"outlinewidth\": 0, \"ticks\": \"\"}, \"colorscale\": [[0.0, \"#0d0887\"], [0.1111111111111111, \"#46039f\"], [0.2222222222222222, \"#7201a8\"], [0.3333333333333333, \"#9c179e\"], [0.4444444444444444, \"#bd3786\"], [0.5555555555555556, \"#d8576b\"], [0.6666666666666666, \"#ed7953\"], [0.7777777777777778, \"#fb9f3a\"], [0.8888888888888888, \"#fdca26\"], [1.0, \"#f0f921\"]], \"type\": \"heatmap\"}], \"heatmapgl\": [{\"colorbar\": {\"outlinewidth\": 0, \"ticks\": \"\"}, \"colorscale\": [[0.0, \"#0d0887\"], [0.1111111111111111, \"#46039f\"], [0.2222222222222222, \"#7201a8\"], [0.3333333333333333, \"#9c179e\"], [0.4444444444444444, \"#bd3786\"], [0.5555555555555556, \"#d8576b\"], [0.6666666666666666, \"#ed7953\"], [0.7777777777777778, \"#fb9f3a\"], [0.8888888888888888, \"#fdca26\"], [1.0, \"#f0f921\"]], \"type\": \"heatmapgl\"}], \"histogram\": [{\"marker\": {\"colorbar\": {\"outlinewidth\": 0, \"ticks\": \"\"}}, \"type\": \"histogram\"}], \"histogram2d\": [{\"colorbar\": {\"outlinewidth\": 0, \"ticks\": \"\"}, \"colorscale\": [[0.0, \"#0d0887\"], [0.1111111111111111, \"#46039f\"], [0.2222222222222222, \"#7201a8\"], [0.3333333333333333, \"#9c179e\"], [0.4444444444444444, \"#bd3786\"], [0.5555555555555556, \"#d8576b\"], [0.6666666666666666, \"#ed7953\"], [0.7777777777777778, \"#fb9f3a\"], [0.8888888888888888, \"#fdca26\"], [1.0, \"#f0f921\"]], \"type\": \"histogram2d\"}], \"histogram2dcontour\": [{\"colorbar\": {\"outlinewidth\": 0, \"ticks\": \"\"}, \"colorscale\": [[0.0, \"#0d0887\"], [0.1111111111111111, \"#46039f\"], [0.2222222222222222, \"#7201a8\"], [0.3333333333333333, \"#9c179e\"], [0.4444444444444444, \"#bd3786\"], [0.5555555555555556, \"#d8576b\"], [0.6666666666666666, \"#ed7953\"], [0.7777777777777778, \"#fb9f3a\"], [0.8888888888888888, \"#fdca26\"], [1.0, \"#f0f921\"]], \"type\": \"histogram2dcontour\"}], \"mesh3d\": [{\"colorbar\": {\"outlinewidth\": 0, \"ticks\": \"\"}, \"type\": \"mesh3d\"}], \"parcoords\": [{\"line\": {\"colorbar\": {\"outlinewidth\": 0, \"ticks\": \"\"}}, \"type\": \"parcoords\"}], \"pie\": [{\"automargin\": true, \"type\": \"pie\"}], \"scatter\": [{\"marker\": {\"colorbar\": {\"outlinewidth\": 0, \"ticks\": \"\"}}, \"type\": \"scatter\"}], \"scatter3d\": [{\"line\": {\"colorbar\": {\"outlinewidth\": 0, \"ticks\": \"\"}}, \"marker\": {\"colorbar\": {\"outlinewidth\": 0, \"ticks\": \"\"}}, \"type\": \"scatter3d\"}], \"scattercarpet\": [{\"marker\": {\"colorbar\": {\"outlinewidth\": 0, \"ticks\": \"\"}}, \"type\": \"scattercarpet\"}], \"scattergeo\": [{\"marker\": {\"colorbar\": {\"outlinewidth\": 0, \"ticks\": \"\"}}, \"type\": \"scattergeo\"}], \"scattergl\": [{\"marker\": {\"colorbar\": {\"outlinewidth\": 0, \"ticks\": \"\"}}, \"type\": \"scattergl\"}], \"scattermapbox\": [{\"marker\": {\"colorbar\": {\"outlinewidth\": 0, \"ticks\": \"\"}}, \"type\": \"scattermapbox\"}], \"scatterpolar\": [{\"marker\": {\"colorbar\": {\"outlinewidth\": 0, \"ticks\": \"\"}}, \"type\": \"scatterpolar\"}], \"scatterpolargl\": [{\"marker\": {\"colorbar\": {\"outlinewidth\": 0, \"ticks\": \"\"}}, \"type\": \"scatterpolargl\"}], \"scatterternary\": [{\"marker\": {\"colorbar\": {\"outlinewidth\": 0, \"ticks\": \"\"}}, \"type\": \"scatterternary\"}], \"surface\": [{\"colorbar\": {\"outlinewidth\": 0, \"ticks\": \"\"}, \"colorscale\": [[0.0, \"#0d0887\"], [0.1111111111111111, \"#46039f\"], [0.2222222222222222, \"#7201a8\"], [0.3333333333333333, \"#9c179e\"], [0.4444444444444444, \"#bd3786\"], [0.5555555555555556, \"#d8576b\"], [0.6666666666666666, \"#ed7953\"], [0.7777777777777778, \"#fb9f3a\"], [0.8888888888888888, \"#fdca26\"], [1.0, \"#f0f921\"]], \"type\": \"surface\"}], \"table\": [{\"cells\": {\"fill\": {\"color\": \"#EBF0F8\"}, \"line\": {\"color\": \"white\"}}, \"header\": {\"fill\": {\"color\": \"#C8D4E3\"}, \"line\": {\"color\": \"white\"}}, \"type\": \"table\"}]}, \"layout\": {\"annotationdefaults\": {\"arrowcolor\": \"#2a3f5f\", \"arrowhead\": 0, \"arrowwidth\": 1}, \"coloraxis\": {\"colorbar\": {\"outlinewidth\": 0, \"ticks\": \"\"}}, \"colorscale\": {\"diverging\": [[0, \"#8e0152\"], [0.1, \"#c51b7d\"], [0.2, \"#de77ae\"], [0.3, \"#f1b6da\"], [0.4, \"#fde0ef\"], [0.5, \"#f7f7f7\"], [0.6, \"#e6f5d0\"], [0.7, \"#b8e186\"], [0.8, \"#7fbc41\"], [0.9, \"#4d9221\"], [1, \"#276419\"]], \"sequential\": [[0.0, \"#0d0887\"], [0.1111111111111111, \"#46039f\"], [0.2222222222222222, \"#7201a8\"], [0.3333333333333333, \"#9c179e\"], [0.4444444444444444, \"#bd3786\"], [0.5555555555555556, \"#d8576b\"], [0.6666666666666666, \"#ed7953\"], [0.7777777777777778, \"#fb9f3a\"], [0.8888888888888888, \"#fdca26\"], [1.0, \"#f0f921\"]], \"sequentialminus\": [[0.0, \"#0d0887\"], [0.1111111111111111, \"#46039f\"], [0.2222222222222222, \"#7201a8\"], [0.3333333333333333, \"#9c179e\"], [0.4444444444444444, \"#bd3786\"], [0.5555555555555556, \"#d8576b\"], [0.6666666666666666, \"#ed7953\"], [0.7777777777777778, \"#fb9f3a\"], [0.8888888888888888, \"#fdca26\"], [1.0, \"#f0f921\"]]}, \"colorway\": [\"#636efa\", \"#EF553B\", \"#00cc96\", \"#ab63fa\", \"#FFA15A\", \"#19d3f3\", \"#FF6692\", \"#B6E880\", \"#FF97FF\", \"#FECB52\"], \"font\": {\"color\": \"#2a3f5f\"}, \"geo\": {\"bgcolor\": \"white\", \"lakecolor\": \"white\", \"landcolor\": \"#E5ECF6\", \"showlakes\": true, \"showland\": true, \"subunitcolor\": \"white\"}, \"hoverlabel\": {\"align\": \"left\"}, \"hovermode\": \"closest\", \"mapbox\": {\"style\": \"light\"}, \"paper_bgcolor\": \"white\", \"plot_bgcolor\": \"#E5ECF6\", \"polar\": {\"angularaxis\": {\"gridcolor\": \"white\", \"linecolor\": \"white\", \"ticks\": \"\"}, \"bgcolor\": \"#E5ECF6\", \"radialaxis\": {\"gridcolor\": \"white\", \"linecolor\": \"white\", \"ticks\": \"\"}}, \"scene\": {\"xaxis\": {\"backgroundcolor\": \"#E5ECF6\", \"gridcolor\": \"white\", \"gridwidth\": 2, \"linecolor\": \"white\", \"showbackground\": true, \"ticks\": \"\", \"zerolinecolor\": \"white\"}, \"yaxis\": {\"backgroundcolor\": \"#E5ECF6\", \"gridcolor\": \"white\", \"gridwidth\": 2, \"linecolor\": \"white\", \"showbackground\": true, \"ticks\": \"\", \"zerolinecolor\": \"white\"}, \"zaxis\": {\"backgroundcolor\": \"#E5ECF6\", \"gridcolor\": \"white\", \"gridwidth\": 2, \"linecolor\": \"white\", \"showbackground\": true, \"ticks\": \"\", \"zerolinecolor\": \"white\"}}, \"shapedefaults\": {\"line\": {\"color\": \"#2a3f5f\"}}, \"ternary\": {\"aaxis\": {\"gridcolor\": \"white\", \"linecolor\": \"white\", \"ticks\": \"\"}, \"baxis\": {\"gridcolor\": \"white\", \"linecolor\": \"white\", \"ticks\": \"\"}, \"bgcolor\": \"#E5ECF6\", \"caxis\": {\"gridcolor\": \"white\", \"linecolor\": \"white\", \"ticks\": \"\"}}, \"title\": {\"x\": 0.05}, \"xaxis\": {\"automargin\": true, \"gridcolor\": \"white\", \"linecolor\": \"white\", \"ticks\": \"\", \"title\": {\"standoff\": 15}, \"zerolinecolor\": \"white\", \"zerolinewidth\": 2}, \"yaxis\": {\"automargin\": true, \"gridcolor\": \"white\", \"linecolor\": \"white\", \"ticks\": \"\", \"title\": {\"standoff\": 15}, \"zerolinecolor\": \"white\", \"zerolinewidth\": 2}}}, \"title\": {\"font\": {\"color\": \"#4D5663\"}}, \"xaxis\": {\"gridcolor\": \"#E1E5ED\", \"showgrid\": true, \"tickfont\": {\"color\": \"#4D5663\"}, \"title\": {\"font\": {\"color\": \"#4D5663\"}, \"text\": \"\"}, \"zerolinecolor\": \"#E1E5ED\"}, \"yaxis\": {\"gridcolor\": \"#E1E5ED\", \"showgrid\": true, \"tickfont\": {\"color\": \"#4D5663\"}, \"title\": {\"font\": {\"color\": \"#4D5663\"}, \"text\": \"\"}, \"zerolinecolor\": \"#E1E5ED\"}},\n",
       "                        {\"showLink\": true, \"linkText\": \"Export to plot.ly\", \"plotlyServerURL\": \"https://plot.ly\", \"responsive\": true}\n",
       "                    ).then(function(){\n",
       "                            \n",
       "var gd = document.getElementById('c51064e5-59af-4593-968b-c3a016bd6fca');\n",
       "var x = new MutationObserver(function (mutations, observer) {{\n",
       "        var display = window.getComputedStyle(gd).display;\n",
       "        if (!display || display === 'none') {{\n",
       "            console.log([gd, 'removed!']);\n",
       "            Plotly.purge(gd);\n",
       "            observer.disconnect();\n",
       "        }}\n",
       "}});\n",
       "\n",
       "// Listen for the removal of the full notebook cells\n",
       "var notebookContainer = gd.closest('#notebook-container');\n",
       "if (notebookContainer) {{\n",
       "    x.observe(notebookContainer, {childList: true});\n",
       "}}\n",
       "\n",
       "// Listen for the clearing of the current output cell\n",
       "var outputEl = gd.closest('.output');\n",
       "if (outputEl) {{\n",
       "    x.observe(outputEl, {childList: true});\n",
       "}}\n",
       "\n",
       "                        })\n",
       "                };\n",
       "                });\n",
       "            </script>\n",
       "        </div>"
      ]
     },
     "metadata": {},
     "output_type": "display_data"
    }
   ],
   "source": [
    "df.iplot(kind='box')"
   ]
  },
  {
   "cell_type": "code",
   "execution_count": 29,
   "metadata": {},
   "outputs": [],
   "source": [
    "df3 = pd.DataFrame({'x':[1,2,3,4,5],'y':[10,20,30,20,10],'z':[5,4,3,2,1]})"
   ]
  },
  {
   "cell_type": "code",
   "execution_count": 31,
   "metadata": {},
   "outputs": [
    {
     "data": {
      "text/html": [
       "<div>\n",
       "<style scoped>\n",
       "    .dataframe tbody tr th:only-of-type {\n",
       "        vertical-align: middle;\n",
       "    }\n",
       "\n",
       "    .dataframe tbody tr th {\n",
       "        vertical-align: top;\n",
       "    }\n",
       "\n",
       "    .dataframe thead th {\n",
       "        text-align: right;\n",
       "    }\n",
       "</style>\n",
       "<table border=\"1\" class=\"dataframe\">\n",
       "  <thead>\n",
       "    <tr style=\"text-align: right;\">\n",
       "      <th></th>\n",
       "      <th>x</th>\n",
       "      <th>y</th>\n",
       "      <th>z</th>\n",
       "    </tr>\n",
       "  </thead>\n",
       "  <tbody>\n",
       "    <tr>\n",
       "      <th>0</th>\n",
       "      <td>1</td>\n",
       "      <td>10</td>\n",
       "      <td>5</td>\n",
       "    </tr>\n",
       "    <tr>\n",
       "      <th>1</th>\n",
       "      <td>2</td>\n",
       "      <td>20</td>\n",
       "      <td>4</td>\n",
       "    </tr>\n",
       "    <tr>\n",
       "      <th>2</th>\n",
       "      <td>3</td>\n",
       "      <td>30</td>\n",
       "      <td>3</td>\n",
       "    </tr>\n",
       "    <tr>\n",
       "      <th>3</th>\n",
       "      <td>4</td>\n",
       "      <td>20</td>\n",
       "      <td>2</td>\n",
       "    </tr>\n",
       "    <tr>\n",
       "      <th>4</th>\n",
       "      <td>5</td>\n",
       "      <td>10</td>\n",
       "      <td>1</td>\n",
       "    </tr>\n",
       "  </tbody>\n",
       "</table>\n",
       "</div>"
      ],
      "text/plain": [
       "   x   y  z\n",
       "0  1  10  5\n",
       "1  2  20  4\n",
       "2  3  30  3\n",
       "3  4  20  2\n",
       "4  5  10  1"
      ]
     },
     "execution_count": 31,
     "metadata": {},
     "output_type": "execute_result"
    }
   ],
   "source": [
    "df3"
   ]
  },
  {
   "cell_type": "code",
   "execution_count": 34,
   "metadata": {},
   "outputs": [
    {
     "data": {
      "application/vnd.plotly.v1+json": {
       "config": {
        "linkText": "Export to plot.ly",
        "plotlyServerURL": "https://plot.ly",
        "showLink": true
       },
       "data": [
        {
         "colorscale": [
          [
           0,
           "rgb(165,0,38)"
          ],
          [
           0.1,
           "rgb(215,48,39)"
          ],
          [
           0.2,
           "rgb(244,109,67)"
          ],
          [
           0.3,
           "rgb(253,174,97)"
          ],
          [
           0.4,
           "rgb(254,224,144)"
          ],
          [
           0.5,
           "rgb(255,255,191)"
          ],
          [
           0.6,
           "rgb(224,243,248)"
          ],
          [
           0.7,
           "rgb(171,217,233)"
          ],
          [
           0.8,
           "rgb(116,173,209)"
          ],
          [
           0.9,
           "rgb(69,117,180)"
          ],
          [
           1,
           "rgb(49,54,149)"
          ]
         ],
         "type": "surface",
         "x": [
          0,
          1,
          2,
          3,
          4
         ],
         "y": [
          "x",
          "y",
          "z"
         ],
         "z": [
          [
           1,
           2,
           3,
           4,
           5
          ],
          [
           10,
           20,
           30,
           20,
           10
          ],
          [
           5,
           4,
           3,
           2,
           1
          ]
         ]
        }
       ],
       "layout": {
        "legend": {
         "bgcolor": "#F5F6F9",
         "font": {
          "color": "#4D5663"
         }
        },
        "paper_bgcolor": "#F5F6F9",
        "plot_bgcolor": "#F5F6F9",
        "template": {
         "data": {
          "bar": [
           {
            "error_x": {
             "color": "#2a3f5f"
            },
            "error_y": {
             "color": "#2a3f5f"
            },
            "marker": {
             "line": {
              "color": "#E5ECF6",
              "width": 0.5
             }
            },
            "type": "bar"
           }
          ],
          "barpolar": [
           {
            "marker": {
             "line": {
              "color": "#E5ECF6",
              "width": 0.5
             }
            },
            "type": "barpolar"
           }
          ],
          "carpet": [
           {
            "aaxis": {
             "endlinecolor": "#2a3f5f",
             "gridcolor": "white",
             "linecolor": "white",
             "minorgridcolor": "white",
             "startlinecolor": "#2a3f5f"
            },
            "baxis": {
             "endlinecolor": "#2a3f5f",
             "gridcolor": "white",
             "linecolor": "white",
             "minorgridcolor": "white",
             "startlinecolor": "#2a3f5f"
            },
            "type": "carpet"
           }
          ],
          "choropleth": [
           {
            "colorbar": {
             "outlinewidth": 0,
             "ticks": ""
            },
            "type": "choropleth"
           }
          ],
          "contour": [
           {
            "colorbar": {
             "outlinewidth": 0,
             "ticks": ""
            },
            "colorscale": [
             [
              0,
              "#0d0887"
             ],
             [
              0.1111111111111111,
              "#46039f"
             ],
             [
              0.2222222222222222,
              "#7201a8"
             ],
             [
              0.3333333333333333,
              "#9c179e"
             ],
             [
              0.4444444444444444,
              "#bd3786"
             ],
             [
              0.5555555555555556,
              "#d8576b"
             ],
             [
              0.6666666666666666,
              "#ed7953"
             ],
             [
              0.7777777777777778,
              "#fb9f3a"
             ],
             [
              0.8888888888888888,
              "#fdca26"
             ],
             [
              1,
              "#f0f921"
             ]
            ],
            "type": "contour"
           }
          ],
          "contourcarpet": [
           {
            "colorbar": {
             "outlinewidth": 0,
             "ticks": ""
            },
            "type": "contourcarpet"
           }
          ],
          "heatmap": [
           {
            "colorbar": {
             "outlinewidth": 0,
             "ticks": ""
            },
            "colorscale": [
             [
              0,
              "#0d0887"
             ],
             [
              0.1111111111111111,
              "#46039f"
             ],
             [
              0.2222222222222222,
              "#7201a8"
             ],
             [
              0.3333333333333333,
              "#9c179e"
             ],
             [
              0.4444444444444444,
              "#bd3786"
             ],
             [
              0.5555555555555556,
              "#d8576b"
             ],
             [
              0.6666666666666666,
              "#ed7953"
             ],
             [
              0.7777777777777778,
              "#fb9f3a"
             ],
             [
              0.8888888888888888,
              "#fdca26"
             ],
             [
              1,
              "#f0f921"
             ]
            ],
            "type": "heatmap"
           }
          ],
          "heatmapgl": [
           {
            "colorbar": {
             "outlinewidth": 0,
             "ticks": ""
            },
            "colorscale": [
             [
              0,
              "#0d0887"
             ],
             [
              0.1111111111111111,
              "#46039f"
             ],
             [
              0.2222222222222222,
              "#7201a8"
             ],
             [
              0.3333333333333333,
              "#9c179e"
             ],
             [
              0.4444444444444444,
              "#bd3786"
             ],
             [
              0.5555555555555556,
              "#d8576b"
             ],
             [
              0.6666666666666666,
              "#ed7953"
             ],
             [
              0.7777777777777778,
              "#fb9f3a"
             ],
             [
              0.8888888888888888,
              "#fdca26"
             ],
             [
              1,
              "#f0f921"
             ]
            ],
            "type": "heatmapgl"
           }
          ],
          "histogram": [
           {
            "marker": {
             "colorbar": {
              "outlinewidth": 0,
              "ticks": ""
             }
            },
            "type": "histogram"
           }
          ],
          "histogram2d": [
           {
            "colorbar": {
             "outlinewidth": 0,
             "ticks": ""
            },
            "colorscale": [
             [
              0,
              "#0d0887"
             ],
             [
              0.1111111111111111,
              "#46039f"
             ],
             [
              0.2222222222222222,
              "#7201a8"
             ],
             [
              0.3333333333333333,
              "#9c179e"
             ],
             [
              0.4444444444444444,
              "#bd3786"
             ],
             [
              0.5555555555555556,
              "#d8576b"
             ],
             [
              0.6666666666666666,
              "#ed7953"
             ],
             [
              0.7777777777777778,
              "#fb9f3a"
             ],
             [
              0.8888888888888888,
              "#fdca26"
             ],
             [
              1,
              "#f0f921"
             ]
            ],
            "type": "histogram2d"
           }
          ],
          "histogram2dcontour": [
           {
            "colorbar": {
             "outlinewidth": 0,
             "ticks": ""
            },
            "colorscale": [
             [
              0,
              "#0d0887"
             ],
             [
              0.1111111111111111,
              "#46039f"
             ],
             [
              0.2222222222222222,
              "#7201a8"
             ],
             [
              0.3333333333333333,
              "#9c179e"
             ],
             [
              0.4444444444444444,
              "#bd3786"
             ],
             [
              0.5555555555555556,
              "#d8576b"
             ],
             [
              0.6666666666666666,
              "#ed7953"
             ],
             [
              0.7777777777777778,
              "#fb9f3a"
             ],
             [
              0.8888888888888888,
              "#fdca26"
             ],
             [
              1,
              "#f0f921"
             ]
            ],
            "type": "histogram2dcontour"
           }
          ],
          "mesh3d": [
           {
            "colorbar": {
             "outlinewidth": 0,
             "ticks": ""
            },
            "type": "mesh3d"
           }
          ],
          "parcoords": [
           {
            "line": {
             "colorbar": {
              "outlinewidth": 0,
              "ticks": ""
             }
            },
            "type": "parcoords"
           }
          ],
          "pie": [
           {
            "automargin": true,
            "type": "pie"
           }
          ],
          "scatter": [
           {
            "marker": {
             "colorbar": {
              "outlinewidth": 0,
              "ticks": ""
             }
            },
            "type": "scatter"
           }
          ],
          "scatter3d": [
           {
            "line": {
             "colorbar": {
              "outlinewidth": 0,
              "ticks": ""
             }
            },
            "marker": {
             "colorbar": {
              "outlinewidth": 0,
              "ticks": ""
             }
            },
            "type": "scatter3d"
           }
          ],
          "scattercarpet": [
           {
            "marker": {
             "colorbar": {
              "outlinewidth": 0,
              "ticks": ""
             }
            },
            "type": "scattercarpet"
           }
          ],
          "scattergeo": [
           {
            "marker": {
             "colorbar": {
              "outlinewidth": 0,
              "ticks": ""
             }
            },
            "type": "scattergeo"
           }
          ],
          "scattergl": [
           {
            "marker": {
             "colorbar": {
              "outlinewidth": 0,
              "ticks": ""
             }
            },
            "type": "scattergl"
           }
          ],
          "scattermapbox": [
           {
            "marker": {
             "colorbar": {
              "outlinewidth": 0,
              "ticks": ""
             }
            },
            "type": "scattermapbox"
           }
          ],
          "scatterpolar": [
           {
            "marker": {
             "colorbar": {
              "outlinewidth": 0,
              "ticks": ""
             }
            },
            "type": "scatterpolar"
           }
          ],
          "scatterpolargl": [
           {
            "marker": {
             "colorbar": {
              "outlinewidth": 0,
              "ticks": ""
             }
            },
            "type": "scatterpolargl"
           }
          ],
          "scatterternary": [
           {
            "marker": {
             "colorbar": {
              "outlinewidth": 0,
              "ticks": ""
             }
            },
            "type": "scatterternary"
           }
          ],
          "surface": [
           {
            "colorbar": {
             "outlinewidth": 0,
             "ticks": ""
            },
            "colorscale": [
             [
              0,
              "#0d0887"
             ],
             [
              0.1111111111111111,
              "#46039f"
             ],
             [
              0.2222222222222222,
              "#7201a8"
             ],
             [
              0.3333333333333333,
              "#9c179e"
             ],
             [
              0.4444444444444444,
              "#bd3786"
             ],
             [
              0.5555555555555556,
              "#d8576b"
             ],
             [
              0.6666666666666666,
              "#ed7953"
             ],
             [
              0.7777777777777778,
              "#fb9f3a"
             ],
             [
              0.8888888888888888,
              "#fdca26"
             ],
             [
              1,
              "#f0f921"
             ]
            ],
            "type": "surface"
           }
          ],
          "table": [
           {
            "cells": {
             "fill": {
              "color": "#EBF0F8"
             },
             "line": {
              "color": "white"
             }
            },
            "header": {
             "fill": {
              "color": "#C8D4E3"
             },
             "line": {
              "color": "white"
             }
            },
            "type": "table"
           }
          ]
         },
         "layout": {
          "annotationdefaults": {
           "arrowcolor": "#2a3f5f",
           "arrowhead": 0,
           "arrowwidth": 1
          },
          "coloraxis": {
           "colorbar": {
            "outlinewidth": 0,
            "ticks": ""
           }
          },
          "colorscale": {
           "diverging": [
            [
             0,
             "#8e0152"
            ],
            [
             0.1,
             "#c51b7d"
            ],
            [
             0.2,
             "#de77ae"
            ],
            [
             0.3,
             "#f1b6da"
            ],
            [
             0.4,
             "#fde0ef"
            ],
            [
             0.5,
             "#f7f7f7"
            ],
            [
             0.6,
             "#e6f5d0"
            ],
            [
             0.7,
             "#b8e186"
            ],
            [
             0.8,
             "#7fbc41"
            ],
            [
             0.9,
             "#4d9221"
            ],
            [
             1,
             "#276419"
            ]
           ],
           "sequential": [
            [
             0,
             "#0d0887"
            ],
            [
             0.1111111111111111,
             "#46039f"
            ],
            [
             0.2222222222222222,
             "#7201a8"
            ],
            [
             0.3333333333333333,
             "#9c179e"
            ],
            [
             0.4444444444444444,
             "#bd3786"
            ],
            [
             0.5555555555555556,
             "#d8576b"
            ],
            [
             0.6666666666666666,
             "#ed7953"
            ],
            [
             0.7777777777777778,
             "#fb9f3a"
            ],
            [
             0.8888888888888888,
             "#fdca26"
            ],
            [
             1,
             "#f0f921"
            ]
           ],
           "sequentialminus": [
            [
             0,
             "#0d0887"
            ],
            [
             0.1111111111111111,
             "#46039f"
            ],
            [
             0.2222222222222222,
             "#7201a8"
            ],
            [
             0.3333333333333333,
             "#9c179e"
            ],
            [
             0.4444444444444444,
             "#bd3786"
            ],
            [
             0.5555555555555556,
             "#d8576b"
            ],
            [
             0.6666666666666666,
             "#ed7953"
            ],
            [
             0.7777777777777778,
             "#fb9f3a"
            ],
            [
             0.8888888888888888,
             "#fdca26"
            ],
            [
             1,
             "#f0f921"
            ]
           ]
          },
          "colorway": [
           "#636efa",
           "#EF553B",
           "#00cc96",
           "#ab63fa",
           "#FFA15A",
           "#19d3f3",
           "#FF6692",
           "#B6E880",
           "#FF97FF",
           "#FECB52"
          ],
          "font": {
           "color": "#2a3f5f"
          },
          "geo": {
           "bgcolor": "white",
           "lakecolor": "white",
           "landcolor": "#E5ECF6",
           "showlakes": true,
           "showland": true,
           "subunitcolor": "white"
          },
          "hoverlabel": {
           "align": "left"
          },
          "hovermode": "closest",
          "mapbox": {
           "style": "light"
          },
          "paper_bgcolor": "white",
          "plot_bgcolor": "#E5ECF6",
          "polar": {
           "angularaxis": {
            "gridcolor": "white",
            "linecolor": "white",
            "ticks": ""
           },
           "bgcolor": "#E5ECF6",
           "radialaxis": {
            "gridcolor": "white",
            "linecolor": "white",
            "ticks": ""
           }
          },
          "scene": {
           "xaxis": {
            "backgroundcolor": "#E5ECF6",
            "gridcolor": "white",
            "gridwidth": 2,
            "linecolor": "white",
            "showbackground": true,
            "ticks": "",
            "zerolinecolor": "white"
           },
           "yaxis": {
            "backgroundcolor": "#E5ECF6",
            "gridcolor": "white",
            "gridwidth": 2,
            "linecolor": "white",
            "showbackground": true,
            "ticks": "",
            "zerolinecolor": "white"
           },
           "zaxis": {
            "backgroundcolor": "#E5ECF6",
            "gridcolor": "white",
            "gridwidth": 2,
            "linecolor": "white",
            "showbackground": true,
            "ticks": "",
            "zerolinecolor": "white"
           }
          },
          "shapedefaults": {
           "line": {
            "color": "#2a3f5f"
           }
          },
          "ternary": {
           "aaxis": {
            "gridcolor": "white",
            "linecolor": "white",
            "ticks": ""
           },
           "baxis": {
            "gridcolor": "white",
            "linecolor": "white",
            "ticks": ""
           },
           "bgcolor": "#E5ECF6",
           "caxis": {
            "gridcolor": "white",
            "linecolor": "white",
            "ticks": ""
           }
          },
          "title": {
           "x": 0.05
          },
          "xaxis": {
           "automargin": true,
           "gridcolor": "white",
           "linecolor": "white",
           "ticks": "",
           "title": {
            "standoff": 15
           },
           "zerolinecolor": "white",
           "zerolinewidth": 2
          },
          "yaxis": {
           "automargin": true,
           "gridcolor": "white",
           "linecolor": "white",
           "ticks": "",
           "title": {
            "standoff": 15
           },
           "zerolinecolor": "white",
           "zerolinewidth": 2
          }
         }
        },
        "title": {
         "font": {
          "color": "#4D5663"
         }
        },
        "xaxis": {
         "gridcolor": "#E1E5ED",
         "showgrid": true,
         "tickfont": {
          "color": "#4D5663"
         },
         "title": {
          "font": {
           "color": "#4D5663"
          },
          "text": ""
         },
         "zerolinecolor": "#E1E5ED"
        },
        "yaxis": {
         "gridcolor": "#E1E5ED",
         "showgrid": true,
         "tickfont": {
          "color": "#4D5663"
         },
         "title": {
          "font": {
           "color": "#4D5663"
          },
          "text": ""
         },
         "zerolinecolor": "#E1E5ED"
        }
       }
      },
      "text/html": [
       "<div>\n",
       "        \n",
       "        \n",
       "            <div id=\"240207b3-28b0-4cf3-82d5-09ebf41aab58\" class=\"plotly-graph-div\" style=\"height:525px; width:100%;\"></div>\n",
       "            <script type=\"text/javascript\">\n",
       "                require([\"plotly\"], function(Plotly) {\n",
       "                    window.PLOTLYENV=window.PLOTLYENV || {};\n",
       "                    window.PLOTLYENV.BASE_URL='https://plot.ly';\n",
       "                    \n",
       "                if (document.getElementById(\"240207b3-28b0-4cf3-82d5-09ebf41aab58\")) {\n",
       "                    Plotly.newPlot(\n",
       "                        '240207b3-28b0-4cf3-82d5-09ebf41aab58',\n",
       "                        [{\"colorscale\": [[0.0, \"rgb(165,0,38)\"], [0.1, \"rgb(215,48,39)\"], [0.2, \"rgb(244,109,67)\"], [0.3, \"rgb(253,174,97)\"], [0.4, \"rgb(254,224,144)\"], [0.5, \"rgb(255,255,191)\"], [0.6, \"rgb(224,243,248)\"], [0.7, \"rgb(171,217,233)\"], [0.8, \"rgb(116,173,209)\"], [0.9, \"rgb(69,117,180)\"], [1.0, \"rgb(49,54,149)\"]], \"type\": \"surface\", \"x\": [0, 1, 2, 3, 4], \"y\": [\"x\", \"y\", \"z\"], \"z\": [[1, 2, 3, 4, 5], [10, 20, 30, 20, 10], [5, 4, 3, 2, 1]]}],\n",
       "                        {\"legend\": {\"bgcolor\": \"#F5F6F9\", \"font\": {\"color\": \"#4D5663\"}}, \"paper_bgcolor\": \"#F5F6F9\", \"plot_bgcolor\": \"#F5F6F9\", \"template\": {\"data\": {\"bar\": [{\"error_x\": {\"color\": \"#2a3f5f\"}, \"error_y\": {\"color\": \"#2a3f5f\"}, \"marker\": {\"line\": {\"color\": \"#E5ECF6\", \"width\": 0.5}}, \"type\": \"bar\"}], \"barpolar\": [{\"marker\": {\"line\": {\"color\": \"#E5ECF6\", \"width\": 0.5}}, \"type\": \"barpolar\"}], \"carpet\": [{\"aaxis\": {\"endlinecolor\": \"#2a3f5f\", \"gridcolor\": \"white\", \"linecolor\": \"white\", \"minorgridcolor\": \"white\", \"startlinecolor\": \"#2a3f5f\"}, \"baxis\": {\"endlinecolor\": \"#2a3f5f\", \"gridcolor\": \"white\", \"linecolor\": \"white\", \"minorgridcolor\": \"white\", \"startlinecolor\": \"#2a3f5f\"}, \"type\": \"carpet\"}], \"choropleth\": [{\"colorbar\": {\"outlinewidth\": 0, \"ticks\": \"\"}, \"type\": \"choropleth\"}], \"contour\": [{\"colorbar\": {\"outlinewidth\": 0, \"ticks\": \"\"}, \"colorscale\": [[0.0, \"#0d0887\"], [0.1111111111111111, \"#46039f\"], [0.2222222222222222, \"#7201a8\"], [0.3333333333333333, \"#9c179e\"], [0.4444444444444444, \"#bd3786\"], [0.5555555555555556, \"#d8576b\"], [0.6666666666666666, \"#ed7953\"], [0.7777777777777778, \"#fb9f3a\"], [0.8888888888888888, \"#fdca26\"], [1.0, \"#f0f921\"]], \"type\": \"contour\"}], \"contourcarpet\": [{\"colorbar\": {\"outlinewidth\": 0, \"ticks\": \"\"}, \"type\": \"contourcarpet\"}], \"heatmap\": [{\"colorbar\": {\"outlinewidth\": 0, \"ticks\": \"\"}, \"colorscale\": [[0.0, \"#0d0887\"], [0.1111111111111111, \"#46039f\"], [0.2222222222222222, \"#7201a8\"], [0.3333333333333333, \"#9c179e\"], [0.4444444444444444, \"#bd3786\"], [0.5555555555555556, \"#d8576b\"], [0.6666666666666666, \"#ed7953\"], [0.7777777777777778, \"#fb9f3a\"], [0.8888888888888888, \"#fdca26\"], [1.0, \"#f0f921\"]], \"type\": \"heatmap\"}], \"heatmapgl\": [{\"colorbar\": {\"outlinewidth\": 0, \"ticks\": \"\"}, \"colorscale\": [[0.0, \"#0d0887\"], [0.1111111111111111, \"#46039f\"], [0.2222222222222222, \"#7201a8\"], [0.3333333333333333, \"#9c179e\"], [0.4444444444444444, \"#bd3786\"], [0.5555555555555556, \"#d8576b\"], [0.6666666666666666, \"#ed7953\"], [0.7777777777777778, \"#fb9f3a\"], [0.8888888888888888, \"#fdca26\"], [1.0, \"#f0f921\"]], \"type\": \"heatmapgl\"}], \"histogram\": [{\"marker\": {\"colorbar\": {\"outlinewidth\": 0, \"ticks\": \"\"}}, \"type\": \"histogram\"}], \"histogram2d\": [{\"colorbar\": {\"outlinewidth\": 0, \"ticks\": \"\"}, \"colorscale\": [[0.0, \"#0d0887\"], [0.1111111111111111, \"#46039f\"], [0.2222222222222222, \"#7201a8\"], [0.3333333333333333, \"#9c179e\"], [0.4444444444444444, \"#bd3786\"], [0.5555555555555556, \"#d8576b\"], [0.6666666666666666, \"#ed7953\"], [0.7777777777777778, \"#fb9f3a\"], [0.8888888888888888, \"#fdca26\"], [1.0, \"#f0f921\"]], \"type\": \"histogram2d\"}], \"histogram2dcontour\": [{\"colorbar\": {\"outlinewidth\": 0, \"ticks\": \"\"}, \"colorscale\": [[0.0, \"#0d0887\"], [0.1111111111111111, \"#46039f\"], [0.2222222222222222, \"#7201a8\"], [0.3333333333333333, \"#9c179e\"], [0.4444444444444444, \"#bd3786\"], [0.5555555555555556, \"#d8576b\"], [0.6666666666666666, \"#ed7953\"], [0.7777777777777778, \"#fb9f3a\"], [0.8888888888888888, \"#fdca26\"], [1.0, \"#f0f921\"]], \"type\": \"histogram2dcontour\"}], \"mesh3d\": [{\"colorbar\": {\"outlinewidth\": 0, \"ticks\": \"\"}, \"type\": \"mesh3d\"}], \"parcoords\": [{\"line\": {\"colorbar\": {\"outlinewidth\": 0, \"ticks\": \"\"}}, \"type\": \"parcoords\"}], \"pie\": [{\"automargin\": true, \"type\": \"pie\"}], \"scatter\": [{\"marker\": {\"colorbar\": {\"outlinewidth\": 0, \"ticks\": \"\"}}, \"type\": \"scatter\"}], \"scatter3d\": [{\"line\": {\"colorbar\": {\"outlinewidth\": 0, \"ticks\": \"\"}}, \"marker\": {\"colorbar\": {\"outlinewidth\": 0, \"ticks\": \"\"}}, \"type\": \"scatter3d\"}], \"scattercarpet\": [{\"marker\": {\"colorbar\": {\"outlinewidth\": 0, \"ticks\": \"\"}}, \"type\": \"scattercarpet\"}], \"scattergeo\": [{\"marker\": {\"colorbar\": {\"outlinewidth\": 0, \"ticks\": \"\"}}, \"type\": \"scattergeo\"}], \"scattergl\": [{\"marker\": {\"colorbar\": {\"outlinewidth\": 0, \"ticks\": \"\"}}, \"type\": \"scattergl\"}], \"scattermapbox\": [{\"marker\": {\"colorbar\": {\"outlinewidth\": 0, \"ticks\": \"\"}}, \"type\": \"scattermapbox\"}], \"scatterpolar\": [{\"marker\": {\"colorbar\": {\"outlinewidth\": 0, \"ticks\": \"\"}}, \"type\": \"scatterpolar\"}], \"scatterpolargl\": [{\"marker\": {\"colorbar\": {\"outlinewidth\": 0, \"ticks\": \"\"}}, \"type\": \"scatterpolargl\"}], \"scatterternary\": [{\"marker\": {\"colorbar\": {\"outlinewidth\": 0, \"ticks\": \"\"}}, \"type\": \"scatterternary\"}], \"surface\": [{\"colorbar\": {\"outlinewidth\": 0, \"ticks\": \"\"}, \"colorscale\": [[0.0, \"#0d0887\"], [0.1111111111111111, \"#46039f\"], [0.2222222222222222, \"#7201a8\"], [0.3333333333333333, \"#9c179e\"], [0.4444444444444444, \"#bd3786\"], [0.5555555555555556, \"#d8576b\"], [0.6666666666666666, \"#ed7953\"], [0.7777777777777778, \"#fb9f3a\"], [0.8888888888888888, \"#fdca26\"], [1.0, \"#f0f921\"]], \"type\": \"surface\"}], \"table\": [{\"cells\": {\"fill\": {\"color\": \"#EBF0F8\"}, \"line\": {\"color\": \"white\"}}, \"header\": {\"fill\": {\"color\": \"#C8D4E3\"}, \"line\": {\"color\": \"white\"}}, \"type\": \"table\"}]}, \"layout\": {\"annotationdefaults\": {\"arrowcolor\": \"#2a3f5f\", \"arrowhead\": 0, \"arrowwidth\": 1}, \"coloraxis\": {\"colorbar\": {\"outlinewidth\": 0, \"ticks\": \"\"}}, \"colorscale\": {\"diverging\": [[0, \"#8e0152\"], [0.1, \"#c51b7d\"], [0.2, \"#de77ae\"], [0.3, \"#f1b6da\"], [0.4, \"#fde0ef\"], [0.5, \"#f7f7f7\"], [0.6, \"#e6f5d0\"], [0.7, \"#b8e186\"], [0.8, \"#7fbc41\"], [0.9, \"#4d9221\"], [1, \"#276419\"]], \"sequential\": [[0.0, \"#0d0887\"], [0.1111111111111111, \"#46039f\"], [0.2222222222222222, \"#7201a8\"], [0.3333333333333333, \"#9c179e\"], [0.4444444444444444, \"#bd3786\"], [0.5555555555555556, \"#d8576b\"], [0.6666666666666666, \"#ed7953\"], [0.7777777777777778, \"#fb9f3a\"], [0.8888888888888888, \"#fdca26\"], [1.0, \"#f0f921\"]], \"sequentialminus\": [[0.0, \"#0d0887\"], [0.1111111111111111, \"#46039f\"], [0.2222222222222222, \"#7201a8\"], [0.3333333333333333, \"#9c179e\"], [0.4444444444444444, \"#bd3786\"], [0.5555555555555556, \"#d8576b\"], [0.6666666666666666, \"#ed7953\"], [0.7777777777777778, \"#fb9f3a\"], [0.8888888888888888, \"#fdca26\"], [1.0, \"#f0f921\"]]}, \"colorway\": [\"#636efa\", \"#EF553B\", \"#00cc96\", \"#ab63fa\", \"#FFA15A\", \"#19d3f3\", \"#FF6692\", \"#B6E880\", \"#FF97FF\", \"#FECB52\"], \"font\": {\"color\": \"#2a3f5f\"}, \"geo\": {\"bgcolor\": \"white\", \"lakecolor\": \"white\", \"landcolor\": \"#E5ECF6\", \"showlakes\": true, \"showland\": true, \"subunitcolor\": \"white\"}, \"hoverlabel\": {\"align\": \"left\"}, \"hovermode\": \"closest\", \"mapbox\": {\"style\": \"light\"}, \"paper_bgcolor\": \"white\", \"plot_bgcolor\": \"#E5ECF6\", \"polar\": {\"angularaxis\": {\"gridcolor\": \"white\", \"linecolor\": \"white\", \"ticks\": \"\"}, \"bgcolor\": \"#E5ECF6\", \"radialaxis\": {\"gridcolor\": \"white\", \"linecolor\": \"white\", \"ticks\": \"\"}}, \"scene\": {\"xaxis\": {\"backgroundcolor\": \"#E5ECF6\", \"gridcolor\": \"white\", \"gridwidth\": 2, \"linecolor\": \"white\", \"showbackground\": true, \"ticks\": \"\", \"zerolinecolor\": \"white\"}, \"yaxis\": {\"backgroundcolor\": \"#E5ECF6\", \"gridcolor\": \"white\", \"gridwidth\": 2, \"linecolor\": \"white\", \"showbackground\": true, \"ticks\": \"\", \"zerolinecolor\": \"white\"}, \"zaxis\": {\"backgroundcolor\": \"#E5ECF6\", \"gridcolor\": \"white\", \"gridwidth\": 2, \"linecolor\": \"white\", \"showbackground\": true, \"ticks\": \"\", \"zerolinecolor\": \"white\"}}, \"shapedefaults\": {\"line\": {\"color\": \"#2a3f5f\"}}, \"ternary\": {\"aaxis\": {\"gridcolor\": \"white\", \"linecolor\": \"white\", \"ticks\": \"\"}, \"baxis\": {\"gridcolor\": \"white\", \"linecolor\": \"white\", \"ticks\": \"\"}, \"bgcolor\": \"#E5ECF6\", \"caxis\": {\"gridcolor\": \"white\", \"linecolor\": \"white\", \"ticks\": \"\"}}, \"title\": {\"x\": 0.05}, \"xaxis\": {\"automargin\": true, \"gridcolor\": \"white\", \"linecolor\": \"white\", \"ticks\": \"\", \"title\": {\"standoff\": 15}, \"zerolinecolor\": \"white\", \"zerolinewidth\": 2}, \"yaxis\": {\"automargin\": true, \"gridcolor\": \"white\", \"linecolor\": \"white\", \"ticks\": \"\", \"title\": {\"standoff\": 15}, \"zerolinecolor\": \"white\", \"zerolinewidth\": 2}}}, \"title\": {\"font\": {\"color\": \"#4D5663\"}}, \"xaxis\": {\"gridcolor\": \"#E1E5ED\", \"showgrid\": true, \"tickfont\": {\"color\": \"#4D5663\"}, \"title\": {\"font\": {\"color\": \"#4D5663\"}, \"text\": \"\"}, \"zerolinecolor\": \"#E1E5ED\"}, \"yaxis\": {\"gridcolor\": \"#E1E5ED\", \"showgrid\": true, \"tickfont\": {\"color\": \"#4D5663\"}, \"title\": {\"font\": {\"color\": \"#4D5663\"}, \"text\": \"\"}, \"zerolinecolor\": \"#E1E5ED\"}},\n",
       "                        {\"showLink\": true, \"linkText\": \"Export to plot.ly\", \"plotlyServerURL\": \"https://plot.ly\", \"responsive\": true}\n",
       "                    ).then(function(){\n",
       "                            \n",
       "var gd = document.getElementById('240207b3-28b0-4cf3-82d5-09ebf41aab58');\n",
       "var x = new MutationObserver(function (mutations, observer) {{\n",
       "        var display = window.getComputedStyle(gd).display;\n",
       "        if (!display || display === 'none') {{\n",
       "            console.log([gd, 'removed!']);\n",
       "            Plotly.purge(gd);\n",
       "            observer.disconnect();\n",
       "        }}\n",
       "}});\n",
       "\n",
       "// Listen for the removal of the full notebook cells\n",
       "var notebookContainer = gd.closest('#notebook-container');\n",
       "if (notebookContainer) {{\n",
       "    x.observe(notebookContainer, {childList: true});\n",
       "}}\n",
       "\n",
       "// Listen for the clearing of the current output cell\n",
       "var outputEl = gd.closest('.output');\n",
       "if (outputEl) {{\n",
       "    x.observe(outputEl, {childList: true});\n",
       "}}\n",
       "\n",
       "                        })\n",
       "                };\n",
       "                });\n",
       "            </script>\n",
       "        </div>"
      ]
     },
     "metadata": {},
     "output_type": "display_data"
    }
   ],
   "source": [
    "df3.iplot(kind='surface',colorscale='rdylbu')"
   ]
  },
  {
   "cell_type": "code",
   "execution_count": 37,
   "metadata": {},
   "outputs": [
    {
     "data": {
      "application/vnd.plotly.v1+json": {
       "config": {
        "linkText": "Export to plot.ly",
        "plotlyServerURL": "https://plot.ly",
        "showLink": true
       },
       "data": [
        {
         "histfunc": "count",
         "histnorm": "",
         "marker": {
          "color": "rgba(255, 153, 51, 1.0)",
          "line": {
           "color": "#4D5663",
           "width": 1.3
          }
         },
         "name": "A",
         "nbinsx": 50,
         "opacity": 0.8,
         "orientation": "v",
         "type": "histogram",
         "x": [
          0.0582296909058791,
          -0.02584525376380703,
          0.00233282809989629,
          1.1481746239450044,
          0.24613651723675956,
          -1.0638018398599103,
          -0.21304176589290522,
          -0.8877953781238356,
          0.2408920641467541,
          -0.8396975894960268,
          2.0132202407596353,
          -1.8360206750556003,
          -0.2517700023746602,
          -1.4502799812552967,
          0.4152057826772664,
          -0.8998644155235899,
          0.5982440600673362,
          -0.9759069692250059,
          -1.1973876247754691,
          0.5577122833829123,
          2.310315783202372,
          -1.7961940534317489,
          -0.6572397260969888,
          -1.3376421186203706,
          1.0608517587708919,
          -2.259894369695355,
          1.4606925940258704,
          1.8907728427394275,
          -0.3043119428357968,
          1.9881857367303992,
          0.3901698887479151,
          1.3241022911963933,
          1.0959833079431376,
          -1.2734420037321217,
          -1.3216363381573888,
          0.834565478861918,
          0.6299828498049981,
          2.0786395666444015,
          -1.0791936006443799,
          -1.3790272078160453,
          -1.178945530656404,
          0.22964243572651152,
          -0.029963990967407286,
          -0.43786137324103674,
          0.6356308238712179,
          0.14810106273265564,
          0.5227969542030575,
          1.0543535418382617,
          0.02211756534029964,
          -0.13560799701465331,
          -0.5525218983218556,
          -1.0196807962712457,
          -0.2607666151406072,
          -0.5602173304664195,
          -0.6492750894074405,
          -0.2556935165453845,
          -1.0771115992625304,
          -0.135328085335629,
          -0.04464422947027891,
          -1.161005405176078,
          0.3122523074359768,
          -1.6625191089294775,
          0.34194335491409344,
          0.16470959404488125,
          1.2878181748305546,
          0.5610471493377563,
          -1.444406167736111,
          0.61479147005293,
          2.7365467524952916,
          -0.6323625965306128,
          1.276169138221677,
          -0.048793811614966896,
          -0.6086730440924935,
          0.14012253128489457,
          -0.8621572953507786,
          -1.7685450434583079,
          0.45581637692557153,
          0.7050466998267874,
          0.2814153735282505,
          0.19735245724273506,
          -1.1781923319235064,
          0.38757667877441015,
          0.2906922661543077,
          -1.0313059627582548,
          0.43284154174190126,
          -0.9379419695402221,
          -0.5102362125240482,
          -0.20895028756198047,
          1.4035565803611778,
          -1.0519821869520587,
          0.11992036334528934,
          -1.2473763817788441,
          -0.9440623587862923,
          0.4649388980972195,
          0.8891091225455513,
          -0.05281339848006934,
          1.1826926725138664,
          -0.6496100176207341,
          0.3463146074175848,
          1.245054214730473
         ]
        }
       ],
       "layout": {
        "barmode": "overlay",
        "legend": {
         "bgcolor": "#F5F6F9",
         "font": {
          "color": "#4D5663"
         }
        },
        "paper_bgcolor": "#F5F6F9",
        "plot_bgcolor": "#F5F6F9",
        "template": {
         "data": {
          "bar": [
           {
            "error_x": {
             "color": "#2a3f5f"
            },
            "error_y": {
             "color": "#2a3f5f"
            },
            "marker": {
             "line": {
              "color": "#E5ECF6",
              "width": 0.5
             }
            },
            "type": "bar"
           }
          ],
          "barpolar": [
           {
            "marker": {
             "line": {
              "color": "#E5ECF6",
              "width": 0.5
             }
            },
            "type": "barpolar"
           }
          ],
          "carpet": [
           {
            "aaxis": {
             "endlinecolor": "#2a3f5f",
             "gridcolor": "white",
             "linecolor": "white",
             "minorgridcolor": "white",
             "startlinecolor": "#2a3f5f"
            },
            "baxis": {
             "endlinecolor": "#2a3f5f",
             "gridcolor": "white",
             "linecolor": "white",
             "minorgridcolor": "white",
             "startlinecolor": "#2a3f5f"
            },
            "type": "carpet"
           }
          ],
          "choropleth": [
           {
            "colorbar": {
             "outlinewidth": 0,
             "ticks": ""
            },
            "type": "choropleth"
           }
          ],
          "contour": [
           {
            "colorbar": {
             "outlinewidth": 0,
             "ticks": ""
            },
            "colorscale": [
             [
              0,
              "#0d0887"
             ],
             [
              0.1111111111111111,
              "#46039f"
             ],
             [
              0.2222222222222222,
              "#7201a8"
             ],
             [
              0.3333333333333333,
              "#9c179e"
             ],
             [
              0.4444444444444444,
              "#bd3786"
             ],
             [
              0.5555555555555556,
              "#d8576b"
             ],
             [
              0.6666666666666666,
              "#ed7953"
             ],
             [
              0.7777777777777778,
              "#fb9f3a"
             ],
             [
              0.8888888888888888,
              "#fdca26"
             ],
             [
              1,
              "#f0f921"
             ]
            ],
            "type": "contour"
           }
          ],
          "contourcarpet": [
           {
            "colorbar": {
             "outlinewidth": 0,
             "ticks": ""
            },
            "type": "contourcarpet"
           }
          ],
          "heatmap": [
           {
            "colorbar": {
             "outlinewidth": 0,
             "ticks": ""
            },
            "colorscale": [
             [
              0,
              "#0d0887"
             ],
             [
              0.1111111111111111,
              "#46039f"
             ],
             [
              0.2222222222222222,
              "#7201a8"
             ],
             [
              0.3333333333333333,
              "#9c179e"
             ],
             [
              0.4444444444444444,
              "#bd3786"
             ],
             [
              0.5555555555555556,
              "#d8576b"
             ],
             [
              0.6666666666666666,
              "#ed7953"
             ],
             [
              0.7777777777777778,
              "#fb9f3a"
             ],
             [
              0.8888888888888888,
              "#fdca26"
             ],
             [
              1,
              "#f0f921"
             ]
            ],
            "type": "heatmap"
           }
          ],
          "heatmapgl": [
           {
            "colorbar": {
             "outlinewidth": 0,
             "ticks": ""
            },
            "colorscale": [
             [
              0,
              "#0d0887"
             ],
             [
              0.1111111111111111,
              "#46039f"
             ],
             [
              0.2222222222222222,
              "#7201a8"
             ],
             [
              0.3333333333333333,
              "#9c179e"
             ],
             [
              0.4444444444444444,
              "#bd3786"
             ],
             [
              0.5555555555555556,
              "#d8576b"
             ],
             [
              0.6666666666666666,
              "#ed7953"
             ],
             [
              0.7777777777777778,
              "#fb9f3a"
             ],
             [
              0.8888888888888888,
              "#fdca26"
             ],
             [
              1,
              "#f0f921"
             ]
            ],
            "type": "heatmapgl"
           }
          ],
          "histogram": [
           {
            "marker": {
             "colorbar": {
              "outlinewidth": 0,
              "ticks": ""
             }
            },
            "type": "histogram"
           }
          ],
          "histogram2d": [
           {
            "colorbar": {
             "outlinewidth": 0,
             "ticks": ""
            },
            "colorscale": [
             [
              0,
              "#0d0887"
             ],
             [
              0.1111111111111111,
              "#46039f"
             ],
             [
              0.2222222222222222,
              "#7201a8"
             ],
             [
              0.3333333333333333,
              "#9c179e"
             ],
             [
              0.4444444444444444,
              "#bd3786"
             ],
             [
              0.5555555555555556,
              "#d8576b"
             ],
             [
              0.6666666666666666,
              "#ed7953"
             ],
             [
              0.7777777777777778,
              "#fb9f3a"
             ],
             [
              0.8888888888888888,
              "#fdca26"
             ],
             [
              1,
              "#f0f921"
             ]
            ],
            "type": "histogram2d"
           }
          ],
          "histogram2dcontour": [
           {
            "colorbar": {
             "outlinewidth": 0,
             "ticks": ""
            },
            "colorscale": [
             [
              0,
              "#0d0887"
             ],
             [
              0.1111111111111111,
              "#46039f"
             ],
             [
              0.2222222222222222,
              "#7201a8"
             ],
             [
              0.3333333333333333,
              "#9c179e"
             ],
             [
              0.4444444444444444,
              "#bd3786"
             ],
             [
              0.5555555555555556,
              "#d8576b"
             ],
             [
              0.6666666666666666,
              "#ed7953"
             ],
             [
              0.7777777777777778,
              "#fb9f3a"
             ],
             [
              0.8888888888888888,
              "#fdca26"
             ],
             [
              1,
              "#f0f921"
             ]
            ],
            "type": "histogram2dcontour"
           }
          ],
          "mesh3d": [
           {
            "colorbar": {
             "outlinewidth": 0,
             "ticks": ""
            },
            "type": "mesh3d"
           }
          ],
          "parcoords": [
           {
            "line": {
             "colorbar": {
              "outlinewidth": 0,
              "ticks": ""
             }
            },
            "type": "parcoords"
           }
          ],
          "pie": [
           {
            "automargin": true,
            "type": "pie"
           }
          ],
          "scatter": [
           {
            "marker": {
             "colorbar": {
              "outlinewidth": 0,
              "ticks": ""
             }
            },
            "type": "scatter"
           }
          ],
          "scatter3d": [
           {
            "line": {
             "colorbar": {
              "outlinewidth": 0,
              "ticks": ""
             }
            },
            "marker": {
             "colorbar": {
              "outlinewidth": 0,
              "ticks": ""
             }
            },
            "type": "scatter3d"
           }
          ],
          "scattercarpet": [
           {
            "marker": {
             "colorbar": {
              "outlinewidth": 0,
              "ticks": ""
             }
            },
            "type": "scattercarpet"
           }
          ],
          "scattergeo": [
           {
            "marker": {
             "colorbar": {
              "outlinewidth": 0,
              "ticks": ""
             }
            },
            "type": "scattergeo"
           }
          ],
          "scattergl": [
           {
            "marker": {
             "colorbar": {
              "outlinewidth": 0,
              "ticks": ""
             }
            },
            "type": "scattergl"
           }
          ],
          "scattermapbox": [
           {
            "marker": {
             "colorbar": {
              "outlinewidth": 0,
              "ticks": ""
             }
            },
            "type": "scattermapbox"
           }
          ],
          "scatterpolar": [
           {
            "marker": {
             "colorbar": {
              "outlinewidth": 0,
              "ticks": ""
             }
            },
            "type": "scatterpolar"
           }
          ],
          "scatterpolargl": [
           {
            "marker": {
             "colorbar": {
              "outlinewidth": 0,
              "ticks": ""
             }
            },
            "type": "scatterpolargl"
           }
          ],
          "scatterternary": [
           {
            "marker": {
             "colorbar": {
              "outlinewidth": 0,
              "ticks": ""
             }
            },
            "type": "scatterternary"
           }
          ],
          "surface": [
           {
            "colorbar": {
             "outlinewidth": 0,
             "ticks": ""
            },
            "colorscale": [
             [
              0,
              "#0d0887"
             ],
             [
              0.1111111111111111,
              "#46039f"
             ],
             [
              0.2222222222222222,
              "#7201a8"
             ],
             [
              0.3333333333333333,
              "#9c179e"
             ],
             [
              0.4444444444444444,
              "#bd3786"
             ],
             [
              0.5555555555555556,
              "#d8576b"
             ],
             [
              0.6666666666666666,
              "#ed7953"
             ],
             [
              0.7777777777777778,
              "#fb9f3a"
             ],
             [
              0.8888888888888888,
              "#fdca26"
             ],
             [
              1,
              "#f0f921"
             ]
            ],
            "type": "surface"
           }
          ],
          "table": [
           {
            "cells": {
             "fill": {
              "color": "#EBF0F8"
             },
             "line": {
              "color": "white"
             }
            },
            "header": {
             "fill": {
              "color": "#C8D4E3"
             },
             "line": {
              "color": "white"
             }
            },
            "type": "table"
           }
          ]
         },
         "layout": {
          "annotationdefaults": {
           "arrowcolor": "#2a3f5f",
           "arrowhead": 0,
           "arrowwidth": 1
          },
          "coloraxis": {
           "colorbar": {
            "outlinewidth": 0,
            "ticks": ""
           }
          },
          "colorscale": {
           "diverging": [
            [
             0,
             "#8e0152"
            ],
            [
             0.1,
             "#c51b7d"
            ],
            [
             0.2,
             "#de77ae"
            ],
            [
             0.3,
             "#f1b6da"
            ],
            [
             0.4,
             "#fde0ef"
            ],
            [
             0.5,
             "#f7f7f7"
            ],
            [
             0.6,
             "#e6f5d0"
            ],
            [
             0.7,
             "#b8e186"
            ],
            [
             0.8,
             "#7fbc41"
            ],
            [
             0.9,
             "#4d9221"
            ],
            [
             1,
             "#276419"
            ]
           ],
           "sequential": [
            [
             0,
             "#0d0887"
            ],
            [
             0.1111111111111111,
             "#46039f"
            ],
            [
             0.2222222222222222,
             "#7201a8"
            ],
            [
             0.3333333333333333,
             "#9c179e"
            ],
            [
             0.4444444444444444,
             "#bd3786"
            ],
            [
             0.5555555555555556,
             "#d8576b"
            ],
            [
             0.6666666666666666,
             "#ed7953"
            ],
            [
             0.7777777777777778,
             "#fb9f3a"
            ],
            [
             0.8888888888888888,
             "#fdca26"
            ],
            [
             1,
             "#f0f921"
            ]
           ],
           "sequentialminus": [
            [
             0,
             "#0d0887"
            ],
            [
             0.1111111111111111,
             "#46039f"
            ],
            [
             0.2222222222222222,
             "#7201a8"
            ],
            [
             0.3333333333333333,
             "#9c179e"
            ],
            [
             0.4444444444444444,
             "#bd3786"
            ],
            [
             0.5555555555555556,
             "#d8576b"
            ],
            [
             0.6666666666666666,
             "#ed7953"
            ],
            [
             0.7777777777777778,
             "#fb9f3a"
            ],
            [
             0.8888888888888888,
             "#fdca26"
            ],
            [
             1,
             "#f0f921"
            ]
           ]
          },
          "colorway": [
           "#636efa",
           "#EF553B",
           "#00cc96",
           "#ab63fa",
           "#FFA15A",
           "#19d3f3",
           "#FF6692",
           "#B6E880",
           "#FF97FF",
           "#FECB52"
          ],
          "font": {
           "color": "#2a3f5f"
          },
          "geo": {
           "bgcolor": "white",
           "lakecolor": "white",
           "landcolor": "#E5ECF6",
           "showlakes": true,
           "showland": true,
           "subunitcolor": "white"
          },
          "hoverlabel": {
           "align": "left"
          },
          "hovermode": "closest",
          "mapbox": {
           "style": "light"
          },
          "paper_bgcolor": "white",
          "plot_bgcolor": "#E5ECF6",
          "polar": {
           "angularaxis": {
            "gridcolor": "white",
            "linecolor": "white",
            "ticks": ""
           },
           "bgcolor": "#E5ECF6",
           "radialaxis": {
            "gridcolor": "white",
            "linecolor": "white",
            "ticks": ""
           }
          },
          "scene": {
           "xaxis": {
            "backgroundcolor": "#E5ECF6",
            "gridcolor": "white",
            "gridwidth": 2,
            "linecolor": "white",
            "showbackground": true,
            "ticks": "",
            "zerolinecolor": "white"
           },
           "yaxis": {
            "backgroundcolor": "#E5ECF6",
            "gridcolor": "white",
            "gridwidth": 2,
            "linecolor": "white",
            "showbackground": true,
            "ticks": "",
            "zerolinecolor": "white"
           },
           "zaxis": {
            "backgroundcolor": "#E5ECF6",
            "gridcolor": "white",
            "gridwidth": 2,
            "linecolor": "white",
            "showbackground": true,
            "ticks": "",
            "zerolinecolor": "white"
           }
          },
          "shapedefaults": {
           "line": {
            "color": "#2a3f5f"
           }
          },
          "ternary": {
           "aaxis": {
            "gridcolor": "white",
            "linecolor": "white",
            "ticks": ""
           },
           "baxis": {
            "gridcolor": "white",
            "linecolor": "white",
            "ticks": ""
           },
           "bgcolor": "#E5ECF6",
           "caxis": {
            "gridcolor": "white",
            "linecolor": "white",
            "ticks": ""
           }
          },
          "title": {
           "x": 0.05
          },
          "xaxis": {
           "automargin": true,
           "gridcolor": "white",
           "linecolor": "white",
           "ticks": "",
           "title": {
            "standoff": 15
           },
           "zerolinecolor": "white",
           "zerolinewidth": 2
          },
          "yaxis": {
           "automargin": true,
           "gridcolor": "white",
           "linecolor": "white",
           "ticks": "",
           "title": {
            "standoff": 15
           },
           "zerolinecolor": "white",
           "zerolinewidth": 2
          }
         }
        },
        "title": {
         "font": {
          "color": "#4D5663"
         }
        },
        "xaxis": {
         "gridcolor": "#E1E5ED",
         "showgrid": true,
         "tickfont": {
          "color": "#4D5663"
         },
         "title": {
          "font": {
           "color": "#4D5663"
          },
          "text": ""
         },
         "zerolinecolor": "#E1E5ED"
        },
        "yaxis": {
         "gridcolor": "#E1E5ED",
         "showgrid": true,
         "tickfont": {
          "color": "#4D5663"
         },
         "title": {
          "font": {
           "color": "#4D5663"
          },
          "text": ""
         },
         "zerolinecolor": "#E1E5ED"
        }
       }
      },
      "text/html": [
       "<div>\n",
       "        \n",
       "        \n",
       "            <div id=\"3b18ffc4-91ba-4004-abea-257ec088a43d\" class=\"plotly-graph-div\" style=\"height:525px; width:100%;\"></div>\n",
       "            <script type=\"text/javascript\">\n",
       "                require([\"plotly\"], function(Plotly) {\n",
       "                    window.PLOTLYENV=window.PLOTLYENV || {};\n",
       "                    window.PLOTLYENV.BASE_URL='https://plot.ly';\n",
       "                    \n",
       "                if (document.getElementById(\"3b18ffc4-91ba-4004-abea-257ec088a43d\")) {\n",
       "                    Plotly.newPlot(\n",
       "                        '3b18ffc4-91ba-4004-abea-257ec088a43d',\n",
       "                        [{\"histfunc\": \"count\", \"histnorm\": \"\", \"marker\": {\"color\": \"rgba(255, 153, 51, 1.0)\", \"line\": {\"color\": \"#4D5663\", \"width\": 1.3}}, \"name\": \"A\", \"nbinsx\": 50, \"opacity\": 0.8, \"orientation\": \"v\", \"type\": \"histogram\", \"x\": [0.0582296909058791, -0.02584525376380703, 0.00233282809989629, 1.1481746239450044, 0.24613651723675956, -1.0638018398599103, -0.21304176589290522, -0.8877953781238356, 0.2408920641467541, -0.8396975894960268, 2.0132202407596353, -1.8360206750556003, -0.2517700023746602, -1.4502799812552967, 0.4152057826772664, -0.8998644155235899, 0.5982440600673362, -0.9759069692250059, -1.1973876247754691, 0.5577122833829123, 2.310315783202372, -1.7961940534317489, -0.6572397260969888, -1.3376421186203706, 1.0608517587708919, -2.259894369695355, 1.4606925940258704, 1.8907728427394275, -0.3043119428357968, 1.9881857367303992, 0.3901698887479151, 1.3241022911963933, 1.0959833079431376, -1.2734420037321217, -1.3216363381573888, 0.834565478861918, 0.6299828498049981, 2.0786395666444015, -1.0791936006443799, -1.3790272078160453, -1.178945530656404, 0.22964243572651152, -0.029963990967407286, -0.43786137324103674, 0.6356308238712179, 0.14810106273265564, 0.5227969542030575, 1.0543535418382617, 0.02211756534029964, -0.13560799701465331, -0.5525218983218556, -1.0196807962712457, -0.2607666151406072, -0.5602173304664195, -0.6492750894074405, -0.2556935165453845, -1.0771115992625304, -0.135328085335629, -0.04464422947027891, -1.161005405176078, 0.3122523074359768, -1.6625191089294775, 0.34194335491409344, 0.16470959404488125, 1.2878181748305546, 0.5610471493377563, -1.444406167736111, 0.61479147005293, 2.7365467524952916, -0.6323625965306128, 1.276169138221677, -0.048793811614966896, -0.6086730440924935, 0.14012253128489457, -0.8621572953507786, -1.7685450434583079, 0.45581637692557153, 0.7050466998267874, 0.2814153735282505, 0.19735245724273506, -1.1781923319235064, 0.38757667877441015, 0.2906922661543077, -1.0313059627582548, 0.43284154174190126, -0.9379419695402221, -0.5102362125240482, -0.20895028756198047, 1.4035565803611778, -1.0519821869520587, 0.11992036334528934, -1.2473763817788441, -0.9440623587862923, 0.4649388980972195, 0.8891091225455513, -0.05281339848006934, 1.1826926725138664, -0.6496100176207341, 0.3463146074175848, 1.245054214730473]}],\n",
       "                        {\"barmode\": \"overlay\", \"legend\": {\"bgcolor\": \"#F5F6F9\", \"font\": {\"color\": \"#4D5663\"}}, \"paper_bgcolor\": \"#F5F6F9\", \"plot_bgcolor\": \"#F5F6F9\", \"template\": {\"data\": {\"bar\": [{\"error_x\": {\"color\": \"#2a3f5f\"}, \"error_y\": {\"color\": \"#2a3f5f\"}, \"marker\": {\"line\": {\"color\": \"#E5ECF6\", \"width\": 0.5}}, \"type\": \"bar\"}], \"barpolar\": [{\"marker\": {\"line\": {\"color\": \"#E5ECF6\", \"width\": 0.5}}, \"type\": \"barpolar\"}], \"carpet\": [{\"aaxis\": {\"endlinecolor\": \"#2a3f5f\", \"gridcolor\": \"white\", \"linecolor\": \"white\", \"minorgridcolor\": \"white\", \"startlinecolor\": \"#2a3f5f\"}, \"baxis\": {\"endlinecolor\": \"#2a3f5f\", \"gridcolor\": \"white\", \"linecolor\": \"white\", \"minorgridcolor\": \"white\", \"startlinecolor\": \"#2a3f5f\"}, \"type\": \"carpet\"}], \"choropleth\": [{\"colorbar\": {\"outlinewidth\": 0, \"ticks\": \"\"}, \"type\": \"choropleth\"}], \"contour\": [{\"colorbar\": {\"outlinewidth\": 0, \"ticks\": \"\"}, \"colorscale\": [[0.0, \"#0d0887\"], [0.1111111111111111, \"#46039f\"], [0.2222222222222222, \"#7201a8\"], [0.3333333333333333, \"#9c179e\"], [0.4444444444444444, \"#bd3786\"], [0.5555555555555556, \"#d8576b\"], [0.6666666666666666, \"#ed7953\"], [0.7777777777777778, \"#fb9f3a\"], [0.8888888888888888, \"#fdca26\"], [1.0, \"#f0f921\"]], \"type\": \"contour\"}], \"contourcarpet\": [{\"colorbar\": {\"outlinewidth\": 0, \"ticks\": \"\"}, \"type\": \"contourcarpet\"}], \"heatmap\": [{\"colorbar\": {\"outlinewidth\": 0, \"ticks\": \"\"}, \"colorscale\": [[0.0, \"#0d0887\"], [0.1111111111111111, \"#46039f\"], [0.2222222222222222, \"#7201a8\"], [0.3333333333333333, \"#9c179e\"], [0.4444444444444444, \"#bd3786\"], [0.5555555555555556, \"#d8576b\"], [0.6666666666666666, \"#ed7953\"], [0.7777777777777778, \"#fb9f3a\"], [0.8888888888888888, \"#fdca26\"], [1.0, \"#f0f921\"]], \"type\": \"heatmap\"}], \"heatmapgl\": [{\"colorbar\": {\"outlinewidth\": 0, \"ticks\": \"\"}, \"colorscale\": [[0.0, \"#0d0887\"], [0.1111111111111111, \"#46039f\"], [0.2222222222222222, \"#7201a8\"], [0.3333333333333333, \"#9c179e\"], [0.4444444444444444, \"#bd3786\"], [0.5555555555555556, \"#d8576b\"], [0.6666666666666666, \"#ed7953\"], [0.7777777777777778, \"#fb9f3a\"], [0.8888888888888888, \"#fdca26\"], [1.0, \"#f0f921\"]], \"type\": \"heatmapgl\"}], \"histogram\": [{\"marker\": {\"colorbar\": {\"outlinewidth\": 0, \"ticks\": \"\"}}, \"type\": \"histogram\"}], \"histogram2d\": [{\"colorbar\": {\"outlinewidth\": 0, \"ticks\": \"\"}, \"colorscale\": [[0.0, \"#0d0887\"], [0.1111111111111111, \"#46039f\"], [0.2222222222222222, \"#7201a8\"], [0.3333333333333333, \"#9c179e\"], [0.4444444444444444, \"#bd3786\"], [0.5555555555555556, \"#d8576b\"], [0.6666666666666666, \"#ed7953\"], [0.7777777777777778, \"#fb9f3a\"], [0.8888888888888888, \"#fdca26\"], [1.0, \"#f0f921\"]], \"type\": \"histogram2d\"}], \"histogram2dcontour\": [{\"colorbar\": {\"outlinewidth\": 0, \"ticks\": \"\"}, \"colorscale\": [[0.0, \"#0d0887\"], [0.1111111111111111, \"#46039f\"], [0.2222222222222222, \"#7201a8\"], [0.3333333333333333, \"#9c179e\"], [0.4444444444444444, \"#bd3786\"], [0.5555555555555556, \"#d8576b\"], [0.6666666666666666, \"#ed7953\"], [0.7777777777777778, \"#fb9f3a\"], [0.8888888888888888, \"#fdca26\"], [1.0, \"#f0f921\"]], \"type\": \"histogram2dcontour\"}], \"mesh3d\": [{\"colorbar\": {\"outlinewidth\": 0, \"ticks\": \"\"}, \"type\": \"mesh3d\"}], \"parcoords\": [{\"line\": {\"colorbar\": {\"outlinewidth\": 0, \"ticks\": \"\"}}, \"type\": \"parcoords\"}], \"pie\": [{\"automargin\": true, \"type\": \"pie\"}], \"scatter\": [{\"marker\": {\"colorbar\": {\"outlinewidth\": 0, \"ticks\": \"\"}}, \"type\": \"scatter\"}], \"scatter3d\": [{\"line\": {\"colorbar\": {\"outlinewidth\": 0, \"ticks\": \"\"}}, \"marker\": {\"colorbar\": {\"outlinewidth\": 0, \"ticks\": \"\"}}, \"type\": \"scatter3d\"}], \"scattercarpet\": [{\"marker\": {\"colorbar\": {\"outlinewidth\": 0, \"ticks\": \"\"}}, \"type\": \"scattercarpet\"}], \"scattergeo\": [{\"marker\": {\"colorbar\": {\"outlinewidth\": 0, \"ticks\": \"\"}}, \"type\": \"scattergeo\"}], \"scattergl\": [{\"marker\": {\"colorbar\": {\"outlinewidth\": 0, \"ticks\": \"\"}}, \"type\": \"scattergl\"}], \"scattermapbox\": [{\"marker\": {\"colorbar\": {\"outlinewidth\": 0, \"ticks\": \"\"}}, \"type\": \"scattermapbox\"}], \"scatterpolar\": [{\"marker\": {\"colorbar\": {\"outlinewidth\": 0, \"ticks\": \"\"}}, \"type\": \"scatterpolar\"}], \"scatterpolargl\": [{\"marker\": {\"colorbar\": {\"outlinewidth\": 0, \"ticks\": \"\"}}, \"type\": \"scatterpolargl\"}], \"scatterternary\": [{\"marker\": {\"colorbar\": {\"outlinewidth\": 0, \"ticks\": \"\"}}, \"type\": \"scatterternary\"}], \"surface\": [{\"colorbar\": {\"outlinewidth\": 0, \"ticks\": \"\"}, \"colorscale\": [[0.0, \"#0d0887\"], [0.1111111111111111, \"#46039f\"], [0.2222222222222222, \"#7201a8\"], [0.3333333333333333, \"#9c179e\"], [0.4444444444444444, \"#bd3786\"], [0.5555555555555556, \"#d8576b\"], [0.6666666666666666, \"#ed7953\"], [0.7777777777777778, \"#fb9f3a\"], [0.8888888888888888, \"#fdca26\"], [1.0, \"#f0f921\"]], \"type\": \"surface\"}], \"table\": [{\"cells\": {\"fill\": {\"color\": \"#EBF0F8\"}, \"line\": {\"color\": \"white\"}}, \"header\": {\"fill\": {\"color\": \"#C8D4E3\"}, \"line\": {\"color\": \"white\"}}, \"type\": \"table\"}]}, \"layout\": {\"annotationdefaults\": {\"arrowcolor\": \"#2a3f5f\", \"arrowhead\": 0, \"arrowwidth\": 1}, \"coloraxis\": {\"colorbar\": {\"outlinewidth\": 0, \"ticks\": \"\"}}, \"colorscale\": {\"diverging\": [[0, \"#8e0152\"], [0.1, \"#c51b7d\"], [0.2, \"#de77ae\"], [0.3, \"#f1b6da\"], [0.4, \"#fde0ef\"], [0.5, \"#f7f7f7\"], [0.6, \"#e6f5d0\"], [0.7, \"#b8e186\"], [0.8, \"#7fbc41\"], [0.9, \"#4d9221\"], [1, \"#276419\"]], \"sequential\": [[0.0, \"#0d0887\"], [0.1111111111111111, \"#46039f\"], [0.2222222222222222, \"#7201a8\"], [0.3333333333333333, \"#9c179e\"], [0.4444444444444444, \"#bd3786\"], [0.5555555555555556, \"#d8576b\"], [0.6666666666666666, \"#ed7953\"], [0.7777777777777778, \"#fb9f3a\"], [0.8888888888888888, \"#fdca26\"], [1.0, \"#f0f921\"]], \"sequentialminus\": [[0.0, \"#0d0887\"], [0.1111111111111111, \"#46039f\"], [0.2222222222222222, \"#7201a8\"], [0.3333333333333333, \"#9c179e\"], [0.4444444444444444, \"#bd3786\"], [0.5555555555555556, \"#d8576b\"], [0.6666666666666666, \"#ed7953\"], [0.7777777777777778, \"#fb9f3a\"], [0.8888888888888888, \"#fdca26\"], [1.0, \"#f0f921\"]]}, \"colorway\": [\"#636efa\", \"#EF553B\", \"#00cc96\", \"#ab63fa\", \"#FFA15A\", \"#19d3f3\", \"#FF6692\", \"#B6E880\", \"#FF97FF\", \"#FECB52\"], \"font\": {\"color\": \"#2a3f5f\"}, \"geo\": {\"bgcolor\": \"white\", \"lakecolor\": \"white\", \"landcolor\": \"#E5ECF6\", \"showlakes\": true, \"showland\": true, \"subunitcolor\": \"white\"}, \"hoverlabel\": {\"align\": \"left\"}, \"hovermode\": \"closest\", \"mapbox\": {\"style\": \"light\"}, \"paper_bgcolor\": \"white\", \"plot_bgcolor\": \"#E5ECF6\", \"polar\": {\"angularaxis\": {\"gridcolor\": \"white\", \"linecolor\": \"white\", \"ticks\": \"\"}, \"bgcolor\": \"#E5ECF6\", \"radialaxis\": {\"gridcolor\": \"white\", \"linecolor\": \"white\", \"ticks\": \"\"}}, \"scene\": {\"xaxis\": {\"backgroundcolor\": \"#E5ECF6\", \"gridcolor\": \"white\", \"gridwidth\": 2, \"linecolor\": \"white\", \"showbackground\": true, \"ticks\": \"\", \"zerolinecolor\": \"white\"}, \"yaxis\": {\"backgroundcolor\": \"#E5ECF6\", \"gridcolor\": \"white\", \"gridwidth\": 2, \"linecolor\": \"white\", \"showbackground\": true, \"ticks\": \"\", \"zerolinecolor\": \"white\"}, \"zaxis\": {\"backgroundcolor\": \"#E5ECF6\", \"gridcolor\": \"white\", \"gridwidth\": 2, \"linecolor\": \"white\", \"showbackground\": true, \"ticks\": \"\", \"zerolinecolor\": \"white\"}}, \"shapedefaults\": {\"line\": {\"color\": \"#2a3f5f\"}}, \"ternary\": {\"aaxis\": {\"gridcolor\": \"white\", \"linecolor\": \"white\", \"ticks\": \"\"}, \"baxis\": {\"gridcolor\": \"white\", \"linecolor\": \"white\", \"ticks\": \"\"}, \"bgcolor\": \"#E5ECF6\", \"caxis\": {\"gridcolor\": \"white\", \"linecolor\": \"white\", \"ticks\": \"\"}}, \"title\": {\"x\": 0.05}, \"xaxis\": {\"automargin\": true, \"gridcolor\": \"white\", \"linecolor\": \"white\", \"ticks\": \"\", \"title\": {\"standoff\": 15}, \"zerolinecolor\": \"white\", \"zerolinewidth\": 2}, \"yaxis\": {\"automargin\": true, \"gridcolor\": \"white\", \"linecolor\": \"white\", \"ticks\": \"\", \"title\": {\"standoff\": 15}, \"zerolinecolor\": \"white\", \"zerolinewidth\": 2}}}, \"title\": {\"font\": {\"color\": \"#4D5663\"}}, \"xaxis\": {\"gridcolor\": \"#E1E5ED\", \"showgrid\": true, \"tickfont\": {\"color\": \"#4D5663\"}, \"title\": {\"font\": {\"color\": \"#4D5663\"}, \"text\": \"\"}, \"zerolinecolor\": \"#E1E5ED\"}, \"yaxis\": {\"gridcolor\": \"#E1E5ED\", \"showgrid\": true, \"tickfont\": {\"color\": \"#4D5663\"}, \"title\": {\"font\": {\"color\": \"#4D5663\"}, \"text\": \"\"}, \"zerolinecolor\": \"#E1E5ED\"}},\n",
       "                        {\"showLink\": true, \"linkText\": \"Export to plot.ly\", \"plotlyServerURL\": \"https://plot.ly\", \"responsive\": true}\n",
       "                    ).then(function(){\n",
       "                            \n",
       "var gd = document.getElementById('3b18ffc4-91ba-4004-abea-257ec088a43d');\n",
       "var x = new MutationObserver(function (mutations, observer) {{\n",
       "        var display = window.getComputedStyle(gd).display;\n",
       "        if (!display || display === 'none') {{\n",
       "            console.log([gd, 'removed!']);\n",
       "            Plotly.purge(gd);\n",
       "            observer.disconnect();\n",
       "        }}\n",
       "}});\n",
       "\n",
       "// Listen for the removal of the full notebook cells\n",
       "var notebookContainer = gd.closest('#notebook-container');\n",
       "if (notebookContainer) {{\n",
       "    x.observe(notebookContainer, {childList: true});\n",
       "}}\n",
       "\n",
       "// Listen for the clearing of the current output cell\n",
       "var outputEl = gd.closest('.output');\n",
       "if (outputEl) {{\n",
       "    x.observe(outputEl, {childList: true});\n",
       "}}\n",
       "\n",
       "                        })\n",
       "                };\n",
       "                });\n",
       "            </script>\n",
       "        </div>"
      ]
     },
     "metadata": {},
     "output_type": "display_data"
    }
   ],
   "source": [
    "df['A'].iplot(kind='hist',bins=50)"
   ]
  },
  {
   "cell_type": "code",
   "execution_count": 36,
   "metadata": {},
   "outputs": [
    {
     "data": {
      "application/vnd.plotly.v1+json": {
       "config": {
        "linkText": "Export to plot.ly",
        "plotlyServerURL": "https://plot.ly",
        "showLink": true
       },
       "data": [
        {
         "histfunc": "count",
         "histnorm": "",
         "marker": {
          "color": "rgba(255, 153, 51, 1.0)",
          "line": {
           "color": "#4D5663",
           "width": 1.3
          }
         },
         "name": "A",
         "opacity": 0.8,
         "orientation": "v",
         "type": "histogram",
         "x": [
          0.0582296909058791,
          -0.02584525376380703,
          0.00233282809989629,
          1.1481746239450044,
          0.24613651723675956,
          -1.0638018398599103,
          -0.21304176589290522,
          -0.8877953781238356,
          0.2408920641467541,
          -0.8396975894960268,
          2.0132202407596353,
          -1.8360206750556003,
          -0.2517700023746602,
          -1.4502799812552967,
          0.4152057826772664,
          -0.8998644155235899,
          0.5982440600673362,
          -0.9759069692250059,
          -1.1973876247754691,
          0.5577122833829123,
          2.310315783202372,
          -1.7961940534317489,
          -0.6572397260969888,
          -1.3376421186203706,
          1.0608517587708919,
          -2.259894369695355,
          1.4606925940258704,
          1.8907728427394275,
          -0.3043119428357968,
          1.9881857367303992,
          0.3901698887479151,
          1.3241022911963933,
          1.0959833079431376,
          -1.2734420037321217,
          -1.3216363381573888,
          0.834565478861918,
          0.6299828498049981,
          2.0786395666444015,
          -1.0791936006443799,
          -1.3790272078160453,
          -1.178945530656404,
          0.22964243572651152,
          -0.029963990967407286,
          -0.43786137324103674,
          0.6356308238712179,
          0.14810106273265564,
          0.5227969542030575,
          1.0543535418382617,
          0.02211756534029964,
          -0.13560799701465331,
          -0.5525218983218556,
          -1.0196807962712457,
          -0.2607666151406072,
          -0.5602173304664195,
          -0.6492750894074405,
          -0.2556935165453845,
          -1.0771115992625304,
          -0.135328085335629,
          -0.04464422947027891,
          -1.161005405176078,
          0.3122523074359768,
          -1.6625191089294775,
          0.34194335491409344,
          0.16470959404488125,
          1.2878181748305546,
          0.5610471493377563,
          -1.444406167736111,
          0.61479147005293,
          2.7365467524952916,
          -0.6323625965306128,
          1.276169138221677,
          -0.048793811614966896,
          -0.6086730440924935,
          0.14012253128489457,
          -0.8621572953507786,
          -1.7685450434583079,
          0.45581637692557153,
          0.7050466998267874,
          0.2814153735282505,
          0.19735245724273506,
          -1.1781923319235064,
          0.38757667877441015,
          0.2906922661543077,
          -1.0313059627582548,
          0.43284154174190126,
          -0.9379419695402221,
          -0.5102362125240482,
          -0.20895028756198047,
          1.4035565803611778,
          -1.0519821869520587,
          0.11992036334528934,
          -1.2473763817788441,
          -0.9440623587862923,
          0.4649388980972195,
          0.8891091225455513,
          -0.05281339848006934,
          1.1826926725138664,
          -0.6496100176207341,
          0.3463146074175848,
          1.245054214730473
         ]
        },
        {
         "histfunc": "count",
         "histnorm": "",
         "marker": {
          "color": "rgba(55, 128, 191, 1.0)",
          "line": {
           "color": "#4D5663",
           "width": 1.3
          }
         },
         "name": "B",
         "opacity": 0.8,
         "orientation": "v",
         "type": "histogram",
         "x": [
          -0.8159108900054555,
          -1.929941219688791,
          -0.03657417027881783,
          -1.0974209539855215,
          1.052196520858351,
          0.033822329120052425,
          1.8176801096555568,
          -0.8520932618888648,
          0.1782263123008412,
          0.6516149971522324,
          -0.1914194854642487,
          0.008657291528901528,
          -0.8148758043003251,
          -0.9471398783497236,
          -0.6061811239096245,
          1.4415241885529897,
          0.8851494166861117,
          0.20512285715425654,
          -0.7302217226826899,
          -0.31951913686424854,
          0.27231889777693935,
          -0.09697422065665619,
          -0.6649205861559219,
          0.5620367857612353,
          1.7533700715066436,
          0.6286472913776453,
          -0.7855956286751903,
          -0.15994050635267051,
          1.3518808645637923,
          -1.0154365693968737,
          -0.18050820646100885,
          0.10834646519885681,
          0.7096009539601019,
          -1.6023624543290134,
          1.9871052880616062,
          0.13645875362141854,
          -0.14633701649722333,
          0.38661791094502607,
          -0.5619435011719726,
          -0.20251346230180112,
          0.6479159809236236,
          -0.7526340518086364,
          -0.21918777663590203,
          1.0416872919367612,
          -0.6468863728671859,
          -0.44682241371939924,
          0.5847470571104231,
          1.525293780434978,
          1.6806985956288825,
          -0.40897115263895845,
          0.4807243711627144,
          0.4261709336642487,
          -0.2587232083938359,
          0.4457411507797482,
          -0.2780131113425037,
          0.6771683729554895,
          -0.49326884312164854,
          0.378732594771927,
          0.7495296141469234,
          -0.16621758439843407,
          -0.23419012280575963,
          -0.8429186547805513,
          -1.4561552722178908,
          -0.2133350041936494,
          -0.2006493898869039,
          -0.6181873825812856,
          -1.6980110048485777,
          -0.7626793020761945,
          0.3885269527655976,
          -0.46412751801116825,
          -1.0763819235680343,
          -0.502238030495814,
          -0.28576562016979584,
          0.21551527887273858,
          1.8833906902942927,
          -0.24381875320711635,
          -2.0108817352692587,
          -1.1983839198702526,
          1.4254320467638015,
          0.8872957071538016,
          0.2680860134619889,
          -0.14122802360169043,
          0.17462228023424262,
          0.47283501980558207,
          -1.5376258685767012,
          -0.9705267350254004,
          0.26336399264955324,
          -0.2400452642080898,
          1.3197311512694645,
          -0.49995857976244107,
          1.1159025551961577,
          0.3216947684974362,
          -0.06706027728631916,
          -0.5875192402723305,
          0.2673311445431004,
          1.2846262456076551,
          -0.25339170680358225,
          -0.6085930939009376,
          -1.3442330241206317,
          0.2245819379710808
         ]
        },
        {
         "histfunc": "count",
         "histnorm": "",
         "marker": {
          "color": "rgba(50, 171, 96, 1.0)",
          "line": {
           "color": "#4D5663",
           "width": 1.3
          }
         },
         "name": "C",
         "opacity": 0.8,
         "orientation": "v",
         "type": "histogram",
         "x": [
          0.43871609511090787,
          1.4473330691369668,
          0.6874111683344055,
          -0.31830361917415323,
          -0.5388382120744102,
          1.1472562118002556,
          0.3108509723492838,
          -1.3504297177585811,
          -0.14717944001590125,
          -1.0161980003072821,
          1.3184133201786352,
          -0.8948859154766784,
          0.8063427125028101,
          0.9860023990235437,
          0.43278295758782576,
          -0.3383168473212901,
          0.7828525506565561,
          0.32430811014547267,
          -0.18366489259377278,
          -1.332807951441942,
          0.5855231884301786,
          -1.49399951258357,
          1.2729131978144108,
          0.4707613042946522,
          -0.15732217966894335,
          -0.17112350219909944,
          0.5150453019363858,
          -0.09683419800777998,
          -1.15464030183148,
          -0.7066758730513744,
          -2.043606659974553,
          -1.1509322374051534,
          0.025658807784838335,
          1.4898157970226003,
          -0.0694685513661873,
          -0.49791651474279414,
          -0.2308514320585353,
          -0.6633259576742246,
          -0.9314528895000233,
          0.09268399022199766,
          1.0546179913330427,
          0.3788253128204955,
          -0.45268150440564836,
          1.0874294053375568,
          -0.34893154879565674,
          1.8290703884373203,
          1.5101181036839537,
          1.037309456079722,
          0.3829273390259377,
          -0.8115479160466885,
          0.2280149619931508,
          -0.07314365291412171,
          1.5185510594580172,
          0.38025651373434205,
          -0.31398670655601696,
          0.23485782245543066,
          1.1932516814328331,
          0.7988138783475844,
          1.66087199827985,
          -0.6170009187598181,
          -0.7119327765997175,
          -0.11955345486924777,
          -0.1193429287162214,
          -0.12603845313457776,
          0.39552766114983606,
          -2.444805418961324,
          -1.8397723832514499,
          0.4039665619307871,
          -0.06783876623717149,
          -1.2309948870786396,
          0.5080633094564294,
          0.42442792825012743,
          -0.7768402727229322,
          -0.4146941899464075,
          -0.2628708720580322,
          1.4093531835016053,
          -0.4842787587197417,
          -0.3086872018435643,
          0.5792988275599643,
          0.0558835015664736,
          -0.12724666807294763,
          -1.1301366568389613,
          -0.4086617935908518,
          -1.1272226118648105,
          0.7706661363871762,
          -0.9247291559968152,
          -1.0955838666800826,
          2.8036692006315556,
          -0.9094835797650551,
          1.5471447420104867,
          0.38896465749503334,
          -1.0990917939504126,
          0.7516162725463826,
          0.5370950423084296,
          0.304979022360758,
          -0.13901930820177436,
          1.0047496987928615,
          -1.5709449363201675,
          0.42863972150130747,
          -0.33579753215298636
         ]
        },
        {
         "histfunc": "count",
         "histnorm": "",
         "marker": {
          "color": "rgba(128, 0, 128, 1.0)",
          "line": {
           "color": "#4D5663",
           "width": 1.3
          }
         },
         "name": "D",
         "opacity": 0.8,
         "orientation": "v",
         "type": "histogram",
         "x": [
          2.201870845090954,
          -0.11919198952453913,
          -0.6491147989395194,
          -1.0940323419087372,
          1.3064805387565284,
          1.0053933644146675,
          -1.1468493721755817,
          0.43702934200597154,
          -1.5708817313388244,
          -0.30228893508853805,
          -0.5452580360626557,
          -0.6639695116112655,
          -0.7955940426938466,
          -1.6467518219836184,
          0.2809329436516192,
          0.14816821598707555,
          -0.4569463150690023,
          0.04102322118889885,
          -0.7803672256411665,
          -1.697062848956333,
          1.3222147203484962,
          -0.6493948068909241,
          0.020214620878222216,
          -0.9785074303145862,
          0.24463538527559575,
          0.21899280568001356,
          0.8289256885409623,
          -0.9661404506426933,
          1.0709167568846587,
          -2.1446864458641937,
          0.7126038142063271,
          0.8037657660529335,
          -1.0438570754660648,
          -2.1764801619754595,
          1.0065744258730616,
          -1.7085546146187438,
          1.6157853000776756,
          -0.24005886773007004,
          0.06041741995551127,
          -1.9754554368134523,
          -0.130103722338268,
          -1.9289900950205006,
          -0.20432004986579816,
          0.7844358300465218,
          -0.01648696797537042,
          -1.0990716369251219,
          -1.1203384263813874,
          -0.5298781553667351,
          -0.25166010107420206,
          -0.10803187499062224,
          0.9720371690989861,
          0.14084278106626988,
          0.958340609712445,
          1.139130689135666,
          0.6121010152679732,
          1.1702006779163139,
          3.438950303702981,
          -0.014582542305240784,
          0.8969948486842586,
          -0.2847005272765262,
          -1.294676153711721,
          0.1659703625257675,
          -1.4039308452256145,
          -0.8682886248582745,
          1.2273913987468628,
          -0.21245180779807538,
          -0.5573543417006175,
          -0.04325035409627915,
          -0.3782549331129301,
          -0.8676228692532127,
          -0.8943592217689184,
          -1.0963084188028802,
          -0.19948952305435813,
          0.04615393001258242,
          0.3963388838875445,
          -1.1901818013837535,
          -0.42342500377745523,
          1.6854298977467543,
          1.5202474035952782,
          1.5642876877114285,
          2.783931915616514,
          -1.0969162983690433,
          -0.10200943946234767,
          0.7458397850902051,
          -1.0361207524087017,
          2.2613414374373075,
          -0.9658009592653757,
          1.1048347049010612,
          -0.5491332908200294,
          -0.03513322127822818,
          0.8502999061377614,
          -0.11253047805429914,
          0.888899794382401,
          -0.39557630308169334,
          1.8346182851644055,
          0.4963586915785833,
          -0.8857741719895674,
          1.6585853035436051,
          -0.018411933912376614,
          -1.080819440204162
         ]
        }
       ],
       "layout": {
        "barmode": "overlay",
        "legend": {
         "bgcolor": "#F5F6F9",
         "font": {
          "color": "#4D5663"
         }
        },
        "paper_bgcolor": "#F5F6F9",
        "plot_bgcolor": "#F5F6F9",
        "template": {
         "data": {
          "bar": [
           {
            "error_x": {
             "color": "#2a3f5f"
            },
            "error_y": {
             "color": "#2a3f5f"
            },
            "marker": {
             "line": {
              "color": "#E5ECF6",
              "width": 0.5
             }
            },
            "type": "bar"
           }
          ],
          "barpolar": [
           {
            "marker": {
             "line": {
              "color": "#E5ECF6",
              "width": 0.5
             }
            },
            "type": "barpolar"
           }
          ],
          "carpet": [
           {
            "aaxis": {
             "endlinecolor": "#2a3f5f",
             "gridcolor": "white",
             "linecolor": "white",
             "minorgridcolor": "white",
             "startlinecolor": "#2a3f5f"
            },
            "baxis": {
             "endlinecolor": "#2a3f5f",
             "gridcolor": "white",
             "linecolor": "white",
             "minorgridcolor": "white",
             "startlinecolor": "#2a3f5f"
            },
            "type": "carpet"
           }
          ],
          "choropleth": [
           {
            "colorbar": {
             "outlinewidth": 0,
             "ticks": ""
            },
            "type": "choropleth"
           }
          ],
          "contour": [
           {
            "colorbar": {
             "outlinewidth": 0,
             "ticks": ""
            },
            "colorscale": [
             [
              0,
              "#0d0887"
             ],
             [
              0.1111111111111111,
              "#46039f"
             ],
             [
              0.2222222222222222,
              "#7201a8"
             ],
             [
              0.3333333333333333,
              "#9c179e"
             ],
             [
              0.4444444444444444,
              "#bd3786"
             ],
             [
              0.5555555555555556,
              "#d8576b"
             ],
             [
              0.6666666666666666,
              "#ed7953"
             ],
             [
              0.7777777777777778,
              "#fb9f3a"
             ],
             [
              0.8888888888888888,
              "#fdca26"
             ],
             [
              1,
              "#f0f921"
             ]
            ],
            "type": "contour"
           }
          ],
          "contourcarpet": [
           {
            "colorbar": {
             "outlinewidth": 0,
             "ticks": ""
            },
            "type": "contourcarpet"
           }
          ],
          "heatmap": [
           {
            "colorbar": {
             "outlinewidth": 0,
             "ticks": ""
            },
            "colorscale": [
             [
              0,
              "#0d0887"
             ],
             [
              0.1111111111111111,
              "#46039f"
             ],
             [
              0.2222222222222222,
              "#7201a8"
             ],
             [
              0.3333333333333333,
              "#9c179e"
             ],
             [
              0.4444444444444444,
              "#bd3786"
             ],
             [
              0.5555555555555556,
              "#d8576b"
             ],
             [
              0.6666666666666666,
              "#ed7953"
             ],
             [
              0.7777777777777778,
              "#fb9f3a"
             ],
             [
              0.8888888888888888,
              "#fdca26"
             ],
             [
              1,
              "#f0f921"
             ]
            ],
            "type": "heatmap"
           }
          ],
          "heatmapgl": [
           {
            "colorbar": {
             "outlinewidth": 0,
             "ticks": ""
            },
            "colorscale": [
             [
              0,
              "#0d0887"
             ],
             [
              0.1111111111111111,
              "#46039f"
             ],
             [
              0.2222222222222222,
              "#7201a8"
             ],
             [
              0.3333333333333333,
              "#9c179e"
             ],
             [
              0.4444444444444444,
              "#bd3786"
             ],
             [
              0.5555555555555556,
              "#d8576b"
             ],
             [
              0.6666666666666666,
              "#ed7953"
             ],
             [
              0.7777777777777778,
              "#fb9f3a"
             ],
             [
              0.8888888888888888,
              "#fdca26"
             ],
             [
              1,
              "#f0f921"
             ]
            ],
            "type": "heatmapgl"
           }
          ],
          "histogram": [
           {
            "marker": {
             "colorbar": {
              "outlinewidth": 0,
              "ticks": ""
             }
            },
            "type": "histogram"
           }
          ],
          "histogram2d": [
           {
            "colorbar": {
             "outlinewidth": 0,
             "ticks": ""
            },
            "colorscale": [
             [
              0,
              "#0d0887"
             ],
             [
              0.1111111111111111,
              "#46039f"
             ],
             [
              0.2222222222222222,
              "#7201a8"
             ],
             [
              0.3333333333333333,
              "#9c179e"
             ],
             [
              0.4444444444444444,
              "#bd3786"
             ],
             [
              0.5555555555555556,
              "#d8576b"
             ],
             [
              0.6666666666666666,
              "#ed7953"
             ],
             [
              0.7777777777777778,
              "#fb9f3a"
             ],
             [
              0.8888888888888888,
              "#fdca26"
             ],
             [
              1,
              "#f0f921"
             ]
            ],
            "type": "histogram2d"
           }
          ],
          "histogram2dcontour": [
           {
            "colorbar": {
             "outlinewidth": 0,
             "ticks": ""
            },
            "colorscale": [
             [
              0,
              "#0d0887"
             ],
             [
              0.1111111111111111,
              "#46039f"
             ],
             [
              0.2222222222222222,
              "#7201a8"
             ],
             [
              0.3333333333333333,
              "#9c179e"
             ],
             [
              0.4444444444444444,
              "#bd3786"
             ],
             [
              0.5555555555555556,
              "#d8576b"
             ],
             [
              0.6666666666666666,
              "#ed7953"
             ],
             [
              0.7777777777777778,
              "#fb9f3a"
             ],
             [
              0.8888888888888888,
              "#fdca26"
             ],
             [
              1,
              "#f0f921"
             ]
            ],
            "type": "histogram2dcontour"
           }
          ],
          "mesh3d": [
           {
            "colorbar": {
             "outlinewidth": 0,
             "ticks": ""
            },
            "type": "mesh3d"
           }
          ],
          "parcoords": [
           {
            "line": {
             "colorbar": {
              "outlinewidth": 0,
              "ticks": ""
             }
            },
            "type": "parcoords"
           }
          ],
          "pie": [
           {
            "automargin": true,
            "type": "pie"
           }
          ],
          "scatter": [
           {
            "marker": {
             "colorbar": {
              "outlinewidth": 0,
              "ticks": ""
             }
            },
            "type": "scatter"
           }
          ],
          "scatter3d": [
           {
            "line": {
             "colorbar": {
              "outlinewidth": 0,
              "ticks": ""
             }
            },
            "marker": {
             "colorbar": {
              "outlinewidth": 0,
              "ticks": ""
             }
            },
            "type": "scatter3d"
           }
          ],
          "scattercarpet": [
           {
            "marker": {
             "colorbar": {
              "outlinewidth": 0,
              "ticks": ""
             }
            },
            "type": "scattercarpet"
           }
          ],
          "scattergeo": [
           {
            "marker": {
             "colorbar": {
              "outlinewidth": 0,
              "ticks": ""
             }
            },
            "type": "scattergeo"
           }
          ],
          "scattergl": [
           {
            "marker": {
             "colorbar": {
              "outlinewidth": 0,
              "ticks": ""
             }
            },
            "type": "scattergl"
           }
          ],
          "scattermapbox": [
           {
            "marker": {
             "colorbar": {
              "outlinewidth": 0,
              "ticks": ""
             }
            },
            "type": "scattermapbox"
           }
          ],
          "scatterpolar": [
           {
            "marker": {
             "colorbar": {
              "outlinewidth": 0,
              "ticks": ""
             }
            },
            "type": "scatterpolar"
           }
          ],
          "scatterpolargl": [
           {
            "marker": {
             "colorbar": {
              "outlinewidth": 0,
              "ticks": ""
             }
            },
            "type": "scatterpolargl"
           }
          ],
          "scatterternary": [
           {
            "marker": {
             "colorbar": {
              "outlinewidth": 0,
              "ticks": ""
             }
            },
            "type": "scatterternary"
           }
          ],
          "surface": [
           {
            "colorbar": {
             "outlinewidth": 0,
             "ticks": ""
            },
            "colorscale": [
             [
              0,
              "#0d0887"
             ],
             [
              0.1111111111111111,
              "#46039f"
             ],
             [
              0.2222222222222222,
              "#7201a8"
             ],
             [
              0.3333333333333333,
              "#9c179e"
             ],
             [
              0.4444444444444444,
              "#bd3786"
             ],
             [
              0.5555555555555556,
              "#d8576b"
             ],
             [
              0.6666666666666666,
              "#ed7953"
             ],
             [
              0.7777777777777778,
              "#fb9f3a"
             ],
             [
              0.8888888888888888,
              "#fdca26"
             ],
             [
              1,
              "#f0f921"
             ]
            ],
            "type": "surface"
           }
          ],
          "table": [
           {
            "cells": {
             "fill": {
              "color": "#EBF0F8"
             },
             "line": {
              "color": "white"
             }
            },
            "header": {
             "fill": {
              "color": "#C8D4E3"
             },
             "line": {
              "color": "white"
             }
            },
            "type": "table"
           }
          ]
         },
         "layout": {
          "annotationdefaults": {
           "arrowcolor": "#2a3f5f",
           "arrowhead": 0,
           "arrowwidth": 1
          },
          "coloraxis": {
           "colorbar": {
            "outlinewidth": 0,
            "ticks": ""
           }
          },
          "colorscale": {
           "diverging": [
            [
             0,
             "#8e0152"
            ],
            [
             0.1,
             "#c51b7d"
            ],
            [
             0.2,
             "#de77ae"
            ],
            [
             0.3,
             "#f1b6da"
            ],
            [
             0.4,
             "#fde0ef"
            ],
            [
             0.5,
             "#f7f7f7"
            ],
            [
             0.6,
             "#e6f5d0"
            ],
            [
             0.7,
             "#b8e186"
            ],
            [
             0.8,
             "#7fbc41"
            ],
            [
             0.9,
             "#4d9221"
            ],
            [
             1,
             "#276419"
            ]
           ],
           "sequential": [
            [
             0,
             "#0d0887"
            ],
            [
             0.1111111111111111,
             "#46039f"
            ],
            [
             0.2222222222222222,
             "#7201a8"
            ],
            [
             0.3333333333333333,
             "#9c179e"
            ],
            [
             0.4444444444444444,
             "#bd3786"
            ],
            [
             0.5555555555555556,
             "#d8576b"
            ],
            [
             0.6666666666666666,
             "#ed7953"
            ],
            [
             0.7777777777777778,
             "#fb9f3a"
            ],
            [
             0.8888888888888888,
             "#fdca26"
            ],
            [
             1,
             "#f0f921"
            ]
           ],
           "sequentialminus": [
            [
             0,
             "#0d0887"
            ],
            [
             0.1111111111111111,
             "#46039f"
            ],
            [
             0.2222222222222222,
             "#7201a8"
            ],
            [
             0.3333333333333333,
             "#9c179e"
            ],
            [
             0.4444444444444444,
             "#bd3786"
            ],
            [
             0.5555555555555556,
             "#d8576b"
            ],
            [
             0.6666666666666666,
             "#ed7953"
            ],
            [
             0.7777777777777778,
             "#fb9f3a"
            ],
            [
             0.8888888888888888,
             "#fdca26"
            ],
            [
             1,
             "#f0f921"
            ]
           ]
          },
          "colorway": [
           "#636efa",
           "#EF553B",
           "#00cc96",
           "#ab63fa",
           "#FFA15A",
           "#19d3f3",
           "#FF6692",
           "#B6E880",
           "#FF97FF",
           "#FECB52"
          ],
          "font": {
           "color": "#2a3f5f"
          },
          "geo": {
           "bgcolor": "white",
           "lakecolor": "white",
           "landcolor": "#E5ECF6",
           "showlakes": true,
           "showland": true,
           "subunitcolor": "white"
          },
          "hoverlabel": {
           "align": "left"
          },
          "hovermode": "closest",
          "mapbox": {
           "style": "light"
          },
          "paper_bgcolor": "white",
          "plot_bgcolor": "#E5ECF6",
          "polar": {
           "angularaxis": {
            "gridcolor": "white",
            "linecolor": "white",
            "ticks": ""
           },
           "bgcolor": "#E5ECF6",
           "radialaxis": {
            "gridcolor": "white",
            "linecolor": "white",
            "ticks": ""
           }
          },
          "scene": {
           "xaxis": {
            "backgroundcolor": "#E5ECF6",
            "gridcolor": "white",
            "gridwidth": 2,
            "linecolor": "white",
            "showbackground": true,
            "ticks": "",
            "zerolinecolor": "white"
           },
           "yaxis": {
            "backgroundcolor": "#E5ECF6",
            "gridcolor": "white",
            "gridwidth": 2,
            "linecolor": "white",
            "showbackground": true,
            "ticks": "",
            "zerolinecolor": "white"
           },
           "zaxis": {
            "backgroundcolor": "#E5ECF6",
            "gridcolor": "white",
            "gridwidth": 2,
            "linecolor": "white",
            "showbackground": true,
            "ticks": "",
            "zerolinecolor": "white"
           }
          },
          "shapedefaults": {
           "line": {
            "color": "#2a3f5f"
           }
          },
          "ternary": {
           "aaxis": {
            "gridcolor": "white",
            "linecolor": "white",
            "ticks": ""
           },
           "baxis": {
            "gridcolor": "white",
            "linecolor": "white",
            "ticks": ""
           },
           "bgcolor": "#E5ECF6",
           "caxis": {
            "gridcolor": "white",
            "linecolor": "white",
            "ticks": ""
           }
          },
          "title": {
           "x": 0.05
          },
          "xaxis": {
           "automargin": true,
           "gridcolor": "white",
           "linecolor": "white",
           "ticks": "",
           "title": {
            "standoff": 15
           },
           "zerolinecolor": "white",
           "zerolinewidth": 2
          },
          "yaxis": {
           "automargin": true,
           "gridcolor": "white",
           "linecolor": "white",
           "ticks": "",
           "title": {
            "standoff": 15
           },
           "zerolinecolor": "white",
           "zerolinewidth": 2
          }
         }
        },
        "title": {
         "font": {
          "color": "#4D5663"
         }
        },
        "xaxis": {
         "gridcolor": "#E1E5ED",
         "showgrid": true,
         "tickfont": {
          "color": "#4D5663"
         },
         "title": {
          "font": {
           "color": "#4D5663"
          },
          "text": ""
         },
         "zerolinecolor": "#E1E5ED"
        },
        "yaxis": {
         "gridcolor": "#E1E5ED",
         "showgrid": true,
         "tickfont": {
          "color": "#4D5663"
         },
         "title": {
          "font": {
           "color": "#4D5663"
          },
          "text": ""
         },
         "zerolinecolor": "#E1E5ED"
        }
       }
      },
      "text/html": [
       "<div>\n",
       "        \n",
       "        \n",
       "            <div id=\"0cd3aea4-9002-4edc-a0e8-1830e1ce93d4\" class=\"plotly-graph-div\" style=\"height:525px; width:100%;\"></div>\n",
       "            <script type=\"text/javascript\">\n",
       "                require([\"plotly\"], function(Plotly) {\n",
       "                    window.PLOTLYENV=window.PLOTLYENV || {};\n",
       "                    window.PLOTLYENV.BASE_URL='https://plot.ly';\n",
       "                    \n",
       "                if (document.getElementById(\"0cd3aea4-9002-4edc-a0e8-1830e1ce93d4\")) {\n",
       "                    Plotly.newPlot(\n",
       "                        '0cd3aea4-9002-4edc-a0e8-1830e1ce93d4',\n",
       "                        [{\"histfunc\": \"count\", \"histnorm\": \"\", \"marker\": {\"color\": \"rgba(255, 153, 51, 1.0)\", \"line\": {\"color\": \"#4D5663\", \"width\": 1.3}}, \"name\": \"A\", \"opacity\": 0.8, \"orientation\": \"v\", \"type\": \"histogram\", \"x\": [0.0582296909058791, -0.02584525376380703, 0.00233282809989629, 1.1481746239450044, 0.24613651723675956, -1.0638018398599103, -0.21304176589290522, -0.8877953781238356, 0.2408920641467541, -0.8396975894960268, 2.0132202407596353, -1.8360206750556003, -0.2517700023746602, -1.4502799812552967, 0.4152057826772664, -0.8998644155235899, 0.5982440600673362, -0.9759069692250059, -1.1973876247754691, 0.5577122833829123, 2.310315783202372, -1.7961940534317489, -0.6572397260969888, -1.3376421186203706, 1.0608517587708919, -2.259894369695355, 1.4606925940258704, 1.8907728427394275, -0.3043119428357968, 1.9881857367303992, 0.3901698887479151, 1.3241022911963933, 1.0959833079431376, -1.2734420037321217, -1.3216363381573888, 0.834565478861918, 0.6299828498049981, 2.0786395666444015, -1.0791936006443799, -1.3790272078160453, -1.178945530656404, 0.22964243572651152, -0.029963990967407286, -0.43786137324103674, 0.6356308238712179, 0.14810106273265564, 0.5227969542030575, 1.0543535418382617, 0.02211756534029964, -0.13560799701465331, -0.5525218983218556, -1.0196807962712457, -0.2607666151406072, -0.5602173304664195, -0.6492750894074405, -0.2556935165453845, -1.0771115992625304, -0.135328085335629, -0.04464422947027891, -1.161005405176078, 0.3122523074359768, -1.6625191089294775, 0.34194335491409344, 0.16470959404488125, 1.2878181748305546, 0.5610471493377563, -1.444406167736111, 0.61479147005293, 2.7365467524952916, -0.6323625965306128, 1.276169138221677, -0.048793811614966896, -0.6086730440924935, 0.14012253128489457, -0.8621572953507786, -1.7685450434583079, 0.45581637692557153, 0.7050466998267874, 0.2814153735282505, 0.19735245724273506, -1.1781923319235064, 0.38757667877441015, 0.2906922661543077, -1.0313059627582548, 0.43284154174190126, -0.9379419695402221, -0.5102362125240482, -0.20895028756198047, 1.4035565803611778, -1.0519821869520587, 0.11992036334528934, -1.2473763817788441, -0.9440623587862923, 0.4649388980972195, 0.8891091225455513, -0.05281339848006934, 1.1826926725138664, -0.6496100176207341, 0.3463146074175848, 1.245054214730473]}, {\"histfunc\": \"count\", \"histnorm\": \"\", \"marker\": {\"color\": \"rgba(55, 128, 191, 1.0)\", \"line\": {\"color\": \"#4D5663\", \"width\": 1.3}}, \"name\": \"B\", \"opacity\": 0.8, \"orientation\": \"v\", \"type\": \"histogram\", \"x\": [-0.8159108900054555, -1.929941219688791, -0.03657417027881783, -1.0974209539855215, 1.052196520858351, 0.033822329120052425, 1.8176801096555568, -0.8520932618888648, 0.1782263123008412, 0.6516149971522324, -0.1914194854642487, 0.008657291528901528, -0.8148758043003251, -0.9471398783497236, -0.6061811239096245, 1.4415241885529897, 0.8851494166861117, 0.20512285715425654, -0.7302217226826899, -0.31951913686424854, 0.27231889777693935, -0.09697422065665619, -0.6649205861559219, 0.5620367857612353, 1.7533700715066436, 0.6286472913776453, -0.7855956286751903, -0.15994050635267051, 1.3518808645637923, -1.0154365693968737, -0.18050820646100885, 0.10834646519885681, 0.7096009539601019, -1.6023624543290134, 1.9871052880616062, 0.13645875362141854, -0.14633701649722333, 0.38661791094502607, -0.5619435011719726, -0.20251346230180112, 0.6479159809236236, -0.7526340518086364, -0.21918777663590203, 1.0416872919367612, -0.6468863728671859, -0.44682241371939924, 0.5847470571104231, 1.525293780434978, 1.6806985956288825, -0.40897115263895845, 0.4807243711627144, 0.4261709336642487, -0.2587232083938359, 0.4457411507797482, -0.2780131113425037, 0.6771683729554895, -0.49326884312164854, 0.378732594771927, 0.7495296141469234, -0.16621758439843407, -0.23419012280575963, -0.8429186547805513, -1.4561552722178908, -0.2133350041936494, -0.2006493898869039, -0.6181873825812856, -1.6980110048485777, -0.7626793020761945, 0.3885269527655976, -0.46412751801116825, -1.0763819235680343, -0.502238030495814, -0.28576562016979584, 0.21551527887273858, 1.8833906902942927, -0.24381875320711635, -2.0108817352692587, -1.1983839198702526, 1.4254320467638015, 0.8872957071538016, 0.2680860134619889, -0.14122802360169043, 0.17462228023424262, 0.47283501980558207, -1.5376258685767012, -0.9705267350254004, 0.26336399264955324, -0.2400452642080898, 1.3197311512694645, -0.49995857976244107, 1.1159025551961577, 0.3216947684974362, -0.06706027728631916, -0.5875192402723305, 0.2673311445431004, 1.2846262456076551, -0.25339170680358225, -0.6085930939009376, -1.3442330241206317, 0.2245819379710808]}, {\"histfunc\": \"count\", \"histnorm\": \"\", \"marker\": {\"color\": \"rgba(50, 171, 96, 1.0)\", \"line\": {\"color\": \"#4D5663\", \"width\": 1.3}}, \"name\": \"C\", \"opacity\": 0.8, \"orientation\": \"v\", \"type\": \"histogram\", \"x\": [0.43871609511090787, 1.4473330691369668, 0.6874111683344055, -0.31830361917415323, -0.5388382120744102, 1.1472562118002556, 0.3108509723492838, -1.3504297177585811, -0.14717944001590125, -1.0161980003072821, 1.3184133201786352, -0.8948859154766784, 0.8063427125028101, 0.9860023990235437, 0.43278295758782576, -0.3383168473212901, 0.7828525506565561, 0.32430811014547267, -0.18366489259377278, -1.332807951441942, 0.5855231884301786, -1.49399951258357, 1.2729131978144108, 0.4707613042946522, -0.15732217966894335, -0.17112350219909944, 0.5150453019363858, -0.09683419800777998, -1.15464030183148, -0.7066758730513744, -2.043606659974553, -1.1509322374051534, 0.025658807784838335, 1.4898157970226003, -0.0694685513661873, -0.49791651474279414, -0.2308514320585353, -0.6633259576742246, -0.9314528895000233, 0.09268399022199766, 1.0546179913330427, 0.3788253128204955, -0.45268150440564836, 1.0874294053375568, -0.34893154879565674, 1.8290703884373203, 1.5101181036839537, 1.037309456079722, 0.3829273390259377, -0.8115479160466885, 0.2280149619931508, -0.07314365291412171, 1.5185510594580172, 0.38025651373434205, -0.31398670655601696, 0.23485782245543066, 1.1932516814328331, 0.7988138783475844, 1.66087199827985, -0.6170009187598181, -0.7119327765997175, -0.11955345486924777, -0.1193429287162214, -0.12603845313457776, 0.39552766114983606, -2.444805418961324, -1.8397723832514499, 0.4039665619307871, -0.06783876623717149, -1.2309948870786396, 0.5080633094564294, 0.42442792825012743, -0.7768402727229322, -0.4146941899464075, -0.2628708720580322, 1.4093531835016053, -0.4842787587197417, -0.3086872018435643, 0.5792988275599643, 0.0558835015664736, -0.12724666807294763, -1.1301366568389613, -0.4086617935908518, -1.1272226118648105, 0.7706661363871762, -0.9247291559968152, -1.0955838666800826, 2.8036692006315556, -0.9094835797650551, 1.5471447420104867, 0.38896465749503334, -1.0990917939504126, 0.7516162725463826, 0.5370950423084296, 0.304979022360758, -0.13901930820177436, 1.0047496987928615, -1.5709449363201675, 0.42863972150130747, -0.33579753215298636]}, {\"histfunc\": \"count\", \"histnorm\": \"\", \"marker\": {\"color\": \"rgba(128, 0, 128, 1.0)\", \"line\": {\"color\": \"#4D5663\", \"width\": 1.3}}, \"name\": \"D\", \"opacity\": 0.8, \"orientation\": \"v\", \"type\": \"histogram\", \"x\": [2.201870845090954, -0.11919198952453913, -0.6491147989395194, -1.0940323419087372, 1.3064805387565284, 1.0053933644146675, -1.1468493721755817, 0.43702934200597154, -1.5708817313388244, -0.30228893508853805, -0.5452580360626557, -0.6639695116112655, -0.7955940426938466, -1.6467518219836184, 0.2809329436516192, 0.14816821598707555, -0.4569463150690023, 0.04102322118889885, -0.7803672256411665, -1.697062848956333, 1.3222147203484962, -0.6493948068909241, 0.020214620878222216, -0.9785074303145862, 0.24463538527559575, 0.21899280568001356, 0.8289256885409623, -0.9661404506426933, 1.0709167568846587, -2.1446864458641937, 0.7126038142063271, 0.8037657660529335, -1.0438570754660648, -2.1764801619754595, 1.0065744258730616, -1.7085546146187438, 1.6157853000776756, -0.24005886773007004, 0.06041741995551127, -1.9754554368134523, -0.130103722338268, -1.9289900950205006, -0.20432004986579816, 0.7844358300465218, -0.01648696797537042, -1.0990716369251219, -1.1203384263813874, -0.5298781553667351, -0.25166010107420206, -0.10803187499062224, 0.9720371690989861, 0.14084278106626988, 0.958340609712445, 1.139130689135666, 0.6121010152679732, 1.1702006779163139, 3.438950303702981, -0.014582542305240784, 0.8969948486842586, -0.2847005272765262, -1.294676153711721, 0.1659703625257675, -1.4039308452256145, -0.8682886248582745, 1.2273913987468628, -0.21245180779807538, -0.5573543417006175, -0.04325035409627915, -0.3782549331129301, -0.8676228692532127, -0.8943592217689184, -1.0963084188028802, -0.19948952305435813, 0.04615393001258242, 0.3963388838875445, -1.1901818013837535, -0.42342500377745523, 1.6854298977467543, 1.5202474035952782, 1.5642876877114285, 2.783931915616514, -1.0969162983690433, -0.10200943946234767, 0.7458397850902051, -1.0361207524087017, 2.2613414374373075, -0.9658009592653757, 1.1048347049010612, -0.5491332908200294, -0.03513322127822818, 0.8502999061377614, -0.11253047805429914, 0.888899794382401, -0.39557630308169334, 1.8346182851644055, 0.4963586915785833, -0.8857741719895674, 1.6585853035436051, -0.018411933912376614, -1.080819440204162]}],\n",
       "                        {\"barmode\": \"overlay\", \"legend\": {\"bgcolor\": \"#F5F6F9\", \"font\": {\"color\": \"#4D5663\"}}, \"paper_bgcolor\": \"#F5F6F9\", \"plot_bgcolor\": \"#F5F6F9\", \"template\": {\"data\": {\"bar\": [{\"error_x\": {\"color\": \"#2a3f5f\"}, \"error_y\": {\"color\": \"#2a3f5f\"}, \"marker\": {\"line\": {\"color\": \"#E5ECF6\", \"width\": 0.5}}, \"type\": \"bar\"}], \"barpolar\": [{\"marker\": {\"line\": {\"color\": \"#E5ECF6\", \"width\": 0.5}}, \"type\": \"barpolar\"}], \"carpet\": [{\"aaxis\": {\"endlinecolor\": \"#2a3f5f\", \"gridcolor\": \"white\", \"linecolor\": \"white\", \"minorgridcolor\": \"white\", \"startlinecolor\": \"#2a3f5f\"}, \"baxis\": {\"endlinecolor\": \"#2a3f5f\", \"gridcolor\": \"white\", \"linecolor\": \"white\", \"minorgridcolor\": \"white\", \"startlinecolor\": \"#2a3f5f\"}, \"type\": \"carpet\"}], \"choropleth\": [{\"colorbar\": {\"outlinewidth\": 0, \"ticks\": \"\"}, \"type\": \"choropleth\"}], \"contour\": [{\"colorbar\": {\"outlinewidth\": 0, \"ticks\": \"\"}, \"colorscale\": [[0.0, \"#0d0887\"], [0.1111111111111111, \"#46039f\"], [0.2222222222222222, \"#7201a8\"], [0.3333333333333333, \"#9c179e\"], [0.4444444444444444, \"#bd3786\"], [0.5555555555555556, \"#d8576b\"], [0.6666666666666666, \"#ed7953\"], [0.7777777777777778, \"#fb9f3a\"], [0.8888888888888888, \"#fdca26\"], [1.0, \"#f0f921\"]], \"type\": \"contour\"}], \"contourcarpet\": [{\"colorbar\": {\"outlinewidth\": 0, \"ticks\": \"\"}, \"type\": \"contourcarpet\"}], \"heatmap\": [{\"colorbar\": {\"outlinewidth\": 0, \"ticks\": \"\"}, \"colorscale\": [[0.0, \"#0d0887\"], [0.1111111111111111, \"#46039f\"], [0.2222222222222222, \"#7201a8\"], [0.3333333333333333, \"#9c179e\"], [0.4444444444444444, \"#bd3786\"], [0.5555555555555556, \"#d8576b\"], [0.6666666666666666, \"#ed7953\"], [0.7777777777777778, \"#fb9f3a\"], [0.8888888888888888, \"#fdca26\"], [1.0, \"#f0f921\"]], \"type\": \"heatmap\"}], \"heatmapgl\": [{\"colorbar\": {\"outlinewidth\": 0, \"ticks\": \"\"}, \"colorscale\": [[0.0, \"#0d0887\"], [0.1111111111111111, \"#46039f\"], [0.2222222222222222, \"#7201a8\"], [0.3333333333333333, \"#9c179e\"], [0.4444444444444444, \"#bd3786\"], [0.5555555555555556, \"#d8576b\"], [0.6666666666666666, \"#ed7953\"], [0.7777777777777778, \"#fb9f3a\"], [0.8888888888888888, \"#fdca26\"], [1.0, \"#f0f921\"]], \"type\": \"heatmapgl\"}], \"histogram\": [{\"marker\": {\"colorbar\": {\"outlinewidth\": 0, \"ticks\": \"\"}}, \"type\": \"histogram\"}], \"histogram2d\": [{\"colorbar\": {\"outlinewidth\": 0, \"ticks\": \"\"}, \"colorscale\": [[0.0, \"#0d0887\"], [0.1111111111111111, \"#46039f\"], [0.2222222222222222, \"#7201a8\"], [0.3333333333333333, \"#9c179e\"], [0.4444444444444444, \"#bd3786\"], [0.5555555555555556, \"#d8576b\"], [0.6666666666666666, \"#ed7953\"], [0.7777777777777778, \"#fb9f3a\"], [0.8888888888888888, \"#fdca26\"], [1.0, \"#f0f921\"]], \"type\": \"histogram2d\"}], \"histogram2dcontour\": [{\"colorbar\": {\"outlinewidth\": 0, \"ticks\": \"\"}, \"colorscale\": [[0.0, \"#0d0887\"], [0.1111111111111111, \"#46039f\"], [0.2222222222222222, \"#7201a8\"], [0.3333333333333333, \"#9c179e\"], [0.4444444444444444, \"#bd3786\"], [0.5555555555555556, \"#d8576b\"], [0.6666666666666666, \"#ed7953\"], [0.7777777777777778, \"#fb9f3a\"], [0.8888888888888888, \"#fdca26\"], [1.0, \"#f0f921\"]], \"type\": \"histogram2dcontour\"}], \"mesh3d\": [{\"colorbar\": {\"outlinewidth\": 0, \"ticks\": \"\"}, \"type\": \"mesh3d\"}], \"parcoords\": [{\"line\": {\"colorbar\": {\"outlinewidth\": 0, \"ticks\": \"\"}}, \"type\": \"parcoords\"}], \"pie\": [{\"automargin\": true, \"type\": \"pie\"}], \"scatter\": [{\"marker\": {\"colorbar\": {\"outlinewidth\": 0, \"ticks\": \"\"}}, \"type\": \"scatter\"}], \"scatter3d\": [{\"line\": {\"colorbar\": {\"outlinewidth\": 0, \"ticks\": \"\"}}, \"marker\": {\"colorbar\": {\"outlinewidth\": 0, \"ticks\": \"\"}}, \"type\": \"scatter3d\"}], \"scattercarpet\": [{\"marker\": {\"colorbar\": {\"outlinewidth\": 0, \"ticks\": \"\"}}, \"type\": \"scattercarpet\"}], \"scattergeo\": [{\"marker\": {\"colorbar\": {\"outlinewidth\": 0, \"ticks\": \"\"}}, \"type\": \"scattergeo\"}], \"scattergl\": [{\"marker\": {\"colorbar\": {\"outlinewidth\": 0, \"ticks\": \"\"}}, \"type\": \"scattergl\"}], \"scattermapbox\": [{\"marker\": {\"colorbar\": {\"outlinewidth\": 0, \"ticks\": \"\"}}, \"type\": \"scattermapbox\"}], \"scatterpolar\": [{\"marker\": {\"colorbar\": {\"outlinewidth\": 0, \"ticks\": \"\"}}, \"type\": \"scatterpolar\"}], \"scatterpolargl\": [{\"marker\": {\"colorbar\": {\"outlinewidth\": 0, \"ticks\": \"\"}}, \"type\": \"scatterpolargl\"}], \"scatterternary\": [{\"marker\": {\"colorbar\": {\"outlinewidth\": 0, \"ticks\": \"\"}}, \"type\": \"scatterternary\"}], \"surface\": [{\"colorbar\": {\"outlinewidth\": 0, \"ticks\": \"\"}, \"colorscale\": [[0.0, \"#0d0887\"], [0.1111111111111111, \"#46039f\"], [0.2222222222222222, \"#7201a8\"], [0.3333333333333333, \"#9c179e\"], [0.4444444444444444, \"#bd3786\"], [0.5555555555555556, \"#d8576b\"], [0.6666666666666666, \"#ed7953\"], [0.7777777777777778, \"#fb9f3a\"], [0.8888888888888888, \"#fdca26\"], [1.0, \"#f0f921\"]], \"type\": \"surface\"}], \"table\": [{\"cells\": {\"fill\": {\"color\": \"#EBF0F8\"}, \"line\": {\"color\": \"white\"}}, \"header\": {\"fill\": {\"color\": \"#C8D4E3\"}, \"line\": {\"color\": \"white\"}}, \"type\": \"table\"}]}, \"layout\": {\"annotationdefaults\": {\"arrowcolor\": \"#2a3f5f\", \"arrowhead\": 0, \"arrowwidth\": 1}, \"coloraxis\": {\"colorbar\": {\"outlinewidth\": 0, \"ticks\": \"\"}}, \"colorscale\": {\"diverging\": [[0, \"#8e0152\"], [0.1, \"#c51b7d\"], [0.2, \"#de77ae\"], [0.3, \"#f1b6da\"], [0.4, \"#fde0ef\"], [0.5, \"#f7f7f7\"], [0.6, \"#e6f5d0\"], [0.7, \"#b8e186\"], [0.8, \"#7fbc41\"], [0.9, \"#4d9221\"], [1, \"#276419\"]], \"sequential\": [[0.0, \"#0d0887\"], [0.1111111111111111, \"#46039f\"], [0.2222222222222222, \"#7201a8\"], [0.3333333333333333, \"#9c179e\"], [0.4444444444444444, \"#bd3786\"], [0.5555555555555556, \"#d8576b\"], [0.6666666666666666, \"#ed7953\"], [0.7777777777777778, \"#fb9f3a\"], [0.8888888888888888, \"#fdca26\"], [1.0, \"#f0f921\"]], \"sequentialminus\": [[0.0, \"#0d0887\"], [0.1111111111111111, \"#46039f\"], [0.2222222222222222, \"#7201a8\"], [0.3333333333333333, \"#9c179e\"], [0.4444444444444444, \"#bd3786\"], [0.5555555555555556, \"#d8576b\"], [0.6666666666666666, \"#ed7953\"], [0.7777777777777778, \"#fb9f3a\"], [0.8888888888888888, \"#fdca26\"], [1.0, \"#f0f921\"]]}, \"colorway\": [\"#636efa\", \"#EF553B\", \"#00cc96\", \"#ab63fa\", \"#FFA15A\", \"#19d3f3\", \"#FF6692\", \"#B6E880\", \"#FF97FF\", \"#FECB52\"], \"font\": {\"color\": \"#2a3f5f\"}, \"geo\": {\"bgcolor\": \"white\", \"lakecolor\": \"white\", \"landcolor\": \"#E5ECF6\", \"showlakes\": true, \"showland\": true, \"subunitcolor\": \"white\"}, \"hoverlabel\": {\"align\": \"left\"}, \"hovermode\": \"closest\", \"mapbox\": {\"style\": \"light\"}, \"paper_bgcolor\": \"white\", \"plot_bgcolor\": \"#E5ECF6\", \"polar\": {\"angularaxis\": {\"gridcolor\": \"white\", \"linecolor\": \"white\", \"ticks\": \"\"}, \"bgcolor\": \"#E5ECF6\", \"radialaxis\": {\"gridcolor\": \"white\", \"linecolor\": \"white\", \"ticks\": \"\"}}, \"scene\": {\"xaxis\": {\"backgroundcolor\": \"#E5ECF6\", \"gridcolor\": \"white\", \"gridwidth\": 2, \"linecolor\": \"white\", \"showbackground\": true, \"ticks\": \"\", \"zerolinecolor\": \"white\"}, \"yaxis\": {\"backgroundcolor\": \"#E5ECF6\", \"gridcolor\": \"white\", \"gridwidth\": 2, \"linecolor\": \"white\", \"showbackground\": true, \"ticks\": \"\", \"zerolinecolor\": \"white\"}, \"zaxis\": {\"backgroundcolor\": \"#E5ECF6\", \"gridcolor\": \"white\", \"gridwidth\": 2, \"linecolor\": \"white\", \"showbackground\": true, \"ticks\": \"\", \"zerolinecolor\": \"white\"}}, \"shapedefaults\": {\"line\": {\"color\": \"#2a3f5f\"}}, \"ternary\": {\"aaxis\": {\"gridcolor\": \"white\", \"linecolor\": \"white\", \"ticks\": \"\"}, \"baxis\": {\"gridcolor\": \"white\", \"linecolor\": \"white\", \"ticks\": \"\"}, \"bgcolor\": \"#E5ECF6\", \"caxis\": {\"gridcolor\": \"white\", \"linecolor\": \"white\", \"ticks\": \"\"}}, \"title\": {\"x\": 0.05}, \"xaxis\": {\"automargin\": true, \"gridcolor\": \"white\", \"linecolor\": \"white\", \"ticks\": \"\", \"title\": {\"standoff\": 15}, \"zerolinecolor\": \"white\", \"zerolinewidth\": 2}, \"yaxis\": {\"automargin\": true, \"gridcolor\": \"white\", \"linecolor\": \"white\", \"ticks\": \"\", \"title\": {\"standoff\": 15}, \"zerolinecolor\": \"white\", \"zerolinewidth\": 2}}}, \"title\": {\"font\": {\"color\": \"#4D5663\"}}, \"xaxis\": {\"gridcolor\": \"#E1E5ED\", \"showgrid\": true, \"tickfont\": {\"color\": \"#4D5663\"}, \"title\": {\"font\": {\"color\": \"#4D5663\"}, \"text\": \"\"}, \"zerolinecolor\": \"#E1E5ED\"}, \"yaxis\": {\"gridcolor\": \"#E1E5ED\", \"showgrid\": true, \"tickfont\": {\"color\": \"#4D5663\"}, \"title\": {\"font\": {\"color\": \"#4D5663\"}, \"text\": \"\"}, \"zerolinecolor\": \"#E1E5ED\"}},\n",
       "                        {\"showLink\": true, \"linkText\": \"Export to plot.ly\", \"plotlyServerURL\": \"https://plot.ly\", \"responsive\": true}\n",
       "                    ).then(function(){\n",
       "                            \n",
       "var gd = document.getElementById('0cd3aea4-9002-4edc-a0e8-1830e1ce93d4');\n",
       "var x = new MutationObserver(function (mutations, observer) {{\n",
       "        var display = window.getComputedStyle(gd).display;\n",
       "        if (!display || display === 'none') {{\n",
       "            console.log([gd, 'removed!']);\n",
       "            Plotly.purge(gd);\n",
       "            observer.disconnect();\n",
       "        }}\n",
       "}});\n",
       "\n",
       "// Listen for the removal of the full notebook cells\n",
       "var notebookContainer = gd.closest('#notebook-container');\n",
       "if (notebookContainer) {{\n",
       "    x.observe(notebookContainer, {childList: true});\n",
       "}}\n",
       "\n",
       "// Listen for the clearing of the current output cell\n",
       "var outputEl = gd.closest('.output');\n",
       "if (outputEl) {{\n",
       "    x.observe(outputEl, {childList: true});\n",
       "}}\n",
       "\n",
       "                        })\n",
       "                };\n",
       "                });\n",
       "            </script>\n",
       "        </div>"
      ]
     },
     "metadata": {},
     "output_type": "display_data"
    }
   ],
   "source": [
    "df.iplot(kind='hist')"
   ]
  },
  {
   "cell_type": "code",
   "execution_count": 39,
   "metadata": {},
   "outputs": [
    {
     "data": {
      "application/vnd.plotly.v1+json": {
       "config": {
        "linkText": "Export to plot.ly",
        "plotlyServerURL": "https://plot.ly",
        "showLink": true
       },
       "data": [
        {
         "line": {
          "color": "rgba(255, 153, 51, 1.0)",
          "dash": "solid",
          "shape": "linear",
          "width": 1.3
         },
         "mode": "lines",
         "name": "A",
         "text": "",
         "type": "scatter",
         "x": [
          0,
          1,
          2,
          3,
          4,
          5,
          6,
          7,
          8,
          9,
          10,
          11,
          12,
          13,
          14,
          15,
          16,
          17,
          18,
          19,
          20,
          21,
          22,
          23,
          24,
          25,
          26,
          27,
          28,
          29,
          30,
          31,
          32,
          33,
          34,
          35,
          36,
          37,
          38,
          39,
          40,
          41,
          42,
          43,
          44,
          45,
          46,
          47,
          48,
          49,
          50,
          51,
          52,
          53,
          54,
          55,
          56,
          57,
          58,
          59,
          60,
          61,
          62,
          63,
          64,
          65,
          66,
          67,
          68,
          69,
          70,
          71,
          72,
          73,
          74,
          75,
          76,
          77,
          78,
          79,
          80,
          81,
          82,
          83,
          84,
          85,
          86,
          87,
          88,
          89,
          90,
          91,
          92,
          93,
          94,
          95,
          96,
          97,
          98,
          99
         ],
         "y": [
          0.0582296909058791,
          -0.02584525376380703,
          0.00233282809989629,
          1.1481746239450044,
          0.24613651723675956,
          -1.0638018398599103,
          -0.21304176589290522,
          -0.8877953781238356,
          0.2408920641467541,
          -0.8396975894960268,
          2.0132202407596353,
          -1.8360206750556003,
          -0.2517700023746602,
          -1.4502799812552967,
          0.4152057826772664,
          -0.8998644155235899,
          0.5982440600673362,
          -0.9759069692250059,
          -1.1973876247754691,
          0.5577122833829123,
          2.310315783202372,
          -1.7961940534317489,
          -0.6572397260969888,
          -1.3376421186203706,
          1.0608517587708919,
          -2.259894369695355,
          1.4606925940258704,
          1.8907728427394275,
          -0.3043119428357968,
          1.9881857367303992,
          0.3901698887479151,
          1.3241022911963933,
          1.0959833079431376,
          -1.2734420037321217,
          -1.3216363381573888,
          0.834565478861918,
          0.6299828498049981,
          2.0786395666444015,
          -1.0791936006443799,
          -1.3790272078160453,
          -1.178945530656404,
          0.22964243572651152,
          -0.029963990967407286,
          -0.43786137324103674,
          0.6356308238712179,
          0.14810106273265564,
          0.5227969542030575,
          1.0543535418382617,
          0.02211756534029964,
          -0.13560799701465331,
          -0.5525218983218556,
          -1.0196807962712457,
          -0.2607666151406072,
          -0.5602173304664195,
          -0.6492750894074405,
          -0.2556935165453845,
          -1.0771115992625304,
          -0.135328085335629,
          -0.04464422947027891,
          -1.161005405176078,
          0.3122523074359768,
          -1.6625191089294775,
          0.34194335491409344,
          0.16470959404488125,
          1.2878181748305546,
          0.5610471493377563,
          -1.444406167736111,
          0.61479147005293,
          2.7365467524952916,
          -0.6323625965306128,
          1.276169138221677,
          -0.048793811614966896,
          -0.6086730440924935,
          0.14012253128489457,
          -0.8621572953507786,
          -1.7685450434583079,
          0.45581637692557153,
          0.7050466998267874,
          0.2814153735282505,
          0.19735245724273506,
          -1.1781923319235064,
          0.38757667877441015,
          0.2906922661543077,
          -1.0313059627582548,
          0.43284154174190126,
          -0.9379419695402221,
          -0.5102362125240482,
          -0.20895028756198047,
          1.4035565803611778,
          -1.0519821869520587,
          0.11992036334528934,
          -1.2473763817788441,
          -0.9440623587862923,
          0.4649388980972195,
          0.8891091225455513,
          -0.05281339848006934,
          1.1826926725138664,
          -0.6496100176207341,
          0.3463146074175848,
          1.245054214730473
         ]
        },
        {
         "line": {
          "color": "rgba(55, 128, 191, 1.0)",
          "dash": "solid",
          "shape": "linear",
          "width": 1.3
         },
         "mode": "lines",
         "name": "B",
         "text": "",
         "type": "scatter",
         "x": [
          0,
          1,
          2,
          3,
          4,
          5,
          6,
          7,
          8,
          9,
          10,
          11,
          12,
          13,
          14,
          15,
          16,
          17,
          18,
          19,
          20,
          21,
          22,
          23,
          24,
          25,
          26,
          27,
          28,
          29,
          30,
          31,
          32,
          33,
          34,
          35,
          36,
          37,
          38,
          39,
          40,
          41,
          42,
          43,
          44,
          45,
          46,
          47,
          48,
          49,
          50,
          51,
          52,
          53,
          54,
          55,
          56,
          57,
          58,
          59,
          60,
          61,
          62,
          63,
          64,
          65,
          66,
          67,
          68,
          69,
          70,
          71,
          72,
          73,
          74,
          75,
          76,
          77,
          78,
          79,
          80,
          81,
          82,
          83,
          84,
          85,
          86,
          87,
          88,
          89,
          90,
          91,
          92,
          93,
          94,
          95,
          96,
          97,
          98,
          99
         ],
         "y": [
          -0.8159108900054555,
          -1.929941219688791,
          -0.03657417027881783,
          -1.0974209539855215,
          1.052196520858351,
          0.033822329120052425,
          1.8176801096555568,
          -0.8520932618888648,
          0.1782263123008412,
          0.6516149971522324,
          -0.1914194854642487,
          0.008657291528901528,
          -0.8148758043003251,
          -0.9471398783497236,
          -0.6061811239096245,
          1.4415241885529897,
          0.8851494166861117,
          0.20512285715425654,
          -0.7302217226826899,
          -0.31951913686424854,
          0.27231889777693935,
          -0.09697422065665619,
          -0.6649205861559219,
          0.5620367857612353,
          1.7533700715066436,
          0.6286472913776453,
          -0.7855956286751903,
          -0.15994050635267051,
          1.3518808645637923,
          -1.0154365693968737,
          -0.18050820646100885,
          0.10834646519885681,
          0.7096009539601019,
          -1.6023624543290134,
          1.9871052880616062,
          0.13645875362141854,
          -0.14633701649722333,
          0.38661791094502607,
          -0.5619435011719726,
          -0.20251346230180112,
          0.6479159809236236,
          -0.7526340518086364,
          -0.21918777663590203,
          1.0416872919367612,
          -0.6468863728671859,
          -0.44682241371939924,
          0.5847470571104231,
          1.525293780434978,
          1.6806985956288825,
          -0.40897115263895845,
          0.4807243711627144,
          0.4261709336642487,
          -0.2587232083938359,
          0.4457411507797482,
          -0.2780131113425037,
          0.6771683729554895,
          -0.49326884312164854,
          0.378732594771927,
          0.7495296141469234,
          -0.16621758439843407,
          -0.23419012280575963,
          -0.8429186547805513,
          -1.4561552722178908,
          -0.2133350041936494,
          -0.2006493898869039,
          -0.6181873825812856,
          -1.6980110048485777,
          -0.7626793020761945,
          0.3885269527655976,
          -0.46412751801116825,
          -1.0763819235680343,
          -0.502238030495814,
          -0.28576562016979584,
          0.21551527887273858,
          1.8833906902942927,
          -0.24381875320711635,
          -2.0108817352692587,
          -1.1983839198702526,
          1.4254320467638015,
          0.8872957071538016,
          0.2680860134619889,
          -0.14122802360169043,
          0.17462228023424262,
          0.47283501980558207,
          -1.5376258685767012,
          -0.9705267350254004,
          0.26336399264955324,
          -0.2400452642080898,
          1.3197311512694645,
          -0.49995857976244107,
          1.1159025551961577,
          0.3216947684974362,
          -0.06706027728631916,
          -0.5875192402723305,
          0.2673311445431004,
          1.2846262456076551,
          -0.25339170680358225,
          -0.6085930939009376,
          -1.3442330241206317,
          0.2245819379710808
         ]
        },
        {
         "connectgaps": false,
         "fill": "tozeroy",
         "line": {
          "color": "green",
          "dash": "solid",
          "shape": "linear",
          "width": 0.5
         },
         "mode": "lines",
         "name": "Spread",
         "showlegend": false,
         "type": "scatter",
         "x": [
          0,
          1,
          2,
          3,
          4,
          5,
          6,
          7,
          8,
          9,
          10,
          11,
          12,
          13,
          14,
          15,
          16,
          17,
          18,
          19,
          20,
          21,
          22,
          23,
          24,
          25,
          26,
          27,
          28,
          29,
          30,
          31,
          32,
          33,
          34,
          35,
          36,
          37,
          38,
          39,
          40,
          41,
          42,
          43,
          44,
          45,
          46,
          47,
          48,
          49,
          50,
          51,
          52,
          53,
          54,
          55,
          56,
          57,
          58,
          59,
          60,
          61,
          62,
          63,
          64,
          65,
          66,
          67,
          68,
          69,
          70,
          71,
          72,
          73,
          74,
          75,
          76,
          77,
          78,
          79,
          80,
          81,
          82,
          83,
          84,
          85,
          86,
          87,
          88,
          89,
          90,
          91,
          92,
          93,
          94,
          95,
          96,
          97,
          98,
          99
         ],
         "xaxis": "x2",
         "y": [
          0.8741405809113346,
          1.904095965924984,
          0.03890699837871412,
          2.245595577930526,
          "",
          "",
          "",
          "",
          0.06266575184591289,
          "",
          2.204639726223884,
          "",
          0.563105801925665,
          "",
          1.021386906586891,
          "",
          "",
          "",
          "",
          0.8772314202471609,
          2.0379968854254327,
          "",
          0.007680860058933092,
          "",
          "",
          "",
          2.2462882227010605,
          2.050713349092098,
          "",
          3.003622306127273,
          0.5706780952089239,
          1.2157558259975365,
          0.38638235398303566,
          0.3289204505968917,
          "",
          0.6981067252404994,
          0.7763198663022214,
          1.6920216556993755,
          "",
          "",
          "",
          0.982276487535148,
          0.18922378566849474,
          "",
          1.2825171967384037,
          0.5949234764520549,
          "",
          "",
          "",
          0.27336315562430513,
          "",
          "",
          "",
          "",
          "",
          "",
          "",
          "",
          "",
          "",
          0.5464424302417364,
          "",
          1.798098627131984,
          0.37804459823853065,
          1.4884675647174586,
          1.1792345319190418,
          0.2536048371124666,
          1.3774707721291244,
          2.348019799729694,
          "",
          2.352551061789711,
          0.45344421888084707,
          "",
          "",
          "",
          "",
          2.4666981121948304,
          1.90343061969704,
          "",
          "",
          "",
          0.5288047023761006,
          0.1160699859200651,
          "",
          1.9704674103186024,
          0.0325847654851783,
          "",
          0.03109497664610933,
          0.08382542909171331,
          "",
          "",
          "",
          "",
          1.05245813836955,
          0.6217779780024508,
          "",
          1.4360843793174487,
          "",
          1.6905476315382164,
          1.0204722767593923
         ],
         "yaxis": "y2"
        },
        {
         "connectgaps": false,
         "fill": "tozeroy",
         "line": {
          "color": "red",
          "dash": "solid",
          "shape": "linear",
          "width": 0.5
         },
         "mode": "lines",
         "name": "Spread",
         "showlegend": false,
         "type": "scatter",
         "x": [
          0,
          1,
          2,
          3,
          4,
          5,
          6,
          7,
          8,
          9,
          10,
          11,
          12,
          13,
          14,
          15,
          16,
          17,
          18,
          19,
          20,
          21,
          22,
          23,
          24,
          25,
          26,
          27,
          28,
          29,
          30,
          31,
          32,
          33,
          34,
          35,
          36,
          37,
          38,
          39,
          40,
          41,
          42,
          43,
          44,
          45,
          46,
          47,
          48,
          49,
          50,
          51,
          52,
          53,
          54,
          55,
          56,
          57,
          58,
          59,
          60,
          61,
          62,
          63,
          64,
          65,
          66,
          67,
          68,
          69,
          70,
          71,
          72,
          73,
          74,
          75,
          76,
          77,
          78,
          79,
          80,
          81,
          82,
          83,
          84,
          85,
          86,
          87,
          88,
          89,
          90,
          91,
          92,
          93,
          94,
          95,
          96,
          97,
          98,
          99
         ],
         "xaxis": "x2",
         "y": [
          "",
          "",
          "",
          "",
          -0.8060600036215915,
          -1.0976241689799626,
          -2.030721875548462,
          -0.03570211623497077,
          "",
          -1.491312586648259,
          "",
          -1.844677966584502,
          "",
          -0.5031401029055731,
          "",
          -2.3413886040765797,
          -0.2869053566187755,
          -1.1810298263792625,
          -0.4671659020927792,
          "",
          "",
          -1.6992198327750927,
          "",
          -1.8996789043816058,
          -0.6925183127357517,
          -2.888541661073,
          "",
          "",
          -1.656192807399589,
          "",
          "",
          "",
          "",
          "",
          -3.3087416262189953,
          "",
          "",
          "",
          -0.5172500994724073,
          -1.176513745514244,
          -1.8268615115800277,
          "",
          "",
          -1.479548665177798,
          "",
          "",
          -0.06195010290736558,
          -0.4709402385967163,
          -1.6585810302885828,
          "",
          -1.0332462694845699,
          -1.4458517299354945,
          -0.002043406746771337,
          -1.0059584812461677,
          -0.37126197806493677,
          -0.932861889500874,
          -0.5838427561408819,
          -0.514060680107556,
          -0.7941738436172023,
          -0.994787820777644,
          "",
          -0.8196004541489262,
          "",
          "",
          "",
          "",
          "",
          "",
          "",
          -0.16823507851944453,
          "",
          "",
          -0.3229074239226976,
          -0.075392747587844,
          -2.7455479856450715,
          -1.5247262902511916,
          "",
          "",
          -1.144016673235551,
          -0.6899432499110665,
          -1.4462783453854953,
          "",
          "",
          -1.504140982563837,
          "",
          "",
          -0.7736002051736014,
          "",
          "",
          -0.5520236071896176,
          -0.9959821918508683,
          -1.5690711502762804,
          -0.8770020814999732,
          "",
          "",
          -1.3374396440877245,
          "",
          -0.04101692371979648,
          "",
          ""
         ],
         "yaxis": "y2"
        }
       ],
       "layout": {
        "hovermode": "x",
        "legend": {
         "bgcolor": "#F5F6F9",
         "font": {
          "color": "#4D5663"
         }
        },
        "paper_bgcolor": "#F5F6F9",
        "plot_bgcolor": "#F5F6F9",
        "template": {
         "data": {
          "bar": [
           {
            "error_x": {
             "color": "#2a3f5f"
            },
            "error_y": {
             "color": "#2a3f5f"
            },
            "marker": {
             "line": {
              "color": "#E5ECF6",
              "width": 0.5
             }
            },
            "type": "bar"
           }
          ],
          "barpolar": [
           {
            "marker": {
             "line": {
              "color": "#E5ECF6",
              "width": 0.5
             }
            },
            "type": "barpolar"
           }
          ],
          "carpet": [
           {
            "aaxis": {
             "endlinecolor": "#2a3f5f",
             "gridcolor": "white",
             "linecolor": "white",
             "minorgridcolor": "white",
             "startlinecolor": "#2a3f5f"
            },
            "baxis": {
             "endlinecolor": "#2a3f5f",
             "gridcolor": "white",
             "linecolor": "white",
             "minorgridcolor": "white",
             "startlinecolor": "#2a3f5f"
            },
            "type": "carpet"
           }
          ],
          "choropleth": [
           {
            "colorbar": {
             "outlinewidth": 0,
             "ticks": ""
            },
            "type": "choropleth"
           }
          ],
          "contour": [
           {
            "colorbar": {
             "outlinewidth": 0,
             "ticks": ""
            },
            "colorscale": [
             [
              0,
              "#0d0887"
             ],
             [
              0.1111111111111111,
              "#46039f"
             ],
             [
              0.2222222222222222,
              "#7201a8"
             ],
             [
              0.3333333333333333,
              "#9c179e"
             ],
             [
              0.4444444444444444,
              "#bd3786"
             ],
             [
              0.5555555555555556,
              "#d8576b"
             ],
             [
              0.6666666666666666,
              "#ed7953"
             ],
             [
              0.7777777777777778,
              "#fb9f3a"
             ],
             [
              0.8888888888888888,
              "#fdca26"
             ],
             [
              1,
              "#f0f921"
             ]
            ],
            "type": "contour"
           }
          ],
          "contourcarpet": [
           {
            "colorbar": {
             "outlinewidth": 0,
             "ticks": ""
            },
            "type": "contourcarpet"
           }
          ],
          "heatmap": [
           {
            "colorbar": {
             "outlinewidth": 0,
             "ticks": ""
            },
            "colorscale": [
             [
              0,
              "#0d0887"
             ],
             [
              0.1111111111111111,
              "#46039f"
             ],
             [
              0.2222222222222222,
              "#7201a8"
             ],
             [
              0.3333333333333333,
              "#9c179e"
             ],
             [
              0.4444444444444444,
              "#bd3786"
             ],
             [
              0.5555555555555556,
              "#d8576b"
             ],
             [
              0.6666666666666666,
              "#ed7953"
             ],
             [
              0.7777777777777778,
              "#fb9f3a"
             ],
             [
              0.8888888888888888,
              "#fdca26"
             ],
             [
              1,
              "#f0f921"
             ]
            ],
            "type": "heatmap"
           }
          ],
          "heatmapgl": [
           {
            "colorbar": {
             "outlinewidth": 0,
             "ticks": ""
            },
            "colorscale": [
             [
              0,
              "#0d0887"
             ],
             [
              0.1111111111111111,
              "#46039f"
             ],
             [
              0.2222222222222222,
              "#7201a8"
             ],
             [
              0.3333333333333333,
              "#9c179e"
             ],
             [
              0.4444444444444444,
              "#bd3786"
             ],
             [
              0.5555555555555556,
              "#d8576b"
             ],
             [
              0.6666666666666666,
              "#ed7953"
             ],
             [
              0.7777777777777778,
              "#fb9f3a"
             ],
             [
              0.8888888888888888,
              "#fdca26"
             ],
             [
              1,
              "#f0f921"
             ]
            ],
            "type": "heatmapgl"
           }
          ],
          "histogram": [
           {
            "marker": {
             "colorbar": {
              "outlinewidth": 0,
              "ticks": ""
             }
            },
            "type": "histogram"
           }
          ],
          "histogram2d": [
           {
            "colorbar": {
             "outlinewidth": 0,
             "ticks": ""
            },
            "colorscale": [
             [
              0,
              "#0d0887"
             ],
             [
              0.1111111111111111,
              "#46039f"
             ],
             [
              0.2222222222222222,
              "#7201a8"
             ],
             [
              0.3333333333333333,
              "#9c179e"
             ],
             [
              0.4444444444444444,
              "#bd3786"
             ],
             [
              0.5555555555555556,
              "#d8576b"
             ],
             [
              0.6666666666666666,
              "#ed7953"
             ],
             [
              0.7777777777777778,
              "#fb9f3a"
             ],
             [
              0.8888888888888888,
              "#fdca26"
             ],
             [
              1,
              "#f0f921"
             ]
            ],
            "type": "histogram2d"
           }
          ],
          "histogram2dcontour": [
           {
            "colorbar": {
             "outlinewidth": 0,
             "ticks": ""
            },
            "colorscale": [
             [
              0,
              "#0d0887"
             ],
             [
              0.1111111111111111,
              "#46039f"
             ],
             [
              0.2222222222222222,
              "#7201a8"
             ],
             [
              0.3333333333333333,
              "#9c179e"
             ],
             [
              0.4444444444444444,
              "#bd3786"
             ],
             [
              0.5555555555555556,
              "#d8576b"
             ],
             [
              0.6666666666666666,
              "#ed7953"
             ],
             [
              0.7777777777777778,
              "#fb9f3a"
             ],
             [
              0.8888888888888888,
              "#fdca26"
             ],
             [
              1,
              "#f0f921"
             ]
            ],
            "type": "histogram2dcontour"
           }
          ],
          "mesh3d": [
           {
            "colorbar": {
             "outlinewidth": 0,
             "ticks": ""
            },
            "type": "mesh3d"
           }
          ],
          "parcoords": [
           {
            "line": {
             "colorbar": {
              "outlinewidth": 0,
              "ticks": ""
             }
            },
            "type": "parcoords"
           }
          ],
          "pie": [
           {
            "automargin": true,
            "type": "pie"
           }
          ],
          "scatter": [
           {
            "marker": {
             "colorbar": {
              "outlinewidth": 0,
              "ticks": ""
             }
            },
            "type": "scatter"
           }
          ],
          "scatter3d": [
           {
            "line": {
             "colorbar": {
              "outlinewidth": 0,
              "ticks": ""
             }
            },
            "marker": {
             "colorbar": {
              "outlinewidth": 0,
              "ticks": ""
             }
            },
            "type": "scatter3d"
           }
          ],
          "scattercarpet": [
           {
            "marker": {
             "colorbar": {
              "outlinewidth": 0,
              "ticks": ""
             }
            },
            "type": "scattercarpet"
           }
          ],
          "scattergeo": [
           {
            "marker": {
             "colorbar": {
              "outlinewidth": 0,
              "ticks": ""
             }
            },
            "type": "scattergeo"
           }
          ],
          "scattergl": [
           {
            "marker": {
             "colorbar": {
              "outlinewidth": 0,
              "ticks": ""
             }
            },
            "type": "scattergl"
           }
          ],
          "scattermapbox": [
           {
            "marker": {
             "colorbar": {
              "outlinewidth": 0,
              "ticks": ""
             }
            },
            "type": "scattermapbox"
           }
          ],
          "scatterpolar": [
           {
            "marker": {
             "colorbar": {
              "outlinewidth": 0,
              "ticks": ""
             }
            },
            "type": "scatterpolar"
           }
          ],
          "scatterpolargl": [
           {
            "marker": {
             "colorbar": {
              "outlinewidth": 0,
              "ticks": ""
             }
            },
            "type": "scatterpolargl"
           }
          ],
          "scatterternary": [
           {
            "marker": {
             "colorbar": {
              "outlinewidth": 0,
              "ticks": ""
             }
            },
            "type": "scatterternary"
           }
          ],
          "surface": [
           {
            "colorbar": {
             "outlinewidth": 0,
             "ticks": ""
            },
            "colorscale": [
             [
              0,
              "#0d0887"
             ],
             [
              0.1111111111111111,
              "#46039f"
             ],
             [
              0.2222222222222222,
              "#7201a8"
             ],
             [
              0.3333333333333333,
              "#9c179e"
             ],
             [
              0.4444444444444444,
              "#bd3786"
             ],
             [
              0.5555555555555556,
              "#d8576b"
             ],
             [
              0.6666666666666666,
              "#ed7953"
             ],
             [
              0.7777777777777778,
              "#fb9f3a"
             ],
             [
              0.8888888888888888,
              "#fdca26"
             ],
             [
              1,
              "#f0f921"
             ]
            ],
            "type": "surface"
           }
          ],
          "table": [
           {
            "cells": {
             "fill": {
              "color": "#EBF0F8"
             },
             "line": {
              "color": "white"
             }
            },
            "header": {
             "fill": {
              "color": "#C8D4E3"
             },
             "line": {
              "color": "white"
             }
            },
            "type": "table"
           }
          ]
         },
         "layout": {
          "annotationdefaults": {
           "arrowcolor": "#2a3f5f",
           "arrowhead": 0,
           "arrowwidth": 1
          },
          "coloraxis": {
           "colorbar": {
            "outlinewidth": 0,
            "ticks": ""
           }
          },
          "colorscale": {
           "diverging": [
            [
             0,
             "#8e0152"
            ],
            [
             0.1,
             "#c51b7d"
            ],
            [
             0.2,
             "#de77ae"
            ],
            [
             0.3,
             "#f1b6da"
            ],
            [
             0.4,
             "#fde0ef"
            ],
            [
             0.5,
             "#f7f7f7"
            ],
            [
             0.6,
             "#e6f5d0"
            ],
            [
             0.7,
             "#b8e186"
            ],
            [
             0.8,
             "#7fbc41"
            ],
            [
             0.9,
             "#4d9221"
            ],
            [
             1,
             "#276419"
            ]
           ],
           "sequential": [
            [
             0,
             "#0d0887"
            ],
            [
             0.1111111111111111,
             "#46039f"
            ],
            [
             0.2222222222222222,
             "#7201a8"
            ],
            [
             0.3333333333333333,
             "#9c179e"
            ],
            [
             0.4444444444444444,
             "#bd3786"
            ],
            [
             0.5555555555555556,
             "#d8576b"
            ],
            [
             0.6666666666666666,
             "#ed7953"
            ],
            [
             0.7777777777777778,
             "#fb9f3a"
            ],
            [
             0.8888888888888888,
             "#fdca26"
            ],
            [
             1,
             "#f0f921"
            ]
           ],
           "sequentialminus": [
            [
             0,
             "#0d0887"
            ],
            [
             0.1111111111111111,
             "#46039f"
            ],
            [
             0.2222222222222222,
             "#7201a8"
            ],
            [
             0.3333333333333333,
             "#9c179e"
            ],
            [
             0.4444444444444444,
             "#bd3786"
            ],
            [
             0.5555555555555556,
             "#d8576b"
            ],
            [
             0.6666666666666666,
             "#ed7953"
            ],
            [
             0.7777777777777778,
             "#fb9f3a"
            ],
            [
             0.8888888888888888,
             "#fdca26"
            ],
            [
             1,
             "#f0f921"
            ]
           ]
          },
          "colorway": [
           "#636efa",
           "#EF553B",
           "#00cc96",
           "#ab63fa",
           "#FFA15A",
           "#19d3f3",
           "#FF6692",
           "#B6E880",
           "#FF97FF",
           "#FECB52"
          ],
          "font": {
           "color": "#2a3f5f"
          },
          "geo": {
           "bgcolor": "white",
           "lakecolor": "white",
           "landcolor": "#E5ECF6",
           "showlakes": true,
           "showland": true,
           "subunitcolor": "white"
          },
          "hoverlabel": {
           "align": "left"
          },
          "hovermode": "closest",
          "mapbox": {
           "style": "light"
          },
          "paper_bgcolor": "white",
          "plot_bgcolor": "#E5ECF6",
          "polar": {
           "angularaxis": {
            "gridcolor": "white",
            "linecolor": "white",
            "ticks": ""
           },
           "bgcolor": "#E5ECF6",
           "radialaxis": {
            "gridcolor": "white",
            "linecolor": "white",
            "ticks": ""
           }
          },
          "scene": {
           "xaxis": {
            "backgroundcolor": "#E5ECF6",
            "gridcolor": "white",
            "gridwidth": 2,
            "linecolor": "white",
            "showbackground": true,
            "ticks": "",
            "zerolinecolor": "white"
           },
           "yaxis": {
            "backgroundcolor": "#E5ECF6",
            "gridcolor": "white",
            "gridwidth": 2,
            "linecolor": "white",
            "showbackground": true,
            "ticks": "",
            "zerolinecolor": "white"
           },
           "zaxis": {
            "backgroundcolor": "#E5ECF6",
            "gridcolor": "white",
            "gridwidth": 2,
            "linecolor": "white",
            "showbackground": true,
            "ticks": "",
            "zerolinecolor": "white"
           }
          },
          "shapedefaults": {
           "line": {
            "color": "#2a3f5f"
           }
          },
          "ternary": {
           "aaxis": {
            "gridcolor": "white",
            "linecolor": "white",
            "ticks": ""
           },
           "baxis": {
            "gridcolor": "white",
            "linecolor": "white",
            "ticks": ""
           },
           "bgcolor": "#E5ECF6",
           "caxis": {
            "gridcolor": "white",
            "linecolor": "white",
            "ticks": ""
           }
          },
          "title": {
           "x": 0.05
          },
          "xaxis": {
           "automargin": true,
           "gridcolor": "white",
           "linecolor": "white",
           "ticks": "",
           "title": {
            "standoff": 15
           },
           "zerolinecolor": "white",
           "zerolinewidth": 2
          },
          "yaxis": {
           "automargin": true,
           "gridcolor": "white",
           "linecolor": "white",
           "ticks": "",
           "title": {
            "standoff": 15
           },
           "zerolinecolor": "white",
           "zerolinewidth": 2
          }
         }
        },
        "title": {
         "font": {
          "color": "#4D5663"
         }
        },
        "xaxis": {
         "gridcolor": "#E1E5ED",
         "showgrid": true,
         "tickfont": {
          "color": "#4D5663"
         },
         "title": {
          "font": {
           "color": "#4D5663"
          },
          "text": ""
         },
         "zerolinecolor": "#E1E5ED"
        },
        "xaxis2": {
         "anchor": "y2",
         "gridcolor": "#E1E5ED",
         "showgrid": true,
         "showticklabels": false,
         "tickfont": {
          "color": "#4D5663"
         },
         "title": {
          "font": {
           "color": "#4D5663"
          },
          "text": ""
         },
         "zerolinecolor": "#E1E5ED"
        },
        "yaxis": {
         "domain": [
          0.3,
          1
         ],
         "gridcolor": "#E1E5ED",
         "showgrid": true,
         "tickfont": {
          "color": "#4D5663"
         },
         "title": {
          "font": {
           "color": "#4D5663"
          },
          "text": ""
         },
         "zerolinecolor": "#E1E5ED"
        },
        "yaxis2": {
         "domain": [
          0,
          0.25
         ],
         "gridcolor": "#E1E5ED",
         "showgrid": true,
         "tickfont": {
          "color": "#4D5663"
         },
         "title": {
          "font": {
           "color": "#4D5663"
          },
          "text": "Spread"
         },
         "zerolinecolor": "#E1E5ED"
        }
       }
      },
      "text/html": [
       "<div>\n",
       "        \n",
       "        \n",
       "            <div id=\"bab54e8f-ae13-48af-aeb7-1606db9087b8\" class=\"plotly-graph-div\" style=\"height:525px; width:100%;\"></div>\n",
       "            <script type=\"text/javascript\">\n",
       "                require([\"plotly\"], function(Plotly) {\n",
       "                    window.PLOTLYENV=window.PLOTLYENV || {};\n",
       "                    window.PLOTLYENV.BASE_URL='https://plot.ly';\n",
       "                    \n",
       "                if (document.getElementById(\"bab54e8f-ae13-48af-aeb7-1606db9087b8\")) {\n",
       "                    Plotly.newPlot(\n",
       "                        'bab54e8f-ae13-48af-aeb7-1606db9087b8',\n",
       "                        [{\"line\": {\"color\": \"rgba(255, 153, 51, 1.0)\", \"dash\": \"solid\", \"shape\": \"linear\", \"width\": 1.3}, \"mode\": \"lines\", \"name\": \"A\", \"text\": \"\", \"type\": \"scatter\", \"x\": [0, 1, 2, 3, 4, 5, 6, 7, 8, 9, 10, 11, 12, 13, 14, 15, 16, 17, 18, 19, 20, 21, 22, 23, 24, 25, 26, 27, 28, 29, 30, 31, 32, 33, 34, 35, 36, 37, 38, 39, 40, 41, 42, 43, 44, 45, 46, 47, 48, 49, 50, 51, 52, 53, 54, 55, 56, 57, 58, 59, 60, 61, 62, 63, 64, 65, 66, 67, 68, 69, 70, 71, 72, 73, 74, 75, 76, 77, 78, 79, 80, 81, 82, 83, 84, 85, 86, 87, 88, 89, 90, 91, 92, 93, 94, 95, 96, 97, 98, 99], \"y\": [0.0582296909058791, -0.02584525376380703, 0.00233282809989629, 1.1481746239450044, 0.24613651723675956, -1.0638018398599103, -0.21304176589290522, -0.8877953781238356, 0.2408920641467541, -0.8396975894960268, 2.0132202407596353, -1.8360206750556003, -0.2517700023746602, -1.4502799812552967, 0.4152057826772664, -0.8998644155235899, 0.5982440600673362, -0.9759069692250059, -1.1973876247754691, 0.5577122833829123, 2.310315783202372, -1.7961940534317489, -0.6572397260969888, -1.3376421186203706, 1.0608517587708919, -2.259894369695355, 1.4606925940258704, 1.8907728427394275, -0.3043119428357968, 1.9881857367303992, 0.3901698887479151, 1.3241022911963933, 1.0959833079431376, -1.2734420037321217, -1.3216363381573888, 0.834565478861918, 0.6299828498049981, 2.0786395666444015, -1.0791936006443799, -1.3790272078160453, -1.178945530656404, 0.22964243572651152, -0.029963990967407286, -0.43786137324103674, 0.6356308238712179, 0.14810106273265564, 0.5227969542030575, 1.0543535418382617, 0.02211756534029964, -0.13560799701465331, -0.5525218983218556, -1.0196807962712457, -0.2607666151406072, -0.5602173304664195, -0.6492750894074405, -0.2556935165453845, -1.0771115992625304, -0.135328085335629, -0.04464422947027891, -1.161005405176078, 0.3122523074359768, -1.6625191089294775, 0.34194335491409344, 0.16470959404488125, 1.2878181748305546, 0.5610471493377563, -1.444406167736111, 0.61479147005293, 2.7365467524952916, -0.6323625965306128, 1.276169138221677, -0.048793811614966896, -0.6086730440924935, 0.14012253128489457, -0.8621572953507786, -1.7685450434583079, 0.45581637692557153, 0.7050466998267874, 0.2814153735282505, 0.19735245724273506, -1.1781923319235064, 0.38757667877441015, 0.2906922661543077, -1.0313059627582548, 0.43284154174190126, -0.9379419695402221, -0.5102362125240482, -0.20895028756198047, 1.4035565803611778, -1.0519821869520587, 0.11992036334528934, -1.2473763817788441, -0.9440623587862923, 0.4649388980972195, 0.8891091225455513, -0.05281339848006934, 1.1826926725138664, -0.6496100176207341, 0.3463146074175848, 1.245054214730473]}, {\"line\": {\"color\": \"rgba(55, 128, 191, 1.0)\", \"dash\": \"solid\", \"shape\": \"linear\", \"width\": 1.3}, \"mode\": \"lines\", \"name\": \"B\", \"text\": \"\", \"type\": \"scatter\", \"x\": [0, 1, 2, 3, 4, 5, 6, 7, 8, 9, 10, 11, 12, 13, 14, 15, 16, 17, 18, 19, 20, 21, 22, 23, 24, 25, 26, 27, 28, 29, 30, 31, 32, 33, 34, 35, 36, 37, 38, 39, 40, 41, 42, 43, 44, 45, 46, 47, 48, 49, 50, 51, 52, 53, 54, 55, 56, 57, 58, 59, 60, 61, 62, 63, 64, 65, 66, 67, 68, 69, 70, 71, 72, 73, 74, 75, 76, 77, 78, 79, 80, 81, 82, 83, 84, 85, 86, 87, 88, 89, 90, 91, 92, 93, 94, 95, 96, 97, 98, 99], \"y\": [-0.8159108900054555, -1.929941219688791, -0.03657417027881783, -1.0974209539855215, 1.052196520858351, 0.033822329120052425, 1.8176801096555568, -0.8520932618888648, 0.1782263123008412, 0.6516149971522324, -0.1914194854642487, 0.008657291528901528, -0.8148758043003251, -0.9471398783497236, -0.6061811239096245, 1.4415241885529897, 0.8851494166861117, 0.20512285715425654, -0.7302217226826899, -0.31951913686424854, 0.27231889777693935, -0.09697422065665619, -0.6649205861559219, 0.5620367857612353, 1.7533700715066436, 0.6286472913776453, -0.7855956286751903, -0.15994050635267051, 1.3518808645637923, -1.0154365693968737, -0.18050820646100885, 0.10834646519885681, 0.7096009539601019, -1.6023624543290134, 1.9871052880616062, 0.13645875362141854, -0.14633701649722333, 0.38661791094502607, -0.5619435011719726, -0.20251346230180112, 0.6479159809236236, -0.7526340518086364, -0.21918777663590203, 1.0416872919367612, -0.6468863728671859, -0.44682241371939924, 0.5847470571104231, 1.525293780434978, 1.6806985956288825, -0.40897115263895845, 0.4807243711627144, 0.4261709336642487, -0.2587232083938359, 0.4457411507797482, -0.2780131113425037, 0.6771683729554895, -0.49326884312164854, 0.378732594771927, 0.7495296141469234, -0.16621758439843407, -0.23419012280575963, -0.8429186547805513, -1.4561552722178908, -0.2133350041936494, -0.2006493898869039, -0.6181873825812856, -1.6980110048485777, -0.7626793020761945, 0.3885269527655976, -0.46412751801116825, -1.0763819235680343, -0.502238030495814, -0.28576562016979584, 0.21551527887273858, 1.8833906902942927, -0.24381875320711635, -2.0108817352692587, -1.1983839198702526, 1.4254320467638015, 0.8872957071538016, 0.2680860134619889, -0.14122802360169043, 0.17462228023424262, 0.47283501980558207, -1.5376258685767012, -0.9705267350254004, 0.26336399264955324, -0.2400452642080898, 1.3197311512694645, -0.49995857976244107, 1.1159025551961577, 0.3216947684974362, -0.06706027728631916, -0.5875192402723305, 0.2673311445431004, 1.2846262456076551, -0.25339170680358225, -0.6085930939009376, -1.3442330241206317, 0.2245819379710808]}, {\"connectgaps\": false, \"fill\": \"tozeroy\", \"line\": {\"color\": \"green\", \"dash\": \"solid\", \"shape\": \"linear\", \"width\": 0.5}, \"mode\": \"lines\", \"name\": \"Spread\", \"showlegend\": false, \"type\": \"scatter\", \"x\": [0, 1, 2, 3, 4, 5, 6, 7, 8, 9, 10, 11, 12, 13, 14, 15, 16, 17, 18, 19, 20, 21, 22, 23, 24, 25, 26, 27, 28, 29, 30, 31, 32, 33, 34, 35, 36, 37, 38, 39, 40, 41, 42, 43, 44, 45, 46, 47, 48, 49, 50, 51, 52, 53, 54, 55, 56, 57, 58, 59, 60, 61, 62, 63, 64, 65, 66, 67, 68, 69, 70, 71, 72, 73, 74, 75, 76, 77, 78, 79, 80, 81, 82, 83, 84, 85, 86, 87, 88, 89, 90, 91, 92, 93, 94, 95, 96, 97, 98, 99], \"xaxis\": \"x2\", \"y\": [0.8741405809113346, 1.904095965924984, 0.03890699837871412, 2.245595577930526, \"\", \"\", \"\", \"\", 0.06266575184591289, \"\", 2.204639726223884, \"\", 0.563105801925665, \"\", 1.021386906586891, \"\", \"\", \"\", \"\", 0.8772314202471609, 2.0379968854254327, \"\", 0.007680860058933092, \"\", \"\", \"\", 2.2462882227010605, 2.050713349092098, \"\", 3.003622306127273, 0.5706780952089239, 1.2157558259975365, 0.38638235398303566, 0.3289204505968917, \"\", 0.6981067252404994, 0.7763198663022214, 1.6920216556993755, \"\", \"\", \"\", 0.982276487535148, 0.18922378566849474, \"\", 1.2825171967384037, 0.5949234764520549, \"\", \"\", \"\", 0.27336315562430513, \"\", \"\", \"\", \"\", \"\", \"\", \"\", \"\", \"\", \"\", 0.5464424302417364, \"\", 1.798098627131984, 0.37804459823853065, 1.4884675647174586, 1.1792345319190418, 0.2536048371124666, 1.3774707721291244, 2.348019799729694, \"\", 2.352551061789711, 0.45344421888084707, \"\", \"\", \"\", \"\", 2.4666981121948304, 1.90343061969704, \"\", \"\", \"\", 0.5288047023761006, 0.1160699859200651, \"\", 1.9704674103186024, 0.0325847654851783, \"\", 0.03109497664610933, 0.08382542909171331, \"\", \"\", \"\", \"\", 1.05245813836955, 0.6217779780024508, \"\", 1.4360843793174487, \"\", 1.6905476315382164, 1.0204722767593923], \"yaxis\": \"y2\"}, {\"connectgaps\": false, \"fill\": \"tozeroy\", \"line\": {\"color\": \"red\", \"dash\": \"solid\", \"shape\": \"linear\", \"width\": 0.5}, \"mode\": \"lines\", \"name\": \"Spread\", \"showlegend\": false, \"type\": \"scatter\", \"x\": [0, 1, 2, 3, 4, 5, 6, 7, 8, 9, 10, 11, 12, 13, 14, 15, 16, 17, 18, 19, 20, 21, 22, 23, 24, 25, 26, 27, 28, 29, 30, 31, 32, 33, 34, 35, 36, 37, 38, 39, 40, 41, 42, 43, 44, 45, 46, 47, 48, 49, 50, 51, 52, 53, 54, 55, 56, 57, 58, 59, 60, 61, 62, 63, 64, 65, 66, 67, 68, 69, 70, 71, 72, 73, 74, 75, 76, 77, 78, 79, 80, 81, 82, 83, 84, 85, 86, 87, 88, 89, 90, 91, 92, 93, 94, 95, 96, 97, 98, 99], \"xaxis\": \"x2\", \"y\": [\"\", \"\", \"\", \"\", -0.8060600036215915, -1.0976241689799626, -2.030721875548462, -0.03570211623497077, \"\", -1.491312586648259, \"\", -1.844677966584502, \"\", -0.5031401029055731, \"\", -2.3413886040765797, -0.2869053566187755, -1.1810298263792625, -0.4671659020927792, \"\", \"\", -1.6992198327750927, \"\", -1.8996789043816058, -0.6925183127357517, -2.888541661073, \"\", \"\", -1.656192807399589, \"\", \"\", \"\", \"\", \"\", -3.3087416262189953, \"\", \"\", \"\", -0.5172500994724073, -1.176513745514244, -1.8268615115800277, \"\", \"\", -1.479548665177798, \"\", \"\", -0.06195010290736558, -0.4709402385967163, -1.6585810302885828, \"\", -1.0332462694845699, -1.4458517299354945, -0.002043406746771337, -1.0059584812461677, -0.37126197806493677, -0.932861889500874, -0.5838427561408819, -0.514060680107556, -0.7941738436172023, -0.994787820777644, \"\", -0.8196004541489262, \"\", \"\", \"\", \"\", \"\", \"\", \"\", -0.16823507851944453, \"\", \"\", -0.3229074239226976, -0.075392747587844, -2.7455479856450715, -1.5247262902511916, \"\", \"\", -1.144016673235551, -0.6899432499110665, -1.4462783453854953, \"\", \"\", -1.504140982563837, \"\", \"\", -0.7736002051736014, \"\", \"\", -0.5520236071896176, -0.9959821918508683, -1.5690711502762804, -0.8770020814999732, \"\", \"\", -1.3374396440877245, \"\", -0.04101692371979648, \"\", \"\"], \"yaxis\": \"y2\"}],\n",
       "                        {\"hovermode\": \"x\", \"legend\": {\"bgcolor\": \"#F5F6F9\", \"font\": {\"color\": \"#4D5663\"}}, \"paper_bgcolor\": \"#F5F6F9\", \"plot_bgcolor\": \"#F5F6F9\", \"template\": {\"data\": {\"bar\": [{\"error_x\": {\"color\": \"#2a3f5f\"}, \"error_y\": {\"color\": \"#2a3f5f\"}, \"marker\": {\"line\": {\"color\": \"#E5ECF6\", \"width\": 0.5}}, \"type\": \"bar\"}], \"barpolar\": [{\"marker\": {\"line\": {\"color\": \"#E5ECF6\", \"width\": 0.5}}, \"type\": \"barpolar\"}], \"carpet\": [{\"aaxis\": {\"endlinecolor\": \"#2a3f5f\", \"gridcolor\": \"white\", \"linecolor\": \"white\", \"minorgridcolor\": \"white\", \"startlinecolor\": \"#2a3f5f\"}, \"baxis\": {\"endlinecolor\": \"#2a3f5f\", \"gridcolor\": \"white\", \"linecolor\": \"white\", \"minorgridcolor\": \"white\", \"startlinecolor\": \"#2a3f5f\"}, \"type\": \"carpet\"}], \"choropleth\": [{\"colorbar\": {\"outlinewidth\": 0, \"ticks\": \"\"}, \"type\": \"choropleth\"}], \"contour\": [{\"colorbar\": {\"outlinewidth\": 0, \"ticks\": \"\"}, \"colorscale\": [[0.0, \"#0d0887\"], [0.1111111111111111, \"#46039f\"], [0.2222222222222222, \"#7201a8\"], [0.3333333333333333, \"#9c179e\"], [0.4444444444444444, \"#bd3786\"], [0.5555555555555556, \"#d8576b\"], [0.6666666666666666, \"#ed7953\"], [0.7777777777777778, \"#fb9f3a\"], [0.8888888888888888, \"#fdca26\"], [1.0, \"#f0f921\"]], \"type\": \"contour\"}], \"contourcarpet\": [{\"colorbar\": {\"outlinewidth\": 0, \"ticks\": \"\"}, \"type\": \"contourcarpet\"}], \"heatmap\": [{\"colorbar\": {\"outlinewidth\": 0, \"ticks\": \"\"}, \"colorscale\": [[0.0, \"#0d0887\"], [0.1111111111111111, \"#46039f\"], [0.2222222222222222, \"#7201a8\"], [0.3333333333333333, \"#9c179e\"], [0.4444444444444444, \"#bd3786\"], [0.5555555555555556, \"#d8576b\"], [0.6666666666666666, \"#ed7953\"], [0.7777777777777778, \"#fb9f3a\"], [0.8888888888888888, \"#fdca26\"], [1.0, \"#f0f921\"]], \"type\": \"heatmap\"}], \"heatmapgl\": [{\"colorbar\": {\"outlinewidth\": 0, \"ticks\": \"\"}, \"colorscale\": [[0.0, \"#0d0887\"], [0.1111111111111111, \"#46039f\"], [0.2222222222222222, \"#7201a8\"], [0.3333333333333333, \"#9c179e\"], [0.4444444444444444, \"#bd3786\"], [0.5555555555555556, \"#d8576b\"], [0.6666666666666666, \"#ed7953\"], [0.7777777777777778, \"#fb9f3a\"], [0.8888888888888888, \"#fdca26\"], [1.0, \"#f0f921\"]], \"type\": \"heatmapgl\"}], \"histogram\": [{\"marker\": {\"colorbar\": {\"outlinewidth\": 0, \"ticks\": \"\"}}, \"type\": \"histogram\"}], \"histogram2d\": [{\"colorbar\": {\"outlinewidth\": 0, \"ticks\": \"\"}, \"colorscale\": [[0.0, \"#0d0887\"], [0.1111111111111111, \"#46039f\"], [0.2222222222222222, \"#7201a8\"], [0.3333333333333333, \"#9c179e\"], [0.4444444444444444, \"#bd3786\"], [0.5555555555555556, \"#d8576b\"], [0.6666666666666666, \"#ed7953\"], [0.7777777777777778, \"#fb9f3a\"], [0.8888888888888888, \"#fdca26\"], [1.0, \"#f0f921\"]], \"type\": \"histogram2d\"}], \"histogram2dcontour\": [{\"colorbar\": {\"outlinewidth\": 0, \"ticks\": \"\"}, \"colorscale\": [[0.0, \"#0d0887\"], [0.1111111111111111, \"#46039f\"], [0.2222222222222222, \"#7201a8\"], [0.3333333333333333, \"#9c179e\"], [0.4444444444444444, \"#bd3786\"], [0.5555555555555556, \"#d8576b\"], [0.6666666666666666, \"#ed7953\"], [0.7777777777777778, \"#fb9f3a\"], [0.8888888888888888, \"#fdca26\"], [1.0, \"#f0f921\"]], \"type\": \"histogram2dcontour\"}], \"mesh3d\": [{\"colorbar\": {\"outlinewidth\": 0, \"ticks\": \"\"}, \"type\": \"mesh3d\"}], \"parcoords\": [{\"line\": {\"colorbar\": {\"outlinewidth\": 0, \"ticks\": \"\"}}, \"type\": \"parcoords\"}], \"pie\": [{\"automargin\": true, \"type\": \"pie\"}], \"scatter\": [{\"marker\": {\"colorbar\": {\"outlinewidth\": 0, \"ticks\": \"\"}}, \"type\": \"scatter\"}], \"scatter3d\": [{\"line\": {\"colorbar\": {\"outlinewidth\": 0, \"ticks\": \"\"}}, \"marker\": {\"colorbar\": {\"outlinewidth\": 0, \"ticks\": \"\"}}, \"type\": \"scatter3d\"}], \"scattercarpet\": [{\"marker\": {\"colorbar\": {\"outlinewidth\": 0, \"ticks\": \"\"}}, \"type\": \"scattercarpet\"}], \"scattergeo\": [{\"marker\": {\"colorbar\": {\"outlinewidth\": 0, \"ticks\": \"\"}}, \"type\": \"scattergeo\"}], \"scattergl\": [{\"marker\": {\"colorbar\": {\"outlinewidth\": 0, \"ticks\": \"\"}}, \"type\": \"scattergl\"}], \"scattermapbox\": [{\"marker\": {\"colorbar\": {\"outlinewidth\": 0, \"ticks\": \"\"}}, \"type\": \"scattermapbox\"}], \"scatterpolar\": [{\"marker\": {\"colorbar\": {\"outlinewidth\": 0, \"ticks\": \"\"}}, \"type\": \"scatterpolar\"}], \"scatterpolargl\": [{\"marker\": {\"colorbar\": {\"outlinewidth\": 0, \"ticks\": \"\"}}, \"type\": \"scatterpolargl\"}], \"scatterternary\": [{\"marker\": {\"colorbar\": {\"outlinewidth\": 0, \"ticks\": \"\"}}, \"type\": \"scatterternary\"}], \"surface\": [{\"colorbar\": {\"outlinewidth\": 0, \"ticks\": \"\"}, \"colorscale\": [[0.0, \"#0d0887\"], [0.1111111111111111, \"#46039f\"], [0.2222222222222222, \"#7201a8\"], [0.3333333333333333, \"#9c179e\"], [0.4444444444444444, \"#bd3786\"], [0.5555555555555556, \"#d8576b\"], [0.6666666666666666, \"#ed7953\"], [0.7777777777777778, \"#fb9f3a\"], [0.8888888888888888, \"#fdca26\"], [1.0, \"#f0f921\"]], \"type\": \"surface\"}], \"table\": [{\"cells\": {\"fill\": {\"color\": \"#EBF0F8\"}, \"line\": {\"color\": \"white\"}}, \"header\": {\"fill\": {\"color\": \"#C8D4E3\"}, \"line\": {\"color\": \"white\"}}, \"type\": \"table\"}]}, \"layout\": {\"annotationdefaults\": {\"arrowcolor\": \"#2a3f5f\", \"arrowhead\": 0, \"arrowwidth\": 1}, \"coloraxis\": {\"colorbar\": {\"outlinewidth\": 0, \"ticks\": \"\"}}, \"colorscale\": {\"diverging\": [[0, \"#8e0152\"], [0.1, \"#c51b7d\"], [0.2, \"#de77ae\"], [0.3, \"#f1b6da\"], [0.4, \"#fde0ef\"], [0.5, \"#f7f7f7\"], [0.6, \"#e6f5d0\"], [0.7, \"#b8e186\"], [0.8, \"#7fbc41\"], [0.9, \"#4d9221\"], [1, \"#276419\"]], \"sequential\": [[0.0, \"#0d0887\"], [0.1111111111111111, \"#46039f\"], [0.2222222222222222, \"#7201a8\"], [0.3333333333333333, \"#9c179e\"], [0.4444444444444444, \"#bd3786\"], [0.5555555555555556, \"#d8576b\"], [0.6666666666666666, \"#ed7953\"], [0.7777777777777778, \"#fb9f3a\"], [0.8888888888888888, \"#fdca26\"], [1.0, \"#f0f921\"]], \"sequentialminus\": [[0.0, \"#0d0887\"], [0.1111111111111111, \"#46039f\"], [0.2222222222222222, \"#7201a8\"], [0.3333333333333333, \"#9c179e\"], [0.4444444444444444, \"#bd3786\"], [0.5555555555555556, \"#d8576b\"], [0.6666666666666666, \"#ed7953\"], [0.7777777777777778, \"#fb9f3a\"], [0.8888888888888888, \"#fdca26\"], [1.0, \"#f0f921\"]]}, \"colorway\": [\"#636efa\", \"#EF553B\", \"#00cc96\", \"#ab63fa\", \"#FFA15A\", \"#19d3f3\", \"#FF6692\", \"#B6E880\", \"#FF97FF\", \"#FECB52\"], \"font\": {\"color\": \"#2a3f5f\"}, \"geo\": {\"bgcolor\": \"white\", \"lakecolor\": \"white\", \"landcolor\": \"#E5ECF6\", \"showlakes\": true, \"showland\": true, \"subunitcolor\": \"white\"}, \"hoverlabel\": {\"align\": \"left\"}, \"hovermode\": \"closest\", \"mapbox\": {\"style\": \"light\"}, \"paper_bgcolor\": \"white\", \"plot_bgcolor\": \"#E5ECF6\", \"polar\": {\"angularaxis\": {\"gridcolor\": \"white\", \"linecolor\": \"white\", \"ticks\": \"\"}, \"bgcolor\": \"#E5ECF6\", \"radialaxis\": {\"gridcolor\": \"white\", \"linecolor\": \"white\", \"ticks\": \"\"}}, \"scene\": {\"xaxis\": {\"backgroundcolor\": \"#E5ECF6\", \"gridcolor\": \"white\", \"gridwidth\": 2, \"linecolor\": \"white\", \"showbackground\": true, \"ticks\": \"\", \"zerolinecolor\": \"white\"}, \"yaxis\": {\"backgroundcolor\": \"#E5ECF6\", \"gridcolor\": \"white\", \"gridwidth\": 2, \"linecolor\": \"white\", \"showbackground\": true, \"ticks\": \"\", \"zerolinecolor\": \"white\"}, \"zaxis\": {\"backgroundcolor\": \"#E5ECF6\", \"gridcolor\": \"white\", \"gridwidth\": 2, \"linecolor\": \"white\", \"showbackground\": true, \"ticks\": \"\", \"zerolinecolor\": \"white\"}}, \"shapedefaults\": {\"line\": {\"color\": \"#2a3f5f\"}}, \"ternary\": {\"aaxis\": {\"gridcolor\": \"white\", \"linecolor\": \"white\", \"ticks\": \"\"}, \"baxis\": {\"gridcolor\": \"white\", \"linecolor\": \"white\", \"ticks\": \"\"}, \"bgcolor\": \"#E5ECF6\", \"caxis\": {\"gridcolor\": \"white\", \"linecolor\": \"white\", \"ticks\": \"\"}}, \"title\": {\"x\": 0.05}, \"xaxis\": {\"automargin\": true, \"gridcolor\": \"white\", \"linecolor\": \"white\", \"ticks\": \"\", \"title\": {\"standoff\": 15}, \"zerolinecolor\": \"white\", \"zerolinewidth\": 2}, \"yaxis\": {\"automargin\": true, \"gridcolor\": \"white\", \"linecolor\": \"white\", \"ticks\": \"\", \"title\": {\"standoff\": 15}, \"zerolinecolor\": \"white\", \"zerolinewidth\": 2}}}, \"title\": {\"font\": {\"color\": \"#4D5663\"}}, \"xaxis\": {\"gridcolor\": \"#E1E5ED\", \"showgrid\": true, \"tickfont\": {\"color\": \"#4D5663\"}, \"title\": {\"font\": {\"color\": \"#4D5663\"}, \"text\": \"\"}, \"zerolinecolor\": \"#E1E5ED\"}, \"xaxis2\": {\"anchor\": \"y2\", \"gridcolor\": \"#E1E5ED\", \"showgrid\": true, \"showticklabels\": false, \"tickfont\": {\"color\": \"#4D5663\"}, \"title\": {\"font\": {\"color\": \"#4D5663\"}, \"text\": \"\"}, \"zerolinecolor\": \"#E1E5ED\"}, \"yaxis\": {\"domain\": [0.3, 1], \"gridcolor\": \"#E1E5ED\", \"showgrid\": true, \"tickfont\": {\"color\": \"#4D5663\"}, \"title\": {\"font\": {\"color\": \"#4D5663\"}, \"text\": \"\"}, \"zerolinecolor\": \"#E1E5ED\"}, \"yaxis2\": {\"domain\": [0, 0.25], \"gridcolor\": \"#E1E5ED\", \"showgrid\": true, \"tickfont\": {\"color\": \"#4D5663\"}, \"title\": {\"font\": {\"color\": \"#4D5663\"}, \"text\": \"Spread\"}, \"zerolinecolor\": \"#E1E5ED\"}},\n",
       "                        {\"showLink\": true, \"linkText\": \"Export to plot.ly\", \"plotlyServerURL\": \"https://plot.ly\", \"responsive\": true}\n",
       "                    ).then(function(){\n",
       "                            \n",
       "var gd = document.getElementById('bab54e8f-ae13-48af-aeb7-1606db9087b8');\n",
       "var x = new MutationObserver(function (mutations, observer) {{\n",
       "        var display = window.getComputedStyle(gd).display;\n",
       "        if (!display || display === 'none') {{\n",
       "            console.log([gd, 'removed!']);\n",
       "            Plotly.purge(gd);\n",
       "            observer.disconnect();\n",
       "        }}\n",
       "}});\n",
       "\n",
       "// Listen for the removal of the full notebook cells\n",
       "var notebookContainer = gd.closest('#notebook-container');\n",
       "if (notebookContainer) {{\n",
       "    x.observe(notebookContainer, {childList: true});\n",
       "}}\n",
       "\n",
       "// Listen for the clearing of the current output cell\n",
       "var outputEl = gd.closest('.output');\n",
       "if (outputEl) {{\n",
       "    x.observe(outputEl, {childList: true});\n",
       "}}\n",
       "\n",
       "                        })\n",
       "                };\n",
       "                });\n",
       "            </script>\n",
       "        </div>"
      ]
     },
     "metadata": {},
     "output_type": "display_data"
    }
   ],
   "source": [
    "df[['A','B']].iplot(kind='spread')"
   ]
  },
  {
   "cell_type": "code",
   "execution_count": 41,
   "metadata": {},
   "outputs": [
    {
     "data": {
      "application/vnd.plotly.v1+json": {
       "config": {
        "linkText": "Export to plot.ly",
        "plotlyServerURL": "https://plot.ly",
        "showLink": true
       },
       "data": [
        {
         "marker": {
          "color": [
           "rgb(255, 153, 51)",
           "rgb(55, 128, 191)",
           "rgb(50, 171, 96)",
           "rgb(128, 0, 128)",
           "rgb(219, 64, 82)",
           "rgb(0, 128, 128)",
           "rgb(255, 255, 51)",
           "rgb(128, 128, 0)",
           "rgb(251, 128, 114)",
           "rgb(128, 177, 211)"
          ],
          "line": {
           "width": 1.3
          },
          "size": [
           66,
           86,
           71,
           52,
           48,
           80,
           64,
           32,
           55,
           39,
           83,
           41,
           73,
           77,
           66,
           52,
           73,
           64,
           55,
           33,
           69,
           30,
           82,
           67,
           55,
           55,
           68,
           56,
           36,
           45,
           19,
           36,
           59,
           86,
           57,
           49,
           54,
           45,
           40,
           60,
           78,
           65,
           49,
           79,
           51,
           93,
           87,
           78,
           65,
           43,
           62,
           57,
           87,
           65,
           52,
           63,
           81,
           73,
           90,
           46,
           45,
           56,
           56,
           56,
           66,
           12,
           23,
           66,
           57,
           35,
           68,
           66,
           43,
           50,
           53,
           85,
           49,
           52,
           69,
           59,
           56,
           37,
           50,
           37,
           73,
           40,
           37,
           112,
           41,
           88,
           65,
           37,
           72,
           68,
           64,
           55,
           77,
           28,
           66,
           52
          ],
          "symbol": "circle"
         },
         "mode": "markers",
         "text": "",
         "type": "scatter",
         "x": [
          0.0582296909058791,
          -0.02584525376380703,
          0.00233282809989629,
          1.1481746239450044,
          0.24613651723675956,
          -1.0638018398599103,
          -0.21304176589290522,
          -0.8877953781238356,
          0.2408920641467541,
          -0.8396975894960268,
          2.0132202407596353,
          -1.8360206750556003,
          -0.2517700023746602,
          -1.4502799812552967,
          0.4152057826772664,
          -0.8998644155235899,
          0.5982440600673362,
          -0.9759069692250059,
          -1.1973876247754691,
          0.5577122833829123,
          2.310315783202372,
          -1.7961940534317489,
          -0.6572397260969888,
          -1.3376421186203706,
          1.0608517587708919,
          -2.259894369695355,
          1.4606925940258704,
          1.8907728427394275,
          -0.3043119428357968,
          1.9881857367303992,
          0.3901698887479151,
          1.3241022911963933,
          1.0959833079431376,
          -1.2734420037321217,
          -1.3216363381573888,
          0.834565478861918,
          0.6299828498049981,
          2.0786395666444015,
          -1.0791936006443799,
          -1.3790272078160453,
          -1.178945530656404,
          0.22964243572651152,
          -0.029963990967407286,
          -0.43786137324103674,
          0.6356308238712179,
          0.14810106273265564,
          0.5227969542030575,
          1.0543535418382617,
          0.02211756534029964,
          -0.13560799701465331,
          -0.5525218983218556,
          -1.0196807962712457,
          -0.2607666151406072,
          -0.5602173304664195,
          -0.6492750894074405,
          -0.2556935165453845,
          -1.0771115992625304,
          -0.135328085335629,
          -0.04464422947027891,
          -1.161005405176078,
          0.3122523074359768,
          -1.6625191089294775,
          0.34194335491409344,
          0.16470959404488125,
          1.2878181748305546,
          0.5610471493377563,
          -1.444406167736111,
          0.61479147005293,
          2.7365467524952916,
          -0.6323625965306128,
          1.276169138221677,
          -0.048793811614966896,
          -0.6086730440924935,
          0.14012253128489457,
          -0.8621572953507786,
          -1.7685450434583079,
          0.45581637692557153,
          0.7050466998267874,
          0.2814153735282505,
          0.19735245724273506,
          -1.1781923319235064,
          0.38757667877441015,
          0.2906922661543077,
          -1.0313059627582548,
          0.43284154174190126,
          -0.9379419695402221,
          -0.5102362125240482,
          -0.20895028756198047,
          1.4035565803611778,
          -1.0519821869520587,
          0.11992036334528934,
          -1.2473763817788441,
          -0.9440623587862923,
          0.4649388980972195,
          0.8891091225455513,
          -0.05281339848006934,
          1.1826926725138664,
          -0.6496100176207341,
          0.3463146074175848,
          1.245054214730473
         ],
         "y": [
          -0.8159108900054555,
          -1.929941219688791,
          -0.03657417027881783,
          -1.0974209539855215,
          1.052196520858351,
          0.033822329120052425,
          1.8176801096555568,
          -0.8520932618888648,
          0.1782263123008412,
          0.6516149971522324,
          -0.1914194854642487,
          0.008657291528901528,
          -0.8148758043003251,
          -0.9471398783497236,
          -0.6061811239096245,
          1.4415241885529897,
          0.8851494166861117,
          0.20512285715425654,
          -0.7302217226826899,
          -0.31951913686424854,
          0.27231889777693935,
          -0.09697422065665619,
          -0.6649205861559219,
          0.5620367857612353,
          1.7533700715066436,
          0.6286472913776453,
          -0.7855956286751903,
          -0.15994050635267051,
          1.3518808645637923,
          -1.0154365693968737,
          -0.18050820646100885,
          0.10834646519885681,
          0.7096009539601019,
          -1.6023624543290134,
          1.9871052880616062,
          0.13645875362141854,
          -0.14633701649722333,
          0.38661791094502607,
          -0.5619435011719726,
          -0.20251346230180112,
          0.6479159809236236,
          -0.7526340518086364,
          -0.21918777663590203,
          1.0416872919367612,
          -0.6468863728671859,
          -0.44682241371939924,
          0.5847470571104231,
          1.525293780434978,
          1.6806985956288825,
          -0.40897115263895845,
          0.4807243711627144,
          0.4261709336642487,
          -0.2587232083938359,
          0.4457411507797482,
          -0.2780131113425037,
          0.6771683729554895,
          -0.49326884312164854,
          0.378732594771927,
          0.7495296141469234,
          -0.16621758439843407,
          -0.23419012280575963,
          -0.8429186547805513,
          -1.4561552722178908,
          -0.2133350041936494,
          -0.2006493898869039,
          -0.6181873825812856,
          -1.6980110048485777,
          -0.7626793020761945,
          0.3885269527655976,
          -0.46412751801116825,
          -1.0763819235680343,
          -0.502238030495814,
          -0.28576562016979584,
          0.21551527887273858,
          1.8833906902942927,
          -0.24381875320711635,
          -2.0108817352692587,
          -1.1983839198702526,
          1.4254320467638015,
          0.8872957071538016,
          0.2680860134619889,
          -0.14122802360169043,
          0.17462228023424262,
          0.47283501980558207,
          -1.5376258685767012,
          -0.9705267350254004,
          0.26336399264955324,
          -0.2400452642080898,
          1.3197311512694645,
          -0.49995857976244107,
          1.1159025551961577,
          0.3216947684974362,
          -0.06706027728631916,
          -0.5875192402723305,
          0.2673311445431004,
          1.2846262456076551,
          -0.25339170680358225,
          -0.6085930939009376,
          -1.3442330241206317,
          0.2245819379710808
         ]
        }
       ],
       "layout": {
        "legend": {
         "bgcolor": "#F5F6F9",
         "font": {
          "color": "#4D5663"
         }
        },
        "paper_bgcolor": "#F5F6F9",
        "plot_bgcolor": "#F5F6F9",
        "template": {
         "data": {
          "bar": [
           {
            "error_x": {
             "color": "#2a3f5f"
            },
            "error_y": {
             "color": "#2a3f5f"
            },
            "marker": {
             "line": {
              "color": "#E5ECF6",
              "width": 0.5
             }
            },
            "type": "bar"
           }
          ],
          "barpolar": [
           {
            "marker": {
             "line": {
              "color": "#E5ECF6",
              "width": 0.5
             }
            },
            "type": "barpolar"
           }
          ],
          "carpet": [
           {
            "aaxis": {
             "endlinecolor": "#2a3f5f",
             "gridcolor": "white",
             "linecolor": "white",
             "minorgridcolor": "white",
             "startlinecolor": "#2a3f5f"
            },
            "baxis": {
             "endlinecolor": "#2a3f5f",
             "gridcolor": "white",
             "linecolor": "white",
             "minorgridcolor": "white",
             "startlinecolor": "#2a3f5f"
            },
            "type": "carpet"
           }
          ],
          "choropleth": [
           {
            "colorbar": {
             "outlinewidth": 0,
             "ticks": ""
            },
            "type": "choropleth"
           }
          ],
          "contour": [
           {
            "colorbar": {
             "outlinewidth": 0,
             "ticks": ""
            },
            "colorscale": [
             [
              0,
              "#0d0887"
             ],
             [
              0.1111111111111111,
              "#46039f"
             ],
             [
              0.2222222222222222,
              "#7201a8"
             ],
             [
              0.3333333333333333,
              "#9c179e"
             ],
             [
              0.4444444444444444,
              "#bd3786"
             ],
             [
              0.5555555555555556,
              "#d8576b"
             ],
             [
              0.6666666666666666,
              "#ed7953"
             ],
             [
              0.7777777777777778,
              "#fb9f3a"
             ],
             [
              0.8888888888888888,
              "#fdca26"
             ],
             [
              1,
              "#f0f921"
             ]
            ],
            "type": "contour"
           }
          ],
          "contourcarpet": [
           {
            "colorbar": {
             "outlinewidth": 0,
             "ticks": ""
            },
            "type": "contourcarpet"
           }
          ],
          "heatmap": [
           {
            "colorbar": {
             "outlinewidth": 0,
             "ticks": ""
            },
            "colorscale": [
             [
              0,
              "#0d0887"
             ],
             [
              0.1111111111111111,
              "#46039f"
             ],
             [
              0.2222222222222222,
              "#7201a8"
             ],
             [
              0.3333333333333333,
              "#9c179e"
             ],
             [
              0.4444444444444444,
              "#bd3786"
             ],
             [
              0.5555555555555556,
              "#d8576b"
             ],
             [
              0.6666666666666666,
              "#ed7953"
             ],
             [
              0.7777777777777778,
              "#fb9f3a"
             ],
             [
              0.8888888888888888,
              "#fdca26"
             ],
             [
              1,
              "#f0f921"
             ]
            ],
            "type": "heatmap"
           }
          ],
          "heatmapgl": [
           {
            "colorbar": {
             "outlinewidth": 0,
             "ticks": ""
            },
            "colorscale": [
             [
              0,
              "#0d0887"
             ],
             [
              0.1111111111111111,
              "#46039f"
             ],
             [
              0.2222222222222222,
              "#7201a8"
             ],
             [
              0.3333333333333333,
              "#9c179e"
             ],
             [
              0.4444444444444444,
              "#bd3786"
             ],
             [
              0.5555555555555556,
              "#d8576b"
             ],
             [
              0.6666666666666666,
              "#ed7953"
             ],
             [
              0.7777777777777778,
              "#fb9f3a"
             ],
             [
              0.8888888888888888,
              "#fdca26"
             ],
             [
              1,
              "#f0f921"
             ]
            ],
            "type": "heatmapgl"
           }
          ],
          "histogram": [
           {
            "marker": {
             "colorbar": {
              "outlinewidth": 0,
              "ticks": ""
             }
            },
            "type": "histogram"
           }
          ],
          "histogram2d": [
           {
            "colorbar": {
             "outlinewidth": 0,
             "ticks": ""
            },
            "colorscale": [
             [
              0,
              "#0d0887"
             ],
             [
              0.1111111111111111,
              "#46039f"
             ],
             [
              0.2222222222222222,
              "#7201a8"
             ],
             [
              0.3333333333333333,
              "#9c179e"
             ],
             [
              0.4444444444444444,
              "#bd3786"
             ],
             [
              0.5555555555555556,
              "#d8576b"
             ],
             [
              0.6666666666666666,
              "#ed7953"
             ],
             [
              0.7777777777777778,
              "#fb9f3a"
             ],
             [
              0.8888888888888888,
              "#fdca26"
             ],
             [
              1,
              "#f0f921"
             ]
            ],
            "type": "histogram2d"
           }
          ],
          "histogram2dcontour": [
           {
            "colorbar": {
             "outlinewidth": 0,
             "ticks": ""
            },
            "colorscale": [
             [
              0,
              "#0d0887"
             ],
             [
              0.1111111111111111,
              "#46039f"
             ],
             [
              0.2222222222222222,
              "#7201a8"
             ],
             [
              0.3333333333333333,
              "#9c179e"
             ],
             [
              0.4444444444444444,
              "#bd3786"
             ],
             [
              0.5555555555555556,
              "#d8576b"
             ],
             [
              0.6666666666666666,
              "#ed7953"
             ],
             [
              0.7777777777777778,
              "#fb9f3a"
             ],
             [
              0.8888888888888888,
              "#fdca26"
             ],
             [
              1,
              "#f0f921"
             ]
            ],
            "type": "histogram2dcontour"
           }
          ],
          "mesh3d": [
           {
            "colorbar": {
             "outlinewidth": 0,
             "ticks": ""
            },
            "type": "mesh3d"
           }
          ],
          "parcoords": [
           {
            "line": {
             "colorbar": {
              "outlinewidth": 0,
              "ticks": ""
             }
            },
            "type": "parcoords"
           }
          ],
          "pie": [
           {
            "automargin": true,
            "type": "pie"
           }
          ],
          "scatter": [
           {
            "marker": {
             "colorbar": {
              "outlinewidth": 0,
              "ticks": ""
             }
            },
            "type": "scatter"
           }
          ],
          "scatter3d": [
           {
            "line": {
             "colorbar": {
              "outlinewidth": 0,
              "ticks": ""
             }
            },
            "marker": {
             "colorbar": {
              "outlinewidth": 0,
              "ticks": ""
             }
            },
            "type": "scatter3d"
           }
          ],
          "scattercarpet": [
           {
            "marker": {
             "colorbar": {
              "outlinewidth": 0,
              "ticks": ""
             }
            },
            "type": "scattercarpet"
           }
          ],
          "scattergeo": [
           {
            "marker": {
             "colorbar": {
              "outlinewidth": 0,
              "ticks": ""
             }
            },
            "type": "scattergeo"
           }
          ],
          "scattergl": [
           {
            "marker": {
             "colorbar": {
              "outlinewidth": 0,
              "ticks": ""
             }
            },
            "type": "scattergl"
           }
          ],
          "scattermapbox": [
           {
            "marker": {
             "colorbar": {
              "outlinewidth": 0,
              "ticks": ""
             }
            },
            "type": "scattermapbox"
           }
          ],
          "scatterpolar": [
           {
            "marker": {
             "colorbar": {
              "outlinewidth": 0,
              "ticks": ""
             }
            },
            "type": "scatterpolar"
           }
          ],
          "scatterpolargl": [
           {
            "marker": {
             "colorbar": {
              "outlinewidth": 0,
              "ticks": ""
             }
            },
            "type": "scatterpolargl"
           }
          ],
          "scatterternary": [
           {
            "marker": {
             "colorbar": {
              "outlinewidth": 0,
              "ticks": ""
             }
            },
            "type": "scatterternary"
           }
          ],
          "surface": [
           {
            "colorbar": {
             "outlinewidth": 0,
             "ticks": ""
            },
            "colorscale": [
             [
              0,
              "#0d0887"
             ],
             [
              0.1111111111111111,
              "#46039f"
             ],
             [
              0.2222222222222222,
              "#7201a8"
             ],
             [
              0.3333333333333333,
              "#9c179e"
             ],
             [
              0.4444444444444444,
              "#bd3786"
             ],
             [
              0.5555555555555556,
              "#d8576b"
             ],
             [
              0.6666666666666666,
              "#ed7953"
             ],
             [
              0.7777777777777778,
              "#fb9f3a"
             ],
             [
              0.8888888888888888,
              "#fdca26"
             ],
             [
              1,
              "#f0f921"
             ]
            ],
            "type": "surface"
           }
          ],
          "table": [
           {
            "cells": {
             "fill": {
              "color": "#EBF0F8"
             },
             "line": {
              "color": "white"
             }
            },
            "header": {
             "fill": {
              "color": "#C8D4E3"
             },
             "line": {
              "color": "white"
             }
            },
            "type": "table"
           }
          ]
         },
         "layout": {
          "annotationdefaults": {
           "arrowcolor": "#2a3f5f",
           "arrowhead": 0,
           "arrowwidth": 1
          },
          "coloraxis": {
           "colorbar": {
            "outlinewidth": 0,
            "ticks": ""
           }
          },
          "colorscale": {
           "diverging": [
            [
             0,
             "#8e0152"
            ],
            [
             0.1,
             "#c51b7d"
            ],
            [
             0.2,
             "#de77ae"
            ],
            [
             0.3,
             "#f1b6da"
            ],
            [
             0.4,
             "#fde0ef"
            ],
            [
             0.5,
             "#f7f7f7"
            ],
            [
             0.6,
             "#e6f5d0"
            ],
            [
             0.7,
             "#b8e186"
            ],
            [
             0.8,
             "#7fbc41"
            ],
            [
             0.9,
             "#4d9221"
            ],
            [
             1,
             "#276419"
            ]
           ],
           "sequential": [
            [
             0,
             "#0d0887"
            ],
            [
             0.1111111111111111,
             "#46039f"
            ],
            [
             0.2222222222222222,
             "#7201a8"
            ],
            [
             0.3333333333333333,
             "#9c179e"
            ],
            [
             0.4444444444444444,
             "#bd3786"
            ],
            [
             0.5555555555555556,
             "#d8576b"
            ],
            [
             0.6666666666666666,
             "#ed7953"
            ],
            [
             0.7777777777777778,
             "#fb9f3a"
            ],
            [
             0.8888888888888888,
             "#fdca26"
            ],
            [
             1,
             "#f0f921"
            ]
           ],
           "sequentialminus": [
            [
             0,
             "#0d0887"
            ],
            [
             0.1111111111111111,
             "#46039f"
            ],
            [
             0.2222222222222222,
             "#7201a8"
            ],
            [
             0.3333333333333333,
             "#9c179e"
            ],
            [
             0.4444444444444444,
             "#bd3786"
            ],
            [
             0.5555555555555556,
             "#d8576b"
            ],
            [
             0.6666666666666666,
             "#ed7953"
            ],
            [
             0.7777777777777778,
             "#fb9f3a"
            ],
            [
             0.8888888888888888,
             "#fdca26"
            ],
            [
             1,
             "#f0f921"
            ]
           ]
          },
          "colorway": [
           "#636efa",
           "#EF553B",
           "#00cc96",
           "#ab63fa",
           "#FFA15A",
           "#19d3f3",
           "#FF6692",
           "#B6E880",
           "#FF97FF",
           "#FECB52"
          ],
          "font": {
           "color": "#2a3f5f"
          },
          "geo": {
           "bgcolor": "white",
           "lakecolor": "white",
           "landcolor": "#E5ECF6",
           "showlakes": true,
           "showland": true,
           "subunitcolor": "white"
          },
          "hoverlabel": {
           "align": "left"
          },
          "hovermode": "closest",
          "mapbox": {
           "style": "light"
          },
          "paper_bgcolor": "white",
          "plot_bgcolor": "#E5ECF6",
          "polar": {
           "angularaxis": {
            "gridcolor": "white",
            "linecolor": "white",
            "ticks": ""
           },
           "bgcolor": "#E5ECF6",
           "radialaxis": {
            "gridcolor": "white",
            "linecolor": "white",
            "ticks": ""
           }
          },
          "scene": {
           "xaxis": {
            "backgroundcolor": "#E5ECF6",
            "gridcolor": "white",
            "gridwidth": 2,
            "linecolor": "white",
            "showbackground": true,
            "ticks": "",
            "zerolinecolor": "white"
           },
           "yaxis": {
            "backgroundcolor": "#E5ECF6",
            "gridcolor": "white",
            "gridwidth": 2,
            "linecolor": "white",
            "showbackground": true,
            "ticks": "",
            "zerolinecolor": "white"
           },
           "zaxis": {
            "backgroundcolor": "#E5ECF6",
            "gridcolor": "white",
            "gridwidth": 2,
            "linecolor": "white",
            "showbackground": true,
            "ticks": "",
            "zerolinecolor": "white"
           }
          },
          "shapedefaults": {
           "line": {
            "color": "#2a3f5f"
           }
          },
          "ternary": {
           "aaxis": {
            "gridcolor": "white",
            "linecolor": "white",
            "ticks": ""
           },
           "baxis": {
            "gridcolor": "white",
            "linecolor": "white",
            "ticks": ""
           },
           "bgcolor": "#E5ECF6",
           "caxis": {
            "gridcolor": "white",
            "linecolor": "white",
            "ticks": ""
           }
          },
          "title": {
           "x": 0.05
          },
          "xaxis": {
           "automargin": true,
           "gridcolor": "white",
           "linecolor": "white",
           "ticks": "",
           "title": {
            "standoff": 15
           },
           "zerolinecolor": "white",
           "zerolinewidth": 2
          },
          "yaxis": {
           "automargin": true,
           "gridcolor": "white",
           "linecolor": "white",
           "ticks": "",
           "title": {
            "standoff": 15
           },
           "zerolinecolor": "white",
           "zerolinewidth": 2
          }
         }
        },
        "title": {
         "font": {
          "color": "#4D5663"
         }
        },
        "xaxis": {
         "gridcolor": "#E1E5ED",
         "showgrid": true,
         "tickfont": {
          "color": "#4D5663"
         },
         "title": {
          "font": {
           "color": "#4D5663"
          },
          "text": ""
         },
         "zerolinecolor": "#E1E5ED"
        },
        "yaxis": {
         "gridcolor": "#E1E5ED",
         "showgrid": true,
         "tickfont": {
          "color": "#4D5663"
         },
         "title": {
          "font": {
           "color": "#4D5663"
          },
          "text": ""
         },
         "zerolinecolor": "#E1E5ED"
        }
       }
      },
      "text/html": [
       "<div>\n",
       "        \n",
       "        \n",
       "            <div id=\"67b3c114-e00b-49c7-b82d-d2ae9838a9a9\" class=\"plotly-graph-div\" style=\"height:525px; width:100%;\"></div>\n",
       "            <script type=\"text/javascript\">\n",
       "                require([\"plotly\"], function(Plotly) {\n",
       "                    window.PLOTLYENV=window.PLOTLYENV || {};\n",
       "                    window.PLOTLYENV.BASE_URL='https://plot.ly';\n",
       "                    \n",
       "                if (document.getElementById(\"67b3c114-e00b-49c7-b82d-d2ae9838a9a9\")) {\n",
       "                    Plotly.newPlot(\n",
       "                        '67b3c114-e00b-49c7-b82d-d2ae9838a9a9',\n",
       "                        [{\"marker\": {\"color\": [\"rgb(255, 153, 51)\", \"rgb(55, 128, 191)\", \"rgb(50, 171, 96)\", \"rgb(128, 0, 128)\", \"rgb(219, 64, 82)\", \"rgb(0, 128, 128)\", \"rgb(255, 255, 51)\", \"rgb(128, 128, 0)\", \"rgb(251, 128, 114)\", \"rgb(128, 177, 211)\"], \"line\": {\"width\": 1.3}, \"size\": [66, 86, 71, 52, 48, 80, 64, 32, 55, 39, 83, 41, 73, 77, 66, 52, 73, 64, 55, 33, 69, 30, 82, 67, 55, 55, 68, 56, 36, 45, 19, 36, 59, 86, 57, 49, 54, 45, 40, 60, 78, 65, 49, 79, 51, 93, 87, 78, 65, 43, 62, 57, 87, 65, 52, 63, 81, 73, 90, 46, 45, 56, 56, 56, 66, 12, 23, 66, 57, 35, 68, 66, 43, 50, 53, 85, 49, 52, 69, 59, 56, 37, 50, 37, 73, 40, 37, 112, 41, 88, 65, 37, 72, 68, 64, 55, 77, 28, 66, 52], \"symbol\": \"circle\"}, \"mode\": \"markers\", \"text\": \"\", \"type\": \"scatter\", \"x\": [0.0582296909058791, -0.02584525376380703, 0.00233282809989629, 1.1481746239450044, 0.24613651723675956, -1.0638018398599103, -0.21304176589290522, -0.8877953781238356, 0.2408920641467541, -0.8396975894960268, 2.0132202407596353, -1.8360206750556003, -0.2517700023746602, -1.4502799812552967, 0.4152057826772664, -0.8998644155235899, 0.5982440600673362, -0.9759069692250059, -1.1973876247754691, 0.5577122833829123, 2.310315783202372, -1.7961940534317489, -0.6572397260969888, -1.3376421186203706, 1.0608517587708919, -2.259894369695355, 1.4606925940258704, 1.8907728427394275, -0.3043119428357968, 1.9881857367303992, 0.3901698887479151, 1.3241022911963933, 1.0959833079431376, -1.2734420037321217, -1.3216363381573888, 0.834565478861918, 0.6299828498049981, 2.0786395666444015, -1.0791936006443799, -1.3790272078160453, -1.178945530656404, 0.22964243572651152, -0.029963990967407286, -0.43786137324103674, 0.6356308238712179, 0.14810106273265564, 0.5227969542030575, 1.0543535418382617, 0.02211756534029964, -0.13560799701465331, -0.5525218983218556, -1.0196807962712457, -0.2607666151406072, -0.5602173304664195, -0.6492750894074405, -0.2556935165453845, -1.0771115992625304, -0.135328085335629, -0.04464422947027891, -1.161005405176078, 0.3122523074359768, -1.6625191089294775, 0.34194335491409344, 0.16470959404488125, 1.2878181748305546, 0.5610471493377563, -1.444406167736111, 0.61479147005293, 2.7365467524952916, -0.6323625965306128, 1.276169138221677, -0.048793811614966896, -0.6086730440924935, 0.14012253128489457, -0.8621572953507786, -1.7685450434583079, 0.45581637692557153, 0.7050466998267874, 0.2814153735282505, 0.19735245724273506, -1.1781923319235064, 0.38757667877441015, 0.2906922661543077, -1.0313059627582548, 0.43284154174190126, -0.9379419695402221, -0.5102362125240482, -0.20895028756198047, 1.4035565803611778, -1.0519821869520587, 0.11992036334528934, -1.2473763817788441, -0.9440623587862923, 0.4649388980972195, 0.8891091225455513, -0.05281339848006934, 1.1826926725138664, -0.6496100176207341, 0.3463146074175848, 1.245054214730473], \"y\": [-0.8159108900054555, -1.929941219688791, -0.03657417027881783, -1.0974209539855215, 1.052196520858351, 0.033822329120052425, 1.8176801096555568, -0.8520932618888648, 0.1782263123008412, 0.6516149971522324, -0.1914194854642487, 0.008657291528901528, -0.8148758043003251, -0.9471398783497236, -0.6061811239096245, 1.4415241885529897, 0.8851494166861117, 0.20512285715425654, -0.7302217226826899, -0.31951913686424854, 0.27231889777693935, -0.09697422065665619, -0.6649205861559219, 0.5620367857612353, 1.7533700715066436, 0.6286472913776453, -0.7855956286751903, -0.15994050635267051, 1.3518808645637923, -1.0154365693968737, -0.18050820646100885, 0.10834646519885681, 0.7096009539601019, -1.6023624543290134, 1.9871052880616062, 0.13645875362141854, -0.14633701649722333, 0.38661791094502607, -0.5619435011719726, -0.20251346230180112, 0.6479159809236236, -0.7526340518086364, -0.21918777663590203, 1.0416872919367612, -0.6468863728671859, -0.44682241371939924, 0.5847470571104231, 1.525293780434978, 1.6806985956288825, -0.40897115263895845, 0.4807243711627144, 0.4261709336642487, -0.2587232083938359, 0.4457411507797482, -0.2780131113425037, 0.6771683729554895, -0.49326884312164854, 0.378732594771927, 0.7495296141469234, -0.16621758439843407, -0.23419012280575963, -0.8429186547805513, -1.4561552722178908, -0.2133350041936494, -0.2006493898869039, -0.6181873825812856, -1.6980110048485777, -0.7626793020761945, 0.3885269527655976, -0.46412751801116825, -1.0763819235680343, -0.502238030495814, -0.28576562016979584, 0.21551527887273858, 1.8833906902942927, -0.24381875320711635, -2.0108817352692587, -1.1983839198702526, 1.4254320467638015, 0.8872957071538016, 0.2680860134619889, -0.14122802360169043, 0.17462228023424262, 0.47283501980558207, -1.5376258685767012, -0.9705267350254004, 0.26336399264955324, -0.2400452642080898, 1.3197311512694645, -0.49995857976244107, 1.1159025551961577, 0.3216947684974362, -0.06706027728631916, -0.5875192402723305, 0.2673311445431004, 1.2846262456076551, -0.25339170680358225, -0.6085930939009376, -1.3442330241206317, 0.2245819379710808]}],\n",
       "                        {\"legend\": {\"bgcolor\": \"#F5F6F9\", \"font\": {\"color\": \"#4D5663\"}}, \"paper_bgcolor\": \"#F5F6F9\", \"plot_bgcolor\": \"#F5F6F9\", \"template\": {\"data\": {\"bar\": [{\"error_x\": {\"color\": \"#2a3f5f\"}, \"error_y\": {\"color\": \"#2a3f5f\"}, \"marker\": {\"line\": {\"color\": \"#E5ECF6\", \"width\": 0.5}}, \"type\": \"bar\"}], \"barpolar\": [{\"marker\": {\"line\": {\"color\": \"#E5ECF6\", \"width\": 0.5}}, \"type\": \"barpolar\"}], \"carpet\": [{\"aaxis\": {\"endlinecolor\": \"#2a3f5f\", \"gridcolor\": \"white\", \"linecolor\": \"white\", \"minorgridcolor\": \"white\", \"startlinecolor\": \"#2a3f5f\"}, \"baxis\": {\"endlinecolor\": \"#2a3f5f\", \"gridcolor\": \"white\", \"linecolor\": \"white\", \"minorgridcolor\": \"white\", \"startlinecolor\": \"#2a3f5f\"}, \"type\": \"carpet\"}], \"choropleth\": [{\"colorbar\": {\"outlinewidth\": 0, \"ticks\": \"\"}, \"type\": \"choropleth\"}], \"contour\": [{\"colorbar\": {\"outlinewidth\": 0, \"ticks\": \"\"}, \"colorscale\": [[0.0, \"#0d0887\"], [0.1111111111111111, \"#46039f\"], [0.2222222222222222, \"#7201a8\"], [0.3333333333333333, \"#9c179e\"], [0.4444444444444444, \"#bd3786\"], [0.5555555555555556, \"#d8576b\"], [0.6666666666666666, \"#ed7953\"], [0.7777777777777778, \"#fb9f3a\"], [0.8888888888888888, \"#fdca26\"], [1.0, \"#f0f921\"]], \"type\": \"contour\"}], \"contourcarpet\": [{\"colorbar\": {\"outlinewidth\": 0, \"ticks\": \"\"}, \"type\": \"contourcarpet\"}], \"heatmap\": [{\"colorbar\": {\"outlinewidth\": 0, \"ticks\": \"\"}, \"colorscale\": [[0.0, \"#0d0887\"], [0.1111111111111111, \"#46039f\"], [0.2222222222222222, \"#7201a8\"], [0.3333333333333333, \"#9c179e\"], [0.4444444444444444, \"#bd3786\"], [0.5555555555555556, \"#d8576b\"], [0.6666666666666666, \"#ed7953\"], [0.7777777777777778, \"#fb9f3a\"], [0.8888888888888888, \"#fdca26\"], [1.0, \"#f0f921\"]], \"type\": \"heatmap\"}], \"heatmapgl\": [{\"colorbar\": {\"outlinewidth\": 0, \"ticks\": \"\"}, \"colorscale\": [[0.0, \"#0d0887\"], [0.1111111111111111, \"#46039f\"], [0.2222222222222222, \"#7201a8\"], [0.3333333333333333, \"#9c179e\"], [0.4444444444444444, \"#bd3786\"], [0.5555555555555556, \"#d8576b\"], [0.6666666666666666, \"#ed7953\"], [0.7777777777777778, \"#fb9f3a\"], [0.8888888888888888, \"#fdca26\"], [1.0, \"#f0f921\"]], \"type\": \"heatmapgl\"}], \"histogram\": [{\"marker\": {\"colorbar\": {\"outlinewidth\": 0, \"ticks\": \"\"}}, \"type\": \"histogram\"}], \"histogram2d\": [{\"colorbar\": {\"outlinewidth\": 0, \"ticks\": \"\"}, \"colorscale\": [[0.0, \"#0d0887\"], [0.1111111111111111, \"#46039f\"], [0.2222222222222222, \"#7201a8\"], [0.3333333333333333, \"#9c179e\"], [0.4444444444444444, \"#bd3786\"], [0.5555555555555556, \"#d8576b\"], [0.6666666666666666, \"#ed7953\"], [0.7777777777777778, \"#fb9f3a\"], [0.8888888888888888, \"#fdca26\"], [1.0, \"#f0f921\"]], \"type\": \"histogram2d\"}], \"histogram2dcontour\": [{\"colorbar\": {\"outlinewidth\": 0, \"ticks\": \"\"}, \"colorscale\": [[0.0, \"#0d0887\"], [0.1111111111111111, \"#46039f\"], [0.2222222222222222, \"#7201a8\"], [0.3333333333333333, \"#9c179e\"], [0.4444444444444444, \"#bd3786\"], [0.5555555555555556, \"#d8576b\"], [0.6666666666666666, \"#ed7953\"], [0.7777777777777778, \"#fb9f3a\"], [0.8888888888888888, \"#fdca26\"], [1.0, \"#f0f921\"]], \"type\": \"histogram2dcontour\"}], \"mesh3d\": [{\"colorbar\": {\"outlinewidth\": 0, \"ticks\": \"\"}, \"type\": \"mesh3d\"}], \"parcoords\": [{\"line\": {\"colorbar\": {\"outlinewidth\": 0, \"ticks\": \"\"}}, \"type\": \"parcoords\"}], \"pie\": [{\"automargin\": true, \"type\": \"pie\"}], \"scatter\": [{\"marker\": {\"colorbar\": {\"outlinewidth\": 0, \"ticks\": \"\"}}, \"type\": \"scatter\"}], \"scatter3d\": [{\"line\": {\"colorbar\": {\"outlinewidth\": 0, \"ticks\": \"\"}}, \"marker\": {\"colorbar\": {\"outlinewidth\": 0, \"ticks\": \"\"}}, \"type\": \"scatter3d\"}], \"scattercarpet\": [{\"marker\": {\"colorbar\": {\"outlinewidth\": 0, \"ticks\": \"\"}}, \"type\": \"scattercarpet\"}], \"scattergeo\": [{\"marker\": {\"colorbar\": {\"outlinewidth\": 0, \"ticks\": \"\"}}, \"type\": \"scattergeo\"}], \"scattergl\": [{\"marker\": {\"colorbar\": {\"outlinewidth\": 0, \"ticks\": \"\"}}, \"type\": \"scattergl\"}], \"scattermapbox\": [{\"marker\": {\"colorbar\": {\"outlinewidth\": 0, \"ticks\": \"\"}}, \"type\": \"scattermapbox\"}], \"scatterpolar\": [{\"marker\": {\"colorbar\": {\"outlinewidth\": 0, \"ticks\": \"\"}}, \"type\": \"scatterpolar\"}], \"scatterpolargl\": [{\"marker\": {\"colorbar\": {\"outlinewidth\": 0, \"ticks\": \"\"}}, \"type\": \"scatterpolargl\"}], \"scatterternary\": [{\"marker\": {\"colorbar\": {\"outlinewidth\": 0, \"ticks\": \"\"}}, \"type\": \"scatterternary\"}], \"surface\": [{\"colorbar\": {\"outlinewidth\": 0, \"ticks\": \"\"}, \"colorscale\": [[0.0, \"#0d0887\"], [0.1111111111111111, \"#46039f\"], [0.2222222222222222, \"#7201a8\"], [0.3333333333333333, \"#9c179e\"], [0.4444444444444444, \"#bd3786\"], [0.5555555555555556, \"#d8576b\"], [0.6666666666666666, \"#ed7953\"], [0.7777777777777778, \"#fb9f3a\"], [0.8888888888888888, \"#fdca26\"], [1.0, \"#f0f921\"]], \"type\": \"surface\"}], \"table\": [{\"cells\": {\"fill\": {\"color\": \"#EBF0F8\"}, \"line\": {\"color\": \"white\"}}, \"header\": {\"fill\": {\"color\": \"#C8D4E3\"}, \"line\": {\"color\": \"white\"}}, \"type\": \"table\"}]}, \"layout\": {\"annotationdefaults\": {\"arrowcolor\": \"#2a3f5f\", \"arrowhead\": 0, \"arrowwidth\": 1}, \"coloraxis\": {\"colorbar\": {\"outlinewidth\": 0, \"ticks\": \"\"}}, \"colorscale\": {\"diverging\": [[0, \"#8e0152\"], [0.1, \"#c51b7d\"], [0.2, \"#de77ae\"], [0.3, \"#f1b6da\"], [0.4, \"#fde0ef\"], [0.5, \"#f7f7f7\"], [0.6, \"#e6f5d0\"], [0.7, \"#b8e186\"], [0.8, \"#7fbc41\"], [0.9, \"#4d9221\"], [1, \"#276419\"]], \"sequential\": [[0.0, \"#0d0887\"], [0.1111111111111111, \"#46039f\"], [0.2222222222222222, \"#7201a8\"], [0.3333333333333333, \"#9c179e\"], [0.4444444444444444, \"#bd3786\"], [0.5555555555555556, \"#d8576b\"], [0.6666666666666666, \"#ed7953\"], [0.7777777777777778, \"#fb9f3a\"], [0.8888888888888888, \"#fdca26\"], [1.0, \"#f0f921\"]], \"sequentialminus\": [[0.0, \"#0d0887\"], [0.1111111111111111, \"#46039f\"], [0.2222222222222222, \"#7201a8\"], [0.3333333333333333, \"#9c179e\"], [0.4444444444444444, \"#bd3786\"], [0.5555555555555556, \"#d8576b\"], [0.6666666666666666, \"#ed7953\"], [0.7777777777777778, \"#fb9f3a\"], [0.8888888888888888, \"#fdca26\"], [1.0, \"#f0f921\"]]}, \"colorway\": [\"#636efa\", \"#EF553B\", \"#00cc96\", \"#ab63fa\", \"#FFA15A\", \"#19d3f3\", \"#FF6692\", \"#B6E880\", \"#FF97FF\", \"#FECB52\"], \"font\": {\"color\": \"#2a3f5f\"}, \"geo\": {\"bgcolor\": \"white\", \"lakecolor\": \"white\", \"landcolor\": \"#E5ECF6\", \"showlakes\": true, \"showland\": true, \"subunitcolor\": \"white\"}, \"hoverlabel\": {\"align\": \"left\"}, \"hovermode\": \"closest\", \"mapbox\": {\"style\": \"light\"}, \"paper_bgcolor\": \"white\", \"plot_bgcolor\": \"#E5ECF6\", \"polar\": {\"angularaxis\": {\"gridcolor\": \"white\", \"linecolor\": \"white\", \"ticks\": \"\"}, \"bgcolor\": \"#E5ECF6\", \"radialaxis\": {\"gridcolor\": \"white\", \"linecolor\": \"white\", \"ticks\": \"\"}}, \"scene\": {\"xaxis\": {\"backgroundcolor\": \"#E5ECF6\", \"gridcolor\": \"white\", \"gridwidth\": 2, \"linecolor\": \"white\", \"showbackground\": true, \"ticks\": \"\", \"zerolinecolor\": \"white\"}, \"yaxis\": {\"backgroundcolor\": \"#E5ECF6\", \"gridcolor\": \"white\", \"gridwidth\": 2, \"linecolor\": \"white\", \"showbackground\": true, \"ticks\": \"\", \"zerolinecolor\": \"white\"}, \"zaxis\": {\"backgroundcolor\": \"#E5ECF6\", \"gridcolor\": \"white\", \"gridwidth\": 2, \"linecolor\": \"white\", \"showbackground\": true, \"ticks\": \"\", \"zerolinecolor\": \"white\"}}, \"shapedefaults\": {\"line\": {\"color\": \"#2a3f5f\"}}, \"ternary\": {\"aaxis\": {\"gridcolor\": \"white\", \"linecolor\": \"white\", \"ticks\": \"\"}, \"baxis\": {\"gridcolor\": \"white\", \"linecolor\": \"white\", \"ticks\": \"\"}, \"bgcolor\": \"#E5ECF6\", \"caxis\": {\"gridcolor\": \"white\", \"linecolor\": \"white\", \"ticks\": \"\"}}, \"title\": {\"x\": 0.05}, \"xaxis\": {\"automargin\": true, \"gridcolor\": \"white\", \"linecolor\": \"white\", \"ticks\": \"\", \"title\": {\"standoff\": 15}, \"zerolinecolor\": \"white\", \"zerolinewidth\": 2}, \"yaxis\": {\"automargin\": true, \"gridcolor\": \"white\", \"linecolor\": \"white\", \"ticks\": \"\", \"title\": {\"standoff\": 15}, \"zerolinecolor\": \"white\", \"zerolinewidth\": 2}}}, \"title\": {\"font\": {\"color\": \"#4D5663\"}}, \"xaxis\": {\"gridcolor\": \"#E1E5ED\", \"showgrid\": true, \"tickfont\": {\"color\": \"#4D5663\"}, \"title\": {\"font\": {\"color\": \"#4D5663\"}, \"text\": \"\"}, \"zerolinecolor\": \"#E1E5ED\"}, \"yaxis\": {\"gridcolor\": \"#E1E5ED\", \"showgrid\": true, \"tickfont\": {\"color\": \"#4D5663\"}, \"title\": {\"font\": {\"color\": \"#4D5663\"}, \"text\": \"\"}, \"zerolinecolor\": \"#E1E5ED\"}},\n",
       "                        {\"showLink\": true, \"linkText\": \"Export to plot.ly\", \"plotlyServerURL\": \"https://plot.ly\", \"responsive\": true}\n",
       "                    ).then(function(){\n",
       "                            \n",
       "var gd = document.getElementById('67b3c114-e00b-49c7-b82d-d2ae9838a9a9');\n",
       "var x = new MutationObserver(function (mutations, observer) {{\n",
       "        var display = window.getComputedStyle(gd).display;\n",
       "        if (!display || display === 'none') {{\n",
       "            console.log([gd, 'removed!']);\n",
       "            Plotly.purge(gd);\n",
       "            observer.disconnect();\n",
       "        }}\n",
       "}});\n",
       "\n",
       "// Listen for the removal of the full notebook cells\n",
       "var notebookContainer = gd.closest('#notebook-container');\n",
       "if (notebookContainer) {{\n",
       "    x.observe(notebookContainer, {childList: true});\n",
       "}}\n",
       "\n",
       "// Listen for the clearing of the current output cell\n",
       "var outputEl = gd.closest('.output');\n",
       "if (outputEl) {{\n",
       "    x.observe(outputEl, {childList: true});\n",
       "}}\n",
       "\n",
       "                        })\n",
       "                };\n",
       "                });\n",
       "            </script>\n",
       "        </div>"
      ]
     },
     "metadata": {},
     "output_type": "display_data"
    }
   ],
   "source": [
    "df.iplot(kind='bubble',x='A',y='B',size='C')\n",
    "#makes size of bubble based off of a column"
   ]
  },
  {
   "cell_type": "code",
   "execution_count": 43,
   "metadata": {
    "scrolled": true
   },
   "outputs": [
    {
     "data": {
      "application/vnd.plotly.v1+json": {
       "config": {
        "linkText": "Export to plot.ly",
        "plotlyServerURL": "https://plot.ly",
        "showLink": true
       },
       "data": [
        {
         "histfunc": "count",
         "histnorm": "",
         "marker": {
          "color": "rgba(255, 153, 51, 1.0)",
          "line": {
           "color": "#4D5663",
           "width": 1.3
          }
         },
         "name": "A",
         "nbinsx": 10,
         "opacity": 0.8,
         "orientation": "v",
         "type": "histogram",
         "x": [
          0.0582296909058791,
          -0.02584525376380703,
          0.00233282809989629,
          1.1481746239450044,
          0.24613651723675956,
          -1.0638018398599103,
          -0.21304176589290522,
          -0.8877953781238356,
          0.2408920641467541,
          -0.8396975894960268,
          2.0132202407596353,
          -1.8360206750556003,
          -0.2517700023746602,
          -1.4502799812552967,
          0.4152057826772664,
          -0.8998644155235899,
          0.5982440600673362,
          -0.9759069692250059,
          -1.1973876247754691,
          0.5577122833829123,
          2.310315783202372,
          -1.7961940534317489,
          -0.6572397260969888,
          -1.3376421186203706,
          1.0608517587708919,
          -2.259894369695355,
          1.4606925940258704,
          1.8907728427394275,
          -0.3043119428357968,
          1.9881857367303992,
          0.3901698887479151,
          1.3241022911963933,
          1.0959833079431376,
          -1.2734420037321217,
          -1.3216363381573888,
          0.834565478861918,
          0.6299828498049981,
          2.0786395666444015,
          -1.0791936006443799,
          -1.3790272078160453,
          -1.178945530656404,
          0.22964243572651152,
          -0.029963990967407286,
          -0.43786137324103674,
          0.6356308238712179,
          0.14810106273265564,
          0.5227969542030575,
          1.0543535418382617,
          0.02211756534029964,
          -0.13560799701465331,
          -0.5525218983218556,
          -1.0196807962712457,
          -0.2607666151406072,
          -0.5602173304664195,
          -0.6492750894074405,
          -0.2556935165453845,
          -1.0771115992625304,
          -0.135328085335629,
          -0.04464422947027891,
          -1.161005405176078,
          0.3122523074359768,
          -1.6625191089294775,
          0.34194335491409344,
          0.16470959404488125,
          1.2878181748305546,
          0.5610471493377563,
          -1.444406167736111,
          0.61479147005293,
          2.7365467524952916,
          -0.6323625965306128,
          1.276169138221677,
          -0.048793811614966896,
          -0.6086730440924935,
          0.14012253128489457,
          -0.8621572953507786,
          -1.7685450434583079,
          0.45581637692557153,
          0.7050466998267874,
          0.2814153735282505,
          0.19735245724273506,
          -1.1781923319235064,
          0.38757667877441015,
          0.2906922661543077,
          -1.0313059627582548,
          0.43284154174190126,
          -0.9379419695402221,
          -0.5102362125240482,
          -0.20895028756198047,
          1.4035565803611778,
          -1.0519821869520587,
          0.11992036334528934,
          -1.2473763817788441,
          -0.9440623587862923,
          0.4649388980972195,
          0.8891091225455513,
          -0.05281339848006934,
          1.1826926725138664,
          -0.6496100176207341,
          0.3463146074175848,
          1.245054214730473
         ],
         "xaxis": "x",
         "yaxis": "y"
        },
        {
         "line": {
          "color": "rgba(128, 128, 128, 1.0)",
          "dash": "solid",
          "shape": "linear",
          "width": 1.3
         },
         "marker": {
          "size": 2,
          "symbol": "circle"
         },
         "mode": "markers",
         "name": "A",
         "text": "",
         "type": "scatter",
         "x": [
          -0.8159108900054555,
          -1.929941219688791,
          -0.03657417027881783,
          -1.0974209539855215,
          1.052196520858351,
          0.033822329120052425,
          1.8176801096555568,
          -0.8520932618888648,
          0.1782263123008412,
          0.6516149971522324,
          -0.1914194854642487,
          0.008657291528901528,
          -0.8148758043003251,
          -0.9471398783497236,
          -0.6061811239096245,
          1.4415241885529897,
          0.8851494166861117,
          0.20512285715425654,
          -0.7302217226826899,
          -0.31951913686424854,
          0.27231889777693935,
          -0.09697422065665619,
          -0.6649205861559219,
          0.5620367857612353,
          1.7533700715066436,
          0.6286472913776453,
          -0.7855956286751903,
          -0.15994050635267051,
          1.3518808645637923,
          -1.0154365693968737,
          -0.18050820646100885,
          0.10834646519885681,
          0.7096009539601019,
          -1.6023624543290134,
          1.9871052880616062,
          0.13645875362141854,
          -0.14633701649722333,
          0.38661791094502607,
          -0.5619435011719726,
          -0.20251346230180112,
          0.6479159809236236,
          -0.7526340518086364,
          -0.21918777663590203,
          1.0416872919367612,
          -0.6468863728671859,
          -0.44682241371939924,
          0.5847470571104231,
          1.525293780434978,
          1.6806985956288825,
          -0.40897115263895845,
          0.4807243711627144,
          0.4261709336642487,
          -0.2587232083938359,
          0.4457411507797482,
          -0.2780131113425037,
          0.6771683729554895,
          -0.49326884312164854,
          0.378732594771927,
          0.7495296141469234,
          -0.16621758439843407,
          -0.23419012280575963,
          -0.8429186547805513,
          -1.4561552722178908,
          -0.2133350041936494,
          -0.2006493898869039,
          -0.6181873825812856,
          -1.6980110048485777,
          -0.7626793020761945,
          0.3885269527655976,
          -0.46412751801116825,
          -1.0763819235680343,
          -0.502238030495814,
          -0.28576562016979584,
          0.21551527887273858,
          1.8833906902942927,
          -0.24381875320711635,
          -2.0108817352692587,
          -1.1983839198702526,
          1.4254320467638015,
          0.8872957071538016,
          0.2680860134619889,
          -0.14122802360169043,
          0.17462228023424262,
          0.47283501980558207,
          -1.5376258685767012,
          -0.9705267350254004,
          0.26336399264955324,
          -0.2400452642080898,
          1.3197311512694645,
          -0.49995857976244107,
          1.1159025551961577,
          0.3216947684974362,
          -0.06706027728631916,
          -0.5875192402723305,
          0.2673311445431004,
          1.2846262456076551,
          -0.25339170680358225,
          -0.6085930939009376,
          -1.3442330241206317,
          0.2245819379710808
         ],
         "xaxis": "x2",
         "y": [
          0.0582296909058791,
          -0.02584525376380703,
          0.00233282809989629,
          1.1481746239450044,
          0.24613651723675956,
          -1.0638018398599103,
          -0.21304176589290522,
          -0.8877953781238356,
          0.2408920641467541,
          -0.8396975894960268,
          2.0132202407596353,
          -1.8360206750556003,
          -0.2517700023746602,
          -1.4502799812552967,
          0.4152057826772664,
          -0.8998644155235899,
          0.5982440600673362,
          -0.9759069692250059,
          -1.1973876247754691,
          0.5577122833829123,
          2.310315783202372,
          -1.7961940534317489,
          -0.6572397260969888,
          -1.3376421186203706,
          1.0608517587708919,
          -2.259894369695355,
          1.4606925940258704,
          1.8907728427394275,
          -0.3043119428357968,
          1.9881857367303992,
          0.3901698887479151,
          1.3241022911963933,
          1.0959833079431376,
          -1.2734420037321217,
          -1.3216363381573888,
          0.834565478861918,
          0.6299828498049981,
          2.0786395666444015,
          -1.0791936006443799,
          -1.3790272078160453,
          -1.178945530656404,
          0.22964243572651152,
          -0.029963990967407286,
          -0.43786137324103674,
          0.6356308238712179,
          0.14810106273265564,
          0.5227969542030575,
          1.0543535418382617,
          0.02211756534029964,
          -0.13560799701465331,
          -0.5525218983218556,
          -1.0196807962712457,
          -0.2607666151406072,
          -0.5602173304664195,
          -0.6492750894074405,
          -0.2556935165453845,
          -1.0771115992625304,
          -0.135328085335629,
          -0.04464422947027891,
          -1.161005405176078,
          0.3122523074359768,
          -1.6625191089294775,
          0.34194335491409344,
          0.16470959404488125,
          1.2878181748305546,
          0.5610471493377563,
          -1.444406167736111,
          0.61479147005293,
          2.7365467524952916,
          -0.6323625965306128,
          1.276169138221677,
          -0.048793811614966896,
          -0.6086730440924935,
          0.14012253128489457,
          -0.8621572953507786,
          -1.7685450434583079,
          0.45581637692557153,
          0.7050466998267874,
          0.2814153735282505,
          0.19735245724273506,
          -1.1781923319235064,
          0.38757667877441015,
          0.2906922661543077,
          -1.0313059627582548,
          0.43284154174190126,
          -0.9379419695402221,
          -0.5102362125240482,
          -0.20895028756198047,
          1.4035565803611778,
          -1.0519821869520587,
          0.11992036334528934,
          -1.2473763817788441,
          -0.9440623587862923,
          0.4649388980972195,
          0.8891091225455513,
          -0.05281339848006934,
          1.1826926725138664,
          -0.6496100176207341,
          0.3463146074175848,
          1.245054214730473
         ],
         "yaxis": "y2"
        },
        {
         "line": {
          "color": "rgba(128, 128, 128, 1.0)",
          "dash": "solid",
          "shape": "linear",
          "width": 1.3
         },
         "marker": {
          "size": 2,
          "symbol": "circle"
         },
         "mode": "markers",
         "name": "A",
         "text": "",
         "type": "scatter",
         "x": [
          0.43871609511090787,
          1.4473330691369668,
          0.6874111683344055,
          -0.31830361917415323,
          -0.5388382120744102,
          1.1472562118002556,
          0.3108509723492838,
          -1.3504297177585811,
          -0.14717944001590125,
          -1.0161980003072821,
          1.3184133201786352,
          -0.8948859154766784,
          0.8063427125028101,
          0.9860023990235437,
          0.43278295758782576,
          -0.3383168473212901,
          0.7828525506565561,
          0.32430811014547267,
          -0.18366489259377278,
          -1.332807951441942,
          0.5855231884301786,
          -1.49399951258357,
          1.2729131978144108,
          0.4707613042946522,
          -0.15732217966894335,
          -0.17112350219909944,
          0.5150453019363858,
          -0.09683419800777998,
          -1.15464030183148,
          -0.7066758730513744,
          -2.043606659974553,
          -1.1509322374051534,
          0.025658807784838335,
          1.4898157970226003,
          -0.0694685513661873,
          -0.49791651474279414,
          -0.2308514320585353,
          -0.6633259576742246,
          -0.9314528895000233,
          0.09268399022199766,
          1.0546179913330427,
          0.3788253128204955,
          -0.45268150440564836,
          1.0874294053375568,
          -0.34893154879565674,
          1.8290703884373203,
          1.5101181036839537,
          1.037309456079722,
          0.3829273390259377,
          -0.8115479160466885,
          0.2280149619931508,
          -0.07314365291412171,
          1.5185510594580172,
          0.38025651373434205,
          -0.31398670655601696,
          0.23485782245543066,
          1.1932516814328331,
          0.7988138783475844,
          1.66087199827985,
          -0.6170009187598181,
          -0.7119327765997175,
          -0.11955345486924777,
          -0.1193429287162214,
          -0.12603845313457776,
          0.39552766114983606,
          -2.444805418961324,
          -1.8397723832514499,
          0.4039665619307871,
          -0.06783876623717149,
          -1.2309948870786396,
          0.5080633094564294,
          0.42442792825012743,
          -0.7768402727229322,
          -0.4146941899464075,
          -0.2628708720580322,
          1.4093531835016053,
          -0.4842787587197417,
          -0.3086872018435643,
          0.5792988275599643,
          0.0558835015664736,
          -0.12724666807294763,
          -1.1301366568389613,
          -0.4086617935908518,
          -1.1272226118648105,
          0.7706661363871762,
          -0.9247291559968152,
          -1.0955838666800826,
          2.8036692006315556,
          -0.9094835797650551,
          1.5471447420104867,
          0.38896465749503334,
          -1.0990917939504126,
          0.7516162725463826,
          0.5370950423084296,
          0.304979022360758,
          -0.13901930820177436,
          1.0047496987928615,
          -1.5709449363201675,
          0.42863972150130747,
          -0.33579753215298636
         ],
         "xaxis": "x3",
         "y": [
          0.0582296909058791,
          -0.02584525376380703,
          0.00233282809989629,
          1.1481746239450044,
          0.24613651723675956,
          -1.0638018398599103,
          -0.21304176589290522,
          -0.8877953781238356,
          0.2408920641467541,
          -0.8396975894960268,
          2.0132202407596353,
          -1.8360206750556003,
          -0.2517700023746602,
          -1.4502799812552967,
          0.4152057826772664,
          -0.8998644155235899,
          0.5982440600673362,
          -0.9759069692250059,
          -1.1973876247754691,
          0.5577122833829123,
          2.310315783202372,
          -1.7961940534317489,
          -0.6572397260969888,
          -1.3376421186203706,
          1.0608517587708919,
          -2.259894369695355,
          1.4606925940258704,
          1.8907728427394275,
          -0.3043119428357968,
          1.9881857367303992,
          0.3901698887479151,
          1.3241022911963933,
          1.0959833079431376,
          -1.2734420037321217,
          -1.3216363381573888,
          0.834565478861918,
          0.6299828498049981,
          2.0786395666444015,
          -1.0791936006443799,
          -1.3790272078160453,
          -1.178945530656404,
          0.22964243572651152,
          -0.029963990967407286,
          -0.43786137324103674,
          0.6356308238712179,
          0.14810106273265564,
          0.5227969542030575,
          1.0543535418382617,
          0.02211756534029964,
          -0.13560799701465331,
          -0.5525218983218556,
          -1.0196807962712457,
          -0.2607666151406072,
          -0.5602173304664195,
          -0.6492750894074405,
          -0.2556935165453845,
          -1.0771115992625304,
          -0.135328085335629,
          -0.04464422947027891,
          -1.161005405176078,
          0.3122523074359768,
          -1.6625191089294775,
          0.34194335491409344,
          0.16470959404488125,
          1.2878181748305546,
          0.5610471493377563,
          -1.444406167736111,
          0.61479147005293,
          2.7365467524952916,
          -0.6323625965306128,
          1.276169138221677,
          -0.048793811614966896,
          -0.6086730440924935,
          0.14012253128489457,
          -0.8621572953507786,
          -1.7685450434583079,
          0.45581637692557153,
          0.7050466998267874,
          0.2814153735282505,
          0.19735245724273506,
          -1.1781923319235064,
          0.38757667877441015,
          0.2906922661543077,
          -1.0313059627582548,
          0.43284154174190126,
          -0.9379419695402221,
          -0.5102362125240482,
          -0.20895028756198047,
          1.4035565803611778,
          -1.0519821869520587,
          0.11992036334528934,
          -1.2473763817788441,
          -0.9440623587862923,
          0.4649388980972195,
          0.8891091225455513,
          -0.05281339848006934,
          1.1826926725138664,
          -0.6496100176207341,
          0.3463146074175848,
          1.245054214730473
         ],
         "yaxis": "y3"
        },
        {
         "line": {
          "color": "rgba(128, 128, 128, 1.0)",
          "dash": "solid",
          "shape": "linear",
          "width": 1.3
         },
         "marker": {
          "size": 2,
          "symbol": "circle"
         },
         "mode": "markers",
         "name": "A",
         "text": "",
         "type": "scatter",
         "x": [
          2.201870845090954,
          -0.11919198952453913,
          -0.6491147989395194,
          -1.0940323419087372,
          1.3064805387565284,
          1.0053933644146675,
          -1.1468493721755817,
          0.43702934200597154,
          -1.5708817313388244,
          -0.30228893508853805,
          -0.5452580360626557,
          -0.6639695116112655,
          -0.7955940426938466,
          -1.6467518219836184,
          0.2809329436516192,
          0.14816821598707555,
          -0.4569463150690023,
          0.04102322118889885,
          -0.7803672256411665,
          -1.697062848956333,
          1.3222147203484962,
          -0.6493948068909241,
          0.020214620878222216,
          -0.9785074303145862,
          0.24463538527559575,
          0.21899280568001356,
          0.8289256885409623,
          -0.9661404506426933,
          1.0709167568846587,
          -2.1446864458641937,
          0.7126038142063271,
          0.8037657660529335,
          -1.0438570754660648,
          -2.1764801619754595,
          1.0065744258730616,
          -1.7085546146187438,
          1.6157853000776756,
          -0.24005886773007004,
          0.06041741995551127,
          -1.9754554368134523,
          -0.130103722338268,
          -1.9289900950205006,
          -0.20432004986579816,
          0.7844358300465218,
          -0.01648696797537042,
          -1.0990716369251219,
          -1.1203384263813874,
          -0.5298781553667351,
          -0.25166010107420206,
          -0.10803187499062224,
          0.9720371690989861,
          0.14084278106626988,
          0.958340609712445,
          1.139130689135666,
          0.6121010152679732,
          1.1702006779163139,
          3.438950303702981,
          -0.014582542305240784,
          0.8969948486842586,
          -0.2847005272765262,
          -1.294676153711721,
          0.1659703625257675,
          -1.4039308452256145,
          -0.8682886248582745,
          1.2273913987468628,
          -0.21245180779807538,
          -0.5573543417006175,
          -0.04325035409627915,
          -0.3782549331129301,
          -0.8676228692532127,
          -0.8943592217689184,
          -1.0963084188028802,
          -0.19948952305435813,
          0.04615393001258242,
          0.3963388838875445,
          -1.1901818013837535,
          -0.42342500377745523,
          1.6854298977467543,
          1.5202474035952782,
          1.5642876877114285,
          2.783931915616514,
          -1.0969162983690433,
          -0.10200943946234767,
          0.7458397850902051,
          -1.0361207524087017,
          2.2613414374373075,
          -0.9658009592653757,
          1.1048347049010612,
          -0.5491332908200294,
          -0.03513322127822818,
          0.8502999061377614,
          -0.11253047805429914,
          0.888899794382401,
          -0.39557630308169334,
          1.8346182851644055,
          0.4963586915785833,
          -0.8857741719895674,
          1.6585853035436051,
          -0.018411933912376614,
          -1.080819440204162
         ],
         "xaxis": "x4",
         "y": [
          0.0582296909058791,
          -0.02584525376380703,
          0.00233282809989629,
          1.1481746239450044,
          0.24613651723675956,
          -1.0638018398599103,
          -0.21304176589290522,
          -0.8877953781238356,
          0.2408920641467541,
          -0.8396975894960268,
          2.0132202407596353,
          -1.8360206750556003,
          -0.2517700023746602,
          -1.4502799812552967,
          0.4152057826772664,
          -0.8998644155235899,
          0.5982440600673362,
          -0.9759069692250059,
          -1.1973876247754691,
          0.5577122833829123,
          2.310315783202372,
          -1.7961940534317489,
          -0.6572397260969888,
          -1.3376421186203706,
          1.0608517587708919,
          -2.259894369695355,
          1.4606925940258704,
          1.8907728427394275,
          -0.3043119428357968,
          1.9881857367303992,
          0.3901698887479151,
          1.3241022911963933,
          1.0959833079431376,
          -1.2734420037321217,
          -1.3216363381573888,
          0.834565478861918,
          0.6299828498049981,
          2.0786395666444015,
          -1.0791936006443799,
          -1.3790272078160453,
          -1.178945530656404,
          0.22964243572651152,
          -0.029963990967407286,
          -0.43786137324103674,
          0.6356308238712179,
          0.14810106273265564,
          0.5227969542030575,
          1.0543535418382617,
          0.02211756534029964,
          -0.13560799701465331,
          -0.5525218983218556,
          -1.0196807962712457,
          -0.2607666151406072,
          -0.5602173304664195,
          -0.6492750894074405,
          -0.2556935165453845,
          -1.0771115992625304,
          -0.135328085335629,
          -0.04464422947027891,
          -1.161005405176078,
          0.3122523074359768,
          -1.6625191089294775,
          0.34194335491409344,
          0.16470959404488125,
          1.2878181748305546,
          0.5610471493377563,
          -1.444406167736111,
          0.61479147005293,
          2.7365467524952916,
          -0.6323625965306128,
          1.276169138221677,
          -0.048793811614966896,
          -0.6086730440924935,
          0.14012253128489457,
          -0.8621572953507786,
          -1.7685450434583079,
          0.45581637692557153,
          0.7050466998267874,
          0.2814153735282505,
          0.19735245724273506,
          -1.1781923319235064,
          0.38757667877441015,
          0.2906922661543077,
          -1.0313059627582548,
          0.43284154174190126,
          -0.9379419695402221,
          -0.5102362125240482,
          -0.20895028756198047,
          1.4035565803611778,
          -1.0519821869520587,
          0.11992036334528934,
          -1.2473763817788441,
          -0.9440623587862923,
          0.4649388980972195,
          0.8891091225455513,
          -0.05281339848006934,
          1.1826926725138664,
          -0.6496100176207341,
          0.3463146074175848,
          1.245054214730473
         ],
         "yaxis": "y4"
        },
        {
         "line": {
          "color": "rgba(128, 128, 128, 1.0)",
          "dash": "solid",
          "shape": "linear",
          "width": 1.3
         },
         "marker": {
          "size": 2,
          "symbol": "circle"
         },
         "mode": "markers",
         "name": "B",
         "text": "",
         "type": "scatter",
         "x": [
          0.0582296909058791,
          -0.02584525376380703,
          0.00233282809989629,
          1.1481746239450044,
          0.24613651723675956,
          -1.0638018398599103,
          -0.21304176589290522,
          -0.8877953781238356,
          0.2408920641467541,
          -0.8396975894960268,
          2.0132202407596353,
          -1.8360206750556003,
          -0.2517700023746602,
          -1.4502799812552967,
          0.4152057826772664,
          -0.8998644155235899,
          0.5982440600673362,
          -0.9759069692250059,
          -1.1973876247754691,
          0.5577122833829123,
          2.310315783202372,
          -1.7961940534317489,
          -0.6572397260969888,
          -1.3376421186203706,
          1.0608517587708919,
          -2.259894369695355,
          1.4606925940258704,
          1.8907728427394275,
          -0.3043119428357968,
          1.9881857367303992,
          0.3901698887479151,
          1.3241022911963933,
          1.0959833079431376,
          -1.2734420037321217,
          -1.3216363381573888,
          0.834565478861918,
          0.6299828498049981,
          2.0786395666444015,
          -1.0791936006443799,
          -1.3790272078160453,
          -1.178945530656404,
          0.22964243572651152,
          -0.029963990967407286,
          -0.43786137324103674,
          0.6356308238712179,
          0.14810106273265564,
          0.5227969542030575,
          1.0543535418382617,
          0.02211756534029964,
          -0.13560799701465331,
          -0.5525218983218556,
          -1.0196807962712457,
          -0.2607666151406072,
          -0.5602173304664195,
          -0.6492750894074405,
          -0.2556935165453845,
          -1.0771115992625304,
          -0.135328085335629,
          -0.04464422947027891,
          -1.161005405176078,
          0.3122523074359768,
          -1.6625191089294775,
          0.34194335491409344,
          0.16470959404488125,
          1.2878181748305546,
          0.5610471493377563,
          -1.444406167736111,
          0.61479147005293,
          2.7365467524952916,
          -0.6323625965306128,
          1.276169138221677,
          -0.048793811614966896,
          -0.6086730440924935,
          0.14012253128489457,
          -0.8621572953507786,
          -1.7685450434583079,
          0.45581637692557153,
          0.7050466998267874,
          0.2814153735282505,
          0.19735245724273506,
          -1.1781923319235064,
          0.38757667877441015,
          0.2906922661543077,
          -1.0313059627582548,
          0.43284154174190126,
          -0.9379419695402221,
          -0.5102362125240482,
          -0.20895028756198047,
          1.4035565803611778,
          -1.0519821869520587,
          0.11992036334528934,
          -1.2473763817788441,
          -0.9440623587862923,
          0.4649388980972195,
          0.8891091225455513,
          -0.05281339848006934,
          1.1826926725138664,
          -0.6496100176207341,
          0.3463146074175848,
          1.245054214730473
         ],
         "xaxis": "x5",
         "y": [
          -0.8159108900054555,
          -1.929941219688791,
          -0.03657417027881783,
          -1.0974209539855215,
          1.052196520858351,
          0.033822329120052425,
          1.8176801096555568,
          -0.8520932618888648,
          0.1782263123008412,
          0.6516149971522324,
          -0.1914194854642487,
          0.008657291528901528,
          -0.8148758043003251,
          -0.9471398783497236,
          -0.6061811239096245,
          1.4415241885529897,
          0.8851494166861117,
          0.20512285715425654,
          -0.7302217226826899,
          -0.31951913686424854,
          0.27231889777693935,
          -0.09697422065665619,
          -0.6649205861559219,
          0.5620367857612353,
          1.7533700715066436,
          0.6286472913776453,
          -0.7855956286751903,
          -0.15994050635267051,
          1.3518808645637923,
          -1.0154365693968737,
          -0.18050820646100885,
          0.10834646519885681,
          0.7096009539601019,
          -1.6023624543290134,
          1.9871052880616062,
          0.13645875362141854,
          -0.14633701649722333,
          0.38661791094502607,
          -0.5619435011719726,
          -0.20251346230180112,
          0.6479159809236236,
          -0.7526340518086364,
          -0.21918777663590203,
          1.0416872919367612,
          -0.6468863728671859,
          -0.44682241371939924,
          0.5847470571104231,
          1.525293780434978,
          1.6806985956288825,
          -0.40897115263895845,
          0.4807243711627144,
          0.4261709336642487,
          -0.2587232083938359,
          0.4457411507797482,
          -0.2780131113425037,
          0.6771683729554895,
          -0.49326884312164854,
          0.378732594771927,
          0.7495296141469234,
          -0.16621758439843407,
          -0.23419012280575963,
          -0.8429186547805513,
          -1.4561552722178908,
          -0.2133350041936494,
          -0.2006493898869039,
          -0.6181873825812856,
          -1.6980110048485777,
          -0.7626793020761945,
          0.3885269527655976,
          -0.46412751801116825,
          -1.0763819235680343,
          -0.502238030495814,
          -0.28576562016979584,
          0.21551527887273858,
          1.8833906902942927,
          -0.24381875320711635,
          -2.0108817352692587,
          -1.1983839198702526,
          1.4254320467638015,
          0.8872957071538016,
          0.2680860134619889,
          -0.14122802360169043,
          0.17462228023424262,
          0.47283501980558207,
          -1.5376258685767012,
          -0.9705267350254004,
          0.26336399264955324,
          -0.2400452642080898,
          1.3197311512694645,
          -0.49995857976244107,
          1.1159025551961577,
          0.3216947684974362,
          -0.06706027728631916,
          -0.5875192402723305,
          0.2673311445431004,
          1.2846262456076551,
          -0.25339170680358225,
          -0.6085930939009376,
          -1.3442330241206317,
          0.2245819379710808
         ],
         "yaxis": "y5"
        },
        {
         "histfunc": "count",
         "histnorm": "",
         "marker": {
          "color": "rgba(55, 128, 191, 1.0)",
          "line": {
           "color": "#4D5663",
           "width": 1.3
          }
         },
         "name": "B",
         "nbinsx": 10,
         "opacity": 0.8,
         "orientation": "v",
         "type": "histogram",
         "x": [
          -0.8159108900054555,
          -1.929941219688791,
          -0.03657417027881783,
          -1.0974209539855215,
          1.052196520858351,
          0.033822329120052425,
          1.8176801096555568,
          -0.8520932618888648,
          0.1782263123008412,
          0.6516149971522324,
          -0.1914194854642487,
          0.008657291528901528,
          -0.8148758043003251,
          -0.9471398783497236,
          -0.6061811239096245,
          1.4415241885529897,
          0.8851494166861117,
          0.20512285715425654,
          -0.7302217226826899,
          -0.31951913686424854,
          0.27231889777693935,
          -0.09697422065665619,
          -0.6649205861559219,
          0.5620367857612353,
          1.7533700715066436,
          0.6286472913776453,
          -0.7855956286751903,
          -0.15994050635267051,
          1.3518808645637923,
          -1.0154365693968737,
          -0.18050820646100885,
          0.10834646519885681,
          0.7096009539601019,
          -1.6023624543290134,
          1.9871052880616062,
          0.13645875362141854,
          -0.14633701649722333,
          0.38661791094502607,
          -0.5619435011719726,
          -0.20251346230180112,
          0.6479159809236236,
          -0.7526340518086364,
          -0.21918777663590203,
          1.0416872919367612,
          -0.6468863728671859,
          -0.44682241371939924,
          0.5847470571104231,
          1.525293780434978,
          1.6806985956288825,
          -0.40897115263895845,
          0.4807243711627144,
          0.4261709336642487,
          -0.2587232083938359,
          0.4457411507797482,
          -0.2780131113425037,
          0.6771683729554895,
          -0.49326884312164854,
          0.378732594771927,
          0.7495296141469234,
          -0.16621758439843407,
          -0.23419012280575963,
          -0.8429186547805513,
          -1.4561552722178908,
          -0.2133350041936494,
          -0.2006493898869039,
          -0.6181873825812856,
          -1.6980110048485777,
          -0.7626793020761945,
          0.3885269527655976,
          -0.46412751801116825,
          -1.0763819235680343,
          -0.502238030495814,
          -0.28576562016979584,
          0.21551527887273858,
          1.8833906902942927,
          -0.24381875320711635,
          -2.0108817352692587,
          -1.1983839198702526,
          1.4254320467638015,
          0.8872957071538016,
          0.2680860134619889,
          -0.14122802360169043,
          0.17462228023424262,
          0.47283501980558207,
          -1.5376258685767012,
          -0.9705267350254004,
          0.26336399264955324,
          -0.2400452642080898,
          1.3197311512694645,
          -0.49995857976244107,
          1.1159025551961577,
          0.3216947684974362,
          -0.06706027728631916,
          -0.5875192402723305,
          0.2673311445431004,
          1.2846262456076551,
          -0.25339170680358225,
          -0.6085930939009376,
          -1.3442330241206317,
          0.2245819379710808
         ],
         "xaxis": "x6",
         "yaxis": "y6"
        },
        {
         "line": {
          "color": "rgba(128, 128, 128, 1.0)",
          "dash": "solid",
          "shape": "linear",
          "width": 1.3
         },
         "marker": {
          "size": 2,
          "symbol": "circle"
         },
         "mode": "markers",
         "name": "B",
         "text": "",
         "type": "scatter",
         "x": [
          0.43871609511090787,
          1.4473330691369668,
          0.6874111683344055,
          -0.31830361917415323,
          -0.5388382120744102,
          1.1472562118002556,
          0.3108509723492838,
          -1.3504297177585811,
          -0.14717944001590125,
          -1.0161980003072821,
          1.3184133201786352,
          -0.8948859154766784,
          0.8063427125028101,
          0.9860023990235437,
          0.43278295758782576,
          -0.3383168473212901,
          0.7828525506565561,
          0.32430811014547267,
          -0.18366489259377278,
          -1.332807951441942,
          0.5855231884301786,
          -1.49399951258357,
          1.2729131978144108,
          0.4707613042946522,
          -0.15732217966894335,
          -0.17112350219909944,
          0.5150453019363858,
          -0.09683419800777998,
          -1.15464030183148,
          -0.7066758730513744,
          -2.043606659974553,
          -1.1509322374051534,
          0.025658807784838335,
          1.4898157970226003,
          -0.0694685513661873,
          -0.49791651474279414,
          -0.2308514320585353,
          -0.6633259576742246,
          -0.9314528895000233,
          0.09268399022199766,
          1.0546179913330427,
          0.3788253128204955,
          -0.45268150440564836,
          1.0874294053375568,
          -0.34893154879565674,
          1.8290703884373203,
          1.5101181036839537,
          1.037309456079722,
          0.3829273390259377,
          -0.8115479160466885,
          0.2280149619931508,
          -0.07314365291412171,
          1.5185510594580172,
          0.38025651373434205,
          -0.31398670655601696,
          0.23485782245543066,
          1.1932516814328331,
          0.7988138783475844,
          1.66087199827985,
          -0.6170009187598181,
          -0.7119327765997175,
          -0.11955345486924777,
          -0.1193429287162214,
          -0.12603845313457776,
          0.39552766114983606,
          -2.444805418961324,
          -1.8397723832514499,
          0.4039665619307871,
          -0.06783876623717149,
          -1.2309948870786396,
          0.5080633094564294,
          0.42442792825012743,
          -0.7768402727229322,
          -0.4146941899464075,
          -0.2628708720580322,
          1.4093531835016053,
          -0.4842787587197417,
          -0.3086872018435643,
          0.5792988275599643,
          0.0558835015664736,
          -0.12724666807294763,
          -1.1301366568389613,
          -0.4086617935908518,
          -1.1272226118648105,
          0.7706661363871762,
          -0.9247291559968152,
          -1.0955838666800826,
          2.8036692006315556,
          -0.9094835797650551,
          1.5471447420104867,
          0.38896465749503334,
          -1.0990917939504126,
          0.7516162725463826,
          0.5370950423084296,
          0.304979022360758,
          -0.13901930820177436,
          1.0047496987928615,
          -1.5709449363201675,
          0.42863972150130747,
          -0.33579753215298636
         ],
         "xaxis": "x7",
         "y": [
          -0.8159108900054555,
          -1.929941219688791,
          -0.03657417027881783,
          -1.0974209539855215,
          1.052196520858351,
          0.033822329120052425,
          1.8176801096555568,
          -0.8520932618888648,
          0.1782263123008412,
          0.6516149971522324,
          -0.1914194854642487,
          0.008657291528901528,
          -0.8148758043003251,
          -0.9471398783497236,
          -0.6061811239096245,
          1.4415241885529897,
          0.8851494166861117,
          0.20512285715425654,
          -0.7302217226826899,
          -0.31951913686424854,
          0.27231889777693935,
          -0.09697422065665619,
          -0.6649205861559219,
          0.5620367857612353,
          1.7533700715066436,
          0.6286472913776453,
          -0.7855956286751903,
          -0.15994050635267051,
          1.3518808645637923,
          -1.0154365693968737,
          -0.18050820646100885,
          0.10834646519885681,
          0.7096009539601019,
          -1.6023624543290134,
          1.9871052880616062,
          0.13645875362141854,
          -0.14633701649722333,
          0.38661791094502607,
          -0.5619435011719726,
          -0.20251346230180112,
          0.6479159809236236,
          -0.7526340518086364,
          -0.21918777663590203,
          1.0416872919367612,
          -0.6468863728671859,
          -0.44682241371939924,
          0.5847470571104231,
          1.525293780434978,
          1.6806985956288825,
          -0.40897115263895845,
          0.4807243711627144,
          0.4261709336642487,
          -0.2587232083938359,
          0.4457411507797482,
          -0.2780131113425037,
          0.6771683729554895,
          -0.49326884312164854,
          0.378732594771927,
          0.7495296141469234,
          -0.16621758439843407,
          -0.23419012280575963,
          -0.8429186547805513,
          -1.4561552722178908,
          -0.2133350041936494,
          -0.2006493898869039,
          -0.6181873825812856,
          -1.6980110048485777,
          -0.7626793020761945,
          0.3885269527655976,
          -0.46412751801116825,
          -1.0763819235680343,
          -0.502238030495814,
          -0.28576562016979584,
          0.21551527887273858,
          1.8833906902942927,
          -0.24381875320711635,
          -2.0108817352692587,
          -1.1983839198702526,
          1.4254320467638015,
          0.8872957071538016,
          0.2680860134619889,
          -0.14122802360169043,
          0.17462228023424262,
          0.47283501980558207,
          -1.5376258685767012,
          -0.9705267350254004,
          0.26336399264955324,
          -0.2400452642080898,
          1.3197311512694645,
          -0.49995857976244107,
          1.1159025551961577,
          0.3216947684974362,
          -0.06706027728631916,
          -0.5875192402723305,
          0.2673311445431004,
          1.2846262456076551,
          -0.25339170680358225,
          -0.6085930939009376,
          -1.3442330241206317,
          0.2245819379710808
         ],
         "yaxis": "y7"
        },
        {
         "line": {
          "color": "rgba(128, 128, 128, 1.0)",
          "dash": "solid",
          "shape": "linear",
          "width": 1.3
         },
         "marker": {
          "size": 2,
          "symbol": "circle"
         },
         "mode": "markers",
         "name": "B",
         "text": "",
         "type": "scatter",
         "x": [
          2.201870845090954,
          -0.11919198952453913,
          -0.6491147989395194,
          -1.0940323419087372,
          1.3064805387565284,
          1.0053933644146675,
          -1.1468493721755817,
          0.43702934200597154,
          -1.5708817313388244,
          -0.30228893508853805,
          -0.5452580360626557,
          -0.6639695116112655,
          -0.7955940426938466,
          -1.6467518219836184,
          0.2809329436516192,
          0.14816821598707555,
          -0.4569463150690023,
          0.04102322118889885,
          -0.7803672256411665,
          -1.697062848956333,
          1.3222147203484962,
          -0.6493948068909241,
          0.020214620878222216,
          -0.9785074303145862,
          0.24463538527559575,
          0.21899280568001356,
          0.8289256885409623,
          -0.9661404506426933,
          1.0709167568846587,
          -2.1446864458641937,
          0.7126038142063271,
          0.8037657660529335,
          -1.0438570754660648,
          -2.1764801619754595,
          1.0065744258730616,
          -1.7085546146187438,
          1.6157853000776756,
          -0.24005886773007004,
          0.06041741995551127,
          -1.9754554368134523,
          -0.130103722338268,
          -1.9289900950205006,
          -0.20432004986579816,
          0.7844358300465218,
          -0.01648696797537042,
          -1.0990716369251219,
          -1.1203384263813874,
          -0.5298781553667351,
          -0.25166010107420206,
          -0.10803187499062224,
          0.9720371690989861,
          0.14084278106626988,
          0.958340609712445,
          1.139130689135666,
          0.6121010152679732,
          1.1702006779163139,
          3.438950303702981,
          -0.014582542305240784,
          0.8969948486842586,
          -0.2847005272765262,
          -1.294676153711721,
          0.1659703625257675,
          -1.4039308452256145,
          -0.8682886248582745,
          1.2273913987468628,
          -0.21245180779807538,
          -0.5573543417006175,
          -0.04325035409627915,
          -0.3782549331129301,
          -0.8676228692532127,
          -0.8943592217689184,
          -1.0963084188028802,
          -0.19948952305435813,
          0.04615393001258242,
          0.3963388838875445,
          -1.1901818013837535,
          -0.42342500377745523,
          1.6854298977467543,
          1.5202474035952782,
          1.5642876877114285,
          2.783931915616514,
          -1.0969162983690433,
          -0.10200943946234767,
          0.7458397850902051,
          -1.0361207524087017,
          2.2613414374373075,
          -0.9658009592653757,
          1.1048347049010612,
          -0.5491332908200294,
          -0.03513322127822818,
          0.8502999061377614,
          -0.11253047805429914,
          0.888899794382401,
          -0.39557630308169334,
          1.8346182851644055,
          0.4963586915785833,
          -0.8857741719895674,
          1.6585853035436051,
          -0.018411933912376614,
          -1.080819440204162
         ],
         "xaxis": "x8",
         "y": [
          -0.8159108900054555,
          -1.929941219688791,
          -0.03657417027881783,
          -1.0974209539855215,
          1.052196520858351,
          0.033822329120052425,
          1.8176801096555568,
          -0.8520932618888648,
          0.1782263123008412,
          0.6516149971522324,
          -0.1914194854642487,
          0.008657291528901528,
          -0.8148758043003251,
          -0.9471398783497236,
          -0.6061811239096245,
          1.4415241885529897,
          0.8851494166861117,
          0.20512285715425654,
          -0.7302217226826899,
          -0.31951913686424854,
          0.27231889777693935,
          -0.09697422065665619,
          -0.6649205861559219,
          0.5620367857612353,
          1.7533700715066436,
          0.6286472913776453,
          -0.7855956286751903,
          -0.15994050635267051,
          1.3518808645637923,
          -1.0154365693968737,
          -0.18050820646100885,
          0.10834646519885681,
          0.7096009539601019,
          -1.6023624543290134,
          1.9871052880616062,
          0.13645875362141854,
          -0.14633701649722333,
          0.38661791094502607,
          -0.5619435011719726,
          -0.20251346230180112,
          0.6479159809236236,
          -0.7526340518086364,
          -0.21918777663590203,
          1.0416872919367612,
          -0.6468863728671859,
          -0.44682241371939924,
          0.5847470571104231,
          1.525293780434978,
          1.6806985956288825,
          -0.40897115263895845,
          0.4807243711627144,
          0.4261709336642487,
          -0.2587232083938359,
          0.4457411507797482,
          -0.2780131113425037,
          0.6771683729554895,
          -0.49326884312164854,
          0.378732594771927,
          0.7495296141469234,
          -0.16621758439843407,
          -0.23419012280575963,
          -0.8429186547805513,
          -1.4561552722178908,
          -0.2133350041936494,
          -0.2006493898869039,
          -0.6181873825812856,
          -1.6980110048485777,
          -0.7626793020761945,
          0.3885269527655976,
          -0.46412751801116825,
          -1.0763819235680343,
          -0.502238030495814,
          -0.28576562016979584,
          0.21551527887273858,
          1.8833906902942927,
          -0.24381875320711635,
          -2.0108817352692587,
          -1.1983839198702526,
          1.4254320467638015,
          0.8872957071538016,
          0.2680860134619889,
          -0.14122802360169043,
          0.17462228023424262,
          0.47283501980558207,
          -1.5376258685767012,
          -0.9705267350254004,
          0.26336399264955324,
          -0.2400452642080898,
          1.3197311512694645,
          -0.49995857976244107,
          1.1159025551961577,
          0.3216947684974362,
          -0.06706027728631916,
          -0.5875192402723305,
          0.2673311445431004,
          1.2846262456076551,
          -0.25339170680358225,
          -0.6085930939009376,
          -1.3442330241206317,
          0.2245819379710808
         ],
         "yaxis": "y8"
        },
        {
         "line": {
          "color": "rgba(128, 128, 128, 1.0)",
          "dash": "solid",
          "shape": "linear",
          "width": 1.3
         },
         "marker": {
          "size": 2,
          "symbol": "circle"
         },
         "mode": "markers",
         "name": "C",
         "text": "",
         "type": "scatter",
         "x": [
          0.0582296909058791,
          -0.02584525376380703,
          0.00233282809989629,
          1.1481746239450044,
          0.24613651723675956,
          -1.0638018398599103,
          -0.21304176589290522,
          -0.8877953781238356,
          0.2408920641467541,
          -0.8396975894960268,
          2.0132202407596353,
          -1.8360206750556003,
          -0.2517700023746602,
          -1.4502799812552967,
          0.4152057826772664,
          -0.8998644155235899,
          0.5982440600673362,
          -0.9759069692250059,
          -1.1973876247754691,
          0.5577122833829123,
          2.310315783202372,
          -1.7961940534317489,
          -0.6572397260969888,
          -1.3376421186203706,
          1.0608517587708919,
          -2.259894369695355,
          1.4606925940258704,
          1.8907728427394275,
          -0.3043119428357968,
          1.9881857367303992,
          0.3901698887479151,
          1.3241022911963933,
          1.0959833079431376,
          -1.2734420037321217,
          -1.3216363381573888,
          0.834565478861918,
          0.6299828498049981,
          2.0786395666444015,
          -1.0791936006443799,
          -1.3790272078160453,
          -1.178945530656404,
          0.22964243572651152,
          -0.029963990967407286,
          -0.43786137324103674,
          0.6356308238712179,
          0.14810106273265564,
          0.5227969542030575,
          1.0543535418382617,
          0.02211756534029964,
          -0.13560799701465331,
          -0.5525218983218556,
          -1.0196807962712457,
          -0.2607666151406072,
          -0.5602173304664195,
          -0.6492750894074405,
          -0.2556935165453845,
          -1.0771115992625304,
          -0.135328085335629,
          -0.04464422947027891,
          -1.161005405176078,
          0.3122523074359768,
          -1.6625191089294775,
          0.34194335491409344,
          0.16470959404488125,
          1.2878181748305546,
          0.5610471493377563,
          -1.444406167736111,
          0.61479147005293,
          2.7365467524952916,
          -0.6323625965306128,
          1.276169138221677,
          -0.048793811614966896,
          -0.6086730440924935,
          0.14012253128489457,
          -0.8621572953507786,
          -1.7685450434583079,
          0.45581637692557153,
          0.7050466998267874,
          0.2814153735282505,
          0.19735245724273506,
          -1.1781923319235064,
          0.38757667877441015,
          0.2906922661543077,
          -1.0313059627582548,
          0.43284154174190126,
          -0.9379419695402221,
          -0.5102362125240482,
          -0.20895028756198047,
          1.4035565803611778,
          -1.0519821869520587,
          0.11992036334528934,
          -1.2473763817788441,
          -0.9440623587862923,
          0.4649388980972195,
          0.8891091225455513,
          -0.05281339848006934,
          1.1826926725138664,
          -0.6496100176207341,
          0.3463146074175848,
          1.245054214730473
         ],
         "xaxis": "x9",
         "y": [
          0.43871609511090787,
          1.4473330691369668,
          0.6874111683344055,
          -0.31830361917415323,
          -0.5388382120744102,
          1.1472562118002556,
          0.3108509723492838,
          -1.3504297177585811,
          -0.14717944001590125,
          -1.0161980003072821,
          1.3184133201786352,
          -0.8948859154766784,
          0.8063427125028101,
          0.9860023990235437,
          0.43278295758782576,
          -0.3383168473212901,
          0.7828525506565561,
          0.32430811014547267,
          -0.18366489259377278,
          -1.332807951441942,
          0.5855231884301786,
          -1.49399951258357,
          1.2729131978144108,
          0.4707613042946522,
          -0.15732217966894335,
          -0.17112350219909944,
          0.5150453019363858,
          -0.09683419800777998,
          -1.15464030183148,
          -0.7066758730513744,
          -2.043606659974553,
          -1.1509322374051534,
          0.025658807784838335,
          1.4898157970226003,
          -0.0694685513661873,
          -0.49791651474279414,
          -0.2308514320585353,
          -0.6633259576742246,
          -0.9314528895000233,
          0.09268399022199766,
          1.0546179913330427,
          0.3788253128204955,
          -0.45268150440564836,
          1.0874294053375568,
          -0.34893154879565674,
          1.8290703884373203,
          1.5101181036839537,
          1.037309456079722,
          0.3829273390259377,
          -0.8115479160466885,
          0.2280149619931508,
          -0.07314365291412171,
          1.5185510594580172,
          0.38025651373434205,
          -0.31398670655601696,
          0.23485782245543066,
          1.1932516814328331,
          0.7988138783475844,
          1.66087199827985,
          -0.6170009187598181,
          -0.7119327765997175,
          -0.11955345486924777,
          -0.1193429287162214,
          -0.12603845313457776,
          0.39552766114983606,
          -2.444805418961324,
          -1.8397723832514499,
          0.4039665619307871,
          -0.06783876623717149,
          -1.2309948870786396,
          0.5080633094564294,
          0.42442792825012743,
          -0.7768402727229322,
          -0.4146941899464075,
          -0.2628708720580322,
          1.4093531835016053,
          -0.4842787587197417,
          -0.3086872018435643,
          0.5792988275599643,
          0.0558835015664736,
          -0.12724666807294763,
          -1.1301366568389613,
          -0.4086617935908518,
          -1.1272226118648105,
          0.7706661363871762,
          -0.9247291559968152,
          -1.0955838666800826,
          2.8036692006315556,
          -0.9094835797650551,
          1.5471447420104867,
          0.38896465749503334,
          -1.0990917939504126,
          0.7516162725463826,
          0.5370950423084296,
          0.304979022360758,
          -0.13901930820177436,
          1.0047496987928615,
          -1.5709449363201675,
          0.42863972150130747,
          -0.33579753215298636
         ],
         "yaxis": "y9"
        },
        {
         "line": {
          "color": "rgba(128, 128, 128, 1.0)",
          "dash": "solid",
          "shape": "linear",
          "width": 1.3
         },
         "marker": {
          "size": 2,
          "symbol": "circle"
         },
         "mode": "markers",
         "name": "C",
         "text": "",
         "type": "scatter",
         "x": [
          -0.8159108900054555,
          -1.929941219688791,
          -0.03657417027881783,
          -1.0974209539855215,
          1.052196520858351,
          0.033822329120052425,
          1.8176801096555568,
          -0.8520932618888648,
          0.1782263123008412,
          0.6516149971522324,
          -0.1914194854642487,
          0.008657291528901528,
          -0.8148758043003251,
          -0.9471398783497236,
          -0.6061811239096245,
          1.4415241885529897,
          0.8851494166861117,
          0.20512285715425654,
          -0.7302217226826899,
          -0.31951913686424854,
          0.27231889777693935,
          -0.09697422065665619,
          -0.6649205861559219,
          0.5620367857612353,
          1.7533700715066436,
          0.6286472913776453,
          -0.7855956286751903,
          -0.15994050635267051,
          1.3518808645637923,
          -1.0154365693968737,
          -0.18050820646100885,
          0.10834646519885681,
          0.7096009539601019,
          -1.6023624543290134,
          1.9871052880616062,
          0.13645875362141854,
          -0.14633701649722333,
          0.38661791094502607,
          -0.5619435011719726,
          -0.20251346230180112,
          0.6479159809236236,
          -0.7526340518086364,
          -0.21918777663590203,
          1.0416872919367612,
          -0.6468863728671859,
          -0.44682241371939924,
          0.5847470571104231,
          1.525293780434978,
          1.6806985956288825,
          -0.40897115263895845,
          0.4807243711627144,
          0.4261709336642487,
          -0.2587232083938359,
          0.4457411507797482,
          -0.2780131113425037,
          0.6771683729554895,
          -0.49326884312164854,
          0.378732594771927,
          0.7495296141469234,
          -0.16621758439843407,
          -0.23419012280575963,
          -0.8429186547805513,
          -1.4561552722178908,
          -0.2133350041936494,
          -0.2006493898869039,
          -0.6181873825812856,
          -1.6980110048485777,
          -0.7626793020761945,
          0.3885269527655976,
          -0.46412751801116825,
          -1.0763819235680343,
          -0.502238030495814,
          -0.28576562016979584,
          0.21551527887273858,
          1.8833906902942927,
          -0.24381875320711635,
          -2.0108817352692587,
          -1.1983839198702526,
          1.4254320467638015,
          0.8872957071538016,
          0.2680860134619889,
          -0.14122802360169043,
          0.17462228023424262,
          0.47283501980558207,
          -1.5376258685767012,
          -0.9705267350254004,
          0.26336399264955324,
          -0.2400452642080898,
          1.3197311512694645,
          -0.49995857976244107,
          1.1159025551961577,
          0.3216947684974362,
          -0.06706027728631916,
          -0.5875192402723305,
          0.2673311445431004,
          1.2846262456076551,
          -0.25339170680358225,
          -0.6085930939009376,
          -1.3442330241206317,
          0.2245819379710808
         ],
         "xaxis": "x10",
         "y": [
          0.43871609511090787,
          1.4473330691369668,
          0.6874111683344055,
          -0.31830361917415323,
          -0.5388382120744102,
          1.1472562118002556,
          0.3108509723492838,
          -1.3504297177585811,
          -0.14717944001590125,
          -1.0161980003072821,
          1.3184133201786352,
          -0.8948859154766784,
          0.8063427125028101,
          0.9860023990235437,
          0.43278295758782576,
          -0.3383168473212901,
          0.7828525506565561,
          0.32430811014547267,
          -0.18366489259377278,
          -1.332807951441942,
          0.5855231884301786,
          -1.49399951258357,
          1.2729131978144108,
          0.4707613042946522,
          -0.15732217966894335,
          -0.17112350219909944,
          0.5150453019363858,
          -0.09683419800777998,
          -1.15464030183148,
          -0.7066758730513744,
          -2.043606659974553,
          -1.1509322374051534,
          0.025658807784838335,
          1.4898157970226003,
          -0.0694685513661873,
          -0.49791651474279414,
          -0.2308514320585353,
          -0.6633259576742246,
          -0.9314528895000233,
          0.09268399022199766,
          1.0546179913330427,
          0.3788253128204955,
          -0.45268150440564836,
          1.0874294053375568,
          -0.34893154879565674,
          1.8290703884373203,
          1.5101181036839537,
          1.037309456079722,
          0.3829273390259377,
          -0.8115479160466885,
          0.2280149619931508,
          -0.07314365291412171,
          1.5185510594580172,
          0.38025651373434205,
          -0.31398670655601696,
          0.23485782245543066,
          1.1932516814328331,
          0.7988138783475844,
          1.66087199827985,
          -0.6170009187598181,
          -0.7119327765997175,
          -0.11955345486924777,
          -0.1193429287162214,
          -0.12603845313457776,
          0.39552766114983606,
          -2.444805418961324,
          -1.8397723832514499,
          0.4039665619307871,
          -0.06783876623717149,
          -1.2309948870786396,
          0.5080633094564294,
          0.42442792825012743,
          -0.7768402727229322,
          -0.4146941899464075,
          -0.2628708720580322,
          1.4093531835016053,
          -0.4842787587197417,
          -0.3086872018435643,
          0.5792988275599643,
          0.0558835015664736,
          -0.12724666807294763,
          -1.1301366568389613,
          -0.4086617935908518,
          -1.1272226118648105,
          0.7706661363871762,
          -0.9247291559968152,
          -1.0955838666800826,
          2.8036692006315556,
          -0.9094835797650551,
          1.5471447420104867,
          0.38896465749503334,
          -1.0990917939504126,
          0.7516162725463826,
          0.5370950423084296,
          0.304979022360758,
          -0.13901930820177436,
          1.0047496987928615,
          -1.5709449363201675,
          0.42863972150130747,
          -0.33579753215298636
         ],
         "yaxis": "y10"
        },
        {
         "histfunc": "count",
         "histnorm": "",
         "marker": {
          "color": "rgba(50, 171, 96, 1.0)",
          "line": {
           "color": "#4D5663",
           "width": 1.3
          }
         },
         "name": "C",
         "nbinsx": 10,
         "opacity": 0.8,
         "orientation": "v",
         "type": "histogram",
         "x": [
          0.43871609511090787,
          1.4473330691369668,
          0.6874111683344055,
          -0.31830361917415323,
          -0.5388382120744102,
          1.1472562118002556,
          0.3108509723492838,
          -1.3504297177585811,
          -0.14717944001590125,
          -1.0161980003072821,
          1.3184133201786352,
          -0.8948859154766784,
          0.8063427125028101,
          0.9860023990235437,
          0.43278295758782576,
          -0.3383168473212901,
          0.7828525506565561,
          0.32430811014547267,
          -0.18366489259377278,
          -1.332807951441942,
          0.5855231884301786,
          -1.49399951258357,
          1.2729131978144108,
          0.4707613042946522,
          -0.15732217966894335,
          -0.17112350219909944,
          0.5150453019363858,
          -0.09683419800777998,
          -1.15464030183148,
          -0.7066758730513744,
          -2.043606659974553,
          -1.1509322374051534,
          0.025658807784838335,
          1.4898157970226003,
          -0.0694685513661873,
          -0.49791651474279414,
          -0.2308514320585353,
          -0.6633259576742246,
          -0.9314528895000233,
          0.09268399022199766,
          1.0546179913330427,
          0.3788253128204955,
          -0.45268150440564836,
          1.0874294053375568,
          -0.34893154879565674,
          1.8290703884373203,
          1.5101181036839537,
          1.037309456079722,
          0.3829273390259377,
          -0.8115479160466885,
          0.2280149619931508,
          -0.07314365291412171,
          1.5185510594580172,
          0.38025651373434205,
          -0.31398670655601696,
          0.23485782245543066,
          1.1932516814328331,
          0.7988138783475844,
          1.66087199827985,
          -0.6170009187598181,
          -0.7119327765997175,
          -0.11955345486924777,
          -0.1193429287162214,
          -0.12603845313457776,
          0.39552766114983606,
          -2.444805418961324,
          -1.8397723832514499,
          0.4039665619307871,
          -0.06783876623717149,
          -1.2309948870786396,
          0.5080633094564294,
          0.42442792825012743,
          -0.7768402727229322,
          -0.4146941899464075,
          -0.2628708720580322,
          1.4093531835016053,
          -0.4842787587197417,
          -0.3086872018435643,
          0.5792988275599643,
          0.0558835015664736,
          -0.12724666807294763,
          -1.1301366568389613,
          -0.4086617935908518,
          -1.1272226118648105,
          0.7706661363871762,
          -0.9247291559968152,
          -1.0955838666800826,
          2.8036692006315556,
          -0.9094835797650551,
          1.5471447420104867,
          0.38896465749503334,
          -1.0990917939504126,
          0.7516162725463826,
          0.5370950423084296,
          0.304979022360758,
          -0.13901930820177436,
          1.0047496987928615,
          -1.5709449363201675,
          0.42863972150130747,
          -0.33579753215298636
         ],
         "xaxis": "x11",
         "yaxis": "y11"
        },
        {
         "line": {
          "color": "rgba(128, 128, 128, 1.0)",
          "dash": "solid",
          "shape": "linear",
          "width": 1.3
         },
         "marker": {
          "size": 2,
          "symbol": "circle"
         },
         "mode": "markers",
         "name": "C",
         "text": "",
         "type": "scatter",
         "x": [
          2.201870845090954,
          -0.11919198952453913,
          -0.6491147989395194,
          -1.0940323419087372,
          1.3064805387565284,
          1.0053933644146675,
          -1.1468493721755817,
          0.43702934200597154,
          -1.5708817313388244,
          -0.30228893508853805,
          -0.5452580360626557,
          -0.6639695116112655,
          -0.7955940426938466,
          -1.6467518219836184,
          0.2809329436516192,
          0.14816821598707555,
          -0.4569463150690023,
          0.04102322118889885,
          -0.7803672256411665,
          -1.697062848956333,
          1.3222147203484962,
          -0.6493948068909241,
          0.020214620878222216,
          -0.9785074303145862,
          0.24463538527559575,
          0.21899280568001356,
          0.8289256885409623,
          -0.9661404506426933,
          1.0709167568846587,
          -2.1446864458641937,
          0.7126038142063271,
          0.8037657660529335,
          -1.0438570754660648,
          -2.1764801619754595,
          1.0065744258730616,
          -1.7085546146187438,
          1.6157853000776756,
          -0.24005886773007004,
          0.06041741995551127,
          -1.9754554368134523,
          -0.130103722338268,
          -1.9289900950205006,
          -0.20432004986579816,
          0.7844358300465218,
          -0.01648696797537042,
          -1.0990716369251219,
          -1.1203384263813874,
          -0.5298781553667351,
          -0.25166010107420206,
          -0.10803187499062224,
          0.9720371690989861,
          0.14084278106626988,
          0.958340609712445,
          1.139130689135666,
          0.6121010152679732,
          1.1702006779163139,
          3.438950303702981,
          -0.014582542305240784,
          0.8969948486842586,
          -0.2847005272765262,
          -1.294676153711721,
          0.1659703625257675,
          -1.4039308452256145,
          -0.8682886248582745,
          1.2273913987468628,
          -0.21245180779807538,
          -0.5573543417006175,
          -0.04325035409627915,
          -0.3782549331129301,
          -0.8676228692532127,
          -0.8943592217689184,
          -1.0963084188028802,
          -0.19948952305435813,
          0.04615393001258242,
          0.3963388838875445,
          -1.1901818013837535,
          -0.42342500377745523,
          1.6854298977467543,
          1.5202474035952782,
          1.5642876877114285,
          2.783931915616514,
          -1.0969162983690433,
          -0.10200943946234767,
          0.7458397850902051,
          -1.0361207524087017,
          2.2613414374373075,
          -0.9658009592653757,
          1.1048347049010612,
          -0.5491332908200294,
          -0.03513322127822818,
          0.8502999061377614,
          -0.11253047805429914,
          0.888899794382401,
          -0.39557630308169334,
          1.8346182851644055,
          0.4963586915785833,
          -0.8857741719895674,
          1.6585853035436051,
          -0.018411933912376614,
          -1.080819440204162
         ],
         "xaxis": "x12",
         "y": [
          0.43871609511090787,
          1.4473330691369668,
          0.6874111683344055,
          -0.31830361917415323,
          -0.5388382120744102,
          1.1472562118002556,
          0.3108509723492838,
          -1.3504297177585811,
          -0.14717944001590125,
          -1.0161980003072821,
          1.3184133201786352,
          -0.8948859154766784,
          0.8063427125028101,
          0.9860023990235437,
          0.43278295758782576,
          -0.3383168473212901,
          0.7828525506565561,
          0.32430811014547267,
          -0.18366489259377278,
          -1.332807951441942,
          0.5855231884301786,
          -1.49399951258357,
          1.2729131978144108,
          0.4707613042946522,
          -0.15732217966894335,
          -0.17112350219909944,
          0.5150453019363858,
          -0.09683419800777998,
          -1.15464030183148,
          -0.7066758730513744,
          -2.043606659974553,
          -1.1509322374051534,
          0.025658807784838335,
          1.4898157970226003,
          -0.0694685513661873,
          -0.49791651474279414,
          -0.2308514320585353,
          -0.6633259576742246,
          -0.9314528895000233,
          0.09268399022199766,
          1.0546179913330427,
          0.3788253128204955,
          -0.45268150440564836,
          1.0874294053375568,
          -0.34893154879565674,
          1.8290703884373203,
          1.5101181036839537,
          1.037309456079722,
          0.3829273390259377,
          -0.8115479160466885,
          0.2280149619931508,
          -0.07314365291412171,
          1.5185510594580172,
          0.38025651373434205,
          -0.31398670655601696,
          0.23485782245543066,
          1.1932516814328331,
          0.7988138783475844,
          1.66087199827985,
          -0.6170009187598181,
          -0.7119327765997175,
          -0.11955345486924777,
          -0.1193429287162214,
          -0.12603845313457776,
          0.39552766114983606,
          -2.444805418961324,
          -1.8397723832514499,
          0.4039665619307871,
          -0.06783876623717149,
          -1.2309948870786396,
          0.5080633094564294,
          0.42442792825012743,
          -0.7768402727229322,
          -0.4146941899464075,
          -0.2628708720580322,
          1.4093531835016053,
          -0.4842787587197417,
          -0.3086872018435643,
          0.5792988275599643,
          0.0558835015664736,
          -0.12724666807294763,
          -1.1301366568389613,
          -0.4086617935908518,
          -1.1272226118648105,
          0.7706661363871762,
          -0.9247291559968152,
          -1.0955838666800826,
          2.8036692006315556,
          -0.9094835797650551,
          1.5471447420104867,
          0.38896465749503334,
          -1.0990917939504126,
          0.7516162725463826,
          0.5370950423084296,
          0.304979022360758,
          -0.13901930820177436,
          1.0047496987928615,
          -1.5709449363201675,
          0.42863972150130747,
          -0.33579753215298636
         ],
         "yaxis": "y12"
        },
        {
         "line": {
          "color": "rgba(128, 128, 128, 1.0)",
          "dash": "solid",
          "shape": "linear",
          "width": 1.3
         },
         "marker": {
          "size": 2,
          "symbol": "circle"
         },
         "mode": "markers",
         "name": "D",
         "text": "",
         "type": "scatter",
         "x": [
          0.0582296909058791,
          -0.02584525376380703,
          0.00233282809989629,
          1.1481746239450044,
          0.24613651723675956,
          -1.0638018398599103,
          -0.21304176589290522,
          -0.8877953781238356,
          0.2408920641467541,
          -0.8396975894960268,
          2.0132202407596353,
          -1.8360206750556003,
          -0.2517700023746602,
          -1.4502799812552967,
          0.4152057826772664,
          -0.8998644155235899,
          0.5982440600673362,
          -0.9759069692250059,
          -1.1973876247754691,
          0.5577122833829123,
          2.310315783202372,
          -1.7961940534317489,
          -0.6572397260969888,
          -1.3376421186203706,
          1.0608517587708919,
          -2.259894369695355,
          1.4606925940258704,
          1.8907728427394275,
          -0.3043119428357968,
          1.9881857367303992,
          0.3901698887479151,
          1.3241022911963933,
          1.0959833079431376,
          -1.2734420037321217,
          -1.3216363381573888,
          0.834565478861918,
          0.6299828498049981,
          2.0786395666444015,
          -1.0791936006443799,
          -1.3790272078160453,
          -1.178945530656404,
          0.22964243572651152,
          -0.029963990967407286,
          -0.43786137324103674,
          0.6356308238712179,
          0.14810106273265564,
          0.5227969542030575,
          1.0543535418382617,
          0.02211756534029964,
          -0.13560799701465331,
          -0.5525218983218556,
          -1.0196807962712457,
          -0.2607666151406072,
          -0.5602173304664195,
          -0.6492750894074405,
          -0.2556935165453845,
          -1.0771115992625304,
          -0.135328085335629,
          -0.04464422947027891,
          -1.161005405176078,
          0.3122523074359768,
          -1.6625191089294775,
          0.34194335491409344,
          0.16470959404488125,
          1.2878181748305546,
          0.5610471493377563,
          -1.444406167736111,
          0.61479147005293,
          2.7365467524952916,
          -0.6323625965306128,
          1.276169138221677,
          -0.048793811614966896,
          -0.6086730440924935,
          0.14012253128489457,
          -0.8621572953507786,
          -1.7685450434583079,
          0.45581637692557153,
          0.7050466998267874,
          0.2814153735282505,
          0.19735245724273506,
          -1.1781923319235064,
          0.38757667877441015,
          0.2906922661543077,
          -1.0313059627582548,
          0.43284154174190126,
          -0.9379419695402221,
          -0.5102362125240482,
          -0.20895028756198047,
          1.4035565803611778,
          -1.0519821869520587,
          0.11992036334528934,
          -1.2473763817788441,
          -0.9440623587862923,
          0.4649388980972195,
          0.8891091225455513,
          -0.05281339848006934,
          1.1826926725138664,
          -0.6496100176207341,
          0.3463146074175848,
          1.245054214730473
         ],
         "xaxis": "x13",
         "y": [
          2.201870845090954,
          -0.11919198952453913,
          -0.6491147989395194,
          -1.0940323419087372,
          1.3064805387565284,
          1.0053933644146675,
          -1.1468493721755817,
          0.43702934200597154,
          -1.5708817313388244,
          -0.30228893508853805,
          -0.5452580360626557,
          -0.6639695116112655,
          -0.7955940426938466,
          -1.6467518219836184,
          0.2809329436516192,
          0.14816821598707555,
          -0.4569463150690023,
          0.04102322118889885,
          -0.7803672256411665,
          -1.697062848956333,
          1.3222147203484962,
          -0.6493948068909241,
          0.020214620878222216,
          -0.9785074303145862,
          0.24463538527559575,
          0.21899280568001356,
          0.8289256885409623,
          -0.9661404506426933,
          1.0709167568846587,
          -2.1446864458641937,
          0.7126038142063271,
          0.8037657660529335,
          -1.0438570754660648,
          -2.1764801619754595,
          1.0065744258730616,
          -1.7085546146187438,
          1.6157853000776756,
          -0.24005886773007004,
          0.06041741995551127,
          -1.9754554368134523,
          -0.130103722338268,
          -1.9289900950205006,
          -0.20432004986579816,
          0.7844358300465218,
          -0.01648696797537042,
          -1.0990716369251219,
          -1.1203384263813874,
          -0.5298781553667351,
          -0.25166010107420206,
          -0.10803187499062224,
          0.9720371690989861,
          0.14084278106626988,
          0.958340609712445,
          1.139130689135666,
          0.6121010152679732,
          1.1702006779163139,
          3.438950303702981,
          -0.014582542305240784,
          0.8969948486842586,
          -0.2847005272765262,
          -1.294676153711721,
          0.1659703625257675,
          -1.4039308452256145,
          -0.8682886248582745,
          1.2273913987468628,
          -0.21245180779807538,
          -0.5573543417006175,
          -0.04325035409627915,
          -0.3782549331129301,
          -0.8676228692532127,
          -0.8943592217689184,
          -1.0963084188028802,
          -0.19948952305435813,
          0.04615393001258242,
          0.3963388838875445,
          -1.1901818013837535,
          -0.42342500377745523,
          1.6854298977467543,
          1.5202474035952782,
          1.5642876877114285,
          2.783931915616514,
          -1.0969162983690433,
          -0.10200943946234767,
          0.7458397850902051,
          -1.0361207524087017,
          2.2613414374373075,
          -0.9658009592653757,
          1.1048347049010612,
          -0.5491332908200294,
          -0.03513322127822818,
          0.8502999061377614,
          -0.11253047805429914,
          0.888899794382401,
          -0.39557630308169334,
          1.8346182851644055,
          0.4963586915785833,
          -0.8857741719895674,
          1.6585853035436051,
          -0.018411933912376614,
          -1.080819440204162
         ],
         "yaxis": "y13"
        },
        {
         "line": {
          "color": "rgba(128, 128, 128, 1.0)",
          "dash": "solid",
          "shape": "linear",
          "width": 1.3
         },
         "marker": {
          "size": 2,
          "symbol": "circle"
         },
         "mode": "markers",
         "name": "D",
         "text": "",
         "type": "scatter",
         "x": [
          -0.8159108900054555,
          -1.929941219688791,
          -0.03657417027881783,
          -1.0974209539855215,
          1.052196520858351,
          0.033822329120052425,
          1.8176801096555568,
          -0.8520932618888648,
          0.1782263123008412,
          0.6516149971522324,
          -0.1914194854642487,
          0.008657291528901528,
          -0.8148758043003251,
          -0.9471398783497236,
          -0.6061811239096245,
          1.4415241885529897,
          0.8851494166861117,
          0.20512285715425654,
          -0.7302217226826899,
          -0.31951913686424854,
          0.27231889777693935,
          -0.09697422065665619,
          -0.6649205861559219,
          0.5620367857612353,
          1.7533700715066436,
          0.6286472913776453,
          -0.7855956286751903,
          -0.15994050635267051,
          1.3518808645637923,
          -1.0154365693968737,
          -0.18050820646100885,
          0.10834646519885681,
          0.7096009539601019,
          -1.6023624543290134,
          1.9871052880616062,
          0.13645875362141854,
          -0.14633701649722333,
          0.38661791094502607,
          -0.5619435011719726,
          -0.20251346230180112,
          0.6479159809236236,
          -0.7526340518086364,
          -0.21918777663590203,
          1.0416872919367612,
          -0.6468863728671859,
          -0.44682241371939924,
          0.5847470571104231,
          1.525293780434978,
          1.6806985956288825,
          -0.40897115263895845,
          0.4807243711627144,
          0.4261709336642487,
          -0.2587232083938359,
          0.4457411507797482,
          -0.2780131113425037,
          0.6771683729554895,
          -0.49326884312164854,
          0.378732594771927,
          0.7495296141469234,
          -0.16621758439843407,
          -0.23419012280575963,
          -0.8429186547805513,
          -1.4561552722178908,
          -0.2133350041936494,
          -0.2006493898869039,
          -0.6181873825812856,
          -1.6980110048485777,
          -0.7626793020761945,
          0.3885269527655976,
          -0.46412751801116825,
          -1.0763819235680343,
          -0.502238030495814,
          -0.28576562016979584,
          0.21551527887273858,
          1.8833906902942927,
          -0.24381875320711635,
          -2.0108817352692587,
          -1.1983839198702526,
          1.4254320467638015,
          0.8872957071538016,
          0.2680860134619889,
          -0.14122802360169043,
          0.17462228023424262,
          0.47283501980558207,
          -1.5376258685767012,
          -0.9705267350254004,
          0.26336399264955324,
          -0.2400452642080898,
          1.3197311512694645,
          -0.49995857976244107,
          1.1159025551961577,
          0.3216947684974362,
          -0.06706027728631916,
          -0.5875192402723305,
          0.2673311445431004,
          1.2846262456076551,
          -0.25339170680358225,
          -0.6085930939009376,
          -1.3442330241206317,
          0.2245819379710808
         ],
         "xaxis": "x14",
         "y": [
          2.201870845090954,
          -0.11919198952453913,
          -0.6491147989395194,
          -1.0940323419087372,
          1.3064805387565284,
          1.0053933644146675,
          -1.1468493721755817,
          0.43702934200597154,
          -1.5708817313388244,
          -0.30228893508853805,
          -0.5452580360626557,
          -0.6639695116112655,
          -0.7955940426938466,
          -1.6467518219836184,
          0.2809329436516192,
          0.14816821598707555,
          -0.4569463150690023,
          0.04102322118889885,
          -0.7803672256411665,
          -1.697062848956333,
          1.3222147203484962,
          -0.6493948068909241,
          0.020214620878222216,
          -0.9785074303145862,
          0.24463538527559575,
          0.21899280568001356,
          0.8289256885409623,
          -0.9661404506426933,
          1.0709167568846587,
          -2.1446864458641937,
          0.7126038142063271,
          0.8037657660529335,
          -1.0438570754660648,
          -2.1764801619754595,
          1.0065744258730616,
          -1.7085546146187438,
          1.6157853000776756,
          -0.24005886773007004,
          0.06041741995551127,
          -1.9754554368134523,
          -0.130103722338268,
          -1.9289900950205006,
          -0.20432004986579816,
          0.7844358300465218,
          -0.01648696797537042,
          -1.0990716369251219,
          -1.1203384263813874,
          -0.5298781553667351,
          -0.25166010107420206,
          -0.10803187499062224,
          0.9720371690989861,
          0.14084278106626988,
          0.958340609712445,
          1.139130689135666,
          0.6121010152679732,
          1.1702006779163139,
          3.438950303702981,
          -0.014582542305240784,
          0.8969948486842586,
          -0.2847005272765262,
          -1.294676153711721,
          0.1659703625257675,
          -1.4039308452256145,
          -0.8682886248582745,
          1.2273913987468628,
          -0.21245180779807538,
          -0.5573543417006175,
          -0.04325035409627915,
          -0.3782549331129301,
          -0.8676228692532127,
          -0.8943592217689184,
          -1.0963084188028802,
          -0.19948952305435813,
          0.04615393001258242,
          0.3963388838875445,
          -1.1901818013837535,
          -0.42342500377745523,
          1.6854298977467543,
          1.5202474035952782,
          1.5642876877114285,
          2.783931915616514,
          -1.0969162983690433,
          -0.10200943946234767,
          0.7458397850902051,
          -1.0361207524087017,
          2.2613414374373075,
          -0.9658009592653757,
          1.1048347049010612,
          -0.5491332908200294,
          -0.03513322127822818,
          0.8502999061377614,
          -0.11253047805429914,
          0.888899794382401,
          -0.39557630308169334,
          1.8346182851644055,
          0.4963586915785833,
          -0.8857741719895674,
          1.6585853035436051,
          -0.018411933912376614,
          -1.080819440204162
         ],
         "yaxis": "y14"
        },
        {
         "line": {
          "color": "rgba(128, 128, 128, 1.0)",
          "dash": "solid",
          "shape": "linear",
          "width": 1.3
         },
         "marker": {
          "size": 2,
          "symbol": "circle"
         },
         "mode": "markers",
         "name": "D",
         "text": "",
         "type": "scatter",
         "x": [
          0.43871609511090787,
          1.4473330691369668,
          0.6874111683344055,
          -0.31830361917415323,
          -0.5388382120744102,
          1.1472562118002556,
          0.3108509723492838,
          -1.3504297177585811,
          -0.14717944001590125,
          -1.0161980003072821,
          1.3184133201786352,
          -0.8948859154766784,
          0.8063427125028101,
          0.9860023990235437,
          0.43278295758782576,
          -0.3383168473212901,
          0.7828525506565561,
          0.32430811014547267,
          -0.18366489259377278,
          -1.332807951441942,
          0.5855231884301786,
          -1.49399951258357,
          1.2729131978144108,
          0.4707613042946522,
          -0.15732217966894335,
          -0.17112350219909944,
          0.5150453019363858,
          -0.09683419800777998,
          -1.15464030183148,
          -0.7066758730513744,
          -2.043606659974553,
          -1.1509322374051534,
          0.025658807784838335,
          1.4898157970226003,
          -0.0694685513661873,
          -0.49791651474279414,
          -0.2308514320585353,
          -0.6633259576742246,
          -0.9314528895000233,
          0.09268399022199766,
          1.0546179913330427,
          0.3788253128204955,
          -0.45268150440564836,
          1.0874294053375568,
          -0.34893154879565674,
          1.8290703884373203,
          1.5101181036839537,
          1.037309456079722,
          0.3829273390259377,
          -0.8115479160466885,
          0.2280149619931508,
          -0.07314365291412171,
          1.5185510594580172,
          0.38025651373434205,
          -0.31398670655601696,
          0.23485782245543066,
          1.1932516814328331,
          0.7988138783475844,
          1.66087199827985,
          -0.6170009187598181,
          -0.7119327765997175,
          -0.11955345486924777,
          -0.1193429287162214,
          -0.12603845313457776,
          0.39552766114983606,
          -2.444805418961324,
          -1.8397723832514499,
          0.4039665619307871,
          -0.06783876623717149,
          -1.2309948870786396,
          0.5080633094564294,
          0.42442792825012743,
          -0.7768402727229322,
          -0.4146941899464075,
          -0.2628708720580322,
          1.4093531835016053,
          -0.4842787587197417,
          -0.3086872018435643,
          0.5792988275599643,
          0.0558835015664736,
          -0.12724666807294763,
          -1.1301366568389613,
          -0.4086617935908518,
          -1.1272226118648105,
          0.7706661363871762,
          -0.9247291559968152,
          -1.0955838666800826,
          2.8036692006315556,
          -0.9094835797650551,
          1.5471447420104867,
          0.38896465749503334,
          -1.0990917939504126,
          0.7516162725463826,
          0.5370950423084296,
          0.304979022360758,
          -0.13901930820177436,
          1.0047496987928615,
          -1.5709449363201675,
          0.42863972150130747,
          -0.33579753215298636
         ],
         "xaxis": "x15",
         "y": [
          2.201870845090954,
          -0.11919198952453913,
          -0.6491147989395194,
          -1.0940323419087372,
          1.3064805387565284,
          1.0053933644146675,
          -1.1468493721755817,
          0.43702934200597154,
          -1.5708817313388244,
          -0.30228893508853805,
          -0.5452580360626557,
          -0.6639695116112655,
          -0.7955940426938466,
          -1.6467518219836184,
          0.2809329436516192,
          0.14816821598707555,
          -0.4569463150690023,
          0.04102322118889885,
          -0.7803672256411665,
          -1.697062848956333,
          1.3222147203484962,
          -0.6493948068909241,
          0.020214620878222216,
          -0.9785074303145862,
          0.24463538527559575,
          0.21899280568001356,
          0.8289256885409623,
          -0.9661404506426933,
          1.0709167568846587,
          -2.1446864458641937,
          0.7126038142063271,
          0.8037657660529335,
          -1.0438570754660648,
          -2.1764801619754595,
          1.0065744258730616,
          -1.7085546146187438,
          1.6157853000776756,
          -0.24005886773007004,
          0.06041741995551127,
          -1.9754554368134523,
          -0.130103722338268,
          -1.9289900950205006,
          -0.20432004986579816,
          0.7844358300465218,
          -0.01648696797537042,
          -1.0990716369251219,
          -1.1203384263813874,
          -0.5298781553667351,
          -0.25166010107420206,
          -0.10803187499062224,
          0.9720371690989861,
          0.14084278106626988,
          0.958340609712445,
          1.139130689135666,
          0.6121010152679732,
          1.1702006779163139,
          3.438950303702981,
          -0.014582542305240784,
          0.8969948486842586,
          -0.2847005272765262,
          -1.294676153711721,
          0.1659703625257675,
          -1.4039308452256145,
          -0.8682886248582745,
          1.2273913987468628,
          -0.21245180779807538,
          -0.5573543417006175,
          -0.04325035409627915,
          -0.3782549331129301,
          -0.8676228692532127,
          -0.8943592217689184,
          -1.0963084188028802,
          -0.19948952305435813,
          0.04615393001258242,
          0.3963388838875445,
          -1.1901818013837535,
          -0.42342500377745523,
          1.6854298977467543,
          1.5202474035952782,
          1.5642876877114285,
          2.783931915616514,
          -1.0969162983690433,
          -0.10200943946234767,
          0.7458397850902051,
          -1.0361207524087017,
          2.2613414374373075,
          -0.9658009592653757,
          1.1048347049010612,
          -0.5491332908200294,
          -0.03513322127822818,
          0.8502999061377614,
          -0.11253047805429914,
          0.888899794382401,
          -0.39557630308169334,
          1.8346182851644055,
          0.4963586915785833,
          -0.8857741719895674,
          1.6585853035436051,
          -0.018411933912376614,
          -1.080819440204162
         ],
         "yaxis": "y15"
        },
        {
         "histfunc": "count",
         "histnorm": "",
         "marker": {
          "color": "rgba(128, 0, 128, 1.0)",
          "line": {
           "color": "#4D5663",
           "width": 1.3
          }
         },
         "name": "D",
         "nbinsx": 10,
         "opacity": 0.8,
         "orientation": "v",
         "type": "histogram",
         "x": [
          2.201870845090954,
          -0.11919198952453913,
          -0.6491147989395194,
          -1.0940323419087372,
          1.3064805387565284,
          1.0053933644146675,
          -1.1468493721755817,
          0.43702934200597154,
          -1.5708817313388244,
          -0.30228893508853805,
          -0.5452580360626557,
          -0.6639695116112655,
          -0.7955940426938466,
          -1.6467518219836184,
          0.2809329436516192,
          0.14816821598707555,
          -0.4569463150690023,
          0.04102322118889885,
          -0.7803672256411665,
          -1.697062848956333,
          1.3222147203484962,
          -0.6493948068909241,
          0.020214620878222216,
          -0.9785074303145862,
          0.24463538527559575,
          0.21899280568001356,
          0.8289256885409623,
          -0.9661404506426933,
          1.0709167568846587,
          -2.1446864458641937,
          0.7126038142063271,
          0.8037657660529335,
          -1.0438570754660648,
          -2.1764801619754595,
          1.0065744258730616,
          -1.7085546146187438,
          1.6157853000776756,
          -0.24005886773007004,
          0.06041741995551127,
          -1.9754554368134523,
          -0.130103722338268,
          -1.9289900950205006,
          -0.20432004986579816,
          0.7844358300465218,
          -0.01648696797537042,
          -1.0990716369251219,
          -1.1203384263813874,
          -0.5298781553667351,
          -0.25166010107420206,
          -0.10803187499062224,
          0.9720371690989861,
          0.14084278106626988,
          0.958340609712445,
          1.139130689135666,
          0.6121010152679732,
          1.1702006779163139,
          3.438950303702981,
          -0.014582542305240784,
          0.8969948486842586,
          -0.2847005272765262,
          -1.294676153711721,
          0.1659703625257675,
          -1.4039308452256145,
          -0.8682886248582745,
          1.2273913987468628,
          -0.21245180779807538,
          -0.5573543417006175,
          -0.04325035409627915,
          -0.3782549331129301,
          -0.8676228692532127,
          -0.8943592217689184,
          -1.0963084188028802,
          -0.19948952305435813,
          0.04615393001258242,
          0.3963388838875445,
          -1.1901818013837535,
          -0.42342500377745523,
          1.6854298977467543,
          1.5202474035952782,
          1.5642876877114285,
          2.783931915616514,
          -1.0969162983690433,
          -0.10200943946234767,
          0.7458397850902051,
          -1.0361207524087017,
          2.2613414374373075,
          -0.9658009592653757,
          1.1048347049010612,
          -0.5491332908200294,
          -0.03513322127822818,
          0.8502999061377614,
          -0.11253047805429914,
          0.888899794382401,
          -0.39557630308169334,
          1.8346182851644055,
          0.4963586915785833,
          -0.8857741719895674,
          1.6585853035436051,
          -0.018411933912376614,
          -1.080819440204162
         ],
         "xaxis": "x16",
         "yaxis": "y16"
        }
       ],
       "layout": {
        "bargap": 0.02,
        "legend": {
         "bgcolor": "#F5F6F9",
         "font": {
          "color": "#4D5663"
         }
        },
        "paper_bgcolor": "#F5F6F9",
        "plot_bgcolor": "#F5F6F9",
        "showlegend": false,
        "template": {
         "data": {
          "bar": [
           {
            "error_x": {
             "color": "#2a3f5f"
            },
            "error_y": {
             "color": "#2a3f5f"
            },
            "marker": {
             "line": {
              "color": "#E5ECF6",
              "width": 0.5
             }
            },
            "type": "bar"
           }
          ],
          "barpolar": [
           {
            "marker": {
             "line": {
              "color": "#E5ECF6",
              "width": 0.5
             }
            },
            "type": "barpolar"
           }
          ],
          "carpet": [
           {
            "aaxis": {
             "endlinecolor": "#2a3f5f",
             "gridcolor": "white",
             "linecolor": "white",
             "minorgridcolor": "white",
             "startlinecolor": "#2a3f5f"
            },
            "baxis": {
             "endlinecolor": "#2a3f5f",
             "gridcolor": "white",
             "linecolor": "white",
             "minorgridcolor": "white",
             "startlinecolor": "#2a3f5f"
            },
            "type": "carpet"
           }
          ],
          "choropleth": [
           {
            "colorbar": {
             "outlinewidth": 0,
             "ticks": ""
            },
            "type": "choropleth"
           }
          ],
          "contour": [
           {
            "colorbar": {
             "outlinewidth": 0,
             "ticks": ""
            },
            "colorscale": [
             [
              0,
              "#0d0887"
             ],
             [
              0.1111111111111111,
              "#46039f"
             ],
             [
              0.2222222222222222,
              "#7201a8"
             ],
             [
              0.3333333333333333,
              "#9c179e"
             ],
             [
              0.4444444444444444,
              "#bd3786"
             ],
             [
              0.5555555555555556,
              "#d8576b"
             ],
             [
              0.6666666666666666,
              "#ed7953"
             ],
             [
              0.7777777777777778,
              "#fb9f3a"
             ],
             [
              0.8888888888888888,
              "#fdca26"
             ],
             [
              1,
              "#f0f921"
             ]
            ],
            "type": "contour"
           }
          ],
          "contourcarpet": [
           {
            "colorbar": {
             "outlinewidth": 0,
             "ticks": ""
            },
            "type": "contourcarpet"
           }
          ],
          "heatmap": [
           {
            "colorbar": {
             "outlinewidth": 0,
             "ticks": ""
            },
            "colorscale": [
             [
              0,
              "#0d0887"
             ],
             [
              0.1111111111111111,
              "#46039f"
             ],
             [
              0.2222222222222222,
              "#7201a8"
             ],
             [
              0.3333333333333333,
              "#9c179e"
             ],
             [
              0.4444444444444444,
              "#bd3786"
             ],
             [
              0.5555555555555556,
              "#d8576b"
             ],
             [
              0.6666666666666666,
              "#ed7953"
             ],
             [
              0.7777777777777778,
              "#fb9f3a"
             ],
             [
              0.8888888888888888,
              "#fdca26"
             ],
             [
              1,
              "#f0f921"
             ]
            ],
            "type": "heatmap"
           }
          ],
          "heatmapgl": [
           {
            "colorbar": {
             "outlinewidth": 0,
             "ticks": ""
            },
            "colorscale": [
             [
              0,
              "#0d0887"
             ],
             [
              0.1111111111111111,
              "#46039f"
             ],
             [
              0.2222222222222222,
              "#7201a8"
             ],
             [
              0.3333333333333333,
              "#9c179e"
             ],
             [
              0.4444444444444444,
              "#bd3786"
             ],
             [
              0.5555555555555556,
              "#d8576b"
             ],
             [
              0.6666666666666666,
              "#ed7953"
             ],
             [
              0.7777777777777778,
              "#fb9f3a"
             ],
             [
              0.8888888888888888,
              "#fdca26"
             ],
             [
              1,
              "#f0f921"
             ]
            ],
            "type": "heatmapgl"
           }
          ],
          "histogram": [
           {
            "marker": {
             "colorbar": {
              "outlinewidth": 0,
              "ticks": ""
             }
            },
            "type": "histogram"
           }
          ],
          "histogram2d": [
           {
            "colorbar": {
             "outlinewidth": 0,
             "ticks": ""
            },
            "colorscale": [
             [
              0,
              "#0d0887"
             ],
             [
              0.1111111111111111,
              "#46039f"
             ],
             [
              0.2222222222222222,
              "#7201a8"
             ],
             [
              0.3333333333333333,
              "#9c179e"
             ],
             [
              0.4444444444444444,
              "#bd3786"
             ],
             [
              0.5555555555555556,
              "#d8576b"
             ],
             [
              0.6666666666666666,
              "#ed7953"
             ],
             [
              0.7777777777777778,
              "#fb9f3a"
             ],
             [
              0.8888888888888888,
              "#fdca26"
             ],
             [
              1,
              "#f0f921"
             ]
            ],
            "type": "histogram2d"
           }
          ],
          "histogram2dcontour": [
           {
            "colorbar": {
             "outlinewidth": 0,
             "ticks": ""
            },
            "colorscale": [
             [
              0,
              "#0d0887"
             ],
             [
              0.1111111111111111,
              "#46039f"
             ],
             [
              0.2222222222222222,
              "#7201a8"
             ],
             [
              0.3333333333333333,
              "#9c179e"
             ],
             [
              0.4444444444444444,
              "#bd3786"
             ],
             [
              0.5555555555555556,
              "#d8576b"
             ],
             [
              0.6666666666666666,
              "#ed7953"
             ],
             [
              0.7777777777777778,
              "#fb9f3a"
             ],
             [
              0.8888888888888888,
              "#fdca26"
             ],
             [
              1,
              "#f0f921"
             ]
            ],
            "type": "histogram2dcontour"
           }
          ],
          "mesh3d": [
           {
            "colorbar": {
             "outlinewidth": 0,
             "ticks": ""
            },
            "type": "mesh3d"
           }
          ],
          "parcoords": [
           {
            "line": {
             "colorbar": {
              "outlinewidth": 0,
              "ticks": ""
             }
            },
            "type": "parcoords"
           }
          ],
          "pie": [
           {
            "automargin": true,
            "type": "pie"
           }
          ],
          "scatter": [
           {
            "marker": {
             "colorbar": {
              "outlinewidth": 0,
              "ticks": ""
             }
            },
            "type": "scatter"
           }
          ],
          "scatter3d": [
           {
            "line": {
             "colorbar": {
              "outlinewidth": 0,
              "ticks": ""
             }
            },
            "marker": {
             "colorbar": {
              "outlinewidth": 0,
              "ticks": ""
             }
            },
            "type": "scatter3d"
           }
          ],
          "scattercarpet": [
           {
            "marker": {
             "colorbar": {
              "outlinewidth": 0,
              "ticks": ""
             }
            },
            "type": "scattercarpet"
           }
          ],
          "scattergeo": [
           {
            "marker": {
             "colorbar": {
              "outlinewidth": 0,
              "ticks": ""
             }
            },
            "type": "scattergeo"
           }
          ],
          "scattergl": [
           {
            "marker": {
             "colorbar": {
              "outlinewidth": 0,
              "ticks": ""
             }
            },
            "type": "scattergl"
           }
          ],
          "scattermapbox": [
           {
            "marker": {
             "colorbar": {
              "outlinewidth": 0,
              "ticks": ""
             }
            },
            "type": "scattermapbox"
           }
          ],
          "scatterpolar": [
           {
            "marker": {
             "colorbar": {
              "outlinewidth": 0,
              "ticks": ""
             }
            },
            "type": "scatterpolar"
           }
          ],
          "scatterpolargl": [
           {
            "marker": {
             "colorbar": {
              "outlinewidth": 0,
              "ticks": ""
             }
            },
            "type": "scatterpolargl"
           }
          ],
          "scatterternary": [
           {
            "marker": {
             "colorbar": {
              "outlinewidth": 0,
              "ticks": ""
             }
            },
            "type": "scatterternary"
           }
          ],
          "surface": [
           {
            "colorbar": {
             "outlinewidth": 0,
             "ticks": ""
            },
            "colorscale": [
             [
              0,
              "#0d0887"
             ],
             [
              0.1111111111111111,
              "#46039f"
             ],
             [
              0.2222222222222222,
              "#7201a8"
             ],
             [
              0.3333333333333333,
              "#9c179e"
             ],
             [
              0.4444444444444444,
              "#bd3786"
             ],
             [
              0.5555555555555556,
              "#d8576b"
             ],
             [
              0.6666666666666666,
              "#ed7953"
             ],
             [
              0.7777777777777778,
              "#fb9f3a"
             ],
             [
              0.8888888888888888,
              "#fdca26"
             ],
             [
              1,
              "#f0f921"
             ]
            ],
            "type": "surface"
           }
          ],
          "table": [
           {
            "cells": {
             "fill": {
              "color": "#EBF0F8"
             },
             "line": {
              "color": "white"
             }
            },
            "header": {
             "fill": {
              "color": "#C8D4E3"
             },
             "line": {
              "color": "white"
             }
            },
            "type": "table"
           }
          ]
         },
         "layout": {
          "annotationdefaults": {
           "arrowcolor": "#2a3f5f",
           "arrowhead": 0,
           "arrowwidth": 1
          },
          "coloraxis": {
           "colorbar": {
            "outlinewidth": 0,
            "ticks": ""
           }
          },
          "colorscale": {
           "diverging": [
            [
             0,
             "#8e0152"
            ],
            [
             0.1,
             "#c51b7d"
            ],
            [
             0.2,
             "#de77ae"
            ],
            [
             0.3,
             "#f1b6da"
            ],
            [
             0.4,
             "#fde0ef"
            ],
            [
             0.5,
             "#f7f7f7"
            ],
            [
             0.6,
             "#e6f5d0"
            ],
            [
             0.7,
             "#b8e186"
            ],
            [
             0.8,
             "#7fbc41"
            ],
            [
             0.9,
             "#4d9221"
            ],
            [
             1,
             "#276419"
            ]
           ],
           "sequential": [
            [
             0,
             "#0d0887"
            ],
            [
             0.1111111111111111,
             "#46039f"
            ],
            [
             0.2222222222222222,
             "#7201a8"
            ],
            [
             0.3333333333333333,
             "#9c179e"
            ],
            [
             0.4444444444444444,
             "#bd3786"
            ],
            [
             0.5555555555555556,
             "#d8576b"
            ],
            [
             0.6666666666666666,
             "#ed7953"
            ],
            [
             0.7777777777777778,
             "#fb9f3a"
            ],
            [
             0.8888888888888888,
             "#fdca26"
            ],
            [
             1,
             "#f0f921"
            ]
           ],
           "sequentialminus": [
            [
             0,
             "#0d0887"
            ],
            [
             0.1111111111111111,
             "#46039f"
            ],
            [
             0.2222222222222222,
             "#7201a8"
            ],
            [
             0.3333333333333333,
             "#9c179e"
            ],
            [
             0.4444444444444444,
             "#bd3786"
            ],
            [
             0.5555555555555556,
             "#d8576b"
            ],
            [
             0.6666666666666666,
             "#ed7953"
            ],
            [
             0.7777777777777778,
             "#fb9f3a"
            ],
            [
             0.8888888888888888,
             "#fdca26"
            ],
            [
             1,
             "#f0f921"
            ]
           ]
          },
          "colorway": [
           "#636efa",
           "#EF553B",
           "#00cc96",
           "#ab63fa",
           "#FFA15A",
           "#19d3f3",
           "#FF6692",
           "#B6E880",
           "#FF97FF",
           "#FECB52"
          ],
          "font": {
           "color": "#2a3f5f"
          },
          "geo": {
           "bgcolor": "white",
           "lakecolor": "white",
           "landcolor": "#E5ECF6",
           "showlakes": true,
           "showland": true,
           "subunitcolor": "white"
          },
          "hoverlabel": {
           "align": "left"
          },
          "hovermode": "closest",
          "mapbox": {
           "style": "light"
          },
          "paper_bgcolor": "white",
          "plot_bgcolor": "#E5ECF6",
          "polar": {
           "angularaxis": {
            "gridcolor": "white",
            "linecolor": "white",
            "ticks": ""
           },
           "bgcolor": "#E5ECF6",
           "radialaxis": {
            "gridcolor": "white",
            "linecolor": "white",
            "ticks": ""
           }
          },
          "scene": {
           "xaxis": {
            "backgroundcolor": "#E5ECF6",
            "gridcolor": "white",
            "gridwidth": 2,
            "linecolor": "white",
            "showbackground": true,
            "ticks": "",
            "zerolinecolor": "white"
           },
           "yaxis": {
            "backgroundcolor": "#E5ECF6",
            "gridcolor": "white",
            "gridwidth": 2,
            "linecolor": "white",
            "showbackground": true,
            "ticks": "",
            "zerolinecolor": "white"
           },
           "zaxis": {
            "backgroundcolor": "#E5ECF6",
            "gridcolor": "white",
            "gridwidth": 2,
            "linecolor": "white",
            "showbackground": true,
            "ticks": "",
            "zerolinecolor": "white"
           }
          },
          "shapedefaults": {
           "line": {
            "color": "#2a3f5f"
           }
          },
          "ternary": {
           "aaxis": {
            "gridcolor": "white",
            "linecolor": "white",
            "ticks": ""
           },
           "baxis": {
            "gridcolor": "white",
            "linecolor": "white",
            "ticks": ""
           },
           "bgcolor": "#E5ECF6",
           "caxis": {
            "gridcolor": "white",
            "linecolor": "white",
            "ticks": ""
           }
          },
          "title": {
           "x": 0.05
          },
          "xaxis": {
           "automargin": true,
           "gridcolor": "white",
           "linecolor": "white",
           "ticks": "",
           "title": {
            "standoff": 15
           },
           "zerolinecolor": "white",
           "zerolinewidth": 2
          },
          "yaxis": {
           "automargin": true,
           "gridcolor": "white",
           "linecolor": "white",
           "ticks": "",
           "title": {
            "standoff": 15
           },
           "zerolinecolor": "white",
           "zerolinewidth": 2
          }
         }
        },
        "title": {
         "font": {
          "color": "#4D5663"
         }
        },
        "xaxis": {
         "anchor": "y",
         "domain": [
          0,
          0.2125
         ],
         "gridcolor": "#E1E5ED",
         "showgrid": false,
         "tickfont": {
          "color": "#4D5663"
         },
         "title": {
          "font": {
           "color": "#4D5663"
          },
          "text": ""
         },
         "zerolinecolor": "#E1E5ED"
        },
        "xaxis10": {
         "anchor": "y10",
         "domain": [
          0.2625,
          0.475
         ],
         "gridcolor": "#E1E5ED",
         "showgrid": false,
         "tickfont": {
          "color": "#4D5663"
         },
         "title": {
          "font": {
           "color": "#4D5663"
          },
          "text": ""
         },
         "zerolinecolor": "#E1E5ED"
        },
        "xaxis11": {
         "anchor": "y11",
         "domain": [
          0.525,
          0.7375
         ],
         "gridcolor": "#E1E5ED",
         "showgrid": false,
         "tickfont": {
          "color": "#4D5663"
         },
         "title": {
          "font": {
           "color": "#4D5663"
          },
          "text": ""
         },
         "zerolinecolor": "#E1E5ED"
        },
        "xaxis12": {
         "anchor": "y12",
         "domain": [
          0.7875,
          1
         ],
         "gridcolor": "#E1E5ED",
         "showgrid": false,
         "tickfont": {
          "color": "#4D5663"
         },
         "title": {
          "font": {
           "color": "#4D5663"
          },
          "text": ""
         },
         "zerolinecolor": "#E1E5ED"
        },
        "xaxis13": {
         "anchor": "y13",
         "domain": [
          0,
          0.2125
         ],
         "gridcolor": "#E1E5ED",
         "showgrid": false,
         "tickfont": {
          "color": "#4D5663"
         },
         "title": {
          "font": {
           "color": "#4D5663"
          },
          "text": ""
         },
         "zerolinecolor": "#E1E5ED"
        },
        "xaxis14": {
         "anchor": "y14",
         "domain": [
          0.2625,
          0.475
         ],
         "gridcolor": "#E1E5ED",
         "showgrid": false,
         "tickfont": {
          "color": "#4D5663"
         },
         "title": {
          "font": {
           "color": "#4D5663"
          },
          "text": ""
         },
         "zerolinecolor": "#E1E5ED"
        },
        "xaxis15": {
         "anchor": "y15",
         "domain": [
          0.525,
          0.7375
         ],
         "gridcolor": "#E1E5ED",
         "showgrid": false,
         "tickfont": {
          "color": "#4D5663"
         },
         "title": {
          "font": {
           "color": "#4D5663"
          },
          "text": ""
         },
         "zerolinecolor": "#E1E5ED"
        },
        "xaxis16": {
         "anchor": "y16",
         "domain": [
          0.7875,
          1
         ],
         "gridcolor": "#E1E5ED",
         "showgrid": false,
         "tickfont": {
          "color": "#4D5663"
         },
         "title": {
          "font": {
           "color": "#4D5663"
          },
          "text": ""
         },
         "zerolinecolor": "#E1E5ED"
        },
        "xaxis2": {
         "anchor": "y2",
         "domain": [
          0.2625,
          0.475
         ],
         "gridcolor": "#E1E5ED",
         "showgrid": false,
         "tickfont": {
          "color": "#4D5663"
         },
         "title": {
          "font": {
           "color": "#4D5663"
          },
          "text": ""
         },
         "zerolinecolor": "#E1E5ED"
        },
        "xaxis3": {
         "anchor": "y3",
         "domain": [
          0.525,
          0.7375
         ],
         "gridcolor": "#E1E5ED",
         "showgrid": false,
         "tickfont": {
          "color": "#4D5663"
         },
         "title": {
          "font": {
           "color": "#4D5663"
          },
          "text": ""
         },
         "zerolinecolor": "#E1E5ED"
        },
        "xaxis4": {
         "anchor": "y4",
         "domain": [
          0.7875,
          1
         ],
         "gridcolor": "#E1E5ED",
         "showgrid": false,
         "tickfont": {
          "color": "#4D5663"
         },
         "title": {
          "font": {
           "color": "#4D5663"
          },
          "text": ""
         },
         "zerolinecolor": "#E1E5ED"
        },
        "xaxis5": {
         "anchor": "y5",
         "domain": [
          0,
          0.2125
         ],
         "gridcolor": "#E1E5ED",
         "showgrid": false,
         "tickfont": {
          "color": "#4D5663"
         },
         "title": {
          "font": {
           "color": "#4D5663"
          },
          "text": ""
         },
         "zerolinecolor": "#E1E5ED"
        },
        "xaxis6": {
         "anchor": "y6",
         "domain": [
          0.2625,
          0.475
         ],
         "gridcolor": "#E1E5ED",
         "showgrid": false,
         "tickfont": {
          "color": "#4D5663"
         },
         "title": {
          "font": {
           "color": "#4D5663"
          },
          "text": ""
         },
         "zerolinecolor": "#E1E5ED"
        },
        "xaxis7": {
         "anchor": "y7",
         "domain": [
          0.525,
          0.7375
         ],
         "gridcolor": "#E1E5ED",
         "showgrid": false,
         "tickfont": {
          "color": "#4D5663"
         },
         "title": {
          "font": {
           "color": "#4D5663"
          },
          "text": ""
         },
         "zerolinecolor": "#E1E5ED"
        },
        "xaxis8": {
         "anchor": "y8",
         "domain": [
          0.7875,
          1
         ],
         "gridcolor": "#E1E5ED",
         "showgrid": false,
         "tickfont": {
          "color": "#4D5663"
         },
         "title": {
          "font": {
           "color": "#4D5663"
          },
          "text": ""
         },
         "zerolinecolor": "#E1E5ED"
        },
        "xaxis9": {
         "anchor": "y9",
         "domain": [
          0,
          0.2125
         ],
         "gridcolor": "#E1E5ED",
         "showgrid": false,
         "tickfont": {
          "color": "#4D5663"
         },
         "title": {
          "font": {
           "color": "#4D5663"
          },
          "text": ""
         },
         "zerolinecolor": "#E1E5ED"
        },
        "yaxis": {
         "anchor": "x",
         "domain": [
          0.8025,
          1
         ],
         "gridcolor": "#E1E5ED",
         "showgrid": false,
         "tickfont": {
          "color": "#4D5663"
         },
         "title": {
          "font": {
           "color": "#4D5663"
          },
          "text": ""
         },
         "zerolinecolor": "#E1E5ED"
        },
        "yaxis10": {
         "anchor": "x10",
         "domain": [
          0.2675,
          0.465
         ],
         "gridcolor": "#E1E5ED",
         "showgrid": false,
         "tickfont": {
          "color": "#4D5663"
         },
         "title": {
          "font": {
           "color": "#4D5663"
          },
          "text": ""
         },
         "zerolinecolor": "#E1E5ED"
        },
        "yaxis11": {
         "anchor": "x11",
         "domain": [
          0.2675,
          0.465
         ],
         "gridcolor": "#E1E5ED",
         "showgrid": false,
         "tickfont": {
          "color": "#4D5663"
         },
         "title": {
          "font": {
           "color": "#4D5663"
          },
          "text": ""
         },
         "zerolinecolor": "#E1E5ED"
        },
        "yaxis12": {
         "anchor": "x12",
         "domain": [
          0.2675,
          0.465
         ],
         "gridcolor": "#E1E5ED",
         "showgrid": false,
         "tickfont": {
          "color": "#4D5663"
         },
         "title": {
          "font": {
           "color": "#4D5663"
          },
          "text": ""
         },
         "zerolinecolor": "#E1E5ED"
        },
        "yaxis13": {
         "anchor": "x13",
         "domain": [
          0,
          0.1975
         ],
         "gridcolor": "#E1E5ED",
         "showgrid": false,
         "tickfont": {
          "color": "#4D5663"
         },
         "title": {
          "font": {
           "color": "#4D5663"
          },
          "text": ""
         },
         "zerolinecolor": "#E1E5ED"
        },
        "yaxis14": {
         "anchor": "x14",
         "domain": [
          0,
          0.1975
         ],
         "gridcolor": "#E1E5ED",
         "showgrid": false,
         "tickfont": {
          "color": "#4D5663"
         },
         "title": {
          "font": {
           "color": "#4D5663"
          },
          "text": ""
         },
         "zerolinecolor": "#E1E5ED"
        },
        "yaxis15": {
         "anchor": "x15",
         "domain": [
          0,
          0.1975
         ],
         "gridcolor": "#E1E5ED",
         "showgrid": false,
         "tickfont": {
          "color": "#4D5663"
         },
         "title": {
          "font": {
           "color": "#4D5663"
          },
          "text": ""
         },
         "zerolinecolor": "#E1E5ED"
        },
        "yaxis16": {
         "anchor": "x16",
         "domain": [
          0,
          0.1975
         ],
         "gridcolor": "#E1E5ED",
         "showgrid": false,
         "tickfont": {
          "color": "#4D5663"
         },
         "title": {
          "font": {
           "color": "#4D5663"
          },
          "text": ""
         },
         "zerolinecolor": "#E1E5ED"
        },
        "yaxis2": {
         "anchor": "x2",
         "domain": [
          0.8025,
          1
         ],
         "gridcolor": "#E1E5ED",
         "showgrid": false,
         "tickfont": {
          "color": "#4D5663"
         },
         "title": {
          "font": {
           "color": "#4D5663"
          },
          "text": ""
         },
         "zerolinecolor": "#E1E5ED"
        },
        "yaxis3": {
         "anchor": "x3",
         "domain": [
          0.8025,
          1
         ],
         "gridcolor": "#E1E5ED",
         "showgrid": false,
         "tickfont": {
          "color": "#4D5663"
         },
         "title": {
          "font": {
           "color": "#4D5663"
          },
          "text": ""
         },
         "zerolinecolor": "#E1E5ED"
        },
        "yaxis4": {
         "anchor": "x4",
         "domain": [
          0.8025,
          1
         ],
         "gridcolor": "#E1E5ED",
         "showgrid": false,
         "tickfont": {
          "color": "#4D5663"
         },
         "title": {
          "font": {
           "color": "#4D5663"
          },
          "text": ""
         },
         "zerolinecolor": "#E1E5ED"
        },
        "yaxis5": {
         "anchor": "x5",
         "domain": [
          0.535,
          0.7325
         ],
         "gridcolor": "#E1E5ED",
         "showgrid": false,
         "tickfont": {
          "color": "#4D5663"
         },
         "title": {
          "font": {
           "color": "#4D5663"
          },
          "text": ""
         },
         "zerolinecolor": "#E1E5ED"
        },
        "yaxis6": {
         "anchor": "x6",
         "domain": [
          0.535,
          0.7325
         ],
         "gridcolor": "#E1E5ED",
         "showgrid": false,
         "tickfont": {
          "color": "#4D5663"
         },
         "title": {
          "font": {
           "color": "#4D5663"
          },
          "text": ""
         },
         "zerolinecolor": "#E1E5ED"
        },
        "yaxis7": {
         "anchor": "x7",
         "domain": [
          0.535,
          0.7325
         ],
         "gridcolor": "#E1E5ED",
         "showgrid": false,
         "tickfont": {
          "color": "#4D5663"
         },
         "title": {
          "font": {
           "color": "#4D5663"
          },
          "text": ""
         },
         "zerolinecolor": "#E1E5ED"
        },
        "yaxis8": {
         "anchor": "x8",
         "domain": [
          0.535,
          0.7325
         ],
         "gridcolor": "#E1E5ED",
         "showgrid": false,
         "tickfont": {
          "color": "#4D5663"
         },
         "title": {
          "font": {
           "color": "#4D5663"
          },
          "text": ""
         },
         "zerolinecolor": "#E1E5ED"
        },
        "yaxis9": {
         "anchor": "x9",
         "domain": [
          0.2675,
          0.465
         ],
         "gridcolor": "#E1E5ED",
         "showgrid": false,
         "tickfont": {
          "color": "#4D5663"
         },
         "title": {
          "font": {
           "color": "#4D5663"
          },
          "text": ""
         },
         "zerolinecolor": "#E1E5ED"
        }
       }
      },
      "text/html": [
       "<div>\n",
       "        \n",
       "        \n",
       "            <div id=\"8bb1799d-5ff5-4054-bd99-e6bfc0f4a5e8\" class=\"plotly-graph-div\" style=\"height:525px; width:100%;\"></div>\n",
       "            <script type=\"text/javascript\">\n",
       "                require([\"plotly\"], function(Plotly) {\n",
       "                    window.PLOTLYENV=window.PLOTLYENV || {};\n",
       "                    window.PLOTLYENV.BASE_URL='https://plot.ly';\n",
       "                    \n",
       "                if (document.getElementById(\"8bb1799d-5ff5-4054-bd99-e6bfc0f4a5e8\")) {\n",
       "                    Plotly.newPlot(\n",
       "                        '8bb1799d-5ff5-4054-bd99-e6bfc0f4a5e8',\n",
       "                        [{\"histfunc\": \"count\", \"histnorm\": \"\", \"marker\": {\"color\": \"rgba(255, 153, 51, 1.0)\", \"line\": {\"color\": \"#4D5663\", \"width\": 1.3}}, \"name\": \"A\", \"nbinsx\": 10, \"opacity\": 0.8, \"orientation\": \"v\", \"type\": \"histogram\", \"x\": [0.0582296909058791, -0.02584525376380703, 0.00233282809989629, 1.1481746239450044, 0.24613651723675956, -1.0638018398599103, -0.21304176589290522, -0.8877953781238356, 0.2408920641467541, -0.8396975894960268, 2.0132202407596353, -1.8360206750556003, -0.2517700023746602, -1.4502799812552967, 0.4152057826772664, -0.8998644155235899, 0.5982440600673362, -0.9759069692250059, -1.1973876247754691, 0.5577122833829123, 2.310315783202372, -1.7961940534317489, -0.6572397260969888, -1.3376421186203706, 1.0608517587708919, -2.259894369695355, 1.4606925940258704, 1.8907728427394275, -0.3043119428357968, 1.9881857367303992, 0.3901698887479151, 1.3241022911963933, 1.0959833079431376, -1.2734420037321217, -1.3216363381573888, 0.834565478861918, 0.6299828498049981, 2.0786395666444015, -1.0791936006443799, -1.3790272078160453, -1.178945530656404, 0.22964243572651152, -0.029963990967407286, -0.43786137324103674, 0.6356308238712179, 0.14810106273265564, 0.5227969542030575, 1.0543535418382617, 0.02211756534029964, -0.13560799701465331, -0.5525218983218556, -1.0196807962712457, -0.2607666151406072, -0.5602173304664195, -0.6492750894074405, -0.2556935165453845, -1.0771115992625304, -0.135328085335629, -0.04464422947027891, -1.161005405176078, 0.3122523074359768, -1.6625191089294775, 0.34194335491409344, 0.16470959404488125, 1.2878181748305546, 0.5610471493377563, -1.444406167736111, 0.61479147005293, 2.7365467524952916, -0.6323625965306128, 1.276169138221677, -0.048793811614966896, -0.6086730440924935, 0.14012253128489457, -0.8621572953507786, -1.7685450434583079, 0.45581637692557153, 0.7050466998267874, 0.2814153735282505, 0.19735245724273506, -1.1781923319235064, 0.38757667877441015, 0.2906922661543077, -1.0313059627582548, 0.43284154174190126, -0.9379419695402221, -0.5102362125240482, -0.20895028756198047, 1.4035565803611778, -1.0519821869520587, 0.11992036334528934, -1.2473763817788441, -0.9440623587862923, 0.4649388980972195, 0.8891091225455513, -0.05281339848006934, 1.1826926725138664, -0.6496100176207341, 0.3463146074175848, 1.245054214730473], \"xaxis\": \"x\", \"yaxis\": \"y\"}, {\"line\": {\"color\": \"rgba(128, 128, 128, 1.0)\", \"dash\": \"solid\", \"shape\": \"linear\", \"width\": 1.3}, \"marker\": {\"size\": 2, \"symbol\": \"circle\"}, \"mode\": \"markers\", \"name\": \"A\", \"text\": \"\", \"type\": \"scatter\", \"x\": [-0.8159108900054555, -1.929941219688791, -0.03657417027881783, -1.0974209539855215, 1.052196520858351, 0.033822329120052425, 1.8176801096555568, -0.8520932618888648, 0.1782263123008412, 0.6516149971522324, -0.1914194854642487, 0.008657291528901528, -0.8148758043003251, -0.9471398783497236, -0.6061811239096245, 1.4415241885529897, 0.8851494166861117, 0.20512285715425654, -0.7302217226826899, -0.31951913686424854, 0.27231889777693935, -0.09697422065665619, -0.6649205861559219, 0.5620367857612353, 1.7533700715066436, 0.6286472913776453, -0.7855956286751903, -0.15994050635267051, 1.3518808645637923, -1.0154365693968737, -0.18050820646100885, 0.10834646519885681, 0.7096009539601019, -1.6023624543290134, 1.9871052880616062, 0.13645875362141854, -0.14633701649722333, 0.38661791094502607, -0.5619435011719726, -0.20251346230180112, 0.6479159809236236, -0.7526340518086364, -0.21918777663590203, 1.0416872919367612, -0.6468863728671859, -0.44682241371939924, 0.5847470571104231, 1.525293780434978, 1.6806985956288825, -0.40897115263895845, 0.4807243711627144, 0.4261709336642487, -0.2587232083938359, 0.4457411507797482, -0.2780131113425037, 0.6771683729554895, -0.49326884312164854, 0.378732594771927, 0.7495296141469234, -0.16621758439843407, -0.23419012280575963, -0.8429186547805513, -1.4561552722178908, -0.2133350041936494, -0.2006493898869039, -0.6181873825812856, -1.6980110048485777, -0.7626793020761945, 0.3885269527655976, -0.46412751801116825, -1.0763819235680343, -0.502238030495814, -0.28576562016979584, 0.21551527887273858, 1.8833906902942927, -0.24381875320711635, -2.0108817352692587, -1.1983839198702526, 1.4254320467638015, 0.8872957071538016, 0.2680860134619889, -0.14122802360169043, 0.17462228023424262, 0.47283501980558207, -1.5376258685767012, -0.9705267350254004, 0.26336399264955324, -0.2400452642080898, 1.3197311512694645, -0.49995857976244107, 1.1159025551961577, 0.3216947684974362, -0.06706027728631916, -0.5875192402723305, 0.2673311445431004, 1.2846262456076551, -0.25339170680358225, -0.6085930939009376, -1.3442330241206317, 0.2245819379710808], \"xaxis\": \"x2\", \"y\": [0.0582296909058791, -0.02584525376380703, 0.00233282809989629, 1.1481746239450044, 0.24613651723675956, -1.0638018398599103, -0.21304176589290522, -0.8877953781238356, 0.2408920641467541, -0.8396975894960268, 2.0132202407596353, -1.8360206750556003, -0.2517700023746602, -1.4502799812552967, 0.4152057826772664, -0.8998644155235899, 0.5982440600673362, -0.9759069692250059, -1.1973876247754691, 0.5577122833829123, 2.310315783202372, -1.7961940534317489, -0.6572397260969888, -1.3376421186203706, 1.0608517587708919, -2.259894369695355, 1.4606925940258704, 1.8907728427394275, -0.3043119428357968, 1.9881857367303992, 0.3901698887479151, 1.3241022911963933, 1.0959833079431376, -1.2734420037321217, -1.3216363381573888, 0.834565478861918, 0.6299828498049981, 2.0786395666444015, -1.0791936006443799, -1.3790272078160453, -1.178945530656404, 0.22964243572651152, -0.029963990967407286, -0.43786137324103674, 0.6356308238712179, 0.14810106273265564, 0.5227969542030575, 1.0543535418382617, 0.02211756534029964, -0.13560799701465331, -0.5525218983218556, -1.0196807962712457, -0.2607666151406072, -0.5602173304664195, -0.6492750894074405, -0.2556935165453845, -1.0771115992625304, -0.135328085335629, -0.04464422947027891, -1.161005405176078, 0.3122523074359768, -1.6625191089294775, 0.34194335491409344, 0.16470959404488125, 1.2878181748305546, 0.5610471493377563, -1.444406167736111, 0.61479147005293, 2.7365467524952916, -0.6323625965306128, 1.276169138221677, -0.048793811614966896, -0.6086730440924935, 0.14012253128489457, -0.8621572953507786, -1.7685450434583079, 0.45581637692557153, 0.7050466998267874, 0.2814153735282505, 0.19735245724273506, -1.1781923319235064, 0.38757667877441015, 0.2906922661543077, -1.0313059627582548, 0.43284154174190126, -0.9379419695402221, -0.5102362125240482, -0.20895028756198047, 1.4035565803611778, -1.0519821869520587, 0.11992036334528934, -1.2473763817788441, -0.9440623587862923, 0.4649388980972195, 0.8891091225455513, -0.05281339848006934, 1.1826926725138664, -0.6496100176207341, 0.3463146074175848, 1.245054214730473], \"yaxis\": \"y2\"}, {\"line\": {\"color\": \"rgba(128, 128, 128, 1.0)\", \"dash\": \"solid\", \"shape\": \"linear\", \"width\": 1.3}, \"marker\": {\"size\": 2, \"symbol\": \"circle\"}, \"mode\": \"markers\", \"name\": \"A\", \"text\": \"\", \"type\": \"scatter\", \"x\": [0.43871609511090787, 1.4473330691369668, 0.6874111683344055, -0.31830361917415323, -0.5388382120744102, 1.1472562118002556, 0.3108509723492838, -1.3504297177585811, -0.14717944001590125, -1.0161980003072821, 1.3184133201786352, -0.8948859154766784, 0.8063427125028101, 0.9860023990235437, 0.43278295758782576, -0.3383168473212901, 0.7828525506565561, 0.32430811014547267, -0.18366489259377278, -1.332807951441942, 0.5855231884301786, -1.49399951258357, 1.2729131978144108, 0.4707613042946522, -0.15732217966894335, -0.17112350219909944, 0.5150453019363858, -0.09683419800777998, -1.15464030183148, -0.7066758730513744, -2.043606659974553, -1.1509322374051534, 0.025658807784838335, 1.4898157970226003, -0.0694685513661873, -0.49791651474279414, -0.2308514320585353, -0.6633259576742246, -0.9314528895000233, 0.09268399022199766, 1.0546179913330427, 0.3788253128204955, -0.45268150440564836, 1.0874294053375568, -0.34893154879565674, 1.8290703884373203, 1.5101181036839537, 1.037309456079722, 0.3829273390259377, -0.8115479160466885, 0.2280149619931508, -0.07314365291412171, 1.5185510594580172, 0.38025651373434205, -0.31398670655601696, 0.23485782245543066, 1.1932516814328331, 0.7988138783475844, 1.66087199827985, -0.6170009187598181, -0.7119327765997175, -0.11955345486924777, -0.1193429287162214, -0.12603845313457776, 0.39552766114983606, -2.444805418961324, -1.8397723832514499, 0.4039665619307871, -0.06783876623717149, -1.2309948870786396, 0.5080633094564294, 0.42442792825012743, -0.7768402727229322, -0.4146941899464075, -0.2628708720580322, 1.4093531835016053, -0.4842787587197417, -0.3086872018435643, 0.5792988275599643, 0.0558835015664736, -0.12724666807294763, -1.1301366568389613, -0.4086617935908518, -1.1272226118648105, 0.7706661363871762, -0.9247291559968152, -1.0955838666800826, 2.8036692006315556, -0.9094835797650551, 1.5471447420104867, 0.38896465749503334, -1.0990917939504126, 0.7516162725463826, 0.5370950423084296, 0.304979022360758, -0.13901930820177436, 1.0047496987928615, -1.5709449363201675, 0.42863972150130747, -0.33579753215298636], \"xaxis\": \"x3\", \"y\": [0.0582296909058791, -0.02584525376380703, 0.00233282809989629, 1.1481746239450044, 0.24613651723675956, -1.0638018398599103, -0.21304176589290522, -0.8877953781238356, 0.2408920641467541, -0.8396975894960268, 2.0132202407596353, -1.8360206750556003, -0.2517700023746602, -1.4502799812552967, 0.4152057826772664, -0.8998644155235899, 0.5982440600673362, -0.9759069692250059, -1.1973876247754691, 0.5577122833829123, 2.310315783202372, -1.7961940534317489, -0.6572397260969888, -1.3376421186203706, 1.0608517587708919, -2.259894369695355, 1.4606925940258704, 1.8907728427394275, -0.3043119428357968, 1.9881857367303992, 0.3901698887479151, 1.3241022911963933, 1.0959833079431376, -1.2734420037321217, -1.3216363381573888, 0.834565478861918, 0.6299828498049981, 2.0786395666444015, -1.0791936006443799, -1.3790272078160453, -1.178945530656404, 0.22964243572651152, -0.029963990967407286, -0.43786137324103674, 0.6356308238712179, 0.14810106273265564, 0.5227969542030575, 1.0543535418382617, 0.02211756534029964, -0.13560799701465331, -0.5525218983218556, -1.0196807962712457, -0.2607666151406072, -0.5602173304664195, -0.6492750894074405, -0.2556935165453845, -1.0771115992625304, -0.135328085335629, -0.04464422947027891, -1.161005405176078, 0.3122523074359768, -1.6625191089294775, 0.34194335491409344, 0.16470959404488125, 1.2878181748305546, 0.5610471493377563, -1.444406167736111, 0.61479147005293, 2.7365467524952916, -0.6323625965306128, 1.276169138221677, -0.048793811614966896, -0.6086730440924935, 0.14012253128489457, -0.8621572953507786, -1.7685450434583079, 0.45581637692557153, 0.7050466998267874, 0.2814153735282505, 0.19735245724273506, -1.1781923319235064, 0.38757667877441015, 0.2906922661543077, -1.0313059627582548, 0.43284154174190126, -0.9379419695402221, -0.5102362125240482, -0.20895028756198047, 1.4035565803611778, -1.0519821869520587, 0.11992036334528934, -1.2473763817788441, -0.9440623587862923, 0.4649388980972195, 0.8891091225455513, -0.05281339848006934, 1.1826926725138664, -0.6496100176207341, 0.3463146074175848, 1.245054214730473], \"yaxis\": \"y3\"}, {\"line\": {\"color\": \"rgba(128, 128, 128, 1.0)\", \"dash\": \"solid\", \"shape\": \"linear\", \"width\": 1.3}, \"marker\": {\"size\": 2, \"symbol\": \"circle\"}, \"mode\": \"markers\", \"name\": \"A\", \"text\": \"\", \"type\": \"scatter\", \"x\": [2.201870845090954, -0.11919198952453913, -0.6491147989395194, -1.0940323419087372, 1.3064805387565284, 1.0053933644146675, -1.1468493721755817, 0.43702934200597154, -1.5708817313388244, -0.30228893508853805, -0.5452580360626557, -0.6639695116112655, -0.7955940426938466, -1.6467518219836184, 0.2809329436516192, 0.14816821598707555, -0.4569463150690023, 0.04102322118889885, -0.7803672256411665, -1.697062848956333, 1.3222147203484962, -0.6493948068909241, 0.020214620878222216, -0.9785074303145862, 0.24463538527559575, 0.21899280568001356, 0.8289256885409623, -0.9661404506426933, 1.0709167568846587, -2.1446864458641937, 0.7126038142063271, 0.8037657660529335, -1.0438570754660648, -2.1764801619754595, 1.0065744258730616, -1.7085546146187438, 1.6157853000776756, -0.24005886773007004, 0.06041741995551127, -1.9754554368134523, -0.130103722338268, -1.9289900950205006, -0.20432004986579816, 0.7844358300465218, -0.01648696797537042, -1.0990716369251219, -1.1203384263813874, -0.5298781553667351, -0.25166010107420206, -0.10803187499062224, 0.9720371690989861, 0.14084278106626988, 0.958340609712445, 1.139130689135666, 0.6121010152679732, 1.1702006779163139, 3.438950303702981, -0.014582542305240784, 0.8969948486842586, -0.2847005272765262, -1.294676153711721, 0.1659703625257675, -1.4039308452256145, -0.8682886248582745, 1.2273913987468628, -0.21245180779807538, -0.5573543417006175, -0.04325035409627915, -0.3782549331129301, -0.8676228692532127, -0.8943592217689184, -1.0963084188028802, -0.19948952305435813, 0.04615393001258242, 0.3963388838875445, -1.1901818013837535, -0.42342500377745523, 1.6854298977467543, 1.5202474035952782, 1.5642876877114285, 2.783931915616514, -1.0969162983690433, -0.10200943946234767, 0.7458397850902051, -1.0361207524087017, 2.2613414374373075, -0.9658009592653757, 1.1048347049010612, -0.5491332908200294, -0.03513322127822818, 0.8502999061377614, -0.11253047805429914, 0.888899794382401, -0.39557630308169334, 1.8346182851644055, 0.4963586915785833, -0.8857741719895674, 1.6585853035436051, -0.018411933912376614, -1.080819440204162], \"xaxis\": \"x4\", \"y\": [0.0582296909058791, -0.02584525376380703, 0.00233282809989629, 1.1481746239450044, 0.24613651723675956, -1.0638018398599103, -0.21304176589290522, -0.8877953781238356, 0.2408920641467541, -0.8396975894960268, 2.0132202407596353, -1.8360206750556003, -0.2517700023746602, -1.4502799812552967, 0.4152057826772664, -0.8998644155235899, 0.5982440600673362, -0.9759069692250059, -1.1973876247754691, 0.5577122833829123, 2.310315783202372, -1.7961940534317489, -0.6572397260969888, -1.3376421186203706, 1.0608517587708919, -2.259894369695355, 1.4606925940258704, 1.8907728427394275, -0.3043119428357968, 1.9881857367303992, 0.3901698887479151, 1.3241022911963933, 1.0959833079431376, -1.2734420037321217, -1.3216363381573888, 0.834565478861918, 0.6299828498049981, 2.0786395666444015, -1.0791936006443799, -1.3790272078160453, -1.178945530656404, 0.22964243572651152, -0.029963990967407286, -0.43786137324103674, 0.6356308238712179, 0.14810106273265564, 0.5227969542030575, 1.0543535418382617, 0.02211756534029964, -0.13560799701465331, -0.5525218983218556, -1.0196807962712457, -0.2607666151406072, -0.5602173304664195, -0.6492750894074405, -0.2556935165453845, -1.0771115992625304, -0.135328085335629, -0.04464422947027891, -1.161005405176078, 0.3122523074359768, -1.6625191089294775, 0.34194335491409344, 0.16470959404488125, 1.2878181748305546, 0.5610471493377563, -1.444406167736111, 0.61479147005293, 2.7365467524952916, -0.6323625965306128, 1.276169138221677, -0.048793811614966896, -0.6086730440924935, 0.14012253128489457, -0.8621572953507786, -1.7685450434583079, 0.45581637692557153, 0.7050466998267874, 0.2814153735282505, 0.19735245724273506, -1.1781923319235064, 0.38757667877441015, 0.2906922661543077, -1.0313059627582548, 0.43284154174190126, -0.9379419695402221, -0.5102362125240482, -0.20895028756198047, 1.4035565803611778, -1.0519821869520587, 0.11992036334528934, -1.2473763817788441, -0.9440623587862923, 0.4649388980972195, 0.8891091225455513, -0.05281339848006934, 1.1826926725138664, -0.6496100176207341, 0.3463146074175848, 1.245054214730473], \"yaxis\": \"y4\"}, {\"line\": {\"color\": \"rgba(128, 128, 128, 1.0)\", \"dash\": \"solid\", \"shape\": \"linear\", \"width\": 1.3}, \"marker\": {\"size\": 2, \"symbol\": \"circle\"}, \"mode\": \"markers\", \"name\": \"B\", \"text\": \"\", \"type\": \"scatter\", \"x\": [0.0582296909058791, -0.02584525376380703, 0.00233282809989629, 1.1481746239450044, 0.24613651723675956, -1.0638018398599103, -0.21304176589290522, -0.8877953781238356, 0.2408920641467541, -0.8396975894960268, 2.0132202407596353, -1.8360206750556003, -0.2517700023746602, -1.4502799812552967, 0.4152057826772664, -0.8998644155235899, 0.5982440600673362, -0.9759069692250059, -1.1973876247754691, 0.5577122833829123, 2.310315783202372, -1.7961940534317489, -0.6572397260969888, -1.3376421186203706, 1.0608517587708919, -2.259894369695355, 1.4606925940258704, 1.8907728427394275, -0.3043119428357968, 1.9881857367303992, 0.3901698887479151, 1.3241022911963933, 1.0959833079431376, -1.2734420037321217, -1.3216363381573888, 0.834565478861918, 0.6299828498049981, 2.0786395666444015, -1.0791936006443799, -1.3790272078160453, -1.178945530656404, 0.22964243572651152, -0.029963990967407286, -0.43786137324103674, 0.6356308238712179, 0.14810106273265564, 0.5227969542030575, 1.0543535418382617, 0.02211756534029964, -0.13560799701465331, -0.5525218983218556, -1.0196807962712457, -0.2607666151406072, -0.5602173304664195, -0.6492750894074405, -0.2556935165453845, -1.0771115992625304, -0.135328085335629, -0.04464422947027891, -1.161005405176078, 0.3122523074359768, -1.6625191089294775, 0.34194335491409344, 0.16470959404488125, 1.2878181748305546, 0.5610471493377563, -1.444406167736111, 0.61479147005293, 2.7365467524952916, -0.6323625965306128, 1.276169138221677, -0.048793811614966896, -0.6086730440924935, 0.14012253128489457, -0.8621572953507786, -1.7685450434583079, 0.45581637692557153, 0.7050466998267874, 0.2814153735282505, 0.19735245724273506, -1.1781923319235064, 0.38757667877441015, 0.2906922661543077, -1.0313059627582548, 0.43284154174190126, -0.9379419695402221, -0.5102362125240482, -0.20895028756198047, 1.4035565803611778, -1.0519821869520587, 0.11992036334528934, -1.2473763817788441, -0.9440623587862923, 0.4649388980972195, 0.8891091225455513, -0.05281339848006934, 1.1826926725138664, -0.6496100176207341, 0.3463146074175848, 1.245054214730473], \"xaxis\": \"x5\", \"y\": [-0.8159108900054555, -1.929941219688791, -0.03657417027881783, -1.0974209539855215, 1.052196520858351, 0.033822329120052425, 1.8176801096555568, -0.8520932618888648, 0.1782263123008412, 0.6516149971522324, -0.1914194854642487, 0.008657291528901528, -0.8148758043003251, -0.9471398783497236, -0.6061811239096245, 1.4415241885529897, 0.8851494166861117, 0.20512285715425654, -0.7302217226826899, -0.31951913686424854, 0.27231889777693935, -0.09697422065665619, -0.6649205861559219, 0.5620367857612353, 1.7533700715066436, 0.6286472913776453, -0.7855956286751903, -0.15994050635267051, 1.3518808645637923, -1.0154365693968737, -0.18050820646100885, 0.10834646519885681, 0.7096009539601019, -1.6023624543290134, 1.9871052880616062, 0.13645875362141854, -0.14633701649722333, 0.38661791094502607, -0.5619435011719726, -0.20251346230180112, 0.6479159809236236, -0.7526340518086364, -0.21918777663590203, 1.0416872919367612, -0.6468863728671859, -0.44682241371939924, 0.5847470571104231, 1.525293780434978, 1.6806985956288825, -0.40897115263895845, 0.4807243711627144, 0.4261709336642487, -0.2587232083938359, 0.4457411507797482, -0.2780131113425037, 0.6771683729554895, -0.49326884312164854, 0.378732594771927, 0.7495296141469234, -0.16621758439843407, -0.23419012280575963, -0.8429186547805513, -1.4561552722178908, -0.2133350041936494, -0.2006493898869039, -0.6181873825812856, -1.6980110048485777, -0.7626793020761945, 0.3885269527655976, -0.46412751801116825, -1.0763819235680343, -0.502238030495814, -0.28576562016979584, 0.21551527887273858, 1.8833906902942927, -0.24381875320711635, -2.0108817352692587, -1.1983839198702526, 1.4254320467638015, 0.8872957071538016, 0.2680860134619889, -0.14122802360169043, 0.17462228023424262, 0.47283501980558207, -1.5376258685767012, -0.9705267350254004, 0.26336399264955324, -0.2400452642080898, 1.3197311512694645, -0.49995857976244107, 1.1159025551961577, 0.3216947684974362, -0.06706027728631916, -0.5875192402723305, 0.2673311445431004, 1.2846262456076551, -0.25339170680358225, -0.6085930939009376, -1.3442330241206317, 0.2245819379710808], \"yaxis\": \"y5\"}, {\"histfunc\": \"count\", \"histnorm\": \"\", \"marker\": {\"color\": \"rgba(55, 128, 191, 1.0)\", \"line\": {\"color\": \"#4D5663\", \"width\": 1.3}}, \"name\": \"B\", \"nbinsx\": 10, \"opacity\": 0.8, \"orientation\": \"v\", \"type\": \"histogram\", \"x\": [-0.8159108900054555, -1.929941219688791, -0.03657417027881783, -1.0974209539855215, 1.052196520858351, 0.033822329120052425, 1.8176801096555568, -0.8520932618888648, 0.1782263123008412, 0.6516149971522324, -0.1914194854642487, 0.008657291528901528, -0.8148758043003251, -0.9471398783497236, -0.6061811239096245, 1.4415241885529897, 0.8851494166861117, 0.20512285715425654, -0.7302217226826899, -0.31951913686424854, 0.27231889777693935, -0.09697422065665619, -0.6649205861559219, 0.5620367857612353, 1.7533700715066436, 0.6286472913776453, -0.7855956286751903, -0.15994050635267051, 1.3518808645637923, -1.0154365693968737, -0.18050820646100885, 0.10834646519885681, 0.7096009539601019, -1.6023624543290134, 1.9871052880616062, 0.13645875362141854, -0.14633701649722333, 0.38661791094502607, -0.5619435011719726, -0.20251346230180112, 0.6479159809236236, -0.7526340518086364, -0.21918777663590203, 1.0416872919367612, -0.6468863728671859, -0.44682241371939924, 0.5847470571104231, 1.525293780434978, 1.6806985956288825, -0.40897115263895845, 0.4807243711627144, 0.4261709336642487, -0.2587232083938359, 0.4457411507797482, -0.2780131113425037, 0.6771683729554895, -0.49326884312164854, 0.378732594771927, 0.7495296141469234, -0.16621758439843407, -0.23419012280575963, -0.8429186547805513, -1.4561552722178908, -0.2133350041936494, -0.2006493898869039, -0.6181873825812856, -1.6980110048485777, -0.7626793020761945, 0.3885269527655976, -0.46412751801116825, -1.0763819235680343, -0.502238030495814, -0.28576562016979584, 0.21551527887273858, 1.8833906902942927, -0.24381875320711635, -2.0108817352692587, -1.1983839198702526, 1.4254320467638015, 0.8872957071538016, 0.2680860134619889, -0.14122802360169043, 0.17462228023424262, 0.47283501980558207, -1.5376258685767012, -0.9705267350254004, 0.26336399264955324, -0.2400452642080898, 1.3197311512694645, -0.49995857976244107, 1.1159025551961577, 0.3216947684974362, -0.06706027728631916, -0.5875192402723305, 0.2673311445431004, 1.2846262456076551, -0.25339170680358225, -0.6085930939009376, -1.3442330241206317, 0.2245819379710808], \"xaxis\": \"x6\", \"yaxis\": \"y6\"}, {\"line\": {\"color\": \"rgba(128, 128, 128, 1.0)\", \"dash\": \"solid\", \"shape\": \"linear\", \"width\": 1.3}, \"marker\": {\"size\": 2, \"symbol\": \"circle\"}, \"mode\": \"markers\", \"name\": \"B\", \"text\": \"\", \"type\": \"scatter\", \"x\": [0.43871609511090787, 1.4473330691369668, 0.6874111683344055, -0.31830361917415323, -0.5388382120744102, 1.1472562118002556, 0.3108509723492838, -1.3504297177585811, -0.14717944001590125, -1.0161980003072821, 1.3184133201786352, -0.8948859154766784, 0.8063427125028101, 0.9860023990235437, 0.43278295758782576, -0.3383168473212901, 0.7828525506565561, 0.32430811014547267, -0.18366489259377278, -1.332807951441942, 0.5855231884301786, -1.49399951258357, 1.2729131978144108, 0.4707613042946522, -0.15732217966894335, -0.17112350219909944, 0.5150453019363858, -0.09683419800777998, -1.15464030183148, -0.7066758730513744, -2.043606659974553, -1.1509322374051534, 0.025658807784838335, 1.4898157970226003, -0.0694685513661873, -0.49791651474279414, -0.2308514320585353, -0.6633259576742246, -0.9314528895000233, 0.09268399022199766, 1.0546179913330427, 0.3788253128204955, -0.45268150440564836, 1.0874294053375568, -0.34893154879565674, 1.8290703884373203, 1.5101181036839537, 1.037309456079722, 0.3829273390259377, -0.8115479160466885, 0.2280149619931508, -0.07314365291412171, 1.5185510594580172, 0.38025651373434205, -0.31398670655601696, 0.23485782245543066, 1.1932516814328331, 0.7988138783475844, 1.66087199827985, -0.6170009187598181, -0.7119327765997175, -0.11955345486924777, -0.1193429287162214, -0.12603845313457776, 0.39552766114983606, -2.444805418961324, -1.8397723832514499, 0.4039665619307871, -0.06783876623717149, -1.2309948870786396, 0.5080633094564294, 0.42442792825012743, -0.7768402727229322, -0.4146941899464075, -0.2628708720580322, 1.4093531835016053, -0.4842787587197417, -0.3086872018435643, 0.5792988275599643, 0.0558835015664736, -0.12724666807294763, -1.1301366568389613, -0.4086617935908518, -1.1272226118648105, 0.7706661363871762, -0.9247291559968152, -1.0955838666800826, 2.8036692006315556, -0.9094835797650551, 1.5471447420104867, 0.38896465749503334, -1.0990917939504126, 0.7516162725463826, 0.5370950423084296, 0.304979022360758, -0.13901930820177436, 1.0047496987928615, -1.5709449363201675, 0.42863972150130747, -0.33579753215298636], \"xaxis\": \"x7\", \"y\": [-0.8159108900054555, -1.929941219688791, -0.03657417027881783, -1.0974209539855215, 1.052196520858351, 0.033822329120052425, 1.8176801096555568, -0.8520932618888648, 0.1782263123008412, 0.6516149971522324, -0.1914194854642487, 0.008657291528901528, -0.8148758043003251, -0.9471398783497236, -0.6061811239096245, 1.4415241885529897, 0.8851494166861117, 0.20512285715425654, -0.7302217226826899, -0.31951913686424854, 0.27231889777693935, -0.09697422065665619, -0.6649205861559219, 0.5620367857612353, 1.7533700715066436, 0.6286472913776453, -0.7855956286751903, -0.15994050635267051, 1.3518808645637923, -1.0154365693968737, -0.18050820646100885, 0.10834646519885681, 0.7096009539601019, -1.6023624543290134, 1.9871052880616062, 0.13645875362141854, -0.14633701649722333, 0.38661791094502607, -0.5619435011719726, -0.20251346230180112, 0.6479159809236236, -0.7526340518086364, -0.21918777663590203, 1.0416872919367612, -0.6468863728671859, -0.44682241371939924, 0.5847470571104231, 1.525293780434978, 1.6806985956288825, -0.40897115263895845, 0.4807243711627144, 0.4261709336642487, -0.2587232083938359, 0.4457411507797482, -0.2780131113425037, 0.6771683729554895, -0.49326884312164854, 0.378732594771927, 0.7495296141469234, -0.16621758439843407, -0.23419012280575963, -0.8429186547805513, -1.4561552722178908, -0.2133350041936494, -0.2006493898869039, -0.6181873825812856, -1.6980110048485777, -0.7626793020761945, 0.3885269527655976, -0.46412751801116825, -1.0763819235680343, -0.502238030495814, -0.28576562016979584, 0.21551527887273858, 1.8833906902942927, -0.24381875320711635, -2.0108817352692587, -1.1983839198702526, 1.4254320467638015, 0.8872957071538016, 0.2680860134619889, -0.14122802360169043, 0.17462228023424262, 0.47283501980558207, -1.5376258685767012, -0.9705267350254004, 0.26336399264955324, -0.2400452642080898, 1.3197311512694645, -0.49995857976244107, 1.1159025551961577, 0.3216947684974362, -0.06706027728631916, -0.5875192402723305, 0.2673311445431004, 1.2846262456076551, -0.25339170680358225, -0.6085930939009376, -1.3442330241206317, 0.2245819379710808], \"yaxis\": \"y7\"}, {\"line\": {\"color\": \"rgba(128, 128, 128, 1.0)\", \"dash\": \"solid\", \"shape\": \"linear\", \"width\": 1.3}, \"marker\": {\"size\": 2, \"symbol\": \"circle\"}, \"mode\": \"markers\", \"name\": \"B\", \"text\": \"\", \"type\": \"scatter\", \"x\": [2.201870845090954, -0.11919198952453913, -0.6491147989395194, -1.0940323419087372, 1.3064805387565284, 1.0053933644146675, -1.1468493721755817, 0.43702934200597154, -1.5708817313388244, -0.30228893508853805, -0.5452580360626557, -0.6639695116112655, -0.7955940426938466, -1.6467518219836184, 0.2809329436516192, 0.14816821598707555, -0.4569463150690023, 0.04102322118889885, -0.7803672256411665, -1.697062848956333, 1.3222147203484962, -0.6493948068909241, 0.020214620878222216, -0.9785074303145862, 0.24463538527559575, 0.21899280568001356, 0.8289256885409623, -0.9661404506426933, 1.0709167568846587, -2.1446864458641937, 0.7126038142063271, 0.8037657660529335, -1.0438570754660648, -2.1764801619754595, 1.0065744258730616, -1.7085546146187438, 1.6157853000776756, -0.24005886773007004, 0.06041741995551127, -1.9754554368134523, -0.130103722338268, -1.9289900950205006, -0.20432004986579816, 0.7844358300465218, -0.01648696797537042, -1.0990716369251219, -1.1203384263813874, -0.5298781553667351, -0.25166010107420206, -0.10803187499062224, 0.9720371690989861, 0.14084278106626988, 0.958340609712445, 1.139130689135666, 0.6121010152679732, 1.1702006779163139, 3.438950303702981, -0.014582542305240784, 0.8969948486842586, -0.2847005272765262, -1.294676153711721, 0.1659703625257675, -1.4039308452256145, -0.8682886248582745, 1.2273913987468628, -0.21245180779807538, -0.5573543417006175, -0.04325035409627915, -0.3782549331129301, -0.8676228692532127, -0.8943592217689184, -1.0963084188028802, -0.19948952305435813, 0.04615393001258242, 0.3963388838875445, -1.1901818013837535, -0.42342500377745523, 1.6854298977467543, 1.5202474035952782, 1.5642876877114285, 2.783931915616514, -1.0969162983690433, -0.10200943946234767, 0.7458397850902051, -1.0361207524087017, 2.2613414374373075, -0.9658009592653757, 1.1048347049010612, -0.5491332908200294, -0.03513322127822818, 0.8502999061377614, -0.11253047805429914, 0.888899794382401, -0.39557630308169334, 1.8346182851644055, 0.4963586915785833, -0.8857741719895674, 1.6585853035436051, -0.018411933912376614, -1.080819440204162], \"xaxis\": \"x8\", \"y\": [-0.8159108900054555, -1.929941219688791, -0.03657417027881783, -1.0974209539855215, 1.052196520858351, 0.033822329120052425, 1.8176801096555568, -0.8520932618888648, 0.1782263123008412, 0.6516149971522324, -0.1914194854642487, 0.008657291528901528, -0.8148758043003251, -0.9471398783497236, -0.6061811239096245, 1.4415241885529897, 0.8851494166861117, 0.20512285715425654, -0.7302217226826899, -0.31951913686424854, 0.27231889777693935, -0.09697422065665619, -0.6649205861559219, 0.5620367857612353, 1.7533700715066436, 0.6286472913776453, -0.7855956286751903, -0.15994050635267051, 1.3518808645637923, -1.0154365693968737, -0.18050820646100885, 0.10834646519885681, 0.7096009539601019, -1.6023624543290134, 1.9871052880616062, 0.13645875362141854, -0.14633701649722333, 0.38661791094502607, -0.5619435011719726, -0.20251346230180112, 0.6479159809236236, -0.7526340518086364, -0.21918777663590203, 1.0416872919367612, -0.6468863728671859, -0.44682241371939924, 0.5847470571104231, 1.525293780434978, 1.6806985956288825, -0.40897115263895845, 0.4807243711627144, 0.4261709336642487, -0.2587232083938359, 0.4457411507797482, -0.2780131113425037, 0.6771683729554895, -0.49326884312164854, 0.378732594771927, 0.7495296141469234, -0.16621758439843407, -0.23419012280575963, -0.8429186547805513, -1.4561552722178908, -0.2133350041936494, -0.2006493898869039, -0.6181873825812856, -1.6980110048485777, -0.7626793020761945, 0.3885269527655976, -0.46412751801116825, -1.0763819235680343, -0.502238030495814, -0.28576562016979584, 0.21551527887273858, 1.8833906902942927, -0.24381875320711635, -2.0108817352692587, -1.1983839198702526, 1.4254320467638015, 0.8872957071538016, 0.2680860134619889, -0.14122802360169043, 0.17462228023424262, 0.47283501980558207, -1.5376258685767012, -0.9705267350254004, 0.26336399264955324, -0.2400452642080898, 1.3197311512694645, -0.49995857976244107, 1.1159025551961577, 0.3216947684974362, -0.06706027728631916, -0.5875192402723305, 0.2673311445431004, 1.2846262456076551, -0.25339170680358225, -0.6085930939009376, -1.3442330241206317, 0.2245819379710808], \"yaxis\": \"y8\"}, {\"line\": {\"color\": \"rgba(128, 128, 128, 1.0)\", \"dash\": \"solid\", \"shape\": \"linear\", \"width\": 1.3}, \"marker\": {\"size\": 2, \"symbol\": \"circle\"}, \"mode\": \"markers\", \"name\": \"C\", \"text\": \"\", \"type\": \"scatter\", \"x\": [0.0582296909058791, -0.02584525376380703, 0.00233282809989629, 1.1481746239450044, 0.24613651723675956, -1.0638018398599103, -0.21304176589290522, -0.8877953781238356, 0.2408920641467541, -0.8396975894960268, 2.0132202407596353, -1.8360206750556003, -0.2517700023746602, -1.4502799812552967, 0.4152057826772664, -0.8998644155235899, 0.5982440600673362, -0.9759069692250059, -1.1973876247754691, 0.5577122833829123, 2.310315783202372, -1.7961940534317489, -0.6572397260969888, -1.3376421186203706, 1.0608517587708919, -2.259894369695355, 1.4606925940258704, 1.8907728427394275, -0.3043119428357968, 1.9881857367303992, 0.3901698887479151, 1.3241022911963933, 1.0959833079431376, -1.2734420037321217, -1.3216363381573888, 0.834565478861918, 0.6299828498049981, 2.0786395666444015, -1.0791936006443799, -1.3790272078160453, -1.178945530656404, 0.22964243572651152, -0.029963990967407286, -0.43786137324103674, 0.6356308238712179, 0.14810106273265564, 0.5227969542030575, 1.0543535418382617, 0.02211756534029964, -0.13560799701465331, -0.5525218983218556, -1.0196807962712457, -0.2607666151406072, -0.5602173304664195, -0.6492750894074405, -0.2556935165453845, -1.0771115992625304, -0.135328085335629, -0.04464422947027891, -1.161005405176078, 0.3122523074359768, -1.6625191089294775, 0.34194335491409344, 0.16470959404488125, 1.2878181748305546, 0.5610471493377563, -1.444406167736111, 0.61479147005293, 2.7365467524952916, -0.6323625965306128, 1.276169138221677, -0.048793811614966896, -0.6086730440924935, 0.14012253128489457, -0.8621572953507786, -1.7685450434583079, 0.45581637692557153, 0.7050466998267874, 0.2814153735282505, 0.19735245724273506, -1.1781923319235064, 0.38757667877441015, 0.2906922661543077, -1.0313059627582548, 0.43284154174190126, -0.9379419695402221, -0.5102362125240482, -0.20895028756198047, 1.4035565803611778, -1.0519821869520587, 0.11992036334528934, -1.2473763817788441, -0.9440623587862923, 0.4649388980972195, 0.8891091225455513, -0.05281339848006934, 1.1826926725138664, -0.6496100176207341, 0.3463146074175848, 1.245054214730473], \"xaxis\": \"x9\", \"y\": [0.43871609511090787, 1.4473330691369668, 0.6874111683344055, -0.31830361917415323, -0.5388382120744102, 1.1472562118002556, 0.3108509723492838, -1.3504297177585811, -0.14717944001590125, -1.0161980003072821, 1.3184133201786352, -0.8948859154766784, 0.8063427125028101, 0.9860023990235437, 0.43278295758782576, -0.3383168473212901, 0.7828525506565561, 0.32430811014547267, -0.18366489259377278, -1.332807951441942, 0.5855231884301786, -1.49399951258357, 1.2729131978144108, 0.4707613042946522, -0.15732217966894335, -0.17112350219909944, 0.5150453019363858, -0.09683419800777998, -1.15464030183148, -0.7066758730513744, -2.043606659974553, -1.1509322374051534, 0.025658807784838335, 1.4898157970226003, -0.0694685513661873, -0.49791651474279414, -0.2308514320585353, -0.6633259576742246, -0.9314528895000233, 0.09268399022199766, 1.0546179913330427, 0.3788253128204955, -0.45268150440564836, 1.0874294053375568, -0.34893154879565674, 1.8290703884373203, 1.5101181036839537, 1.037309456079722, 0.3829273390259377, -0.8115479160466885, 0.2280149619931508, -0.07314365291412171, 1.5185510594580172, 0.38025651373434205, -0.31398670655601696, 0.23485782245543066, 1.1932516814328331, 0.7988138783475844, 1.66087199827985, -0.6170009187598181, -0.7119327765997175, -0.11955345486924777, -0.1193429287162214, -0.12603845313457776, 0.39552766114983606, -2.444805418961324, -1.8397723832514499, 0.4039665619307871, -0.06783876623717149, -1.2309948870786396, 0.5080633094564294, 0.42442792825012743, -0.7768402727229322, -0.4146941899464075, -0.2628708720580322, 1.4093531835016053, -0.4842787587197417, -0.3086872018435643, 0.5792988275599643, 0.0558835015664736, -0.12724666807294763, -1.1301366568389613, -0.4086617935908518, -1.1272226118648105, 0.7706661363871762, -0.9247291559968152, -1.0955838666800826, 2.8036692006315556, -0.9094835797650551, 1.5471447420104867, 0.38896465749503334, -1.0990917939504126, 0.7516162725463826, 0.5370950423084296, 0.304979022360758, -0.13901930820177436, 1.0047496987928615, -1.5709449363201675, 0.42863972150130747, -0.33579753215298636], \"yaxis\": \"y9\"}, {\"line\": {\"color\": \"rgba(128, 128, 128, 1.0)\", \"dash\": \"solid\", \"shape\": \"linear\", \"width\": 1.3}, \"marker\": {\"size\": 2, \"symbol\": \"circle\"}, \"mode\": \"markers\", \"name\": \"C\", \"text\": \"\", \"type\": \"scatter\", \"x\": [-0.8159108900054555, -1.929941219688791, -0.03657417027881783, -1.0974209539855215, 1.052196520858351, 0.033822329120052425, 1.8176801096555568, -0.8520932618888648, 0.1782263123008412, 0.6516149971522324, -0.1914194854642487, 0.008657291528901528, -0.8148758043003251, -0.9471398783497236, -0.6061811239096245, 1.4415241885529897, 0.8851494166861117, 0.20512285715425654, -0.7302217226826899, -0.31951913686424854, 0.27231889777693935, -0.09697422065665619, -0.6649205861559219, 0.5620367857612353, 1.7533700715066436, 0.6286472913776453, -0.7855956286751903, -0.15994050635267051, 1.3518808645637923, -1.0154365693968737, -0.18050820646100885, 0.10834646519885681, 0.7096009539601019, -1.6023624543290134, 1.9871052880616062, 0.13645875362141854, -0.14633701649722333, 0.38661791094502607, -0.5619435011719726, -0.20251346230180112, 0.6479159809236236, -0.7526340518086364, -0.21918777663590203, 1.0416872919367612, -0.6468863728671859, -0.44682241371939924, 0.5847470571104231, 1.525293780434978, 1.6806985956288825, -0.40897115263895845, 0.4807243711627144, 0.4261709336642487, -0.2587232083938359, 0.4457411507797482, -0.2780131113425037, 0.6771683729554895, -0.49326884312164854, 0.378732594771927, 0.7495296141469234, -0.16621758439843407, -0.23419012280575963, -0.8429186547805513, -1.4561552722178908, -0.2133350041936494, -0.2006493898869039, -0.6181873825812856, -1.6980110048485777, -0.7626793020761945, 0.3885269527655976, -0.46412751801116825, -1.0763819235680343, -0.502238030495814, -0.28576562016979584, 0.21551527887273858, 1.8833906902942927, -0.24381875320711635, -2.0108817352692587, -1.1983839198702526, 1.4254320467638015, 0.8872957071538016, 0.2680860134619889, -0.14122802360169043, 0.17462228023424262, 0.47283501980558207, -1.5376258685767012, -0.9705267350254004, 0.26336399264955324, -0.2400452642080898, 1.3197311512694645, -0.49995857976244107, 1.1159025551961577, 0.3216947684974362, -0.06706027728631916, -0.5875192402723305, 0.2673311445431004, 1.2846262456076551, -0.25339170680358225, -0.6085930939009376, -1.3442330241206317, 0.2245819379710808], \"xaxis\": \"x10\", \"y\": [0.43871609511090787, 1.4473330691369668, 0.6874111683344055, -0.31830361917415323, -0.5388382120744102, 1.1472562118002556, 0.3108509723492838, -1.3504297177585811, -0.14717944001590125, -1.0161980003072821, 1.3184133201786352, -0.8948859154766784, 0.8063427125028101, 0.9860023990235437, 0.43278295758782576, -0.3383168473212901, 0.7828525506565561, 0.32430811014547267, -0.18366489259377278, -1.332807951441942, 0.5855231884301786, -1.49399951258357, 1.2729131978144108, 0.4707613042946522, -0.15732217966894335, -0.17112350219909944, 0.5150453019363858, -0.09683419800777998, -1.15464030183148, -0.7066758730513744, -2.043606659974553, -1.1509322374051534, 0.025658807784838335, 1.4898157970226003, -0.0694685513661873, -0.49791651474279414, -0.2308514320585353, -0.6633259576742246, -0.9314528895000233, 0.09268399022199766, 1.0546179913330427, 0.3788253128204955, -0.45268150440564836, 1.0874294053375568, -0.34893154879565674, 1.8290703884373203, 1.5101181036839537, 1.037309456079722, 0.3829273390259377, -0.8115479160466885, 0.2280149619931508, -0.07314365291412171, 1.5185510594580172, 0.38025651373434205, -0.31398670655601696, 0.23485782245543066, 1.1932516814328331, 0.7988138783475844, 1.66087199827985, -0.6170009187598181, -0.7119327765997175, -0.11955345486924777, -0.1193429287162214, -0.12603845313457776, 0.39552766114983606, -2.444805418961324, -1.8397723832514499, 0.4039665619307871, -0.06783876623717149, -1.2309948870786396, 0.5080633094564294, 0.42442792825012743, -0.7768402727229322, -0.4146941899464075, -0.2628708720580322, 1.4093531835016053, -0.4842787587197417, -0.3086872018435643, 0.5792988275599643, 0.0558835015664736, -0.12724666807294763, -1.1301366568389613, -0.4086617935908518, -1.1272226118648105, 0.7706661363871762, -0.9247291559968152, -1.0955838666800826, 2.8036692006315556, -0.9094835797650551, 1.5471447420104867, 0.38896465749503334, -1.0990917939504126, 0.7516162725463826, 0.5370950423084296, 0.304979022360758, -0.13901930820177436, 1.0047496987928615, -1.5709449363201675, 0.42863972150130747, -0.33579753215298636], \"yaxis\": \"y10\"}, {\"histfunc\": \"count\", \"histnorm\": \"\", \"marker\": {\"color\": \"rgba(50, 171, 96, 1.0)\", \"line\": {\"color\": \"#4D5663\", \"width\": 1.3}}, \"name\": \"C\", \"nbinsx\": 10, \"opacity\": 0.8, \"orientation\": \"v\", \"type\": \"histogram\", \"x\": [0.43871609511090787, 1.4473330691369668, 0.6874111683344055, -0.31830361917415323, -0.5388382120744102, 1.1472562118002556, 0.3108509723492838, -1.3504297177585811, -0.14717944001590125, -1.0161980003072821, 1.3184133201786352, -0.8948859154766784, 0.8063427125028101, 0.9860023990235437, 0.43278295758782576, -0.3383168473212901, 0.7828525506565561, 0.32430811014547267, -0.18366489259377278, -1.332807951441942, 0.5855231884301786, -1.49399951258357, 1.2729131978144108, 0.4707613042946522, -0.15732217966894335, -0.17112350219909944, 0.5150453019363858, -0.09683419800777998, -1.15464030183148, -0.7066758730513744, -2.043606659974553, -1.1509322374051534, 0.025658807784838335, 1.4898157970226003, -0.0694685513661873, -0.49791651474279414, -0.2308514320585353, -0.6633259576742246, -0.9314528895000233, 0.09268399022199766, 1.0546179913330427, 0.3788253128204955, -0.45268150440564836, 1.0874294053375568, -0.34893154879565674, 1.8290703884373203, 1.5101181036839537, 1.037309456079722, 0.3829273390259377, -0.8115479160466885, 0.2280149619931508, -0.07314365291412171, 1.5185510594580172, 0.38025651373434205, -0.31398670655601696, 0.23485782245543066, 1.1932516814328331, 0.7988138783475844, 1.66087199827985, -0.6170009187598181, -0.7119327765997175, -0.11955345486924777, -0.1193429287162214, -0.12603845313457776, 0.39552766114983606, -2.444805418961324, -1.8397723832514499, 0.4039665619307871, -0.06783876623717149, -1.2309948870786396, 0.5080633094564294, 0.42442792825012743, -0.7768402727229322, -0.4146941899464075, -0.2628708720580322, 1.4093531835016053, -0.4842787587197417, -0.3086872018435643, 0.5792988275599643, 0.0558835015664736, -0.12724666807294763, -1.1301366568389613, -0.4086617935908518, -1.1272226118648105, 0.7706661363871762, -0.9247291559968152, -1.0955838666800826, 2.8036692006315556, -0.9094835797650551, 1.5471447420104867, 0.38896465749503334, -1.0990917939504126, 0.7516162725463826, 0.5370950423084296, 0.304979022360758, -0.13901930820177436, 1.0047496987928615, -1.5709449363201675, 0.42863972150130747, -0.33579753215298636], \"xaxis\": \"x11\", \"yaxis\": \"y11\"}, {\"line\": {\"color\": \"rgba(128, 128, 128, 1.0)\", \"dash\": \"solid\", \"shape\": \"linear\", \"width\": 1.3}, \"marker\": {\"size\": 2, \"symbol\": \"circle\"}, \"mode\": \"markers\", \"name\": \"C\", \"text\": \"\", \"type\": \"scatter\", \"x\": [2.201870845090954, -0.11919198952453913, -0.6491147989395194, -1.0940323419087372, 1.3064805387565284, 1.0053933644146675, -1.1468493721755817, 0.43702934200597154, -1.5708817313388244, -0.30228893508853805, -0.5452580360626557, -0.6639695116112655, -0.7955940426938466, -1.6467518219836184, 0.2809329436516192, 0.14816821598707555, -0.4569463150690023, 0.04102322118889885, -0.7803672256411665, -1.697062848956333, 1.3222147203484962, -0.6493948068909241, 0.020214620878222216, -0.9785074303145862, 0.24463538527559575, 0.21899280568001356, 0.8289256885409623, -0.9661404506426933, 1.0709167568846587, -2.1446864458641937, 0.7126038142063271, 0.8037657660529335, -1.0438570754660648, -2.1764801619754595, 1.0065744258730616, -1.7085546146187438, 1.6157853000776756, -0.24005886773007004, 0.06041741995551127, -1.9754554368134523, -0.130103722338268, -1.9289900950205006, -0.20432004986579816, 0.7844358300465218, -0.01648696797537042, -1.0990716369251219, -1.1203384263813874, -0.5298781553667351, -0.25166010107420206, -0.10803187499062224, 0.9720371690989861, 0.14084278106626988, 0.958340609712445, 1.139130689135666, 0.6121010152679732, 1.1702006779163139, 3.438950303702981, -0.014582542305240784, 0.8969948486842586, -0.2847005272765262, -1.294676153711721, 0.1659703625257675, -1.4039308452256145, -0.8682886248582745, 1.2273913987468628, -0.21245180779807538, -0.5573543417006175, -0.04325035409627915, -0.3782549331129301, -0.8676228692532127, -0.8943592217689184, -1.0963084188028802, -0.19948952305435813, 0.04615393001258242, 0.3963388838875445, -1.1901818013837535, -0.42342500377745523, 1.6854298977467543, 1.5202474035952782, 1.5642876877114285, 2.783931915616514, -1.0969162983690433, -0.10200943946234767, 0.7458397850902051, -1.0361207524087017, 2.2613414374373075, -0.9658009592653757, 1.1048347049010612, -0.5491332908200294, -0.03513322127822818, 0.8502999061377614, -0.11253047805429914, 0.888899794382401, -0.39557630308169334, 1.8346182851644055, 0.4963586915785833, -0.8857741719895674, 1.6585853035436051, -0.018411933912376614, -1.080819440204162], \"xaxis\": \"x12\", \"y\": [0.43871609511090787, 1.4473330691369668, 0.6874111683344055, -0.31830361917415323, -0.5388382120744102, 1.1472562118002556, 0.3108509723492838, -1.3504297177585811, -0.14717944001590125, -1.0161980003072821, 1.3184133201786352, -0.8948859154766784, 0.8063427125028101, 0.9860023990235437, 0.43278295758782576, -0.3383168473212901, 0.7828525506565561, 0.32430811014547267, -0.18366489259377278, -1.332807951441942, 0.5855231884301786, -1.49399951258357, 1.2729131978144108, 0.4707613042946522, -0.15732217966894335, -0.17112350219909944, 0.5150453019363858, -0.09683419800777998, -1.15464030183148, -0.7066758730513744, -2.043606659974553, -1.1509322374051534, 0.025658807784838335, 1.4898157970226003, -0.0694685513661873, -0.49791651474279414, -0.2308514320585353, -0.6633259576742246, -0.9314528895000233, 0.09268399022199766, 1.0546179913330427, 0.3788253128204955, -0.45268150440564836, 1.0874294053375568, -0.34893154879565674, 1.8290703884373203, 1.5101181036839537, 1.037309456079722, 0.3829273390259377, -0.8115479160466885, 0.2280149619931508, -0.07314365291412171, 1.5185510594580172, 0.38025651373434205, -0.31398670655601696, 0.23485782245543066, 1.1932516814328331, 0.7988138783475844, 1.66087199827985, -0.6170009187598181, -0.7119327765997175, -0.11955345486924777, -0.1193429287162214, -0.12603845313457776, 0.39552766114983606, -2.444805418961324, -1.8397723832514499, 0.4039665619307871, -0.06783876623717149, -1.2309948870786396, 0.5080633094564294, 0.42442792825012743, -0.7768402727229322, -0.4146941899464075, -0.2628708720580322, 1.4093531835016053, -0.4842787587197417, -0.3086872018435643, 0.5792988275599643, 0.0558835015664736, -0.12724666807294763, -1.1301366568389613, -0.4086617935908518, -1.1272226118648105, 0.7706661363871762, -0.9247291559968152, -1.0955838666800826, 2.8036692006315556, -0.9094835797650551, 1.5471447420104867, 0.38896465749503334, -1.0990917939504126, 0.7516162725463826, 0.5370950423084296, 0.304979022360758, -0.13901930820177436, 1.0047496987928615, -1.5709449363201675, 0.42863972150130747, -0.33579753215298636], \"yaxis\": \"y12\"}, {\"line\": {\"color\": \"rgba(128, 128, 128, 1.0)\", \"dash\": \"solid\", \"shape\": \"linear\", \"width\": 1.3}, \"marker\": {\"size\": 2, \"symbol\": \"circle\"}, \"mode\": \"markers\", \"name\": \"D\", \"text\": \"\", \"type\": \"scatter\", \"x\": [0.0582296909058791, -0.02584525376380703, 0.00233282809989629, 1.1481746239450044, 0.24613651723675956, -1.0638018398599103, -0.21304176589290522, -0.8877953781238356, 0.2408920641467541, -0.8396975894960268, 2.0132202407596353, -1.8360206750556003, -0.2517700023746602, -1.4502799812552967, 0.4152057826772664, -0.8998644155235899, 0.5982440600673362, -0.9759069692250059, -1.1973876247754691, 0.5577122833829123, 2.310315783202372, -1.7961940534317489, -0.6572397260969888, -1.3376421186203706, 1.0608517587708919, -2.259894369695355, 1.4606925940258704, 1.8907728427394275, -0.3043119428357968, 1.9881857367303992, 0.3901698887479151, 1.3241022911963933, 1.0959833079431376, -1.2734420037321217, -1.3216363381573888, 0.834565478861918, 0.6299828498049981, 2.0786395666444015, -1.0791936006443799, -1.3790272078160453, -1.178945530656404, 0.22964243572651152, -0.029963990967407286, -0.43786137324103674, 0.6356308238712179, 0.14810106273265564, 0.5227969542030575, 1.0543535418382617, 0.02211756534029964, -0.13560799701465331, -0.5525218983218556, -1.0196807962712457, -0.2607666151406072, -0.5602173304664195, -0.6492750894074405, -0.2556935165453845, -1.0771115992625304, -0.135328085335629, -0.04464422947027891, -1.161005405176078, 0.3122523074359768, -1.6625191089294775, 0.34194335491409344, 0.16470959404488125, 1.2878181748305546, 0.5610471493377563, -1.444406167736111, 0.61479147005293, 2.7365467524952916, -0.6323625965306128, 1.276169138221677, -0.048793811614966896, -0.6086730440924935, 0.14012253128489457, -0.8621572953507786, -1.7685450434583079, 0.45581637692557153, 0.7050466998267874, 0.2814153735282505, 0.19735245724273506, -1.1781923319235064, 0.38757667877441015, 0.2906922661543077, -1.0313059627582548, 0.43284154174190126, -0.9379419695402221, -0.5102362125240482, -0.20895028756198047, 1.4035565803611778, -1.0519821869520587, 0.11992036334528934, -1.2473763817788441, -0.9440623587862923, 0.4649388980972195, 0.8891091225455513, -0.05281339848006934, 1.1826926725138664, -0.6496100176207341, 0.3463146074175848, 1.245054214730473], \"xaxis\": \"x13\", \"y\": [2.201870845090954, -0.11919198952453913, -0.6491147989395194, -1.0940323419087372, 1.3064805387565284, 1.0053933644146675, -1.1468493721755817, 0.43702934200597154, -1.5708817313388244, -0.30228893508853805, -0.5452580360626557, -0.6639695116112655, -0.7955940426938466, -1.6467518219836184, 0.2809329436516192, 0.14816821598707555, -0.4569463150690023, 0.04102322118889885, -0.7803672256411665, -1.697062848956333, 1.3222147203484962, -0.6493948068909241, 0.020214620878222216, -0.9785074303145862, 0.24463538527559575, 0.21899280568001356, 0.8289256885409623, -0.9661404506426933, 1.0709167568846587, -2.1446864458641937, 0.7126038142063271, 0.8037657660529335, -1.0438570754660648, -2.1764801619754595, 1.0065744258730616, -1.7085546146187438, 1.6157853000776756, -0.24005886773007004, 0.06041741995551127, -1.9754554368134523, -0.130103722338268, -1.9289900950205006, -0.20432004986579816, 0.7844358300465218, -0.01648696797537042, -1.0990716369251219, -1.1203384263813874, -0.5298781553667351, -0.25166010107420206, -0.10803187499062224, 0.9720371690989861, 0.14084278106626988, 0.958340609712445, 1.139130689135666, 0.6121010152679732, 1.1702006779163139, 3.438950303702981, -0.014582542305240784, 0.8969948486842586, -0.2847005272765262, -1.294676153711721, 0.1659703625257675, -1.4039308452256145, -0.8682886248582745, 1.2273913987468628, -0.21245180779807538, -0.5573543417006175, -0.04325035409627915, -0.3782549331129301, -0.8676228692532127, -0.8943592217689184, -1.0963084188028802, -0.19948952305435813, 0.04615393001258242, 0.3963388838875445, -1.1901818013837535, -0.42342500377745523, 1.6854298977467543, 1.5202474035952782, 1.5642876877114285, 2.783931915616514, -1.0969162983690433, -0.10200943946234767, 0.7458397850902051, -1.0361207524087017, 2.2613414374373075, -0.9658009592653757, 1.1048347049010612, -0.5491332908200294, -0.03513322127822818, 0.8502999061377614, -0.11253047805429914, 0.888899794382401, -0.39557630308169334, 1.8346182851644055, 0.4963586915785833, -0.8857741719895674, 1.6585853035436051, -0.018411933912376614, -1.080819440204162], \"yaxis\": \"y13\"}, {\"line\": {\"color\": \"rgba(128, 128, 128, 1.0)\", \"dash\": \"solid\", \"shape\": \"linear\", \"width\": 1.3}, \"marker\": {\"size\": 2, \"symbol\": \"circle\"}, \"mode\": \"markers\", \"name\": \"D\", \"text\": \"\", \"type\": \"scatter\", \"x\": [-0.8159108900054555, -1.929941219688791, -0.03657417027881783, -1.0974209539855215, 1.052196520858351, 0.033822329120052425, 1.8176801096555568, -0.8520932618888648, 0.1782263123008412, 0.6516149971522324, -0.1914194854642487, 0.008657291528901528, -0.8148758043003251, -0.9471398783497236, -0.6061811239096245, 1.4415241885529897, 0.8851494166861117, 0.20512285715425654, -0.7302217226826899, -0.31951913686424854, 0.27231889777693935, -0.09697422065665619, -0.6649205861559219, 0.5620367857612353, 1.7533700715066436, 0.6286472913776453, -0.7855956286751903, -0.15994050635267051, 1.3518808645637923, -1.0154365693968737, -0.18050820646100885, 0.10834646519885681, 0.7096009539601019, -1.6023624543290134, 1.9871052880616062, 0.13645875362141854, -0.14633701649722333, 0.38661791094502607, -0.5619435011719726, -0.20251346230180112, 0.6479159809236236, -0.7526340518086364, -0.21918777663590203, 1.0416872919367612, -0.6468863728671859, -0.44682241371939924, 0.5847470571104231, 1.525293780434978, 1.6806985956288825, -0.40897115263895845, 0.4807243711627144, 0.4261709336642487, -0.2587232083938359, 0.4457411507797482, -0.2780131113425037, 0.6771683729554895, -0.49326884312164854, 0.378732594771927, 0.7495296141469234, -0.16621758439843407, -0.23419012280575963, -0.8429186547805513, -1.4561552722178908, -0.2133350041936494, -0.2006493898869039, -0.6181873825812856, -1.6980110048485777, -0.7626793020761945, 0.3885269527655976, -0.46412751801116825, -1.0763819235680343, -0.502238030495814, -0.28576562016979584, 0.21551527887273858, 1.8833906902942927, -0.24381875320711635, -2.0108817352692587, -1.1983839198702526, 1.4254320467638015, 0.8872957071538016, 0.2680860134619889, -0.14122802360169043, 0.17462228023424262, 0.47283501980558207, -1.5376258685767012, -0.9705267350254004, 0.26336399264955324, -0.2400452642080898, 1.3197311512694645, -0.49995857976244107, 1.1159025551961577, 0.3216947684974362, -0.06706027728631916, -0.5875192402723305, 0.2673311445431004, 1.2846262456076551, -0.25339170680358225, -0.6085930939009376, -1.3442330241206317, 0.2245819379710808], \"xaxis\": \"x14\", \"y\": [2.201870845090954, -0.11919198952453913, -0.6491147989395194, -1.0940323419087372, 1.3064805387565284, 1.0053933644146675, -1.1468493721755817, 0.43702934200597154, -1.5708817313388244, -0.30228893508853805, -0.5452580360626557, -0.6639695116112655, -0.7955940426938466, -1.6467518219836184, 0.2809329436516192, 0.14816821598707555, -0.4569463150690023, 0.04102322118889885, -0.7803672256411665, -1.697062848956333, 1.3222147203484962, -0.6493948068909241, 0.020214620878222216, -0.9785074303145862, 0.24463538527559575, 0.21899280568001356, 0.8289256885409623, -0.9661404506426933, 1.0709167568846587, -2.1446864458641937, 0.7126038142063271, 0.8037657660529335, -1.0438570754660648, -2.1764801619754595, 1.0065744258730616, -1.7085546146187438, 1.6157853000776756, -0.24005886773007004, 0.06041741995551127, -1.9754554368134523, -0.130103722338268, -1.9289900950205006, -0.20432004986579816, 0.7844358300465218, -0.01648696797537042, -1.0990716369251219, -1.1203384263813874, -0.5298781553667351, -0.25166010107420206, -0.10803187499062224, 0.9720371690989861, 0.14084278106626988, 0.958340609712445, 1.139130689135666, 0.6121010152679732, 1.1702006779163139, 3.438950303702981, -0.014582542305240784, 0.8969948486842586, -0.2847005272765262, -1.294676153711721, 0.1659703625257675, -1.4039308452256145, -0.8682886248582745, 1.2273913987468628, -0.21245180779807538, -0.5573543417006175, -0.04325035409627915, -0.3782549331129301, -0.8676228692532127, -0.8943592217689184, -1.0963084188028802, -0.19948952305435813, 0.04615393001258242, 0.3963388838875445, -1.1901818013837535, -0.42342500377745523, 1.6854298977467543, 1.5202474035952782, 1.5642876877114285, 2.783931915616514, -1.0969162983690433, -0.10200943946234767, 0.7458397850902051, -1.0361207524087017, 2.2613414374373075, -0.9658009592653757, 1.1048347049010612, -0.5491332908200294, -0.03513322127822818, 0.8502999061377614, -0.11253047805429914, 0.888899794382401, -0.39557630308169334, 1.8346182851644055, 0.4963586915785833, -0.8857741719895674, 1.6585853035436051, -0.018411933912376614, -1.080819440204162], \"yaxis\": \"y14\"}, {\"line\": {\"color\": \"rgba(128, 128, 128, 1.0)\", \"dash\": \"solid\", \"shape\": \"linear\", \"width\": 1.3}, \"marker\": {\"size\": 2, \"symbol\": \"circle\"}, \"mode\": \"markers\", \"name\": \"D\", \"text\": \"\", \"type\": \"scatter\", \"x\": [0.43871609511090787, 1.4473330691369668, 0.6874111683344055, -0.31830361917415323, -0.5388382120744102, 1.1472562118002556, 0.3108509723492838, -1.3504297177585811, -0.14717944001590125, -1.0161980003072821, 1.3184133201786352, -0.8948859154766784, 0.8063427125028101, 0.9860023990235437, 0.43278295758782576, -0.3383168473212901, 0.7828525506565561, 0.32430811014547267, -0.18366489259377278, -1.332807951441942, 0.5855231884301786, -1.49399951258357, 1.2729131978144108, 0.4707613042946522, -0.15732217966894335, -0.17112350219909944, 0.5150453019363858, -0.09683419800777998, -1.15464030183148, -0.7066758730513744, -2.043606659974553, -1.1509322374051534, 0.025658807784838335, 1.4898157970226003, -0.0694685513661873, -0.49791651474279414, -0.2308514320585353, -0.6633259576742246, -0.9314528895000233, 0.09268399022199766, 1.0546179913330427, 0.3788253128204955, -0.45268150440564836, 1.0874294053375568, -0.34893154879565674, 1.8290703884373203, 1.5101181036839537, 1.037309456079722, 0.3829273390259377, -0.8115479160466885, 0.2280149619931508, -0.07314365291412171, 1.5185510594580172, 0.38025651373434205, -0.31398670655601696, 0.23485782245543066, 1.1932516814328331, 0.7988138783475844, 1.66087199827985, -0.6170009187598181, -0.7119327765997175, -0.11955345486924777, -0.1193429287162214, -0.12603845313457776, 0.39552766114983606, -2.444805418961324, -1.8397723832514499, 0.4039665619307871, -0.06783876623717149, -1.2309948870786396, 0.5080633094564294, 0.42442792825012743, -0.7768402727229322, -0.4146941899464075, -0.2628708720580322, 1.4093531835016053, -0.4842787587197417, -0.3086872018435643, 0.5792988275599643, 0.0558835015664736, -0.12724666807294763, -1.1301366568389613, -0.4086617935908518, -1.1272226118648105, 0.7706661363871762, -0.9247291559968152, -1.0955838666800826, 2.8036692006315556, -0.9094835797650551, 1.5471447420104867, 0.38896465749503334, -1.0990917939504126, 0.7516162725463826, 0.5370950423084296, 0.304979022360758, -0.13901930820177436, 1.0047496987928615, -1.5709449363201675, 0.42863972150130747, -0.33579753215298636], \"xaxis\": \"x15\", \"y\": [2.201870845090954, -0.11919198952453913, -0.6491147989395194, -1.0940323419087372, 1.3064805387565284, 1.0053933644146675, -1.1468493721755817, 0.43702934200597154, -1.5708817313388244, -0.30228893508853805, -0.5452580360626557, -0.6639695116112655, -0.7955940426938466, -1.6467518219836184, 0.2809329436516192, 0.14816821598707555, -0.4569463150690023, 0.04102322118889885, -0.7803672256411665, -1.697062848956333, 1.3222147203484962, -0.6493948068909241, 0.020214620878222216, -0.9785074303145862, 0.24463538527559575, 0.21899280568001356, 0.8289256885409623, -0.9661404506426933, 1.0709167568846587, -2.1446864458641937, 0.7126038142063271, 0.8037657660529335, -1.0438570754660648, -2.1764801619754595, 1.0065744258730616, -1.7085546146187438, 1.6157853000776756, -0.24005886773007004, 0.06041741995551127, -1.9754554368134523, -0.130103722338268, -1.9289900950205006, -0.20432004986579816, 0.7844358300465218, -0.01648696797537042, -1.0990716369251219, -1.1203384263813874, -0.5298781553667351, -0.25166010107420206, -0.10803187499062224, 0.9720371690989861, 0.14084278106626988, 0.958340609712445, 1.139130689135666, 0.6121010152679732, 1.1702006779163139, 3.438950303702981, -0.014582542305240784, 0.8969948486842586, -0.2847005272765262, -1.294676153711721, 0.1659703625257675, -1.4039308452256145, -0.8682886248582745, 1.2273913987468628, -0.21245180779807538, -0.5573543417006175, -0.04325035409627915, -0.3782549331129301, -0.8676228692532127, -0.8943592217689184, -1.0963084188028802, -0.19948952305435813, 0.04615393001258242, 0.3963388838875445, -1.1901818013837535, -0.42342500377745523, 1.6854298977467543, 1.5202474035952782, 1.5642876877114285, 2.783931915616514, -1.0969162983690433, -0.10200943946234767, 0.7458397850902051, -1.0361207524087017, 2.2613414374373075, -0.9658009592653757, 1.1048347049010612, -0.5491332908200294, -0.03513322127822818, 0.8502999061377614, -0.11253047805429914, 0.888899794382401, -0.39557630308169334, 1.8346182851644055, 0.4963586915785833, -0.8857741719895674, 1.6585853035436051, -0.018411933912376614, -1.080819440204162], \"yaxis\": \"y15\"}, {\"histfunc\": \"count\", \"histnorm\": \"\", \"marker\": {\"color\": \"rgba(128, 0, 128, 1.0)\", \"line\": {\"color\": \"#4D5663\", \"width\": 1.3}}, \"name\": \"D\", \"nbinsx\": 10, \"opacity\": 0.8, \"orientation\": \"v\", \"type\": \"histogram\", \"x\": [2.201870845090954, -0.11919198952453913, -0.6491147989395194, -1.0940323419087372, 1.3064805387565284, 1.0053933644146675, -1.1468493721755817, 0.43702934200597154, -1.5708817313388244, -0.30228893508853805, -0.5452580360626557, -0.6639695116112655, -0.7955940426938466, -1.6467518219836184, 0.2809329436516192, 0.14816821598707555, -0.4569463150690023, 0.04102322118889885, -0.7803672256411665, -1.697062848956333, 1.3222147203484962, -0.6493948068909241, 0.020214620878222216, -0.9785074303145862, 0.24463538527559575, 0.21899280568001356, 0.8289256885409623, -0.9661404506426933, 1.0709167568846587, -2.1446864458641937, 0.7126038142063271, 0.8037657660529335, -1.0438570754660648, -2.1764801619754595, 1.0065744258730616, -1.7085546146187438, 1.6157853000776756, -0.24005886773007004, 0.06041741995551127, -1.9754554368134523, -0.130103722338268, -1.9289900950205006, -0.20432004986579816, 0.7844358300465218, -0.01648696797537042, -1.0990716369251219, -1.1203384263813874, -0.5298781553667351, -0.25166010107420206, -0.10803187499062224, 0.9720371690989861, 0.14084278106626988, 0.958340609712445, 1.139130689135666, 0.6121010152679732, 1.1702006779163139, 3.438950303702981, -0.014582542305240784, 0.8969948486842586, -0.2847005272765262, -1.294676153711721, 0.1659703625257675, -1.4039308452256145, -0.8682886248582745, 1.2273913987468628, -0.21245180779807538, -0.5573543417006175, -0.04325035409627915, -0.3782549331129301, -0.8676228692532127, -0.8943592217689184, -1.0963084188028802, -0.19948952305435813, 0.04615393001258242, 0.3963388838875445, -1.1901818013837535, -0.42342500377745523, 1.6854298977467543, 1.5202474035952782, 1.5642876877114285, 2.783931915616514, -1.0969162983690433, -0.10200943946234767, 0.7458397850902051, -1.0361207524087017, 2.2613414374373075, -0.9658009592653757, 1.1048347049010612, -0.5491332908200294, -0.03513322127822818, 0.8502999061377614, -0.11253047805429914, 0.888899794382401, -0.39557630308169334, 1.8346182851644055, 0.4963586915785833, -0.8857741719895674, 1.6585853035436051, -0.018411933912376614, -1.080819440204162], \"xaxis\": \"x16\", \"yaxis\": \"y16\"}],\n",
       "                        {\"bargap\": 0.02, \"legend\": {\"bgcolor\": \"#F5F6F9\", \"font\": {\"color\": \"#4D5663\"}}, \"paper_bgcolor\": \"#F5F6F9\", \"plot_bgcolor\": \"#F5F6F9\", \"showlegend\": false, \"template\": {\"data\": {\"bar\": [{\"error_x\": {\"color\": \"#2a3f5f\"}, \"error_y\": {\"color\": \"#2a3f5f\"}, \"marker\": {\"line\": {\"color\": \"#E5ECF6\", \"width\": 0.5}}, \"type\": \"bar\"}], \"barpolar\": [{\"marker\": {\"line\": {\"color\": \"#E5ECF6\", \"width\": 0.5}}, \"type\": \"barpolar\"}], \"carpet\": [{\"aaxis\": {\"endlinecolor\": \"#2a3f5f\", \"gridcolor\": \"white\", \"linecolor\": \"white\", \"minorgridcolor\": \"white\", \"startlinecolor\": \"#2a3f5f\"}, \"baxis\": {\"endlinecolor\": \"#2a3f5f\", \"gridcolor\": \"white\", \"linecolor\": \"white\", \"minorgridcolor\": \"white\", \"startlinecolor\": \"#2a3f5f\"}, \"type\": \"carpet\"}], \"choropleth\": [{\"colorbar\": {\"outlinewidth\": 0, \"ticks\": \"\"}, \"type\": \"choropleth\"}], \"contour\": [{\"colorbar\": {\"outlinewidth\": 0, \"ticks\": \"\"}, \"colorscale\": [[0.0, \"#0d0887\"], [0.1111111111111111, \"#46039f\"], [0.2222222222222222, \"#7201a8\"], [0.3333333333333333, \"#9c179e\"], [0.4444444444444444, \"#bd3786\"], [0.5555555555555556, \"#d8576b\"], [0.6666666666666666, \"#ed7953\"], [0.7777777777777778, \"#fb9f3a\"], [0.8888888888888888, \"#fdca26\"], [1.0, \"#f0f921\"]], \"type\": \"contour\"}], \"contourcarpet\": [{\"colorbar\": {\"outlinewidth\": 0, \"ticks\": \"\"}, \"type\": \"contourcarpet\"}], \"heatmap\": [{\"colorbar\": {\"outlinewidth\": 0, \"ticks\": \"\"}, \"colorscale\": [[0.0, \"#0d0887\"], [0.1111111111111111, \"#46039f\"], [0.2222222222222222, \"#7201a8\"], [0.3333333333333333, \"#9c179e\"], [0.4444444444444444, \"#bd3786\"], [0.5555555555555556, \"#d8576b\"], [0.6666666666666666, \"#ed7953\"], [0.7777777777777778, \"#fb9f3a\"], [0.8888888888888888, \"#fdca26\"], [1.0, \"#f0f921\"]], \"type\": \"heatmap\"}], \"heatmapgl\": [{\"colorbar\": {\"outlinewidth\": 0, \"ticks\": \"\"}, \"colorscale\": [[0.0, \"#0d0887\"], [0.1111111111111111, \"#46039f\"], [0.2222222222222222, \"#7201a8\"], [0.3333333333333333, \"#9c179e\"], [0.4444444444444444, \"#bd3786\"], [0.5555555555555556, \"#d8576b\"], [0.6666666666666666, \"#ed7953\"], [0.7777777777777778, \"#fb9f3a\"], [0.8888888888888888, \"#fdca26\"], [1.0, \"#f0f921\"]], \"type\": \"heatmapgl\"}], \"histogram\": [{\"marker\": {\"colorbar\": {\"outlinewidth\": 0, \"ticks\": \"\"}}, \"type\": \"histogram\"}], \"histogram2d\": [{\"colorbar\": {\"outlinewidth\": 0, \"ticks\": \"\"}, \"colorscale\": [[0.0, \"#0d0887\"], [0.1111111111111111, \"#46039f\"], [0.2222222222222222, \"#7201a8\"], [0.3333333333333333, \"#9c179e\"], [0.4444444444444444, \"#bd3786\"], [0.5555555555555556, \"#d8576b\"], [0.6666666666666666, \"#ed7953\"], [0.7777777777777778, \"#fb9f3a\"], [0.8888888888888888, \"#fdca26\"], [1.0, \"#f0f921\"]], \"type\": \"histogram2d\"}], \"histogram2dcontour\": [{\"colorbar\": {\"outlinewidth\": 0, \"ticks\": \"\"}, \"colorscale\": [[0.0, \"#0d0887\"], [0.1111111111111111, \"#46039f\"], [0.2222222222222222, \"#7201a8\"], [0.3333333333333333, \"#9c179e\"], [0.4444444444444444, \"#bd3786\"], [0.5555555555555556, \"#d8576b\"], [0.6666666666666666, \"#ed7953\"], [0.7777777777777778, \"#fb9f3a\"], [0.8888888888888888, \"#fdca26\"], [1.0, \"#f0f921\"]], \"type\": \"histogram2dcontour\"}], \"mesh3d\": [{\"colorbar\": {\"outlinewidth\": 0, \"ticks\": \"\"}, \"type\": \"mesh3d\"}], \"parcoords\": [{\"line\": {\"colorbar\": {\"outlinewidth\": 0, \"ticks\": \"\"}}, \"type\": \"parcoords\"}], \"pie\": [{\"automargin\": true, \"type\": \"pie\"}], \"scatter\": [{\"marker\": {\"colorbar\": {\"outlinewidth\": 0, \"ticks\": \"\"}}, \"type\": \"scatter\"}], \"scatter3d\": [{\"line\": {\"colorbar\": {\"outlinewidth\": 0, \"ticks\": \"\"}}, \"marker\": {\"colorbar\": {\"outlinewidth\": 0, \"ticks\": \"\"}}, \"type\": \"scatter3d\"}], \"scattercarpet\": [{\"marker\": {\"colorbar\": {\"outlinewidth\": 0, \"ticks\": \"\"}}, \"type\": \"scattercarpet\"}], \"scattergeo\": [{\"marker\": {\"colorbar\": {\"outlinewidth\": 0, \"ticks\": \"\"}}, \"type\": \"scattergeo\"}], \"scattergl\": [{\"marker\": {\"colorbar\": {\"outlinewidth\": 0, \"ticks\": \"\"}}, \"type\": \"scattergl\"}], \"scattermapbox\": [{\"marker\": {\"colorbar\": {\"outlinewidth\": 0, \"ticks\": \"\"}}, \"type\": \"scattermapbox\"}], \"scatterpolar\": [{\"marker\": {\"colorbar\": {\"outlinewidth\": 0, \"ticks\": \"\"}}, \"type\": \"scatterpolar\"}], \"scatterpolargl\": [{\"marker\": {\"colorbar\": {\"outlinewidth\": 0, \"ticks\": \"\"}}, \"type\": \"scatterpolargl\"}], \"scatterternary\": [{\"marker\": {\"colorbar\": {\"outlinewidth\": 0, \"ticks\": \"\"}}, \"type\": \"scatterternary\"}], \"surface\": [{\"colorbar\": {\"outlinewidth\": 0, \"ticks\": \"\"}, \"colorscale\": [[0.0, \"#0d0887\"], [0.1111111111111111, \"#46039f\"], [0.2222222222222222, \"#7201a8\"], [0.3333333333333333, \"#9c179e\"], [0.4444444444444444, \"#bd3786\"], [0.5555555555555556, \"#d8576b\"], [0.6666666666666666, \"#ed7953\"], [0.7777777777777778, \"#fb9f3a\"], [0.8888888888888888, \"#fdca26\"], [1.0, \"#f0f921\"]], \"type\": \"surface\"}], \"table\": [{\"cells\": {\"fill\": {\"color\": \"#EBF0F8\"}, \"line\": {\"color\": \"white\"}}, \"header\": {\"fill\": {\"color\": \"#C8D4E3\"}, \"line\": {\"color\": \"white\"}}, \"type\": \"table\"}]}, \"layout\": {\"annotationdefaults\": {\"arrowcolor\": \"#2a3f5f\", \"arrowhead\": 0, \"arrowwidth\": 1}, \"coloraxis\": {\"colorbar\": {\"outlinewidth\": 0, \"ticks\": \"\"}}, \"colorscale\": {\"diverging\": [[0, \"#8e0152\"], [0.1, \"#c51b7d\"], [0.2, \"#de77ae\"], [0.3, \"#f1b6da\"], [0.4, \"#fde0ef\"], [0.5, \"#f7f7f7\"], [0.6, \"#e6f5d0\"], [0.7, \"#b8e186\"], [0.8, \"#7fbc41\"], [0.9, \"#4d9221\"], [1, \"#276419\"]], \"sequential\": [[0.0, \"#0d0887\"], [0.1111111111111111, \"#46039f\"], [0.2222222222222222, \"#7201a8\"], [0.3333333333333333, \"#9c179e\"], [0.4444444444444444, \"#bd3786\"], [0.5555555555555556, \"#d8576b\"], [0.6666666666666666, \"#ed7953\"], [0.7777777777777778, \"#fb9f3a\"], [0.8888888888888888, \"#fdca26\"], [1.0, \"#f0f921\"]], \"sequentialminus\": [[0.0, \"#0d0887\"], [0.1111111111111111, \"#46039f\"], [0.2222222222222222, \"#7201a8\"], [0.3333333333333333, \"#9c179e\"], [0.4444444444444444, \"#bd3786\"], [0.5555555555555556, \"#d8576b\"], [0.6666666666666666, \"#ed7953\"], [0.7777777777777778, \"#fb9f3a\"], [0.8888888888888888, \"#fdca26\"], [1.0, \"#f0f921\"]]}, \"colorway\": [\"#636efa\", \"#EF553B\", \"#00cc96\", \"#ab63fa\", \"#FFA15A\", \"#19d3f3\", \"#FF6692\", \"#B6E880\", \"#FF97FF\", \"#FECB52\"], \"font\": {\"color\": \"#2a3f5f\"}, \"geo\": {\"bgcolor\": \"white\", \"lakecolor\": \"white\", \"landcolor\": \"#E5ECF6\", \"showlakes\": true, \"showland\": true, \"subunitcolor\": \"white\"}, \"hoverlabel\": {\"align\": \"left\"}, \"hovermode\": \"closest\", \"mapbox\": {\"style\": \"light\"}, \"paper_bgcolor\": \"white\", \"plot_bgcolor\": \"#E5ECF6\", \"polar\": {\"angularaxis\": {\"gridcolor\": \"white\", \"linecolor\": \"white\", \"ticks\": \"\"}, \"bgcolor\": \"#E5ECF6\", \"radialaxis\": {\"gridcolor\": \"white\", \"linecolor\": \"white\", \"ticks\": \"\"}}, \"scene\": {\"xaxis\": {\"backgroundcolor\": \"#E5ECF6\", \"gridcolor\": \"white\", \"gridwidth\": 2, \"linecolor\": \"white\", \"showbackground\": true, \"ticks\": \"\", \"zerolinecolor\": \"white\"}, \"yaxis\": {\"backgroundcolor\": \"#E5ECF6\", \"gridcolor\": \"white\", \"gridwidth\": 2, \"linecolor\": \"white\", \"showbackground\": true, \"ticks\": \"\", \"zerolinecolor\": \"white\"}, \"zaxis\": {\"backgroundcolor\": \"#E5ECF6\", \"gridcolor\": \"white\", \"gridwidth\": 2, \"linecolor\": \"white\", \"showbackground\": true, \"ticks\": \"\", \"zerolinecolor\": \"white\"}}, \"shapedefaults\": {\"line\": {\"color\": \"#2a3f5f\"}}, \"ternary\": {\"aaxis\": {\"gridcolor\": \"white\", \"linecolor\": \"white\", \"ticks\": \"\"}, \"baxis\": {\"gridcolor\": \"white\", \"linecolor\": \"white\", \"ticks\": \"\"}, \"bgcolor\": \"#E5ECF6\", \"caxis\": {\"gridcolor\": \"white\", \"linecolor\": \"white\", \"ticks\": \"\"}}, \"title\": {\"x\": 0.05}, \"xaxis\": {\"automargin\": true, \"gridcolor\": \"white\", \"linecolor\": \"white\", \"ticks\": \"\", \"title\": {\"standoff\": 15}, \"zerolinecolor\": \"white\", \"zerolinewidth\": 2}, \"yaxis\": {\"automargin\": true, \"gridcolor\": \"white\", \"linecolor\": \"white\", \"ticks\": \"\", \"title\": {\"standoff\": 15}, \"zerolinecolor\": \"white\", \"zerolinewidth\": 2}}}, \"title\": {\"font\": {\"color\": \"#4D5663\"}}, \"xaxis\": {\"anchor\": \"y\", \"domain\": [0.0, 0.2125], \"gridcolor\": \"#E1E5ED\", \"showgrid\": false, \"tickfont\": {\"color\": \"#4D5663\"}, \"title\": {\"font\": {\"color\": \"#4D5663\"}, \"text\": \"\"}, \"zerolinecolor\": \"#E1E5ED\"}, \"xaxis10\": {\"anchor\": \"y10\", \"domain\": [0.2625, 0.475], \"gridcolor\": \"#E1E5ED\", \"showgrid\": false, \"tickfont\": {\"color\": \"#4D5663\"}, \"title\": {\"font\": {\"color\": \"#4D5663\"}, \"text\": \"\"}, \"zerolinecolor\": \"#E1E5ED\"}, \"xaxis11\": {\"anchor\": \"y11\", \"domain\": [0.525, 0.7375], \"gridcolor\": \"#E1E5ED\", \"showgrid\": false, \"tickfont\": {\"color\": \"#4D5663\"}, \"title\": {\"font\": {\"color\": \"#4D5663\"}, \"text\": \"\"}, \"zerolinecolor\": \"#E1E5ED\"}, \"xaxis12\": {\"anchor\": \"y12\", \"domain\": [0.7875, 1.0], \"gridcolor\": \"#E1E5ED\", \"showgrid\": false, \"tickfont\": {\"color\": \"#4D5663\"}, \"title\": {\"font\": {\"color\": \"#4D5663\"}, \"text\": \"\"}, \"zerolinecolor\": \"#E1E5ED\"}, \"xaxis13\": {\"anchor\": \"y13\", \"domain\": [0.0, 0.2125], \"gridcolor\": \"#E1E5ED\", \"showgrid\": false, \"tickfont\": {\"color\": \"#4D5663\"}, \"title\": {\"font\": {\"color\": \"#4D5663\"}, \"text\": \"\"}, \"zerolinecolor\": \"#E1E5ED\"}, \"xaxis14\": {\"anchor\": \"y14\", \"domain\": [0.2625, 0.475], \"gridcolor\": \"#E1E5ED\", \"showgrid\": false, \"tickfont\": {\"color\": \"#4D5663\"}, \"title\": {\"font\": {\"color\": \"#4D5663\"}, \"text\": \"\"}, \"zerolinecolor\": \"#E1E5ED\"}, \"xaxis15\": {\"anchor\": \"y15\", \"domain\": [0.525, 0.7375], \"gridcolor\": \"#E1E5ED\", \"showgrid\": false, \"tickfont\": {\"color\": \"#4D5663\"}, \"title\": {\"font\": {\"color\": \"#4D5663\"}, \"text\": \"\"}, \"zerolinecolor\": \"#E1E5ED\"}, \"xaxis16\": {\"anchor\": \"y16\", \"domain\": [0.7875, 1.0], \"gridcolor\": \"#E1E5ED\", \"showgrid\": false, \"tickfont\": {\"color\": \"#4D5663\"}, \"title\": {\"font\": {\"color\": \"#4D5663\"}, \"text\": \"\"}, \"zerolinecolor\": \"#E1E5ED\"}, \"xaxis2\": {\"anchor\": \"y2\", \"domain\": [0.2625, 0.475], \"gridcolor\": \"#E1E5ED\", \"showgrid\": false, \"tickfont\": {\"color\": \"#4D5663\"}, \"title\": {\"font\": {\"color\": \"#4D5663\"}, \"text\": \"\"}, \"zerolinecolor\": \"#E1E5ED\"}, \"xaxis3\": {\"anchor\": \"y3\", \"domain\": [0.525, 0.7375], \"gridcolor\": \"#E1E5ED\", \"showgrid\": false, \"tickfont\": {\"color\": \"#4D5663\"}, \"title\": {\"font\": {\"color\": \"#4D5663\"}, \"text\": \"\"}, \"zerolinecolor\": \"#E1E5ED\"}, \"xaxis4\": {\"anchor\": \"y4\", \"domain\": [0.7875, 1.0], \"gridcolor\": \"#E1E5ED\", \"showgrid\": false, \"tickfont\": {\"color\": \"#4D5663\"}, \"title\": {\"font\": {\"color\": \"#4D5663\"}, \"text\": \"\"}, \"zerolinecolor\": \"#E1E5ED\"}, \"xaxis5\": {\"anchor\": \"y5\", \"domain\": [0.0, 0.2125], \"gridcolor\": \"#E1E5ED\", \"showgrid\": false, \"tickfont\": {\"color\": \"#4D5663\"}, \"title\": {\"font\": {\"color\": \"#4D5663\"}, \"text\": \"\"}, \"zerolinecolor\": \"#E1E5ED\"}, \"xaxis6\": {\"anchor\": \"y6\", \"domain\": [0.2625, 0.475], \"gridcolor\": \"#E1E5ED\", \"showgrid\": false, \"tickfont\": {\"color\": \"#4D5663\"}, \"title\": {\"font\": {\"color\": \"#4D5663\"}, \"text\": \"\"}, \"zerolinecolor\": \"#E1E5ED\"}, \"xaxis7\": {\"anchor\": \"y7\", \"domain\": [0.525, 0.7375], \"gridcolor\": \"#E1E5ED\", \"showgrid\": false, \"tickfont\": {\"color\": \"#4D5663\"}, \"title\": {\"font\": {\"color\": \"#4D5663\"}, \"text\": \"\"}, \"zerolinecolor\": \"#E1E5ED\"}, \"xaxis8\": {\"anchor\": \"y8\", \"domain\": [0.7875, 1.0], \"gridcolor\": \"#E1E5ED\", \"showgrid\": false, \"tickfont\": {\"color\": \"#4D5663\"}, \"title\": {\"font\": {\"color\": \"#4D5663\"}, \"text\": \"\"}, \"zerolinecolor\": \"#E1E5ED\"}, \"xaxis9\": {\"anchor\": \"y9\", \"domain\": [0.0, 0.2125], \"gridcolor\": \"#E1E5ED\", \"showgrid\": false, \"tickfont\": {\"color\": \"#4D5663\"}, \"title\": {\"font\": {\"color\": \"#4D5663\"}, \"text\": \"\"}, \"zerolinecolor\": \"#E1E5ED\"}, \"yaxis\": {\"anchor\": \"x\", \"domain\": [0.8025, 1.0], \"gridcolor\": \"#E1E5ED\", \"showgrid\": false, \"tickfont\": {\"color\": \"#4D5663\"}, \"title\": {\"font\": {\"color\": \"#4D5663\"}, \"text\": \"\"}, \"zerolinecolor\": \"#E1E5ED\"}, \"yaxis10\": {\"anchor\": \"x10\", \"domain\": [0.2675, 0.465], \"gridcolor\": \"#E1E5ED\", \"showgrid\": false, \"tickfont\": {\"color\": \"#4D5663\"}, \"title\": {\"font\": {\"color\": \"#4D5663\"}, \"text\": \"\"}, \"zerolinecolor\": \"#E1E5ED\"}, \"yaxis11\": {\"anchor\": \"x11\", \"domain\": [0.2675, 0.465], \"gridcolor\": \"#E1E5ED\", \"showgrid\": false, \"tickfont\": {\"color\": \"#4D5663\"}, \"title\": {\"font\": {\"color\": \"#4D5663\"}, \"text\": \"\"}, \"zerolinecolor\": \"#E1E5ED\"}, \"yaxis12\": {\"anchor\": \"x12\", \"domain\": [0.2675, 0.465], \"gridcolor\": \"#E1E5ED\", \"showgrid\": false, \"tickfont\": {\"color\": \"#4D5663\"}, \"title\": {\"font\": {\"color\": \"#4D5663\"}, \"text\": \"\"}, \"zerolinecolor\": \"#E1E5ED\"}, \"yaxis13\": {\"anchor\": \"x13\", \"domain\": [0.0, 0.1975], \"gridcolor\": \"#E1E5ED\", \"showgrid\": false, \"tickfont\": {\"color\": \"#4D5663\"}, \"title\": {\"font\": {\"color\": \"#4D5663\"}, \"text\": \"\"}, \"zerolinecolor\": \"#E1E5ED\"}, \"yaxis14\": {\"anchor\": \"x14\", \"domain\": [0.0, 0.1975], \"gridcolor\": \"#E1E5ED\", \"showgrid\": false, \"tickfont\": {\"color\": \"#4D5663\"}, \"title\": {\"font\": {\"color\": \"#4D5663\"}, \"text\": \"\"}, \"zerolinecolor\": \"#E1E5ED\"}, \"yaxis15\": {\"anchor\": \"x15\", \"domain\": [0.0, 0.1975], \"gridcolor\": \"#E1E5ED\", \"showgrid\": false, \"tickfont\": {\"color\": \"#4D5663\"}, \"title\": {\"font\": {\"color\": \"#4D5663\"}, \"text\": \"\"}, \"zerolinecolor\": \"#E1E5ED\"}, \"yaxis16\": {\"anchor\": \"x16\", \"domain\": [0.0, 0.1975], \"gridcolor\": \"#E1E5ED\", \"showgrid\": false, \"tickfont\": {\"color\": \"#4D5663\"}, \"title\": {\"font\": {\"color\": \"#4D5663\"}, \"text\": \"\"}, \"zerolinecolor\": \"#E1E5ED\"}, \"yaxis2\": {\"anchor\": \"x2\", \"domain\": [0.8025, 1.0], \"gridcolor\": \"#E1E5ED\", \"showgrid\": false, \"tickfont\": {\"color\": \"#4D5663\"}, \"title\": {\"font\": {\"color\": \"#4D5663\"}, \"text\": \"\"}, \"zerolinecolor\": \"#E1E5ED\"}, \"yaxis3\": {\"anchor\": \"x3\", \"domain\": [0.8025, 1.0], \"gridcolor\": \"#E1E5ED\", \"showgrid\": false, \"tickfont\": {\"color\": \"#4D5663\"}, \"title\": {\"font\": {\"color\": \"#4D5663\"}, \"text\": \"\"}, \"zerolinecolor\": \"#E1E5ED\"}, \"yaxis4\": {\"anchor\": \"x4\", \"domain\": [0.8025, 1.0], \"gridcolor\": \"#E1E5ED\", \"showgrid\": false, \"tickfont\": {\"color\": \"#4D5663\"}, \"title\": {\"font\": {\"color\": \"#4D5663\"}, \"text\": \"\"}, \"zerolinecolor\": \"#E1E5ED\"}, \"yaxis5\": {\"anchor\": \"x5\", \"domain\": [0.535, 0.7325], \"gridcolor\": \"#E1E5ED\", \"showgrid\": false, \"tickfont\": {\"color\": \"#4D5663\"}, \"title\": {\"font\": {\"color\": \"#4D5663\"}, \"text\": \"\"}, \"zerolinecolor\": \"#E1E5ED\"}, \"yaxis6\": {\"anchor\": \"x6\", \"domain\": [0.535, 0.7325], \"gridcolor\": \"#E1E5ED\", \"showgrid\": false, \"tickfont\": {\"color\": \"#4D5663\"}, \"title\": {\"font\": {\"color\": \"#4D5663\"}, \"text\": \"\"}, \"zerolinecolor\": \"#E1E5ED\"}, \"yaxis7\": {\"anchor\": \"x7\", \"domain\": [0.535, 0.7325], \"gridcolor\": \"#E1E5ED\", \"showgrid\": false, \"tickfont\": {\"color\": \"#4D5663\"}, \"title\": {\"font\": {\"color\": \"#4D5663\"}, \"text\": \"\"}, \"zerolinecolor\": \"#E1E5ED\"}, \"yaxis8\": {\"anchor\": \"x8\", \"domain\": [0.535, 0.7325], \"gridcolor\": \"#E1E5ED\", \"showgrid\": false, \"tickfont\": {\"color\": \"#4D5663\"}, \"title\": {\"font\": {\"color\": \"#4D5663\"}, \"text\": \"\"}, \"zerolinecolor\": \"#E1E5ED\"}, \"yaxis9\": {\"anchor\": \"x9\", \"domain\": [0.2675, 0.465], \"gridcolor\": \"#E1E5ED\", \"showgrid\": false, \"tickfont\": {\"color\": \"#4D5663\"}, \"title\": {\"font\": {\"color\": \"#4D5663\"}, \"text\": \"\"}, \"zerolinecolor\": \"#E1E5ED\"}},\n",
       "                        {\"showLink\": true, \"linkText\": \"Export to plot.ly\", \"plotlyServerURL\": \"https://plot.ly\", \"responsive\": true}\n",
       "                    ).then(function(){\n",
       "                            \n",
       "var gd = document.getElementById('8bb1799d-5ff5-4054-bd99-e6bfc0f4a5e8');\n",
       "var x = new MutationObserver(function (mutations, observer) {{\n",
       "        var display = window.getComputedStyle(gd).display;\n",
       "        if (!display || display === 'none') {{\n",
       "            console.log([gd, 'removed!']);\n",
       "            Plotly.purge(gd);\n",
       "            observer.disconnect();\n",
       "        }}\n",
       "}});\n",
       "\n",
       "// Listen for the removal of the full notebook cells\n",
       "var notebookContainer = gd.closest('#notebook-container');\n",
       "if (notebookContainer) {{\n",
       "    x.observe(notebookContainer, {childList: true});\n",
       "}}\n",
       "\n",
       "// Listen for the clearing of the current output cell\n",
       "var outputEl = gd.closest('.output');\n",
       "if (outputEl) {{\n",
       "    x.observe(outputEl, {childList: true});\n",
       "}}\n",
       "\n",
       "                        })\n",
       "                };\n",
       "                });\n",
       "            </script>\n",
       "        </div>"
      ]
     },
     "metadata": {},
     "output_type": "display_data"
    }
   ],
   "source": [
    "df.scatter_matrix()"
   ]
  },
  {
   "cell_type": "code",
   "execution_count": null,
   "metadata": {},
   "outputs": [],
   "source": []
  }
 ],
 "metadata": {
  "kernelspec": {
   "display_name": "Python 3",
   "language": "python",
   "name": "python3"
  },
  "language_info": {
   "codemirror_mode": {
    "name": "ipython",
    "version": 3
   },
   "file_extension": ".py",
   "mimetype": "text/x-python",
   "name": "python",
   "nbconvert_exporter": "python",
   "pygments_lexer": "ipython3",
   "version": "3.6.5"
  }
 },
 "nbformat": 4,
 "nbformat_minor": 2
}
